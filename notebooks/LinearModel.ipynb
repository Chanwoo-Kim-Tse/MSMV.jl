{
 "cells": [
  {
   "cell_type": "markdown",
   "id": "9c29b3be",
   "metadata": {},
   "source": [
    "# Example MSM.jl\n",
    "\n",
    "This notebook shows how to use MSM. Our goal is to estimate the linear model using the Method of Simulated Moments (MSM). We observe a dependent variable $y_{t}$ and a set of independent variables $\\boldsymbol{x_{1}}$, ..., $\\boldsymbol{x_{t}}$, ... $\\boldsymbol{x_{T}}$ and we want to estimate the intercept $\\alpha$ and the slope coefficient $\\boldsymbol{\\beta}$ :\n",
    "\n",
    "$$ y_{t} = \\alpha + \\boldsymbol{x_{t}}\\boldsymbol{{\\beta}} + e_{t} $$\n",
    "\n",
    "where $e_{t}$ are error terms, potentially serially correlated. \n",
    "\n",
    "Here, it is clearly an overkill to use the MSM because we have a closed-form solution:\n",
    "\n",
    "$$ \\boldsymbol{\\beta_{OLS}} = (X'X)^{-1}X'y $$\n",
    "\n",
    "For the sake of this example, let's pretend we ignore the existence of this formula. By only simulating $y_{t}$, can we recover $\\boldsymbol{{\\beta}}$ and to inference on parameters?\n"
   ]
  },
  {
   "cell_type": "markdown",
   "id": "cc0cd2c0",
   "metadata": {},
   "source": [
    "## Step 0: Simulating data\n",
    "\n",
    "Let's fix the value of $\\boldsymbol{\\beta} = \\boldsymbol{\\beta_{0}}$ and simulate a sample according to the linear model described above. Our goal is to recover the true value of $\\boldsymbol{\\beta}$ using moment conditions and simulated data."
   ]
  },
  {
   "cell_type": "code",
   "execution_count": 1,
   "id": "5194a8d6",
   "metadata": {
    "scrolled": true
   },
   "outputs": [
    {
     "name": "stdout",
     "output_type": "stream",
     "text": [
      "True intercept = 0.5662374165061859\n",
      "True coefficient beta0 = [0.5908446386657102, 0.7667970365022592]\n",
      "Serial correlation coefficient theta0 = 0.0\n"
     ]
    }
   ],
   "source": [
    "using Distributions\n",
    "using Random\n",
    "Random.seed!(1234)  #for replicability reasons\n",
    "T = 100000          #number of periods\n",
    "P = 2               #number of dependent variables\n",
    "beta0 = rand(P)     #choose true coefficients by drawing from a uniform distribution on [0,1]\n",
    "alpha0 = rand(1)[]  #intercept\n",
    "theta0 = 0.0        #coefficient to create serial correlation in the error terms\n",
    "println(\"True intercept = $(alpha0)\")\n",
    "println(\"True coefficient beta0 = $(beta0)\")\n",
    "println(\"Serial correlation coefficient theta0 = $(theta0)\")\n",
    "\n",
    "# Generation of error terms\n",
    "# row = individual dimension\n",
    "# column = time dimension \n",
    "U = zeros(T)\n",
    "d = Normal()\n",
    "U[1] = rand(d, 1)[] #first error term\n",
    "# loop over time periods\n",
    "for t = 2:T\n",
    "    U[t] = rand(d, 1)[] + theta0*U[t-1]\n",
    "end"
   ]
  },
  {
   "cell_type": "code",
   "execution_count": 2,
   "id": "466670cd",
   "metadata": {},
   "outputs": [],
   "source": [
    "# Let's simulate the dependent variables x_t\n",
    "x = zeros(T, P)\n",
    "\n",
    "d = Uniform(0, 5)\n",
    "for p = 1:P  \n",
    "    x[:,p] = rand(d, T)\n",
    "end\n",
    "\n",
    "# Let's calculate the resulting y_t\n",
    "y = zeros(T)\n",
    "\n",
    "for t=1:T\n",
    "    y[t] = alpha0 + x[t,1]*beta0[1] + x[t,2]*beta0[2] + U[t]\n",
    "end"
   ]
  },
  {
   "cell_type": "markdown",
   "id": "7784afc1",
   "metadata": {},
   "source": [
    "## Step 1: Initializing a MSMProblem"
   ]
  },
  {
   "cell_type": "code",
   "execution_count": 3,
   "id": "afc649b8",
   "metadata": {},
   "outputs": [],
   "source": [
    "using MSM\n",
    "using DataStructures\n",
    "using OrderedCollections\n",
    "using Random\n",
    "using Distributions\n",
    "using Statistics\n",
    "using LinearAlgebra\n",
    "\n",
    "# Here we set the maximum number of function evaluations to be 10000.\n",
    "# We also select a global optimizer (see BlackBoxOptim.jl) and a local minimizer (see Optim.jl)\n",
    "# https://github.com/robertfeldt/BlackBoxOptim.jl\n",
    "# https://julianlsolvers.github.io/Optim.jl\n",
    "myProblem = MSMProblem(options = MSMOptions(maxFuncEvals=10000, globalOptimizer = :dxnes, localOptimizer = :LBFGS));"
   ]
  },
  {
   "cell_type": "code",
   "execution_count": 4,
   "id": "7813bd37",
   "metadata": {},
   "outputs": [
    {
     "data": {
      "text/plain": [
       "OrderedDict{String, Vector{Float64}} with 5 entries:\n",
       "  \"mean\"       => [3.95288, 3.95288]\n",
       "  \"mean_x1y\"   => [11.0611, 11.0611]\n",
       "  \"mean_x2y\"   => [11.4634, 11.4634]\n",
       "  \"mean_x1y^2\" => [203.361, 203.361]\n",
       "  \"mean_x2y^2\" => [219.249, 219.249]"
      ]
     },
     "execution_count": 4,
     "metadata": {},
     "output_type": "execute_result"
    }
   ],
   "source": [
    "dictEmpiricalMoments = OrderedDict{String,Array{Float64,1}}()\n",
    "dictEmpiricalMoments[\"mean\"] = [mean(y); mean(y)] #informative on the intercept\n",
    "dictEmpiricalMoments[\"mean_x1y\"] = [mean(x[:,1] .* y); mean(x[:,1] .* y)] #informative on betas\n",
    "dictEmpiricalMoments[\"mean_x2y\"] = [mean(x[:,2] .* y); mean(x[:,2] .* y)] #informative on betas\n",
    "dictEmpiricalMoments[\"mean_x1y^2\"] = [mean((x[:,1] .* y).^2); mean((x[:,1] .* y).^2)] #informative on betas\n",
    "dictEmpiricalMoments[\"mean_x2y^2\"] = [mean((x[:,2] .* y).^2); mean((x[:,2] .* y).^2)] #informative on betas\n",
    "\n",
    "set_empirical_moments!(myProblem, dictEmpiricalMoments)"
   ]
  },
  {
   "cell_type": "markdown",
   "id": "5531d236",
   "metadata": {},
   "source": [
    "## Step 3. Set priors\n",
    "\n",
    "One has to attach priors values the `MSMProblem` we are going to use.\n",
    "This is achieved using the function  `set_priors!()`"
   ]
  },
  {
   "cell_type": "code",
   "execution_count": 5,
   "id": "35551af2",
   "metadata": {},
   "outputs": [
    {
     "data": {
      "text/plain": [
       "OrderedDict{String, Vector{Float64}} with 3 entries:\n",
       "  \"alpha\" => [0.5, 0.001, 1.0]\n",
       "  \"beta1\" => [0.5, 0.001, 1.0]\n",
       "  \"beta2\" => [0.5, 0.001, 1.0]"
      ]
     },
     "execution_count": 5,
     "metadata": {},
     "output_type": "execute_result"
    }
   ],
   "source": [
    "dictPriors = OrderedDict{String,Array{Float64,1}}()\n",
    "dictPriors[\"alpha\"] = [0.5, 0.001, 1.0]\n",
    "dictPriors[\"beta1\"] = [0.5, 0.001, 1.0]\n",
    "dictPriors[\"beta2\"] = [0.5, 0.001, 1.0]\n",
    "\n",
    "set_priors!(myProblem, dictPriors)"
   ]
  },
  {
   "cell_type": "markdown",
   "id": "7d90d79a",
   "metadata": {},
   "source": [
    "## Step 4: Specifying the function generating simulated moments using parameter values\n",
    "\n",
    "This is maybe the most crucial step. The objective function must generate an **ordered dictionary** containing the **keys of dictEmpiricalMoments**. Importantly, we \"freeze\" randomness during the minimization step. One way to do \n",
    "that is to generate draws from a Uniform([0,1]) outside of the objective function and to use [inverse transform sampling](https://en.wikipedia.org/wiki/Inverse_transform_sampling) to generate draws from a normal distribution. Otherwise the objective function would be \"noisy\" and the minimization algorithms would have a hard time finding \n",
    "the global minimum. "
   ]
  },
  {
   "cell_type": "code",
   "execution_count": 6,
   "id": "276ff69a",
   "metadata": {},
   "outputs": [
    {
     "data": {
      "text/plain": [
       "(::MSM.var\"#objective_function_percent#6\"{MSMProblem}) (generic function with 1 method)"
      ]
     },
     "execution_count": 6,
     "metadata": {},
     "output_type": "execute_result"
    }
   ],
   "source": [
    "# x[1] corresponds to the intercept\n",
    "# x[1] corresponds to beta1\n",
    "# x[3] corresponds to beta2\n",
    "function functionLinearModel(x; uniform_draws::Array{Float64,1}, simX::Array{Float64,2}, nbDraws::Int64 = length(uniform_draws), burnInPerc::Int64 = 10)\n",
    "    T = nbDraws\n",
    "    P = 2       #number of dependent variables\n",
    "\n",
    "    alpha = x[1]\n",
    "    beta = x[2:end]\n",
    "    theta = 0.0     #coefficient to create serial correlation in the error terms\n",
    "\n",
    "    # Creation of error terms\n",
    "    # row = individual dimension\n",
    "    # column = time dimension\n",
    "    U = zeros(T)\n",
    "    d = Normal()\n",
    "    # Inverse cdf (i.e. quantile)\n",
    "    gaussian_draws = quantile.(d, uniform_draws)\n",
    "    U[1] = gaussian_draws[1] #first error term\n",
    "\n",
    "    # loop over time periods\n",
    "    for t = 2:T\n",
    "        U[t] = gaussian_draws[t] + theta*U[t-1]\n",
    "    end\n",
    "\n",
    "    # Let's calculate the resulting y_t\n",
    "    y = zeros(T)\n",
    "\n",
    "    for t=1:T\n",
    "        y[t] = alpha + simX[t,1]*beta[1] + simX[t,2]*beta[2] + U[t]\n",
    "    end\n",
    "\n",
    "    # Get rid of the burn-in phase:\n",
    "    #------------------------------\n",
    "    startT = div(nbDraws, burnInPerc)\n",
    "\n",
    "    # Moments:\n",
    "    #---------\n",
    "    output = OrderedDict{String,Float64}()\n",
    "    output[\"mean\"] = mean(y[startT:nbDraws])\n",
    "    output[\"mean_x1y\"] = mean(simX[startT:nbDraws,1] .* y[startT:nbDraws])\n",
    "    output[\"mean_x2y\"] = mean(simX[startT:nbDraws,2] .* y[startT:nbDraws])\n",
    "    output[\"mean_x1y^2\"] = mean((simX[startT:nbDraws,1] .* y[startT:nbDraws]).^2)\n",
    "    output[\"mean_x2y^2\"] = mean((simX[startT:nbDraws,2] .* y[startT:nbDraws]).^2)\n",
    "\n",
    "    return output\n",
    "end\n",
    "\n",
    "# Let's freeze the randomness during the minimization\n",
    "d_Uni = Uniform(0,1)\n",
    "nbDraws = 100000 #number of draws in the simulated data\n",
    "uniform_draws = rand(d_Uni, nbDraws)\n",
    "simX = zeros(length(uniform_draws), 2)\n",
    "d = Uniform(0, 5)\n",
    "for p = 1:2\n",
    "  simX[:,p] = rand(d, length(uniform_draws))\n",
    "end\n",
    "\n",
    "set_simulate_empirical_moments!(myProblem, x -> functionLinearModel(x, uniform_draws = uniform_draws, simX = simX))\n",
    "\n",
    "# Construct the objective function using:\n",
    "#* the function: parameter -> simulated moments\n",
    "#* emprical moments values\n",
    "#* emprical moments weights\n",
    "construct_objective_function!(myProblem)"
   ]
  },
  {
   "cell_type": "markdown",
   "id": "6ef82f0e",
   "metadata": {},
   "source": [
    "## Step 5. Running the optimization"
   ]
  },
  {
   "cell_type": "code",
   "execution_count": 7,
   "id": "0387045e",
   "metadata": {},
   "outputs": [
    {
     "name": "stdout",
     "output_type": "stream",
     "text": [
      "hello\n"
     ]
    },
    {
     "name": "stderr",
     "output_type": "stream",
     "text": [
      "┌ Info: 1 worker(s) detected\n",
      "└ @ MSM /home/julien/.julia/dev/MSM/src/generic.jl:302\n",
      "┌ Info: Starting optimization in serial\n",
      "└ @ MSM /home/julien/.julia/dev/MSM/src/generic.jl:302\n"
     ]
    },
    {
     "name": "stdout",
     "output_type": "stream",
     "text": [
      "Starting optimization with optimizer BlackBoxOptim.DXNESOpt{Float64, BlackBoxOptim.RandomBound{BlackBoxOptim.ContinuousRectSearchSpace}}\n",
      "0.00 secs, 0 evals, 0 steps\n",
      "σ=1.0 η[x]=1.0 η[σ]=0.0 η[B]=0.0 |tr(ln_B)|=0.0 |path|=NaN speed=NaN\n",
      "0.52 secs, 128 evals, 16 steps, fitness=0.000704811\n",
      "σ=0.008863122430532163 η[x]=1.0 η[σ]=1.5714285714285714 η[B]=0.06349206349206349 |tr(ln_B)|=4.163336342344337e-17 |path|=NaN speed=NaN\n",
      "1.05 secs, 208 evals, 26 steps, fitness=0.000072216\n",
      "σ=0.004518606642367572 η[x]=1.0 η[σ]=1.5714285714285714 η[B]=0.06349206349206349 |tr(ln_B)|=6.938893903907228e-17 |path|=NaN speed=NaN\n",
      "1.57 secs, 360 evals, 45 steps, fitness=0.000003947\n",
      "σ=0.001013667165936197 η[x]=1.0 η[σ]=1.5714285714285714 η[B]=0.06349206349206349 |tr(ln_B)|=6.938893903907228e-17 |path|=NaN speed=NaN\n",
      "2.09 secs, 512 evals, 64 steps, fitness=0.000003339\n",
      "σ=9.91168140918459e-5 η[x]=1.0 η[σ]=1.5714285714285714 η[B]=0.06349206349206349 |tr(ln_B)|=2.7755575615628914e-17 |path|=NaN speed=NaN\n",
      "2.59 secs, 664 evals, 83 steps, fitness=0.000003100\n",
      "σ=8.703072053446316e-5 η[x]=1.0 η[σ]=1.5714285714285714 η[B]=0.06349206349206349 |tr(ln_B)|=5.551115123125783e-17 |path|=NaN speed=NaN\n",
      "3.11 secs, 824 evals, 103 steps, fitness=0.000002653\n",
      "σ=0.00012438102801219701 η[x]=1.0 η[σ]=1.5714285714285714 η[B]=0.06349206349206349 |tr(ln_B)|=1.6653345369377348e-16 |path|=NaN speed=NaN\n",
      "3.63 secs, 976 evals, 122 steps, fitness=0.000001914\n",
      "σ=0.00036934068849062216 η[x]=1.0 η[σ]=1.5714285714285714 η[B]=0.06349206349206349 |tr(ln_B)|=2.220446049250313e-16 |path|=NaN speed=NaN\n",
      "4.14 secs, 1120 evals, 140 steps, fitness=0.000000948\n",
      "σ=0.0003106407921350334 η[x]=1.0 η[σ]=1.5714285714285714 η[B]=0.06349206349206349 |tr(ln_B)|=2.220446049250313e-16 |path|=NaN speed=NaN\n",
      "4.65 secs, 1272 evals, 159 steps, fitness=0.000000672\n",
      "σ=4.0375161706515046e-5 η[x]=1.0 η[σ]=1.5714285714285714 η[B]=0.06349206349206349 |tr(ln_B)|=2.220446049250313e-16 |path|=NaN speed=NaN\n",
      "5.17 secs, 1432 evals, 179 steps, fitness=0.000000670\n",
      "σ=7.907867805654278e-7 η[x]=1.0 η[σ]=1.5714285714285714 η[B]=0.06349206349206349 |tr(ln_B)|=2.220446049250313e-16 |path|=NaN speed=NaN\n",
      "5.69 secs, 1592 evals, 199 steps, fitness=0.000000670\n",
      "σ=7.848077212968768e-10 η[x]=1.0 η[σ]=1.5714285714285714 η[B]=0.06349206349206349 |tr(ln_B)|=4.440892098500626e-16 |path|=NaN speed=NaN\n",
      "6.21 secs, 1752 evals, 219 steps, fitness=0.000000670\n",
      "σ=4.667908084060259e-10 η[x]=1.0 η[σ]=1.5714285714285714 η[B]=0.06349206349206349 |tr(ln_B)|=5.551115123125783e-16 |path|=NaN speed=NaN\n",
      "6.72 secs, 1912 evals, 239 steps, fitness=0.000000670\n",
      "σ=8.251516754981068e-11 η[x]=1.0 η[σ]=1.5714285714285714 η[B]=0.06349206349206349 |tr(ln_B)|=3.3306690738754696e-16 |path|=NaN speed=NaN\n",
      "7.23 secs, 2072 evals, 259 steps, fitness=0.000000670\n",
      "σ=8.229517575428575e-11 η[x]=1.0 η[σ]=1.5714285714285714 η[B]=0.06349206349206349 |tr(ln_B)|=1.1102230246251565e-15 |path|=NaN speed=NaN\n",
      "7.75 secs, 2232 evals, 279 steps, fitness=0.000000670\n",
      "σ=1.6183816101034285e-11 η[x]=1.0 η[σ]=1.5714285714285714 η[B]=0.06349206349206349 |tr(ln_B)|=0.0 |path|=NaN speed=NaN\n",
      "8.28 secs, 2384 evals, 298 steps, fitness=0.000000670\n",
      "σ=6.760487593600577e-12 η[x]=1.0 η[σ]=1.5714285714285714 η[B]=0.06349206349206349 |tr(ln_B)|=8.881784197001252e-16 |path|=NaN speed=NaN\n",
      "8.81 secs, 2536 evals, 317 steps, fitness=0.000000670\n",
      "σ=3.833652302920377e-12 η[x]=1.0 η[σ]=1.5714285714285714 η[B]=0.06349206349206349 |tr(ln_B)|=3.3306690738754696e-16 |path|=NaN speed=NaN\n",
      "9.33 secs, 2688 evals, 336 steps, fitness=0.000000670\n",
      "σ=2.9528163047290995e-11 η[x]=1.0 η[σ]=1.5714285714285714 η[B]=0.06349206349206349 |tr(ln_B)|=0.0 |path|=NaN speed=NaN\n",
      "9.85 secs, 2840 evals, 355 steps, fitness=0.000000670\n",
      "σ=3.092638737703751e-10 η[x]=1.0 η[σ]=1.5714285714285714 η[B]=0.06349206349206349 |tr(ln_B)|=7.771561172376096e-16 |path|=NaN speed=NaN\n",
      "10.36 secs, 2992 evals, 374 steps, fitness=0.000000670\n",
      "σ=7.71685139343825e-11 η[x]=1.0 η[σ]=1.5714285714285714 η[B]=0.06349206349206349 |tr(ln_B)|=6.661338147750939e-16 |path|=NaN speed=NaN\n",
      "10.88 secs, 3144 evals, 393 steps, fitness=0.000000670\n",
      "σ=2.9926602567594764e-11 η[x]=1.0 η[σ]=1.5714285714285714 η[B]=0.06349206349206349 |tr(ln_B)|=4.440892098500626e-16 |path|=NaN speed=NaN\n",
      "11.39 secs, 3288 evals, 411 steps, fitness=0.000000670\n",
      "σ=9.3702636362322e-11 η[x]=1.0 η[σ]=1.5714285714285714 η[B]=0.06349206349206349 |tr(ln_B)|=2.220446049250313e-16 |path|=NaN speed=NaN\n",
      "11.90 secs, 3432 evals, 429 steps, fitness=0.000000670\n",
      "σ=3.7005862263944615e-11 η[x]=1.0 η[σ]=1.5714285714285714 η[B]=0.06349206349206349 |tr(ln_B)|=6.661338147750939e-16 |path|=NaN speed=NaN\n",
      "12.43 secs, 3584 evals, 448 steps, fitness=0.000000670\n",
      "σ=1.1237670108569017e-10 η[x]=1.0 η[σ]=1.5714285714285714 η[B]=0.06349206349206349 |tr(ln_B)|=6.661338147750939e-16 |path|=NaN speed=NaN\n",
      "12.94 secs, 3728 evals, 466 steps, fitness=0.000000670\n",
      "σ=2.542026684268113e-10 η[x]=1.0 η[σ]=1.5714285714285714 η[B]=0.06349206349206349 |tr(ln_B)|=1.5543122344752192e-15 |path|=NaN speed=NaN\n",
      "13.46 secs, 3864 evals, 483 steps, fitness=0.000000670\n",
      "σ=1.881735881919834e-10 η[x]=1.0 η[σ]=1.5714285714285714 η[B]=0.06349206349206349 |tr(ln_B)|=1.887379141862766e-15 |path|=NaN speed=NaN\n",
      "13.98 secs, 4008 evals, 501 steps, fitness=0.000000670\n",
      "σ=1.3676243803833488e-10 η[x]=1.0 η[σ]=1.5714285714285714 η[B]=0.06349206349206349 |tr(ln_B)|=2.220446049250313e-15 |path|=NaN speed=NaN\n",
      "14.49 secs, 4160 evals, 520 steps, fitness=0.000000670\n",
      "σ=1.1650355793013106e-10 η[x]=1.0 η[σ]=1.5714285714285714 η[B]=0.06349206349206349 |tr(ln_B)|=2.55351295663786e-15 |path|=NaN speed=NaN\n",
      "14.99 secs, 4296 evals, 537 steps, fitness=0.000000670\n",
      "σ=1.506771463796748e-10 η[x]=1.0 η[σ]=1.5714285714285714 η[B]=0.06349206349206349 |tr(ln_B)|=2.220446049250313e-15 |path|=NaN speed=NaN\n",
      "15.50 secs, 4432 evals, 554 steps, fitness=0.000000670\n",
      "σ=7.02609876725652e-11 η[x]=1.0 η[σ]=1.5714285714285714 η[B]=0.06349206349206349 |tr(ln_B)|=2.3314683517128287e-15 |path|=NaN speed=NaN\n",
      "16.00 secs, 4576 evals, 572 steps, fitness=0.000000670\n",
      "σ=1.2735882246932322e-11 η[x]=1.0 η[σ]=1.5714285714285714 η[B]=0.06349206349206349 |tr(ln_B)|=1.887379141862766e-15 |path|=NaN speed=NaN\n",
      "16.52 secs, 4728 evals, 591 steps, fitness=0.000000670\n",
      "σ=2.360608934433635e-10 η[x]=1.0 η[σ]=1.5714285714285714 η[B]=0.06349206349206349 |tr(ln_B)|=1.7763568394002505e-15 |path|=NaN speed=NaN\n",
      "17.03 secs, 4848 evals, 606 steps, fitness=0.000000670\n",
      "σ=7.482016407376566e-11 η[x]=1.0 η[σ]=1.5714285714285714 η[B]=0.06349206349206349 |tr(ln_B)|=1.6653345369377348e-15 |path|=NaN speed=NaN\n",
      "17.54 secs, 4976 evals, 622 steps, fitness=0.000000670\n",
      "σ=1.1007082651092486e-10 η[x]=1.0 η[σ]=1.5714285714285714 η[B]=0.06349206349206349 |tr(ln_B)|=1.7763568394002505e-15 |path|=NaN speed=NaN\n",
      "18.06 secs, 5104 evals, 638 steps, fitness=0.000000670\n",
      "σ=7.267293286255348e-11 η[x]=1.0 η[σ]=1.5714285714285714 η[B]=0.06349206349206349 |tr(ln_B)|=1.887379141862766e-15 |path|=NaN speed=NaN\n",
      "18.57 secs, 5224 evals, 653 steps, fitness=0.000000670\n",
      "σ=7.203365384132379e-11 η[x]=1.0 η[σ]=1.5714285714285714 η[B]=0.06349206349206349 |tr(ln_B)|=2.3314683517128287e-15 |path|=NaN speed=NaN\n",
      "19.10 secs, 5344 evals, 668 steps, fitness=0.000000670\n",
      "σ=6.172173471031876e-11 η[x]=1.0 η[σ]=1.5714285714285714 η[B]=0.06349206349206349 |tr(ln_B)|=1.7763568394002505e-15 |path|=NaN speed=NaN\n",
      "19.64 secs, 5472 evals, 684 steps, fitness=0.000000670\n",
      "σ=2.6013444578991054e-11 η[x]=1.0 η[σ]=1.5714285714285714 η[B]=0.06349206349206349 |tr(ln_B)|=1.6653345369377348e-15 |path|=NaN speed=NaN\n",
      "20.14 secs, 5592 evals, 699 steps, fitness=0.000000670\n",
      "σ=5.962300793635802e-12 η[x]=1.0 η[σ]=1.5714285714285714 η[B]=0.06349206349206349 |tr(ln_B)|=1.4432899320127035e-15 |path|=NaN speed=NaN\n",
      "20.67 secs, 5712 evals, 714 steps, fitness=0.000000670\n",
      "σ=1.1203172202776108e-10 η[x]=1.0 η[σ]=1.5714285714285714 η[B]=0.06349206349206349 |tr(ln_B)|=1.887379141862766e-15 |path|=NaN speed=NaN\n",
      "21.19 secs, 5848 evals, 731 steps, fitness=0.000000670\n",
      "σ=1.862472881368345e-11 η[x]=1.0 η[σ]=1.5714285714285714 η[B]=0.06349206349206349 |tr(ln_B)|=1.1102230246251565e-15 |path|=NaN speed=NaN\n",
      "21.71 secs, 5976 evals, 747 steps, fitness=0.000000670\n",
      "σ=2.524880763642315e-11 η[x]=1.0 η[σ]=1.5714285714285714 η[B]=0.06349206349206349 |tr(ln_B)|=1.4432899320127035e-15 |path|=NaN speed=NaN\n"
     ]
    },
    {
     "name": "stdout",
     "output_type": "stream",
     "text": [
      "22.22 secs, 6112 evals, 764 steps, fitness=0.000000670\n",
      "σ=6.015229034211146e-11 η[x]=1.0 η[σ]=1.5714285714285714 η[B]=0.06349206349206349 |tr(ln_B)|=1.5543122344752192e-15 |path|=NaN speed=NaN\n",
      "22.75 secs, 6264 evals, 783 steps, fitness=0.000000670\n",
      "σ=1.119248262886916e-11 η[x]=1.0 η[σ]=1.5714285714285714 η[B]=0.06349206349206349 |tr(ln_B)|=1.5543122344752192e-15 |path|=NaN speed=NaN\n",
      "23.26 secs, 6408 evals, 801 steps, fitness=0.000000670\n",
      "σ=1.494471960391964e-11 η[x]=1.0 η[σ]=1.5714285714285714 η[B]=0.06349206349206349 |tr(ln_B)|=1.887379141862766e-15 |path|=NaN speed=NaN\n",
      "23.77 secs, 6552 evals, 819 steps, fitness=0.000000670\n",
      "σ=3.4266516156335456e-11 η[x]=1.0 η[σ]=1.5714285714285714 η[B]=0.06349206349206349 |tr(ln_B)|=1.5543122344752192e-15 |path|=NaN speed=NaN\n",
      "24.30 secs, 6688 evals, 836 steps, fitness=0.000000670\n",
      "σ=5.719208675413216e-12 η[x]=1.0 η[σ]=1.5714285714285714 η[B]=0.06349206349206349 |tr(ln_B)|=1.1102230246251565e-15 |path|=NaN speed=NaN\n",
      "24.84 secs, 6816 evals, 852 steps, fitness=0.000000670\n",
      "σ=9.214281075446353e-12 η[x]=1.0 η[σ]=1.5714285714285714 η[B]=0.06349206349206349 |tr(ln_B)|=6.661338147750939e-16 |path|=NaN speed=NaN\n",
      "25.34 secs, 6944 evals, 868 steps, fitness=0.000000670\n",
      "σ=1.2402484829680039e-11 η[x]=1.0 η[σ]=1.5714285714285714 η[B]=0.06349206349206349 |tr(ln_B)|=6.661338147750939e-16 |path|=NaN speed=NaN\n",
      "25.86 secs, 7080 evals, 885 steps, fitness=0.000000670\n",
      "σ=1.218660217373148e-11 η[x]=1.0 η[σ]=1.5714285714285714 η[B]=0.06349206349206349 |tr(ln_B)|=2.220446049250313e-16 |path|=NaN speed=NaN\n",
      "26.38 secs, 7216 evals, 902 steps, fitness=0.000000670\n",
      "σ=8.496817291728103e-12 η[x]=1.0 η[σ]=1.5714285714285714 η[B]=0.06349206349206349 |tr(ln_B)|=4.440892098500626e-16 |path|=NaN speed=NaN\n",
      "26.89 secs, 7344 evals, 918 steps, fitness=0.000000670\n",
      "σ=9.402967421117651e-12 η[x]=1.0 η[σ]=1.5714285714285714 η[B]=0.06349206349206349 |tr(ln_B)|=4.440892098500626e-16 |path|=NaN speed=NaN\n",
      "27.41 secs, 7480 evals, 935 steps, fitness=0.000000670\n",
      "σ=7.4553627871913e-13 η[x]=1.0 η[σ]=1.5714285714285714 η[B]=0.06349206349206349 |tr(ln_B)|=1.1102230246251565e-15 |path|=NaN speed=NaN\n",
      "27.92 secs, 7608 evals, 951 steps, fitness=0.000000670\n",
      "σ=3.859000451079613e-13 η[x]=1.0 η[σ]=1.5714285714285714 η[B]=0.06349206349206349 |tr(ln_B)|=1.3322676295501878e-15 |path|=NaN speed=NaN\n",
      "28.45 secs, 7728 evals, 966 steps, fitness=0.000000670\n",
      "σ=3.9946889872970684e-13 η[x]=1.0 η[σ]=1.5714285714285714 η[B]=0.06349206349206349 |tr(ln_B)|=9.992007221626409e-16 |path|=NaN speed=NaN\n",
      "28.96 secs, 7848 evals, 981 steps, fitness=0.000000670\n",
      "σ=5.795972290593932e-13 η[x]=1.0 η[σ]=1.5714285714285714 η[B]=0.06349206349206349 |tr(ln_B)|=1.1102230246251565e-15 |path|=NaN speed=NaN\n",
      "29.46 secs, 7968 evals, 996 steps, fitness=0.000000670\n",
      "σ=9.100312711692994e-13 η[x]=1.0 η[σ]=1.5714285714285714 η[B]=0.06349206349206349 |tr(ln_B)|=1.3322676295501878e-15 |path|=NaN speed=NaN\n",
      "29.96 secs, 8080 evals, 1010 steps, fitness=0.000000670\n",
      "σ=2.752870372984503e-12 η[x]=1.0 η[σ]=1.5714285714285714 η[B]=0.06349206349206349 |tr(ln_B)|=1.3322676295501878e-15 |path|=NaN speed=NaN\n",
      "30.48 secs, 8200 evals, 1025 steps, fitness=0.000000670\n",
      "σ=1.0222678503621001e-12 η[x]=1.0 η[σ]=1.5714285714285714 η[B]=0.06349206349206349 |tr(ln_B)|=1.1102230246251565e-15 |path|=NaN speed=NaN\n",
      "30.99 secs, 8328 evals, 1041 steps, fitness=0.000000670\n",
      "σ=1.439769852991933e-13 η[x]=1.0 η[σ]=1.5714285714285714 η[B]=0.06349206349206349 |tr(ln_B)|=4.440892098500626e-16 |path|=NaN speed=NaN\n",
      "31.49 secs, 8472 evals, 1059 steps, fitness=0.000000670\n",
      "σ=7.478729172477631e-14 η[x]=1.0 η[σ]=1.5714285714285714 η[B]=0.06349206349206349 |tr(ln_B)|=6.661338147750939e-16 |path|=NaN speed=NaN\n",
      "32.00 secs, 8600 evals, 1075 steps, fitness=0.000000670\n",
      "σ=2.448025467979929e-13 η[x]=1.0 η[σ]=1.5714285714285714 η[B]=0.06349206349206349 |tr(ln_B)|=8.881784197001252e-16 |path|=NaN speed=NaN\n",
      "32.52 secs, 8728 evals, 1091 steps, fitness=0.000000670\n",
      "σ=5.741434749152826e-13 η[x]=1.0 η[σ]=1.5714285714285714 η[B]=0.06349206349206349 |tr(ln_B)|=3.3306690738754696e-16 |path|=NaN speed=NaN\n",
      "33.05 secs, 8848 evals, 1106 steps, fitness=0.000000670\n",
      "σ=4.2906765545459195e-13 η[x]=1.0 η[σ]=1.5714285714285714 η[B]=0.06349206349206349 |tr(ln_B)|=4.440892098500626e-16 |path|=NaN speed=NaN\n",
      "33.56 secs, 8976 evals, 1122 steps, fitness=0.000000670\n",
      "σ=3.318525645901501e-12 η[x]=1.0 η[σ]=1.5714285714285714 η[B]=0.06349206349206349 |tr(ln_B)|=2.220446049250313e-16 |path|=NaN speed=NaN\n",
      "34.09 secs, 9096 evals, 1137 steps, fitness=0.000000670\n",
      "σ=4.7864040353538825e-12 η[x]=1.0 η[σ]=1.5714285714285714 η[B]=0.06349206349206349 |tr(ln_B)|=4.440892098500626e-16 |path|=NaN speed=NaN\n",
      "34.60 secs, 9224 evals, 1153 steps, fitness=0.000000670\n",
      "σ=9.26620859299078e-12 η[x]=1.0 η[σ]=1.5714285714285714 η[B]=0.06349206349206349 |tr(ln_B)|=0.0 |path|=NaN speed=NaN\n",
      "35.10 secs, 9344 evals, 1168 steps, fitness=0.000000670\n",
      "σ=1.1400964313073465e-11 η[x]=1.0 η[σ]=1.5714285714285714 η[B]=0.06349206349206349 |tr(ln_B)|=1.1102230246251565e-16 |path|=NaN speed=NaN\n",
      "35.61 secs, 9464 evals, 1183 steps, fitness=0.000000670\n",
      "σ=4.9975805934539014e-11 η[x]=1.0 η[σ]=1.5714285714285714 η[B]=0.06349206349206349 |tr(ln_B)|=3.3306690738754696e-16 |path|=NaN speed=NaN\n",
      "36.13 secs, 9600 evals, 1200 steps, fitness=0.000000670\n",
      "σ=4.789265598803264e-11 η[x]=1.0 η[σ]=1.5714285714285714 η[B]=0.06349206349206349 |tr(ln_B)|=3.3306690738754696e-16 |path|=NaN speed=NaN\n",
      "36.65 secs, 9736 evals, 1217 steps, fitness=0.000000670\n",
      "σ=5.429177815430458e-11 η[x]=1.0 η[σ]=1.5714285714285714 η[B]=0.06349206349206349 |tr(ln_B)|=1.1102230246251565e-16 |path|=NaN speed=NaN\n",
      "37.15 secs, 9856 evals, 1232 steps, fitness=0.000000670\n",
      "σ=1.0119579500562454e-10 η[x]=1.0 η[σ]=1.5714285714285714 η[B]=0.06349206349206349 |tr(ln_B)|=2.220446049250313e-16 |path|=NaN speed=NaN\n",
      "37.68 secs, 9992 evals, 1249 steps, fitness=0.000000670\n",
      "σ=6.455558967406483e-12 η[x]=1.0 η[σ]=1.5714285714285714 η[B]=0.06349206349206349 |tr(ln_B)|=0.0 |path|=NaN speed=NaN\n",
      "\n",
      "Optimization stopped after 1251 steps and 37.75 seconds\n",
      "Termination reason: Max number of function evaluations (10000) reached\n",
      "Steps per second = 33.14\n",
      "Function evals per second = 265.12\n",
      "Improvements/step = NaN\n",
      "Total function evaluations = 10008\n",
      "\n",
      "\n",
      "Best candidate found: [0.571453, 0.583032, 0.76727]\n",
      "\n",
      "Fitness: 0.000000670\n",
      "\n"
     ]
    },
    {
     "data": {
      "text/plain": [
       "(Any[6.700018003710311e-7], Any[[0.5714533006149943, 0.5830316604611774, 0.7672700012850744]])"
      ]
     },
     "execution_count": 7,
     "metadata": {},
     "output_type": "execute_result"
    }
   ],
   "source": [
    "# Global optimization:\n",
    "msm_optimize!(myProblem, verbose = false)"
   ]
  },
  {
   "cell_type": "markdown",
   "id": "851f20bd",
   "metadata": {},
   "source": [
    "## Step 6. Analysing Results\n",
    "\n",
    "### A. Point estimates"
   ]
  },
  {
   "cell_type": "code",
   "execution_count": 10,
   "id": "80e9cd89",
   "metadata": {},
   "outputs": [
    {
     "name": "stdout",
     "output_type": "stream",
     "text": [
      "Minimum objective function = 6.700018003710311e-7\n",
      "Estimated value for alpha = 0.5714533006149943. True value for beta1 = 0.5662374165061859 \n",
      "\n",
      "Estimated value for beta1 = 0.5830316604611774. True value for beta1 = 0.5908446386657102 \n",
      "\n",
      "Estimated value for beta2 = 0.7672700012850744. True value for beta2 = 0.7667970365022592 \n",
      "\n"
     ]
    }
   ],
   "source": [
    "minimizer = msm_minimizer(myProblem)\n",
    "minimum_val = msm_minimum(myProblem)\n",
    "\n",
    "println(\"Minimum objective function = $(minimum_val)\")\n",
    "println(\"Estimated value for alpha = $(minimizer[1]). True value for beta1 = $(alpha0[1]) \\n\")\n",
    "println(\"Estimated value for beta1 = $(minimizer[2]). True value for beta1 = $(beta0[1]) \\n\")\n",
    "println(\"Estimated value for beta2 = $(minimizer[3]). True value for beta2 = $(beta0[2]) \\n\")"
   ]
  },
  {
   "cell_type": "markdown",
   "id": "eb78cdde",
   "metadata": {},
   "source": [
    "### B. Inference\n",
    "\n",
    "### Estimation of the distance matrix $\\Sigma_0$\n",
    "\n",
    "Let's calculate the variance-covariance matrix of the \"distance matrix\" (using the terminolgy of [Duffie and Singleton (1993)](https://www.jstor.org/stable/2951768?seq=1)). Here we know that errors are not correlated (the serial correlation coefficient is set to 0 in the code above). in the presence of serial correlation, an HAC estimation would be needed (see the package [CovarianceMatrices](https://github.com/gragusa/CovarianceMatrices.jl) for instance)"
   ]
  },
  {
   "cell_type": "code",
   "execution_count": 9,
   "id": "5ff88c60",
   "metadata": {},
   "outputs": [
    {
     "data": {
      "text/plain": [
       "5×5 Matrix{Float64}:\n",
       "   2.942     12.1631    13.6279    346.754    392.581\n",
       "  12.1631    81.0139    47.795    2369.6     1503.16\n",
       "  13.6279    47.795     87.8405   1490.87    2622.29\n",
       " 346.754   2369.6     1490.87    77664.1    50175.4\n",
       " 392.581   1503.16    2622.29    50175.4    87292.2"
      ]
     },
     "execution_count": 9,
     "metadata": {},
     "output_type": "execute_result"
    }
   ],
   "source": [
    "# Empirical Series\n",
    "#-----------------\n",
    "X = zeros(T, 5)\n",
    "\n",
    "X[:,1] = y\n",
    "X[:,2] = (x[:,1] .* y)\n",
    "X[:,3] = (x[:,2] .* y)\n",
    "X[:,4] = (x[:,1] .* y).^2\n",
    "X[:,5] = (x[:,2] .* y).^2\n",
    "\n",
    "Sigma0 = cov(X)"
   ]
  },
  {
   "cell_type": "markdown",
   "id": "bc8cf8cf",
   "metadata": {},
   "source": [
    "### Asymptotic variance\n",
    "\n",
    "The asymptotic variance of the MSM estimate is calculated using the usual GMM sandwich formula, corrected to take\n",
    "into account simulation noise. See [Duffie and Singleton (1993)](https://www.jstor.org/stable/2951768?seq=1) and [Gouriéroux and Montfort (1996)](https://www.jstor.org/stable/3533164?seq=1). Calculating the \n",
    "asymptotic variance using MSM.jl is done in two steps:\n",
    "* setting the value of of the distance matrix using the function `set_Sigma0!`\n",
    "* calculating the asymptotic variance using the function `calculate_Avar!`"
   ]
  },
  {
   "cell_type": "code",
   "execution_count": 10,
   "id": "50052484",
   "metadata": {},
   "outputs": [
    {
     "data": {
      "text/plain": [
       "3×3 Symmetric{Float64, Matrix{Float64}}:\n",
       "  63.4041   -11.7213   -8.66146\n",
       " -11.7213     6.80843  -2.14468\n",
       "  -8.66146   -2.14468   5.87873"
      ]
     },
     "execution_count": 10,
     "metadata": {},
     "output_type": "execute_result"
    }
   ],
   "source": [
    "set_Sigma0!(myProblem, Sigma0)\n",
    "calculate_Avar!(myProblem, minimizer, T, nbDraws) # nbDraws = number of draws in the simulated data"
   ]
  },
  {
   "cell_type": "markdown",
   "id": "140a9979",
   "metadata": {},
   "source": [
    "Once the asymptotic variance has been calculated, a summary table can be obtained using the\n",
    "function `summary_table`. This function has four inputs:\n",
    "* a MSMProblem\n",
    "* the minimizer of the objective function\n",
    "* the length of the empirical sample\n",
    "* the confidence level associated to the test H0: $\\theta_i = 0$, H1: $\\theta_i != 0$"
   ]
  },
  {
   "cell_type": "code",
   "execution_count": 11,
   "id": "7b2da735",
   "metadata": {},
   "outputs": [
    {
     "data": {
      "text/html": [
       "<table class=\"data-frame\"><thead><tr><th></th><th>Estimate</th><th>StdError</th><th>tValue</th><th>pValue</th><th>ConfIntervalLower</th><th>ConfIntervalUpper</th></tr><tr><th></th><th>Float64</th><th>Float64</th><th>Float64</th><th>Float64</th><th>Float64</th><th>Float64</th></tr></thead><tbody><p>3 rows × 6 columns</p><tr><th>1</th><td>0.571453</td><td>0.0251802</td><td>22.6946</td><td>0.0</td><td>0.530036</td><td>0.612871</td></tr><tr><th>2</th><td>0.583032</td><td>0.00825132</td><td>70.6592</td><td>0.0</td><td>0.569459</td><td>0.596604</td></tr><tr><th>3</th><td>0.76727</td><td>0.00766729</td><td>100.071</td><td>0.0</td><td>0.754658</td><td>0.779882</td></tr></tbody></table>"
      ],
      "text/latex": [
       "\\begin{tabular}{r|cccccc}\n",
       "\t& Estimate & StdError & tValue & pValue & ConfIntervalLower & ConfIntervalUpper\\\\\n",
       "\t\\hline\n",
       "\t& Float64 & Float64 & Float64 & Float64 & Float64 & Float64\\\\\n",
       "\t\\hline\n",
       "\t1 & 0.571453 & 0.0251802 & 22.6946 & 0.0 & 0.530036 & 0.612871 \\\\\n",
       "\t2 & 0.583032 & 0.00825132 & 70.6592 & 0.0 & 0.569459 & 0.596604 \\\\\n",
       "\t3 & 0.76727 & 0.00766729 & 100.071 & 0.0 & 0.754658 & 0.779882 \\\\\n",
       "\\end{tabular}\n"
      ],
      "text/plain": [
       "\u001b[1m3×6 DataFrame\u001b[0m\n",
       "\u001b[1m Row \u001b[0m│\u001b[1m Estimate \u001b[0m\u001b[1m StdError   \u001b[0m\u001b[1m tValue   \u001b[0m\u001b[1m pValue  \u001b[0m\u001b[1m ConfIntervalLower \u001b[0m\u001b[1m ConfInterva\u001b[0m ⋯\n",
       "\u001b[1m     \u001b[0m│\u001b[90m Float64  \u001b[0m\u001b[90m Float64    \u001b[0m\u001b[90m Float64  \u001b[0m\u001b[90m Float64 \u001b[0m\u001b[90m Float64           \u001b[0m\u001b[90m Float64    \u001b[0m ⋯\n",
       "─────┼──────────────────────────────────────────────────────────────────────────\n",
       "   1 │ 0.571453  0.0251802    22.6946      0.0           0.530036           0. ⋯\n",
       "   2 │ 0.583032  0.00825132   70.6592      0.0           0.569459           0.\n",
       "   3 │ 0.76727   0.00766729  100.071       0.0           0.754658           0.\n",
       "\u001b[31m                                                                1 column omitted\u001b[0m"
      ]
     },
     "execution_count": 11,
     "metadata": {},
     "output_type": "execute_result"
    }
   ],
   "source": [
    "df = summary_table(myProblem, minimizer, T, 0.05)"
   ]
  },
  {
   "cell_type": "markdown",
   "id": "3c518136",
   "metadata": {},
   "source": [
    "### Comparison with OLS\n",
    "\n",
    "Let's compare the MSM results to the one obtained using OLS:"
   ]
  },
  {
   "cell_type": "code",
   "execution_count": 12,
   "id": "2e8b6e1b",
   "metadata": {},
   "outputs": [
    {
     "name": "stderr",
     "output_type": "stream",
     "text": [
      "┌ Info: Precompiling GLM [38e38edf-8417-5370-95a0-9cbb8c7f171a]\n",
      "└ @ Base loading.jl:1317\n"
     ]
    },
    {
     "data": {
      "text/plain": [
       "StatsModels.TableRegressionModel{LinearModel{GLM.LmResp{Vector{Float64}}, GLM.DensePredChol{Float64, CholeskyPivoted{Float64, Matrix{Float64}}}}, Matrix{Float64}}\n",
       "\n",
       "y ~ 1 + x1 + x2\n",
       "\n",
       "Coefficients:\n",
       "─────────────────────────────────────────────────────────────────────────\n",
       "                Coef.  Std. Error       t  Pr(>|t|)  Lower 95%  Upper 95%\n",
       "─────────────────────────────────────────────────────────────────────────\n",
       "(Intercept)  0.571592  0.00836568   68.33    <1e-99   0.555196   0.587989\n",
       "x1           0.588239  0.00218787  268.86    <1e-99   0.583951   0.592528\n",
       "x2           0.767633  0.00219593  349.57    <1e-99   0.763329   0.771937\n",
       "─────────────────────────────────────────────────────────────────────────"
      ]
     },
     "execution_count": 12,
     "metadata": {},
     "output_type": "execute_result"
    }
   ],
   "source": [
    "using DataFrames, GLM\n",
    "data = DataFrame(x1=x[:,1], x2=x[:,2], y= y[:]);\n",
    "\n",
    "ols = lm(@formula(y ~ x1 + x2), data)"
   ]
  },
  {
   "cell_type": "markdown",
   "id": "63d29860",
   "metadata": {},
   "source": [
    "In terms of point estimates, MSM and OLS estimates are rather close. Regarding standard errors, the OLS estimates are more precisely estimated. This is not surprising given that simulation noise impacts the accuracy of the MSM estimate and that OLS uses much more information than MSM. "
   ]
  },
  {
   "cell_type": "markdown",
   "id": "9cb125d8",
   "metadata": {},
   "source": [
    "### C. Slices of the objective function\n",
    "\n",
    "One can \"visually check\" that the [local identification identification](https://en.wikipedia.org/wiki/Generalized_method_of_moments) is met by \"slicing\" the objective function. That is, we hold all the variables constant, and we calculate how the value of objective function changes when moving along one dimension. Hopefully, we will see nice U-shaped plots."
   ]
  },
  {
   "cell_type": "code",
   "execution_count": 13,
   "id": "ce5cf167",
   "metadata": {
    "scrolled": true
   },
   "outputs": [
    {
     "name": "stderr",
     "output_type": "stream",
     "text": [
      "┌ Info: slicing along alpha\n",
      "└ @ MSM /home/julien/.julia/dev/MSM/src/generic.jl:302\n",
      "┌ Info: slicing along beta1\n",
      "└ @ MSM /home/julien/.julia/dev/MSM/src/generic.jl:302\n",
      "┌ Info: slicing along beta2\n",
      "└ @ MSM /home/julien/.julia/dev/MSM/src/generic.jl:302\n"
     ]
    }
   ],
   "source": [
    "vXGrid, vYGrid = msm_slices(myProblem, minimizer, nbPoints = 7);"
   ]
  },
  {
   "cell_type": "code",
   "execution_count": 14,
   "id": "4e76a583",
   "metadata": {},
   "outputs": [
    {
     "name": "stderr",
     "output_type": "stream",
     "text": [
      "┌ Info: Precompiling Plots [91a5bcdd-55d7-5caf-9e0b-520d859cae80]\n",
      "└ @ Base loading.jl:1317\n"
     ]
    },
    {
     "data": {
      "image/svg+xml": [
       "<?xml version=\"1.0\" encoding=\"utf-8\"?>\n",
       "<svg xmlns=\"http://www.w3.org/2000/svg\" xmlns:xlink=\"http://www.w3.org/1999/xlink\" width=\"600\" height=\"400\" viewBox=\"0 0 2400 1600\">\n",
       "<defs>\n",
       "  <clipPath id=\"clip890\">\n",
       "    <rect x=\"0\" y=\"0\" width=\"2400\" height=\"1600\"/>\n",
       "  </clipPath>\n",
       "</defs>\n",
       "<path clip-path=\"url(#clip890)\" d=\"\n",
       "M0 1600 L2400 1600 L2400 0 L0 0  Z\n",
       "  \" fill=\"#ffffff\" fill-rule=\"evenodd\" fill-opacity=\"1\"/>\n",
       "<defs>\n",
       "  <clipPath id=\"clip891\">\n",
       "    <rect x=\"480\" y=\"0\" width=\"1681\" height=\"1600\"/>\n",
       "  </clipPath>\n",
       "</defs>\n",
       "<path clip-path=\"url(#clip890)\" d=\"\n",
       "M335.867 686.448 L1152.76 686.448 L1152.76 123.472 L335.867 123.472  Z\n",
       "  \" fill=\"#ffffff\" fill-rule=\"evenodd\" fill-opacity=\"1\"/>\n",
       "<defs>\n",
       "  <clipPath id=\"clip892\">\n",
       "    <rect x=\"335\" y=\"123\" width=\"818\" height=\"564\"/>\n",
       "  </clipPath>\n",
       "</defs>\n",
       "<polyline clip-path=\"url(#clip892)\" style=\"stroke:#000000; stroke-width:2; stroke-opacity:0.1; fill:none\" points=\"\n",
       "  438.655,686.448 438.655,123.472 \n",
       "  \"/>\n",
       "<polyline clip-path=\"url(#clip892)\" style=\"stroke:#000000; stroke-width:2; stroke-opacity:0.1; fill:none\" points=\"\n",
       "  607.228,686.448 607.228,123.472 \n",
       "  \"/>\n",
       "<polyline clip-path=\"url(#clip892)\" style=\"stroke:#000000; stroke-width:2; stroke-opacity:0.1; fill:none\" points=\"\n",
       "  775.8,686.448 775.8,123.472 \n",
       "  \"/>\n",
       "<polyline clip-path=\"url(#clip892)\" style=\"stroke:#000000; stroke-width:2; stroke-opacity:0.1; fill:none\" points=\"\n",
       "  944.373,686.448 944.373,123.472 \n",
       "  \"/>\n",
       "<polyline clip-path=\"url(#clip892)\" style=\"stroke:#000000; stroke-width:2; stroke-opacity:0.1; fill:none\" points=\"\n",
       "  1112.95,686.448 1112.95,123.472 \n",
       "  \"/>\n",
       "<polyline clip-path=\"url(#clip890)\" style=\"stroke:#000000; stroke-width:4; stroke-opacity:1; fill:none\" points=\"\n",
       "  335.867,686.448 1152.76,686.448 \n",
       "  \"/>\n",
       "<polyline clip-path=\"url(#clip890)\" style=\"stroke:#000000; stroke-width:4; stroke-opacity:1; fill:none\" points=\"\n",
       "  438.655,686.448 438.655,679.692 \n",
       "  \"/>\n",
       "<polyline clip-path=\"url(#clip890)\" style=\"stroke:#000000; stroke-width:4; stroke-opacity:1; fill:none\" points=\"\n",
       "  607.228,686.448 607.228,679.692 \n",
       "  \"/>\n",
       "<polyline clip-path=\"url(#clip890)\" style=\"stroke:#000000; stroke-width:4; stroke-opacity:1; fill:none\" points=\"\n",
       "  775.8,686.448 775.8,679.692 \n",
       "  \"/>\n",
       "<polyline clip-path=\"url(#clip890)\" style=\"stroke:#000000; stroke-width:4; stroke-opacity:1; fill:none\" points=\"\n",
       "  944.373,686.448 944.373,679.692 \n",
       "  \"/>\n",
       "<polyline clip-path=\"url(#clip890)\" style=\"stroke:#000000; stroke-width:4; stroke-opacity:1; fill:none\" points=\"\n",
       "  1112.95,686.448 1112.95,679.692 \n",
       "  \"/>\n",
       "<path clip-path=\"url(#clip890)\" d=\"M 0 0 M355.716 715.639 Q352.105 715.639 350.276 719.203 Q348.471 722.745 348.471 729.875 Q348.471 736.981 350.276 740.546 Q352.105 744.087 355.716 744.087 Q359.35 744.087 361.156 740.546 Q362.984 736.981 362.984 729.875 Q362.984 722.745 361.156 719.203 Q359.35 715.639 355.716 715.639 M355.716 711.935 Q361.526 711.935 364.582 716.541 Q367.66 721.125 367.66 729.875 Q367.66 738.601 364.582 743.208 Q361.526 747.791 355.716 747.791 Q349.906 747.791 346.827 743.208 Q343.772 738.601 343.772 729.875 Q343.772 721.125 346.827 716.541 Q349.906 711.935 355.716 711.935 Z\" fill=\"#000000\" fill-rule=\"evenodd\" fill-opacity=\"1\" /><path clip-path=\"url(#clip890)\" d=\"M 0 0 M375.878 741.24 L380.762 741.24 L380.762 747.12 L375.878 747.12 L375.878 741.24 Z\" fill=\"#000000\" fill-rule=\"evenodd\" fill-opacity=\"1\" /><path clip-path=\"url(#clip890)\" d=\"M 0 0 M390.994 712.56 L409.35 712.56 L409.35 716.495 L395.276 716.495 L395.276 724.967 Q396.294 724.62 397.313 724.458 Q398.331 724.273 399.35 724.273 Q405.137 724.273 408.517 727.444 Q411.896 730.615 411.896 736.032 Q411.896 741.611 408.424 744.712 Q404.952 747.791 398.632 747.791 Q396.456 747.791 394.188 747.421 Q391.943 747.05 389.535 746.31 L389.535 741.611 Q391.619 742.745 393.841 743.3 Q396.063 743.856 398.54 743.856 Q402.544 743.856 404.882 741.75 Q407.22 739.643 407.22 736.032 Q407.22 732.421 404.882 730.314 Q402.544 728.208 398.54 728.208 Q396.665 728.208 394.79 728.625 Q392.938 729.041 390.994 729.921 L390.994 712.56 Z\" fill=\"#000000\" fill-rule=\"evenodd\" fill-opacity=\"1\" /><path clip-path=\"url(#clip890)\" d=\"M 0 0 M419.929 712.56 L442.151 712.56 L442.151 714.551 L429.604 747.12 L424.72 747.12 L436.526 716.495 L419.929 716.495 L419.929 712.56 Z\" fill=\"#000000\" fill-rule=\"evenodd\" fill-opacity=\"1\" /><path clip-path=\"url(#clip890)\" d=\"M 0 0 M452.081 743.185 L459.72 743.185 L459.72 716.819 L451.41 718.486 L451.41 714.227 L459.674 712.56 L464.35 712.56 L464.35 743.185 L471.988 743.185 L471.988 747.12 L452.081 747.12 L452.081 743.185 Z\" fill=\"#000000\" fill-rule=\"evenodd\" fill-opacity=\"1\" /><path clip-path=\"url(#clip890)\" d=\"M 0 0 M491.433 715.639 Q487.822 715.639 485.993 719.203 Q484.187 722.745 484.187 729.875 Q484.187 736.981 485.993 740.546 Q487.822 744.087 491.433 744.087 Q495.067 744.087 496.873 740.546 Q498.701 736.981 498.701 729.875 Q498.701 722.745 496.873 719.203 Q495.067 715.639 491.433 715.639 M491.433 711.935 Q497.243 711.935 500.299 716.541 Q503.377 721.125 503.377 729.875 Q503.377 738.601 500.299 743.208 Q497.243 747.791 491.433 747.791 Q485.623 747.791 482.544 743.208 Q479.488 738.601 479.488 729.875 Q479.488 721.125 482.544 716.541 Q485.623 711.935 491.433 711.935 Z\" fill=\"#000000\" fill-rule=\"evenodd\" fill-opacity=\"1\" /><path clip-path=\"url(#clip890)\" d=\"M 0 0 M521.595 715.639 Q517.984 715.639 516.155 719.203 Q514.349 722.745 514.349 729.875 Q514.349 736.981 516.155 740.546 Q517.984 744.087 521.595 744.087 Q525.229 744.087 527.034 740.546 Q528.863 736.981 528.863 729.875 Q528.863 722.745 527.034 719.203 Q525.229 715.639 521.595 715.639 M521.595 711.935 Q527.405 711.935 530.46 716.541 Q533.539 721.125 533.539 729.875 Q533.539 738.601 530.46 743.208 Q527.405 747.791 521.595 747.791 Q515.785 747.791 512.706 743.208 Q509.65 738.601 509.65 729.875 Q509.65 721.125 512.706 716.541 Q515.785 711.935 521.595 711.935 Z\" fill=\"#000000\" fill-rule=\"evenodd\" fill-opacity=\"1\" /><path clip-path=\"url(#clip890)\" d=\"M 0 0 M524.786 715.639 Q521.175 715.639 519.346 719.203 Q517.541 722.745 517.541 729.875 Q517.541 736.981 519.346 740.546 Q521.175 744.087 524.786 744.087 Q528.42 744.087 530.226 740.546 Q532.055 736.981 532.055 729.875 Q532.055 722.745 530.226 719.203 Q528.42 715.639 524.786 715.639 M524.786 711.935 Q530.596 711.935 533.652 716.541 Q536.73 721.125 536.73 729.875 Q536.73 738.601 533.652 743.208 Q530.596 747.791 524.786 747.791 Q518.976 747.791 515.897 743.208 Q512.842 738.601 512.842 729.875 Q512.842 721.125 515.897 716.541 Q518.976 711.935 524.786 711.935 Z\" fill=\"#000000\" fill-rule=\"evenodd\" fill-opacity=\"1\" /><path clip-path=\"url(#clip890)\" d=\"M 0 0 M544.948 741.24 L549.832 741.24 L549.832 747.12 L544.948 747.12 L544.948 741.24 Z\" fill=\"#000000\" fill-rule=\"evenodd\" fill-opacity=\"1\" /><path clip-path=\"url(#clip890)\" d=\"M 0 0 M560.064 712.56 L578.42 712.56 L578.42 716.495 L564.346 716.495 L564.346 724.967 Q565.365 724.62 566.383 724.458 Q567.402 724.273 568.42 724.273 Q574.207 724.273 577.587 727.444 Q580.966 730.615 580.966 736.032 Q580.966 741.611 577.494 744.712 Q574.022 747.791 567.703 747.791 Q565.527 747.791 563.258 747.421 Q561.013 747.05 558.605 746.31 L558.605 741.611 Q560.689 742.745 562.911 743.3 Q565.133 743.856 567.61 743.856 Q571.615 743.856 573.952 741.75 Q576.29 739.643 576.29 736.032 Q576.29 732.421 573.952 730.314 Q571.615 728.208 567.61 728.208 Q565.735 728.208 563.86 728.625 Q562.008 729.041 560.064 729.921 L560.064 712.56 Z\" fill=\"#000000\" fill-rule=\"evenodd\" fill-opacity=\"1\" /><path clip-path=\"url(#clip890)\" d=\"M 0 0 M588.999 712.56 L611.221 712.56 L611.221 714.551 L598.675 747.12 L593.79 747.12 L605.596 716.495 L588.999 716.495 L588.999 712.56 Z\" fill=\"#000000\" fill-rule=\"evenodd\" fill-opacity=\"1\" /><path clip-path=\"url(#clip890)\" d=\"M 0 0 M621.151 743.185 L628.79 743.185 L628.79 716.819 L620.48 718.486 L620.48 714.227 L628.744 712.56 L633.42 712.56 L633.42 743.185 L641.059 743.185 L641.059 747.12 L621.151 747.12 L621.151 743.185 Z\" fill=\"#000000\" fill-rule=\"evenodd\" fill-opacity=\"1\" /><path clip-path=\"url(#clip890)\" d=\"M 0 0 M654.531 743.185 L670.85 743.185 L670.85 747.12 L648.906 747.12 L648.906 743.185 Q651.568 740.43 656.151 735.8 Q660.758 731.148 661.938 729.805 Q664.183 727.282 665.063 725.546 Q665.966 723.787 665.966 722.097 Q665.966 719.342 664.021 717.606 Q662.1 715.87 658.998 715.87 Q656.799 715.87 654.346 716.634 Q651.915 717.398 649.137 718.949 L649.137 714.227 Q651.961 713.092 654.415 712.514 Q656.869 711.935 658.906 711.935 Q664.276 711.935 667.47 714.62 Q670.665 717.305 670.665 721.796 Q670.665 723.926 669.855 725.847 Q669.068 727.745 666.961 730.338 Q666.383 731.009 663.281 734.226 Q660.179 737.421 654.531 743.185 Z\" fill=\"#000000\" fill-rule=\"evenodd\" fill-opacity=\"1\" /><path clip-path=\"url(#clip890)\" d=\"M 0 0 M680.711 712.56 L699.068 712.56 L699.068 716.495 L684.994 716.495 L684.994 724.967 Q686.012 724.62 687.031 724.458 Q688.049 724.273 689.068 724.273 Q694.855 724.273 698.234 727.444 Q701.614 730.615 701.614 736.032 Q701.614 741.611 698.142 744.712 Q694.669 747.791 688.35 747.791 Q686.174 747.791 683.906 747.421 Q681.66 747.05 679.253 746.31 L679.253 741.611 Q681.336 742.745 683.558 743.3 Q685.781 743.856 688.257 743.856 Q692.262 743.856 694.6 741.75 Q696.938 739.643 696.938 736.032 Q696.938 732.421 694.6 730.314 Q692.262 728.208 688.257 728.208 Q686.382 728.208 684.507 728.625 Q682.656 729.041 680.711 729.921 L680.711 712.56 Z\" fill=\"#000000\" fill-rule=\"evenodd\" fill-opacity=\"1\" /><path clip-path=\"url(#clip890)\" d=\"M 0 0 M692.861 715.639 Q689.25 715.639 687.421 719.203 Q685.615 722.745 685.615 729.875 Q685.615 736.981 687.421 740.546 Q689.25 744.087 692.861 744.087 Q696.495 744.087 698.301 740.546 Q700.129 736.981 700.129 729.875 Q700.129 722.745 698.301 719.203 Q696.495 715.639 692.861 715.639 M692.861 711.935 Q698.671 711.935 701.727 716.541 Q704.805 721.125 704.805 729.875 Q704.805 738.601 701.727 743.208 Q698.671 747.791 692.861 747.791 Q687.051 747.791 683.972 743.208 Q680.916 738.601 680.916 729.875 Q680.916 721.125 683.972 716.541 Q687.051 711.935 692.861 711.935 Z\" fill=\"#000000\" fill-rule=\"evenodd\" fill-opacity=\"1\" /><path clip-path=\"url(#clip890)\" d=\"M 0 0 M713.023 741.24 L717.907 741.24 L717.907 747.12 L713.023 747.12 L713.023 741.24 Z\" fill=\"#000000\" fill-rule=\"evenodd\" fill-opacity=\"1\" /><path clip-path=\"url(#clip890)\" d=\"M 0 0 M728.138 712.56 L746.495 712.56 L746.495 716.495 L732.421 716.495 L732.421 724.967 Q733.439 724.62 734.458 724.458 Q735.476 724.273 736.495 724.273 Q742.282 724.273 745.661 727.444 Q749.041 730.615 749.041 736.032 Q749.041 741.611 745.569 744.712 Q742.097 747.791 735.777 747.791 Q733.601 747.791 731.333 747.421 Q729.087 747.05 726.68 746.31 L726.68 741.611 Q728.763 742.745 730.986 743.3 Q733.208 743.856 735.685 743.856 Q739.689 743.856 742.027 741.75 Q744.365 739.643 744.365 736.032 Q744.365 732.421 742.027 730.314 Q739.689 728.208 735.685 728.208 Q733.81 728.208 731.935 728.625 Q730.083 729.041 728.138 729.921 L728.138 712.56 Z\" fill=\"#000000\" fill-rule=\"evenodd\" fill-opacity=\"1\" /><path clip-path=\"url(#clip890)\" d=\"M 0 0 M757.073 712.56 L779.296 712.56 L779.296 714.551 L766.749 747.12 L761.865 747.12 L773.671 716.495 L757.073 716.495 L757.073 712.56 Z\" fill=\"#000000\" fill-rule=\"evenodd\" fill-opacity=\"1\" /><path clip-path=\"url(#clip890)\" d=\"M 0 0 M789.226 743.185 L796.865 743.185 L796.865 716.819 L788.555 718.486 L788.555 714.227 L796.819 712.56 L801.495 712.56 L801.495 743.185 L809.133 743.185 L809.133 747.12 L789.226 747.12 L789.226 743.185 Z\" fill=\"#000000\" fill-rule=\"evenodd\" fill-opacity=\"1\" /><path clip-path=\"url(#clip890)\" d=\"M 0 0 M818.624 712.56 L836.98 712.56 L836.98 716.495 L822.906 716.495 L822.906 724.967 Q823.925 724.62 824.943 724.458 Q825.962 724.273 826.98 724.273 Q832.767 724.273 836.147 727.444 Q839.527 730.615 839.527 736.032 Q839.527 741.611 836.055 744.712 Q832.582 747.791 826.263 747.791 Q824.087 747.791 821.818 747.421 Q819.573 747.05 817.166 746.31 L817.166 741.611 Q819.249 742.745 821.471 743.3 Q823.693 743.856 826.17 743.856 Q830.175 743.856 832.513 741.75 Q834.851 739.643 834.851 736.032 Q834.851 732.421 832.513 730.314 Q830.175 728.208 826.17 728.208 Q824.295 728.208 822.42 728.625 Q820.568 729.041 818.624 729.921 L818.624 712.56 Z\" fill=\"#000000\" fill-rule=\"evenodd\" fill-opacity=\"1\" /><path clip-path=\"url(#clip890)\" d=\"M 0 0 M858.74 715.639 Q855.128 715.639 853.3 719.203 Q851.494 722.745 851.494 729.875 Q851.494 736.981 853.3 740.546 Q855.128 744.087 858.74 744.087 Q862.374 744.087 864.179 740.546 Q866.008 736.981 866.008 729.875 Q866.008 722.745 864.179 719.203 Q862.374 715.639 858.74 715.639 M858.74 711.935 Q864.55 711.935 867.605 716.541 Q870.684 721.125 870.684 729.875 Q870.684 738.601 867.605 743.208 Q864.55 747.791 858.74 747.791 Q852.929 747.791 849.851 743.208 Q846.795 738.601 846.795 729.875 Q846.795 721.125 849.851 716.541 Q852.929 711.935 858.74 711.935 Z\" fill=\"#000000\" fill-rule=\"evenodd\" fill-opacity=\"1\" /><path clip-path=\"url(#clip890)\" d=\"M 0 0 M861.931 715.639 Q858.32 715.639 856.491 719.203 Q854.686 722.745 854.686 729.875 Q854.686 736.981 856.491 740.546 Q858.32 744.087 861.931 744.087 Q865.565 744.087 867.371 740.546 Q869.199 736.981 869.199 729.875 Q869.199 722.745 867.371 719.203 Q865.565 715.639 861.931 715.639 M861.931 711.935 Q867.741 711.935 870.797 716.541 Q873.875 721.125 873.875 729.875 Q873.875 738.601 870.797 743.208 Q867.741 747.791 861.931 747.791 Q856.121 747.791 853.042 743.208 Q849.987 738.601 849.987 729.875 Q849.987 721.125 853.042 716.541 Q856.121 711.935 861.931 711.935 Z\" fill=\"#000000\" fill-rule=\"evenodd\" fill-opacity=\"1\" /><path clip-path=\"url(#clip890)\" d=\"M 0 0 M882.093 741.24 L886.977 741.24 L886.977 747.12 L882.093 747.12 L882.093 741.24 Z\" fill=\"#000000\" fill-rule=\"evenodd\" fill-opacity=\"1\" /><path clip-path=\"url(#clip890)\" d=\"M 0 0 M897.209 712.56 L915.565 712.56 L915.565 716.495 L901.491 716.495 L901.491 724.967 Q902.509 724.62 903.528 724.458 Q904.546 724.273 905.565 724.273 Q911.352 724.273 914.732 727.444 Q918.111 730.615 918.111 736.032 Q918.111 741.611 914.639 744.712 Q911.167 747.791 904.847 747.791 Q902.671 747.791 900.403 747.421 Q898.158 747.05 895.75 746.31 L895.75 741.611 Q897.834 742.745 900.056 743.3 Q902.278 743.856 904.755 743.856 Q908.759 743.856 911.097 741.75 Q913.435 739.643 913.435 736.032 Q913.435 732.421 911.097 730.314 Q908.759 728.208 904.755 728.208 Q902.88 728.208 901.005 728.625 Q899.153 729.041 897.209 729.921 L897.209 712.56 Z\" fill=\"#000000\" fill-rule=\"evenodd\" fill-opacity=\"1\" /><path clip-path=\"url(#clip890)\" d=\"M 0 0 M926.144 712.56 L948.366 712.56 L948.366 714.551 L935.819 747.12 L930.935 747.12 L942.741 716.495 L926.144 716.495 L926.144 712.56 Z\" fill=\"#000000\" fill-rule=\"evenodd\" fill-opacity=\"1\" /><path clip-path=\"url(#clip890)\" d=\"M 0 0 M958.296 743.185 L965.935 743.185 L965.935 716.819 L957.625 718.486 L957.625 714.227 L965.889 712.56 L970.565 712.56 L970.565 743.185 L978.203 743.185 L978.203 747.12 L958.296 747.12 L958.296 743.185 Z\" fill=\"#000000\" fill-rule=\"evenodd\" fill-opacity=\"1\" /><path clip-path=\"url(#clip890)\" d=\"M 0 0 M986.467 712.56 L1008.69 712.56 L1008.69 714.551 L996.143 747.12 L991.259 747.12 L1003.06 716.495 L986.467 716.495 L986.467 712.56 Z\" fill=\"#000000\" fill-rule=\"evenodd\" fill-opacity=\"1\" /><path clip-path=\"url(#clip890)\" d=\"M 0 0 M1017.86 712.56 L1036.21 712.56 L1036.21 716.495 L1022.14 716.495 L1022.14 724.967 Q1023.16 724.62 1024.18 724.458 Q1025.19 724.273 1026.21 724.273 Q1032 724.273 1035.38 727.444 Q1038.76 730.615 1038.76 736.032 Q1038.76 741.611 1035.29 744.712 Q1031.81 747.791 1025.49 747.791 Q1023.32 747.791 1021.05 747.421 Q1018.81 747.05 1016.4 746.31 L1016.4 741.611 Q1018.48 742.745 1020.7 743.3 Q1022.93 743.856 1025.4 743.856 Q1029.41 743.856 1031.74 741.75 Q1034.08 739.643 1034.08 736.032 Q1034.08 732.421 1031.74 730.314 Q1029.41 728.208 1025.4 728.208 Q1023.53 728.208 1021.65 728.625 Q1019.8 729.041 1017.86 729.921 L1017.86 712.56 Z\" fill=\"#000000\" fill-rule=\"evenodd\" fill-opacity=\"1\" /><path clip-path=\"url(#clip890)\" d=\"M 0 0 M1030.01 715.639 Q1026.39 715.639 1024.57 719.203 Q1022.76 722.745 1022.76 729.875 Q1022.76 736.981 1024.57 740.546 Q1026.39 744.087 1030.01 744.087 Q1033.64 744.087 1035.45 740.546 Q1037.27 736.981 1037.27 729.875 Q1037.27 722.745 1035.45 719.203 Q1033.64 715.639 1030.01 715.639 M1030.01 711.935 Q1035.82 711.935 1038.87 716.541 Q1041.95 721.125 1041.95 729.875 Q1041.95 738.601 1038.87 743.208 Q1035.82 747.791 1030.01 747.791 Q1024.2 747.791 1021.12 743.208 Q1018.06 738.601 1018.06 729.875 Q1018.06 721.125 1021.12 716.541 Q1024.2 711.935 1030.01 711.935 Z\" fill=\"#000000\" fill-rule=\"evenodd\" fill-opacity=\"1\" /><path clip-path=\"url(#clip890)\" d=\"M 0 0 M1050.17 741.24 L1055.05 741.24 L1055.05 747.12 L1050.17 747.12 L1050.17 741.24 Z\" fill=\"#000000\" fill-rule=\"evenodd\" fill-opacity=\"1\" /><path clip-path=\"url(#clip890)\" d=\"M 0 0 M1065.28 712.56 L1083.64 712.56 L1083.64 716.495 L1069.57 716.495 L1069.57 724.967 Q1070.58 724.62 1071.6 724.458 Q1072.62 724.273 1073.64 724.273 Q1079.43 724.273 1082.81 727.444 Q1086.19 730.615 1086.19 736.032 Q1086.19 741.611 1082.71 744.712 Q1079.24 747.791 1072.92 747.791 Q1070.75 747.791 1068.48 747.421 Q1066.23 747.05 1063.82 746.31 L1063.82 741.611 Q1065.91 742.745 1068.13 743.3 Q1070.35 743.856 1072.83 743.856 Q1076.83 743.856 1079.17 741.75 Q1081.51 739.643 1081.51 736.032 Q1081.51 732.421 1079.17 730.314 Q1076.83 728.208 1072.83 728.208 Q1070.95 728.208 1069.08 728.625 Q1067.23 729.041 1065.28 729.921 L1065.28 712.56 Z\" fill=\"#000000\" fill-rule=\"evenodd\" fill-opacity=\"1\" /><path clip-path=\"url(#clip890)\" d=\"M 0 0 M1094.22 712.56 L1116.44 712.56 L1116.44 714.551 L1103.89 747.12 L1099.01 747.12 L1110.82 716.495 L1094.22 716.495 L1094.22 712.56 Z\" fill=\"#000000\" fill-rule=\"evenodd\" fill-opacity=\"1\" /><path clip-path=\"url(#clip890)\" d=\"M 0 0 M1129.59 743.185 L1145.91 743.185 L1145.91 747.12 L1123.96 747.12 L1123.96 743.185 Q1126.63 740.43 1131.21 735.8 Q1135.82 731.148 1137 729.805 Q1139.24 727.282 1140.12 725.546 Q1141.02 723.787 1141.02 722.097 Q1141.02 719.342 1139.08 717.606 Q1137.16 715.87 1134.06 715.87 Q1131.86 715.87 1129.4 716.634 Q1126.97 717.398 1124.2 718.949 L1124.2 714.227 Q1127.02 713.092 1129.47 712.514 Q1131.93 711.935 1133.96 711.935 Q1139.33 711.935 1142.53 714.62 Q1145.72 717.305 1145.72 721.796 Q1145.72 723.926 1144.91 725.847 Q1144.13 727.745 1142.02 730.338 Q1141.44 731.009 1138.34 734.226 Q1135.24 737.421 1129.59 743.185 Z\" fill=\"#000000\" fill-rule=\"evenodd\" fill-opacity=\"1\" /><path clip-path=\"url(#clip890)\" d=\"M 0 0 M1165.72 715.639 Q1162.11 715.639 1160.28 719.203 Q1158.48 722.745 1158.48 729.875 Q1158.48 736.981 1160.28 740.546 Q1162.11 744.087 1165.72 744.087 Q1169.36 744.087 1171.16 740.546 Q1172.99 736.981 1172.99 729.875 Q1172.99 722.745 1171.16 719.203 Q1169.36 715.639 1165.72 715.639 M1165.72 711.935 Q1171.53 711.935 1174.59 716.541 Q1177.67 721.125 1177.67 729.875 Q1177.67 738.601 1174.59 743.208 Q1171.53 747.791 1165.72 747.791 Q1159.91 747.791 1156.83 743.208 Q1153.78 738.601 1153.78 729.875 Q1153.78 721.125 1156.83 716.541 Q1159.91 711.935 1165.72 711.935 Z\" fill=\"#000000\" fill-rule=\"evenodd\" fill-opacity=\"1\" /><path clip-path=\"url(#clip890)\" d=\"M 0 0 M1195.88 715.639 Q1192.27 715.639 1190.44 719.203 Q1188.64 722.745 1188.64 729.875 Q1188.64 736.981 1190.44 740.546 Q1192.27 744.087 1195.88 744.087 Q1199.52 744.087 1201.32 740.546 Q1203.15 736.981 1203.15 729.875 Q1203.15 722.745 1201.32 719.203 Q1199.52 715.639 1195.88 715.639 M1195.88 711.935 Q1201.69 711.935 1204.75 716.541 Q1207.83 721.125 1207.83 729.875 Q1207.83 738.601 1204.75 743.208 Q1201.69 747.791 1195.88 747.791 Q1190.07 747.791 1187 743.208 Q1183.94 738.601 1183.94 729.875 Q1183.94 721.125 1187 716.541 Q1190.07 711.935 1195.88 711.935 Z\" fill=\"#000000\" fill-rule=\"evenodd\" fill-opacity=\"1\" /><polyline clip-path=\"url(#clip892)\" style=\"stroke:#000000; stroke-width:2; stroke-opacity:0.1; fill:none\" points=\"\n",
       "  335.867,670.547 1152.76,670.547 \n",
       "  \"/>\n",
       "<polyline clip-path=\"url(#clip892)\" style=\"stroke:#000000; stroke-width:2; stroke-opacity:0.1; fill:none\" points=\"\n",
       "  335.867,489.091 1152.76,489.091 \n",
       "  \"/>\n",
       "<polyline clip-path=\"url(#clip892)\" style=\"stroke:#000000; stroke-width:2; stroke-opacity:0.1; fill:none\" points=\"\n",
       "  335.867,307.634 1152.76,307.634 \n",
       "  \"/>\n",
       "<polyline clip-path=\"url(#clip892)\" style=\"stroke:#000000; stroke-width:2; stroke-opacity:0.1; fill:none\" points=\"\n",
       "  335.867,126.177 1152.76,126.177 \n",
       "  \"/>\n",
       "<polyline clip-path=\"url(#clip890)\" style=\"stroke:#000000; stroke-width:4; stroke-opacity:1; fill:none\" points=\"\n",
       "  335.867,686.448 335.867,123.472 \n",
       "  \"/>\n",
       "<polyline clip-path=\"url(#clip890)\" style=\"stroke:#000000; stroke-width:4; stroke-opacity:1; fill:none\" points=\"\n",
       "  335.867,670.547 345.669,670.547 \n",
       "  \"/>\n",
       "<polyline clip-path=\"url(#clip890)\" style=\"stroke:#000000; stroke-width:4; stroke-opacity:1; fill:none\" points=\"\n",
       "  335.867,489.091 345.669,489.091 \n",
       "  \"/>\n",
       "<polyline clip-path=\"url(#clip890)\" style=\"stroke:#000000; stroke-width:4; stroke-opacity:1; fill:none\" points=\"\n",
       "  335.867,307.634 345.669,307.634 \n",
       "  \"/>\n",
       "<polyline clip-path=\"url(#clip890)\" style=\"stroke:#000000; stroke-width:4; stroke-opacity:1; fill:none\" points=\"\n",
       "  335.867,126.177 345.669,126.177 \n",
       "  \"/>\n",
       "<path clip-path=\"url(#clip890)\" d=\"M 0 0 M63.6541 675.131 Q60.506 675.131 58.6541 677.284 Q56.8254 679.437 56.8254 683.187 Q56.8254 686.914 58.6541 689.09 Q60.506 691.242 63.6541 691.242 Q66.8022 691.242 68.6309 689.09 Q70.4828 686.914 70.4828 683.187 Q70.4828 679.437 68.6309 677.284 Q66.8022 675.131 63.6541 675.131 M72.9365 660.479 L72.9365 664.738 Q71.1772 663.905 69.3717 663.465 Q67.5893 663.025 65.83 663.025 Q61.2004 663.025 58.7467 666.15 Q56.3162 669.275 55.969 675.594 Q57.3347 673.581 59.3949 672.516 Q61.455 671.428 63.9319 671.428 Q69.1402 671.428 72.1494 674.599 Q75.1818 677.747 75.1818 683.187 Q75.1818 688.511 72.0337 691.729 Q68.8855 694.946 63.6541 694.946 Q57.6588 694.946 54.4875 690.363 Q51.3162 685.756 51.3162 677.03 Q51.3162 668.835 55.2051 663.974 Q59.0939 659.09 65.6448 659.09 Q67.4041 659.09 69.1865 659.437 Q70.992 659.784 72.9365 660.479 Z\" fill=\"#000000\" fill-rule=\"evenodd\" fill-opacity=\"1\" /><path clip-path=\"url(#clip890)\" d=\"M 0 0 M83.2373 688.395 L88.1216 688.395 L88.1216 694.275 L83.2373 694.275 L83.2373 688.395 Z\" fill=\"#000000\" fill-rule=\"evenodd\" fill-opacity=\"1\" /><path clip-path=\"url(#clip890)\" d=\"M 0 0 M97.1261 659.715 L119.348 659.715 L119.348 661.706 L106.802 694.275 L101.918 694.275 L113.723 663.65 L97.1261 663.65 L97.1261 659.715 Z\" fill=\"#000000\" fill-rule=\"evenodd\" fill-opacity=\"1\" /><path clip-path=\"url(#clip890)\" d=\"M 0 0 M138.469 662.794 Q134.857 662.794 133.029 666.358 Q131.223 669.9 131.223 677.03 Q131.223 684.136 133.029 687.701 Q134.857 691.242 138.469 691.242 Q142.103 691.242 143.908 687.701 Q145.737 684.136 145.737 677.03 Q145.737 669.9 143.908 666.358 Q142.103 662.794 138.469 662.794 M138.469 659.09 Q144.279 659.09 147.334 663.696 Q150.413 668.28 150.413 677.03 Q150.413 685.756 147.334 690.363 Q144.279 694.946 138.469 694.946 Q132.658 694.946 129.58 690.363 Q126.524 685.756 126.524 677.03 Q126.524 668.28 129.58 663.696 Q132.658 659.09 138.469 659.09 Z\" fill=\"#000000\" fill-rule=\"evenodd\" fill-opacity=\"1\" /><path clip-path=\"url(#clip890)\" d=\"M 0 0 M186.802 668.812 L176.223 679.437 L186.802 690.016 L184.047 692.817 L173.422 682.192 L162.797 692.817 L160.066 690.016 L170.621 679.437 L160.066 668.812 L162.797 666.011 L173.422 676.636 L184.047 666.011 L186.802 668.812 Z\" fill=\"#000000\" fill-rule=\"evenodd\" fill-opacity=\"1\" /><path clip-path=\"url(#clip890)\" d=\"M 0 0 M199.163 690.34 L206.801 690.34 L206.801 663.974 L198.491 665.641 L198.491 661.382 L206.755 659.715 L211.431 659.715 L211.431 690.34 L219.07 690.34 L219.07 694.275 L199.163 694.275 L199.163 690.34 Z\" fill=\"#000000\" fill-rule=\"evenodd\" fill-opacity=\"1\" /><path clip-path=\"url(#clip890)\" d=\"M 0 0 M238.514 662.794 Q234.903 662.794 233.074 666.358 Q231.269 669.9 231.269 677.03 Q231.269 684.136 233.074 687.701 Q234.903 691.242 238.514 691.242 Q242.149 691.242 243.954 687.701 Q245.783 684.136 245.783 677.03 Q245.783 669.9 243.954 666.358 Q242.149 662.794 238.514 662.794 M238.514 659.09 Q244.324 659.09 247.38 663.696 Q250.459 668.28 250.459 677.03 Q250.459 685.756 247.38 690.363 Q244.324 694.946 238.514 694.946 Q232.704 694.946 229.625 690.363 Q226.57 685.756 226.57 677.03 Q226.57 668.28 229.625 663.696 Q232.704 659.09 238.514 659.09 Z\" fill=\"#000000\" fill-rule=\"evenodd\" fill-opacity=\"1\" /><path clip-path=\"url(#clip890)\" d=\"M 0 0 M250.459 653.191 L274.57 653.191 L274.57 656.389 L250.459 656.389 L250.459 653.191 Z\" fill=\"#000000\" fill-rule=\"evenodd\" fill-opacity=\"1\" /><path clip-path=\"url(#clip890)\" d=\"M 0 0 M281.811 638.784 L299.867 638.784 L299.867 640.402 L289.673 666.864 L285.704 666.864 L295.296 641.982 L281.811 641.982 L281.811 638.784 Z\" fill=\"#000000\" fill-rule=\"evenodd\" fill-opacity=\"1\" /><path clip-path=\"url(#clip890)\" d=\"M 0 0 M63.6541 493.675 Q60.506 493.675 58.6541 495.827 Q56.8254 497.98 56.8254 501.73 Q56.8254 505.457 58.6541 507.633 Q60.506 509.786 63.6541 509.786 Q66.8022 509.786 68.6309 507.633 Q70.4828 505.457 70.4828 501.73 Q70.4828 497.98 68.6309 495.827 Q66.8022 493.675 63.6541 493.675 M72.9365 479.022 L72.9365 483.281 Q71.1772 482.448 69.3717 482.008 Q67.5893 481.568 65.83 481.568 Q61.2004 481.568 58.7467 484.693 Q56.3162 487.818 55.969 494.138 Q57.3347 492.124 59.3949 491.059 Q61.455 489.971 63.9319 489.971 Q69.1402 489.971 72.1494 493.142 Q75.1818 496.29 75.1818 501.73 Q75.1818 507.054 72.0337 510.272 Q68.8855 513.489 63.6541 513.489 Q57.6588 513.489 54.4875 508.906 Q51.3162 504.3 51.3162 495.573 Q51.3162 487.378 55.2051 482.517 Q59.0939 477.633 65.6448 477.633 Q67.4041 477.633 69.1865 477.98 Q70.992 478.328 72.9365 479.022 Z\" fill=\"#000000\" fill-rule=\"evenodd\" fill-opacity=\"1\" /><path clip-path=\"url(#clip890)\" d=\"M 0 0 M83.2373 506.939 L88.1216 506.939 L88.1216 512.818 L83.2373 512.818 L83.2373 506.939 Z\" fill=\"#000000\" fill-rule=\"evenodd\" fill-opacity=\"1\" /><path clip-path=\"url(#clip890)\" d=\"M 0 0 M108.307 496.406 Q104.973 496.406 103.052 498.189 Q101.154 499.971 101.154 503.096 Q101.154 506.221 103.052 508.003 Q104.973 509.786 108.307 509.786 Q111.64 509.786 113.561 508.003 Q115.483 506.198 115.483 503.096 Q115.483 499.971 113.561 498.189 Q111.663 496.406 108.307 496.406 M103.631 494.415 Q100.621 493.675 98.9317 491.615 Q97.265 489.554 97.265 486.591 Q97.265 482.448 100.205 480.041 Q103.168 477.633 108.307 477.633 Q113.469 477.633 116.408 480.041 Q119.348 482.448 119.348 486.591 Q119.348 489.554 117.658 491.615 Q115.992 493.675 113.006 494.415 Q116.385 495.202 118.26 497.494 Q120.158 499.786 120.158 503.096 Q120.158 508.119 117.08 510.804 Q114.024 513.489 108.307 513.489 Q102.589 513.489 99.5104 510.804 Q96.4548 508.119 96.4548 503.096 Q96.4548 499.786 98.353 497.494 Q100.251 495.202 103.631 494.415 M101.918 487.031 Q101.918 489.716 103.584 491.221 Q105.274 492.726 108.307 492.726 Q111.316 492.726 113.006 491.221 Q114.719 489.716 114.719 487.031 Q114.719 484.346 113.006 482.841 Q111.316 481.337 108.307 481.337 Q105.274 481.337 103.584 482.841 Q101.918 484.346 101.918 487.031 Z\" fill=\"#000000\" fill-rule=\"evenodd\" fill-opacity=\"1\" /><path clip-path=\"url(#clip890)\" d=\"M 0 0 M138.469 481.337 Q134.857 481.337 133.029 484.902 Q131.223 488.443 131.223 495.573 Q131.223 502.679 133.029 506.244 Q134.857 509.786 138.469 509.786 Q142.103 509.786 143.908 506.244 Q145.737 502.679 145.737 495.573 Q145.737 488.443 143.908 484.902 Q142.103 481.337 138.469 481.337 M138.469 477.633 Q144.279 477.633 147.334 482.24 Q150.413 486.823 150.413 495.573 Q150.413 504.3 147.334 508.906 Q144.279 513.489 138.469 513.489 Q132.658 513.489 129.58 508.906 Q126.524 504.3 126.524 495.573 Q126.524 486.823 129.58 482.24 Q132.658 477.633 138.469 477.633 Z\" fill=\"#000000\" fill-rule=\"evenodd\" fill-opacity=\"1\" /><path clip-path=\"url(#clip890)\" d=\"M 0 0 M186.802 487.355 L176.223 497.98 L186.802 508.559 L184.047 511.36 L173.422 500.735 L162.797 511.36 L160.066 508.559 L170.621 497.98 L160.066 487.355 L162.797 484.554 L173.422 495.179 L184.047 484.554 L186.802 487.355 Z\" fill=\"#000000\" fill-rule=\"evenodd\" fill-opacity=\"1\" /><path clip-path=\"url(#clip890)\" d=\"M 0 0 M199.163 508.883 L206.801 508.883 L206.801 482.517 L198.491 484.184 L198.491 479.925 L206.755 478.258 L211.431 478.258 L211.431 508.883 L219.07 508.883 L219.07 512.818 L199.163 512.818 L199.163 508.883 Z\" fill=\"#000000\" fill-rule=\"evenodd\" fill-opacity=\"1\" /><path clip-path=\"url(#clip890)\" d=\"M 0 0 M238.514 481.337 Q234.903 481.337 233.074 484.902 Q231.269 488.443 231.269 495.573 Q231.269 502.679 233.074 506.244 Q234.903 509.786 238.514 509.786 Q242.149 509.786 243.954 506.244 Q245.783 502.679 245.783 495.573 Q245.783 488.443 243.954 484.902 Q242.149 481.337 238.514 481.337 M238.514 477.633 Q244.324 477.633 247.38 482.24 Q250.459 486.823 250.459 495.573 Q250.459 504.3 247.38 508.906 Q244.324 513.489 238.514 513.489 Q232.704 513.489 229.625 508.906 Q226.57 504.3 226.57 495.573 Q226.57 486.823 229.625 482.24 Q232.704 477.633 238.514 477.633 Z\" fill=\"#000000\" fill-rule=\"evenodd\" fill-opacity=\"1\" /><path clip-path=\"url(#clip890)\" d=\"M 0 0 M250.459 471.734 L274.57 471.734 L274.57 474.932 L250.459 474.932 L250.459 471.734 Z\" fill=\"#000000\" fill-rule=\"evenodd\" fill-opacity=\"1\" /><path clip-path=\"url(#clip890)\" d=\"M 0 0 M281.811 457.328 L299.867 457.328 L299.867 458.945 L289.673 485.408 L285.704 485.408 L295.296 460.525 L281.811 460.525 L281.811 457.328 Z\" fill=\"#000000\" fill-rule=\"evenodd\" fill-opacity=\"1\" /><path clip-path=\"url(#clip890)\" d=\"M 0 0 M63.6541 312.218 Q60.506 312.218 58.6541 314.371 Q56.8254 316.523 56.8254 320.273 Q56.8254 324 58.6541 326.176 Q60.506 328.329 63.6541 328.329 Q66.8022 328.329 68.6309 326.176 Q70.4828 324 70.4828 320.273 Q70.4828 316.523 68.6309 314.371 Q66.8022 312.218 63.6541 312.218 M72.9365 297.565 L72.9365 301.824 Q71.1772 300.991 69.3717 300.551 Q67.5893 300.112 65.83 300.112 Q61.2004 300.112 58.7467 303.237 Q56.3162 306.362 55.969 312.681 Q57.3347 310.667 59.3949 309.602 Q61.455 308.514 63.9319 308.514 Q69.1402 308.514 72.1494 311.686 Q75.1818 314.834 75.1818 320.273 Q75.1818 325.598 72.0337 328.815 Q68.8855 332.033 63.6541 332.033 Q57.6588 332.033 54.4875 327.449 Q51.3162 322.843 51.3162 314.116 Q51.3162 305.922 55.2051 301.061 Q59.0939 296.176 65.6448 296.176 Q67.4041 296.176 69.1865 296.524 Q70.992 296.871 72.9365 297.565 Z\" fill=\"#000000\" fill-rule=\"evenodd\" fill-opacity=\"1\" /><path clip-path=\"url(#clip890)\" d=\"M 0 0 M83.2373 325.482 L88.1216 325.482 L88.1216 331.361 L83.2373 331.361 L83.2373 325.482 Z\" fill=\"#000000\" fill-rule=\"evenodd\" fill-opacity=\"1\" /><path clip-path=\"url(#clip890)\" d=\"M 0 0 M98.4456 330.644 L98.4456 326.385 Q100.205 327.218 102.01 327.658 Q103.816 328.098 105.552 328.098 Q110.182 328.098 112.612 324.996 Q115.066 321.871 115.413 315.528 Q114.07 317.519 112.01 318.584 Q109.95 319.648 107.45 319.648 Q102.265 319.648 99.2326 316.523 Q96.2234 313.375 96.2234 307.936 Q96.2234 302.612 99.3715 299.394 Q102.52 296.176 107.751 296.176 Q113.746 296.176 116.895 300.783 Q120.066 305.366 120.066 314.116 Q120.066 322.287 116.177 327.172 Q112.311 332.033 105.76 332.033 Q104.001 332.033 102.196 331.685 Q100.39 331.338 98.4456 330.644 M107.751 315.991 Q110.899 315.991 112.728 313.838 Q114.58 311.686 114.58 307.936 Q114.58 304.209 112.728 302.056 Q110.899 299.88 107.751 299.88 Q104.603 299.88 102.751 302.056 Q100.922 304.209 100.922 307.936 Q100.922 311.686 102.751 313.838 Q104.603 315.991 107.751 315.991 Z\" fill=\"#000000\" fill-rule=\"evenodd\" fill-opacity=\"1\" /><path clip-path=\"url(#clip890)\" d=\"M 0 0 M138.469 299.88 Q134.857 299.88 133.029 303.445 Q131.223 306.987 131.223 314.116 Q131.223 321.223 133.029 324.787 Q134.857 328.329 138.469 328.329 Q142.103 328.329 143.908 324.787 Q145.737 321.223 145.737 314.116 Q145.737 306.987 143.908 303.445 Q142.103 299.88 138.469 299.88 M138.469 296.176 Q144.279 296.176 147.334 300.783 Q150.413 305.366 150.413 314.116 Q150.413 322.843 147.334 327.449 Q144.279 332.033 138.469 332.033 Q132.658 332.033 129.58 327.449 Q126.524 322.843 126.524 314.116 Q126.524 305.366 129.58 300.783 Q132.658 296.176 138.469 296.176 Z\" fill=\"#000000\" fill-rule=\"evenodd\" fill-opacity=\"1\" /><path clip-path=\"url(#clip890)\" d=\"M 0 0 M186.802 305.899 L176.223 316.523 L186.802 327.102 L184.047 329.903 L173.422 319.278 L162.797 329.903 L160.066 327.102 L170.621 316.523 L160.066 305.899 L162.797 303.098 L173.422 313.723 L184.047 303.098 L186.802 305.899 Z\" fill=\"#000000\" fill-rule=\"evenodd\" fill-opacity=\"1\" /><path clip-path=\"url(#clip890)\" d=\"M 0 0 M199.163 327.426 L206.801 327.426 L206.801 301.061 L198.491 302.727 L198.491 298.468 L206.755 296.801 L211.431 296.801 L211.431 327.426 L219.07 327.426 L219.07 331.361 L199.163 331.361 L199.163 327.426 Z\" fill=\"#000000\" fill-rule=\"evenodd\" fill-opacity=\"1\" /><path clip-path=\"url(#clip890)\" d=\"M 0 0 M238.514 299.88 Q234.903 299.88 233.074 303.445 Q231.269 306.987 231.269 314.116 Q231.269 321.223 233.074 324.787 Q234.903 328.329 238.514 328.329 Q242.149 328.329 243.954 324.787 Q245.783 321.223 245.783 314.116 Q245.783 306.987 243.954 303.445 Q242.149 299.88 238.514 299.88 M238.514 296.176 Q244.324 296.176 247.38 300.783 Q250.459 305.366 250.459 314.116 Q250.459 322.843 247.38 327.449 Q244.324 332.033 238.514 332.033 Q232.704 332.033 229.625 327.449 Q226.57 322.843 226.57 314.116 Q226.57 305.366 229.625 300.783 Q232.704 296.176 238.514 296.176 Z\" fill=\"#000000\" fill-rule=\"evenodd\" fill-opacity=\"1\" /><path clip-path=\"url(#clip890)\" d=\"M 0 0 M250.459 290.278 L274.57 290.278 L274.57 293.475 L250.459 293.475 L250.459 290.278 Z\" fill=\"#000000\" fill-rule=\"evenodd\" fill-opacity=\"1\" /><path clip-path=\"url(#clip890)\" d=\"M 0 0 M281.811 275.871 L299.867 275.871 L299.867 277.488 L289.673 303.951 L285.704 303.951 L295.296 279.068 L281.811 279.068 L281.811 275.871 Z\" fill=\"#000000\" fill-rule=\"evenodd\" fill-opacity=\"1\" /><path clip-path=\"url(#clip890)\" d=\"M 0 0 M51.8949 115.345 L74.117 115.345 L74.117 117.335 L61.5708 149.905 L56.6865 149.905 L68.492 119.28 L51.8949 119.28 L51.8949 115.345 Z\" fill=\"#000000\" fill-rule=\"evenodd\" fill-opacity=\"1\" /><path clip-path=\"url(#clip890)\" d=\"M 0 0 M83.2373 144.025 L88.1216 144.025 L88.1216 149.905 L83.2373 149.905 L83.2373 144.025 Z\" fill=\"#000000\" fill-rule=\"evenodd\" fill-opacity=\"1\" /><path clip-path=\"url(#clip890)\" d=\"M 0 0 M108.307 118.423 Q104.696 118.423 102.867 121.988 Q101.061 125.53 101.061 132.659 Q101.061 139.766 102.867 143.331 Q104.696 146.872 108.307 146.872 Q111.941 146.872 113.746 143.331 Q115.575 139.766 115.575 132.659 Q115.575 125.53 113.746 121.988 Q111.941 118.423 108.307 118.423 M108.307 114.72 Q114.117 114.72 117.172 119.326 Q120.251 123.909 120.251 132.659 Q120.251 141.386 117.172 145.993 Q114.117 150.576 108.307 150.576 Q102.496 150.576 99.4178 145.993 Q96.3623 141.386 96.3623 132.659 Q96.3623 123.909 99.4178 119.326 Q102.496 114.72 108.307 114.72 Z\" fill=\"#000000\" fill-rule=\"evenodd\" fill-opacity=\"1\" /><path clip-path=\"url(#clip890)\" d=\"M 0 0 M138.469 118.423 Q134.857 118.423 133.029 121.988 Q131.223 125.53 131.223 132.659 Q131.223 139.766 133.029 143.331 Q134.857 146.872 138.469 146.872 Q142.103 146.872 143.908 143.331 Q145.737 139.766 145.737 132.659 Q145.737 125.53 143.908 121.988 Q142.103 118.423 138.469 118.423 M138.469 114.72 Q144.279 114.72 147.334 119.326 Q150.413 123.909 150.413 132.659 Q150.413 141.386 147.334 145.993 Q144.279 150.576 138.469 150.576 Q132.658 150.576 129.58 145.993 Q126.524 141.386 126.524 132.659 Q126.524 123.909 129.58 119.326 Q132.658 114.72 138.469 114.72 Z\" fill=\"#000000\" fill-rule=\"evenodd\" fill-opacity=\"1\" /><path clip-path=\"url(#clip890)\" d=\"M 0 0 M186.802 124.442 L176.223 135.067 L186.802 145.645 L184.047 148.446 L173.422 137.821 L162.797 148.446 L160.066 145.645 L170.621 135.067 L160.066 124.442 L162.797 121.641 L173.422 132.266 L184.047 121.641 L186.802 124.442 Z\" fill=\"#000000\" fill-rule=\"evenodd\" fill-opacity=\"1\" /><path clip-path=\"url(#clip890)\" d=\"M 0 0 M199.163 145.969 L206.801 145.969 L206.801 119.604 L198.491 121.271 L198.491 117.011 L206.755 115.345 L211.431 115.345 L211.431 145.969 L219.07 145.969 L219.07 149.905 L199.163 149.905 L199.163 145.969 Z\" fill=\"#000000\" fill-rule=\"evenodd\" fill-opacity=\"1\" /><path clip-path=\"url(#clip890)\" d=\"M 0 0 M238.514 118.423 Q234.903 118.423 233.074 121.988 Q231.269 125.53 231.269 132.659 Q231.269 139.766 233.074 143.331 Q234.903 146.872 238.514 146.872 Q242.149 146.872 243.954 143.331 Q245.783 139.766 245.783 132.659 Q245.783 125.53 243.954 121.988 Q242.149 118.423 238.514 118.423 M238.514 114.72 Q244.324 114.72 247.38 119.326 Q250.459 123.909 250.459 132.659 Q250.459 141.386 247.38 145.993 Q244.324 150.576 238.514 150.576 Q232.704 150.576 229.625 145.993 Q226.57 141.386 226.57 132.659 Q226.57 123.909 229.625 119.326 Q232.704 114.72 238.514 114.72 Z\" fill=\"#000000\" fill-rule=\"evenodd\" fill-opacity=\"1\" /><path clip-path=\"url(#clip890)\" d=\"M 0 0 M250.459 108.821 L274.57 108.821 L274.57 112.018 L250.459 112.018 L250.459 108.821 Z\" fill=\"#000000\" fill-rule=\"evenodd\" fill-opacity=\"1\" /><path clip-path=\"url(#clip890)\" d=\"M 0 0 M281.811 94.4142 L299.867 94.4142 L299.867 96.0317 L289.673 122.494 L285.704 122.494 L295.296 97.6116 L281.811 97.6116 L281.811 94.4142 Z\" fill=\"#000000\" fill-rule=\"evenodd\" fill-opacity=\"1\" /><path clip-path=\"url(#clip890)\" d=\"M 0 0 M659.04 49.7694 Q650.006 49.7694 646.522 51.8354 Q643.039 53.9013 643.039 58.8839 Q643.039 62.8538 645.631 65.2034 Q648.264 67.5124 652.761 67.5124 Q658.959 67.5124 662.686 63.1374 Q666.453 58.7219 666.453 51.4303 L666.453 49.7694 L659.04 49.7694 M673.907 46.6907 L673.907 72.576 L666.453 72.576 L666.453 65.6895 Q663.901 69.8214 660.093 71.8063 Q656.285 73.7508 650.776 73.7508 Q643.808 73.7508 639.676 69.8619 Q635.585 65.9325 635.585 59.3701 Q635.585 51.7138 640.689 47.825 Q645.834 43.9361 656.002 43.9361 L666.453 43.9361 L666.453 43.2069 Q666.453 38.0623 663.05 35.2672 Q659.688 32.4315 653.571 32.4315 Q649.682 32.4315 645.996 33.3632 Q642.31 34.295 638.907 36.1584 L638.907 29.2718 Q642.998 27.692 646.847 26.9223 Q650.695 26.1121 654.341 26.1121 Q664.184 26.1121 669.045 31.2163 Q673.907 36.3204 673.907 46.6907 Z\" fill=\"#000000\" fill-rule=\"evenodd\" fill-opacity=\"1\" /><path clip-path=\"url(#clip890)\" d=\"M 0 0 M689.259 9.54393 L696.713 9.54393 L696.713 72.576 L689.259 72.576 L689.259 9.54393 Z\" fill=\"#000000\" fill-rule=\"evenodd\" fill-opacity=\"1\" /><path clip-path=\"url(#clip890)\" d=\"M 0 0 M719.52 65.7705 L719.52 89.8329 L712.026 89.8329 L712.026 27.2059 L719.52 27.2059 L719.52 34.0924 Q721.869 30.0415 725.434 28.0971 Q729.039 26.1121 734.022 26.1121 Q742.286 26.1121 747.43 32.6746 Q752.616 39.2371 752.616 49.9314 Q752.616 60.6258 747.43 67.1883 Q742.286 73.7508 734.022 73.7508 Q729.039 73.7508 725.434 71.8063 Q721.869 69.8214 719.52 65.7705 M744.878 49.9314 Q744.878 41.7081 741.476 37.0496 Q738.113 32.3505 732.199 32.3505 Q726.285 32.3505 722.882 37.0496 Q719.52 41.7081 719.52 49.9314 Q719.52 58.1548 722.882 62.8538 Q726.285 67.5124 732.199 67.5124 Q738.113 67.5124 741.476 62.8538 Q744.878 58.1548 744.878 49.9314 Z\" fill=\"#000000\" fill-rule=\"evenodd\" fill-opacity=\"1\" /><path clip-path=\"url(#clip890)\" d=\"M 0 0 M802.685 45.1919 L802.685 72.576 L795.231 72.576 L795.231 45.4349 Q795.231 38.994 792.72 35.7938 Q790.208 32.5936 785.185 32.5936 Q779.149 32.5936 775.665 36.4419 Q772.182 40.2903 772.182 46.9338 L772.182 72.576 L764.687 72.576 L764.687 9.54393 L772.182 9.54393 L772.182 34.2544 Q774.855 30.163 778.46 28.1376 Q782.106 26.1121 786.846 26.1121 Q794.664 26.1121 798.674 30.9732 Q802.685 35.7938 802.685 45.1919 Z\" fill=\"#000000\" fill-rule=\"evenodd\" fill-opacity=\"1\" /><path clip-path=\"url(#clip890)\" d=\"M 0 0 M838.171 49.7694 Q829.137 49.7694 825.653 51.8354 Q822.17 53.9013 822.17 58.8839 Q822.17 62.8538 824.762 65.2034 Q827.395 67.5124 831.892 67.5124 Q838.09 67.5124 841.817 63.1374 Q845.584 58.7219 845.584 51.4303 L845.584 49.7694 L838.171 49.7694 M853.038 46.6907 L853.038 72.576 L845.584 72.576 L845.584 65.6895 Q843.032 69.8214 839.224 71.8063 Q835.416 73.7508 829.907 73.7508 Q822.939 73.7508 818.807 69.8619 Q814.716 65.9325 814.716 59.3701 Q814.716 51.7138 819.82 47.825 Q824.965 43.9361 835.133 43.9361 L845.584 43.9361 L845.584 43.2069 Q845.584 38.0623 842.181 35.2672 Q838.819 32.4315 832.702 32.4315 Q828.813 32.4315 825.127 33.3632 Q821.44 34.295 818.038 36.1584 L818.038 29.2718 Q822.129 27.692 825.978 26.9223 Q829.826 26.1121 833.472 26.1121 Q843.315 26.1121 848.176 31.2163 Q853.038 36.3204 853.038 46.6907 Z\" fill=\"#000000\" fill-rule=\"evenodd\" fill-opacity=\"1\" /><polyline clip-path=\"url(#clip892)\" style=\"stroke:#009af9; stroke-width:4; stroke-opacity:1; fill:none\" points=\"\n",
       "  358.986,139.486 551.649,537.752 744.311,670.515 936.974,537.742 1129.64,139.405 \n",
       "  \"/>\n",
       "<polyline clip-path=\"url(#clip892)\" style=\"stroke:#e26f46; stroke-width:4; stroke-opacity:1; fill:none\" points=\"\n",
       "  744.311,1249.42 744.311,-439.504 \n",
       "  \"/>\n",
       "<path clip-path=\"url(#clip890)\" d=\"\n",
       "M1535.87 686.448 L2352.76 686.448 L2352.76 123.472 L1535.87 123.472  Z\n",
       "  \" fill=\"#ffffff\" fill-rule=\"evenodd\" fill-opacity=\"1\"/>\n",
       "<defs>\n",
       "  <clipPath id=\"clip893\">\n",
       "    <rect x=\"1535\" y=\"123\" width=\"818\" height=\"564\"/>\n",
       "  </clipPath>\n",
       "</defs>\n",
       "<polyline clip-path=\"url(#clip893)\" style=\"stroke:#000000; stroke-width:2; stroke-opacity:0.1; fill:none\" points=\"\n",
       "  1592.94,686.448 1592.94,123.472 \n",
       "  \"/>\n",
       "<polyline clip-path=\"url(#clip893)\" style=\"stroke:#000000; stroke-width:2; stroke-opacity:0.1; fill:none\" points=\"\n",
       "  1758.16,686.448 1758.16,123.472 \n",
       "  \"/>\n",
       "<polyline clip-path=\"url(#clip893)\" style=\"stroke:#000000; stroke-width:2; stroke-opacity:0.1; fill:none\" points=\"\n",
       "  1923.39,686.448 1923.39,123.472 \n",
       "  \"/>\n",
       "<polyline clip-path=\"url(#clip893)\" style=\"stroke:#000000; stroke-width:2; stroke-opacity:0.1; fill:none\" points=\"\n",
       "  2088.61,686.448 2088.61,123.472 \n",
       "  \"/>\n",
       "<polyline clip-path=\"url(#clip893)\" style=\"stroke:#000000; stroke-width:2; stroke-opacity:0.1; fill:none\" points=\"\n",
       "  2253.84,686.448 2253.84,123.472 \n",
       "  \"/>\n",
       "<polyline clip-path=\"url(#clip890)\" style=\"stroke:#000000; stroke-width:4; stroke-opacity:1; fill:none\" points=\"\n",
       "  1535.87,686.448 2352.76,686.448 \n",
       "  \"/>\n",
       "<polyline clip-path=\"url(#clip890)\" style=\"stroke:#000000; stroke-width:4; stroke-opacity:1; fill:none\" points=\"\n",
       "  1592.94,686.448 1592.94,679.692 \n",
       "  \"/>\n",
       "<polyline clip-path=\"url(#clip890)\" style=\"stroke:#000000; stroke-width:4; stroke-opacity:1; fill:none\" points=\"\n",
       "  1758.16,686.448 1758.16,679.692 \n",
       "  \"/>\n",
       "<polyline clip-path=\"url(#clip890)\" style=\"stroke:#000000; stroke-width:4; stroke-opacity:1; fill:none\" points=\"\n",
       "  1923.39,686.448 1923.39,679.692 \n",
       "  \"/>\n",
       "<polyline clip-path=\"url(#clip890)\" style=\"stroke:#000000; stroke-width:4; stroke-opacity:1; fill:none\" points=\"\n",
       "  2088.61,686.448 2088.61,679.692 \n",
       "  \"/>\n",
       "<polyline clip-path=\"url(#clip890)\" style=\"stroke:#000000; stroke-width:4; stroke-opacity:1; fill:none\" points=\"\n",
       "  2253.84,686.448 2253.84,679.692 \n",
       "  \"/>\n",
       "<path clip-path=\"url(#clip890)\" d=\"M 0 0 M1510 715.639 Q1506.39 715.639 1504.56 719.203 Q1502.75 722.745 1502.75 729.875 Q1502.75 736.981 1504.56 740.546 Q1506.39 744.087 1510 744.087 Q1513.63 744.087 1515.44 740.546 Q1517.27 736.981 1517.27 729.875 Q1517.27 722.745 1515.44 719.203 Q1513.63 715.639 1510 715.639 M1510 711.935 Q1515.81 711.935 1518.86 716.541 Q1521.94 721.125 1521.94 729.875 Q1521.94 738.601 1518.86 743.208 Q1515.81 747.791 1510 747.791 Q1504.19 747.791 1501.11 743.208 Q1498.05 738.601 1498.05 729.875 Q1498.05 721.125 1501.11 716.541 Q1504.19 711.935 1510 711.935 Z\" fill=\"#000000\" fill-rule=\"evenodd\" fill-opacity=\"1\" /><path clip-path=\"url(#clip890)\" d=\"M 0 0 M1530.16 741.24 L1535.04 741.24 L1535.04 747.12 L1530.16 747.12 L1530.16 741.24 Z\" fill=\"#000000\" fill-rule=\"evenodd\" fill-opacity=\"1\" /><path clip-path=\"url(#clip890)\" d=\"M 0 0 M1545.28 712.56 L1563.63 712.56 L1563.63 716.495 L1549.56 716.495 L1549.56 724.967 Q1550.58 724.62 1551.59 724.458 Q1552.61 724.273 1553.63 724.273 Q1559.42 724.273 1562.8 727.444 Q1566.18 730.615 1566.18 736.032 Q1566.18 741.611 1562.71 744.712 Q1559.23 747.791 1552.91 747.791 Q1550.74 747.791 1548.47 747.421 Q1546.22 747.05 1543.82 746.31 L1543.82 741.611 Q1545.9 742.745 1548.12 743.3 Q1550.34 743.856 1552.82 743.856 Q1556.83 743.856 1559.16 741.75 Q1561.5 739.643 1561.5 736.032 Q1561.5 732.421 1559.16 730.314 Q1556.83 728.208 1552.82 728.208 Q1550.95 728.208 1549.07 728.625 Q1547.22 729.041 1545.28 729.921 L1545.28 712.56 Z\" fill=\"#000000\" fill-rule=\"evenodd\" fill-opacity=\"1\" /><path clip-path=\"url(#clip890)\" d=\"M 0 0 M1585.39 730.708 Q1582.06 730.708 1580.14 732.49 Q1578.24 734.273 1578.24 737.398 Q1578.24 740.523 1580.14 742.305 Q1582.06 744.087 1585.39 744.087 Q1588.72 744.087 1590.65 742.305 Q1592.57 740.5 1592.57 737.398 Q1592.57 734.273 1590.65 732.49 Q1588.75 730.708 1585.39 730.708 M1580.72 728.717 Q1577.71 727.976 1576.02 725.916 Q1574.35 723.856 1574.35 720.893 Q1574.35 716.75 1577.29 714.342 Q1580.25 711.935 1585.39 711.935 Q1590.55 711.935 1593.49 714.342 Q1596.43 716.75 1596.43 720.893 Q1596.43 723.856 1594.74 725.916 Q1593.08 727.976 1590.09 728.717 Q1593.47 729.504 1595.34 731.796 Q1597.24 734.088 1597.24 737.398 Q1597.24 742.421 1594.16 745.106 Q1591.11 747.791 1585.39 747.791 Q1579.67 747.791 1576.59 745.106 Q1573.54 742.421 1573.54 737.398 Q1573.54 734.088 1575.44 731.796 Q1577.34 729.504 1580.72 728.717 M1579 721.333 Q1579 724.018 1580.67 725.523 Q1582.36 727.027 1585.39 727.027 Q1588.4 727.027 1590.09 725.523 Q1591.8 724.018 1591.8 721.333 Q1591.8 718.648 1590.09 717.143 Q1588.4 715.639 1585.39 715.639 Q1582.36 715.639 1580.67 717.143 Q1579 718.648 1579 721.333 Z\" fill=\"#000000\" fill-rule=\"evenodd\" fill-opacity=\"1\" /><path clip-path=\"url(#clip890)\" d=\"M 0 0 M1609.58 743.185 L1625.9 743.185 L1625.9 747.12 L1603.96 747.12 L1603.96 743.185 Q1606.62 740.43 1611.2 735.8 Q1615.81 731.148 1616.99 729.805 Q1619.23 727.282 1620.11 725.546 Q1621.02 723.787 1621.02 722.097 Q1621.02 719.342 1619.07 717.606 Q1617.15 715.87 1614.05 715.87 Q1611.85 715.87 1609.4 716.634 Q1606.97 717.398 1604.19 718.949 L1604.19 714.227 Q1607.01 713.092 1609.47 712.514 Q1611.92 711.935 1613.96 711.935 Q1619.33 711.935 1622.52 714.62 Q1625.71 717.305 1625.71 721.796 Q1625.71 723.926 1624.9 725.847 Q1624.12 727.745 1622.01 730.338 Q1621.43 731.009 1618.33 734.226 Q1615.23 737.421 1609.58 743.185 Z\" fill=\"#000000\" fill-rule=\"evenodd\" fill-opacity=\"1\" /><path clip-path=\"url(#clip890)\" d=\"M 0 0 M1635.76 712.56 L1654.12 712.56 L1654.12 716.495 L1640.04 716.495 L1640.04 724.967 Q1641.06 724.62 1642.08 724.458 Q1643.1 724.273 1644.12 724.273 Q1649.9 724.273 1653.28 727.444 Q1656.66 730.615 1656.66 736.032 Q1656.66 741.611 1653.19 744.712 Q1649.72 747.791 1643.4 747.791 Q1641.22 747.791 1638.96 747.421 Q1636.71 747.05 1634.3 746.31 L1634.3 741.611 Q1636.39 742.745 1638.61 743.3 Q1640.83 743.856 1643.31 743.856 Q1647.31 743.856 1649.65 741.75 Q1651.99 739.643 1651.99 736.032 Q1651.99 732.421 1649.65 730.314 Q1647.31 728.208 1643.31 728.208 Q1641.43 728.208 1639.56 728.625 Q1637.71 729.041 1635.76 729.921 L1635.76 712.56 Z\" fill=\"#000000\" fill-rule=\"evenodd\" fill-opacity=\"1\" /><path clip-path=\"url(#clip890)\" d=\"M 0 0 M1675.88 715.639 Q1672.27 715.639 1670.44 719.203 Q1668.63 722.745 1668.63 729.875 Q1668.63 736.981 1670.44 740.546 Q1672.27 744.087 1675.88 744.087 Q1679.51 744.087 1681.32 740.546 Q1683.15 736.981 1683.15 729.875 Q1683.15 722.745 1681.32 719.203 Q1679.51 715.639 1675.88 715.639 M1675.88 711.935 Q1681.69 711.935 1684.74 716.541 Q1687.82 721.125 1687.82 729.875 Q1687.82 738.601 1684.74 743.208 Q1681.69 747.791 1675.88 747.791 Q1670.07 747.791 1666.99 743.208 Q1663.93 738.601 1663.93 729.875 Q1663.93 721.125 1666.99 716.541 Q1670.07 711.935 1675.88 711.935 Z\" fill=\"#000000\" fill-rule=\"evenodd\" fill-opacity=\"1\" /><path clip-path=\"url(#clip890)\" d=\"M 0 0 M1675.72 715.639 Q1672.11 715.639 1670.28 719.203 Q1668.48 722.745 1668.48 729.875 Q1668.48 736.981 1670.28 740.546 Q1672.11 744.087 1675.72 744.087 Q1679.35 744.087 1681.16 740.546 Q1682.99 736.981 1682.99 729.875 Q1682.99 722.745 1681.16 719.203 Q1679.35 715.639 1675.72 715.639 M1675.72 711.935 Q1681.53 711.935 1684.59 716.541 Q1687.66 721.125 1687.66 729.875 Q1687.66 738.601 1684.59 743.208 Q1681.53 747.791 1675.72 747.791 Q1669.91 747.791 1666.83 743.208 Q1663.78 738.601 1663.78 729.875 Q1663.78 721.125 1666.83 716.541 Q1669.91 711.935 1675.72 711.935 Z\" fill=\"#000000\" fill-rule=\"evenodd\" fill-opacity=\"1\" /><path clip-path=\"url(#clip890)\" d=\"M 0 0 M1695.88 741.24 L1700.77 741.24 L1700.77 747.12 L1695.88 747.12 L1695.88 741.24 Z\" fill=\"#000000\" fill-rule=\"evenodd\" fill-opacity=\"1\" /><path clip-path=\"url(#clip890)\" d=\"M 0 0 M1711 712.56 L1729.35 712.56 L1729.35 716.495 L1715.28 716.495 L1715.28 724.967 Q1716.3 724.62 1717.32 724.458 Q1718.34 724.273 1719.35 724.273 Q1725.14 724.273 1728.52 727.444 Q1731.9 730.615 1731.9 736.032 Q1731.9 741.611 1728.43 744.712 Q1724.96 747.791 1718.64 747.791 Q1716.46 747.791 1714.19 747.421 Q1711.95 747.05 1709.54 746.31 L1709.54 741.611 Q1711.62 742.745 1713.85 743.3 Q1716.07 743.856 1718.54 743.856 Q1722.55 743.856 1724.89 741.75 Q1727.22 739.643 1727.22 736.032 Q1727.22 732.421 1724.89 730.314 Q1722.55 728.208 1718.54 728.208 Q1716.67 728.208 1714.79 728.625 Q1712.94 729.041 1711 729.921 L1711 712.56 Z\" fill=\"#000000\" fill-rule=\"evenodd\" fill-opacity=\"1\" /><path clip-path=\"url(#clip890)\" d=\"M 0 0 M1751.11 730.708 Q1747.78 730.708 1745.86 732.49 Q1743.96 734.273 1743.96 737.398 Q1743.96 740.523 1745.86 742.305 Q1747.78 744.087 1751.11 744.087 Q1754.45 744.087 1756.37 742.305 Q1758.29 740.5 1758.29 737.398 Q1758.29 734.273 1756.37 732.49 Q1754.47 730.708 1751.11 730.708 M1746.44 728.717 Q1743.43 727.976 1741.74 725.916 Q1740.07 723.856 1740.07 720.893 Q1740.07 716.75 1743.01 714.342 Q1745.97 711.935 1751.11 711.935 Q1756.28 711.935 1759.22 714.342 Q1762.16 716.75 1762.16 720.893 Q1762.16 723.856 1760.47 725.916 Q1758.8 727.976 1755.81 728.717 Q1759.19 729.504 1761.07 731.796 Q1762.97 734.088 1762.97 737.398 Q1762.97 742.421 1759.89 745.106 Q1756.83 747.791 1751.11 747.791 Q1745.4 747.791 1742.32 745.106 Q1739.26 742.421 1739.26 737.398 Q1739.26 734.088 1741.16 731.796 Q1743.06 729.504 1746.44 728.717 M1744.72 721.333 Q1744.72 724.018 1746.39 725.523 Q1748.08 727.027 1751.11 727.027 Q1754.12 727.027 1755.81 725.523 Q1757.53 724.018 1757.53 721.333 Q1757.53 718.648 1755.81 717.143 Q1754.12 715.639 1751.11 715.639 Q1748.08 715.639 1746.39 717.143 Q1744.72 718.648 1744.72 721.333 Z\" fill=\"#000000\" fill-rule=\"evenodd\" fill-opacity=\"1\" /><path clip-path=\"url(#clip890)\" d=\"M 0 0 M1775.3 743.185 L1791.62 743.185 L1791.62 747.12 L1769.68 747.12 L1769.68 743.185 Q1772.34 740.43 1776.92 735.8 Q1781.53 731.148 1782.71 729.805 Q1784.96 727.282 1785.84 725.546 Q1786.74 723.787 1786.74 722.097 Q1786.74 719.342 1784.79 717.606 Q1782.87 715.87 1779.77 715.87 Q1777.57 715.87 1775.12 716.634 Q1772.69 717.398 1769.91 718.949 L1769.91 714.227 Q1772.73 713.092 1775.19 712.514 Q1777.64 711.935 1779.68 711.935 Q1785.05 711.935 1788.24 714.62 Q1791.44 717.305 1791.44 721.796 Q1791.44 723.926 1790.63 725.847 Q1789.84 727.745 1787.73 730.338 Q1787.16 731.009 1784.05 734.226 Q1780.95 737.421 1775.3 743.185 Z\" fill=\"#000000\" fill-rule=\"evenodd\" fill-opacity=\"1\" /><path clip-path=\"url(#clip890)\" d=\"M 0 0 M1800.26 712.56 L1822.48 712.56 L1822.48 714.551 L1809.93 747.12 L1805.05 747.12 L1816.85 716.495 L1800.26 716.495 L1800.26 712.56 Z\" fill=\"#000000\" fill-rule=\"evenodd\" fill-opacity=\"1\" /><path clip-path=\"url(#clip890)\" d=\"M 0 0 M1831.65 712.56 L1850 712.56 L1850 716.495 L1835.93 716.495 L1835.93 724.967 Q1836.95 724.62 1837.96 724.458 Q1838.98 724.273 1840 724.273 Q1845.79 724.273 1849.17 727.444 Q1852.55 730.615 1852.55 736.032 Q1852.55 741.611 1849.08 744.712 Q1845.6 747.791 1839.28 747.791 Q1837.11 747.791 1834.84 747.421 Q1832.59 747.05 1830.19 746.31 L1830.19 741.611 Q1832.27 742.745 1834.49 743.3 Q1836.71 743.856 1839.19 743.856 Q1843.2 743.856 1845.53 741.75 Q1847.87 739.643 1847.87 736.032 Q1847.87 732.421 1845.53 730.314 Q1843.2 728.208 1839.19 728.208 Q1837.32 728.208 1835.44 728.625 Q1833.59 729.041 1831.65 729.921 L1831.65 712.56 Z\" fill=\"#000000\" fill-rule=\"evenodd\" fill-opacity=\"1\" /><path clip-path=\"url(#clip890)\" d=\"M 0 0 M1840.45 715.639 Q1836.84 715.639 1835.01 719.203 Q1833.2 722.745 1833.2 729.875 Q1833.2 736.981 1835.01 740.546 Q1836.84 744.087 1840.45 744.087 Q1844.08 744.087 1845.89 740.546 Q1847.72 736.981 1847.72 729.875 Q1847.72 722.745 1845.89 719.203 Q1844.08 715.639 1840.45 715.639 M1840.45 711.935 Q1846.26 711.935 1849.31 716.541 Q1852.39 721.125 1852.39 729.875 Q1852.39 738.601 1849.31 743.208 Q1846.26 747.791 1840.45 747.791 Q1834.64 747.791 1831.56 743.208 Q1828.5 738.601 1828.5 729.875 Q1828.5 721.125 1831.56 716.541 Q1834.64 711.935 1840.45 711.935 Z\" fill=\"#000000\" fill-rule=\"evenodd\" fill-opacity=\"1\" /><path clip-path=\"url(#clip890)\" d=\"M 0 0 M1860.61 741.24 L1865.49 741.24 L1865.49 747.12 L1860.61 747.12 L1860.61 741.24 Z\" fill=\"#000000\" fill-rule=\"evenodd\" fill-opacity=\"1\" /><path clip-path=\"url(#clip890)\" d=\"M 0 0 M1875.73 712.56 L1894.08 712.56 L1894.08 716.495 L1880.01 716.495 L1880.01 724.967 Q1881.03 724.62 1882.04 724.458 Q1883.06 724.273 1884.08 724.273 Q1889.87 724.273 1893.25 727.444 Q1896.63 730.615 1896.63 736.032 Q1896.63 741.611 1893.16 744.712 Q1889.68 747.791 1883.36 747.791 Q1881.19 747.791 1878.92 747.421 Q1876.67 747.05 1874.27 746.31 L1874.27 741.611 Q1876.35 742.745 1878.57 743.3 Q1880.79 743.856 1883.27 743.856 Q1887.28 743.856 1889.61 741.75 Q1891.95 739.643 1891.95 736.032 Q1891.95 732.421 1889.61 730.314 Q1887.28 728.208 1883.27 728.208 Q1881.4 728.208 1879.52 728.625 Q1877.67 729.041 1875.73 729.921 L1875.73 712.56 Z\" fill=\"#000000\" fill-rule=\"evenodd\" fill-opacity=\"1\" /><path clip-path=\"url(#clip890)\" d=\"M 0 0 M1915.84 730.708 Q1912.51 730.708 1910.59 732.49 Q1908.69 734.273 1908.69 737.398 Q1908.69 740.523 1910.59 742.305 Q1912.51 744.087 1915.84 744.087 Q1919.17 744.087 1921.1 742.305 Q1923.02 740.5 1923.02 737.398 Q1923.02 734.273 1921.1 732.49 Q1919.2 730.708 1915.84 730.708 M1911.16 728.717 Q1908.16 727.976 1906.47 725.916 Q1904.8 723.856 1904.8 720.893 Q1904.8 716.75 1907.74 714.342 Q1910.7 711.935 1915.84 711.935 Q1921 711.935 1923.94 714.342 Q1926.88 716.75 1926.88 720.893 Q1926.88 723.856 1925.19 725.916 Q1923.53 727.976 1920.54 728.717 Q1923.92 729.504 1925.79 731.796 Q1927.69 734.088 1927.69 737.398 Q1927.69 742.421 1924.61 745.106 Q1921.56 747.791 1915.84 747.791 Q1910.12 747.791 1907.04 745.106 Q1903.99 742.421 1903.99 737.398 Q1903.99 734.088 1905.89 731.796 Q1907.79 729.504 1911.16 728.717 M1909.45 721.333 Q1909.45 724.018 1911.12 725.523 Q1912.81 727.027 1915.84 727.027 Q1918.85 727.027 1920.54 725.523 Q1922.25 724.018 1922.25 721.333 Q1922.25 718.648 1920.54 717.143 Q1918.85 715.639 1915.84 715.639 Q1912.81 715.639 1911.12 717.143 Q1909.45 718.648 1909.45 721.333 Z\" fill=\"#000000\" fill-rule=\"evenodd\" fill-opacity=\"1\" /><path clip-path=\"url(#clip890)\" d=\"M 0 0 M1950.17 728.486 Q1953.53 729.203 1955.4 731.472 Q1957.3 733.74 1957.3 737.074 Q1957.3 742.189 1953.78 744.99 Q1950.26 747.791 1943.78 747.791 Q1941.6 747.791 1939.29 747.351 Q1937 746.935 1934.54 746.078 L1934.54 741.564 Q1936.49 742.699 1938.8 743.277 Q1941.12 743.856 1943.64 743.856 Q1948.04 743.856 1950.33 742.12 Q1952.65 740.384 1952.65 737.074 Q1952.65 734.018 1950.49 732.305 Q1948.36 730.569 1944.54 730.569 L1940.52 730.569 L1940.52 726.726 L1944.73 726.726 Q1948.18 726.726 1950.01 725.361 Q1951.84 723.972 1951.84 721.379 Q1951.84 718.717 1949.94 717.305 Q1948.06 715.87 1944.54 715.87 Q1942.62 715.87 1940.42 716.287 Q1938.22 716.703 1935.59 717.583 L1935.59 713.416 Q1938.25 712.676 1940.56 712.305 Q1942.9 711.935 1944.96 711.935 Q1950.28 711.935 1953.39 714.365 Q1956.49 716.773 1956.49 720.893 Q1956.49 723.764 1954.85 725.754 Q1953.2 727.722 1950.17 728.486 Z\" fill=\"#000000\" fill-rule=\"evenodd\" fill-opacity=\"1\" /><path clip-path=\"url(#clip890)\" d=\"M 0 0 M1976.16 715.639 Q1972.55 715.639 1970.72 719.203 Q1968.92 722.745 1968.92 729.875 Q1968.92 736.981 1970.72 740.546 Q1972.55 744.087 1976.16 744.087 Q1979.8 744.087 1981.6 740.546 Q1983.43 736.981 1983.43 729.875 Q1983.43 722.745 1981.6 719.203 Q1979.8 715.639 1976.16 715.639 M1976.16 711.935 Q1981.97 711.935 1985.03 716.541 Q1988.11 721.125 1988.11 729.875 Q1988.11 738.601 1985.03 743.208 Q1981.97 747.791 1976.16 747.791 Q1970.35 747.791 1967.28 743.208 Q1964.22 738.601 1964.22 729.875 Q1964.22 721.125 1967.28 716.541 Q1970.35 711.935 1976.16 711.935 Z\" fill=\"#000000\" fill-rule=\"evenodd\" fill-opacity=\"1\" /><path clip-path=\"url(#clip890)\" d=\"M 0 0 M2006.33 715.639 Q2002.72 715.639 2000.89 719.203 Q1999.08 722.745 1999.08 729.875 Q1999.08 736.981 2000.89 740.546 Q2002.72 744.087 2006.33 744.087 Q2009.96 744.087 2011.77 740.546 Q2013.59 736.981 2013.59 729.875 Q2013.59 722.745 2011.77 719.203 Q2009.96 715.639 2006.33 715.639 M2006.33 711.935 Q2012.14 711.935 2015.19 716.541 Q2018.27 721.125 2018.27 729.875 Q2018.27 738.601 2015.19 743.208 Q2012.14 747.791 2006.33 747.791 Q2000.52 747.791 1997.44 743.208 Q1994.38 738.601 1994.38 729.875 Q1994.38 721.125 1997.44 716.541 Q2000.52 711.935 2006.33 711.935 Z\" fill=\"#000000\" fill-rule=\"evenodd\" fill-opacity=\"1\" /><path clip-path=\"url(#clip890)\" d=\"M 0 0 M2006.17 715.639 Q2002.56 715.639 2000.73 719.203 Q1998.92 722.745 1998.92 729.875 Q1998.92 736.981 2000.73 740.546 Q2002.56 744.087 2006.17 744.087 Q2009.8 744.087 2011.61 740.546 Q2013.44 736.981 2013.44 729.875 Q2013.44 722.745 2011.61 719.203 Q2009.8 715.639 2006.17 715.639 M2006.17 711.935 Q2011.98 711.935 2015.04 716.541 Q2018.11 721.125 2018.11 729.875 Q2018.11 738.601 2015.04 743.208 Q2011.98 747.791 2006.17 747.791 Q2000.36 747.791 1997.28 743.208 Q1994.23 738.601 1994.23 729.875 Q1994.23 721.125 1997.28 716.541 Q2000.36 711.935 2006.17 711.935 Z\" fill=\"#000000\" fill-rule=\"evenodd\" fill-opacity=\"1\" /><path clip-path=\"url(#clip890)\" d=\"M 0 0 M2026.33 741.24 L2031.22 741.24 L2031.22 747.12 L2026.33 747.12 L2026.33 741.24 Z\" fill=\"#000000\" fill-rule=\"evenodd\" fill-opacity=\"1\" /><path clip-path=\"url(#clip890)\" d=\"M 0 0 M2041.45 712.56 L2059.8 712.56 L2059.8 716.495 L2045.73 716.495 L2045.73 724.967 Q2046.75 724.62 2047.77 724.458 Q2048.79 724.273 2049.8 724.273 Q2055.59 724.273 2058.97 727.444 Q2062.35 730.615 2062.35 736.032 Q2062.35 741.611 2058.88 744.712 Q2055.41 747.791 2049.09 747.791 Q2046.91 747.791 2044.64 747.421 Q2042.4 747.05 2039.99 746.31 L2039.99 741.611 Q2042.07 742.745 2044.29 743.3 Q2046.52 743.856 2048.99 743.856 Q2053 743.856 2055.34 741.75 Q2057.67 739.643 2057.67 736.032 Q2057.67 732.421 2055.34 730.314 Q2053 728.208 2048.99 728.208 Q2047.12 728.208 2045.24 728.625 Q2043.39 729.041 2041.45 729.921 L2041.45 712.56 Z\" fill=\"#000000\" fill-rule=\"evenodd\" fill-opacity=\"1\" /><path clip-path=\"url(#clip890)\" d=\"M 0 0 M2081.56 730.708 Q2078.23 730.708 2076.31 732.49 Q2074.41 734.273 2074.41 737.398 Q2074.41 740.523 2076.31 742.305 Q2078.23 744.087 2081.56 744.087 Q2084.9 744.087 2086.82 742.305 Q2088.74 740.5 2088.74 737.398 Q2088.74 734.273 2086.82 732.49 Q2084.92 730.708 2081.56 730.708 M2076.89 728.717 Q2073.88 727.976 2072.19 725.916 Q2070.52 723.856 2070.52 720.893 Q2070.52 716.75 2073.46 714.342 Q2076.42 711.935 2081.56 711.935 Q2086.73 711.935 2089.66 714.342 Q2092.6 716.75 2092.6 720.893 Q2092.6 723.856 2090.91 725.916 Q2089.25 727.976 2086.26 728.717 Q2089.64 729.504 2091.52 731.796 Q2093.41 734.088 2093.41 737.398 Q2093.41 742.421 2090.34 745.106 Q2087.28 747.791 2081.56 747.791 Q2075.85 747.791 2072.77 745.106 Q2069.71 742.421 2069.71 737.398 Q2069.71 734.088 2071.61 731.796 Q2073.51 729.504 2076.89 728.717 M2075.17 721.333 Q2075.17 724.018 2076.84 725.523 Q2078.53 727.027 2081.56 727.027 Q2084.57 727.027 2086.26 725.523 Q2087.98 724.018 2087.98 721.333 Q2087.98 718.648 2086.26 717.143 Q2084.57 715.639 2081.56 715.639 Q2078.53 715.639 2076.84 717.143 Q2075.17 718.648 2075.17 721.333 Z\" fill=\"#000000\" fill-rule=\"evenodd\" fill-opacity=\"1\" /><path clip-path=\"url(#clip890)\" d=\"M 0 0 M2115.89 728.486 Q2119.25 729.203 2121.12 731.472 Q2123.02 733.74 2123.02 737.074 Q2123.02 742.189 2119.5 744.99 Q2115.98 747.791 2109.5 747.791 Q2107.33 747.791 2105.01 747.351 Q2102.72 746.935 2100.27 746.078 L2100.27 741.564 Q2102.21 742.699 2104.53 743.277 Q2106.84 743.856 2109.36 743.856 Q2113.76 743.856 2116.05 742.12 Q2118.37 740.384 2118.37 737.074 Q2118.37 734.018 2116.22 732.305 Q2114.09 730.569 2110.27 730.569 L2106.24 730.569 L2106.24 726.726 L2110.45 726.726 Q2113.9 726.726 2115.73 725.361 Q2117.56 723.972 2117.56 721.379 Q2117.56 718.717 2115.66 717.305 Q2113.79 715.87 2110.27 715.87 Q2108.35 715.87 2106.15 716.287 Q2103.95 716.703 2101.31 717.583 L2101.31 713.416 Q2103.97 712.676 2106.29 712.305 Q2108.62 711.935 2110.68 711.935 Q2116.01 711.935 2119.11 714.365 Q2122.21 716.773 2122.21 720.893 Q2122.21 723.764 2120.57 725.754 Q2118.92 727.722 2115.89 728.486 Z\" fill=\"#000000\" fill-rule=\"evenodd\" fill-opacity=\"1\" /><path clip-path=\"url(#clip890)\" d=\"M 0 0 M2135.91 743.185 L2152.23 743.185 L2152.23 747.12 L2130.29 747.12 L2130.29 743.185 Q2132.95 740.43 2137.54 735.8 Q2142.14 731.148 2143.32 729.805 Q2145.57 727.282 2146.45 725.546 Q2147.35 723.787 2147.35 722.097 Q2147.35 719.342 2145.41 717.606 Q2143.48 715.87 2140.38 715.87 Q2138.18 715.87 2135.73 716.634 Q2133.3 717.398 2130.52 718.949 L2130.52 714.227 Q2133.35 713.092 2135.8 712.514 Q2138.25 711.935 2140.29 711.935 Q2145.66 711.935 2148.85 714.62 Q2152.05 717.305 2152.05 721.796 Q2152.05 723.926 2151.24 725.847 Q2150.45 727.745 2148.35 730.338 Q2147.77 731.009 2144.66 734.226 Q2141.56 737.421 2135.91 743.185 Z\" fill=\"#000000\" fill-rule=\"evenodd\" fill-opacity=\"1\" /><path clip-path=\"url(#clip890)\" d=\"M 0 0 M2162.1 712.56 L2180.45 712.56 L2180.45 716.495 L2166.38 716.495 L2166.38 724.967 Q2167.4 724.62 2168.41 724.458 Q2169.43 724.273 2170.45 724.273 Q2176.24 724.273 2179.62 727.444 Q2183 730.615 2183 736.032 Q2183 741.611 2179.53 744.712 Q2176.05 747.791 2169.73 747.791 Q2167.56 747.791 2165.29 747.421 Q2163.04 747.05 2160.64 746.31 L2160.64 741.611 Q2162.72 742.745 2164.94 743.3 Q2167.16 743.856 2169.64 743.856 Q2173.65 743.856 2175.98 741.75 Q2178.32 739.643 2178.32 736.032 Q2178.32 732.421 2175.98 730.314 Q2173.65 728.208 2169.64 728.208 Q2167.77 728.208 2165.89 728.625 Q2164.04 729.041 2162.1 729.921 L2162.1 712.56 Z\" fill=\"#000000\" fill-rule=\"evenodd\" fill-opacity=\"1\" /><path clip-path=\"url(#clip890)\" d=\"M 0 0 M2170.9 715.639 Q2167.29 715.639 2165.46 719.203 Q2163.65 722.745 2163.65 729.875 Q2163.65 736.981 2165.46 740.546 Q2167.29 744.087 2170.9 744.087 Q2174.53 744.087 2176.34 740.546 Q2178.17 736.981 2178.17 729.875 Q2178.17 722.745 2176.34 719.203 Q2174.53 715.639 2170.9 715.639 M2170.9 711.935 Q2176.71 711.935 2179.76 716.541 Q2182.84 721.125 2182.84 729.875 Q2182.84 738.601 2179.76 743.208 Q2176.71 747.791 2170.9 747.791 Q2165.09 747.791 2162.01 743.208 Q2158.95 738.601 2158.95 729.875 Q2158.95 721.125 2162.01 716.541 Q2165.09 711.935 2170.9 711.935 Z\" fill=\"#000000\" fill-rule=\"evenodd\" fill-opacity=\"1\" /><path clip-path=\"url(#clip890)\" d=\"M 0 0 M2191.06 741.24 L2195.94 741.24 L2195.94 747.12 L2191.06 747.12 L2191.06 741.24 Z\" fill=\"#000000\" fill-rule=\"evenodd\" fill-opacity=\"1\" /><path clip-path=\"url(#clip890)\" d=\"M 0 0 M2206.17 712.56 L2224.53 712.56 L2224.53 716.495 L2210.46 716.495 L2210.46 724.967 Q2211.48 724.62 2212.49 724.458 Q2213.51 724.273 2214.53 724.273 Q2220.32 724.273 2223.7 727.444 Q2227.08 730.615 2227.08 736.032 Q2227.08 741.611 2223.61 744.712 Q2220.13 747.791 2213.81 747.791 Q2211.64 747.791 2209.37 747.421 Q2207.12 747.05 2204.72 746.31 L2204.72 741.611 Q2206.8 742.745 2209.02 743.3 Q2211.24 743.856 2213.72 743.856 Q2217.73 743.856 2220.06 741.75 Q2222.4 739.643 2222.4 736.032 Q2222.4 732.421 2220.06 730.314 Q2217.73 728.208 2213.72 728.208 Q2211.85 728.208 2209.97 728.625 Q2208.12 729.041 2206.17 729.921 L2206.17 712.56 Z\" fill=\"#000000\" fill-rule=\"evenodd\" fill-opacity=\"1\" /><path clip-path=\"url(#clip890)\" d=\"M 0 0 M2246.29 730.708 Q2242.96 730.708 2241.04 732.49 Q2239.14 734.273 2239.14 737.398 Q2239.14 740.523 2241.04 742.305 Q2242.96 744.087 2246.29 744.087 Q2249.62 744.087 2251.54 742.305 Q2253.47 740.5 2253.47 737.398 Q2253.47 734.273 2251.54 732.49 Q2249.65 730.708 2246.29 730.708 M2241.61 728.717 Q2238.61 727.976 2236.92 725.916 Q2235.25 723.856 2235.25 720.893 Q2235.25 716.75 2238.19 714.342 Q2241.15 711.935 2246.29 711.935 Q2251.45 711.935 2254.39 714.342 Q2257.33 716.75 2257.33 720.893 Q2257.33 723.856 2255.64 725.916 Q2253.98 727.976 2250.99 728.717 Q2254.37 729.504 2256.24 731.796 Q2258.14 734.088 2258.14 737.398 Q2258.14 742.421 2255.06 745.106 Q2252.01 747.791 2246.29 747.791 Q2240.57 747.791 2237.49 745.106 Q2234.44 742.421 2234.44 737.398 Q2234.44 734.088 2236.34 731.796 Q2238.23 729.504 2241.61 728.717 M2239.9 721.333 Q2239.9 724.018 2241.57 725.523 Q2243.26 727.027 2246.29 727.027 Q2249.3 727.027 2250.99 725.523 Q2252.7 724.018 2252.7 721.333 Q2252.7 718.648 2250.99 717.143 Q2249.3 715.639 2246.29 715.639 Q2243.26 715.639 2241.57 717.143 Q2239.9 718.648 2239.9 721.333 Z\" fill=\"#000000\" fill-rule=\"evenodd\" fill-opacity=\"1\" /><path clip-path=\"url(#clip890)\" d=\"M 0 0 M2280.62 728.486 Q2283.98 729.203 2285.85 731.472 Q2287.75 733.74 2287.75 737.074 Q2287.75 742.189 2284.23 744.99 Q2280.71 747.791 2274.23 747.791 Q2272.05 747.791 2269.74 747.351 Q2267.45 746.935 2264.99 746.078 L2264.99 741.564 Q2266.94 742.699 2269.25 743.277 Q2271.57 743.856 2274.09 743.856 Q2278.49 743.856 2280.78 742.12 Q2283.1 740.384 2283.1 737.074 Q2283.1 734.018 2280.94 732.305 Q2278.81 730.569 2274.99 730.569 L2270.97 730.569 L2270.97 726.726 L2275.18 726.726 Q2278.63 726.726 2280.46 725.361 Q2282.29 723.972 2282.29 721.379 Q2282.29 718.717 2280.39 717.305 Q2278.51 715.87 2274.99 715.87 Q2273.07 715.87 2270.87 716.287 Q2268.67 716.703 2266.04 717.583 L2266.04 713.416 Q2268.7 712.676 2271.01 712.305 Q2273.35 711.935 2275.41 711.935 Q2280.73 711.935 2283.84 714.365 Q2286.94 716.773 2286.94 720.893 Q2286.94 723.764 2285.29 725.754 Q2283.65 727.722 2280.62 728.486 Z\" fill=\"#000000\" fill-rule=\"evenodd\" fill-opacity=\"1\" /><path clip-path=\"url(#clip890)\" d=\"M 0 0 M2296.66 712.56 L2315.02 712.56 L2315.02 716.495 L2300.94 716.495 L2300.94 724.967 Q2301.96 724.62 2302.98 724.458 Q2304 724.273 2305.02 724.273 Q2310.8 724.273 2314.18 727.444 Q2317.56 730.615 2317.56 736.032 Q2317.56 741.611 2314.09 744.712 Q2310.62 747.791 2304.3 747.791 Q2302.12 747.791 2299.85 747.421 Q2297.61 747.05 2295.2 746.31 L2295.2 741.611 Q2297.29 742.745 2299.51 743.3 Q2301.73 743.856 2304.21 743.856 Q2308.21 743.856 2310.55 741.75 Q2312.89 739.643 2312.89 736.032 Q2312.89 732.421 2310.55 730.314 Q2308.21 728.208 2304.21 728.208 Q2302.33 728.208 2300.46 728.625 Q2298.6 729.041 2296.66 729.921 L2296.66 712.56 Z\" fill=\"#000000\" fill-rule=\"evenodd\" fill-opacity=\"1\" /><path clip-path=\"url(#clip890)\" d=\"M 0 0 M2336.78 715.639 Q2333.16 715.639 2331.34 719.203 Q2329.53 722.745 2329.53 729.875 Q2329.53 736.981 2331.34 740.546 Q2333.16 744.087 2336.78 744.087 Q2340.41 744.087 2342.22 740.546 Q2344.04 736.981 2344.04 729.875 Q2344.04 722.745 2342.22 719.203 Q2340.41 715.639 2336.78 715.639 M2336.78 711.935 Q2342.59 711.935 2345.64 716.541 Q2348.72 721.125 2348.72 729.875 Q2348.72 738.601 2345.64 743.208 Q2342.59 747.791 2336.78 747.791 Q2330.97 747.791 2327.89 743.208 Q2324.83 738.601 2324.83 729.875 Q2324.83 721.125 2327.89 716.541 Q2330.97 711.935 2336.78 711.935 Z\" fill=\"#000000\" fill-rule=\"evenodd\" fill-opacity=\"1\" /><polyline clip-path=\"url(#clip893)\" style=\"stroke:#000000; stroke-width:2; stroke-opacity:0.1; fill:none\" points=\"\n",
       "  1535.87,618.46 2352.76,618.46 \n",
       "  \"/>\n",
       "<polyline clip-path=\"url(#clip893)\" style=\"stroke:#000000; stroke-width:2; stroke-opacity:0.1; fill:none\" points=\"\n",
       "  1535.87,531.696 2352.76,531.696 \n",
       "  \"/>\n",
       "<polyline clip-path=\"url(#clip893)\" style=\"stroke:#000000; stroke-width:2; stroke-opacity:0.1; fill:none\" points=\"\n",
       "  1535.87,444.933 2352.76,444.933 \n",
       "  \"/>\n",
       "<polyline clip-path=\"url(#clip893)\" style=\"stroke:#000000; stroke-width:2; stroke-opacity:0.1; fill:none\" points=\"\n",
       "  1535.87,358.17 2352.76,358.17 \n",
       "  \"/>\n",
       "<polyline clip-path=\"url(#clip893)\" style=\"stroke:#000000; stroke-width:2; stroke-opacity:0.1; fill:none\" points=\"\n",
       "  1535.87,271.406 2352.76,271.406 \n",
       "  \"/>\n",
       "<polyline clip-path=\"url(#clip893)\" style=\"stroke:#000000; stroke-width:2; stroke-opacity:0.1; fill:none\" points=\"\n",
       "  1535.87,184.643 2352.76,184.643 \n",
       "  \"/>\n",
       "<polyline clip-path=\"url(#clip890)\" style=\"stroke:#000000; stroke-width:4; stroke-opacity:1; fill:none\" points=\"\n",
       "  1535.87,686.448 1535.87,123.472 \n",
       "  \"/>\n",
       "<polyline clip-path=\"url(#clip890)\" style=\"stroke:#000000; stroke-width:4; stroke-opacity:1; fill:none\" points=\"\n",
       "  1535.87,618.46 1545.67,618.46 \n",
       "  \"/>\n",
       "<polyline clip-path=\"url(#clip890)\" style=\"stroke:#000000; stroke-width:4; stroke-opacity:1; fill:none\" points=\"\n",
       "  1535.87,531.696 1545.67,531.696 \n",
       "  \"/>\n",
       "<polyline clip-path=\"url(#clip890)\" style=\"stroke:#000000; stroke-width:4; stroke-opacity:1; fill:none\" points=\"\n",
       "  1535.87,444.933 1545.67,444.933 \n",
       "  \"/>\n",
       "<polyline clip-path=\"url(#clip890)\" style=\"stroke:#000000; stroke-width:4; stroke-opacity:1; fill:none\" points=\"\n",
       "  1535.87,358.17 1545.67,358.17 \n",
       "  \"/>\n",
       "<polyline clip-path=\"url(#clip890)\" style=\"stroke:#000000; stroke-width:4; stroke-opacity:1; fill:none\" points=\"\n",
       "  1535.87,271.406 1545.67,271.406 \n",
       "  \"/>\n",
       "<polyline clip-path=\"url(#clip890)\" style=\"stroke:#000000; stroke-width:4; stroke-opacity:1; fill:none\" points=\"\n",
       "  1535.87,184.643 1545.67,184.643 \n",
       "  \"/>\n",
       "<path clip-path=\"url(#clip890)\" d=\"M 0 0 M1251.89 607.627 L1274.12 607.627 L1274.12 609.618 L1261.57 642.187 L1256.69 642.187 L1268.49 611.562 L1251.89 611.562 L1251.89 607.627 Z\" fill=\"#000000\" fill-rule=\"evenodd\" fill-opacity=\"1\" /><path clip-path=\"url(#clip890)\" d=\"M 0 0 M1283.24 636.308 L1288.12 636.308 L1288.12 642.187 L1283.24 642.187 L1283.24 636.308 Z\" fill=\"#000000\" fill-rule=\"evenodd\" fill-opacity=\"1\" /><path clip-path=\"url(#clip890)\" d=\"M 0 0 M1308.31 610.706 Q1304.7 610.706 1302.87 614.271 Q1301.06 617.812 1301.06 624.942 Q1301.06 632.048 1302.87 635.613 Q1304.7 639.155 1308.31 639.155 Q1311.94 639.155 1313.75 635.613 Q1315.58 632.048 1315.58 624.942 Q1315.58 617.812 1313.75 614.271 Q1311.94 610.706 1308.31 610.706 M1308.31 607.002 Q1314.12 607.002 1317.17 611.609 Q1320.25 616.192 1320.25 624.942 Q1320.25 633.669 1317.17 638.275 Q1314.12 642.859 1308.31 642.859 Q1302.5 642.859 1299.42 638.275 Q1296.36 633.669 1296.36 624.942 Q1296.36 616.192 1299.42 611.609 Q1302.5 607.002 1308.31 607.002 Z\" fill=\"#000000\" fill-rule=\"evenodd\" fill-opacity=\"1\" /><path clip-path=\"url(#clip890)\" d=\"M 0 0 M1338.47 610.706 Q1334.86 610.706 1333.03 614.271 Q1331.22 617.812 1331.22 624.942 Q1331.22 632.048 1333.03 635.613 Q1334.86 639.155 1338.47 639.155 Q1342.1 639.155 1343.91 635.613 Q1345.74 632.048 1345.74 624.942 Q1345.74 617.812 1343.91 614.271 Q1342.1 610.706 1338.47 610.706 M1338.47 607.002 Q1344.28 607.002 1347.33 611.609 Q1350.41 616.192 1350.41 624.942 Q1350.41 633.669 1347.33 638.275 Q1344.28 642.859 1338.47 642.859 Q1332.66 642.859 1329.58 638.275 Q1326.52 633.669 1326.52 624.942 Q1326.52 616.192 1329.58 611.609 Q1332.66 607.002 1338.47 607.002 Z\" fill=\"#000000\" fill-rule=\"evenodd\" fill-opacity=\"1\" /><path clip-path=\"url(#clip890)\" d=\"M 0 0 M1386.8 616.724 L1376.22 627.349 L1386.8 637.928 L1384.05 640.729 L1373.42 630.104 L1362.8 640.729 L1360.07 637.928 L1370.62 627.349 L1360.07 616.724 L1362.8 613.924 L1373.42 624.549 L1384.05 613.924 L1386.8 616.724 Z\" fill=\"#000000\" fill-rule=\"evenodd\" fill-opacity=\"1\" /><path clip-path=\"url(#clip890)\" d=\"M 0 0 M1399.16 638.252 L1406.8 638.252 L1406.8 611.887 L1398.49 613.553 L1398.49 609.294 L1406.76 607.627 L1411.43 607.627 L1411.43 638.252 L1419.07 638.252 L1419.07 642.187 L1399.16 642.187 L1399.16 638.252 Z\" fill=\"#000000\" fill-rule=\"evenodd\" fill-opacity=\"1\" /><path clip-path=\"url(#clip890)\" d=\"M 0 0 M1438.51 610.706 Q1434.9 610.706 1433.07 614.271 Q1431.27 617.812 1431.27 624.942 Q1431.27 632.048 1433.07 635.613 Q1434.9 639.155 1438.51 639.155 Q1442.15 639.155 1443.95 635.613 Q1445.78 632.048 1445.78 624.942 Q1445.78 617.812 1443.95 614.271 Q1442.15 610.706 1438.51 610.706 M1438.51 607.002 Q1444.32 607.002 1447.38 611.609 Q1450.46 616.192 1450.46 624.942 Q1450.46 633.669 1447.38 638.275 Q1444.32 642.859 1438.51 642.859 Q1432.7 642.859 1429.63 638.275 Q1426.57 633.669 1426.57 624.942 Q1426.57 616.192 1429.63 611.609 Q1432.7 607.002 1438.51 607.002 Z\" fill=\"#000000\" fill-rule=\"evenodd\" fill-opacity=\"1\" /><path clip-path=\"url(#clip890)\" d=\"M 0 0 M1450.46 601.104 L1474.57 601.104 L1474.57 604.301 L1450.46 604.301 L1450.46 601.104 Z\" fill=\"#000000\" fill-rule=\"evenodd\" fill-opacity=\"1\" /><path clip-path=\"url(#clip890)\" d=\"M 0 0 M1481.81 586.697 L1499.87 586.697 L1499.87 588.314 L1489.67 614.777 L1485.7 614.777 L1495.3 589.894 L1481.81 589.894 L1481.81 586.697 Z\" fill=\"#000000\" fill-rule=\"evenodd\" fill-opacity=\"1\" /><path clip-path=\"url(#clip890)\" d=\"M 0 0 M1251.89 520.864 L1274.12 520.864 L1274.12 522.855 L1261.57 555.424 L1256.69 555.424 L1268.49 524.799 L1251.89 524.799 L1251.89 520.864 Z\" fill=\"#000000\" fill-rule=\"evenodd\" fill-opacity=\"1\" /><path clip-path=\"url(#clip890)\" d=\"M 0 0 M1283.24 549.544 L1288.12 549.544 L1288.12 555.424 L1283.24 555.424 L1283.24 549.544 Z\" fill=\"#000000\" fill-rule=\"evenodd\" fill-opacity=\"1\" /><path clip-path=\"url(#clip890)\" d=\"M 0 0 M1298.35 520.864 L1316.71 520.864 L1316.71 524.799 L1302.64 524.799 L1302.64 533.271 Q1303.65 532.924 1304.67 532.762 Q1305.69 532.577 1306.71 532.577 Q1312.5 532.577 1315.88 535.748 Q1319.26 538.919 1319.26 544.336 Q1319.26 549.915 1315.78 553.017 Q1312.31 556.095 1305.99 556.095 Q1303.82 556.095 1301.55 555.725 Q1299.3 555.355 1296.89 554.614 L1296.89 549.915 Q1298.98 551.049 1301.2 551.605 Q1303.42 552.16 1305.9 552.16 Q1309.9 552.16 1312.24 550.054 Q1314.58 547.947 1314.58 544.336 Q1314.58 540.725 1312.24 538.618 Q1309.9 536.512 1305.9 536.512 Q1304.02 536.512 1302.15 536.929 Q1300.3 537.345 1298.35 538.225 L1298.35 520.864 Z\" fill=\"#000000\" fill-rule=\"evenodd\" fill-opacity=\"1\" /><path clip-path=\"url(#clip890)\" d=\"M 0 0 M1338.47 523.943 Q1334.86 523.943 1333.03 527.507 Q1331.22 531.049 1331.22 538.179 Q1331.22 545.285 1333.03 548.85 Q1334.86 552.392 1338.47 552.392 Q1342.1 552.392 1343.91 548.85 Q1345.74 545.285 1345.74 538.179 Q1345.74 531.049 1343.91 527.507 Q1342.1 523.943 1338.47 523.943 M1338.47 520.239 Q1344.28 520.239 1347.33 524.845 Q1350.41 529.429 1350.41 538.179 Q1350.41 546.905 1347.33 551.512 Q1344.28 556.095 1338.47 556.095 Q1332.66 556.095 1329.58 551.512 Q1326.52 546.905 1326.52 538.179 Q1326.52 529.429 1329.58 524.845 Q1332.66 520.239 1338.47 520.239 Z\" fill=\"#000000\" fill-rule=\"evenodd\" fill-opacity=\"1\" /><path clip-path=\"url(#clip890)\" d=\"M 0 0 M1386.8 529.961 L1376.22 540.586 L1386.8 551.165 L1384.05 553.966 L1373.42 543.341 L1362.8 553.966 L1360.07 551.165 L1370.62 540.586 L1360.07 529.961 L1362.8 527.16 L1373.42 537.785 L1384.05 527.16 L1386.8 529.961 Z\" fill=\"#000000\" fill-rule=\"evenodd\" fill-opacity=\"1\" /><path clip-path=\"url(#clip890)\" d=\"M 0 0 M1399.16 551.489 L1406.8 551.489 L1406.8 525.123 L1398.49 526.79 L1398.49 522.531 L1406.76 520.864 L1411.43 520.864 L1411.43 551.489 L1419.07 551.489 L1419.07 555.424 L1399.16 555.424 L1399.16 551.489 Z\" fill=\"#000000\" fill-rule=\"evenodd\" fill-opacity=\"1\" /><path clip-path=\"url(#clip890)\" d=\"M 0 0 M1438.51 523.943 Q1434.9 523.943 1433.07 527.507 Q1431.27 531.049 1431.27 538.179 Q1431.27 545.285 1433.07 548.85 Q1434.9 552.392 1438.51 552.392 Q1442.15 552.392 1443.95 548.85 Q1445.78 545.285 1445.78 538.179 Q1445.78 531.049 1443.95 527.507 Q1442.15 523.943 1438.51 523.943 M1438.51 520.239 Q1444.32 520.239 1447.38 524.845 Q1450.46 529.429 1450.46 538.179 Q1450.46 546.905 1447.38 551.512 Q1444.32 556.095 1438.51 556.095 Q1432.7 556.095 1429.63 551.512 Q1426.57 546.905 1426.57 538.179 Q1426.57 529.429 1429.63 524.845 Q1432.7 520.239 1438.51 520.239 Z\" fill=\"#000000\" fill-rule=\"evenodd\" fill-opacity=\"1\" /><path clip-path=\"url(#clip890)\" d=\"M 0 0 M1450.46 514.34 L1474.57 514.34 L1474.57 517.538 L1450.46 517.538 L1450.46 514.34 Z\" fill=\"#000000\" fill-rule=\"evenodd\" fill-opacity=\"1\" /><path clip-path=\"url(#clip890)\" d=\"M 0 0 M1481.81 499.934 L1499.87 499.934 L1499.87 501.551 L1489.67 528.014 L1485.7 528.014 L1495.3 503.131 L1481.81 503.131 L1481.81 499.934 Z\" fill=\"#000000\" fill-rule=\"evenodd\" fill-opacity=\"1\" /><path clip-path=\"url(#clip890)\" d=\"M 0 0 M1263.08 452.249 Q1259.74 452.249 1257.82 454.031 Q1255.92 455.813 1255.92 458.938 Q1255.92 462.063 1257.82 463.846 Q1259.74 465.628 1263.08 465.628 Q1266.41 465.628 1268.33 463.846 Q1270.25 462.04 1270.25 458.938 Q1270.25 455.813 1268.33 454.031 Q1266.43 452.249 1263.08 452.249 M1258.4 450.258 Q1255.39 449.517 1253.7 447.457 Q1252.03 445.397 1252.03 442.434 Q1252.03 438.29 1254.97 435.883 Q1257.94 433.476 1263.08 433.476 Q1268.24 433.476 1271.18 435.883 Q1274.12 438.29 1274.12 442.434 Q1274.12 445.397 1272.43 447.457 Q1270.76 449.517 1267.77 450.258 Q1271.15 451.045 1273.03 453.337 Q1274.93 455.628 1274.93 458.938 Q1274.93 463.962 1271.85 466.647 Q1268.79 469.332 1263.08 469.332 Q1257.36 469.332 1254.28 466.647 Q1251.22 463.962 1251.22 458.938 Q1251.22 455.628 1253.12 453.337 Q1255.02 451.045 1258.4 450.258 M1256.69 442.874 Q1256.69 445.559 1258.35 447.063 Q1260.04 448.568 1263.08 448.568 Q1266.08 448.568 1267.77 447.063 Q1269.49 445.559 1269.49 442.874 Q1269.49 440.189 1267.77 438.684 Q1266.08 437.179 1263.08 437.179 Q1260.04 437.179 1258.35 438.684 Q1256.69 440.189 1256.69 442.874 Z\" fill=\"#000000\" fill-rule=\"evenodd\" fill-opacity=\"1\" /><path clip-path=\"url(#clip890)\" d=\"M 0 0 M1283.24 462.781 L1288.12 462.781 L1288.12 468.661 L1283.24 468.661 L1283.24 462.781 Z\" fill=\"#000000\" fill-rule=\"evenodd\" fill-opacity=\"1\" /><path clip-path=\"url(#clip890)\" d=\"M 0 0 M1308.31 437.179 Q1304.7 437.179 1302.87 440.744 Q1301.06 444.286 1301.06 451.415 Q1301.06 458.522 1302.87 462.087 Q1304.7 465.628 1308.31 465.628 Q1311.94 465.628 1313.75 462.087 Q1315.58 458.522 1315.58 451.415 Q1315.58 444.286 1313.75 440.744 Q1311.94 437.179 1308.31 437.179 M1308.31 433.476 Q1314.12 433.476 1317.17 438.082 Q1320.25 442.665 1320.25 451.415 Q1320.25 460.142 1317.17 464.749 Q1314.12 469.332 1308.31 469.332 Q1302.5 469.332 1299.42 464.749 Q1296.36 460.142 1296.36 451.415 Q1296.36 442.665 1299.42 438.082 Q1302.5 433.476 1308.31 433.476 Z\" fill=\"#000000\" fill-rule=\"evenodd\" fill-opacity=\"1\" /><path clip-path=\"url(#clip890)\" d=\"M 0 0 M1338.47 437.179 Q1334.86 437.179 1333.03 440.744 Q1331.22 444.286 1331.22 451.415 Q1331.22 458.522 1333.03 462.087 Q1334.86 465.628 1338.47 465.628 Q1342.1 465.628 1343.91 462.087 Q1345.74 458.522 1345.74 451.415 Q1345.74 444.286 1343.91 440.744 Q1342.1 437.179 1338.47 437.179 M1338.47 433.476 Q1344.28 433.476 1347.33 438.082 Q1350.41 442.665 1350.41 451.415 Q1350.41 460.142 1347.33 464.749 Q1344.28 469.332 1338.47 469.332 Q1332.66 469.332 1329.58 464.749 Q1326.52 460.142 1326.52 451.415 Q1326.52 442.665 1329.58 438.082 Q1332.66 433.476 1338.47 433.476 Z\" fill=\"#000000\" fill-rule=\"evenodd\" fill-opacity=\"1\" /><path clip-path=\"url(#clip890)\" d=\"M 0 0 M1386.8 443.198 L1376.22 453.823 L1386.8 464.401 L1384.05 467.202 L1373.42 456.577 L1362.8 467.202 L1360.07 464.401 L1370.62 453.823 L1360.07 443.198 L1362.8 440.397 L1373.42 451.022 L1384.05 440.397 L1386.8 443.198 Z\" fill=\"#000000\" fill-rule=\"evenodd\" fill-opacity=\"1\" /><path clip-path=\"url(#clip890)\" d=\"M 0 0 M1399.16 464.725 L1406.8 464.725 L1406.8 438.36 L1398.49 440.026 L1398.49 435.767 L1406.76 434.101 L1411.43 434.101 L1411.43 464.725 L1419.07 464.725 L1419.07 468.661 L1399.16 468.661 L1399.16 464.725 Z\" fill=\"#000000\" fill-rule=\"evenodd\" fill-opacity=\"1\" /><path clip-path=\"url(#clip890)\" d=\"M 0 0 M1438.51 437.179 Q1434.9 437.179 1433.07 440.744 Q1431.27 444.286 1431.27 451.415 Q1431.27 458.522 1433.07 462.087 Q1434.9 465.628 1438.51 465.628 Q1442.15 465.628 1443.95 462.087 Q1445.78 458.522 1445.78 451.415 Q1445.78 444.286 1443.95 440.744 Q1442.15 437.179 1438.51 437.179 M1438.51 433.476 Q1444.32 433.476 1447.38 438.082 Q1450.46 442.665 1450.46 451.415 Q1450.46 460.142 1447.38 464.749 Q1444.32 469.332 1438.51 469.332 Q1432.7 469.332 1429.63 464.749 Q1426.57 460.142 1426.57 451.415 Q1426.57 442.665 1429.63 438.082 Q1432.7 433.476 1438.51 433.476 Z\" fill=\"#000000\" fill-rule=\"evenodd\" fill-opacity=\"1\" /><path clip-path=\"url(#clip890)\" d=\"M 0 0 M1450.46 427.577 L1474.57 427.577 L1474.57 430.774 L1450.46 430.774 L1450.46 427.577 Z\" fill=\"#000000\" fill-rule=\"evenodd\" fill-opacity=\"1\" /><path clip-path=\"url(#clip890)\" d=\"M 0 0 M1481.81 413.17 L1499.87 413.17 L1499.87 414.788 L1489.67 441.25 L1485.7 441.25 L1495.3 416.368 L1481.81 416.368 L1481.81 413.17 Z\" fill=\"#000000\" fill-rule=\"evenodd\" fill-opacity=\"1\" /><path clip-path=\"url(#clip890)\" d=\"M 0 0 M1263.08 365.485 Q1259.74 365.485 1257.82 367.268 Q1255.92 369.05 1255.92 372.175 Q1255.92 375.3 1257.82 377.082 Q1259.74 378.865 1263.08 378.865 Q1266.41 378.865 1268.33 377.082 Q1270.25 375.277 1270.25 372.175 Q1270.25 369.05 1268.33 367.268 Q1266.43 365.485 1263.08 365.485 M1258.4 363.495 Q1255.39 362.754 1253.7 360.694 Q1252.03 358.633 1252.03 355.671 Q1252.03 351.527 1254.97 349.12 Q1257.94 346.712 1263.08 346.712 Q1268.24 346.712 1271.18 349.12 Q1274.12 351.527 1274.12 355.671 Q1274.12 358.633 1272.43 360.694 Q1270.76 362.754 1267.77 363.495 Q1271.15 364.282 1273.03 366.573 Q1274.93 368.865 1274.93 372.175 Q1274.93 377.198 1271.85 379.883 Q1268.79 382.569 1263.08 382.569 Q1257.36 382.569 1254.28 379.883 Q1251.22 377.198 1251.22 372.175 Q1251.22 368.865 1253.12 366.573 Q1255.02 364.282 1258.4 363.495 M1256.69 356.11 Q1256.69 358.796 1258.35 360.3 Q1260.04 361.805 1263.08 361.805 Q1266.08 361.805 1267.77 360.3 Q1269.49 358.796 1269.49 356.11 Q1269.49 353.425 1267.77 351.921 Q1266.08 350.416 1263.08 350.416 Q1260.04 350.416 1258.35 351.921 Q1256.69 353.425 1256.69 356.11 Z\" fill=\"#000000\" fill-rule=\"evenodd\" fill-opacity=\"1\" /><path clip-path=\"url(#clip890)\" d=\"M 0 0 M1283.24 376.018 L1288.12 376.018 L1288.12 381.897 L1283.24 381.897 L1283.24 376.018 Z\" fill=\"#000000\" fill-rule=\"evenodd\" fill-opacity=\"1\" /><path clip-path=\"url(#clip890)\" d=\"M 0 0 M1298.35 347.337 L1316.71 347.337 L1316.71 351.272 L1302.64 351.272 L1302.64 359.745 Q1303.65 359.397 1304.67 359.235 Q1305.69 359.05 1306.71 359.05 Q1312.5 359.05 1315.88 362.221 Q1319.26 365.393 1319.26 370.809 Q1319.26 376.388 1315.78 379.49 Q1312.31 382.569 1305.99 382.569 Q1303.82 382.569 1301.55 382.198 Q1299.3 381.828 1296.89 381.087 L1296.89 376.388 Q1298.98 377.522 1301.2 378.078 Q1303.42 378.633 1305.9 378.633 Q1309.9 378.633 1312.24 376.527 Q1314.58 374.42 1314.58 370.809 Q1314.58 367.198 1312.24 365.092 Q1309.9 362.985 1305.9 362.985 Q1304.02 362.985 1302.15 363.402 Q1300.3 363.819 1298.35 364.698 L1298.35 347.337 Z\" fill=\"#000000\" fill-rule=\"evenodd\" fill-opacity=\"1\" /><path clip-path=\"url(#clip890)\" d=\"M 0 0 M1338.47 350.416 Q1334.86 350.416 1333.03 353.981 Q1331.22 357.522 1331.22 364.652 Q1331.22 371.758 1333.03 375.323 Q1334.86 378.865 1338.47 378.865 Q1342.1 378.865 1343.91 375.323 Q1345.74 371.758 1345.74 364.652 Q1345.74 357.522 1343.91 353.981 Q1342.1 350.416 1338.47 350.416 M1338.47 346.712 Q1344.28 346.712 1347.33 351.319 Q1350.41 355.902 1350.41 364.652 Q1350.41 373.379 1347.33 377.985 Q1344.28 382.569 1338.47 382.569 Q1332.66 382.569 1329.58 377.985 Q1326.52 373.379 1326.52 364.652 Q1326.52 355.902 1329.58 351.319 Q1332.66 346.712 1338.47 346.712 Z\" fill=\"#000000\" fill-rule=\"evenodd\" fill-opacity=\"1\" /><path clip-path=\"url(#clip890)\" d=\"M 0 0 M1386.8 356.434 L1376.22 367.059 L1386.8 377.638 L1384.05 380.439 L1373.42 369.814 L1362.8 380.439 L1360.07 377.638 L1370.62 367.059 L1360.07 356.434 L1362.8 353.633 L1373.42 364.258 L1384.05 353.633 L1386.8 356.434 Z\" fill=\"#000000\" fill-rule=\"evenodd\" fill-opacity=\"1\" /><path clip-path=\"url(#clip890)\" d=\"M 0 0 M1399.16 377.962 L1406.8 377.962 L1406.8 351.596 L1398.49 353.263 L1398.49 349.004 L1406.76 347.337 L1411.43 347.337 L1411.43 377.962 L1419.07 377.962 L1419.07 381.897 L1399.16 381.897 L1399.16 377.962 Z\" fill=\"#000000\" fill-rule=\"evenodd\" fill-opacity=\"1\" /><path clip-path=\"url(#clip890)\" d=\"M 0 0 M1438.51 350.416 Q1434.9 350.416 1433.07 353.981 Q1431.27 357.522 1431.27 364.652 Q1431.27 371.758 1433.07 375.323 Q1434.9 378.865 1438.51 378.865 Q1442.15 378.865 1443.95 375.323 Q1445.78 371.758 1445.78 364.652 Q1445.78 357.522 1443.95 353.981 Q1442.15 350.416 1438.51 350.416 M1438.51 346.712 Q1444.32 346.712 1447.38 351.319 Q1450.46 355.902 1450.46 364.652 Q1450.46 373.379 1447.38 377.985 Q1444.32 382.569 1438.51 382.569 Q1432.7 382.569 1429.63 377.985 Q1426.57 373.379 1426.57 364.652 Q1426.57 355.902 1429.63 351.319 Q1432.7 346.712 1438.51 346.712 Z\" fill=\"#000000\" fill-rule=\"evenodd\" fill-opacity=\"1\" /><path clip-path=\"url(#clip890)\" d=\"M 0 0 M1450.46 340.814 L1474.57 340.814 L1474.57 344.011 L1450.46 344.011 L1450.46 340.814 Z\" fill=\"#000000\" fill-rule=\"evenodd\" fill-opacity=\"1\" /><path clip-path=\"url(#clip890)\" d=\"M 0 0 M1481.81 326.407 L1499.87 326.407 L1499.87 328.024 L1489.67 354.487 L1485.7 354.487 L1495.3 329.604 L1481.81 329.604 L1481.81 326.407 Z\" fill=\"#000000\" fill-rule=\"evenodd\" fill-opacity=\"1\" /><path clip-path=\"url(#clip890)\" d=\"M 0 0 M1253.21 294.416 L1253.21 290.157 Q1254.97 290.99 1256.78 291.43 Q1258.58 291.87 1260.32 291.87 Q1264.95 291.87 1267.38 288.768 Q1269.83 285.643 1270.18 279.301 Q1268.84 281.291 1266.78 282.356 Q1264.72 283.421 1262.22 283.421 Q1257.03 283.421 1254 280.296 Q1250.99 277.148 1250.99 271.708 Q1250.99 266.384 1254.14 263.166 Q1257.29 259.949 1262.52 259.949 Q1268.52 259.949 1271.66 264.555 Q1274.83 269.139 1274.83 277.889 Q1274.83 286.06 1270.95 290.944 Q1267.08 295.805 1260.53 295.805 Q1258.77 295.805 1256.96 295.458 Q1255.16 295.111 1253.21 294.416 M1262.52 279.764 Q1265.67 279.764 1267.5 277.611 Q1269.35 275.458 1269.35 271.708 Q1269.35 267.981 1267.5 265.828 Q1265.67 263.653 1262.52 263.653 Q1259.37 263.653 1257.52 265.828 Q1255.69 267.981 1255.69 271.708 Q1255.69 275.458 1257.52 277.611 Q1259.37 279.764 1262.52 279.764 Z\" fill=\"#000000\" fill-rule=\"evenodd\" fill-opacity=\"1\" /><path clip-path=\"url(#clip890)\" d=\"M 0 0 M1283.24 289.254 L1288.12 289.254 L1288.12 295.134 L1283.24 295.134 L1283.24 289.254 Z\" fill=\"#000000\" fill-rule=\"evenodd\" fill-opacity=\"1\" /><path clip-path=\"url(#clip890)\" d=\"M 0 0 M1308.31 263.653 Q1304.7 263.653 1302.87 267.217 Q1301.06 270.759 1301.06 277.889 Q1301.06 284.995 1302.87 288.56 Q1304.7 292.101 1308.31 292.101 Q1311.94 292.101 1313.75 288.56 Q1315.58 284.995 1315.58 277.889 Q1315.58 270.759 1313.75 267.217 Q1311.94 263.653 1308.31 263.653 M1308.31 259.949 Q1314.12 259.949 1317.17 264.555 Q1320.25 269.139 1320.25 277.889 Q1320.25 286.615 1317.17 291.222 Q1314.12 295.805 1308.31 295.805 Q1302.5 295.805 1299.42 291.222 Q1296.36 286.615 1296.36 277.889 Q1296.36 269.139 1299.42 264.555 Q1302.5 259.949 1308.31 259.949 Z\" fill=\"#000000\" fill-rule=\"evenodd\" fill-opacity=\"1\" /><path clip-path=\"url(#clip890)\" d=\"M 0 0 M1338.47 263.653 Q1334.86 263.653 1333.03 267.217 Q1331.22 270.759 1331.22 277.889 Q1331.22 284.995 1333.03 288.56 Q1334.86 292.101 1338.47 292.101 Q1342.1 292.101 1343.91 288.56 Q1345.74 284.995 1345.74 277.889 Q1345.74 270.759 1343.91 267.217 Q1342.1 263.653 1338.47 263.653 M1338.47 259.949 Q1344.28 259.949 1347.33 264.555 Q1350.41 269.139 1350.41 277.889 Q1350.41 286.615 1347.33 291.222 Q1344.28 295.805 1338.47 295.805 Q1332.66 295.805 1329.58 291.222 Q1326.52 286.615 1326.52 277.889 Q1326.52 269.139 1329.58 264.555 Q1332.66 259.949 1338.47 259.949 Z\" fill=\"#000000\" fill-rule=\"evenodd\" fill-opacity=\"1\" /><path clip-path=\"url(#clip890)\" d=\"M 0 0 M1386.8 269.671 L1376.22 280.296 L1386.8 290.875 L1384.05 293.676 L1373.42 283.051 L1362.8 293.676 L1360.07 290.875 L1370.62 280.296 L1360.07 269.671 L1362.8 266.87 L1373.42 277.495 L1384.05 266.87 L1386.8 269.671 Z\" fill=\"#000000\" fill-rule=\"evenodd\" fill-opacity=\"1\" /><path clip-path=\"url(#clip890)\" d=\"M 0 0 M1399.16 291.199 L1406.8 291.199 L1406.8 264.833 L1398.49 266.5 L1398.49 262.241 L1406.76 260.574 L1411.43 260.574 L1411.43 291.199 L1419.07 291.199 L1419.07 295.134 L1399.16 295.134 L1399.16 291.199 Z\" fill=\"#000000\" fill-rule=\"evenodd\" fill-opacity=\"1\" /><path clip-path=\"url(#clip890)\" d=\"M 0 0 M1438.51 263.653 Q1434.9 263.653 1433.07 267.217 Q1431.27 270.759 1431.27 277.889 Q1431.27 284.995 1433.07 288.56 Q1434.9 292.101 1438.51 292.101 Q1442.15 292.101 1443.95 288.56 Q1445.78 284.995 1445.78 277.889 Q1445.78 270.759 1443.95 267.217 Q1442.15 263.653 1438.51 263.653 M1438.51 259.949 Q1444.32 259.949 1447.38 264.555 Q1450.46 269.139 1450.46 277.889 Q1450.46 286.615 1447.38 291.222 Q1444.32 295.805 1438.51 295.805 Q1432.7 295.805 1429.63 291.222 Q1426.57 286.615 1426.57 277.889 Q1426.57 269.139 1429.63 264.555 Q1432.7 259.949 1438.51 259.949 Z\" fill=\"#000000\" fill-rule=\"evenodd\" fill-opacity=\"1\" /><path clip-path=\"url(#clip890)\" d=\"M 0 0 M1450.46 254.05 L1474.57 254.05 L1474.57 257.248 L1450.46 257.248 L1450.46 254.05 Z\" fill=\"#000000\" fill-rule=\"evenodd\" fill-opacity=\"1\" /><path clip-path=\"url(#clip890)\" d=\"M 0 0 M1481.81 239.643 L1499.87 239.643 L1499.87 241.261 L1489.67 267.723 L1485.7 267.723 L1495.3 242.841 L1481.81 242.841 L1481.81 239.643 Z\" fill=\"#000000\" fill-rule=\"evenodd\" fill-opacity=\"1\" /><path clip-path=\"url(#clip890)\" d=\"M 0 0 M1253.21 207.653 L1253.21 203.394 Q1254.97 204.227 1256.78 204.667 Q1258.58 205.107 1260.32 205.107 Q1264.95 205.107 1267.38 202.005 Q1269.83 198.88 1270.18 192.537 Q1268.84 194.528 1266.78 195.593 Q1264.72 196.658 1262.22 196.658 Q1257.03 196.658 1254 193.533 Q1250.99 190.385 1250.99 184.945 Q1250.99 179.621 1254.14 176.403 Q1257.29 173.186 1262.52 173.186 Q1268.52 173.186 1271.66 177.792 Q1274.83 182.375 1274.83 191.125 Q1274.83 199.296 1270.95 204.181 Q1267.08 209.042 1260.53 209.042 Q1258.77 209.042 1256.96 208.695 Q1255.16 208.347 1253.21 207.653 M1262.52 193 Q1265.67 193 1267.5 190.847 Q1269.35 188.695 1269.35 184.945 Q1269.35 181.218 1267.5 179.065 Q1265.67 176.889 1262.52 176.889 Q1259.37 176.889 1257.52 179.065 Q1255.69 181.218 1255.69 184.945 Q1255.69 188.695 1257.52 190.847 Q1259.37 193 1262.52 193 Z\" fill=\"#000000\" fill-rule=\"evenodd\" fill-opacity=\"1\" /><path clip-path=\"url(#clip890)\" d=\"M 0 0 M1283.24 202.491 L1288.12 202.491 L1288.12 208.371 L1283.24 208.371 L1283.24 202.491 Z\" fill=\"#000000\" fill-rule=\"evenodd\" fill-opacity=\"1\" /><path clip-path=\"url(#clip890)\" d=\"M 0 0 M1298.35 173.811 L1316.71 173.811 L1316.71 177.746 L1302.64 177.746 L1302.64 186.218 Q1303.65 185.871 1304.67 185.709 Q1305.69 185.523 1306.71 185.523 Q1312.5 185.523 1315.88 188.695 Q1319.26 191.866 1319.26 197.283 Q1319.26 202.861 1315.78 205.963 Q1312.31 209.042 1305.99 209.042 Q1303.82 209.042 1301.55 208.671 Q1299.3 208.301 1296.89 207.56 L1296.89 202.861 Q1298.98 203.996 1301.2 204.551 Q1303.42 205.107 1305.9 205.107 Q1309.9 205.107 1312.24 203 Q1314.58 200.894 1314.58 197.283 Q1314.58 193.672 1312.24 191.565 Q1309.9 189.459 1305.9 189.459 Q1304.02 189.459 1302.15 189.875 Q1300.3 190.292 1298.35 191.172 L1298.35 173.811 Z\" fill=\"#000000\" fill-rule=\"evenodd\" fill-opacity=\"1\" /><path clip-path=\"url(#clip890)\" d=\"M 0 0 M1338.47 176.889 Q1334.86 176.889 1333.03 180.454 Q1331.22 183.996 1331.22 191.125 Q1331.22 198.232 1333.03 201.796 Q1334.86 205.338 1338.47 205.338 Q1342.1 205.338 1343.91 201.796 Q1345.74 198.232 1345.74 191.125 Q1345.74 183.996 1343.91 180.454 Q1342.1 176.889 1338.47 176.889 M1338.47 173.186 Q1344.28 173.186 1347.33 177.792 Q1350.41 182.375 1350.41 191.125 Q1350.41 199.852 1347.33 204.459 Q1344.28 209.042 1338.47 209.042 Q1332.66 209.042 1329.58 204.459 Q1326.52 199.852 1326.52 191.125 Q1326.52 182.375 1329.58 177.792 Q1332.66 173.186 1338.47 173.186 Z\" fill=\"#000000\" fill-rule=\"evenodd\" fill-opacity=\"1\" /><path clip-path=\"url(#clip890)\" d=\"M 0 0 M1386.8 182.908 L1376.22 193.533 L1386.8 204.111 L1384.05 206.912 L1373.42 196.287 L1362.8 206.912 L1360.07 204.111 L1370.62 193.533 L1360.07 182.908 L1362.8 180.107 L1373.42 190.732 L1384.05 180.107 L1386.8 182.908 Z\" fill=\"#000000\" fill-rule=\"evenodd\" fill-opacity=\"1\" /><path clip-path=\"url(#clip890)\" d=\"M 0 0 M1399.16 204.435 L1406.8 204.435 L1406.8 178.07 L1398.49 179.736 L1398.49 175.477 L1406.76 173.811 L1411.43 173.811 L1411.43 204.435 L1419.07 204.435 L1419.07 208.371 L1399.16 208.371 L1399.16 204.435 Z\" fill=\"#000000\" fill-rule=\"evenodd\" fill-opacity=\"1\" /><path clip-path=\"url(#clip890)\" d=\"M 0 0 M1438.51 176.889 Q1434.9 176.889 1433.07 180.454 Q1431.27 183.996 1431.27 191.125 Q1431.27 198.232 1433.07 201.796 Q1434.9 205.338 1438.51 205.338 Q1442.15 205.338 1443.95 201.796 Q1445.78 198.232 1445.78 191.125 Q1445.78 183.996 1443.95 180.454 Q1442.15 176.889 1438.51 176.889 M1438.51 173.186 Q1444.32 173.186 1447.38 177.792 Q1450.46 182.375 1450.46 191.125 Q1450.46 199.852 1447.38 204.459 Q1444.32 209.042 1438.51 209.042 Q1432.7 209.042 1429.63 204.459 Q1426.57 199.852 1426.57 191.125 Q1426.57 182.375 1429.63 177.792 Q1432.7 173.186 1438.51 173.186 Z\" fill=\"#000000\" fill-rule=\"evenodd\" fill-opacity=\"1\" /><path clip-path=\"url(#clip890)\" d=\"M 0 0 M1450.46 167.287 L1474.57 167.287 L1474.57 170.484 L1450.46 170.484 L1450.46 167.287 Z\" fill=\"#000000\" fill-rule=\"evenodd\" fill-opacity=\"1\" /><path clip-path=\"url(#clip890)\" d=\"M 0 0 M1481.81 152.88 L1499.87 152.88 L1499.87 154.498 L1489.67 180.96 L1485.7 180.96 L1495.3 156.077 L1481.81 156.077 L1481.81 152.88 Z\" fill=\"#000000\" fill-rule=\"evenodd\" fill-opacity=\"1\" /><path clip-path=\"url(#clip890)\" d=\"M 0 0 M1864.83 49.9314 Q1864.83 41.7081 1861.43 37.0496 Q1858.07 32.3505 1852.15 32.3505 Q1846.24 32.3505 1842.84 37.0496 Q1839.47 41.7081 1839.47 49.9314 Q1839.47 58.1548 1842.84 62.8538 Q1846.24 67.5124 1852.15 67.5124 Q1858.07 67.5124 1861.43 62.8538 Q1864.83 58.1548 1864.83 49.9314 M1839.47 34.0924 Q1841.82 30.0415 1845.39 28.0971 Q1848.99 26.1121 1853.98 26.1121 Q1862.24 26.1121 1867.38 32.6746 Q1872.57 39.2371 1872.57 49.9314 Q1872.57 60.6258 1867.38 67.1883 Q1862.24 73.7508 1853.98 73.7508 Q1848.99 73.7508 1845.39 71.8063 Q1841.82 69.8214 1839.47 65.7705 L1839.47 72.576 L1831.98 72.576 L1831.98 9.54393 L1839.47 9.54393 L1839.47 34.0924 Z\" fill=\"#000000\" fill-rule=\"evenodd\" fill-opacity=\"1\" /><path clip-path=\"url(#clip890)\" d=\"M 0 0 M1923.73 48.0275 L1923.73 51.6733 L1889.46 51.6733 Q1889.95 59.3701 1894.08 63.421 Q1898.25 67.4314 1905.67 67.4314 Q1909.96 67.4314 1913.97 66.3781 Q1918.02 65.3249 1921.99 63.2184 L1921.99 70.267 Q1917.98 71.9684 1913.77 72.8596 Q1909.55 73.7508 1905.22 73.7508 Q1894.36 73.7508 1888 67.4314 Q1881.68 61.1119 1881.68 50.3365 Q1881.68 39.1965 1887.68 32.6746 Q1893.72 26.1121 1903.92 26.1121 Q1913.08 26.1121 1918.39 32.0264 Q1923.73 37.9003 1923.73 48.0275 M1916.28 45.84 Q1916.2 39.7232 1912.84 36.0774 Q1909.51 32.4315 1904 32.4315 Q1897.77 32.4315 1894 35.9558 Q1890.27 39.4801 1889.71 45.8805 L1916.28 45.84 Z\" fill=\"#000000\" fill-rule=\"evenodd\" fill-opacity=\"1\" /><path clip-path=\"url(#clip890)\" d=\"M 0 0 M1943.34 14.324 L1943.34 27.2059 L1958.69 27.2059 L1958.69 32.9987 L1943.34 32.9987 L1943.34 57.6282 Q1943.34 63.1779 1944.84 64.7578 Q1946.38 66.3376 1951.04 66.3376 L1958.69 66.3376 L1958.69 72.576 L1951.04 72.576 Q1942.41 72.576 1939.13 69.3758 Q1935.84 66.1351 1935.84 57.6282 L1935.84 32.9987 L1930.38 32.9987 L1930.38 27.2059 L1935.84 27.2059 L1935.84 14.324 L1943.34 14.324 Z\" fill=\"#000000\" fill-rule=\"evenodd\" fill-opacity=\"1\" /><path clip-path=\"url(#clip890)\" d=\"M 0 0 M1989.11 49.7694 Q1980.08 49.7694 1976.6 51.8354 Q1973.11 53.9013 1973.11 58.8839 Q1973.11 62.8538 1975.71 65.2034 Q1978.34 67.5124 1982.84 67.5124 Q1989.03 67.5124 1992.76 63.1374 Q1996.53 58.7219 1996.53 51.4303 L1996.53 49.7694 L1989.11 49.7694 M2003.98 46.6907 L2003.98 72.576 L1996.53 72.576 L1996.53 65.6895 Q1993.98 69.8214 1990.17 71.8063 Q1986.36 73.7508 1980.85 73.7508 Q1973.88 73.7508 1969.75 69.8619 Q1965.66 65.9325 1965.66 59.3701 Q1965.66 51.7138 1970.76 47.825 Q1975.91 43.9361 1986.08 43.9361 L1996.53 43.9361 L1996.53 43.2069 Q1996.53 38.0623 1993.12 35.2672 Q1989.76 32.4315 1983.65 32.4315 Q1979.76 32.4315 1976.07 33.3632 Q1972.38 34.295 1968.98 36.1584 L1968.98 29.2718 Q1973.07 27.692 1976.92 26.9223 Q1980.77 26.1121 1984.42 26.1121 Q1994.26 26.1121 1999.12 31.2163 Q2003.98 36.3204 2003.98 46.6907 Z\" fill=\"#000000\" fill-rule=\"evenodd\" fill-opacity=\"1\" /><path clip-path=\"url(#clip890)\" d=\"M 0 0 M2021.81 65.6895 L2035.17 65.6895 L2035.17 19.5497 L2020.63 22.4663 L2020.63 15.0127 L2035.09 12.096 L2043.27 12.096 L2043.27 65.6895 L2056.64 65.6895 L2056.64 72.576 L2021.81 72.576 L2021.81 65.6895 Z\" fill=\"#000000\" fill-rule=\"evenodd\" fill-opacity=\"1\" /><polyline clip-path=\"url(#clip893)\" style=\"stroke:#009af9; stroke-width:4; stroke-opacity:1; fill:none\" points=\"\n",
       "  1558.99,139.744 1751.65,537.801 1944.31,670.515 2136.97,537.759 2329.64,139.405 \n",
       "  \"/>\n",
       "<polyline clip-path=\"url(#clip893)\" style=\"stroke:#e26f46; stroke-width:4; stroke-opacity:1; fill:none\" points=\"\n",
       "  1944.31,1249.42 1944.31,-439.504 \n",
       "  \"/>\n",
       "<path clip-path=\"url(#clip890)\" d=\"\n",
       "M335.867 1486.45 L1152.76 1486.45 L1152.76 923.472 L335.867 923.472  Z\n",
       "  \" fill=\"#ffffff\" fill-rule=\"evenodd\" fill-opacity=\"1\"/>\n",
       "<defs>\n",
       "  <clipPath id=\"clip894\">\n",
       "    <rect x=\"335\" y=\"923\" width=\"818\" height=\"564\"/>\n",
       "  </clipPath>\n",
       "</defs>\n",
       "<polyline clip-path=\"url(#clip894)\" style=\"stroke:#000000; stroke-width:2; stroke-opacity:0.1; fill:none\" points=\"\n",
       "  357.615,1486.45 357.615,923.472 \n",
       "  \"/>\n",
       "<polyline clip-path=\"url(#clip894)\" style=\"stroke:#000000; stroke-width:2; stroke-opacity:0.1; fill:none\" points=\"\n",
       "  608.716,1486.45 608.716,923.472 \n",
       "  \"/>\n",
       "<polyline clip-path=\"url(#clip894)\" style=\"stroke:#000000; stroke-width:2; stroke-opacity:0.1; fill:none\" points=\"\n",
       "  859.817,1486.45 859.817,923.472 \n",
       "  \"/>\n",
       "<polyline clip-path=\"url(#clip894)\" style=\"stroke:#000000; stroke-width:2; stroke-opacity:0.1; fill:none\" points=\"\n",
       "  1110.92,1486.45 1110.92,923.472 \n",
       "  \"/>\n",
       "<polyline clip-path=\"url(#clip890)\" style=\"stroke:#000000; stroke-width:4; stroke-opacity:1; fill:none\" points=\"\n",
       "  335.867,1486.45 1152.76,1486.45 \n",
       "  \"/>\n",
       "<polyline clip-path=\"url(#clip890)\" style=\"stroke:#000000; stroke-width:4; stroke-opacity:1; fill:none\" points=\"\n",
       "  357.615,1486.45 357.615,1479.69 \n",
       "  \"/>\n",
       "<polyline clip-path=\"url(#clip890)\" style=\"stroke:#000000; stroke-width:4; stroke-opacity:1; fill:none\" points=\"\n",
       "  608.716,1486.45 608.716,1479.69 \n",
       "  \"/>\n",
       "<polyline clip-path=\"url(#clip890)\" style=\"stroke:#000000; stroke-width:4; stroke-opacity:1; fill:none\" points=\"\n",
       "  859.817,1486.45 859.817,1479.69 \n",
       "  \"/>\n",
       "<polyline clip-path=\"url(#clip890)\" style=\"stroke:#000000; stroke-width:4; stroke-opacity:1; fill:none\" points=\"\n",
       "  1110.92,1486.45 1110.92,1479.69 \n",
       "  \"/>\n",
       "<path clip-path=\"url(#clip890)\" d=\"M 0 0 M290.254 1515.64 Q286.643 1515.64 284.814 1519.2 Q283.008 1522.75 283.008 1529.87 Q283.008 1536.98 284.814 1540.55 Q286.643 1544.09 290.254 1544.09 Q293.888 1544.09 295.694 1540.55 Q297.522 1536.98 297.522 1529.87 Q297.522 1522.75 295.694 1519.2 Q293.888 1515.64 290.254 1515.64 M290.254 1511.93 Q296.064 1511.93 299.119 1516.54 Q302.198 1521.12 302.198 1529.87 Q302.198 1538.6 299.119 1543.21 Q296.064 1547.79 290.254 1547.79 Q284.444 1547.79 281.365 1543.21 Q278.309 1538.6 278.309 1529.87 Q278.309 1521.12 281.365 1516.54 Q284.444 1511.93 290.254 1511.93 Z\" fill=\"#000000\" fill-rule=\"evenodd\" fill-opacity=\"1\" /><path clip-path=\"url(#clip890)\" d=\"M 0 0 M310.416 1541.24 L315.3 1541.24 L315.3 1547.12 L310.416 1547.12 L310.416 1541.24 Z\" fill=\"#000000\" fill-rule=\"evenodd\" fill-opacity=\"1\" /><path clip-path=\"url(#clip890)\" d=\"M 0 0 M324.305 1512.56 L346.527 1512.56 L346.527 1514.55 L333.98 1547.12 L329.096 1547.12 L340.902 1516.5 L324.305 1516.5 L324.305 1512.56 Z\" fill=\"#000000\" fill-rule=\"evenodd\" fill-opacity=\"1\" /><path clip-path=\"url(#clip890)\" d=\"M 0 0 M366.226 1527.98 Q363.077 1527.98 361.226 1530.13 Q359.397 1532.28 359.397 1536.03 Q359.397 1539.76 361.226 1541.93 Q363.077 1544.09 366.226 1544.09 Q369.374 1544.09 371.202 1541.93 Q373.054 1539.76 373.054 1536.03 Q373.054 1532.28 371.202 1530.13 Q369.374 1527.98 366.226 1527.98 M375.508 1513.32 L375.508 1517.58 Q373.749 1516.75 371.943 1516.31 Q370.161 1515.87 368.401 1515.87 Q363.772 1515.87 361.318 1519 Q358.888 1522.12 358.54 1528.44 Q359.906 1526.43 361.966 1525.36 Q364.027 1524.27 366.503 1524.27 Q371.712 1524.27 374.721 1527.44 Q377.753 1530.59 377.753 1536.03 Q377.753 1541.36 374.605 1544.57 Q371.457 1547.79 366.226 1547.79 Q360.23 1547.79 357.059 1543.21 Q353.888 1538.6 353.888 1529.87 Q353.888 1521.68 357.777 1516.82 Q361.665 1511.93 368.216 1511.93 Q369.976 1511.93 371.758 1512.28 Q373.563 1512.63 375.508 1513.32 Z\" fill=\"#000000\" fill-rule=\"evenodd\" fill-opacity=\"1\" /><path clip-path=\"url(#clip890)\" d=\"M 0 0 M396.387 1527.98 Q393.239 1527.98 391.387 1530.13 Q389.559 1532.28 389.559 1536.03 Q389.559 1539.76 391.387 1541.93 Q393.239 1544.09 396.387 1544.09 Q399.536 1544.09 401.364 1541.93 Q403.216 1539.76 403.216 1536.03 Q403.216 1532.28 401.364 1530.13 Q399.536 1527.98 396.387 1527.98 M405.67 1513.32 L405.67 1517.58 Q403.911 1516.75 402.105 1516.31 Q400.323 1515.87 398.563 1515.87 Q393.934 1515.87 391.48 1519 Q389.05 1522.12 388.702 1528.44 Q390.068 1526.43 392.128 1525.36 Q394.188 1524.27 396.665 1524.27 Q401.874 1524.27 404.883 1527.44 Q407.915 1530.59 407.915 1536.03 Q407.915 1541.36 404.767 1544.57 Q401.619 1547.79 396.387 1547.79 Q390.392 1547.79 387.221 1543.21 Q384.05 1538.6 384.05 1529.87 Q384.05 1521.68 387.938 1516.82 Q391.827 1511.93 398.378 1511.93 Q400.137 1511.93 401.92 1512.28 Q403.725 1512.63 405.67 1513.32 Z\" fill=\"#000000\" fill-rule=\"evenodd\" fill-opacity=\"1\" /><path clip-path=\"url(#clip890)\" d=\"M 0 0 M416.017 1512.56 L434.373 1512.56 L434.373 1516.5 L420.299 1516.5 L420.299 1524.97 Q421.318 1524.62 422.336 1524.46 Q423.355 1524.27 424.373 1524.27 Q430.16 1524.27 433.54 1527.44 Q436.92 1530.62 436.92 1536.03 Q436.92 1541.61 433.447 1544.71 Q429.975 1547.79 423.656 1547.79 Q421.48 1547.79 419.211 1547.42 Q416.966 1547.05 414.559 1546.31 L414.559 1541.61 Q416.642 1542.74 418.864 1543.3 Q421.086 1543.86 423.563 1543.86 Q427.568 1543.86 429.906 1541.75 Q432.244 1539.64 432.244 1536.03 Q432.244 1532.42 429.906 1530.31 Q427.568 1528.21 423.563 1528.21 Q421.688 1528.21 419.813 1528.62 Q417.961 1529.04 416.017 1529.92 L416.017 1512.56 Z\" fill=\"#000000\" fill-rule=\"evenodd\" fill-opacity=\"1\" /><path clip-path=\"url(#clip890)\" d=\"M 0 0 M540.857 1515.64 Q537.246 1515.64 535.418 1519.2 Q533.612 1522.75 533.612 1529.87 Q533.612 1536.98 535.418 1540.55 Q537.246 1544.09 540.857 1544.09 Q544.492 1544.09 546.297 1540.55 Q548.126 1536.98 548.126 1529.87 Q548.126 1522.75 546.297 1519.2 Q544.492 1515.64 540.857 1515.64 M540.857 1511.93 Q546.668 1511.93 549.723 1516.54 Q552.802 1521.12 552.802 1529.87 Q552.802 1538.6 549.723 1543.21 Q546.668 1547.79 540.857 1547.79 Q535.047 1547.79 531.969 1543.21 Q528.913 1538.6 528.913 1529.87 Q528.913 1521.12 531.969 1516.54 Q535.047 1511.93 540.857 1511.93 Z\" fill=\"#000000\" fill-rule=\"evenodd\" fill-opacity=\"1\" /><path clip-path=\"url(#clip890)\" d=\"M 0 0 M561.019 1541.24 L565.904 1541.24 L565.904 1547.12 L561.019 1547.12 L561.019 1541.24 Z\" fill=\"#000000\" fill-rule=\"evenodd\" fill-opacity=\"1\" /><path clip-path=\"url(#clip890)\" d=\"M 0 0 M574.908 1512.56 L597.13 1512.56 L597.13 1514.55 L584.584 1547.12 L579.7 1547.12 L591.505 1516.5 L574.908 1516.5 L574.908 1512.56 Z\" fill=\"#000000\" fill-rule=\"evenodd\" fill-opacity=\"1\" /><path clip-path=\"url(#clip890)\" d=\"M 0 0 M616.829 1527.98 Q613.681 1527.98 611.829 1530.13 Q610.001 1532.28 610.001 1536.03 Q610.001 1539.76 611.829 1541.93 Q613.681 1544.09 616.829 1544.09 Q619.977 1544.09 621.806 1541.93 Q623.658 1539.76 623.658 1536.03 Q623.658 1532.28 621.806 1530.13 Q619.977 1527.98 616.829 1527.98 M626.112 1513.32 L626.112 1517.58 Q624.352 1516.75 622.547 1516.31 Q620.764 1515.87 619.005 1515.87 Q614.376 1515.87 611.922 1519 Q609.491 1522.12 609.144 1528.44 Q610.51 1526.43 612.57 1525.36 Q614.63 1524.27 617.107 1524.27 Q622.315 1524.27 625.325 1527.44 Q628.357 1530.59 628.357 1536.03 Q628.357 1541.36 625.209 1544.57 Q622.061 1547.79 616.829 1547.79 Q610.834 1547.79 607.663 1543.21 Q604.491 1538.6 604.491 1529.87 Q604.491 1521.68 608.38 1516.82 Q612.269 1511.93 618.82 1511.93 Q620.579 1511.93 622.362 1512.28 Q624.167 1512.63 626.112 1513.32 Z\" fill=\"#000000\" fill-rule=\"evenodd\" fill-opacity=\"1\" /><path clip-path=\"url(#clip890)\" d=\"M 0 0 M635.232 1512.56 L657.454 1512.56 L657.454 1514.55 L644.908 1547.12 L640.024 1547.12 L651.829 1516.5 L635.232 1516.5 L635.232 1512.56 Z\" fill=\"#000000\" fill-rule=\"evenodd\" fill-opacity=\"1\" /><path clip-path=\"url(#clip890)\" d=\"M 0 0 M676.574 1515.64 Q672.963 1515.64 671.135 1519.2 Q669.329 1522.75 669.329 1529.87 Q669.329 1536.98 671.135 1540.55 Q672.963 1544.09 676.574 1544.09 Q680.209 1544.09 682.014 1540.55 Q683.843 1536.98 683.843 1529.87 Q683.843 1522.75 682.014 1519.2 Q680.209 1515.64 676.574 1515.64 M676.574 1511.93 Q682.384 1511.93 685.44 1516.54 Q688.519 1521.12 688.519 1529.87 Q688.519 1538.6 685.44 1543.21 Q682.384 1547.79 676.574 1547.79 Q670.764 1547.79 667.685 1543.21 Q664.63 1538.6 664.63 1529.87 Q664.63 1521.12 667.685 1516.54 Q670.764 1511.93 676.574 1511.93 Z\" fill=\"#000000\" fill-rule=\"evenodd\" fill-opacity=\"1\" /><path clip-path=\"url(#clip890)\" d=\"M 0 0 M792.457 1515.64 Q788.845 1515.64 787.017 1519.2 Q785.211 1522.75 785.211 1529.87 Q785.211 1536.98 787.017 1540.55 Q788.845 1544.09 792.457 1544.09 Q796.091 1544.09 797.896 1540.55 Q799.725 1536.98 799.725 1529.87 Q799.725 1522.75 797.896 1519.2 Q796.091 1515.64 792.457 1515.64 M792.457 1511.93 Q798.267 1511.93 801.322 1516.54 Q804.401 1521.12 804.401 1529.87 Q804.401 1538.6 801.322 1543.21 Q798.267 1547.79 792.457 1547.79 Q786.646 1547.79 783.568 1543.21 Q780.512 1538.6 780.512 1529.87 Q780.512 1521.12 783.568 1516.54 Q786.646 1511.93 792.457 1511.93 Z\" fill=\"#000000\" fill-rule=\"evenodd\" fill-opacity=\"1\" /><path clip-path=\"url(#clip890)\" d=\"M 0 0 M812.618 1541.24 L817.503 1541.24 L817.503 1547.12 L812.618 1547.12 L812.618 1541.24 Z\" fill=\"#000000\" fill-rule=\"evenodd\" fill-opacity=\"1\" /><path clip-path=\"url(#clip890)\" d=\"M 0 0 M826.507 1512.56 L848.729 1512.56 L848.729 1514.55 L836.183 1547.12 L831.299 1547.12 L843.104 1516.5 L826.507 1516.5 L826.507 1512.56 Z\" fill=\"#000000\" fill-rule=\"evenodd\" fill-opacity=\"1\" /><path clip-path=\"url(#clip890)\" d=\"M 0 0 M868.428 1527.98 Q865.28 1527.98 863.428 1530.13 Q861.6 1532.28 861.6 1536.03 Q861.6 1539.76 863.428 1541.93 Q865.28 1544.09 868.428 1544.09 Q871.576 1544.09 873.405 1541.93 Q875.257 1539.76 875.257 1536.03 Q875.257 1532.28 873.405 1530.13 Q871.576 1527.98 868.428 1527.98 M877.711 1513.32 L877.711 1517.58 Q875.951 1516.75 874.146 1516.31 Q872.364 1515.87 870.604 1515.87 Q865.975 1515.87 863.521 1519 Q861.09 1522.12 860.743 1528.44 Q862.109 1526.43 864.169 1525.36 Q866.229 1524.27 868.706 1524.27 Q873.914 1524.27 876.924 1527.44 Q879.956 1530.59 879.956 1536.03 Q879.956 1541.36 876.808 1544.57 Q873.66 1547.79 868.428 1547.79 Q862.433 1547.79 859.262 1543.21 Q856.09 1538.6 856.09 1529.87 Q856.09 1521.68 859.979 1516.82 Q863.868 1511.93 870.419 1511.93 Q872.178 1511.93 873.961 1512.28 Q875.766 1512.63 877.711 1513.32 Z\" fill=\"#000000\" fill-rule=\"evenodd\" fill-opacity=\"1\" /><path clip-path=\"url(#clip890)\" d=\"M 0 0 M886.831 1512.56 L909.053 1512.56 L909.053 1514.55 L896.507 1547.12 L891.623 1547.12 L903.428 1516.5 L886.831 1516.5 L886.831 1512.56 Z\" fill=\"#000000\" fill-rule=\"evenodd\" fill-opacity=\"1\" /><path clip-path=\"url(#clip890)\" d=\"M 0 0 M918.22 1512.56 L936.576 1512.56 L936.576 1516.5 L922.502 1516.5 L922.502 1524.97 Q923.521 1524.62 924.539 1524.46 Q925.558 1524.27 926.576 1524.27 Q932.363 1524.27 935.743 1527.44 Q939.122 1530.62 939.122 1536.03 Q939.122 1541.61 935.65 1544.71 Q932.178 1547.79 925.859 1547.79 Q923.683 1547.79 921.414 1547.42 Q919.169 1547.05 916.761 1546.31 L916.761 1541.61 Q918.845 1542.74 921.067 1543.3 Q923.289 1543.86 925.766 1543.86 Q929.771 1543.86 932.109 1541.75 Q934.447 1539.64 934.447 1536.03 Q934.447 1532.42 932.109 1530.31 Q929.771 1528.21 925.766 1528.21 Q923.891 1528.21 922.016 1528.62 Q920.164 1529.04 918.22 1529.92 L918.22 1512.56 Z\" fill=\"#000000\" fill-rule=\"evenodd\" fill-opacity=\"1\" /><path clip-path=\"url(#clip890)\" d=\"M 0 0 M1043.06 1515.64 Q1039.45 1515.64 1037.62 1519.2 Q1035.81 1522.75 1035.81 1529.87 Q1035.81 1536.98 1037.62 1540.55 Q1039.45 1544.09 1043.06 1544.09 Q1046.69 1544.09 1048.5 1540.55 Q1050.33 1536.98 1050.33 1529.87 Q1050.33 1522.75 1048.5 1519.2 Q1046.69 1515.64 1043.06 1515.64 M1043.06 1511.93 Q1048.87 1511.93 1051.93 1516.54 Q1055 1521.12 1055 1529.87 Q1055 1538.6 1051.93 1543.21 Q1048.87 1547.79 1043.06 1547.79 Q1037.25 1547.79 1034.17 1543.21 Q1031.12 1538.6 1031.12 1529.87 Q1031.12 1521.12 1034.17 1516.54 Q1037.25 1511.93 1043.06 1511.93 Z\" fill=\"#000000\" fill-rule=\"evenodd\" fill-opacity=\"1\" /><path clip-path=\"url(#clip890)\" d=\"M 0 0 M1063.22 1541.24 L1068.11 1541.24 L1068.11 1547.12 L1063.22 1547.12 L1063.22 1541.24 Z\" fill=\"#000000\" fill-rule=\"evenodd\" fill-opacity=\"1\" /><path clip-path=\"url(#clip890)\" d=\"M 0 0 M1077.11 1512.56 L1099.33 1512.56 L1099.33 1514.55 L1086.79 1547.12 L1081.9 1547.12 L1093.71 1516.5 L1077.11 1516.5 L1077.11 1512.56 Z\" fill=\"#000000\" fill-rule=\"evenodd\" fill-opacity=\"1\" /><path clip-path=\"url(#clip890)\" d=\"M 0 0 M1119.03 1527.98 Q1115.88 1527.98 1114.03 1530.13 Q1112.2 1532.28 1112.2 1536.03 Q1112.2 1539.76 1114.03 1541.93 Q1115.88 1544.09 1119.03 1544.09 Q1122.18 1544.09 1124.01 1541.93 Q1125.86 1539.76 1125.86 1536.03 Q1125.86 1532.28 1124.01 1530.13 Q1122.18 1527.98 1119.03 1527.98 M1128.31 1513.32 L1128.31 1517.58 Q1126.56 1516.75 1124.75 1516.31 Q1122.97 1515.87 1121.21 1515.87 Q1116.58 1515.87 1114.12 1519 Q1111.69 1522.12 1111.35 1528.44 Q1112.71 1526.43 1114.77 1525.36 Q1116.83 1524.27 1119.31 1524.27 Q1124.52 1524.27 1127.53 1527.44 Q1130.56 1530.59 1130.56 1536.03 Q1130.56 1541.36 1127.41 1544.57 Q1124.26 1547.79 1119.03 1547.79 Q1113.04 1547.79 1109.87 1543.21 Q1106.69 1538.6 1106.69 1529.87 Q1106.69 1521.68 1110.58 1516.82 Q1114.47 1511.93 1121.02 1511.93 Q1122.78 1511.93 1124.56 1512.28 Q1126.37 1512.63 1128.31 1513.32 Z\" fill=\"#000000\" fill-rule=\"evenodd\" fill-opacity=\"1\" /><path clip-path=\"url(#clip890)\" d=\"M 0 0 M1148.62 1530.71 Q1145.28 1530.71 1143.36 1532.49 Q1141.46 1534.27 1141.46 1537.4 Q1141.46 1540.52 1143.36 1542.31 Q1145.28 1544.09 1148.62 1544.09 Q1151.95 1544.09 1153.87 1542.31 Q1155.79 1540.5 1155.79 1537.4 Q1155.79 1534.27 1153.87 1532.49 Q1151.97 1530.71 1148.62 1530.71 M1143.94 1528.72 Q1140.93 1527.98 1139.24 1525.92 Q1137.57 1523.86 1137.57 1520.89 Q1137.57 1516.75 1140.51 1514.34 Q1143.48 1511.93 1148.62 1511.93 Q1153.78 1511.93 1156.72 1514.34 Q1159.66 1516.75 1159.66 1520.89 Q1159.66 1523.86 1157.97 1525.92 Q1156.3 1527.98 1153.31 1528.72 Q1156.69 1529.5 1158.57 1531.8 Q1160.47 1534.09 1160.47 1537.4 Q1160.47 1542.42 1157.39 1545.11 Q1154.33 1547.79 1148.62 1547.79 Q1142.9 1547.79 1139.82 1545.11 Q1136.76 1542.42 1136.76 1537.4 Q1136.76 1534.09 1138.66 1531.8 Q1140.56 1529.5 1143.94 1528.72 M1142.23 1521.33 Q1142.23 1524.02 1143.89 1525.52 Q1145.58 1527.03 1148.62 1527.03 Q1151.62 1527.03 1153.31 1525.52 Q1155.03 1524.02 1155.03 1521.33 Q1155.03 1518.65 1153.31 1517.14 Q1151.62 1515.64 1148.62 1515.64 Q1145.58 1515.64 1143.89 1517.14 Q1142.23 1518.65 1142.23 1521.33 Z\" fill=\"#000000\" fill-rule=\"evenodd\" fill-opacity=\"1\" /><path clip-path=\"url(#clip890)\" d=\"M 0 0 M1178.78 1515.64 Q1175.17 1515.64 1173.34 1519.2 Q1171.53 1522.75 1171.53 1529.87 Q1171.53 1536.98 1173.34 1540.55 Q1175.17 1544.09 1178.78 1544.09 Q1182.41 1544.09 1184.22 1540.55 Q1186.05 1536.98 1186.05 1529.87 Q1186.05 1522.75 1184.22 1519.2 Q1182.41 1515.64 1178.78 1515.64 M1178.78 1511.93 Q1184.59 1511.93 1187.64 1516.54 Q1190.72 1521.12 1190.72 1529.87 Q1190.72 1538.6 1187.64 1543.21 Q1184.59 1547.79 1178.78 1547.79 Q1172.97 1547.79 1169.89 1543.21 Q1166.83 1538.6 1166.83 1529.87 Q1166.83 1521.12 1169.89 1516.54 Q1172.97 1511.93 1178.78 1511.93 Z\" fill=\"#000000\" fill-rule=\"evenodd\" fill-opacity=\"1\" /><polyline clip-path=\"url(#clip894)\" style=\"stroke:#000000; stroke-width:2; stroke-opacity:0.1; fill:none\" points=\"\n",
       "  335.867,1440.67 1152.76,1440.67 \n",
       "  \"/>\n",
       "<polyline clip-path=\"url(#clip894)\" style=\"stroke:#000000; stroke-width:2; stroke-opacity:0.1; fill:none\" points=\"\n",
       "  335.867,1341.18 1152.76,1341.18 \n",
       "  \"/>\n",
       "<polyline clip-path=\"url(#clip894)\" style=\"stroke:#000000; stroke-width:2; stroke-opacity:0.1; fill:none\" points=\"\n",
       "  335.867,1241.69 1152.76,1241.69 \n",
       "  \"/>\n",
       "<polyline clip-path=\"url(#clip894)\" style=\"stroke:#000000; stroke-width:2; stroke-opacity:0.1; fill:none\" points=\"\n",
       "  335.867,1142.2 1152.76,1142.2 \n",
       "  \"/>\n",
       "<polyline clip-path=\"url(#clip894)\" style=\"stroke:#000000; stroke-width:2; stroke-opacity:0.1; fill:none\" points=\"\n",
       "  335.867,1042.71 1152.76,1042.71 \n",
       "  \"/>\n",
       "<polyline clip-path=\"url(#clip894)\" style=\"stroke:#000000; stroke-width:2; stroke-opacity:0.1; fill:none\" points=\"\n",
       "  335.867,943.22 1152.76,943.22 \n",
       "  \"/>\n",
       "<polyline clip-path=\"url(#clip890)\" style=\"stroke:#000000; stroke-width:4; stroke-opacity:1; fill:none\" points=\"\n",
       "  335.867,1486.45 335.867,923.472 \n",
       "  \"/>\n",
       "<polyline clip-path=\"url(#clip890)\" style=\"stroke:#000000; stroke-width:4; stroke-opacity:1; fill:none\" points=\"\n",
       "  335.867,1440.67 345.669,1440.67 \n",
       "  \"/>\n",
       "<polyline clip-path=\"url(#clip890)\" style=\"stroke:#000000; stroke-width:4; stroke-opacity:1; fill:none\" points=\"\n",
       "  335.867,1341.18 345.669,1341.18 \n",
       "  \"/>\n",
       "<polyline clip-path=\"url(#clip890)\" style=\"stroke:#000000; stroke-width:4; stroke-opacity:1; fill:none\" points=\"\n",
       "  335.867,1241.69 345.669,1241.69 \n",
       "  \"/>\n",
       "<polyline clip-path=\"url(#clip890)\" style=\"stroke:#000000; stroke-width:4; stroke-opacity:1; fill:none\" points=\"\n",
       "  335.867,1142.2 345.669,1142.2 \n",
       "  \"/>\n",
       "<polyline clip-path=\"url(#clip890)\" style=\"stroke:#000000; stroke-width:4; stroke-opacity:1; fill:none\" points=\"\n",
       "  335.867,1042.71 345.669,1042.71 \n",
       "  \"/>\n",
       "<polyline clip-path=\"url(#clip890)\" style=\"stroke:#000000; stroke-width:4; stroke-opacity:1; fill:none\" points=\"\n",
       "  335.867,943.22 345.669,943.22 \n",
       "  \"/>\n",
       "<path clip-path=\"url(#clip890)\" d=\"M 0 0 M51.8949 1429.84 L74.117 1429.84 L74.117 1431.83 L61.5708 1464.4 L56.6865 1464.4 L68.492 1433.77 L51.8949 1433.77 L51.8949 1429.84 Z\" fill=\"#000000\" fill-rule=\"evenodd\" fill-opacity=\"1\" /><path clip-path=\"url(#clip890)\" d=\"M 0 0 M83.2373 1458.52 L88.1216 1458.52 L88.1216 1464.4 L83.2373 1464.4 L83.2373 1458.52 Z\" fill=\"#000000\" fill-rule=\"evenodd\" fill-opacity=\"1\" /><path clip-path=\"url(#clip890)\" d=\"M 0 0 M108.307 1432.92 Q104.696 1432.92 102.867 1436.48 Q101.061 1440.02 101.061 1447.15 Q101.061 1454.26 102.867 1457.82 Q104.696 1461.36 108.307 1461.36 Q111.941 1461.36 113.746 1457.82 Q115.575 1454.26 115.575 1447.15 Q115.575 1440.02 113.746 1436.48 Q111.941 1432.92 108.307 1432.92 M108.307 1429.21 Q114.117 1429.21 117.172 1433.82 Q120.251 1438.4 120.251 1447.15 Q120.251 1455.88 117.172 1460.49 Q114.117 1465.07 108.307 1465.07 Q102.496 1465.07 99.4178 1460.49 Q96.3623 1455.88 96.3623 1447.15 Q96.3623 1438.4 99.4178 1433.82 Q102.496 1429.21 108.307 1429.21 Z\" fill=\"#000000\" fill-rule=\"evenodd\" fill-opacity=\"1\" /><path clip-path=\"url(#clip890)\" d=\"M 0 0 M138.469 1432.92 Q134.857 1432.92 133.029 1436.48 Q131.223 1440.02 131.223 1447.15 Q131.223 1454.26 133.029 1457.82 Q134.857 1461.36 138.469 1461.36 Q142.103 1461.36 143.908 1457.82 Q145.737 1454.26 145.737 1447.15 Q145.737 1440.02 143.908 1436.48 Q142.103 1432.92 138.469 1432.92 M138.469 1429.21 Q144.279 1429.21 147.334 1433.82 Q150.413 1438.4 150.413 1447.15 Q150.413 1455.88 147.334 1460.49 Q144.279 1465.07 138.469 1465.07 Q132.658 1465.07 129.58 1460.49 Q126.524 1455.88 126.524 1447.15 Q126.524 1438.4 129.58 1433.82 Q132.658 1429.21 138.469 1429.21 Z\" fill=\"#000000\" fill-rule=\"evenodd\" fill-opacity=\"1\" /><path clip-path=\"url(#clip890)\" d=\"M 0 0 M186.802 1438.93 L176.223 1449.56 L186.802 1460.14 L184.047 1462.94 L173.422 1452.31 L162.797 1462.94 L160.066 1460.14 L170.621 1449.56 L160.066 1438.93 L162.797 1436.13 L173.422 1446.76 L184.047 1436.13 L186.802 1438.93 Z\" fill=\"#000000\" fill-rule=\"evenodd\" fill-opacity=\"1\" /><path clip-path=\"url(#clip890)\" d=\"M 0 0 M199.163 1460.46 L206.801 1460.46 L206.801 1434.1 L198.491 1435.76 L198.491 1431.5 L206.755 1429.84 L211.431 1429.84 L211.431 1460.46 L219.07 1460.46 L219.07 1464.4 L199.163 1464.4 L199.163 1460.46 Z\" fill=\"#000000\" fill-rule=\"evenodd\" fill-opacity=\"1\" /><path clip-path=\"url(#clip890)\" d=\"M 0 0 M238.514 1432.92 Q234.903 1432.92 233.074 1436.48 Q231.269 1440.02 231.269 1447.15 Q231.269 1454.26 233.074 1457.82 Q234.903 1461.36 238.514 1461.36 Q242.149 1461.36 243.954 1457.82 Q245.783 1454.26 245.783 1447.15 Q245.783 1440.02 243.954 1436.48 Q242.149 1432.92 238.514 1432.92 M238.514 1429.21 Q244.324 1429.21 247.38 1433.82 Q250.459 1438.4 250.459 1447.15 Q250.459 1455.88 247.38 1460.49 Q244.324 1465.07 238.514 1465.07 Q232.704 1465.07 229.625 1460.49 Q226.57 1455.88 226.57 1447.15 Q226.57 1438.4 229.625 1433.82 Q232.704 1429.21 238.514 1429.21 Z\" fill=\"#000000\" fill-rule=\"evenodd\" fill-opacity=\"1\" /><path clip-path=\"url(#clip890)\" d=\"M 0 0 M250.459 1423.31 L274.57 1423.31 L274.57 1426.51 L250.459 1426.51 L250.459 1423.31 Z\" fill=\"#000000\" fill-rule=\"evenodd\" fill-opacity=\"1\" /><path clip-path=\"url(#clip890)\" d=\"M 0 0 M281.811 1408.91 L299.867 1408.91 L299.867 1410.52 L289.673 1436.99 L285.704 1436.99 L295.296 1412.1 L281.811 1412.1 L281.811 1408.91 Z\" fill=\"#000000\" fill-rule=\"evenodd\" fill-opacity=\"1\" /><path clip-path=\"url(#clip890)\" d=\"M 0 0 M63.0754 1348.5 Q59.7421 1348.5 57.8208 1350.28 Q55.9227 1352.06 55.9227 1355.19 Q55.9227 1358.31 57.8208 1360.09 Q59.7421 1361.87 63.0754 1361.87 Q66.4087 1361.87 68.33 1360.09 Q70.2513 1358.29 70.2513 1355.19 Q70.2513 1352.06 68.33 1350.28 Q66.4319 1348.5 63.0754 1348.5 M58.3995 1346.5 Q55.3903 1345.76 53.7004 1343.7 Q52.0338 1341.64 52.0338 1338.68 Q52.0338 1334.54 54.9736 1332.13 Q57.9365 1329.72 63.0754 1329.72 Q68.2374 1329.72 71.1772 1332.13 Q74.117 1334.54 74.117 1338.68 Q74.117 1341.64 72.4272 1343.7 Q70.7605 1345.76 67.7744 1346.5 Q71.1541 1347.29 73.029 1349.58 Q74.9272 1351.87 74.9272 1355.19 Q74.9272 1360.21 71.8485 1362.89 Q68.793 1365.58 63.0754 1365.58 Q57.3578 1365.58 54.2791 1362.89 Q51.2236 1360.21 51.2236 1355.19 Q51.2236 1351.87 53.1217 1349.58 Q55.0199 1347.29 58.3995 1346.5 M56.6865 1339.12 Q56.6865 1341.81 58.3532 1343.31 Q60.043 1344.81 63.0754 1344.81 Q66.0846 1344.81 67.7744 1343.31 Q69.4874 1341.81 69.4874 1339.12 Q69.4874 1336.44 67.7744 1334.93 Q66.0846 1333.43 63.0754 1333.43 Q60.043 1333.43 58.3532 1334.93 Q56.6865 1336.44 56.6865 1339.12 Z\" fill=\"#000000\" fill-rule=\"evenodd\" fill-opacity=\"1\" /><path clip-path=\"url(#clip890)\" d=\"M 0 0 M83.2373 1359.03 L88.1216 1359.03 L88.1216 1364.91 L83.2373 1364.91 L83.2373 1359.03 Z\" fill=\"#000000\" fill-rule=\"evenodd\" fill-opacity=\"1\" /><path clip-path=\"url(#clip890)\" d=\"M 0 0 M108.307 1333.43 Q104.696 1333.43 102.867 1336.99 Q101.061 1340.53 101.061 1347.66 Q101.061 1354.77 102.867 1358.33 Q104.696 1361.87 108.307 1361.87 Q111.941 1361.87 113.746 1358.33 Q115.575 1354.77 115.575 1347.66 Q115.575 1340.53 113.746 1336.99 Q111.941 1333.43 108.307 1333.43 M108.307 1329.72 Q114.117 1329.72 117.172 1334.33 Q120.251 1338.91 120.251 1347.66 Q120.251 1356.39 117.172 1361 Q114.117 1365.58 108.307 1365.58 Q102.496 1365.58 99.4178 1361 Q96.3623 1356.39 96.3623 1347.66 Q96.3623 1338.91 99.4178 1334.33 Q102.496 1329.72 108.307 1329.72 Z\" fill=\"#000000\" fill-rule=\"evenodd\" fill-opacity=\"1\" /><path clip-path=\"url(#clip890)\" d=\"M 0 0 M138.469 1333.43 Q134.857 1333.43 133.029 1336.99 Q131.223 1340.53 131.223 1347.66 Q131.223 1354.77 133.029 1358.33 Q134.857 1361.87 138.469 1361.87 Q142.103 1361.87 143.908 1358.33 Q145.737 1354.77 145.737 1347.66 Q145.737 1340.53 143.908 1336.99 Q142.103 1333.43 138.469 1333.43 M138.469 1329.72 Q144.279 1329.72 147.334 1334.33 Q150.413 1338.91 150.413 1347.66 Q150.413 1356.39 147.334 1361 Q144.279 1365.58 138.469 1365.58 Q132.658 1365.58 129.58 1361 Q126.524 1356.39 126.524 1347.66 Q126.524 1338.91 129.58 1334.33 Q132.658 1329.72 138.469 1329.72 Z\" fill=\"#000000\" fill-rule=\"evenodd\" fill-opacity=\"1\" /><path clip-path=\"url(#clip890)\" d=\"M 0 0 M186.802 1339.44 L176.223 1350.07 L186.802 1360.65 L184.047 1363.45 L173.422 1352.82 L162.797 1363.45 L160.066 1360.65 L170.621 1350.07 L160.066 1339.44 L162.797 1336.64 L173.422 1347.27 L184.047 1336.64 L186.802 1339.44 Z\" fill=\"#000000\" fill-rule=\"evenodd\" fill-opacity=\"1\" /><path clip-path=\"url(#clip890)\" d=\"M 0 0 M199.163 1360.97 L206.801 1360.97 L206.801 1334.61 L198.491 1336.27 L198.491 1332.01 L206.755 1330.35 L211.431 1330.35 L211.431 1360.97 L219.07 1360.97 L219.07 1364.91 L199.163 1364.91 L199.163 1360.97 Z\" fill=\"#000000\" fill-rule=\"evenodd\" fill-opacity=\"1\" /><path clip-path=\"url(#clip890)\" d=\"M 0 0 M238.514 1333.43 Q234.903 1333.43 233.074 1336.99 Q231.269 1340.53 231.269 1347.66 Q231.269 1354.77 233.074 1358.33 Q234.903 1361.87 238.514 1361.87 Q242.149 1361.87 243.954 1358.33 Q245.783 1354.77 245.783 1347.66 Q245.783 1340.53 243.954 1336.99 Q242.149 1333.43 238.514 1333.43 M238.514 1329.72 Q244.324 1329.72 247.38 1334.33 Q250.459 1338.91 250.459 1347.66 Q250.459 1356.39 247.38 1361 Q244.324 1365.58 238.514 1365.58 Q232.704 1365.58 229.625 1361 Q226.57 1356.39 226.57 1347.66 Q226.57 1338.91 229.625 1334.33 Q232.704 1329.72 238.514 1329.72 Z\" fill=\"#000000\" fill-rule=\"evenodd\" fill-opacity=\"1\" /><path clip-path=\"url(#clip890)\" d=\"M 0 0 M250.459 1323.82 L274.57 1323.82 L274.57 1327.02 L250.459 1327.02 L250.459 1323.82 Z\" fill=\"#000000\" fill-rule=\"evenodd\" fill-opacity=\"1\" /><path clip-path=\"url(#clip890)\" d=\"M 0 0 M281.811 1309.42 L299.867 1309.42 L299.867 1311.03 L289.673 1337.5 L285.704 1337.5 L295.296 1312.61 L281.811 1312.61 L281.811 1309.42 Z\" fill=\"#000000\" fill-rule=\"evenodd\" fill-opacity=\"1\" /><path clip-path=\"url(#clip890)\" d=\"M 0 0 M53.2143 1264.7 L53.2143 1260.44 Q54.9736 1261.27 56.7791 1261.71 Q58.5847 1262.15 60.3208 1262.15 Q64.9504 1262.15 67.3809 1259.05 Q69.8346 1255.93 70.1818 1249.58 Q68.8393 1251.57 66.7791 1252.64 Q64.7189 1253.7 62.2189 1253.7 Q57.0338 1253.7 54.0014 1250.58 Q50.9921 1247.43 50.9921 1241.99 Q50.9921 1236.67 54.1403 1233.45 Q57.2884 1230.23 62.5198 1230.23 Q68.5152 1230.23 71.6633 1234.84 Q74.8346 1239.42 74.8346 1248.17 Q74.8346 1256.34 70.9457 1261.23 Q67.08 1266.09 60.5291 1266.09 Q58.7699 1266.09 56.9643 1265.74 Q55.1588 1265.39 53.2143 1264.7 M62.5198 1250.05 Q65.668 1250.05 67.4967 1247.89 Q69.3485 1245.74 69.3485 1241.99 Q69.3485 1238.26 67.4967 1236.11 Q65.668 1233.94 62.5198 1233.94 Q59.3717 1233.94 57.5199 1236.11 Q55.6912 1238.26 55.6912 1241.99 Q55.6912 1245.74 57.5199 1247.89 Q59.3717 1250.05 62.5198 1250.05 Z\" fill=\"#000000\" fill-rule=\"evenodd\" fill-opacity=\"1\" /><path clip-path=\"url(#clip890)\" d=\"M 0 0 M83.2373 1259.54 L88.1216 1259.54 L88.1216 1265.42 L83.2373 1265.42 L83.2373 1259.54 Z\" fill=\"#000000\" fill-rule=\"evenodd\" fill-opacity=\"1\" /><path clip-path=\"url(#clip890)\" d=\"M 0 0 M108.307 1233.94 Q104.696 1233.94 102.867 1237.5 Q101.061 1241.04 101.061 1248.17 Q101.061 1255.28 102.867 1258.84 Q104.696 1262.38 108.307 1262.38 Q111.941 1262.38 113.746 1258.84 Q115.575 1255.28 115.575 1248.17 Q115.575 1241.04 113.746 1237.5 Q111.941 1233.94 108.307 1233.94 M108.307 1230.23 Q114.117 1230.23 117.172 1234.84 Q120.251 1239.42 120.251 1248.17 Q120.251 1256.9 117.172 1261.51 Q114.117 1266.09 108.307 1266.09 Q102.496 1266.09 99.4178 1261.51 Q96.3623 1256.9 96.3623 1248.17 Q96.3623 1239.42 99.4178 1234.84 Q102.496 1230.23 108.307 1230.23 Z\" fill=\"#000000\" fill-rule=\"evenodd\" fill-opacity=\"1\" /><path clip-path=\"url(#clip890)\" d=\"M 0 0 M138.469 1233.94 Q134.857 1233.94 133.029 1237.5 Q131.223 1241.04 131.223 1248.17 Q131.223 1255.28 133.029 1258.84 Q134.857 1262.38 138.469 1262.38 Q142.103 1262.38 143.908 1258.84 Q145.737 1255.28 145.737 1248.17 Q145.737 1241.04 143.908 1237.5 Q142.103 1233.94 138.469 1233.94 M138.469 1230.23 Q144.279 1230.23 147.334 1234.84 Q150.413 1239.42 150.413 1248.17 Q150.413 1256.9 147.334 1261.51 Q144.279 1266.09 138.469 1266.09 Q132.658 1266.09 129.58 1261.51 Q126.524 1256.9 126.524 1248.17 Q126.524 1239.42 129.58 1234.84 Q132.658 1230.23 138.469 1230.23 Z\" fill=\"#000000\" fill-rule=\"evenodd\" fill-opacity=\"1\" /><path clip-path=\"url(#clip890)\" d=\"M 0 0 M186.802 1239.95 L176.223 1250.58 L186.802 1261.16 L184.047 1263.96 L173.422 1253.33 L162.797 1263.96 L160.066 1261.16 L170.621 1250.58 L160.066 1239.95 L162.797 1237.15 L173.422 1247.78 L184.047 1237.15 L186.802 1239.95 Z\" fill=\"#000000\" fill-rule=\"evenodd\" fill-opacity=\"1\" /><path clip-path=\"url(#clip890)\" d=\"M 0 0 M199.163 1261.48 L206.801 1261.48 L206.801 1235.12 L198.491 1236.78 L198.491 1232.52 L206.755 1230.86 L211.431 1230.86 L211.431 1261.48 L219.07 1261.48 L219.07 1265.42 L199.163 1265.42 L199.163 1261.48 Z\" fill=\"#000000\" fill-rule=\"evenodd\" fill-opacity=\"1\" /><path clip-path=\"url(#clip890)\" d=\"M 0 0 M238.514 1233.94 Q234.903 1233.94 233.074 1237.5 Q231.269 1241.04 231.269 1248.17 Q231.269 1255.28 233.074 1258.84 Q234.903 1262.38 238.514 1262.38 Q242.149 1262.38 243.954 1258.84 Q245.783 1255.28 245.783 1248.17 Q245.783 1241.04 243.954 1237.5 Q242.149 1233.94 238.514 1233.94 M238.514 1230.23 Q244.324 1230.23 247.38 1234.84 Q250.459 1239.42 250.459 1248.17 Q250.459 1256.9 247.38 1261.51 Q244.324 1266.09 238.514 1266.09 Q232.704 1266.09 229.625 1261.51 Q226.57 1256.9 226.57 1248.17 Q226.57 1239.42 229.625 1234.84 Q232.704 1230.23 238.514 1230.23 Z\" fill=\"#000000\" fill-rule=\"evenodd\" fill-opacity=\"1\" /><path clip-path=\"url(#clip890)\" d=\"M 0 0 M250.459 1224.33 L274.57 1224.33 L274.57 1227.53 L250.459 1227.53 L250.459 1224.33 Z\" fill=\"#000000\" fill-rule=\"evenodd\" fill-opacity=\"1\" /><path clip-path=\"url(#clip890)\" d=\"M 0 0 M281.811 1209.93 L299.867 1209.93 L299.867 1211.54 L289.673 1238.01 L285.704 1238.01 L295.296 1213.12 L281.811 1213.12 L281.811 1209.93 Z\" fill=\"#000000\" fill-rule=\"evenodd\" fill-opacity=\"1\" /><path clip-path=\"url(#clip890)\" d=\"M 0 0 M53.0205 1161.99 L60.6593 1161.99 L60.6593 1135.63 L52.3492 1137.29 L52.3492 1133.03 L60.613 1131.37 L65.2889 1131.37 L65.2889 1161.99 L72.9278 1161.99 L72.9278 1165.93 L53.0205 1165.93 L53.0205 1161.99 Z\" fill=\"#000000\" fill-rule=\"evenodd\" fill-opacity=\"1\" /><path clip-path=\"url(#clip890)\" d=\"M 0 0 M82.3722 1160.05 L87.2564 1160.05 L87.2564 1165.93 L82.3722 1165.93 L82.3722 1160.05 Z\" fill=\"#000000\" fill-rule=\"evenodd\" fill-opacity=\"1\" /><path clip-path=\"url(#clip890)\" d=\"M 0 0 M107.441 1134.45 Q103.83 1134.45 102.002 1138.01 Q100.196 1141.55 100.196 1148.68 Q100.196 1155.79 102.002 1159.35 Q103.83 1162.9 107.441 1162.9 Q111.076 1162.9 112.881 1159.35 Q114.71 1155.79 114.71 1148.68 Q114.71 1141.55 112.881 1138.01 Q111.076 1134.45 107.441 1134.45 M107.441 1130.74 Q113.252 1130.74 116.307 1135.35 Q119.386 1139.93 119.386 1148.68 Q119.386 1157.41 116.307 1162.02 Q113.252 1166.6 107.441 1166.6 Q101.631 1166.6 98.5526 1162.02 Q95.4971 1157.41 95.4971 1148.68 Q95.4971 1139.93 98.5526 1135.35 Q101.631 1130.74 107.441 1130.74 Z\" fill=\"#000000\" fill-rule=\"evenodd\" fill-opacity=\"1\" /><path clip-path=\"url(#clip890)\" d=\"M 0 0 M137.603 1134.45 Q133.992 1134.45 132.164 1138.01 Q130.358 1141.55 130.358 1148.68 Q130.358 1155.79 132.164 1159.35 Q133.992 1162.9 137.603 1162.9 Q141.238 1162.9 143.043 1159.35 Q144.872 1155.79 144.872 1148.68 Q144.872 1141.55 143.043 1138.01 Q141.238 1134.45 137.603 1134.45 M137.603 1130.74 Q143.414 1130.74 146.469 1135.35 Q149.548 1139.93 149.548 1148.68 Q149.548 1157.41 146.469 1162.02 Q143.414 1166.6 137.603 1166.6 Q131.793 1166.6 128.715 1162.02 Q125.659 1157.41 125.659 1148.68 Q125.659 1139.93 128.715 1135.35 Q131.793 1130.74 137.603 1130.74 Z\" fill=\"#000000\" fill-rule=\"evenodd\" fill-opacity=\"1\" /><path clip-path=\"url(#clip890)\" d=\"M 0 0 M185.936 1140.46 L175.358 1151.09 L185.936 1161.67 L183.182 1164.47 L172.557 1153.84 L161.932 1164.47 L159.2 1161.67 L169.756 1151.09 L159.2 1140.46 L161.932 1137.66 L172.557 1148.29 L183.182 1137.66 L185.936 1140.46 Z\" fill=\"#000000\" fill-rule=\"evenodd\" fill-opacity=\"1\" /><path clip-path=\"url(#clip890)\" d=\"M 0 0 M198.297 1161.99 L205.936 1161.99 L205.936 1135.63 L197.626 1137.29 L197.626 1133.03 L205.89 1131.37 L210.566 1131.37 L210.566 1161.99 L218.205 1161.99 L218.205 1165.93 L198.297 1165.93 L198.297 1161.99 Z\" fill=\"#000000\" fill-rule=\"evenodd\" fill-opacity=\"1\" /><path clip-path=\"url(#clip890)\" d=\"M 0 0 M237.649 1134.45 Q234.038 1134.45 232.209 1138.01 Q230.404 1141.55 230.404 1148.68 Q230.404 1155.79 232.209 1159.35 Q234.038 1162.9 237.649 1162.9 Q241.283 1162.9 243.089 1159.35 Q244.918 1155.79 244.918 1148.68 Q244.918 1141.55 243.089 1138.01 Q241.283 1134.45 237.649 1134.45 M237.649 1130.74 Q243.459 1130.74 246.515 1135.35 Q249.593 1139.93 249.593 1148.68 Q249.593 1157.41 246.515 1162.02 Q243.459 1166.6 237.649 1166.6 Q231.839 1166.6 228.76 1162.02 Q225.705 1157.41 225.705 1148.68 Q225.705 1139.93 228.76 1135.35 Q231.839 1130.74 237.649 1130.74 Z\" fill=\"#000000\" fill-rule=\"evenodd\" fill-opacity=\"1\" /><path clip-path=\"url(#clip890)\" d=\"M 0 0 M249.593 1124.84 L273.705 1124.84 L273.705 1128.04 L249.593 1128.04 L249.593 1124.84 Z\" fill=\"#000000\" fill-rule=\"evenodd\" fill-opacity=\"1\" /><path clip-path=\"url(#clip890)\" d=\"M 0 0 M290.5 1122.96 Q287.943 1122.96 286.438 1124.71 Q284.952 1126.46 284.952 1129.51 Q284.952 1132.54 286.438 1134.3 Q287.943 1136.05 290.5 1136.05 Q293.058 1136.05 294.544 1134.3 Q296.049 1132.54 296.049 1129.51 Q296.049 1126.46 294.544 1124.71 Q293.058 1122.96 290.5 1122.96 M298.042 1111.06 L298.042 1114.52 Q296.613 1113.84 295.146 1113.48 Q293.698 1113.13 292.268 1113.13 Q288.507 1113.13 286.513 1115.67 Q284.538 1118.2 284.256 1123.34 Q285.366 1121.7 287.04 1120.84 Q288.714 1119.95 290.726 1119.95 Q294.958 1119.95 297.403 1122.53 Q299.867 1125.09 299.867 1129.51 Q299.867 1133.83 297.309 1136.45 Q294.751 1139.06 290.5 1139.06 Q285.629 1139.06 283.053 1135.34 Q280.476 1131.6 280.476 1124.51 Q280.476 1117.85 283.636 1113.9 Q286.795 1109.93 292.118 1109.93 Q293.547 1109.93 294.995 1110.21 Q296.462 1110.49 298.042 1111.06 Z\" fill=\"#000000\" fill-rule=\"evenodd\" fill-opacity=\"1\" /><path clip-path=\"url(#clip890)\" d=\"M 0 0 M53.0205 1062.5 L60.6593 1062.5 L60.6593 1036.14 L52.3492 1037.8 L52.3492 1033.54 L60.613 1031.88 L65.2889 1031.88 L65.2889 1062.5 L72.9278 1062.5 L72.9278 1066.44 L53.0205 1066.44 L53.0205 1062.5 Z\" fill=\"#000000\" fill-rule=\"evenodd\" fill-opacity=\"1\" /><path clip-path=\"url(#clip890)\" d=\"M 0 0 M82.3722 1060.56 L87.2564 1060.56 L87.2564 1066.44 L82.3722 1066.44 L82.3722 1060.56 Z\" fill=\"#000000\" fill-rule=\"evenodd\" fill-opacity=\"1\" /><path clip-path=\"url(#clip890)\" d=\"M 0 0 M98.2517 1062.5 L105.891 1062.5 L105.891 1036.14 L97.5804 1037.8 L97.5804 1033.54 L105.844 1031.88 L110.52 1031.88 L110.52 1062.5 L118.159 1062.5 L118.159 1066.44 L98.2517 1066.44 L98.2517 1062.5 Z\" fill=\"#000000\" fill-rule=\"evenodd\" fill-opacity=\"1\" /><path clip-path=\"url(#clip890)\" d=\"M 0 0 M137.603 1034.96 Q133.992 1034.96 132.164 1038.52 Q130.358 1042.06 130.358 1049.19 Q130.358 1056.3 132.164 1059.86 Q133.992 1063.41 137.603 1063.41 Q141.238 1063.41 143.043 1059.86 Q144.872 1056.3 144.872 1049.19 Q144.872 1042.06 143.043 1038.52 Q141.238 1034.96 137.603 1034.96 M137.603 1031.25 Q143.414 1031.25 146.469 1035.86 Q149.548 1040.44 149.548 1049.19 Q149.548 1057.92 146.469 1062.53 Q143.414 1067.11 137.603 1067.11 Q131.793 1067.11 128.715 1062.53 Q125.659 1057.92 125.659 1049.19 Q125.659 1040.44 128.715 1035.86 Q131.793 1031.25 137.603 1031.25 Z\" fill=\"#000000\" fill-rule=\"evenodd\" fill-opacity=\"1\" /><path clip-path=\"url(#clip890)\" d=\"M 0 0 M185.936 1040.97 L175.358 1051.6 L185.936 1062.18 L183.182 1064.98 L172.557 1054.35 L161.932 1064.98 L159.2 1062.18 L169.756 1051.6 L159.2 1040.97 L161.932 1038.17 L172.557 1048.8 L183.182 1038.17 L185.936 1040.97 Z\" fill=\"#000000\" fill-rule=\"evenodd\" fill-opacity=\"1\" /><path clip-path=\"url(#clip890)\" d=\"M 0 0 M198.297 1062.5 L205.936 1062.5 L205.936 1036.14 L197.626 1037.8 L197.626 1033.54 L205.89 1031.88 L210.566 1031.88 L210.566 1062.5 L218.205 1062.5 L218.205 1066.44 L198.297 1066.44 L198.297 1062.5 Z\" fill=\"#000000\" fill-rule=\"evenodd\" fill-opacity=\"1\" /><path clip-path=\"url(#clip890)\" d=\"M 0 0 M237.649 1034.96 Q234.038 1034.96 232.209 1038.52 Q230.404 1042.06 230.404 1049.19 Q230.404 1056.3 232.209 1059.86 Q234.038 1063.41 237.649 1063.41 Q241.283 1063.41 243.089 1059.86 Q244.918 1056.3 244.918 1049.19 Q244.918 1042.06 243.089 1038.52 Q241.283 1034.96 237.649 1034.96 M237.649 1031.25 Q243.459 1031.25 246.515 1035.86 Q249.593 1040.44 249.593 1049.19 Q249.593 1057.92 246.515 1062.53 Q243.459 1067.11 237.649 1067.11 Q231.839 1067.11 228.76 1062.53 Q225.705 1057.92 225.705 1049.19 Q225.705 1040.44 228.76 1035.86 Q231.839 1031.25 237.649 1031.25 Z\" fill=\"#000000\" fill-rule=\"evenodd\" fill-opacity=\"1\" /><path clip-path=\"url(#clip890)\" d=\"M 0 0 M249.593 1025.35 L273.705 1025.35 L273.705 1028.55 L249.593 1028.55 L249.593 1025.35 Z\" fill=\"#000000\" fill-rule=\"evenodd\" fill-opacity=\"1\" /><path clip-path=\"url(#clip890)\" d=\"M 0 0 M290.5 1023.47 Q287.943 1023.47 286.438 1025.22 Q284.952 1026.97 284.952 1030.02 Q284.952 1033.05 286.438 1034.81 Q287.943 1036.56 290.5 1036.56 Q293.058 1036.56 294.544 1034.81 Q296.049 1033.05 296.049 1030.02 Q296.049 1026.97 294.544 1025.22 Q293.058 1023.47 290.5 1023.47 M298.042 1011.57 L298.042 1015.03 Q296.613 1014.35 295.146 1013.99 Q293.698 1013.64 292.268 1013.64 Q288.507 1013.64 286.513 1016.18 Q284.538 1018.71 284.256 1023.85 Q285.366 1022.21 287.04 1021.35 Q288.714 1020.46 290.726 1020.46 Q294.958 1020.46 297.403 1023.04 Q299.867 1025.6 299.867 1030.02 Q299.867 1034.34 297.309 1036.96 Q294.751 1039.57 290.5 1039.57 Q285.629 1039.57 283.053 1035.85 Q280.476 1032.11 280.476 1025.02 Q280.476 1018.36 283.636 1014.41 Q286.795 1010.44 292.118 1010.44 Q293.547 1010.44 294.995 1010.72 Q296.462 1011 298.042 1011.57 Z\" fill=\"#000000\" fill-rule=\"evenodd\" fill-opacity=\"1\" /><path clip-path=\"url(#clip890)\" d=\"M 0 0 M53.0205 963.013 L60.6593 963.013 L60.6593 936.647 L52.3492 938.314 L52.3492 934.055 L60.613 932.388 L65.2889 932.388 L65.2889 963.013 L72.9278 963.013 L72.9278 966.948 L53.0205 966.948 L53.0205 963.013 Z\" fill=\"#000000\" fill-rule=\"evenodd\" fill-opacity=\"1\" /><path clip-path=\"url(#clip890)\" d=\"M 0 0 M82.3722 961.068 L87.2564 961.068 L87.2564 966.948 L82.3722 966.948 L82.3722 961.068 Z\" fill=\"#000000\" fill-rule=\"evenodd\" fill-opacity=\"1\" /><path clip-path=\"url(#clip890)\" d=\"M 0 0 M101.469 963.013 L117.789 963.013 L117.789 966.948 L95.8443 966.948 L95.8443 963.013 Q98.5063 960.258 103.09 955.628 Q107.696 950.976 108.877 949.633 Q111.122 947.11 112.002 945.374 Q112.904 943.615 112.904 941.925 Q112.904 939.17 110.96 937.434 Q109.039 935.698 105.937 935.698 Q103.738 935.698 101.284 936.462 Q98.8536 937.226 96.0758 938.777 L96.0758 934.055 Q98.8999 932.92 101.354 932.342 Q103.807 931.763 105.844 931.763 Q111.215 931.763 114.409 934.448 Q117.603 937.133 117.603 941.624 Q117.603 943.754 116.793 945.675 Q116.006 947.573 113.9 950.166 Q113.321 950.837 110.219 954.054 Q107.117 957.249 101.469 963.013 Z\" fill=\"#000000\" fill-rule=\"evenodd\" fill-opacity=\"1\" /><path clip-path=\"url(#clip890)\" d=\"M 0 0 M137.603 935.467 Q133.992 935.467 132.164 939.031 Q130.358 942.573 130.358 949.703 Q130.358 956.809 132.164 960.374 Q133.992 963.915 137.603 963.915 Q141.238 963.915 143.043 960.374 Q144.872 956.809 144.872 949.703 Q144.872 942.573 143.043 939.031 Q141.238 935.467 137.603 935.467 M137.603 931.763 Q143.414 931.763 146.469 936.369 Q149.548 940.953 149.548 949.703 Q149.548 958.429 146.469 963.036 Q143.414 967.619 137.603 967.619 Q131.793 967.619 128.715 963.036 Q125.659 958.429 125.659 949.703 Q125.659 940.953 128.715 936.369 Q131.793 931.763 137.603 931.763 Z\" fill=\"#000000\" fill-rule=\"evenodd\" fill-opacity=\"1\" /><path clip-path=\"url(#clip890)\" d=\"M 0 0 M185.936 941.485 L175.358 952.11 L185.936 962.689 L183.182 965.49 L172.557 954.865 L161.932 965.49 L159.2 962.689 L169.756 952.11 L159.2 941.485 L161.932 938.684 L172.557 949.309 L183.182 938.684 L185.936 941.485 Z\" fill=\"#000000\" fill-rule=\"evenodd\" fill-opacity=\"1\" /><path clip-path=\"url(#clip890)\" d=\"M 0 0 M198.297 963.013 L205.936 963.013 L205.936 936.647 L197.626 938.314 L197.626 934.055 L205.89 932.388 L210.566 932.388 L210.566 963.013 L218.205 963.013 L218.205 966.948 L198.297 966.948 L198.297 963.013 Z\" fill=\"#000000\" fill-rule=\"evenodd\" fill-opacity=\"1\" /><path clip-path=\"url(#clip890)\" d=\"M 0 0 M237.649 935.467 Q234.038 935.467 232.209 939.031 Q230.404 942.573 230.404 949.703 Q230.404 956.809 232.209 960.374 Q234.038 963.915 237.649 963.915 Q241.283 963.915 243.089 960.374 Q244.918 956.809 244.918 949.703 Q244.918 942.573 243.089 939.031 Q241.283 935.467 237.649 935.467 M237.649 931.763 Q243.459 931.763 246.515 936.369 Q249.593 940.953 249.593 949.703 Q249.593 958.429 246.515 963.036 Q243.459 967.619 237.649 967.619 Q231.839 967.619 228.76 963.036 Q225.705 958.429 225.705 949.703 Q225.705 940.953 228.76 936.369 Q231.839 931.763 237.649 931.763 Z\" fill=\"#000000\" fill-rule=\"evenodd\" fill-opacity=\"1\" /><path clip-path=\"url(#clip890)\" d=\"M 0 0 M249.593 925.864 L273.705 925.864 L273.705 929.062 L249.593 929.062 L249.593 925.864 Z\" fill=\"#000000\" fill-rule=\"evenodd\" fill-opacity=\"1\" /><path clip-path=\"url(#clip890)\" d=\"M 0 0 M290.5 923.983 Q287.943 923.983 286.438 925.733 Q284.952 927.482 284.952 930.529 Q284.952 933.557 286.438 935.325 Q287.943 937.074 290.5 937.074 Q293.058 937.074 294.544 935.325 Q296.049 933.557 296.049 930.529 Q296.049 927.482 294.544 925.733 Q293.058 923.983 290.5 923.983 M298.042 912.078 L298.042 915.539 Q296.613 914.862 295.146 914.504 Q293.698 914.147 292.268 914.147 Q288.507 914.147 286.513 916.686 Q284.538 919.225 284.256 924.36 Q285.366 922.723 287.04 921.858 Q288.714 920.974 290.726 920.974 Q294.958 920.974 297.403 923.551 Q299.867 926.109 299.867 930.529 Q299.867 934.854 297.309 937.469 Q294.751 940.083 290.5 940.083 Q285.629 940.083 283.053 936.359 Q280.476 932.616 280.476 925.526 Q280.476 918.868 283.636 914.918 Q286.795 910.95 292.118 910.95 Q293.547 910.95 294.995 911.232 Q296.462 911.514 298.042 912.078 Z\" fill=\"#000000\" fill-rule=\"evenodd\" fill-opacity=\"1\" /><path clip-path=\"url(#clip890)\" d=\"M 0 0 M665.157 849.931 Q665.157 841.708 661.754 837.05 Q658.392 832.351 652.477 832.351 Q646.563 832.351 643.16 837.05 Q639.798 841.708 639.798 849.931 Q639.798 858.155 643.16 862.854 Q646.563 867.512 652.477 867.512 Q658.392 867.512 661.754 862.854 Q665.157 858.155 665.157 849.931 M639.798 834.092 Q642.147 830.042 645.712 828.097 Q649.318 826.112 654.3 826.112 Q662.564 826.112 667.709 832.675 Q672.894 839.237 672.894 849.931 Q672.894 860.626 667.709 867.188 Q662.564 873.751 654.3 873.751 Q649.318 873.751 645.712 871.806 Q642.147 869.821 639.798 865.77 L639.798 872.576 L632.304 872.576 L632.304 809.544 L639.798 809.544 L639.798 834.092 Z\" fill=\"#000000\" fill-rule=\"evenodd\" fill-opacity=\"1\" /><path clip-path=\"url(#clip890)\" d=\"M 0 0 M724.057 848.028 L724.057 851.673 L689.786 851.673 Q690.272 859.37 694.404 863.421 Q698.577 867.431 705.99 867.431 Q710.284 867.431 714.294 866.378 Q718.345 865.325 722.315 863.218 L722.315 870.267 Q718.304 871.968 714.092 872.86 Q709.879 873.751 705.544 873.751 Q694.688 873.751 688.328 867.431 Q682.008 861.112 682.008 850.337 Q682.008 839.197 688.004 832.675 Q694.04 826.112 704.248 826.112 Q713.403 826.112 718.71 832.026 Q724.057 837.9 724.057 848.028 M716.603 845.84 Q716.522 839.723 713.16 836.077 Q709.838 832.432 704.329 832.432 Q698.09 832.432 694.323 835.956 Q690.596 839.48 690.029 845.881 L716.603 845.84 Z\" fill=\"#000000\" fill-rule=\"evenodd\" fill-opacity=\"1\" /><path clip-path=\"url(#clip890)\" d=\"M 0 0 M743.663 814.324 L743.663 827.206 L759.016 827.206 L759.016 832.999 L743.663 832.999 L743.663 857.628 Q743.663 863.178 745.162 864.758 Q746.701 866.338 751.36 866.338 L759.016 866.338 L759.016 872.576 L751.36 872.576 Q742.731 872.576 739.45 869.376 Q736.169 866.135 736.169 857.628 L736.169 832.999 L730.7 832.999 L730.7 827.206 L736.169 827.206 L736.169 814.324 L743.663 814.324 Z\" fill=\"#000000\" fill-rule=\"evenodd\" fill-opacity=\"1\" /><path clip-path=\"url(#clip890)\" d=\"M 0 0 M789.438 849.769 Q780.405 849.769 776.921 851.835 Q773.437 853.901 773.437 858.884 Q773.437 862.854 776.03 865.203 Q778.663 867.512 783.159 867.512 Q789.357 867.512 793.084 863.137 Q796.852 858.722 796.852 851.43 L796.852 849.769 L789.438 849.769 M804.305 846.691 L804.305 872.576 L796.852 872.576 L796.852 865.689 Q794.299 869.821 790.492 871.806 Q786.684 873.751 781.175 873.751 Q774.207 873.751 770.075 869.862 Q765.984 865.933 765.984 859.37 Q765.984 851.714 771.088 847.825 Q776.232 843.936 786.4 843.936 L796.852 843.936 L796.852 843.207 Q796.852 838.062 793.449 835.267 Q790.087 832.432 783.97 832.432 Q780.081 832.432 776.394 833.363 Q772.708 834.295 769.305 836.158 L769.305 829.272 Q773.397 827.692 777.245 826.922 Q781.093 826.112 784.739 826.112 Q794.583 826.112 799.444 831.216 Q804.305 836.32 804.305 846.691 Z\" fill=\"#000000\" fill-rule=\"evenodd\" fill-opacity=\"1\" /><path clip-path=\"url(#clip890)\" d=\"M 0 0 M827.76 865.689 L856.319 865.689 L856.319 872.576 L817.916 872.576 L817.916 865.689 Q822.575 860.869 830.596 852.767 Q838.657 844.625 840.723 842.275 Q844.652 837.86 846.192 834.822 Q847.771 831.743 847.771 828.786 Q847.771 823.965 844.369 820.927 Q841.006 817.889 835.578 817.889 Q831.73 817.889 827.436 819.226 Q823.182 820.562 818.321 823.276 L818.321 815.013 Q823.263 813.028 827.557 812.015 Q831.851 811.002 835.416 811.002 Q844.814 811.002 850.404 815.701 Q855.995 820.4 855.995 828.259 Q855.995 831.986 854.577 835.348 Q853.2 838.67 849.513 843.207 Q848.501 844.382 843.072 850.012 Q837.644 855.603 827.76 865.689 Z\" fill=\"#000000\" fill-rule=\"evenodd\" fill-opacity=\"1\" /><polyline clip-path=\"url(#clip894)\" style=\"stroke:#009af9; stroke-width:4; stroke-opacity:1; fill:none\" points=\"\n",
       "  358.986,939.835 551.649,1337.82 744.311,1470.51 936.974,1337.76 1129.64,939.405 \n",
       "  \"/>\n",
       "<polyline clip-path=\"url(#clip894)\" style=\"stroke:#e26f46; stroke-width:4; stroke-opacity:1; fill:none\" points=\"\n",
       "  744.311,2049.42 744.311,360.496 \n",
       "  \"/>\n",
       "</svg>\n"
      ]
     },
     "metadata": {},
     "output_type": "display_data"
    }
   ],
   "source": [
    "using Plots\n",
    "gr()\n",
    "list_plots = []\n",
    "for (keyIndex, keyValue) in enumerate(keys(myProblem.priors))\n",
    "\n",
    "  p = plot(vXGrid[:,keyIndex], vYGrid[:,keyIndex], title = \"$(keyValue)\", label = \"\")\n",
    "  plot!([minimizer[keyIndex]], seriestype = :vline, label = \"\")\n",
    "  push!(list_plots, p)\n",
    "\n",
    "end\n",
    "\n",
    "#Hacky way to combine all the plots in a single plot\n",
    "s0 = \"\"\n",
    "for i = 1:length(keys(myProblem.priors))\n",
    "  if i==1\n",
    "      s0 = string(\"list_plots[$(i)]\" )\n",
    "  else\n",
    "      s0 = string(s0, \", \", \"list_plots[$(i)]\" )\n",
    "  end\n",
    "end\n",
    "\n",
    "plot_combined = eval(Meta.parse(string(\"plot(\", s0, \")\")))\n",
    "display(plot_combined)"
   ]
  },
  {
   "cell_type": "markdown",
   "id": "fb37aaa2",
   "metadata": {},
   "source": [
    "## Appendix"
   ]
  },
  {
   "cell_type": "code",
   "execution_count": 15,
   "id": "28034aa3",
   "metadata": {},
   "outputs": [
    {
     "name": "stdout",
     "output_type": "stream",
     "text": [
      "Julia Version 1.6.1\n",
      "Commit 6aaedecc44 (2021-04-23 05:59 UTC)\n",
      "Platform Info:\n",
      "  OS: Linux (x86_64-pc-linux-gnu)\n",
      "  CPU: Intel(R) Core(TM) i7-8850H CPU @ 2.60GHz\n",
      "  WORD_SIZE: 64\n",
      "  LIBM: libopenlibm\n",
      "  LLVM: libLLVM-11.0.1 (ORCJIT, skylake)\n"
     ]
    }
   ],
   "source": [
    "versioninfo()"
   ]
  }
 ],
 "metadata": {
  "kernelspec": {
   "display_name": "Julia 1.6.1",
   "language": "julia",
   "name": "julia-1.6"
  },
  "language_info": {
   "file_extension": ".jl",
   "mimetype": "application/julia",
   "name": "julia",
   "version": "1.6.1"
  }
 },
 "nbformat": 4,
 "nbformat_minor": 5
}
