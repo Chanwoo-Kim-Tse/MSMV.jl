{
 "cells": [
  {
   "cell_type": "markdown",
   "metadata": {},
   "source": [
    "# Example MSM.jl\n",
    "\n",
    "This notebook shows how to use MSM. Our goal is to estimate the linear model using the Method of Simulated Moments (MSM). We observe a dependent variable $y_{t}$ and a set of independent variables $\\boldsymbol{x_{1}}$, ..., $\\boldsymbol{x_{t}}$, ... $\\boldsymbol{x_{T}}$ and we want to estimate the intercept $\\alpha$ and the slope coefficient $\\boldsymbol{\\beta}$ :\n",
    "\n",
    "$$ y_{t} = \\alpha + \\boldsymbol{x_{t}}\\boldsymbol{{\\beta}} + e_{t} $$\n",
    "\n",
    "where $e_{t}$ are error terms, potentially serially correlated. \n",
    "\n",
    "Here, it is clearly an overkill to use the MSM because we have a closed-form solution:\n",
    "\n",
    "$$ \\boldsymbol{\\beta_{OLS}} = (X'X)^{-1}X'y $$\n",
    "\n",
    "For the sake of this example, let's pretend we ignore the existence of this formula. By only simulating $y_{t}$, can we recover $\\boldsymbol{{\\beta}}$ and to inference on parameters?\n"
   ]
  },
  {
   "cell_type": "markdown",
   "metadata": {},
   "source": [
    "## Step 0: Simulating data\n",
    "\n",
    "Let's fix the value of $\\boldsymbol{\\beta} = \\boldsymbol{\\beta_{0}}$ and simulate a sample according to the linear model described above. Our goal is to recover the true value of $\\boldsymbol{\\beta}$ using moment conditions and simulated data."
   ]
  },
  {
   "cell_type": "code",
   "execution_count": 1,
   "metadata": {},
   "outputs": [
    {
     "name": "stdout",
     "output_type": "stream",
     "text": [
      "True intercept = 0.5662374165061859\n",
      "True coefficient beta0 = [0.5908446386657102, 0.7667970365022592]\n",
      "Serial correlation coefficient theta0 = 0.0\n"
     ]
    }
   ],
   "source": [
    "using Distributions\n",
    "using Random\n",
    "Random.seed!(1234)  #for replicability reasons\n",
    "T = 100000          #number of periods\n",
    "P = 2               #number of dependent variables\n",
    "beta0 = rand(P)     #choose true coefficients by drawing from a uniform distribution on [0,1]\n",
    "alpha0 = rand(1)[]  #intercept\n",
    "theta0 = 0.0        #coefficient to create serial correlation in the error terms\n",
    "println(\"True intercept = $(alpha0)\")\n",
    "println(\"True coefficient beta0 = $(beta0)\")\n",
    "println(\"Serial correlation coefficient theta0 = $(theta0)\")\n",
    "\n",
    "# Generation of error terms\n",
    "# row = individual dimension\n",
    "# column = time dimension \n",
    "U = zeros(T)\n",
    "d = Normal()\n",
    "U[1] = rand(d, 1)[] #first error term\n",
    "# loop over time periods\n",
    "for t = 2:T\n",
    "    U[t] = rand(d, 1)[] + theta0*U[t-1]\n",
    "end"
   ]
  },
  {
   "cell_type": "code",
   "execution_count": 2,
   "metadata": {},
   "outputs": [],
   "source": [
    "# Let's simulate the dependent variables x_t\n",
    "x = zeros(T, P)\n",
    "\n",
    "d = Uniform(0, 5)\n",
    "for p = 1:P  \n",
    "    x[:,p] = rand(d, T)\n",
    "end\n",
    "\n",
    "# Let's calculate the resulting y_t\n",
    "y = zeros(T)\n",
    "\n",
    "for t=1:T\n",
    "    y[t] = alpha0 + x[t,1]*beta0[1] + x[t,2]*beta0[2] + U[t]\n",
    "end"
   ]
  },
  {
   "cell_type": "markdown",
   "metadata": {},
   "source": [
    "## Step 1: Initializing a MSMProblem"
   ]
  },
  {
   "cell_type": "code",
   "execution_count": 3,
   "metadata": {},
   "outputs": [
    {
     "name": "stderr",
     "output_type": "stream",
     "text": [
      "┌ Info: Precompiling MSM [553e158a-22df-4687-a16d-90d753ebe799]\n",
      "└ @ Base loading.jl:1278\n"
     ]
    }
   ],
   "source": [
    "using MSM\n",
    "using DataStructures\n",
    "using OrderedCollections\n",
    "using Random\n",
    "using Distributions\n",
    "using Statistics\n",
    "using LinearAlgebra\n",
    "\n",
    "# Here we set the maximum number of function evaluations to be 10000.\n",
    "# We also select a global optimizer (see BlackBoxOptim.jl) and a local minimizer (see Optim.jl)\n",
    "# https://github.com/robertfeldt/BlackBoxOptim.jl\n",
    "# https://julianlsolvers.github.io/Optim.jl\n",
    "myProblem = MSMProblem(options = MSMOptions(maxFuncEvals=10000, globalOptimizer = :dxnes, localOptimizer = :LBFGS));"
   ]
  },
  {
   "cell_type": "markdown",
   "metadata": {},
   "source": [
    "## Step 2: Set emprical moments and subjective weights"
   ]
  },
  {
   "cell_type": "markdown",
   "metadata": {},
   "source": [
    "We aim at estimating $3$ parameters. So we should at least have $3$ moment conditions. \n",
    "Here, let's use the following 5 moment conditions:"
   ]
  },
  {
   "cell_type": "code",
   "execution_count": 4,
   "metadata": {},
   "outputs": [
    {
     "data": {
      "text/plain": [
       "OrderedDict{String,Array{Float64,1}} with 5 entries:\n",
       "  \"mean\"       => [3.95288, 3.95288]\n",
       "  \"mean_x1y\"   => [11.0611, 11.0611]\n",
       "  \"mean_x2y\"   => [11.4634, 11.4634]\n",
       "  \"mean_x1y^2\" => [203.361, 203.361]\n",
       "  \"mean_x2y^2\" => [219.249, 219.249]"
      ]
     },
     "execution_count": 4,
     "metadata": {},
     "output_type": "execute_result"
    }
   ],
   "source": [
    "dictEmpiricalMoments = OrderedDict{String,Array{Float64,1}}()\n",
    "dictEmpiricalMoments[\"mean\"] = [mean(y); mean(y)] #informative on the intercept\n",
    "dictEmpiricalMoments[\"mean_x1y\"] = [mean(x[:,1] .* y); mean(x[:,1] .* y)] #informative on betas\n",
    "dictEmpiricalMoments[\"mean_x2y\"] = [mean(x[:,2] .* y); mean(x[:,2] .* y)] #informative on betas\n",
    "dictEmpiricalMoments[\"mean_x1y^2\"] = [mean((x[:,1] .* y).^2); mean((x[:,1] .* y).^2)] #informative on betas\n",
    "dictEmpiricalMoments[\"mean_x2y^2\"] = [mean((x[:,2] .* y).^2); mean((x[:,2] .* y).^2)] #informative on betas\n",
    "\n",
    "set_empirical_moments!(myProblem, dictEmpiricalMoments)"
   ]
  },
  {
   "cell_type": "markdown",
   "metadata": {},
   "source": [
    "## Step 3. Set priors"
   ]
  },
  {
   "cell_type": "markdown",
   "metadata": {},
   "source": [
    "One has to attach priors values the `MSMProblem` we are going to use.\n",
    "This is achieved using the function  `set_priors!()`"
   ]
  },
  {
   "cell_type": "code",
   "execution_count": 5,
   "metadata": {},
   "outputs": [
    {
     "data": {
      "text/plain": [
       "OrderedDict{String,Array{Float64,1}} with 3 entries:\n",
       "  \"alpha\" => [0.5, 0.001, 1.0]\n",
       "  \"beta1\" => [0.5, 0.001, 1.0]\n",
       "  \"beta2\" => [0.5, 0.001, 1.0]"
      ]
     },
     "execution_count": 5,
     "metadata": {},
     "output_type": "execute_result"
    }
   ],
   "source": [
    "dictPriors = OrderedDict{String,Array{Float64,1}}()\n",
    "dictPriors[\"alpha\"] = [0.5, 0.001, 1.0]\n",
    "dictPriors[\"beta1\"] = [0.5, 0.001, 1.0]\n",
    "dictPriors[\"beta2\"] = [0.5, 0.001, 1.0]\n",
    "\n",
    "set_priors!(myProblem, dictPriors)"
   ]
  },
  {
   "cell_type": "markdown",
   "metadata": {},
   "source": [
    "## Step 4: Specifying the function generating simulated moments using parameter values\n",
    "\n",
    "This is maybe the most crucial step. The objective function must generate an **ordered dictionary** containing the **keys of dictEmpiricalMoments**. Importantly, we \"freeze\" randomness during the minimization step. One way to do \n",
    "that is to generate draws from a Uniform([0,1]) outside of the objective function and to use [inverse transform sampling](https://en.wikipedia.org/wiki/Inverse_transform_sampling) to generate draws from a normal distribution. Otherwise the objective function would be \"noisy\" and the minimization algorithms would have a hard time finding \n",
    "the global minimum. "
   ]
  },
  {
   "cell_type": "code",
   "execution_count": 6,
   "metadata": {},
   "outputs": [
    {
     "data": {
      "text/plain": [
       "(::MSM.var\"#objective_function_percent#6\"{MSMProblem}) (generic function with 1 method)"
      ]
     },
     "execution_count": 6,
     "metadata": {},
     "output_type": "execute_result"
    }
   ],
   "source": [
    "# x[1] corresponds to the intercept\n",
    "# x[1] corresponds to beta1\n",
    "# x[3] corresponds to beta2\n",
    "function functionLinearModel(x; uniform_draws::Array{Float64,1}, simX::Array{Float64,2}, nbDraws::Int64 = length(uniform_draws), burnInPerc::Int64 = 10)\n",
    "    T = nbDraws\n",
    "    P = 2       #number of dependent variables\n",
    "\n",
    "    alpha = x[1]\n",
    "    beta = x[2:end]\n",
    "    theta = 0.0     #coefficient to create serial correlation in the error terms\n",
    "\n",
    "    # Creation of error terms\n",
    "    # row = individual dimension\n",
    "    # column = time dimension\n",
    "    U = zeros(T)\n",
    "    d = Normal()\n",
    "    # Inverse cdf (i.e. quantile)\n",
    "    gaussian_draws = quantile.(d, uniform_draws)\n",
    "    U[1] = gaussian_draws[1] #first error term\n",
    "\n",
    "    # loop over time periods\n",
    "    for t = 2:T\n",
    "        U[t] = gaussian_draws[t] + theta*U[t-1]\n",
    "    end\n",
    "\n",
    "    # Let's calculate the resulting y_t\n",
    "    y = zeros(T)\n",
    "\n",
    "    for t=1:T\n",
    "        y[t] = alpha + simX[t,1]*beta[1] + simX[t,2]*beta[2] + U[t]\n",
    "    end\n",
    "\n",
    "    # Get rid of the burn-in phase:\n",
    "    #------------------------------\n",
    "    startT = div(nbDraws, burnInPerc)\n",
    "\n",
    "    # Moments:\n",
    "    #---------\n",
    "    output = OrderedDict{String,Float64}()\n",
    "    output[\"mean\"] = mean(y[startT:nbDraws])\n",
    "    output[\"mean_x1y\"] = mean(simX[startT:nbDraws,1] .* y[startT:nbDraws])\n",
    "    output[\"mean_x2y\"] = mean(simX[startT:nbDraws,2] .* y[startT:nbDraws])\n",
    "    output[\"mean_x1y^2\"] = mean((simX[startT:nbDraws,1] .* y[startT:nbDraws]).^2)\n",
    "    output[\"mean_x2y^2\"] = mean((simX[startT:nbDraws,2] .* y[startT:nbDraws]).^2)\n",
    "\n",
    "    return output\n",
    "end\n",
    "\n",
    "# Let's freeze the randomness during the minimization\n",
    "d_Uni = Uniform(0,1)\n",
    "nbDraws = 100000 #number of draws in the simulated data\n",
    "uniform_draws = rand(d_Uni, nbDraws)\n",
    "simX = zeros(length(uniform_draws), 2)\n",
    "d = Uniform(0, 5)\n",
    "for p = 1:2\n",
    "  simX[:,p] = rand(d, length(uniform_draws))\n",
    "end\n",
    "\n",
    "set_simulate_empirical_moments!(myProblem, x -> functionLinearModel(x, uniform_draws = uniform_draws, simX = simX))\n",
    "\n",
    "# Construct the objective function using:\n",
    "#* the function: parameter -> simulated moments\n",
    "#* emprical moments values\n",
    "#* emprical moments weights\n",
    "construct_objective_function!(myProblem)"
   ]
  },
  {
   "cell_type": "markdown",
   "metadata": {},
   "source": [
    "## Step 5. Running the optimization"
   ]
  },
  {
   "cell_type": "code",
   "execution_count": 7,
   "metadata": {},
   "outputs": [
    {
     "name": "stderr",
     "output_type": "stream",
     "text": [
      "┌ Info: 1 worker(s) detected\n",
      "└ @ MSM /home/julien/.julia/dev/MSM/src/generic.jl:302\n"
     ]
    },
    {
     "name": "stdout",
     "output_type": "stream",
     "text": [
      "hello\n"
     ]
    },
    {
     "name": "stderr",
     "output_type": "stream",
     "text": [
      "┌ Info: Starting optimization in serial\n",
      "└ @ MSM /home/julien/.julia/dev/MSM/src/generic.jl:302\n"
     ]
    },
    {
     "name": "stdout",
     "output_type": "stream",
     "text": [
      "Starting optimization with optimizer BlackBoxOptim.DXNESOpt{Float64,BlackBoxOptim.RandomBound{BlackBoxOptim.ContinuousRectSearchSpace}}\n",
      "0.00 secs, 0 evals, 0 steps\n",
      "σ=1.0 η[x]=1.0 η[σ]=0.0 η[B]=0.0 |tr(ln_B)|=0.0 |path|=NaN speed=NaN\n",
      "0.50 secs, 128 evals, 16 steps, fitness=0.000018955\n",
      "σ=1.0906882535092979 η[x]=1.0 η[σ]=1.5714285714285714 η[B]=0.06349206349206349 |tr(ln_B)|=7.806255641895632e-18 |path|=NaN speed=NaN\n",
      "1.01 secs, 264 evals, 33 steps, fitness=0.000018955\n",
      "σ=1.1036550392762603 η[x]=1.0 η[σ]=1.5714285714285714 η[B]=0.06349206349206349 |tr(ln_B)|=2.7755575615628914e-17 |path|=NaN speed=NaN\n",
      "1.54 secs, 416 evals, 52 steps, fitness=0.000018955\n",
      "σ=0.30178712560251375 η[x]=1.0 η[σ]=1.5714285714285714 η[B]=0.06349206349206349 |tr(ln_B)|=2.7755575615628914e-17 |path|=NaN speed=NaN\n",
      "2.07 secs, 568 evals, 71 steps, fitness=0.000009170\n",
      "σ=0.0034059626103427098 η[x]=1.0 η[σ]=1.5714285714285714 η[B]=0.06349206349206349 |tr(ln_B)|=2.7755575615628914e-17 |path|=NaN speed=NaN\n",
      "2.58 secs, 712 evals, 89 steps, fitness=0.000007896\n",
      "σ=9.314148252014936e-5 η[x]=1.0 η[σ]=1.5714285714285714 η[B]=0.06349206349206349 |tr(ln_B)|=1.3877787807814457e-16 |path|=NaN speed=NaN\n",
      "3.09 secs, 856 evals, 107 steps, fitness=0.000006705\n",
      "σ=0.000350474082017235 η[x]=1.0 η[σ]=1.5714285714285714 η[B]=0.06349206349206349 |tr(ln_B)|=1.1102230246251565e-16 |path|=NaN speed=NaN\n",
      "3.62 secs, 1008 evals, 126 steps, fitness=0.000005173\n",
      "σ=0.0005714750198412119 η[x]=1.0 η[σ]=1.5714285714285714 η[B]=0.06349206349206349 |tr(ln_B)|=5.551115123125783e-17 |path|=NaN speed=NaN\n",
      "4.13 secs, 1160 evals, 145 steps, fitness=0.000002802\n",
      "σ=0.0009662582142389203 η[x]=1.0 η[σ]=1.5714285714285714 η[B]=0.06349206349206349 |tr(ln_B)|=2.220446049250313e-16 |path|=NaN speed=NaN\n",
      "4.64 secs, 1312 evals, 164 steps, fitness=0.000000827\n",
      "σ=0.00018571492282085079 η[x]=1.0 η[σ]=1.5714285714285714 η[B]=0.06349206349206349 |tr(ln_B)|=4.440892098500626e-16 |path|=NaN speed=NaN\n",
      "5.15 secs, 1408 evals, 176 steps, fitness=0.000000688\n",
      "σ=0.00011844910790981577 η[x]=1.0 η[σ]=1.5714285714285714 η[B]=0.06349206349206349 |tr(ln_B)|=5.551115123125783e-16 |path|=NaN speed=NaN\n",
      "5.66 secs, 1560 evals, 195 steps, fitness=0.000000670\n",
      "σ=2.4295862572431285e-5 η[x]=1.0 η[σ]=1.5714285714285714 η[B]=0.06349206349206349 |tr(ln_B)|=7.771561172376096e-16 |path|=NaN speed=NaN\n",
      "6.16 secs, 1712 evals, 214 steps, fitness=0.000000670\n",
      "σ=4.5285273598902966e-8 η[x]=1.0 η[σ]=1.5714285714285714 η[B]=0.06349206349206349 |tr(ln_B)|=4.440892098500626e-16 |path|=NaN speed=NaN\n",
      "6.69 secs, 1872 evals, 234 steps, fitness=0.000000670\n",
      "σ=1.7196984294071761e-10 η[x]=1.0 η[σ]=1.5714285714285714 η[B]=0.06349206349206349 |tr(ln_B)|=8.881784197001252e-16 |path|=NaN speed=NaN\n",
      "7.19 secs, 2024 evals, 253 steps, fitness=0.000000670\n",
      "σ=1.5066637232313097e-11 η[x]=1.0 η[σ]=1.5714285714285714 η[B]=0.06349206349206349 |tr(ln_B)|=1.5543122344752192e-15 |path|=NaN speed=NaN\n",
      "7.71 secs, 2184 evals, 273 steps, fitness=0.000000670\n",
      "σ=1.8942012015754934e-10 η[x]=1.0 η[σ]=1.5714285714285714 η[B]=0.06349206349206349 |tr(ln_B)|=1.2212453270876722e-15 |path|=NaN speed=NaN\n",
      "8.24 secs, 2344 evals, 293 steps, fitness=0.000000670\n",
      "σ=2.2687241000430785e-10 η[x]=1.0 η[σ]=1.5714285714285714 η[B]=0.06349206349206349 |tr(ln_B)|=6.661338147750939e-16 |path|=NaN speed=NaN\n",
      "8.75 secs, 2504 evals, 313 steps, fitness=0.000000670\n",
      "σ=2.3302941012134815e-10 η[x]=1.0 η[σ]=1.5714285714285714 η[B]=0.06349206349206349 |tr(ln_B)|=1.2212453270876722e-15 |path|=NaN speed=NaN\n",
      "9.27 secs, 2664 evals, 333 steps, fitness=0.000000670\n",
      "σ=9.463493616358818e-12 η[x]=1.0 η[σ]=1.5714285714285714 η[B]=0.06349206349206349 |tr(ln_B)|=1.5543122344752192e-15 |path|=NaN speed=NaN\n",
      "9.80 secs, 2824 evals, 353 steps, fitness=0.000000670\n",
      "σ=4.063945547752717e-12 η[x]=1.0 η[σ]=1.5714285714285714 η[B]=0.06349206349206349 |tr(ln_B)|=1.4432899320127035e-15 |path|=NaN speed=NaN\n",
      "10.31 secs, 2984 evals, 373 steps, fitness=0.000000670\n",
      "σ=7.1098266546762276e-12 η[x]=1.0 η[σ]=1.5714285714285714 η[B]=0.06349206349206349 |tr(ln_B)|=1.2212453270876722e-15 |path|=NaN speed=NaN\n",
      "10.83 secs, 3144 evals, 393 steps, fitness=0.000000670\n",
      "σ=7.036206115502832e-12 η[x]=1.0 η[σ]=1.5714285714285714 η[B]=0.06349206349206349 |tr(ln_B)|=6.661338147750939e-16 |path|=NaN speed=NaN\n",
      "11.34 secs, 3304 evals, 413 steps, fitness=0.000000670\n",
      "σ=8.089316705994727e-13 η[x]=1.0 η[σ]=1.5714285714285714 η[B]=0.06349206349206349 |tr(ln_B)|=1.5543122344752192e-15 |path|=NaN speed=NaN\n",
      "11.87 secs, 3464 evals, 433 steps, fitness=0.000000670\n",
      "σ=2.4510930569812375e-11 η[x]=1.0 η[σ]=1.5714285714285714 η[B]=0.06349206349206349 |tr(ln_B)|=1.9984014443252818e-15 |path|=NaN speed=NaN\n",
      "12.38 secs, 3616 evals, 452 steps, fitness=0.000000670\n",
      "σ=3.148184993183543e-11 η[x]=1.0 η[σ]=1.5714285714285714 η[B]=0.06349206349206349 |tr(ln_B)|=1.9984014443252818e-15 |path|=NaN speed=NaN\n",
      "12.90 secs, 3768 evals, 471 steps, fitness=0.000000670\n",
      "σ=4.570814926165516e-11 η[x]=1.0 η[σ]=1.5714285714285714 η[B]=0.06349206349206349 |tr(ln_B)|=2.220446049250313e-15 |path|=NaN speed=NaN\n",
      "13.40 secs, 3912 evals, 489 steps, fitness=0.000000670\n",
      "σ=4.8413949159140214e-11 η[x]=1.0 η[σ]=1.5714285714285714 η[B]=0.06349206349206349 |tr(ln_B)|=1.7763568394002505e-15 |path|=NaN speed=NaN\n",
      "13.91 secs, 4064 evals, 508 steps, fitness=0.000000670\n",
      "σ=3.7636675482243465e-11 η[x]=1.0 η[σ]=1.5714285714285714 η[B]=0.06349206349206349 |tr(ln_B)|=1.5543122344752192e-15 |path|=NaN speed=NaN\n",
      "14.41 secs, 4216 evals, 527 steps, fitness=0.000000670\n",
      "σ=1.3252222942141802e-11 η[x]=1.0 η[σ]=1.5714285714285714 η[B]=0.06349206349206349 |tr(ln_B)|=1.3322676295501878e-15 |path|=NaN speed=NaN\n",
      "14.94 secs, 4368 evals, 546 steps, fitness=0.000000670\n",
      "σ=4.282929106163835e-12 η[x]=1.0 η[σ]=1.5714285714285714 η[B]=0.06349206349206349 |tr(ln_B)|=4.440892098500626e-16 |path|=NaN speed=NaN\n",
      "15.44 secs, 4520 evals, 565 steps, fitness=0.000000670\n",
      "σ=1.5536683361519788e-11 η[x]=1.0 η[σ]=1.5714285714285714 η[B]=0.06349206349206349 |tr(ln_B)|=4.440892098500626e-16 |path|=NaN speed=NaN\n",
      "15.94 secs, 4672 evals, 584 steps, fitness=0.000000670\n",
      "σ=5.575871874471515e-12 η[x]=1.0 η[σ]=1.5714285714285714 η[B]=0.06349206349206349 |tr(ln_B)|=6.661338147750939e-16 |path|=NaN speed=NaN\n",
      "16.46 secs, 4824 evals, 603 steps, fitness=0.000000670\n",
      "σ=8.223793417484922e-12 η[x]=1.0 η[σ]=1.5714285714285714 η[B]=0.06349206349206349 |tr(ln_B)|=8.881784197001252e-16 |path|=NaN speed=NaN\n",
      "16.97 secs, 4968 evals, 621 steps, fitness=0.000000670\n",
      "σ=1.991085306227144e-11 η[x]=1.0 η[σ]=1.5714285714285714 η[B]=0.06349206349206349 |tr(ln_B)|=8.881784197001252e-16 |path|=NaN speed=NaN\n",
      "17.47 secs, 5120 evals, 640 steps, fitness=0.000000670\n",
      "σ=1.2005904914420224e-11 η[x]=1.0 η[σ]=1.5714285714285714 η[B]=0.06349206349206349 |tr(ln_B)|=5.551115123125783e-16 |path|=NaN speed=NaN\n",
      "17.97 secs, 5272 evals, 659 steps, fitness=0.000000670\n",
      "σ=4.175965939564456e-11 η[x]=1.0 η[σ]=1.5714285714285714 η[B]=0.06349206349206349 |tr(ln_B)|=5.551115123125783e-16 |path|=NaN speed=NaN\n",
      "18.50 secs, 5432 evals, 679 steps, fitness=0.000000670\n",
      "σ=4.421710633934578e-12 η[x]=1.0 η[σ]=1.5714285714285714 η[B]=0.06349206349206349 |tr(ln_B)|=0.0 |path|=NaN speed=NaN\n",
      "19.00 secs, 5584 evals, 698 steps, fitness=0.000000670\n",
      "σ=2.258770240683963e-12 η[x]=1.0 η[σ]=1.5714285714285714 η[B]=0.06349206349206349 |tr(ln_B)|=2.220446049250313e-16 |path|=NaN speed=NaN\n",
      "19.52 secs, 5744 evals, 718 steps, fitness=0.000000670\n",
      "σ=1.1145228131687289e-11 η[x]=1.0 η[σ]=1.5714285714285714 η[B]=0.06349206349206349 |tr(ln_B)|=2.220446049250313e-16 |path|=NaN speed=NaN\n",
      "20.05 secs, 5904 evals, 738 steps, fitness=0.000000670\n",
      "σ=3.2545920023765344e-12 η[x]=1.0 η[σ]=1.5714285714285714 η[B]=0.06349206349206349 |tr(ln_B)|=0.0 |path|=NaN speed=NaN\n",
      "20.55 secs, 6056 evals, 757 steps, fitness=0.000000670\n",
      "σ=1.8829393724552625e-12 η[x]=1.0 η[σ]=1.5714285714285714 η[B]=0.06349206349206349 |tr(ln_B)|=1.3322676295501878e-15 |path|=NaN speed=NaN\n",
      "21.08 secs, 6216 evals, 777 steps, fitness=0.000000670\n",
      "σ=3.938703339774427e-12 η[x]=1.0 η[σ]=1.5714285714285714 η[B]=0.06349206349206349 |tr(ln_B)|=1.7763568394002505e-15 |path|=NaN speed=NaN\n",
      "21.58 secs, 6368 evals, 796 steps, fitness=0.000000670\n",
      "σ=3.3587204303419825e-11 η[x]=1.0 η[σ]=1.5714285714285714 η[B]=0.06349206349206349 |tr(ln_B)|=1.9984014443252818e-15 |path|=NaN speed=NaN\n"
     ]
    },
    {
     "name": "stdout",
     "output_type": "stream",
     "text": [
      "22.08 secs, 6520 evals, 815 steps, fitness=0.000000670\n",
      "σ=3.418353191967327e-11 η[x]=1.0 η[σ]=1.5714285714285714 η[B]=0.06349206349206349 |tr(ln_B)|=1.9984014443252818e-15 |path|=NaN speed=NaN\n",
      "22.60 secs, 6680 evals, 835 steps, fitness=0.000000670\n",
      "σ=3.204068679072509e-10 η[x]=1.0 η[σ]=1.5714285714285714 η[B]=0.06349206349206349 |tr(ln_B)|=1.7763568394002505e-15 |path|=NaN speed=NaN\n",
      "23.13 secs, 6840 evals, 855 steps, fitness=0.000000670\n",
      "σ=7.111285016790799e-11 η[x]=1.0 η[σ]=1.5714285714285714 η[B]=0.06349206349206349 |tr(ln_B)|=1.9984014443252818e-15 |path|=NaN speed=NaN\n",
      "23.63 secs, 6992 evals, 874 steps, fitness=0.000000670\n",
      "σ=2.8459307875188914e-11 η[x]=1.0 η[σ]=1.5714285714285714 η[B]=0.06349206349206349 |tr(ln_B)|=1.887379141862766e-15 |path|=NaN speed=NaN\n",
      "24.14 secs, 7144 evals, 893 steps, fitness=0.000000670\n",
      "σ=3.5805374324906847e-11 η[x]=1.0 η[σ]=1.5714285714285714 η[B]=0.06349206349206349 |tr(ln_B)|=2.1094237467877974e-15 |path|=NaN speed=NaN\n",
      "24.64 secs, 7296 evals, 912 steps, fitness=0.000000670\n",
      "σ=3.767049478324949e-11 η[x]=1.0 η[σ]=1.5714285714285714 η[B]=0.06349206349206349 |tr(ln_B)|=1.6653345369377348e-15 |path|=NaN speed=NaN\n",
      "25.15 secs, 7448 evals, 931 steps, fitness=0.000000670\n",
      "σ=1.9775817356496272e-11 η[x]=1.0 η[σ]=1.5714285714285714 η[B]=0.06349206349206349 |tr(ln_B)|=1.2212453270876722e-15 |path|=NaN speed=NaN\n",
      "25.65 secs, 7600 evals, 950 steps, fitness=0.000000670\n",
      "σ=2.070477212972255e-11 η[x]=1.0 η[σ]=1.5714285714285714 η[B]=0.06349206349206349 |tr(ln_B)|=9.992007221626409e-16 |path|=NaN speed=NaN\n",
      "26.15 secs, 7752 evals, 969 steps, fitness=0.000000670\n",
      "σ=2.531907697816881e-11 η[x]=1.0 η[σ]=1.5714285714285714 η[B]=0.06349206349206349 |tr(ln_B)|=1.2212453270876722e-15 |path|=NaN speed=NaN\n",
      "26.67 secs, 7912 evals, 989 steps, fitness=0.000000670\n",
      "σ=6.176517102807244e-11 η[x]=1.0 η[σ]=1.5714285714285714 η[B]=0.06349206349206349 |tr(ln_B)|=7.771561172376096e-16 |path|=NaN speed=NaN\n",
      "27.18 secs, 8064 evals, 1008 steps, fitness=0.000000670\n",
      "σ=7.514403657104814e-11 η[x]=1.0 η[σ]=1.5714285714285714 η[B]=0.06349206349206349 |tr(ln_B)|=6.661338147750939e-16 |path|=NaN speed=NaN\n",
      "27.68 secs, 8216 evals, 1027 steps, fitness=0.000000670\n",
      "σ=1.3754534329645774e-10 η[x]=1.0 η[σ]=1.5714285714285714 η[B]=0.06349206349206349 |tr(ln_B)|=2.220446049250313e-16 |path|=NaN speed=NaN\n",
      "28.20 secs, 8368 evals, 1046 steps, fitness=0.000000670\n",
      "σ=7.697028080020323e-11 η[x]=1.0 η[σ]=1.5714285714285714 η[B]=0.06349206349206349 |tr(ln_B)|=3.3306690738754696e-16 |path|=NaN speed=NaN\n",
      "28.70 secs, 8520 evals, 1065 steps, fitness=0.000000670\n",
      "σ=1.7254422101682642e-11 η[x]=1.0 η[σ]=1.5714285714285714 η[B]=0.06349206349206349 |tr(ln_B)|=1.1102230246251565e-16 |path|=NaN speed=NaN\n",
      "29.21 secs, 8672 evals, 1084 steps, fitness=0.000000670\n",
      "σ=1.00690794949336e-10 η[x]=1.0 η[σ]=1.5714285714285714 η[B]=0.06349206349206349 |tr(ln_B)|=3.3306690738754696e-16 |path|=NaN speed=NaN\n",
      "29.71 secs, 8824 evals, 1103 steps, fitness=0.000000670\n",
      "σ=8.310185196563823e-11 η[x]=1.0 η[σ]=1.5714285714285714 η[B]=0.06349206349206349 |tr(ln_B)|=2.220446049250313e-16 |path|=NaN speed=NaN\n",
      "30.23 secs, 8976 evals, 1122 steps, fitness=0.000000670\n",
      "σ=8.313839239631801e-11 η[x]=1.0 η[σ]=1.5714285714285714 η[B]=0.06349206349206349 |tr(ln_B)|=5.551115123125783e-16 |path|=NaN speed=NaN\n",
      "30.73 secs, 9128 evals, 1141 steps, fitness=0.000000670\n",
      "σ=1.7934731534027433e-10 η[x]=1.0 η[σ]=1.5714285714285714 η[B]=0.06349206349206349 |tr(ln_B)|=2.220446049250313e-16 |path|=NaN speed=NaN\n",
      "31.26 secs, 9288 evals, 1161 steps, fitness=0.000000670\n",
      "σ=5.825927784951904e-11 η[x]=1.0 η[σ]=1.5714285714285714 η[B]=0.06349206349206349 |tr(ln_B)|=4.440892098500626e-16 |path|=NaN speed=NaN\n",
      "31.78 secs, 9440 evals, 1180 steps, fitness=0.000000670\n",
      "σ=2.0593598553346808e-10 η[x]=1.0 η[σ]=1.5714285714285714 η[B]=0.06349206349206349 |tr(ln_B)|=7.771561172376096e-16 |path|=NaN speed=NaN\n",
      "32.30 secs, 9584 evals, 1198 steps, fitness=0.000000670\n",
      "σ=1.4778810076946693e-10 η[x]=1.0 η[σ]=1.5714285714285714 η[B]=0.06349206349206349 |tr(ln_B)|=1.1102230246251565e-15 |path|=NaN speed=NaN\n",
      "32.81 secs, 9728 evals, 1216 steps, fitness=0.000000670\n",
      "σ=7.986125765520903e-11 η[x]=1.0 η[σ]=1.5714285714285714 η[B]=0.06349206349206349 |tr(ln_B)|=1.3322676295501878e-15 |path|=NaN speed=NaN\n",
      "33.32 secs, 9880 evals, 1235 steps, fitness=0.000000670\n",
      "σ=1.0888565911291038e-10 η[x]=1.0 η[σ]=1.5714285714285714 η[B]=0.06349206349206349 |tr(ln_B)|=1.887379141862766e-15 |path|=NaN speed=NaN\n",
      "\n",
      "Optimization stopped after 1251 steps and 33.74 seconds\n",
      "Termination reason: Max number of function evaluations (10000) reached\n",
      "Steps per second = 37.08\n",
      "Function evals per second = 296.62\n",
      "Improvements/step = NaN\n",
      "Total function evaluations = 10008\n",
      "\n",
      "\n",
      "Best candidate found: [0.571453, 0.583032, 0.76727]\n",
      "\n",
      "Fitness: 0.000000670\n",
      "\n"
     ]
    },
    {
     "data": {
      "text/plain": [
       "(Any[6.700018003710266e-7], Any[[0.5714533011827233, 0.5830316601670826, 0.7672700014239702]])"
      ]
     },
     "execution_count": 7,
     "metadata": {},
     "output_type": "execute_result"
    }
   ],
   "source": [
    "# Global optimization:\n",
    "msm_optimize!(myProblem, verbose = false)"
   ]
  },
  {
   "cell_type": "markdown",
   "metadata": {},
   "source": [
    "## Step 7. Analysing Results\n",
    "\n",
    "### A. Point estimates"
   ]
  },
  {
   "cell_type": "code",
   "execution_count": 8,
   "metadata": {},
   "outputs": [
    {
     "name": "stdout",
     "output_type": "stream",
     "text": [
      "Minimum objective function = 6.700018003710266e-7\n",
      "Estimated value for alpha = 0.5714533011827233. True value for beta1 = 0.5662374165061859 \n",
      "\n",
      "Estimated value for beta1 = 0.5830316601670826. True value for beta1 = 0.5908446386657102 \n",
      "\n",
      "Estimated value for beta2 = 0.7672700014239702. True value for beta2 = 0.7667970365022592 \n",
      "\n"
     ]
    }
   ],
   "source": [
    "minimizer = msm_minimizer(myProblem)\n",
    "minimum_val = msm_minimum(myProblem)\n",
    "\n",
    "println(\"Minimum objective function = $(minimum_val)\")\n",
    "println(\"Estimated value for alpha = $(minimizer[1]). True value for beta1 = $(alpha0[1]) \\n\")\n",
    "println(\"Estimated value for beta1 = $(minimizer[2]). True value for beta1 = $(beta0[1]) \\n\")\n",
    "println(\"Estimated value for beta2 = $(minimizer[3]). True value for beta2 = $(beta0[2]) \\n\")"
   ]
  },
  {
   "cell_type": "markdown",
   "metadata": {},
   "source": [
    "### B. Inference"
   ]
  },
  {
   "cell_type": "markdown",
   "metadata": {},
   "source": [
    "### Estimation of the distance matrix $\\Sigma_0$\n",
    "\n",
    "Let's calculate the variance-covariance matrix of the \"distance matrix\" (using the terminolgy of [Duffie and Singleton (1993)](https://www.jstor.org/stable/2951768?seq=1)). Here we know that errors are not correlated (the serial correlation coefficient is set to 0 in the code above). in the presence of serial correlation, an HAC estimation would be needed (see the package [CovarianceMatrices](https://github.com/gragusa/CovarianceMatrices.jl) for instance)"
   ]
  },
  {
   "cell_type": "code",
   "execution_count": 9,
   "metadata": {},
   "outputs": [
    {
     "data": {
      "text/plain": [
       "5×5 Array{Float64,2}:\n",
       "   2.942     12.1631    13.6279    346.754    392.581\n",
       "  12.1631    81.0139    47.795    2369.6     1503.16\n",
       "  13.6279    47.795     87.8405   1490.87    2622.29\n",
       " 346.754   2369.6     1490.87    77664.1    50175.4\n",
       " 392.581   1503.16    2622.29    50175.4    87292.2"
      ]
     },
     "execution_count": 9,
     "metadata": {},
     "output_type": "execute_result"
    }
   ],
   "source": [
    "# Empirical Series\n",
    "#-----------------\n",
    "X = zeros(T, 5)\n",
    "\n",
    "X[:,1] = y\n",
    "X[:,2] = (x[:,1] .* y)\n",
    "X[:,3] = (x[:,2] .* y)\n",
    "X[:,4] = (x[:,1] .* y).^2\n",
    "X[:,5] = (x[:,2] .* y).^2\n",
    "\n",
    "Sigma0 = cov(X)"
   ]
  },
  {
   "cell_type": "markdown",
   "metadata": {},
   "source": [
    "### Asymptotic variance"
   ]
  },
  {
   "cell_type": "markdown",
   "metadata": {},
   "source": [
    "The asymptotic variance of the MSM estimate is calculated using the usual GMM sandwich formula, corrected to take\n",
    "into account simulation noise. See [Duffie and Singleton (1993)](https://www.jstor.org/stable/2951768?seq=1) and [Gouriéroux and Montfort (1996)](https://www.jstor.org/stable/3533164?seq=1). Calculating the \n",
    "asymptotic variance using MSM.jl is done in two steps:\n",
    "* setting the value of of the distance matrix using the function `set_Sigma0!`\n",
    "* calculating the asymptotic variance using the function `calculate_Avar!`"
   ]
  },
  {
   "cell_type": "code",
   "execution_count": 10,
   "metadata": {},
   "outputs": [
    {
     "data": {
      "text/plain": [
       "3×3 Symmetric{Float64,Array{Float64,2}}:\n",
       "  63.4041   -11.7213   -8.66146\n",
       " -11.7213     6.80843  -2.14468\n",
       "  -8.66146   -2.14468   5.87873"
      ]
     },
     "execution_count": 10,
     "metadata": {},
     "output_type": "execute_result"
    }
   ],
   "source": [
    "set_Sigma0!(myProblem, Sigma0)\n",
    "calculate_Avar!(myProblem, minimizer, T, nbDraws) # nbDraws = number of draws in the simulated data"
   ]
  },
  {
   "cell_type": "markdown",
   "metadata": {},
   "source": [
    "Once the asymptotic variance has been calculated, a summary table can be obtained using the\n",
    "function `summary_table`. This function has four inputs:\n",
    "* a MSMProblem\n",
    "* the minimizer of the objective function\n",
    "* the length of the empirical sample\n",
    "* the confidence level associated to the test H0: $\\theta_i = 0$, H1: $\\theta_i != 0$"
   ]
  },
  {
   "cell_type": "code",
   "execution_count": 11,
   "metadata": {
    "scrolled": true
   },
   "outputs": [
    {
     "data": {
      "text/html": [
       "<table class=\"data-frame\"><thead><tr><th></th><th>Estimate</th><th>StdError</th><th>tValue</th><th>pValue</th><th>ConfIntervalLower</th><th>ConfIntervalUpper</th></tr><tr><th></th><th>Float64</th><th>Float64</th><th>Float64</th><th>Float64</th><th>Float64</th><th>Float64</th></tr></thead><tbody><p>3 rows × 6 columns</p><tr><th>1</th><td>0.571453</td><td>0.0251802</td><td>22.6946</td><td>0.0</td><td>0.530036</td><td>0.612871</td></tr><tr><th>2</th><td>0.583032</td><td>0.00825132</td><td>70.6592</td><td>0.0</td><td>0.569459</td><td>0.596604</td></tr><tr><th>3</th><td>0.76727</td><td>0.00766729</td><td>100.071</td><td>0.0</td><td>0.754658</td><td>0.779882</td></tr></tbody></table>"
      ],
      "text/latex": [
       "\\begin{tabular}{r|cccccc}\n",
       "\t& Estimate & StdError & tValue & pValue & ConfIntervalLower & ConfIntervalUpper\\\\\n",
       "\t\\hline\n",
       "\t& Float64 & Float64 & Float64 & Float64 & Float64 & Float64\\\\\n",
       "\t\\hline\n",
       "\t1 & 0.571453 & 0.0251802 & 22.6946 & 0.0 & 0.530036 & 0.612871 \\\\\n",
       "\t2 & 0.583032 & 0.00825132 & 70.6592 & 0.0 & 0.569459 & 0.596604 \\\\\n",
       "\t3 & 0.76727 & 0.00766729 & 100.071 & 0.0 & 0.754658 & 0.779882 \\\\\n",
       "\\end{tabular}\n"
      ],
      "text/plain": [
       "\u001b[1m3×6 DataFrame\u001b[0m\n",
       "\u001b[1m Row \u001b[0m│\u001b[1m Estimate \u001b[0m\u001b[1m StdError   \u001b[0m\u001b[1m tValue   \u001b[0m\u001b[1m pValue  \u001b[0m\u001b[1m ConfIntervalLower \u001b[0m\u001b[1m ConfInterva\u001b[0m ⋯\n",
       "\u001b[1m     \u001b[0m│\u001b[90m Float64  \u001b[0m\u001b[90m Float64    \u001b[0m\u001b[90m Float64  \u001b[0m\u001b[90m Float64 \u001b[0m\u001b[90m Float64           \u001b[0m\u001b[90m Float64    \u001b[0m ⋯\n",
       "─────┼──────────────────────────────────────────────────────────────────────────\n",
       "   1 │ 0.571453  0.0251802    22.6946      0.0           0.530036           0. ⋯\n",
       "   2 │ 0.583032  0.00825132   70.6592      0.0           0.569459           0.\n",
       "   3 │ 0.76727   0.00766729  100.071       0.0           0.754658           0.\n",
       "\u001b[31m                                                                1 column omitted\u001b[0m"
      ]
     },
     "execution_count": 11,
     "metadata": {},
     "output_type": "execute_result"
    }
   ],
   "source": [
    "df = summary_table(myProblem, minimizer, T, 0.05)"
   ]
  },
  {
   "cell_type": "markdown",
   "metadata": {},
   "source": [
    "### Comparison with OLS\n",
    "\n",
    "Let's compare the MSM results to the one obtained using OLS:"
   ]
  },
  {
   "cell_type": "code",
   "execution_count": 12,
   "metadata": {},
   "outputs": [
    {
     "data": {
      "text/plain": [
       "StatsModels.TableRegressionModel{LinearModel{GLM.LmResp{Array{Float64,1}},GLM.DensePredChol{Float64,Cholesky{Float64,Array{Float64,2}}}},Array{Float64,2}}\n",
       "\n",
       "y ~ 1 + x1 + x2\n",
       "\n",
       "Coefficients:\n",
       "─────────────────────────────────────────────────────────────────────────\n",
       "                Coef.  Std. Error       t  Pr(>|t|)  Lower 95%  Upper 95%\n",
       "─────────────────────────────────────────────────────────────────────────\n",
       "(Intercept)  0.571592  0.00836568   68.33    <1e-99   0.555196   0.587989\n",
       "x1           0.588239  0.00218787  268.86    <1e-99   0.583951   0.592528\n",
       "x2           0.767633  0.00219593  349.57    <1e-99   0.763329   0.771937\n",
       "─────────────────────────────────────────────────────────────────────────"
      ]
     },
     "execution_count": 12,
     "metadata": {},
     "output_type": "execute_result"
    }
   ],
   "source": [
    "using DataFrames, GLM\n",
    "data = DataFrame(x1=x[:,1], x2=x[:,2], y= y[:]);\n",
    "\n",
    "ols = lm(@formula(y ~ x1 + x2), data)"
   ]
  },
  {
   "cell_type": "markdown",
   "metadata": {},
   "source": [
    "In terms of point estimates, MSM and OLS estimates are rather close. Regarding standard errors, the OLS estimates are more precisely estimated. This is not surprising given that simulation noise impacts the accuracy of the MSM estimate and that OLS uses much more information than MSM. "
   ]
  },
  {
   "cell_type": "markdown",
   "metadata": {},
   "source": [
    "### C. Slices of the objective function\n",
    "\n",
    "One can \"visually check\" that the [local identification identification](https://en.wikipedia.org/wiki/Generalized_method_of_moments) is met by \"slicing\" the objective function. That is, we hold all the variables constant, and we calculate how the value of objective function changes when moving along one dimension. Hopefully, we will see nice U-shaped plots."
   ]
  },
  {
   "cell_type": "code",
   "execution_count": 13,
   "metadata": {},
   "outputs": [
    {
     "name": "stderr",
     "output_type": "stream",
     "text": [
      "┌ Info: slicing along alpha\n",
      "└ @ MSM /home/julien/.julia/dev/MSM/src/generic.jl:302\n",
      "┌ Info: slicing along beta1\n",
      "└ @ MSM /home/julien/.julia/dev/MSM/src/generic.jl:302\n",
      "┌ Info: slicing along beta2\n",
      "└ @ MSM /home/julien/.julia/dev/MSM/src/generic.jl:302\n"
     ]
    }
   ],
   "source": [
    "vXGrid, vYGrid = msm_slices(myProblem, minimizer, nbPoints = 7);"
   ]
  },
  {
   "cell_type": "code",
   "execution_count": 14,
   "metadata": {
    "scrolled": false
   },
   "outputs": [
    {
     "data": {
      "image/svg+xml": [
       "<?xml version=\"1.0\" encoding=\"utf-8\"?>\n",
       "<svg xmlns=\"http://www.w3.org/2000/svg\" xmlns:xlink=\"http://www.w3.org/1999/xlink\" width=\"600\" height=\"400\" viewBox=\"0 0 2400 1600\">\n",
       "<defs>\n",
       "  <clipPath id=\"clip380\">\n",
       "    <rect x=\"0\" y=\"0\" width=\"2400\" height=\"1600\"/>\n",
       "  </clipPath>\n",
       "</defs>\n",
       "<path clip-path=\"url(#clip380)\" d=\"\n",
       "M0 1600 L2400 1600 L2400 0 L0 0  Z\n",
       "  \" fill=\"#ffffff\" fill-rule=\"evenodd\" fill-opacity=\"1\"/>\n",
       "<defs>\n",
       "  <clipPath id=\"clip381\">\n",
       "    <rect x=\"480\" y=\"0\" width=\"1681\" height=\"1600\"/>\n",
       "  </clipPath>\n",
       "</defs>\n",
       "<path clip-path=\"url(#clip380)\" d=\"\n",
       "M279.17 686.448 L1152.76 686.448 L1152.76 123.472 L279.17 123.472  Z\n",
       "  \" fill=\"#ffffff\" fill-rule=\"evenodd\" fill-opacity=\"1\"/>\n",
       "<defs>\n",
       "  <clipPath id=\"clip382\">\n",
       "    <rect x=\"279\" y=\"123\" width=\"875\" height=\"564\"/>\n",
       "  </clipPath>\n",
       "</defs>\n",
       "<polyline clip-path=\"url(#clip382)\" style=\"stroke:#000000; stroke-width:2; stroke-opacity:0.1; fill:none\" points=\"\n",
       "  389.092,686.448 389.092,123.472 \n",
       "  \"/>\n",
       "<polyline clip-path=\"url(#clip382)\" style=\"stroke:#000000; stroke-width:2; stroke-opacity:0.1; fill:none\" points=\"\n",
       "  569.365,686.448 569.365,123.472 \n",
       "  \"/>\n",
       "<polyline clip-path=\"url(#clip382)\" style=\"stroke:#000000; stroke-width:2; stroke-opacity:0.1; fill:none\" points=\"\n",
       "  749.637,686.448 749.637,123.472 \n",
       "  \"/>\n",
       "<polyline clip-path=\"url(#clip382)\" style=\"stroke:#000000; stroke-width:2; stroke-opacity:0.1; fill:none\" points=\"\n",
       "  929.909,686.448 929.909,123.472 \n",
       "  \"/>\n",
       "<polyline clip-path=\"url(#clip382)\" style=\"stroke:#000000; stroke-width:2; stroke-opacity:0.1; fill:none\" points=\"\n",
       "  1110.18,686.448 1110.18,123.472 \n",
       "  \"/>\n",
       "<polyline clip-path=\"url(#clip380)\" style=\"stroke:#000000; stroke-width:4; stroke-opacity:1; fill:none\" points=\"\n",
       "  279.17,686.448 1152.76,686.448 \n",
       "  \"/>\n",
       "<polyline clip-path=\"url(#clip380)\" style=\"stroke:#000000; stroke-width:4; stroke-opacity:1; fill:none\" points=\"\n",
       "  389.092,686.448 389.092,679.692 \n",
       "  \"/>\n",
       "<polyline clip-path=\"url(#clip380)\" style=\"stroke:#000000; stroke-width:4; stroke-opacity:1; fill:none\" points=\"\n",
       "  569.365,686.448 569.365,679.692 \n",
       "  \"/>\n",
       "<polyline clip-path=\"url(#clip380)\" style=\"stroke:#000000; stroke-width:4; stroke-opacity:1; fill:none\" points=\"\n",
       "  749.637,686.448 749.637,679.692 \n",
       "  \"/>\n",
       "<polyline clip-path=\"url(#clip380)\" style=\"stroke:#000000; stroke-width:4; stroke-opacity:1; fill:none\" points=\"\n",
       "  929.909,686.448 929.909,679.692 \n",
       "  \"/>\n",
       "<polyline clip-path=\"url(#clip380)\" style=\"stroke:#000000; stroke-width:4; stroke-opacity:1; fill:none\" points=\"\n",
       "  1110.18,686.448 1110.18,679.692 \n",
       "  \"/>\n",
       "<path clip-path=\"url(#clip380)\" d=\"M 0 0 M318.144 715.639 Q314.532 715.639 312.704 719.203 Q310.898 722.745 310.898 729.875 Q310.898 736.981 312.704 740.546 Q314.532 744.087 318.144 744.087 Q321.778 744.087 323.583 740.546 Q325.412 736.981 325.412 729.875 Q325.412 722.745 323.583 719.203 Q321.778 715.639 318.144 715.639 M318.144 711.935 Q323.954 711.935 327.009 716.541 Q330.088 721.125 330.088 729.875 Q330.088 738.601 327.009 743.208 Q323.954 747.791 318.144 747.791 Q312.333 747.791 309.255 743.208 Q306.199 738.601 306.199 729.875 Q306.199 721.125 309.255 716.541 Q312.333 711.935 318.144 711.935 Z\" fill=\"#000000\" fill-rule=\"evenodd\" fill-opacity=\"1\" /><path clip-path=\"url(#clip380)\" d=\"M 0 0 M335.157 741.24 L340.042 741.24 L340.042 747.12 L335.157 747.12 L335.157 741.24 Z\" fill=\"#000000\" fill-rule=\"evenodd\" fill-opacity=\"1\" /><path clip-path=\"url(#clip380)\" d=\"M 0 0 M345.157 712.56 L363.514 712.56 L363.514 716.495 L349.44 716.495 L349.44 724.967 Q350.458 724.62 351.477 724.458 Q352.495 724.273 353.514 724.273 Q359.301 724.273 362.68 727.444 Q366.06 730.615 366.06 736.032 Q366.06 741.611 362.588 744.712 Q359.116 747.791 352.796 747.791 Q350.62 747.791 348.352 747.421 Q346.106 747.05 343.699 746.31 L343.699 741.611 Q345.782 742.745 348.005 743.3 Q350.227 743.856 352.704 743.856 Q356.708 743.856 359.046 741.75 Q361.384 739.643 361.384 736.032 Q361.384 732.421 359.046 730.314 Q356.708 728.208 352.704 728.208 Q350.829 728.208 348.954 728.625 Q347.102 729.041 345.157 729.921 L345.157 712.56 Z\" fill=\"#000000\" fill-rule=\"evenodd\" fill-opacity=\"1\" /><path clip-path=\"url(#clip380)\" d=\"M 0 0 M369.949 712.56 L392.171 712.56 L392.171 714.551 L379.625 747.12 L374.741 747.12 L386.546 716.495 L369.949 716.495 L369.949 712.56 Z\" fill=\"#000000\" fill-rule=\"evenodd\" fill-opacity=\"1\" /><path clip-path=\"url(#clip380)\" d=\"M 0 0 M398.051 743.185 L405.689 743.185 L405.689 716.819 L397.379 718.486 L397.379 714.227 L405.643 712.56 L410.319 712.56 L410.319 743.185 L417.958 743.185 L417.958 747.12 L398.051 747.12 L398.051 743.185 Z\" fill=\"#000000\" fill-rule=\"evenodd\" fill-opacity=\"1\" /><path clip-path=\"url(#clip380)\" d=\"M 0 0 M433.027 715.639 Q429.416 715.639 427.587 719.203 Q425.782 722.745 425.782 729.875 Q425.782 736.981 427.587 740.546 Q429.416 744.087 433.027 744.087 Q436.661 744.087 438.467 740.546 Q440.296 736.981 440.296 729.875 Q440.296 722.745 438.467 719.203 Q436.661 715.639 433.027 715.639 M433.027 711.935 Q438.837 711.935 441.893 716.541 Q444.972 721.125 444.972 729.875 Q444.972 738.601 441.893 743.208 Q438.837 747.791 433.027 747.791 Q427.217 747.791 424.138 743.208 Q421.083 738.601 421.083 729.875 Q421.083 721.125 424.138 716.541 Q427.217 711.935 433.027 711.935 Z\" fill=\"#000000\" fill-rule=\"evenodd\" fill-opacity=\"1\" /><path clip-path=\"url(#clip380)\" d=\"M 0 0 M460.041 715.639 Q456.43 715.639 454.601 719.203 Q452.796 722.745 452.796 729.875 Q452.796 736.981 454.601 740.546 Q456.43 744.087 460.041 744.087 Q463.675 744.087 465.481 740.546 Q467.309 736.981 467.309 729.875 Q467.309 722.745 465.481 719.203 Q463.675 715.639 460.041 715.639 M460.041 711.935 Q465.851 711.935 468.907 716.541 Q471.985 721.125 471.985 729.875 Q471.985 738.601 468.907 743.208 Q465.851 747.791 460.041 747.791 Q454.231 747.791 451.152 743.208 Q448.097 738.601 448.097 729.875 Q448.097 721.125 451.152 716.541 Q454.231 711.935 460.041 711.935 Z\" fill=\"#000000\" fill-rule=\"evenodd\" fill-opacity=\"1\" /><path clip-path=\"url(#clip380)\" d=\"M 0 0 M499.712 715.639 Q496.101 715.639 494.272 719.203 Q492.467 722.745 492.467 729.875 Q492.467 736.981 494.272 740.546 Q496.101 744.087 499.712 744.087 Q503.346 744.087 505.152 740.546 Q506.981 736.981 506.981 729.875 Q506.981 722.745 505.152 719.203 Q503.346 715.639 499.712 715.639 M499.712 711.935 Q505.522 711.935 508.578 716.541 Q511.657 721.125 511.657 729.875 Q511.657 738.601 508.578 743.208 Q505.522 747.791 499.712 747.791 Q493.902 747.791 490.823 743.208 Q487.768 738.601 487.768 729.875 Q487.768 721.125 490.823 716.541 Q493.902 711.935 499.712 711.935 Z\" fill=\"#000000\" fill-rule=\"evenodd\" fill-opacity=\"1\" /><path clip-path=\"url(#clip380)\" d=\"M 0 0 M516.726 741.24 L521.61 741.24 L521.61 747.12 L516.726 747.12 L516.726 741.24 Z\" fill=\"#000000\" fill-rule=\"evenodd\" fill-opacity=\"1\" /><path clip-path=\"url(#clip380)\" d=\"M 0 0 M526.726 712.56 L545.082 712.56 L545.082 716.495 L531.008 716.495 L531.008 724.967 Q532.027 724.62 533.045 724.458 Q534.064 724.273 535.082 724.273 Q540.869 724.273 544.249 727.444 Q547.629 730.615 547.629 736.032 Q547.629 741.611 544.156 744.712 Q540.684 747.791 534.365 747.791 Q532.189 747.791 529.92 747.421 Q527.675 747.05 525.268 746.31 L525.268 741.611 Q527.351 742.745 529.573 743.3 Q531.795 743.856 534.272 743.856 Q538.277 743.856 540.615 741.75 Q542.953 739.643 542.953 736.032 Q542.953 732.421 540.615 730.314 Q538.277 728.208 534.272 728.208 Q532.397 728.208 530.522 728.625 Q528.67 729.041 526.726 729.921 L526.726 712.56 Z\" fill=\"#000000\" fill-rule=\"evenodd\" fill-opacity=\"1\" /><path clip-path=\"url(#clip380)\" d=\"M 0 0 M551.517 712.56 L573.74 712.56 L573.74 714.551 L561.193 747.12 L556.309 747.12 L568.115 716.495 L551.517 716.495 L551.517 712.56 Z\" fill=\"#000000\" fill-rule=\"evenodd\" fill-opacity=\"1\" /><path clip-path=\"url(#clip380)\" d=\"M 0 0 M579.619 743.185 L587.258 743.185 L587.258 716.819 L578.948 718.486 L578.948 714.227 L587.212 712.56 L591.888 712.56 L591.888 743.185 L599.526 743.185 L599.526 747.12 L579.619 747.12 L579.619 743.185 Z\" fill=\"#000000\" fill-rule=\"evenodd\" fill-opacity=\"1\" /><path clip-path=\"url(#clip380)\" d=\"M 0 0 M608.624 743.185 L624.943 743.185 L624.943 747.12 L602.999 747.12 L602.999 743.185 Q605.661 740.43 610.244 735.8 Q614.85 731.148 616.031 729.805 Q618.276 727.282 619.156 725.546 Q620.059 723.787 620.059 722.097 Q620.059 719.342 618.114 717.606 Q616.193 715.87 613.091 715.87 Q610.892 715.87 608.438 716.634 Q606.008 717.398 603.23 718.949 L603.23 714.227 Q606.054 713.092 608.508 712.514 Q610.962 711.935 612.999 711.935 Q618.369 711.935 621.563 714.62 Q624.758 717.305 624.758 721.796 Q624.758 723.926 623.948 725.847 Q623.161 727.745 621.054 730.338 Q620.475 731.009 617.374 734.226 Q614.272 737.421 608.624 743.185 Z\" fill=\"#000000\" fill-rule=\"evenodd\" fill-opacity=\"1\" /><path clip-path=\"url(#clip380)\" d=\"M 0 0 M630.059 712.56 L648.415 712.56 L648.415 716.495 L634.341 716.495 L634.341 724.967 Q635.36 724.62 636.378 724.458 Q637.397 724.273 638.415 724.273 Q644.202 724.273 647.582 727.444 Q650.961 730.615 650.961 736.032 Q650.961 741.611 647.489 744.712 Q644.017 747.791 637.698 747.791 Q635.522 747.791 633.253 747.421 Q631.008 747.05 628.6 746.31 L628.6 741.611 Q630.684 742.745 632.906 743.3 Q635.128 743.856 637.605 743.856 Q641.61 743.856 643.948 741.75 Q646.285 739.643 646.285 736.032 Q646.285 732.421 643.948 730.314 Q641.61 728.208 637.605 728.208 Q635.73 728.208 633.855 728.625 Q632.003 729.041 630.059 729.921 L630.059 712.56 Z\" fill=\"#000000\" fill-rule=\"evenodd\" fill-opacity=\"1\" /><path clip-path=\"url(#clip380)\" d=\"M 0 0 M679.186 715.639 Q675.575 715.639 673.746 719.203 Q671.941 722.745 671.941 729.875 Q671.941 736.981 673.746 740.546 Q675.575 744.087 679.186 744.087 Q682.82 744.087 684.626 740.546 Q686.454 736.981 686.454 729.875 Q686.454 722.745 684.626 719.203 Q682.82 715.639 679.186 715.639 M679.186 711.935 Q684.996 711.935 688.052 716.541 Q691.13 721.125 691.13 729.875 Q691.13 738.601 688.052 743.208 Q684.996 747.791 679.186 747.791 Q673.376 747.791 670.297 743.208 Q667.242 738.601 667.242 729.875 Q667.242 721.125 670.297 716.541 Q673.376 711.935 679.186 711.935 Z\" fill=\"#000000\" fill-rule=\"evenodd\" fill-opacity=\"1\" /><path clip-path=\"url(#clip380)\" d=\"M 0 0 M696.2 741.24 L701.084 741.24 L701.084 747.12 L696.2 747.12 L696.2 741.24 Z\" fill=\"#000000\" fill-rule=\"evenodd\" fill-opacity=\"1\" /><path clip-path=\"url(#clip380)\" d=\"M 0 0 M706.2 712.56 L724.556 712.56 L724.556 716.495 L710.482 716.495 L710.482 724.967 Q711.501 724.62 712.519 724.458 Q713.538 724.273 714.556 724.273 Q720.343 724.273 723.723 727.444 Q727.102 730.615 727.102 736.032 Q727.102 741.611 723.63 744.712 Q720.158 747.791 713.839 747.791 Q711.663 747.791 709.394 747.421 Q707.149 747.05 704.741 746.31 L704.741 741.611 Q706.825 742.745 709.047 743.3 Q711.269 743.856 713.746 743.856 Q717.751 743.856 720.088 741.75 Q722.426 739.643 722.426 736.032 Q722.426 732.421 720.088 730.314 Q717.751 728.208 713.746 728.208 Q711.871 728.208 709.996 728.625 Q708.144 729.041 706.2 729.921 L706.2 712.56 Z\" fill=\"#000000\" fill-rule=\"evenodd\" fill-opacity=\"1\" /><path clip-path=\"url(#clip380)\" d=\"M 0 0 M730.991 712.56 L753.213 712.56 L753.213 714.551 L740.667 747.12 L735.783 747.12 L747.588 716.495 L730.991 716.495 L730.991 712.56 Z\" fill=\"#000000\" fill-rule=\"evenodd\" fill-opacity=\"1\" /><path clip-path=\"url(#clip380)\" d=\"M 0 0 M759.093 743.185 L766.732 743.185 L766.732 716.819 L758.422 718.486 L758.422 714.227 L766.685 712.56 L771.361 712.56 L771.361 743.185 L779 743.185 L779 747.12 L759.093 747.12 L759.093 743.185 Z\" fill=\"#000000\" fill-rule=\"evenodd\" fill-opacity=\"1\" /><path clip-path=\"url(#clip380)\" d=\"M 0 0 M784.116 712.56 L802.472 712.56 L802.472 716.495 L788.398 716.495 L788.398 724.967 Q789.417 724.62 790.435 724.458 Q791.454 724.273 792.472 724.273 Q798.259 724.273 801.639 727.444 Q805.019 730.615 805.019 736.032 Q805.019 741.611 801.546 744.712 Q798.074 747.791 791.755 747.791 Q789.579 747.791 787.31 747.421 Q785.065 747.05 782.658 746.31 L782.658 741.611 Q784.741 742.745 786.963 743.3 Q789.185 743.856 791.662 743.856 Q795.667 743.856 798.005 741.75 Q800.343 739.643 800.343 736.032 Q800.343 732.421 798.005 730.314 Q795.667 728.208 791.662 728.208 Q789.787 728.208 787.912 728.625 Q786.06 729.041 784.116 729.921 L784.116 712.56 Z\" fill=\"#000000\" fill-rule=\"evenodd\" fill-opacity=\"1\" /><path clip-path=\"url(#clip380)\" d=\"M 0 0 M820.088 715.639 Q816.477 715.639 814.648 719.203 Q812.843 722.745 812.843 729.875 Q812.843 736.981 814.648 740.546 Q816.477 744.087 820.088 744.087 Q823.722 744.087 825.528 740.546 Q827.356 736.981 827.356 729.875 Q827.356 722.745 825.528 719.203 Q823.722 715.639 820.088 715.639 M820.088 711.935 Q825.898 711.935 828.954 716.541 Q832.032 721.125 832.032 729.875 Q832.032 738.601 828.954 743.208 Q825.898 747.791 820.088 747.791 Q814.278 747.791 811.199 743.208 Q808.144 738.601 808.144 729.875 Q808.144 721.125 811.199 716.541 Q814.278 711.935 820.088 711.935 Z\" fill=\"#000000\" fill-rule=\"evenodd\" fill-opacity=\"1\" /><path clip-path=\"url(#clip380)\" d=\"M 0 0 M859.91 715.639 Q856.299 715.639 854.47 719.203 Q852.664 722.745 852.664 729.875 Q852.664 736.981 854.47 740.546 Q856.299 744.087 859.91 744.087 Q863.544 744.087 865.349 740.546 Q867.178 736.981 867.178 729.875 Q867.178 722.745 865.349 719.203 Q863.544 715.639 859.91 715.639 M859.91 711.935 Q865.72 711.935 868.775 716.541 Q871.854 721.125 871.854 729.875 Q871.854 738.601 868.775 743.208 Q865.72 747.791 859.91 747.791 Q854.099 747.791 851.021 743.208 Q847.965 738.601 847.965 729.875 Q847.965 721.125 851.021 716.541 Q854.099 711.935 859.91 711.935 Z\" fill=\"#000000\" fill-rule=\"evenodd\" fill-opacity=\"1\" /><path clip-path=\"url(#clip380)\" d=\"M 0 0 M876.923 741.24 L881.808 741.24 L881.808 747.12 L876.923 747.12 L876.923 741.24 Z\" fill=\"#000000\" fill-rule=\"evenodd\" fill-opacity=\"1\" /><path clip-path=\"url(#clip380)\" d=\"M 0 0 M886.923 712.56 L905.28 712.56 L905.28 716.495 L891.206 716.495 L891.206 724.967 Q892.224 724.62 893.243 724.458 Q894.261 724.273 895.28 724.273 Q901.067 724.273 904.446 727.444 Q907.826 730.615 907.826 736.032 Q907.826 741.611 904.354 744.712 Q900.882 747.791 894.562 747.791 Q892.386 747.791 890.118 747.421 Q887.872 747.05 885.465 746.31 L885.465 741.611 Q887.548 742.745 889.771 743.3 Q891.993 743.856 894.47 743.856 Q898.474 743.856 900.812 741.75 Q903.15 739.643 903.15 736.032 Q903.15 732.421 900.812 730.314 Q898.474 728.208 894.47 728.208 Q892.595 728.208 890.72 728.625 Q888.868 729.041 886.923 729.921 L886.923 712.56 Z\" fill=\"#000000\" fill-rule=\"evenodd\" fill-opacity=\"1\" /><path clip-path=\"url(#clip380)\" d=\"M 0 0 M911.715 712.56 L933.937 712.56 L933.937 714.551 L921.391 747.12 L916.507 747.12 L928.312 716.495 L911.715 716.495 L911.715 712.56 Z\" fill=\"#000000\" fill-rule=\"evenodd\" fill-opacity=\"1\" /><path clip-path=\"url(#clip380)\" d=\"M 0 0 M939.817 743.185 L947.455 743.185 L947.455 716.819 L939.145 718.486 L939.145 714.227 L947.409 712.56 L952.085 712.56 L952.085 743.185 L959.724 743.185 L959.724 747.12 L939.817 747.12 L939.817 743.185 Z\" fill=\"#000000\" fill-rule=\"evenodd\" fill-opacity=\"1\" /><path clip-path=\"url(#clip380)\" d=\"M 0 0 M963.613 712.56 L985.835 712.56 L985.835 714.551 L973.289 747.12 L968.404 747.12 L980.21 716.495 L963.613 716.495 L963.613 712.56 Z\" fill=\"#000000\" fill-rule=\"evenodd\" fill-opacity=\"1\" /><path clip-path=\"url(#clip380)\" d=\"M 0 0 M990.951 712.56 L1009.31 712.56 L1009.31 716.495 L995.233 716.495 L995.233 724.967 Q996.251 724.62 997.27 724.458 Q998.289 724.273 999.307 724.273 Q1005.09 724.273 1008.47 727.444 Q1011.85 730.615 1011.85 736.032 Q1011.85 741.611 1008.38 744.712 Q1004.91 747.791 998.589 747.791 Q996.414 747.791 994.145 747.421 Q991.9 747.05 989.492 746.31 L989.492 741.611 Q991.576 742.745 993.798 743.3 Q996.02 743.856 998.497 743.856 Q1002.5 743.856 1004.84 741.75 Q1007.18 739.643 1007.18 736.032 Q1007.18 732.421 1004.84 730.314 Q1002.5 728.208 998.497 728.208 Q996.622 728.208 994.747 728.625 Q992.895 729.041 990.951 729.921 L990.951 712.56 Z\" fill=\"#000000\" fill-rule=\"evenodd\" fill-opacity=\"1\" /><path clip-path=\"url(#clip380)\" d=\"M 0 0 M1039.42 715.639 Q1035.81 715.639 1033.98 719.203 Q1032.17 722.745 1032.17 729.875 Q1032.17 736.981 1033.98 740.546 Q1035.81 744.087 1039.42 744.087 Q1043.05 744.087 1044.86 740.546 Q1046.69 736.981 1046.69 729.875 Q1046.69 722.745 1044.86 719.203 Q1043.05 715.639 1039.42 715.639 M1039.42 711.935 Q1045.23 711.935 1048.28 716.541 Q1051.36 721.125 1051.36 729.875 Q1051.36 738.601 1048.28 743.208 Q1045.23 747.791 1039.42 747.791 Q1033.61 747.791 1030.53 743.208 Q1027.47 738.601 1027.47 729.875 Q1027.47 721.125 1030.53 716.541 Q1033.61 711.935 1039.42 711.935 Z\" fill=\"#000000\" fill-rule=\"evenodd\" fill-opacity=\"1\" /><path clip-path=\"url(#clip380)\" d=\"M 0 0 M1056.43 741.24 L1061.32 741.24 L1061.32 747.12 L1056.43 747.12 L1056.43 741.24 Z\" fill=\"#000000\" fill-rule=\"evenodd\" fill-opacity=\"1\" /><path clip-path=\"url(#clip380)\" d=\"M 0 0 M1066.43 712.56 L1084.79 712.56 L1084.79 716.495 L1070.71 716.495 L1070.71 724.967 Q1071.73 724.62 1072.75 724.458 Q1073.77 724.273 1074.79 724.273 Q1080.58 724.273 1083.95 727.444 Q1087.33 730.615 1087.33 736.032 Q1087.33 741.611 1083.86 744.712 Q1080.39 747.791 1074.07 747.791 Q1071.89 747.791 1069.63 747.421 Q1067.38 747.05 1064.97 746.31 L1064.97 741.611 Q1067.06 742.745 1069.28 743.3 Q1071.5 743.856 1073.98 743.856 Q1077.98 743.856 1080.32 741.75 Q1082.66 739.643 1082.66 736.032 Q1082.66 732.421 1080.32 730.314 Q1077.98 728.208 1073.98 728.208 Q1072.1 728.208 1070.23 728.625 Q1068.38 729.041 1066.43 729.921 L1066.43 712.56 Z\" fill=\"#000000\" fill-rule=\"evenodd\" fill-opacity=\"1\" /><path clip-path=\"url(#clip380)\" d=\"M 0 0 M1091.22 712.56 L1113.45 712.56 L1113.45 714.551 L1100.9 747.12 L1096.01 747.12 L1107.82 716.495 L1091.22 716.495 L1091.22 712.56 Z\" fill=\"#000000\" fill-rule=\"evenodd\" fill-opacity=\"1\" /><path clip-path=\"url(#clip380)\" d=\"M 0 0 M1122.54 743.185 L1138.86 743.185 L1138.86 747.12 L1116.92 747.12 L1116.92 743.185 Q1119.58 740.43 1124.16 735.8 Q1128.77 731.148 1129.95 729.805 Q1132.2 727.282 1133.07 725.546 Q1133.98 723.787 1133.98 722.097 Q1133.98 719.342 1132.03 717.606 Q1130.11 715.87 1127.01 715.87 Q1124.81 715.87 1122.36 716.634 Q1119.93 717.398 1117.15 718.949 L1117.15 714.227 Q1119.97 713.092 1122.43 712.514 Q1124.88 711.935 1126.92 711.935 Q1132.29 711.935 1135.48 714.62 Q1138.68 717.305 1138.68 721.796 Q1138.68 723.926 1137.87 725.847 Q1137.08 727.745 1134.97 730.338 Q1134.39 731.009 1131.29 734.226 Q1128.19 737.421 1122.54 743.185 Z\" fill=\"#000000\" fill-rule=\"evenodd\" fill-opacity=\"1\" /><path clip-path=\"url(#clip380)\" d=\"M 0 0 M1153.93 715.639 Q1150.32 715.639 1148.49 719.203 Q1146.69 722.745 1146.69 729.875 Q1146.69 736.981 1148.49 740.546 Q1150.32 744.087 1153.93 744.087 Q1157.57 744.087 1159.37 740.546 Q1161.2 736.981 1161.2 729.875 Q1161.2 722.745 1159.37 719.203 Q1157.57 715.639 1153.93 715.639 M1153.93 711.935 Q1159.74 711.935 1162.8 716.541 Q1165.88 721.125 1165.88 729.875 Q1165.88 738.601 1162.8 743.208 Q1159.74 747.791 1153.93 747.791 Q1148.12 747.791 1145.04 743.208 Q1141.99 738.601 1141.99 729.875 Q1141.99 721.125 1145.04 716.541 Q1148.12 711.935 1153.93 711.935 Z\" fill=\"#000000\" fill-rule=\"evenodd\" fill-opacity=\"1\" /><path clip-path=\"url(#clip380)\" d=\"M 0 0 M1180.95 715.639 Q1177.33 715.639 1175.51 719.203 Q1173.7 722.745 1173.7 729.875 Q1173.7 736.981 1175.51 740.546 Q1177.33 744.087 1180.95 744.087 Q1184.58 744.087 1186.38 740.546 Q1188.21 736.981 1188.21 729.875 Q1188.21 722.745 1186.38 719.203 Q1184.58 715.639 1180.95 715.639 M1180.95 711.935 Q1186.76 711.935 1189.81 716.541 Q1192.89 721.125 1192.89 729.875 Q1192.89 738.601 1189.81 743.208 Q1186.76 747.791 1180.95 747.791 Q1175.13 747.791 1172.06 743.208 Q1169 738.601 1169 729.875 Q1169 721.125 1172.06 716.541 Q1175.13 711.935 1180.95 711.935 Z\" fill=\"#000000\" fill-rule=\"evenodd\" fill-opacity=\"1\" /><polyline clip-path=\"url(#clip382)\" style=\"stroke:#000000; stroke-width:2; stroke-opacity:0.1; fill:none\" points=\"\n",
       "  279.17,670.547 1152.76,670.547 \n",
       "  \"/>\n",
       "<polyline clip-path=\"url(#clip382)\" style=\"stroke:#000000; stroke-width:2; stroke-opacity:0.1; fill:none\" points=\"\n",
       "  279.17,489.091 1152.76,489.091 \n",
       "  \"/>\n",
       "<polyline clip-path=\"url(#clip382)\" style=\"stroke:#000000; stroke-width:2; stroke-opacity:0.1; fill:none\" points=\"\n",
       "  279.17,307.634 1152.76,307.634 \n",
       "  \"/>\n",
       "<polyline clip-path=\"url(#clip382)\" style=\"stroke:#000000; stroke-width:2; stroke-opacity:0.1; fill:none\" points=\"\n",
       "  279.17,126.177 1152.76,126.177 \n",
       "  \"/>\n",
       "<polyline clip-path=\"url(#clip380)\" style=\"stroke:#000000; stroke-width:4; stroke-opacity:1; fill:none\" points=\"\n",
       "  279.17,686.448 279.17,123.472 \n",
       "  \"/>\n",
       "<polyline clip-path=\"url(#clip380)\" style=\"stroke:#000000; stroke-width:4; stroke-opacity:1; fill:none\" points=\"\n",
       "  279.17,670.547 289.653,670.547 \n",
       "  \"/>\n",
       "<polyline clip-path=\"url(#clip380)\" style=\"stroke:#000000; stroke-width:4; stroke-opacity:1; fill:none\" points=\"\n",
       "  279.17,489.091 289.653,489.091 \n",
       "  \"/>\n",
       "<polyline clip-path=\"url(#clip380)\" style=\"stroke:#000000; stroke-width:4; stroke-opacity:1; fill:none\" points=\"\n",
       "  279.17,307.634 289.653,307.634 \n",
       "  \"/>\n",
       "<polyline clip-path=\"url(#clip380)\" style=\"stroke:#000000; stroke-width:4; stroke-opacity:1; fill:none\" points=\"\n",
       "  279.17,126.177 289.653,126.177 \n",
       "  \"/>\n",
       "<path clip-path=\"url(#clip380)\" d=\"M 0 0 M64.2096 675.131 Q61.0615 675.131 59.2097 677.284 Q57.381 679.437 57.381 683.187 Q57.381 686.914 59.2097 689.09 Q61.0615 691.242 64.2096 691.242 Q67.3578 691.242 69.1865 689.09 Q71.0383 686.914 71.0383 683.187 Q71.0383 679.437 69.1865 677.284 Q67.3578 675.131 64.2096 675.131 M73.492 660.479 L73.492 664.738 Q71.7328 663.905 69.9272 663.465 Q68.1448 663.025 66.3856 663.025 Q61.756 663.025 59.3023 666.15 Q56.8717 669.275 56.5245 675.594 Q57.8902 673.581 59.9504 672.516 Q62.0106 671.428 64.4874 671.428 Q69.6957 671.428 72.705 674.599 Q75.7374 677.747 75.7374 683.187 Q75.7374 688.511 72.5892 691.729 Q69.4411 694.946 64.2096 694.946 Q58.2143 694.946 55.043 690.363 Q51.8718 685.756 51.8718 677.03 Q51.8718 668.835 55.7606 663.974 Q59.6495 659.09 66.2004 659.09 Q67.9596 659.09 69.742 659.437 Q71.5476 659.784 73.492 660.479 Z\" fill=\"#000000\" fill-rule=\"evenodd\" fill-opacity=\"1\" /><path clip-path=\"url(#clip380)\" d=\"M 0 0 M80.8068 688.395 L85.691 688.395 L85.691 694.275 L80.8068 694.275 L80.8068 688.395 Z\" fill=\"#000000\" fill-rule=\"evenodd\" fill-opacity=\"1\" /><path clip-path=\"url(#clip380)\" d=\"M 0 0 M89.5799 659.715 L111.802 659.715 L111.802 661.706 L99.2558 694.275 L94.3715 694.275 L106.177 663.65 L89.5799 663.65 L89.5799 659.715 Z\" fill=\"#000000\" fill-rule=\"evenodd\" fill-opacity=\"1\" /><path clip-path=\"url(#clip380)\" d=\"M 0 0 M145.043 668.812 L134.464 679.437 L145.043 690.016 L142.288 692.817 L131.663 682.192 L121.038 692.817 L118.307 690.016 L128.862 679.437 L118.307 668.812 L121.038 666.011 L131.663 676.636 L142.288 666.011 L145.043 668.812 Z\" fill=\"#000000\" fill-rule=\"evenodd\" fill-opacity=\"1\" /><path clip-path=\"url(#clip380)\" d=\"M 0 0 M150.922 690.34 L158.561 690.34 L158.561 663.974 L150.251 665.641 L150.251 661.382 L158.515 659.715 L163.191 659.715 L163.191 690.34 L170.829 690.34 L170.829 694.275 L150.922 694.275 L150.922 690.34 Z\" fill=\"#000000\" fill-rule=\"evenodd\" fill-opacity=\"1\" /><path clip-path=\"url(#clip380)\" d=\"M 0 0 M185.899 662.794 Q182.288 662.794 180.459 666.358 Q178.653 669.9 178.653 677.03 Q178.653 684.136 180.459 687.701 Q182.288 691.242 185.899 691.242 Q189.533 691.242 191.339 687.701 Q193.167 684.136 193.167 677.03 Q193.167 669.9 191.339 666.358 Q189.533 662.794 185.899 662.794 M185.899 659.09 Q191.709 659.09 194.765 663.696 Q197.843 668.28 197.843 677.03 Q197.843 685.756 194.765 690.363 Q191.709 694.946 185.899 694.946 Q180.089 694.946 177.01 690.363 Q173.954 685.756 173.954 677.03 Q173.954 668.28 177.01 663.696 Q180.089 659.09 185.899 659.09 Z\" fill=\"#000000\" fill-rule=\"evenodd\" fill-opacity=\"1\" /><path clip-path=\"url(#clip380)\" d=\"M 0 0 M197.843 653.191 L221.955 653.191 L221.955 656.389 L197.843 656.389 L197.843 653.191 Z\" fill=\"#000000\" fill-rule=\"evenodd\" fill-opacity=\"1\" /><path clip-path=\"url(#clip380)\" d=\"M 0 0 M225.114 638.784 L243.17 638.784 L243.17 640.402 L232.976 666.864 L229.008 666.864 L238.6 641.982 L225.114 641.982 L225.114 638.784 Z\" fill=\"#000000\" fill-rule=\"evenodd\" fill-opacity=\"1\" /><path clip-path=\"url(#clip380)\" d=\"M 0 0 M63.3995 493.675 Q60.2513 493.675 58.3995 495.828 Q56.5708 497.98 56.5708 501.73 Q56.5708 505.457 58.3995 507.633 Q60.2513 509.786 63.3995 509.786 Q66.5476 509.786 68.3763 507.633 Q70.2281 505.457 70.2281 501.73 Q70.2281 497.98 68.3763 495.828 Q66.5476 493.675 63.3995 493.675 M72.6818 479.022 L72.6818 483.281 Q70.9226 482.448 69.117 482.008 Q67.3346 481.568 65.5754 481.568 Q60.9458 481.568 58.4921 484.693 Q56.0615 487.818 55.7143 494.138 Q57.0801 492.124 59.1402 491.059 Q61.2004 489.971 63.6772 489.971 Q68.8855 489.971 71.8948 493.142 Q74.9272 496.29 74.9272 501.73 Q74.9272 507.054 71.7791 510.272 Q68.6309 513.489 63.3995 513.489 Q57.4041 513.489 54.2328 508.906 Q51.0616 504.3 51.0616 495.573 Q51.0616 487.378 54.9504 482.517 Q58.8393 477.633 65.3902 477.633 Q67.1494 477.633 68.9318 477.98 Q70.7374 478.328 72.6818 479.022 Z\" fill=\"#000000\" fill-rule=\"evenodd\" fill-opacity=\"1\" /><path clip-path=\"url(#clip380)\" d=\"M 0 0 M79.9966 506.939 L84.8808 506.939 L84.8808 512.818 L79.9966 512.818 L79.9966 506.939 Z\" fill=\"#000000\" fill-rule=\"evenodd\" fill-opacity=\"1\" /><path clip-path=\"url(#clip380)\" d=\"M 0 0 M99.9502 496.406 Q96.6169 496.406 94.6956 498.189 Q92.7975 499.971 92.7975 503.096 Q92.7975 506.221 94.6956 508.003 Q96.6169 509.786 99.9502 509.786 Q103.284 509.786 105.205 508.003 Q107.126 506.198 107.126 503.096 Q107.126 499.971 105.205 498.189 Q103.307 496.406 99.9502 496.406 M95.2743 494.415 Q92.2651 493.675 90.5752 491.615 Q88.9086 489.554 88.9086 486.591 Q88.9086 482.448 91.8484 480.041 Q94.8113 477.633 99.9502 477.633 Q105.112 477.633 108.052 480.041 Q110.992 482.448 110.992 486.591 Q110.992 489.554 109.302 491.615 Q107.635 493.675 104.649 494.415 Q108.029 495.203 109.904 497.494 Q111.802 499.786 111.802 503.096 Q111.802 508.119 108.723 510.804 Q105.668 513.489 99.9502 513.489 Q94.2326 513.489 91.1539 510.804 Q88.0984 508.119 88.0984 503.096 Q88.0984 499.786 89.9965 497.494 Q91.8947 495.203 95.2743 494.415 M93.5613 487.031 Q93.5613 489.716 95.228 491.221 Q96.9178 492.726 99.9502 492.726 Q102.959 492.726 104.649 491.221 Q106.362 489.716 106.362 487.031 Q106.362 484.346 104.649 482.841 Q102.959 481.337 99.9502 481.337 Q96.9178 481.337 95.228 482.841 Q93.5613 484.346 93.5613 487.031 Z\" fill=\"#000000\" fill-rule=\"evenodd\" fill-opacity=\"1\" /><path clip-path=\"url(#clip380)\" d=\"M 0 0 M145.043 487.355 L134.464 497.98 L145.043 508.559 L142.288 511.36 L131.663 500.735 L121.038 511.36 L118.307 508.559 L128.862 497.98 L118.307 487.355 L121.038 484.554 L131.663 495.179 L142.288 484.554 L145.043 487.355 Z\" fill=\"#000000\" fill-rule=\"evenodd\" fill-opacity=\"1\" /><path clip-path=\"url(#clip380)\" d=\"M 0 0 M150.922 508.883 L158.561 508.883 L158.561 482.517 L150.251 484.184 L150.251 479.925 L158.515 478.258 L163.191 478.258 L163.191 508.883 L170.829 508.883 L170.829 512.818 L150.922 512.818 L150.922 508.883 Z\" fill=\"#000000\" fill-rule=\"evenodd\" fill-opacity=\"1\" /><path clip-path=\"url(#clip380)\" d=\"M 0 0 M185.899 481.337 Q182.288 481.337 180.459 484.902 Q178.653 488.443 178.653 495.573 Q178.653 502.679 180.459 506.244 Q182.288 509.786 185.899 509.786 Q189.533 509.786 191.339 506.244 Q193.167 502.679 193.167 495.573 Q193.167 488.443 191.339 484.902 Q189.533 481.337 185.899 481.337 M185.899 477.633 Q191.709 477.633 194.765 482.24 Q197.843 486.823 197.843 495.573 Q197.843 504.3 194.765 508.906 Q191.709 513.489 185.899 513.489 Q180.089 513.489 177.01 508.906 Q173.954 504.3 173.954 495.573 Q173.954 486.823 177.01 482.24 Q180.089 477.633 185.899 477.633 Z\" fill=\"#000000\" fill-rule=\"evenodd\" fill-opacity=\"1\" /><path clip-path=\"url(#clip380)\" d=\"M 0 0 M197.843 471.735 L221.955 471.735 L221.955 474.932 L197.843 474.932 L197.843 471.735 Z\" fill=\"#000000\" fill-rule=\"evenodd\" fill-opacity=\"1\" /><path clip-path=\"url(#clip380)\" d=\"M 0 0 M225.114 457.328 L243.17 457.328 L243.17 458.945 L232.976 485.408 L229.008 485.408 L238.6 460.525 L225.114 460.525 L225.114 457.328 Z\" fill=\"#000000\" fill-rule=\"evenodd\" fill-opacity=\"1\" /><path clip-path=\"url(#clip380)\" d=\"M 0 0 M63.4921 312.218 Q60.3439 312.218 58.4921 314.371 Q56.6634 316.524 56.6634 320.274 Q56.6634 324 58.4921 326.176 Q60.3439 328.329 63.4921 328.329 Q66.6402 328.329 68.4689 326.176 Q70.3207 324 70.3207 320.274 Q70.3207 316.524 68.4689 314.371 Q66.6402 312.218 63.4921 312.218 M72.7744 297.565 L72.7744 301.825 Q71.0152 300.991 69.2096 300.551 Q67.4272 300.112 65.668 300.112 Q61.0384 300.112 58.5847 303.237 Q56.1541 306.362 55.8069 312.681 Q57.1726 310.667 59.2328 309.602 Q61.293 308.514 63.7698 308.514 Q68.9781 308.514 71.9874 311.686 Q75.0198 314.834 75.0198 320.274 Q75.0198 325.598 71.8716 328.815 Q68.7235 332.033 63.4921 332.033 Q57.4967 332.033 54.3254 327.449 Q51.1542 322.843 51.1542 314.116 Q51.1542 305.922 55.043 301.061 Q58.9319 296.176 65.4828 296.176 Q67.242 296.176 69.0244 296.524 Q70.83 296.871 72.7744 297.565 Z\" fill=\"#000000\" fill-rule=\"evenodd\" fill-opacity=\"1\" /><path clip-path=\"url(#clip380)\" d=\"M 0 0 M80.0892 325.482 L84.9734 325.482 L84.9734 331.361 L80.0892 331.361 L80.0892 325.482 Z\" fill=\"#000000\" fill-rule=\"evenodd\" fill-opacity=\"1\" /><path clip-path=\"url(#clip380)\" d=\"M 0 0 M90.1817 330.644 L90.1817 326.385 Q91.941 327.218 93.7465 327.658 Q95.5521 328.098 97.2882 328.098 Q101.918 328.098 104.348 324.996 Q106.802 321.871 107.149 315.528 Q105.807 317.519 103.746 318.584 Q101.686 319.649 99.1863 319.649 Q94.0012 319.649 90.9688 316.524 Q87.9595 313.375 87.9595 307.936 Q87.9595 302.612 91.1077 299.394 Q94.2558 296.176 99.4872 296.176 Q105.483 296.176 108.631 300.783 Q111.802 305.366 111.802 314.116 Q111.802 322.287 107.913 327.172 Q104.047 332.033 97.4965 332.033 Q95.7373 332.033 93.9317 331.686 Q92.1262 331.338 90.1817 330.644 M99.4872 315.991 Q102.635 315.991 104.464 313.838 Q106.316 311.686 106.316 307.936 Q106.316 304.209 104.464 302.056 Q102.635 299.88 99.4872 299.88 Q96.3391 299.88 94.4873 302.056 Q92.6586 304.209 92.6586 307.936 Q92.6586 311.686 94.4873 313.838 Q96.3391 315.991 99.4872 315.991 Z\" fill=\"#000000\" fill-rule=\"evenodd\" fill-opacity=\"1\" /><path clip-path=\"url(#clip380)\" d=\"M 0 0 M145.043 305.899 L134.464 316.524 L145.043 327.102 L142.288 329.903 L131.663 319.278 L121.038 329.903 L118.307 327.102 L128.862 316.524 L118.307 305.899 L121.038 303.098 L131.663 313.723 L142.288 303.098 L145.043 305.899 Z\" fill=\"#000000\" fill-rule=\"evenodd\" fill-opacity=\"1\" /><path clip-path=\"url(#clip380)\" d=\"M 0 0 M150.922 327.426 L158.561 327.426 L158.561 301.061 L150.251 302.727 L150.251 298.468 L158.515 296.801 L163.191 296.801 L163.191 327.426 L170.829 327.426 L170.829 331.361 L150.922 331.361 L150.922 327.426 Z\" fill=\"#000000\" fill-rule=\"evenodd\" fill-opacity=\"1\" /><path clip-path=\"url(#clip380)\" d=\"M 0 0 M185.899 299.88 Q182.288 299.88 180.459 303.445 Q178.653 306.987 178.653 314.116 Q178.653 321.223 180.459 324.787 Q182.288 328.329 185.899 328.329 Q189.533 328.329 191.339 324.787 Q193.167 321.223 193.167 314.116 Q193.167 306.987 191.339 303.445 Q189.533 299.88 185.899 299.88 M185.899 296.176 Q191.709 296.176 194.765 300.783 Q197.843 305.366 197.843 314.116 Q197.843 322.843 194.765 327.449 Q191.709 332.033 185.899 332.033 Q180.089 332.033 177.01 327.449 Q173.954 322.843 173.954 314.116 Q173.954 305.366 177.01 300.783 Q180.089 296.176 185.899 296.176 Z\" fill=\"#000000\" fill-rule=\"evenodd\" fill-opacity=\"1\" /><path clip-path=\"url(#clip380)\" d=\"M 0 0 M197.843 290.278 L221.955 290.278 L221.955 293.475 L197.843 293.475 L197.843 290.278 Z\" fill=\"#000000\" fill-rule=\"evenodd\" fill-opacity=\"1\" /><path clip-path=\"url(#clip380)\" d=\"M 0 0 M225.114 275.871 L243.17 275.871 L243.17 277.489 L232.976 303.951 L229.008 303.951 L238.6 279.068 L225.114 279.068 L225.114 275.871 Z\" fill=\"#000000\" fill-rule=\"evenodd\" fill-opacity=\"1\" /><path clip-path=\"url(#clip380)\" d=\"M 0 0 M52.6125 115.345 L74.8346 115.345 L74.8346 117.336 L62.2884 149.905 L57.4041 149.905 L69.2096 119.28 L52.6125 119.28 L52.6125 115.345 Z\" fill=\"#000000\" fill-rule=\"evenodd\" fill-opacity=\"1\" /><path clip-path=\"url(#clip380)\" d=\"M 0 0 M79.904 144.025 L84.7882 144.025 L84.7882 149.905 L79.904 149.905 L79.904 144.025 Z\" fill=\"#000000\" fill-rule=\"evenodd\" fill-opacity=\"1\" /><path clip-path=\"url(#clip380)\" d=\"M 0 0 M99.8576 118.423 Q96.2465 118.423 94.4178 121.988 Q92.6123 125.53 92.6123 132.66 Q92.6123 139.766 94.4178 143.331 Q96.2465 146.872 99.8576 146.872 Q103.492 146.872 105.297 143.331 Q107.126 139.766 107.126 132.66 Q107.126 125.53 105.297 121.988 Q103.492 118.423 99.8576 118.423 M99.8576 114.72 Q105.668 114.72 108.723 119.326 Q111.802 123.91 111.802 132.66 Q111.802 141.386 108.723 145.993 Q105.668 150.576 99.8576 150.576 Q94.0475 150.576 90.9688 145.993 Q87.9132 141.386 87.9132 132.66 Q87.9132 123.91 90.9688 119.326 Q94.0475 114.72 99.8576 114.72 Z\" fill=\"#000000\" fill-rule=\"evenodd\" fill-opacity=\"1\" /><path clip-path=\"url(#clip380)\" d=\"M 0 0 M145.043 124.442 L134.464 135.067 L145.043 145.646 L142.288 148.446 L131.663 137.822 L121.038 148.446 L118.307 145.646 L128.862 135.067 L118.307 124.442 L121.038 121.641 L131.663 132.266 L142.288 121.641 L145.043 124.442 Z\" fill=\"#000000\" fill-rule=\"evenodd\" fill-opacity=\"1\" /><path clip-path=\"url(#clip380)\" d=\"M 0 0 M150.922 145.97 L158.561 145.97 L158.561 119.604 L150.251 121.271 L150.251 117.011 L158.515 115.345 L163.191 115.345 L163.191 145.97 L170.829 145.97 L170.829 149.905 L150.922 149.905 L150.922 145.97 Z\" fill=\"#000000\" fill-rule=\"evenodd\" fill-opacity=\"1\" /><path clip-path=\"url(#clip380)\" d=\"M 0 0 M185.899 118.423 Q182.288 118.423 180.459 121.988 Q178.653 125.53 178.653 132.66 Q178.653 139.766 180.459 143.331 Q182.288 146.872 185.899 146.872 Q189.533 146.872 191.339 143.331 Q193.167 139.766 193.167 132.66 Q193.167 125.53 191.339 121.988 Q189.533 118.423 185.899 118.423 M185.899 114.72 Q191.709 114.72 194.765 119.326 Q197.843 123.91 197.843 132.66 Q197.843 141.386 194.765 145.993 Q191.709 150.576 185.899 150.576 Q180.089 150.576 177.01 145.993 Q173.954 141.386 173.954 132.66 Q173.954 123.91 177.01 119.326 Q180.089 114.72 185.899 114.72 Z\" fill=\"#000000\" fill-rule=\"evenodd\" fill-opacity=\"1\" /><path clip-path=\"url(#clip380)\" d=\"M 0 0 M197.843 108.821 L221.955 108.821 L221.955 112.018 L197.843 112.018 L197.843 108.821 Z\" fill=\"#000000\" fill-rule=\"evenodd\" fill-opacity=\"1\" /><path clip-path=\"url(#clip380)\" d=\"M 0 0 M225.114 94.4144 L243.17 94.4144 L243.17 96.0319 L232.976 122.494 L229.008 122.494 L238.6 97.6117 L225.114 97.6117 L225.114 94.4144 Z\" fill=\"#000000\" fill-rule=\"evenodd\" fill-opacity=\"1\" /><path clip-path=\"url(#clip380)\" d=\"M 0 0 M644.14 49.7694 Q635.107 49.7694 631.623 51.8354 Q628.139 53.9013 628.139 58.8839 Q628.139 62.8538 630.732 65.2034 Q633.365 67.5124 637.861 67.5124 Q644.059 67.5124 647.786 63.1374 Q651.554 58.7219 651.554 51.4303 L651.554 49.7694 L644.14 49.7694 M659.007 46.6907 L659.007 72.576 L651.554 72.576 L651.554 65.6895 Q649.001 69.8214 645.194 71.8063 Q641.386 73.7508 635.877 73.7508 Q628.909 73.7508 624.777 69.8619 Q620.686 65.9325 620.686 59.3701 Q620.686 51.7138 625.79 47.825 Q630.934 43.9361 641.102 43.9361 L651.554 43.9361 L651.554 43.2069 Q651.554 38.0623 648.151 35.2672 Q644.789 32.4315 638.672 32.4315 Q634.783 32.4315 631.096 33.3632 Q627.41 34.295 624.007 36.1584 L624.007 29.2718 Q628.099 27.692 631.947 26.9223 Q635.796 26.1121 639.441 26.1121 Q649.285 26.1121 654.146 31.2163 Q659.007 36.3204 659.007 46.6907 Z\" fill=\"#000000\" fill-rule=\"evenodd\" fill-opacity=\"1\" /><path clip-path=\"url(#clip380)\" d=\"M 0 0 M666.825 9.54393 L674.279 9.54393 L674.279 72.576 L666.825 72.576 L666.825 9.54393 Z\" fill=\"#000000\" fill-rule=\"evenodd\" fill-opacity=\"1\" /><path clip-path=\"url(#clip380)\" d=\"M 0 0 M689.308 65.7705 L689.308 89.8329 L681.814 89.8329 L681.814 27.2059 L689.308 27.2059 L689.308 34.0924 Q691.657 30.0415 695.222 28.0971 Q698.828 26.1121 703.81 26.1121 Q712.074 26.1121 717.219 32.6746 Q722.404 39.2371 722.404 49.9314 Q722.404 60.6258 717.219 67.1883 Q712.074 73.7508 703.81 73.7508 Q698.828 73.7508 695.222 71.8063 Q691.657 69.8214 689.308 65.7705 M714.667 49.9314 Q714.667 41.7081 711.264 37.0496 Q707.902 32.3505 701.987 32.3505 Q696.073 32.3505 692.67 37.0496 Q689.308 41.7081 689.308 49.9314 Q689.308 58.1548 692.67 62.8538 Q696.073 67.5124 701.987 67.5124 Q707.902 67.5124 711.264 62.8538 Q714.667 58.1548 714.667 49.9314 Z\" fill=\"#000000\" fill-rule=\"evenodd\" fill-opacity=\"1\" /><path clip-path=\"url(#clip380)\" d=\"M 0 0 M767.936 45.1919 L767.936 72.576 L760.482 72.576 L760.482 45.4349 Q760.482 38.994 757.971 35.7938 Q755.459 32.5936 750.436 32.5936 Q744.4 32.5936 740.916 36.4419 Q737.433 40.2903 737.433 46.9338 L737.433 72.576 L729.939 72.576 L729.939 9.54393 L737.433 9.54393 L737.433 34.2544 Q740.106 30.163 743.712 28.1376 Q747.357 26.1121 752.097 26.1121 Q759.915 26.1121 763.926 30.9732 Q767.936 35.7938 767.936 45.1919 Z\" fill=\"#000000\" fill-rule=\"evenodd\" fill-opacity=\"1\" /><path clip-path=\"url(#clip380)\" d=\"M 0 0 M796.373 49.7694 Q787.34 49.7694 783.856 51.8354 Q780.372 53.9013 780.372 58.8839 Q780.372 62.8538 782.965 65.2034 Q785.598 67.5124 790.094 67.5124 Q796.292 67.5124 800.019 63.1374 Q803.787 58.7219 803.787 51.4303 L803.787 49.7694 L796.373 49.7694 M811.24 46.6907 L811.24 72.576 L803.787 72.576 L803.787 65.6895 Q801.234 69.8214 797.427 71.8063 Q793.619 73.7508 788.11 73.7508 Q781.142 73.7508 777.01 69.8619 Q772.919 65.9325 772.919 59.3701 Q772.919 51.7138 778.023 47.825 Q783.167 43.9361 793.335 43.9361 L803.787 43.9361 L803.787 43.2069 Q803.787 38.0623 800.384 35.2672 Q797.022 32.4315 790.905 32.4315 Q787.016 32.4315 783.329 33.3632 Q779.643 34.295 776.24 36.1584 L776.24 29.2718 Q780.332 27.692 784.18 26.9223 Q788.028 26.1121 791.674 26.1121 Q801.518 26.1121 806.379 31.2163 Q811.24 36.3204 811.24 46.6907 Z\" fill=\"#000000\" fill-rule=\"evenodd\" fill-opacity=\"1\" /><polyline clip-path=\"url(#clip382)\" style=\"stroke:#009af9; stroke-width:4; stroke-opacity:1; fill:none\" points=\"\n",
       "  303.894,139.486 509.928,537.752 715.963,670.515 921.997,537.742 1128.03,139.405 \n",
       "  \"/>\n",
       "<polyline clip-path=\"url(#clip382)\" style=\"stroke:#e26f46; stroke-width:4; stroke-opacity:1; fill:none\" points=\"\n",
       "  715.963,1249.42 715.963,-439.504 \n",
       "  \"/>\n",
       "<path clip-path=\"url(#clip380)\" d=\"\n",
       "M1479.17 686.448 L2352.76 686.448 L2352.76 123.472 L1479.17 123.472  Z\n",
       "  \" fill=\"#ffffff\" fill-rule=\"evenodd\" fill-opacity=\"1\"/>\n",
       "<defs>\n",
       "  <clipPath id=\"clip383\">\n",
       "    <rect x=\"1479\" y=\"123\" width=\"875\" height=\"564\"/>\n",
       "  </clipPath>\n",
       "</defs>\n",
       "<polyline clip-path=\"url(#clip383)\" style=\"stroke:#000000; stroke-width:2; stroke-opacity:0.1; fill:none\" points=\"\n",
       "  1540.2,686.448 1540.2,123.472 \n",
       "  \"/>\n",
       "<polyline clip-path=\"url(#clip383)\" style=\"stroke:#000000; stroke-width:2; stroke-opacity:0.1; fill:none\" points=\"\n",
       "  1716.89,686.448 1716.89,123.472 \n",
       "  \"/>\n",
       "<polyline clip-path=\"url(#clip383)\" style=\"stroke:#000000; stroke-width:2; stroke-opacity:0.1; fill:none\" points=\"\n",
       "  1893.59,686.448 1893.59,123.472 \n",
       "  \"/>\n",
       "<polyline clip-path=\"url(#clip383)\" style=\"stroke:#000000; stroke-width:2; stroke-opacity:0.1; fill:none\" points=\"\n",
       "  2070.28,686.448 2070.28,123.472 \n",
       "  \"/>\n",
       "<polyline clip-path=\"url(#clip383)\" style=\"stroke:#000000; stroke-width:2; stroke-opacity:0.1; fill:none\" points=\"\n",
       "  2246.97,686.448 2246.97,123.472 \n",
       "  \"/>\n",
       "<polyline clip-path=\"url(#clip380)\" style=\"stroke:#000000; stroke-width:4; stroke-opacity:1; fill:none\" points=\"\n",
       "  1479.17,686.448 2352.76,686.448 \n",
       "  \"/>\n",
       "<polyline clip-path=\"url(#clip380)\" style=\"stroke:#000000; stroke-width:4; stroke-opacity:1; fill:none\" points=\"\n",
       "  1540.2,686.448 1540.2,679.692 \n",
       "  \"/>\n",
       "<polyline clip-path=\"url(#clip380)\" style=\"stroke:#000000; stroke-width:4; stroke-opacity:1; fill:none\" points=\"\n",
       "  1716.89,686.448 1716.89,679.692 \n",
       "  \"/>\n",
       "<polyline clip-path=\"url(#clip380)\" style=\"stroke:#000000; stroke-width:4; stroke-opacity:1; fill:none\" points=\"\n",
       "  1893.59,686.448 1893.59,679.692 \n",
       "  \"/>\n",
       "<polyline clip-path=\"url(#clip380)\" style=\"stroke:#000000; stroke-width:4; stroke-opacity:1; fill:none\" points=\"\n",
       "  2070.28,686.448 2070.28,679.692 \n",
       "  \"/>\n",
       "<polyline clip-path=\"url(#clip380)\" style=\"stroke:#000000; stroke-width:4; stroke-opacity:1; fill:none\" points=\"\n",
       "  2246.97,686.448 2246.97,679.692 \n",
       "  \"/>\n",
       "<path clip-path=\"url(#clip380)\" d=\"M 0 0 M1469.53 715.639 Q1465.92 715.639 1464.09 719.203 Q1462.29 722.745 1462.29 729.875 Q1462.29 736.981 1464.09 740.546 Q1465.92 744.087 1469.53 744.087 Q1473.17 744.087 1474.97 740.546 Q1476.8 736.981 1476.8 729.875 Q1476.8 722.745 1474.97 719.203 Q1473.17 715.639 1469.53 715.639 M1469.53 711.935 Q1475.34 711.935 1478.4 716.541 Q1481.48 721.125 1481.48 729.875 Q1481.48 738.601 1478.4 743.208 Q1475.34 747.791 1469.53 747.791 Q1463.72 747.791 1460.64 743.208 Q1457.59 738.601 1457.59 729.875 Q1457.59 721.125 1460.64 716.541 Q1463.72 711.935 1469.53 711.935 Z\" fill=\"#000000\" fill-rule=\"evenodd\" fill-opacity=\"1\" /><path clip-path=\"url(#clip380)\" d=\"M 0 0 M1486.54 741.24 L1491.43 741.24 L1491.43 747.12 L1486.54 747.12 L1486.54 741.24 Z\" fill=\"#000000\" fill-rule=\"evenodd\" fill-opacity=\"1\" /><path clip-path=\"url(#clip380)\" d=\"M 0 0 M1496.54 712.56 L1514.9 712.56 L1514.9 716.495 L1500.83 716.495 L1500.83 724.967 Q1501.85 724.62 1502.86 724.458 Q1503.88 724.273 1504.9 724.273 Q1510.69 724.273 1514.07 727.444 Q1517.45 730.615 1517.45 736.032 Q1517.45 741.611 1513.98 744.712 Q1510.5 747.791 1504.18 747.791 Q1502.01 747.791 1499.74 747.421 Q1497.49 747.05 1495.09 746.31 L1495.09 741.611 Q1497.17 742.745 1499.39 743.3 Q1501.61 743.856 1504.09 743.856 Q1508.1 743.856 1510.43 741.75 Q1512.77 739.643 1512.77 736.032 Q1512.77 732.421 1510.43 730.314 Q1508.1 728.208 1504.09 728.208 Q1502.22 728.208 1500.34 728.625 Q1498.49 729.041 1496.54 729.921 L1496.54 712.56 Z\" fill=\"#000000\" fill-rule=\"evenodd\" fill-opacity=\"1\" /><path clip-path=\"url(#clip380)\" d=\"M 0 0 M1532.52 730.708 Q1529.18 730.708 1527.26 732.49 Q1525.36 734.273 1525.36 737.398 Q1525.36 740.523 1527.26 742.305 Q1529.18 744.087 1532.52 744.087 Q1535.85 744.087 1537.77 742.305 Q1539.69 740.5 1539.69 737.398 Q1539.69 734.273 1537.77 732.49 Q1535.87 730.708 1532.52 730.708 M1527.84 728.717 Q1524.83 727.976 1523.14 725.916 Q1521.48 723.856 1521.48 720.893 Q1521.48 716.75 1524.41 714.342 Q1527.38 711.935 1532.52 711.935 Q1537.68 711.935 1540.62 714.342 Q1543.56 716.75 1543.56 720.893 Q1543.56 723.856 1541.87 725.916 Q1540.2 727.976 1537.22 728.717 Q1540.6 729.504 1542.47 731.796 Q1544.37 734.088 1544.37 737.398 Q1544.37 742.421 1541.29 745.106 Q1538.23 747.791 1532.52 747.791 Q1526.8 747.791 1523.72 745.106 Q1520.66 742.421 1520.66 737.398 Q1520.66 734.088 1522.56 731.796 Q1524.46 729.504 1527.84 728.717 M1526.13 721.333 Q1526.13 724.018 1527.79 725.523 Q1529.48 727.027 1532.52 727.027 Q1535.53 727.027 1537.22 725.523 Q1538.93 724.018 1538.93 721.333 Q1538.93 718.648 1537.22 717.143 Q1535.53 715.639 1532.52 715.639 Q1529.48 715.639 1527.79 717.143 Q1526.13 718.648 1526.13 721.333 Z\" fill=\"#000000\" fill-rule=\"evenodd\" fill-opacity=\"1\" /><path clip-path=\"url(#clip380)\" d=\"M 0 0 M1553.47 743.185 L1569.79 743.185 L1569.79 747.12 L1547.84 747.12 L1547.84 743.185 Q1550.5 740.43 1555.09 735.8 Q1559.69 731.148 1560.87 729.805 Q1563.12 727.282 1564 725.546 Q1564.9 723.787 1564.9 722.097 Q1564.9 719.342 1562.96 717.606 Q1561.04 715.87 1557.93 715.87 Q1555.73 715.87 1553.28 716.634 Q1550.85 717.398 1548.07 718.949 L1548.07 714.227 Q1550.9 713.092 1553.35 712.514 Q1555.8 711.935 1557.84 711.935 Q1563.21 711.935 1566.41 714.62 Q1569.6 717.305 1569.6 721.796 Q1569.6 723.926 1568.79 725.847 Q1568 727.745 1565.9 730.338 Q1565.32 731.009 1562.22 734.226 Q1559.11 737.421 1553.47 743.185 Z\" fill=\"#000000\" fill-rule=\"evenodd\" fill-opacity=\"1\" /><path clip-path=\"url(#clip380)\" d=\"M 0 0 M1574.9 712.56 L1593.26 712.56 L1593.26 716.495 L1579.18 716.495 L1579.18 724.967 Q1580.2 724.62 1581.22 724.458 Q1582.24 724.273 1583.26 724.273 Q1589.04 724.273 1592.42 727.444 Q1595.8 730.615 1595.8 736.032 Q1595.8 741.611 1592.33 744.712 Q1588.86 747.791 1582.54 747.791 Q1580.36 747.791 1578.1 747.421 Q1575.85 747.05 1573.44 746.31 L1573.44 741.611 Q1575.53 742.745 1577.75 743.3 Q1579.97 743.856 1582.45 743.856 Q1586.45 743.856 1588.79 741.75 Q1591.13 739.643 1591.13 736.032 Q1591.13 732.421 1588.79 730.314 Q1586.45 728.208 1582.45 728.208 Q1580.57 728.208 1578.7 728.625 Q1576.85 729.041 1574.9 729.921 L1574.9 712.56 Z\" fill=\"#000000\" fill-rule=\"evenodd\" fill-opacity=\"1\" /><path clip-path=\"url(#clip380)\" d=\"M 0 0 M1610.87 715.639 Q1607.26 715.639 1605.43 719.203 Q1603.63 722.745 1603.63 729.875 Q1603.63 736.981 1605.43 740.546 Q1607.26 744.087 1610.87 744.087 Q1614.51 744.087 1616.31 740.546 Q1618.14 736.981 1618.14 729.875 Q1618.14 722.745 1616.31 719.203 Q1614.51 715.639 1610.87 715.639 M1610.87 711.935 Q1616.68 711.935 1619.74 716.541 Q1622.82 721.125 1622.82 729.875 Q1622.82 738.601 1619.74 743.208 Q1616.68 747.791 1610.87 747.791 Q1605.06 747.791 1601.98 743.208 Q1598.93 738.601 1598.93 729.875 Q1598.93 721.125 1601.98 716.541 Q1605.06 711.935 1610.87 711.935 Z\" fill=\"#000000\" fill-rule=\"evenodd\" fill-opacity=\"1\" /><path clip-path=\"url(#clip380)\" d=\"M 0 0 M1646.67 715.639 Q1643.06 715.639 1641.23 719.203 Q1639.43 722.745 1639.43 729.875 Q1639.43 736.981 1641.23 740.546 Q1643.06 744.087 1646.67 744.087 Q1650.31 744.087 1652.11 740.546 Q1653.94 736.981 1653.94 729.875 Q1653.94 722.745 1652.11 719.203 Q1650.31 715.639 1646.67 715.639 M1646.67 711.935 Q1652.48 711.935 1655.54 716.541 Q1658.62 721.125 1658.62 729.875 Q1658.62 738.601 1655.54 743.208 Q1652.48 747.791 1646.67 747.791 Q1640.86 747.791 1637.79 743.208 Q1634.73 738.601 1634.73 729.875 Q1634.73 721.125 1637.79 716.541 Q1640.86 711.935 1646.67 711.935 Z\" fill=\"#000000\" fill-rule=\"evenodd\" fill-opacity=\"1\" /><path clip-path=\"url(#clip380)\" d=\"M 0 0 M1663.69 741.24 L1668.57 741.24 L1668.57 747.12 L1663.69 747.12 L1663.69 741.24 Z\" fill=\"#000000\" fill-rule=\"evenodd\" fill-opacity=\"1\" /><path clip-path=\"url(#clip380)\" d=\"M 0 0 M1673.69 712.56 L1692.04 712.56 L1692.04 716.495 L1677.97 716.495 L1677.97 724.967 Q1678.99 724.62 1680.01 724.458 Q1681.03 724.273 1682.04 724.273 Q1687.83 724.273 1691.21 727.444 Q1694.59 730.615 1694.59 736.032 Q1694.59 741.611 1691.12 744.712 Q1687.65 747.791 1681.33 747.791 Q1679.15 747.791 1676.88 747.421 Q1674.64 747.05 1672.23 746.31 L1672.23 741.611 Q1674.31 742.745 1676.54 743.3 Q1678.76 743.856 1681.23 743.856 Q1685.24 743.856 1687.58 741.75 Q1689.92 739.643 1689.92 736.032 Q1689.92 732.421 1687.58 730.314 Q1685.24 728.208 1681.23 728.208 Q1679.36 728.208 1677.48 728.625 Q1675.63 729.041 1673.69 729.921 L1673.69 712.56 Z\" fill=\"#000000\" fill-rule=\"evenodd\" fill-opacity=\"1\" /><path clip-path=\"url(#clip380)\" d=\"M 0 0 M1709.66 730.708 Q1706.33 730.708 1704.41 732.49 Q1702.51 734.273 1702.51 737.398 Q1702.51 740.523 1704.41 742.305 Q1706.33 744.087 1709.66 744.087 Q1712.99 744.087 1714.92 742.305 Q1716.84 740.5 1716.84 737.398 Q1716.84 734.273 1714.92 732.49 Q1713.02 730.708 1709.66 730.708 M1704.98 728.717 Q1701.98 727.976 1700.29 725.916 Q1698.62 723.856 1698.62 720.893 Q1698.62 716.75 1701.56 714.342 Q1704.52 711.935 1709.66 711.935 Q1714.82 711.935 1717.76 714.342 Q1720.7 716.75 1720.7 720.893 Q1720.7 723.856 1719.01 725.916 Q1717.35 727.976 1714.36 728.717 Q1717.74 729.504 1719.61 731.796 Q1721.51 734.088 1721.51 737.398 Q1721.51 742.421 1718.43 745.106 Q1715.38 747.791 1709.66 747.791 Q1703.94 747.791 1700.86 745.106 Q1697.81 742.421 1697.81 737.398 Q1697.81 734.088 1699.71 731.796 Q1701.6 729.504 1704.98 728.717 M1703.27 721.333 Q1703.27 724.018 1704.94 725.523 Q1706.63 727.027 1709.66 727.027 Q1712.67 727.027 1714.36 725.523 Q1716.07 724.018 1716.07 721.333 Q1716.07 718.648 1714.36 717.143 Q1712.67 715.639 1709.66 715.639 Q1706.63 715.639 1704.94 717.143 Q1703.27 718.648 1703.27 721.333 Z\" fill=\"#000000\" fill-rule=\"evenodd\" fill-opacity=\"1\" /><path clip-path=\"url(#clip380)\" d=\"M 0 0 M1730.61 743.185 L1746.93 743.185 L1746.93 747.12 L1724.98 747.12 L1724.98 743.185 Q1727.65 740.43 1732.23 735.8 Q1736.84 731.148 1738.02 729.805 Q1740.26 727.282 1741.14 725.546 Q1742.04 723.787 1742.04 722.097 Q1742.04 719.342 1740.1 717.606 Q1738.18 715.87 1735.08 715.87 Q1732.88 715.87 1730.42 716.634 Q1727.99 717.398 1725.22 718.949 L1725.22 714.227 Q1728.04 713.092 1730.49 712.514 Q1732.95 711.935 1734.98 711.935 Q1740.35 711.935 1743.55 714.62 Q1746.74 717.305 1746.74 721.796 Q1746.74 723.926 1745.93 725.847 Q1745.15 727.745 1743.04 730.338 Q1742.46 731.009 1739.36 734.226 Q1736.26 737.421 1730.61 743.185 Z\" fill=\"#000000\" fill-rule=\"evenodd\" fill-opacity=\"1\" /><path clip-path=\"url(#clip380)\" d=\"M 0 0 M1750.82 712.56 L1773.04 712.56 L1773.04 714.551 L1760.49 747.12 L1755.61 747.12 L1767.41 716.495 L1750.82 716.495 L1750.82 712.56 Z\" fill=\"#000000\" fill-rule=\"evenodd\" fill-opacity=\"1\" /><path clip-path=\"url(#clip380)\" d=\"M 0 0 M1778.16 712.56 L1796.51 712.56 L1796.51 716.495 L1782.44 716.495 L1782.44 724.967 Q1783.46 724.62 1784.47 724.458 Q1785.49 724.273 1786.51 724.273 Q1792.3 724.273 1795.68 727.444 Q1799.06 730.615 1799.06 736.032 Q1799.06 741.611 1795.59 744.712 Q1792.11 747.791 1785.79 747.791 Q1783.62 747.791 1781.35 747.421 Q1779.1 747.05 1776.7 746.31 L1776.7 741.611 Q1778.78 742.745 1781 743.3 Q1783.22 743.856 1785.7 743.856 Q1789.71 743.856 1792.04 741.75 Q1794.38 739.643 1794.38 736.032 Q1794.38 732.421 1792.04 730.314 Q1789.71 728.208 1785.7 728.208 Q1783.83 728.208 1781.95 728.625 Q1780.1 729.041 1778.16 729.921 L1778.16 712.56 Z\" fill=\"#000000\" fill-rule=\"evenodd\" fill-opacity=\"1\" /><path clip-path=\"url(#clip380)\" d=\"M 0 0 M1821.94 715.639 Q1818.33 715.639 1816.5 719.203 Q1814.7 722.745 1814.7 729.875 Q1814.7 736.981 1816.5 740.546 Q1818.33 744.087 1821.94 744.087 Q1825.58 744.087 1827.38 740.546 Q1829.21 736.981 1829.21 729.875 Q1829.21 722.745 1827.38 719.203 Q1825.58 715.639 1821.94 715.639 M1821.94 711.935 Q1827.75 711.935 1830.81 716.541 Q1833.89 721.125 1833.89 729.875 Q1833.89 738.601 1830.81 743.208 Q1827.75 747.791 1821.94 747.791 Q1816.13 747.791 1813.05 743.208 Q1810 738.601 1810 729.875 Q1810 721.125 1813.05 716.541 Q1816.13 711.935 1821.94 711.935 Z\" fill=\"#000000\" fill-rule=\"evenodd\" fill-opacity=\"1\" /><path clip-path=\"url(#clip380)\" d=\"M 0 0 M1838.96 741.24 L1843.84 741.24 L1843.84 747.12 L1838.96 747.12 L1838.96 741.24 Z\" fill=\"#000000\" fill-rule=\"evenodd\" fill-opacity=\"1\" /><path clip-path=\"url(#clip380)\" d=\"M 0 0 M1848.96 712.56 L1867.31 712.56 L1867.31 716.495 L1853.24 716.495 L1853.24 724.967 Q1854.26 724.62 1855.28 724.458 Q1856.3 724.273 1857.31 724.273 Q1863.1 724.273 1866.48 727.444 Q1869.86 730.615 1869.86 736.032 Q1869.86 741.611 1866.39 744.712 Q1862.92 747.791 1856.6 747.791 Q1854.42 747.791 1852.15 747.421 Q1849.91 747.05 1847.5 746.31 L1847.5 741.611 Q1849.58 742.745 1851.8 743.3 Q1854.03 743.856 1856.5 743.856 Q1860.51 743.856 1862.85 741.75 Q1865.18 739.643 1865.18 736.032 Q1865.18 732.421 1862.85 730.314 Q1860.51 728.208 1856.5 728.208 Q1854.63 728.208 1852.75 728.625 Q1850.9 729.041 1848.96 729.921 L1848.96 712.56 Z\" fill=\"#000000\" fill-rule=\"evenodd\" fill-opacity=\"1\" /><path clip-path=\"url(#clip380)\" d=\"M 0 0 M1884.93 730.708 Q1881.6 730.708 1879.67 732.49 Q1877.78 734.273 1877.78 737.398 Q1877.78 740.523 1879.67 742.305 Q1881.6 744.087 1884.93 744.087 Q1888.26 744.087 1890.18 742.305 Q1892.11 740.5 1892.11 737.398 Q1892.11 734.273 1890.18 732.49 Q1888.29 730.708 1884.93 730.708 M1880.25 728.717 Q1877.24 727.976 1875.55 725.916 Q1873.89 723.856 1873.89 720.893 Q1873.89 716.75 1876.83 714.342 Q1879.79 711.935 1884.93 711.935 Q1890.09 711.935 1893.03 714.342 Q1895.97 716.75 1895.97 720.893 Q1895.97 723.856 1894.28 725.916 Q1892.61 727.976 1889.63 728.717 Q1893.01 729.504 1894.88 731.796 Q1896.78 734.088 1896.78 737.398 Q1896.78 742.421 1893.7 745.106 Q1890.65 747.791 1884.93 747.791 Q1879.21 747.791 1876.13 745.106 Q1873.08 742.421 1873.08 737.398 Q1873.08 734.088 1874.98 731.796 Q1876.87 729.504 1880.25 728.717 M1878.54 721.333 Q1878.54 724.018 1880.21 725.523 Q1881.9 727.027 1884.93 727.027 Q1887.94 727.027 1889.63 725.523 Q1891.34 724.018 1891.34 721.333 Q1891.34 718.648 1889.63 717.143 Q1887.94 715.639 1884.93 715.639 Q1881.9 715.639 1880.21 717.143 Q1878.54 718.648 1878.54 721.333 Z\" fill=\"#000000\" fill-rule=\"evenodd\" fill-opacity=\"1\" /><path clip-path=\"url(#clip380)\" d=\"M 0 0 M1916.02 728.486 Q1919.37 729.203 1921.25 731.472 Q1923.15 733.74 1923.15 737.074 Q1923.15 742.189 1919.63 744.99 Q1916.11 747.791 1909.63 747.791 Q1907.45 747.791 1905.14 747.351 Q1902.85 746.935 1900.39 746.078 L1900.39 741.564 Q1902.34 742.699 1904.65 743.277 Q1906.97 743.856 1909.49 743.856 Q1913.89 743.856 1916.18 742.12 Q1918.49 740.384 1918.49 737.074 Q1918.49 734.018 1916.34 732.305 Q1914.21 730.569 1910.39 730.569 L1906.36 730.569 L1906.36 726.726 L1910.58 726.726 Q1914.03 726.726 1915.85 725.361 Q1917.68 723.972 1917.68 721.379 Q1917.68 718.717 1915.79 717.305 Q1913.91 715.87 1910.39 715.87 Q1908.47 715.87 1906.27 716.287 Q1904.07 716.703 1901.43 717.583 L1901.43 713.416 Q1904.1 712.676 1906.41 712.305 Q1908.75 711.935 1910.81 711.935 Q1916.13 711.935 1919.23 714.365 Q1922.34 716.773 1922.34 720.893 Q1922.34 723.764 1920.69 725.754 Q1919.05 727.722 1916.02 728.486 Z\" fill=\"#000000\" fill-rule=\"evenodd\" fill-opacity=\"1\" /><path clip-path=\"url(#clip380)\" d=\"M 0 0 M1938.22 715.639 Q1934.6 715.639 1932.78 719.203 Q1930.97 722.745 1930.97 729.875 Q1930.97 736.981 1932.78 740.546 Q1934.6 744.087 1938.22 744.087 Q1941.85 744.087 1943.66 740.546 Q1945.48 736.981 1945.48 729.875 Q1945.48 722.745 1943.66 719.203 Q1941.85 715.639 1938.22 715.639 M1938.22 711.935 Q1944.03 711.935 1947.08 716.541 Q1950.16 721.125 1950.16 729.875 Q1950.16 738.601 1947.08 743.208 Q1944.03 747.791 1938.22 747.791 Q1932.41 747.791 1929.33 743.208 Q1926.27 738.601 1926.27 729.875 Q1926.27 721.125 1929.33 716.541 Q1932.41 711.935 1938.22 711.935 Z\" fill=\"#000000\" fill-rule=\"evenodd\" fill-opacity=\"1\" /><path clip-path=\"url(#clip380)\" d=\"M 0 0 M1965.23 715.639 Q1961.62 715.639 1959.79 719.203 Q1957.98 722.745 1957.98 729.875 Q1957.98 736.981 1959.79 740.546 Q1961.62 744.087 1965.23 744.087 Q1968.86 744.087 1970.67 740.546 Q1972.5 736.981 1972.5 729.875 Q1972.5 722.745 1970.67 719.203 Q1968.86 715.639 1965.23 715.639 M1965.23 711.935 Q1971.04 711.935 1974.1 716.541 Q1977.17 721.125 1977.17 729.875 Q1977.17 738.601 1974.1 743.208 Q1971.04 747.791 1965.23 747.791 Q1959.42 747.791 1956.34 743.208 Q1953.29 738.601 1953.29 729.875 Q1953.29 721.125 1956.34 716.541 Q1959.42 711.935 1965.23 711.935 Z\" fill=\"#000000\" fill-rule=\"evenodd\" fill-opacity=\"1\" /><path clip-path=\"url(#clip380)\" d=\"M 0 0 M1999.93 715.639 Q1996.32 715.639 1994.49 719.203 Q1992.69 722.745 1992.69 729.875 Q1992.69 736.981 1994.49 740.546 Q1996.32 744.087 1999.93 744.087 Q2003.57 744.087 2005.37 740.546 Q2007.2 736.981 2007.2 729.875 Q2007.2 722.745 2005.37 719.203 Q2003.57 715.639 1999.93 715.639 M1999.93 711.935 Q2005.74 711.935 2008.8 716.541 Q2011.88 721.125 2011.88 729.875 Q2011.88 738.601 2008.8 743.208 Q2005.74 747.791 1999.93 747.791 Q1994.12 747.791 1991.04 743.208 Q1987.99 738.601 1987.99 729.875 Q1987.99 721.125 1991.04 716.541 Q1994.12 711.935 1999.93 711.935 Z\" fill=\"#000000\" fill-rule=\"evenodd\" fill-opacity=\"1\" /><path clip-path=\"url(#clip380)\" d=\"M 0 0 M2016.95 741.24 L2021.83 741.24 L2021.83 747.12 L2016.95 747.12 L2016.95 741.24 Z\" fill=\"#000000\" fill-rule=\"evenodd\" fill-opacity=\"1\" /><path clip-path=\"url(#clip380)\" d=\"M 0 0 M2026.95 712.56 L2045.3 712.56 L2045.3 716.495 L2031.23 716.495 L2031.23 724.967 Q2032.25 724.62 2033.27 724.458 Q2034.28 724.273 2035.3 724.273 Q2041.09 724.273 2044.47 727.444 Q2047.85 730.615 2047.85 736.032 Q2047.85 741.611 2044.38 744.712 Q2040.9 747.791 2034.58 747.791 Q2032.41 747.791 2030.14 747.421 Q2027.89 747.05 2025.49 746.31 L2025.49 741.611 Q2027.57 742.745 2029.79 743.3 Q2032.02 743.856 2034.49 743.856 Q2038.5 743.856 2040.83 741.75 Q2043.17 739.643 2043.17 736.032 Q2043.17 732.421 2040.83 730.314 Q2038.5 728.208 2034.49 728.208 Q2032.62 728.208 2030.74 728.625 Q2028.89 729.041 2026.95 729.921 L2026.95 712.56 Z\" fill=\"#000000\" fill-rule=\"evenodd\" fill-opacity=\"1\" /><path clip-path=\"url(#clip380)\" d=\"M 0 0 M2062.92 730.708 Q2059.58 730.708 2057.66 732.49 Q2055.76 734.273 2055.76 737.398 Q2055.76 740.523 2057.66 742.305 Q2059.58 744.087 2062.92 744.087 Q2066.25 744.087 2068.17 742.305 Q2070.09 740.5 2070.09 737.398 Q2070.09 734.273 2068.17 732.49 Q2066.27 730.708 2062.92 730.708 M2058.24 728.717 Q2055.23 727.976 2053.54 725.916 Q2051.88 723.856 2051.88 720.893 Q2051.88 716.75 2054.82 714.342 Q2057.78 711.935 2062.92 711.935 Q2068.08 711.935 2071.02 714.342 Q2073.96 716.75 2073.96 720.893 Q2073.96 723.856 2072.27 725.916 Q2070.6 727.976 2067.62 728.717 Q2071 729.504 2072.87 731.796 Q2074.77 734.088 2074.77 737.398 Q2074.77 742.421 2071.69 745.106 Q2068.64 747.791 2062.92 747.791 Q2057.2 747.791 2054.12 745.106 Q2051.07 742.421 2051.07 737.398 Q2051.07 734.088 2052.96 731.796 Q2054.86 729.504 2058.24 728.717 M2056.53 721.333 Q2056.53 724.018 2058.2 725.523 Q2059.89 727.027 2062.92 727.027 Q2065.93 727.027 2067.62 725.523 Q2069.33 724.018 2069.33 721.333 Q2069.33 718.648 2067.62 717.143 Q2065.93 715.639 2062.92 715.639 Q2059.89 715.639 2058.2 717.143 Q2056.53 718.648 2056.53 721.333 Z\" fill=\"#000000\" fill-rule=\"evenodd\" fill-opacity=\"1\" /><path clip-path=\"url(#clip380)\" d=\"M 0 0 M2094.01 728.486 Q2097.36 729.203 2099.24 731.472 Q2101.14 733.74 2101.14 737.074 Q2101.14 742.189 2097.62 744.99 Q2094.1 747.791 2087.62 747.791 Q2085.44 747.791 2083.13 747.351 Q2080.83 746.935 2078.38 746.078 L2078.38 741.564 Q2080.33 742.699 2082.64 743.277 Q2084.95 743.856 2087.48 743.856 Q2091.88 743.856 2094.17 742.12 Q2096.48 740.384 2096.48 737.074 Q2096.48 734.018 2094.33 732.305 Q2092.2 730.569 2088.38 730.569 L2084.35 730.569 L2084.35 726.726 L2088.57 726.726 Q2092.01 726.726 2093.84 725.361 Q2095.67 723.972 2095.67 721.379 Q2095.67 718.717 2093.77 717.305 Q2091.9 715.87 2088.38 715.87 Q2086.46 715.87 2084.26 716.287 Q2082.06 716.703 2079.42 717.583 L2079.42 713.416 Q2082.08 712.676 2084.4 712.305 Q2086.74 711.935 2088.8 711.935 Q2094.12 711.935 2097.22 714.365 Q2100.32 716.773 2100.32 720.893 Q2100.32 723.764 2098.68 725.754 Q2097.04 727.722 2094.01 728.486 Z\" fill=\"#000000\" fill-rule=\"evenodd\" fill-opacity=\"1\" /><path clip-path=\"url(#clip380)\" d=\"M 0 0 M2110.23 743.185 L2126.55 743.185 L2126.55 747.12 L2104.61 747.12 L2104.61 743.185 Q2107.27 740.43 2111.85 735.8 Q2116.46 731.148 2117.64 729.805 Q2119.89 727.282 2120.76 725.546 Q2121.67 723.787 2121.67 722.097 Q2121.67 719.342 2119.72 717.606 Q2117.8 715.87 2114.7 715.87 Q2112.5 715.87 2110.05 716.634 Q2107.62 717.398 2104.84 718.949 L2104.84 714.227 Q2107.66 713.092 2110.12 712.514 Q2112.57 711.935 2114.61 711.935 Q2119.98 711.935 2123.17 714.62 Q2126.37 717.305 2126.37 721.796 Q2126.37 723.926 2125.56 725.847 Q2124.77 727.745 2122.66 730.338 Q2122.08 731.009 2118.98 734.226 Q2115.88 737.421 2110.23 743.185 Z\" fill=\"#000000\" fill-rule=\"evenodd\" fill-opacity=\"1\" /><path clip-path=\"url(#clip380)\" d=\"M 0 0 M2131.67 712.56 L2150.02 712.56 L2150.02 716.495 L2135.95 716.495 L2135.95 724.967 Q2136.97 724.62 2137.99 724.458 Q2139.01 724.273 2140.02 724.273 Q2145.81 724.273 2149.19 727.444 Q2152.57 730.615 2152.57 736.032 Q2152.57 741.611 2149.1 744.712 Q2145.63 747.791 2139.31 747.791 Q2137.13 747.791 2134.86 747.421 Q2132.62 747.05 2130.21 746.31 L2130.21 741.611 Q2132.29 742.745 2134.51 743.3 Q2136.74 743.856 2139.21 743.856 Q2143.22 743.856 2145.56 741.75 Q2147.89 739.643 2147.89 736.032 Q2147.89 732.421 2145.56 730.314 Q2143.22 728.208 2139.21 728.208 Q2137.34 728.208 2135.46 728.625 Q2133.61 729.041 2131.67 729.921 L2131.67 712.56 Z\" fill=\"#000000\" fill-rule=\"evenodd\" fill-opacity=\"1\" /><path clip-path=\"url(#clip380)\" d=\"M 0 0 M2175.83 715.639 Q2172.21 715.639 2170.39 719.203 Q2168.58 722.745 2168.58 729.875 Q2168.58 736.981 2170.39 740.546 Q2172.21 744.087 2175.83 744.087 Q2179.46 744.087 2181.27 740.546 Q2183.09 736.981 2183.09 729.875 Q2183.09 722.745 2181.27 719.203 Q2179.46 715.639 2175.83 715.639 M2175.83 711.935 Q2181.64 711.935 2184.69 716.541 Q2187.77 721.125 2187.77 729.875 Q2187.77 738.601 2184.69 743.208 Q2181.64 747.791 2175.83 747.791 Q2170.02 747.791 2166.94 743.208 Q2163.88 738.601 2163.88 729.875 Q2163.88 721.125 2166.94 716.541 Q2170.02 711.935 2175.83 711.935 Z\" fill=\"#000000\" fill-rule=\"evenodd\" fill-opacity=\"1\" /><path clip-path=\"url(#clip380)\" d=\"M 0 0 M2192.84 741.24 L2197.72 741.24 L2197.72 747.12 L2192.84 747.12 L2192.84 741.24 Z\" fill=\"#000000\" fill-rule=\"evenodd\" fill-opacity=\"1\" /><path clip-path=\"url(#clip380)\" d=\"M 0 0 M2202.84 712.56 L2221.2 712.56 L2221.2 716.495 L2207.12 716.495 L2207.12 724.967 Q2208.14 724.62 2209.16 724.458 Q2210.18 724.273 2211.2 724.273 Q2216.98 724.273 2220.36 727.444 Q2223.74 730.615 2223.74 736.032 Q2223.74 741.611 2220.27 744.712 Q2216.8 747.791 2210.48 747.791 Q2208.3 747.791 2206.03 747.421 Q2203.79 747.05 2201.38 746.31 L2201.38 741.611 Q2203.46 742.745 2205.69 743.3 Q2207.91 743.856 2210.39 743.856 Q2214.39 743.856 2216.73 741.75 Q2219.07 739.643 2219.07 736.032 Q2219.07 732.421 2216.73 730.314 Q2214.39 728.208 2210.39 728.208 Q2208.51 728.208 2206.64 728.625 Q2204.78 729.041 2202.84 729.921 L2202.84 712.56 Z\" fill=\"#000000\" fill-rule=\"evenodd\" fill-opacity=\"1\" /><path clip-path=\"url(#clip380)\" d=\"M 0 0 M2238.81 730.708 Q2235.48 730.708 2233.56 732.49 Q2231.66 734.273 2231.66 737.398 Q2231.66 740.523 2233.56 742.305 Q2235.48 744.087 2238.81 744.087 Q2242.14 744.087 2244.07 742.305 Q2245.99 740.5 2245.99 737.398 Q2245.99 734.273 2244.07 732.49 Q2242.17 730.708 2238.81 730.708 M2234.14 728.717 Q2231.13 727.976 2229.44 725.916 Q2227.77 723.856 2227.77 720.893 Q2227.77 716.75 2230.71 714.342 Q2233.67 711.935 2238.81 711.935 Q2243.97 711.935 2246.91 714.342 Q2249.85 716.75 2249.85 720.893 Q2249.85 723.856 2248.16 725.916 Q2246.5 727.976 2243.51 728.717 Q2246.89 729.504 2248.77 731.796 Q2250.66 734.088 2250.66 737.398 Q2250.66 742.421 2247.58 745.106 Q2244.53 747.791 2238.81 747.791 Q2233.09 747.791 2230.02 745.106 Q2226.96 742.421 2226.96 737.398 Q2226.96 734.088 2228.86 731.796 Q2230.76 729.504 2234.14 728.717 M2232.42 721.333 Q2232.42 724.018 2234.09 725.523 Q2235.78 727.027 2238.81 727.027 Q2241.82 727.027 2243.51 725.523 Q2245.22 724.018 2245.22 721.333 Q2245.22 718.648 2243.51 717.143 Q2241.82 715.639 2238.81 715.639 Q2235.78 715.639 2234.09 717.143 Q2232.42 718.648 2232.42 721.333 Z\" fill=\"#000000\" fill-rule=\"evenodd\" fill-opacity=\"1\" /><path clip-path=\"url(#clip380)\" d=\"M 0 0 M2269.9 728.486 Q2273.26 729.203 2275.13 731.472 Q2277.03 733.74 2277.03 737.074 Q2277.03 742.189 2273.51 744.99 Q2269.99 747.791 2263.51 747.791 Q2261.33 747.791 2259.02 747.351 Q2256.73 746.935 2254.27 746.078 L2254.27 741.564 Q2256.22 742.699 2258.53 743.277 Q2260.85 743.856 2263.37 743.856 Q2267.77 743.856 2270.06 742.12 Q2272.38 740.384 2272.38 737.074 Q2272.38 734.018 2270.22 732.305 Q2268.09 730.569 2264.27 730.569 L2260.25 730.569 L2260.25 726.726 L2264.46 726.726 Q2267.91 726.726 2269.74 725.361 Q2271.57 723.972 2271.57 721.379 Q2271.57 718.717 2269.67 717.305 Q2267.79 715.87 2264.27 715.87 Q2262.35 715.87 2260.15 716.287 Q2257.95 716.703 2255.32 717.583 L2255.32 713.416 Q2257.98 712.676 2260.29 712.305 Q2262.63 711.935 2264.69 711.935 Q2270.01 711.935 2273.12 714.365 Q2276.22 716.773 2276.22 720.893 Q2276.22 723.764 2274.58 725.754 Q2272.93 727.722 2269.9 728.486 Z\" fill=\"#000000\" fill-rule=\"evenodd\" fill-opacity=\"1\" /><path clip-path=\"url(#clip380)\" d=\"M 0 0 M2282.14 712.56 L2300.5 712.56 L2300.5 716.495 L2286.43 716.495 L2286.43 724.967 Q2287.45 724.62 2288.46 724.458 Q2289.48 724.273 2290.5 724.273 Q2296.29 724.273 2299.67 727.444 Q2303.05 730.615 2303.05 736.032 Q2303.05 741.611 2299.57 744.712 Q2296.1 747.791 2289.78 747.791 Q2287.61 747.791 2285.34 747.421 Q2283.09 747.05 2280.69 746.31 L2280.69 741.611 Q2282.77 742.745 2284.99 743.3 Q2287.21 743.856 2289.69 743.856 Q2293.7 743.856 2296.03 741.75 Q2298.37 739.643 2298.37 736.032 Q2298.37 732.421 2296.03 730.314 Q2293.7 728.208 2289.69 728.208 Q2287.82 728.208 2285.94 728.625 Q2284.09 729.041 2282.14 729.921 L2282.14 712.56 Z\" fill=\"#000000\" fill-rule=\"evenodd\" fill-opacity=\"1\" /><path clip-path=\"url(#clip380)\" d=\"M 0 0 M2318.12 715.639 Q2314.51 715.639 2312.68 719.203 Q2310.87 722.745 2310.87 729.875 Q2310.87 736.981 2312.68 740.546 Q2314.51 744.087 2318.12 744.087 Q2321.75 744.087 2323.56 740.546 Q2325.39 736.981 2325.39 729.875 Q2325.39 722.745 2323.56 719.203 Q2321.75 715.639 2318.12 715.639 M2318.12 711.935 Q2323.93 711.935 2326.98 716.541 Q2330.06 721.125 2330.06 729.875 Q2330.06 738.601 2326.98 743.208 Q2323.93 747.791 2318.12 747.791 Q2312.31 747.791 2309.23 743.208 Q2306.17 738.601 2306.17 729.875 Q2306.17 721.125 2309.23 716.541 Q2312.31 711.935 2318.12 711.935 Z\" fill=\"#000000\" fill-rule=\"evenodd\" fill-opacity=\"1\" /><polyline clip-path=\"url(#clip383)\" style=\"stroke:#000000; stroke-width:2; stroke-opacity:0.1; fill:none\" points=\"\n",
       "  1479.17,618.46 2352.76,618.46 \n",
       "  \"/>\n",
       "<polyline clip-path=\"url(#clip383)\" style=\"stroke:#000000; stroke-width:2; stroke-opacity:0.1; fill:none\" points=\"\n",
       "  1479.17,531.696 2352.76,531.696 \n",
       "  \"/>\n",
       "<polyline clip-path=\"url(#clip383)\" style=\"stroke:#000000; stroke-width:2; stroke-opacity:0.1; fill:none\" points=\"\n",
       "  1479.17,444.933 2352.76,444.933 \n",
       "  \"/>\n",
       "<polyline clip-path=\"url(#clip383)\" style=\"stroke:#000000; stroke-width:2; stroke-opacity:0.1; fill:none\" points=\"\n",
       "  1479.17,358.17 2352.76,358.17 \n",
       "  \"/>\n",
       "<polyline clip-path=\"url(#clip383)\" style=\"stroke:#000000; stroke-width:2; stroke-opacity:0.1; fill:none\" points=\"\n",
       "  1479.17,271.406 2352.76,271.406 \n",
       "  \"/>\n",
       "<polyline clip-path=\"url(#clip383)\" style=\"stroke:#000000; stroke-width:2; stroke-opacity:0.1; fill:none\" points=\"\n",
       "  1479.17,184.643 2352.76,184.643 \n",
       "  \"/>\n",
       "<polyline clip-path=\"url(#clip380)\" style=\"stroke:#000000; stroke-width:4; stroke-opacity:1; fill:none\" points=\"\n",
       "  1479.17,686.448 1479.17,123.472 \n",
       "  \"/>\n",
       "<polyline clip-path=\"url(#clip380)\" style=\"stroke:#000000; stroke-width:4; stroke-opacity:1; fill:none\" points=\"\n",
       "  1479.17,618.46 1489.65,618.46 \n",
       "  \"/>\n",
       "<polyline clip-path=\"url(#clip380)\" style=\"stroke:#000000; stroke-width:4; stroke-opacity:1; fill:none\" points=\"\n",
       "  1479.17,531.696 1489.65,531.696 \n",
       "  \"/>\n",
       "<polyline clip-path=\"url(#clip380)\" style=\"stroke:#000000; stroke-width:4; stroke-opacity:1; fill:none\" points=\"\n",
       "  1479.17,444.933 1489.65,444.933 \n",
       "  \"/>\n",
       "<polyline clip-path=\"url(#clip380)\" style=\"stroke:#000000; stroke-width:4; stroke-opacity:1; fill:none\" points=\"\n",
       "  1479.17,358.17 1489.65,358.17 \n",
       "  \"/>\n",
       "<polyline clip-path=\"url(#clip380)\" style=\"stroke:#000000; stroke-width:4; stroke-opacity:1; fill:none\" points=\"\n",
       "  1479.17,271.406 1489.65,271.406 \n",
       "  \"/>\n",
       "<polyline clip-path=\"url(#clip380)\" style=\"stroke:#000000; stroke-width:4; stroke-opacity:1; fill:none\" points=\"\n",
       "  1479.17,184.643 1489.65,184.643 \n",
       "  \"/>\n",
       "<path clip-path=\"url(#clip380)\" d=\"M 0 0 M1252.61 607.627 L1274.83 607.627 L1274.83 609.618 L1262.29 642.187 L1257.4 642.187 L1269.21 611.562 L1252.61 611.562 L1252.61 607.627 Z\" fill=\"#000000\" fill-rule=\"evenodd\" fill-opacity=\"1\" /><path clip-path=\"url(#clip380)\" d=\"M 0 0 M1279.9 636.308 L1284.79 636.308 L1284.79 642.187 L1279.9 642.187 L1279.9 636.308 Z\" fill=\"#000000\" fill-rule=\"evenodd\" fill-opacity=\"1\" /><path clip-path=\"url(#clip380)\" d=\"M 0 0 M1299.86 610.706 Q1296.25 610.706 1294.42 614.271 Q1292.61 617.812 1292.61 624.942 Q1292.61 632.048 1294.42 635.613 Q1296.25 639.155 1299.86 639.155 Q1303.49 639.155 1305.3 635.613 Q1307.13 632.048 1307.13 624.942 Q1307.13 617.812 1305.3 614.271 Q1303.49 610.706 1299.86 610.706 M1299.86 607.002 Q1305.67 607.002 1308.72 611.609 Q1311.8 616.192 1311.8 624.942 Q1311.8 633.669 1308.72 638.275 Q1305.67 642.859 1299.86 642.859 Q1294.05 642.859 1290.97 638.275 Q1287.91 633.669 1287.91 624.942 Q1287.91 616.192 1290.97 611.609 Q1294.05 607.002 1299.86 607.002 Z\" fill=\"#000000\" fill-rule=\"evenodd\" fill-opacity=\"1\" /><path clip-path=\"url(#clip380)\" d=\"M 0 0 M1345.04 616.724 L1334.46 627.349 L1345.04 637.928 L1342.29 640.729 L1331.66 630.104 L1321.04 640.729 L1318.31 637.928 L1328.86 627.349 L1318.31 616.724 L1321.04 613.924 L1331.66 624.549 L1342.29 613.924 L1345.04 616.724 Z\" fill=\"#000000\" fill-rule=\"evenodd\" fill-opacity=\"1\" /><path clip-path=\"url(#clip380)\" d=\"M 0 0 M1350.92 638.252 L1358.56 638.252 L1358.56 611.887 L1350.25 613.553 L1350.25 609.294 L1358.51 607.627 L1363.19 607.627 L1363.19 638.252 L1370.83 638.252 L1370.83 642.187 L1350.92 642.187 L1350.92 638.252 Z\" fill=\"#000000\" fill-rule=\"evenodd\" fill-opacity=\"1\" /><path clip-path=\"url(#clip380)\" d=\"M 0 0 M1385.9 610.706 Q1382.29 610.706 1380.46 614.271 Q1378.65 617.812 1378.65 624.942 Q1378.65 632.048 1380.46 635.613 Q1382.29 639.155 1385.9 639.155 Q1389.53 639.155 1391.34 635.613 Q1393.17 632.048 1393.17 624.942 Q1393.17 617.812 1391.34 614.271 Q1389.53 610.706 1385.9 610.706 M1385.9 607.002 Q1391.71 607.002 1394.76 611.609 Q1397.84 616.192 1397.84 624.942 Q1397.84 633.669 1394.76 638.275 Q1391.71 642.859 1385.9 642.859 Q1380.09 642.859 1377.01 638.275 Q1373.95 633.669 1373.95 624.942 Q1373.95 616.192 1377.01 611.609 Q1380.09 607.002 1385.9 607.002 Z\" fill=\"#000000\" fill-rule=\"evenodd\" fill-opacity=\"1\" /><path clip-path=\"url(#clip380)\" d=\"M 0 0 M1397.84 601.104 L1421.95 601.104 L1421.95 604.301 L1397.84 604.301 L1397.84 601.104 Z\" fill=\"#000000\" fill-rule=\"evenodd\" fill-opacity=\"1\" /><path clip-path=\"url(#clip380)\" d=\"M 0 0 M1425.11 586.697 L1443.17 586.697 L1443.17 588.314 L1432.98 614.777 L1429.01 614.777 L1438.6 589.894 L1425.11 589.894 L1425.11 586.697 Z\" fill=\"#000000\" fill-rule=\"evenodd\" fill-opacity=\"1\" /><path clip-path=\"url(#clip380)\" d=\"M 0 0 M1253.61 520.864 L1275.83 520.864 L1275.83 522.855 L1263.28 555.424 L1258.4 555.424 L1270.2 524.799 L1253.61 524.799 L1253.61 520.864 Z\" fill=\"#000000\" fill-rule=\"evenodd\" fill-opacity=\"1\" /><path clip-path=\"url(#clip380)\" d=\"M 0 0 M1280.9 549.544 L1285.78 549.544 L1285.78 555.424 L1280.9 555.424 L1280.9 549.544 Z\" fill=\"#000000\" fill-rule=\"evenodd\" fill-opacity=\"1\" /><path clip-path=\"url(#clip380)\" d=\"M 0 0 M1290.9 520.864 L1309.26 520.864 L1309.26 524.799 L1295.18 524.799 L1295.18 533.271 Q1296.2 532.924 1297.22 532.762 Q1298.24 532.577 1299.26 532.577 Q1305.04 532.577 1308.42 535.748 Q1311.8 538.919 1311.8 544.336 Q1311.8 549.915 1308.33 553.017 Q1304.86 556.095 1298.54 556.095 Q1296.36 556.095 1294.09 555.725 Q1291.85 555.355 1289.44 554.614 L1289.44 549.915 Q1291.52 551.049 1293.75 551.605 Q1295.97 552.16 1298.45 552.16 Q1302.45 552.16 1304.79 550.054 Q1307.13 547.947 1307.13 544.336 Q1307.13 540.725 1304.79 538.618 Q1302.45 536.512 1298.45 536.512 Q1296.57 536.512 1294.7 536.929 Q1292.84 537.345 1290.9 538.225 L1290.9 520.864 Z\" fill=\"#000000\" fill-rule=\"evenodd\" fill-opacity=\"1\" /><path clip-path=\"url(#clip380)\" d=\"M 0 0 M1345.04 529.961 L1334.46 540.586 L1345.04 551.165 L1342.29 553.966 L1331.66 543.341 L1321.04 553.966 L1318.31 551.165 L1328.86 540.586 L1318.31 529.961 L1321.04 527.16 L1331.66 537.785 L1342.29 527.16 L1345.04 529.961 Z\" fill=\"#000000\" fill-rule=\"evenodd\" fill-opacity=\"1\" /><path clip-path=\"url(#clip380)\" d=\"M 0 0 M1350.92 551.489 L1358.56 551.489 L1358.56 525.123 L1350.25 526.79 L1350.25 522.531 L1358.51 520.864 L1363.19 520.864 L1363.19 551.489 L1370.83 551.489 L1370.83 555.424 L1350.92 555.424 L1350.92 551.489 Z\" fill=\"#000000\" fill-rule=\"evenodd\" fill-opacity=\"1\" /><path clip-path=\"url(#clip380)\" d=\"M 0 0 M1385.9 523.943 Q1382.29 523.943 1380.46 527.507 Q1378.65 531.049 1378.65 538.179 Q1378.65 545.285 1380.46 548.85 Q1382.29 552.392 1385.9 552.392 Q1389.53 552.392 1391.34 548.85 Q1393.17 545.285 1393.17 538.179 Q1393.17 531.049 1391.34 527.507 Q1389.53 523.943 1385.9 523.943 M1385.9 520.239 Q1391.71 520.239 1394.76 524.845 Q1397.84 529.429 1397.84 538.179 Q1397.84 546.905 1394.76 551.512 Q1391.71 556.095 1385.9 556.095 Q1380.09 556.095 1377.01 551.512 Q1373.95 546.905 1373.95 538.179 Q1373.95 529.429 1377.01 524.845 Q1380.09 520.239 1385.9 520.239 Z\" fill=\"#000000\" fill-rule=\"evenodd\" fill-opacity=\"1\" /><path clip-path=\"url(#clip380)\" d=\"M 0 0 M1397.84 514.34 L1421.95 514.34 L1421.95 517.538 L1397.84 517.538 L1397.84 514.34 Z\" fill=\"#000000\" fill-rule=\"evenodd\" fill-opacity=\"1\" /><path clip-path=\"url(#clip380)\" d=\"M 0 0 M1425.11 499.934 L1443.17 499.934 L1443.17 501.551 L1432.98 528.014 L1429.01 528.014 L1438.6 503.131 L1425.11 503.131 L1425.11 499.934 Z\" fill=\"#000000\" fill-rule=\"evenodd\" fill-opacity=\"1\" /><path clip-path=\"url(#clip380)\" d=\"M 0 0 M1262.98 452.249 Q1259.65 452.249 1257.73 454.031 Q1255.83 455.813 1255.83 458.938 Q1255.83 462.063 1257.73 463.846 Q1259.65 465.628 1262.98 465.628 Q1266.32 465.628 1268.24 463.846 Q1270.16 462.04 1270.16 458.938 Q1270.16 455.813 1268.24 454.031 Q1266.34 452.249 1262.98 452.249 M1258.31 450.258 Q1255.3 449.517 1253.61 447.457 Q1251.94 445.397 1251.94 442.434 Q1251.94 438.29 1254.88 435.883 Q1257.84 433.476 1262.98 433.476 Q1268.14 433.476 1271.08 435.883 Q1274.02 438.29 1274.02 442.434 Q1274.02 445.397 1272.33 447.457 Q1270.67 449.517 1267.68 450.258 Q1271.06 451.045 1272.94 453.337 Q1274.83 455.628 1274.83 458.938 Q1274.83 463.962 1271.76 466.647 Q1268.7 469.332 1262.98 469.332 Q1257.27 469.332 1254.19 466.647 Q1251.13 463.962 1251.13 458.938 Q1251.13 455.628 1253.03 453.337 Q1254.93 451.045 1258.31 450.258 M1256.59 442.874 Q1256.59 445.559 1258.26 447.063 Q1259.95 448.568 1262.98 448.568 Q1265.99 448.568 1267.68 447.063 Q1269.39 445.559 1269.39 442.874 Q1269.39 440.189 1267.68 438.684 Q1265.99 437.179 1262.98 437.179 Q1259.95 437.179 1258.26 438.684 Q1256.59 440.189 1256.59 442.874 Z\" fill=\"#000000\" fill-rule=\"evenodd\" fill-opacity=\"1\" /><path clip-path=\"url(#clip380)\" d=\"M 0 0 M1279.9 462.781 L1284.79 462.781 L1284.79 468.661 L1279.9 468.661 L1279.9 462.781 Z\" fill=\"#000000\" fill-rule=\"evenodd\" fill-opacity=\"1\" /><path clip-path=\"url(#clip380)\" d=\"M 0 0 M1299.86 437.179 Q1296.25 437.179 1294.42 440.744 Q1292.61 444.286 1292.61 451.415 Q1292.61 458.522 1294.42 462.087 Q1296.25 465.628 1299.86 465.628 Q1303.49 465.628 1305.3 462.087 Q1307.13 458.522 1307.13 451.415 Q1307.13 444.286 1305.3 440.744 Q1303.49 437.179 1299.86 437.179 M1299.86 433.476 Q1305.67 433.476 1308.72 438.082 Q1311.8 442.665 1311.8 451.415 Q1311.8 460.142 1308.72 464.749 Q1305.67 469.332 1299.86 469.332 Q1294.05 469.332 1290.97 464.749 Q1287.91 460.142 1287.91 451.415 Q1287.91 442.665 1290.97 438.082 Q1294.05 433.476 1299.86 433.476 Z\" fill=\"#000000\" fill-rule=\"evenodd\" fill-opacity=\"1\" /><path clip-path=\"url(#clip380)\" d=\"M 0 0 M1345.04 443.198 L1334.46 453.823 L1345.04 464.401 L1342.29 467.202 L1331.66 456.577 L1321.04 467.202 L1318.31 464.401 L1328.86 453.823 L1318.31 443.198 L1321.04 440.397 L1331.66 451.022 L1342.29 440.397 L1345.04 443.198 Z\" fill=\"#000000\" fill-rule=\"evenodd\" fill-opacity=\"1\" /><path clip-path=\"url(#clip380)\" d=\"M 0 0 M1350.92 464.725 L1358.56 464.725 L1358.56 438.36 L1350.25 440.026 L1350.25 435.767 L1358.51 434.101 L1363.19 434.101 L1363.19 464.725 L1370.83 464.725 L1370.83 468.661 L1350.92 468.661 L1350.92 464.725 Z\" fill=\"#000000\" fill-rule=\"evenodd\" fill-opacity=\"1\" /><path clip-path=\"url(#clip380)\" d=\"M 0 0 M1385.9 437.179 Q1382.29 437.179 1380.46 440.744 Q1378.65 444.286 1378.65 451.415 Q1378.65 458.522 1380.46 462.087 Q1382.29 465.628 1385.9 465.628 Q1389.53 465.628 1391.34 462.087 Q1393.17 458.522 1393.17 451.415 Q1393.17 444.286 1391.34 440.744 Q1389.53 437.179 1385.9 437.179 M1385.9 433.476 Q1391.71 433.476 1394.76 438.082 Q1397.84 442.665 1397.84 451.415 Q1397.84 460.142 1394.76 464.749 Q1391.71 469.332 1385.9 469.332 Q1380.09 469.332 1377.01 464.749 Q1373.95 460.142 1373.95 451.415 Q1373.95 442.665 1377.01 438.082 Q1380.09 433.476 1385.9 433.476 Z\" fill=\"#000000\" fill-rule=\"evenodd\" fill-opacity=\"1\" /><path clip-path=\"url(#clip380)\" d=\"M 0 0 M1397.84 427.577 L1421.95 427.577 L1421.95 430.774 L1397.84 430.774 L1397.84 427.577 Z\" fill=\"#000000\" fill-rule=\"evenodd\" fill-opacity=\"1\" /><path clip-path=\"url(#clip380)\" d=\"M 0 0 M1425.11 413.17 L1443.17 413.17 L1443.17 414.788 L1432.98 441.25 L1429.01 441.25 L1438.6 416.368 L1425.11 416.368 L1425.11 413.17 Z\" fill=\"#000000\" fill-rule=\"evenodd\" fill-opacity=\"1\" /><path clip-path=\"url(#clip380)\" d=\"M 0 0 M1263.98 365.485 Q1260.64 365.485 1258.72 367.268 Q1256.83 369.05 1256.83 372.175 Q1256.83 375.3 1258.72 377.082 Q1260.64 378.865 1263.98 378.865 Q1267.31 378.865 1269.23 377.082 Q1271.15 375.277 1271.15 372.175 Q1271.15 369.05 1269.23 367.268 Q1267.33 365.485 1263.98 365.485 M1259.3 363.495 Q1256.29 362.754 1254.6 360.694 Q1252.94 358.633 1252.94 355.671 Q1252.94 351.527 1255.88 349.12 Q1258.84 346.712 1263.98 346.712 Q1269.14 346.712 1272.08 349.12 Q1275.02 351.527 1275.02 355.671 Q1275.02 358.633 1273.33 360.694 Q1271.66 362.754 1268.68 363.495 Q1272.06 364.282 1273.93 366.573 Q1275.83 368.865 1275.83 372.175 Q1275.83 377.198 1272.75 379.883 Q1269.7 382.569 1263.98 382.569 Q1258.26 382.569 1255.18 379.883 Q1252.13 377.198 1252.13 372.175 Q1252.13 368.865 1254.02 366.573 Q1255.92 364.282 1259.3 363.495 M1257.59 356.11 Q1257.59 358.796 1259.26 360.3 Q1260.95 361.805 1263.98 361.805 Q1266.99 361.805 1268.68 360.3 Q1270.39 358.796 1270.39 356.11 Q1270.39 353.425 1268.68 351.921 Q1266.99 350.416 1263.98 350.416 Q1260.95 350.416 1259.26 351.921 Q1257.59 353.425 1257.59 356.11 Z\" fill=\"#000000\" fill-rule=\"evenodd\" fill-opacity=\"1\" /><path clip-path=\"url(#clip380)\" d=\"M 0 0 M1280.9 376.018 L1285.78 376.018 L1285.78 381.897 L1280.9 381.897 L1280.9 376.018 Z\" fill=\"#000000\" fill-rule=\"evenodd\" fill-opacity=\"1\" /><path clip-path=\"url(#clip380)\" d=\"M 0 0 M1290.9 347.337 L1309.26 347.337 L1309.26 351.272 L1295.18 351.272 L1295.18 359.745 Q1296.2 359.397 1297.22 359.235 Q1298.24 359.05 1299.26 359.05 Q1305.04 359.05 1308.42 362.221 Q1311.8 365.393 1311.8 370.809 Q1311.8 376.388 1308.33 379.49 Q1304.86 382.569 1298.54 382.569 Q1296.36 382.569 1294.09 382.198 Q1291.85 381.828 1289.44 381.087 L1289.44 376.388 Q1291.52 377.522 1293.75 378.078 Q1295.97 378.633 1298.45 378.633 Q1302.45 378.633 1304.79 376.527 Q1307.13 374.42 1307.13 370.809 Q1307.13 367.198 1304.79 365.092 Q1302.45 362.985 1298.45 362.985 Q1296.57 362.985 1294.7 363.402 Q1292.84 363.819 1290.9 364.698 L1290.9 347.337 Z\" fill=\"#000000\" fill-rule=\"evenodd\" fill-opacity=\"1\" /><path clip-path=\"url(#clip380)\" d=\"M 0 0 M1345.04 356.434 L1334.46 367.059 L1345.04 377.638 L1342.29 380.439 L1331.66 369.814 L1321.04 380.439 L1318.31 377.638 L1328.86 367.059 L1318.31 356.434 L1321.04 353.634 L1331.66 364.258 L1342.29 353.634 L1345.04 356.434 Z\" fill=\"#000000\" fill-rule=\"evenodd\" fill-opacity=\"1\" /><path clip-path=\"url(#clip380)\" d=\"M 0 0 M1350.92 377.962 L1358.56 377.962 L1358.56 351.596 L1350.25 353.263 L1350.25 349.004 L1358.51 347.337 L1363.19 347.337 L1363.19 377.962 L1370.83 377.962 L1370.83 381.897 L1350.92 381.897 L1350.92 377.962 Z\" fill=\"#000000\" fill-rule=\"evenodd\" fill-opacity=\"1\" /><path clip-path=\"url(#clip380)\" d=\"M 0 0 M1385.9 350.416 Q1382.29 350.416 1380.46 353.981 Q1378.65 357.522 1378.65 364.652 Q1378.65 371.758 1380.46 375.323 Q1382.29 378.865 1385.9 378.865 Q1389.53 378.865 1391.34 375.323 Q1393.17 371.758 1393.17 364.652 Q1393.17 357.522 1391.34 353.981 Q1389.53 350.416 1385.9 350.416 M1385.9 346.712 Q1391.71 346.712 1394.76 351.319 Q1397.84 355.902 1397.84 364.652 Q1397.84 373.379 1394.76 377.985 Q1391.71 382.569 1385.9 382.569 Q1380.09 382.569 1377.01 377.985 Q1373.95 373.379 1373.95 364.652 Q1373.95 355.902 1377.01 351.319 Q1380.09 346.712 1385.9 346.712 Z\" fill=\"#000000\" fill-rule=\"evenodd\" fill-opacity=\"1\" /><path clip-path=\"url(#clip380)\" d=\"M 0 0 M1397.84 340.814 L1421.95 340.814 L1421.95 344.011 L1397.84 344.011 L1397.84 340.814 Z\" fill=\"#000000\" fill-rule=\"evenodd\" fill-opacity=\"1\" /><path clip-path=\"url(#clip380)\" d=\"M 0 0 M1425.11 326.407 L1443.17 326.407 L1443.17 328.024 L1432.98 354.487 L1429.01 354.487 L1438.6 329.604 L1425.11 329.604 L1425.11 326.407 Z\" fill=\"#000000\" fill-rule=\"evenodd\" fill-opacity=\"1\" /><path clip-path=\"url(#clip380)\" d=\"M 0 0 M1253.21 294.416 L1253.21 290.157 Q1254.97 290.99 1256.78 291.43 Q1258.58 291.87 1260.32 291.87 Q1264.95 291.87 1267.38 288.768 Q1269.83 285.643 1270.18 279.301 Q1268.84 281.291 1266.78 282.356 Q1264.72 283.421 1262.22 283.421 Q1257.03 283.421 1254 280.296 Q1250.99 277.148 1250.99 271.708 Q1250.99 266.384 1254.14 263.166 Q1257.29 259.949 1262.52 259.949 Q1268.52 259.949 1271.66 264.555 Q1274.83 269.139 1274.83 277.889 Q1274.83 286.06 1270.95 290.944 Q1267.08 295.805 1260.53 295.805 Q1258.77 295.805 1256.96 295.458 Q1255.16 295.111 1253.21 294.416 M1262.52 279.764 Q1265.67 279.764 1267.5 277.611 Q1269.35 275.458 1269.35 271.708 Q1269.35 267.981 1267.5 265.829 Q1265.67 263.653 1262.52 263.653 Q1259.37 263.653 1257.52 265.829 Q1255.69 267.981 1255.69 271.708 Q1255.69 275.458 1257.52 277.611 Q1259.37 279.764 1262.52 279.764 Z\" fill=\"#000000\" fill-rule=\"evenodd\" fill-opacity=\"1\" /><path clip-path=\"url(#clip380)\" d=\"M 0 0 M1279.9 289.254 L1284.79 289.254 L1284.79 295.134 L1279.9 295.134 L1279.9 289.254 Z\" fill=\"#000000\" fill-rule=\"evenodd\" fill-opacity=\"1\" /><path clip-path=\"url(#clip380)\" d=\"M 0 0 M1299.86 263.653 Q1296.25 263.653 1294.42 267.217 Q1292.61 270.759 1292.61 277.889 Q1292.61 284.995 1294.42 288.56 Q1296.25 292.102 1299.86 292.102 Q1303.49 292.102 1305.3 288.56 Q1307.13 284.995 1307.13 277.889 Q1307.13 270.759 1305.3 267.217 Q1303.49 263.653 1299.86 263.653 M1299.86 259.949 Q1305.67 259.949 1308.72 264.555 Q1311.8 269.139 1311.8 277.889 Q1311.8 286.615 1308.72 291.222 Q1305.67 295.805 1299.86 295.805 Q1294.05 295.805 1290.97 291.222 Q1287.91 286.615 1287.91 277.889 Q1287.91 269.139 1290.97 264.555 Q1294.05 259.949 1299.86 259.949 Z\" fill=\"#000000\" fill-rule=\"evenodd\" fill-opacity=\"1\" /><path clip-path=\"url(#clip380)\" d=\"M 0 0 M1345.04 269.671 L1334.46 280.296 L1345.04 290.875 L1342.29 293.676 L1331.66 283.051 L1321.04 293.676 L1318.31 290.875 L1328.86 280.296 L1318.31 269.671 L1321.04 266.87 L1331.66 277.495 L1342.29 266.87 L1345.04 269.671 Z\" fill=\"#000000\" fill-rule=\"evenodd\" fill-opacity=\"1\" /><path clip-path=\"url(#clip380)\" d=\"M 0 0 M1350.92 291.199 L1358.56 291.199 L1358.56 264.833 L1350.25 266.5 L1350.25 262.241 L1358.51 260.574 L1363.19 260.574 L1363.19 291.199 L1370.83 291.199 L1370.83 295.134 L1350.92 295.134 L1350.92 291.199 Z\" fill=\"#000000\" fill-rule=\"evenodd\" fill-opacity=\"1\" /><path clip-path=\"url(#clip380)\" d=\"M 0 0 M1385.9 263.653 Q1382.29 263.653 1380.46 267.217 Q1378.65 270.759 1378.65 277.889 Q1378.65 284.995 1380.46 288.56 Q1382.29 292.102 1385.9 292.102 Q1389.53 292.102 1391.34 288.56 Q1393.17 284.995 1393.17 277.889 Q1393.17 270.759 1391.34 267.217 Q1389.53 263.653 1385.9 263.653 M1385.9 259.949 Q1391.71 259.949 1394.76 264.555 Q1397.84 269.139 1397.84 277.889 Q1397.84 286.615 1394.76 291.222 Q1391.71 295.805 1385.9 295.805 Q1380.09 295.805 1377.01 291.222 Q1373.95 286.615 1373.95 277.889 Q1373.95 269.139 1377.01 264.555 Q1380.09 259.949 1385.9 259.949 Z\" fill=\"#000000\" fill-rule=\"evenodd\" fill-opacity=\"1\" /><path clip-path=\"url(#clip380)\" d=\"M 0 0 M1397.84 254.05 L1421.95 254.05 L1421.95 257.248 L1397.84 257.248 L1397.84 254.05 Z\" fill=\"#000000\" fill-rule=\"evenodd\" fill-opacity=\"1\" /><path clip-path=\"url(#clip380)\" d=\"M 0 0 M1425.11 239.644 L1443.17 239.644 L1443.17 241.261 L1432.98 267.724 L1429.01 267.724 L1438.6 242.841 L1425.11 242.841 L1425.11 239.644 Z\" fill=\"#000000\" fill-rule=\"evenodd\" fill-opacity=\"1\" /><path clip-path=\"url(#clip380)\" d=\"M 0 0 M1254.21 207.653 L1254.21 203.394 Q1255.97 204.227 1257.77 204.667 Q1259.58 205.107 1261.32 205.107 Q1265.95 205.107 1268.38 202.005 Q1270.83 198.88 1271.18 192.537 Q1269.83 194.528 1267.77 195.593 Q1265.71 196.658 1263.21 196.658 Q1258.03 196.658 1255 193.533 Q1251.99 190.385 1251.99 184.945 Q1251.99 179.621 1255.14 176.403 Q1258.28 173.186 1263.52 173.186 Q1269.51 173.186 1272.66 177.792 Q1275.83 182.375 1275.83 191.125 Q1275.83 199.297 1271.94 204.181 Q1268.08 209.042 1261.52 209.042 Q1259.77 209.042 1257.96 208.695 Q1256.15 208.347 1254.21 207.653 M1263.52 193 Q1266.66 193 1268.49 190.847 Q1270.34 188.695 1270.34 184.945 Q1270.34 181.218 1268.49 179.065 Q1266.66 176.889 1263.52 176.889 Q1260.37 176.889 1258.52 179.065 Q1256.69 181.218 1256.69 184.945 Q1256.69 188.695 1258.52 190.847 Q1260.37 193 1263.52 193 Z\" fill=\"#000000\" fill-rule=\"evenodd\" fill-opacity=\"1\" /><path clip-path=\"url(#clip380)\" d=\"M 0 0 M1280.9 202.491 L1285.78 202.491 L1285.78 208.371 L1280.9 208.371 L1280.9 202.491 Z\" fill=\"#000000\" fill-rule=\"evenodd\" fill-opacity=\"1\" /><path clip-path=\"url(#clip380)\" d=\"M 0 0 M1290.9 173.811 L1309.26 173.811 L1309.26 177.746 L1295.18 177.746 L1295.18 186.218 Q1296.2 185.871 1297.22 185.709 Q1298.24 185.523 1299.26 185.523 Q1305.04 185.523 1308.42 188.695 Q1311.8 191.866 1311.8 197.283 Q1311.8 202.861 1308.33 205.963 Q1304.86 209.042 1298.54 209.042 Q1296.36 209.042 1294.09 208.671 Q1291.85 208.301 1289.44 207.56 L1289.44 202.861 Q1291.52 203.996 1293.75 204.551 Q1295.97 205.107 1298.45 205.107 Q1302.45 205.107 1304.79 203 Q1307.13 200.894 1307.13 197.283 Q1307.13 193.672 1304.79 191.565 Q1302.45 189.459 1298.45 189.459 Q1296.57 189.459 1294.7 189.875 Q1292.84 190.292 1290.9 191.172 L1290.9 173.811 Z\" fill=\"#000000\" fill-rule=\"evenodd\" fill-opacity=\"1\" /><path clip-path=\"url(#clip380)\" d=\"M 0 0 M1345.04 182.908 L1334.46 193.533 L1345.04 204.111 L1342.29 206.912 L1331.66 196.287 L1321.04 206.912 L1318.31 204.111 L1328.86 193.533 L1318.31 182.908 L1321.04 180.107 L1331.66 190.732 L1342.29 180.107 L1345.04 182.908 Z\" fill=\"#000000\" fill-rule=\"evenodd\" fill-opacity=\"1\" /><path clip-path=\"url(#clip380)\" d=\"M 0 0 M1350.92 204.435 L1358.56 204.435 L1358.56 178.07 L1350.25 179.736 L1350.25 175.477 L1358.51 173.811 L1363.19 173.811 L1363.19 204.435 L1370.83 204.435 L1370.83 208.371 L1350.92 208.371 L1350.92 204.435 Z\" fill=\"#000000\" fill-rule=\"evenodd\" fill-opacity=\"1\" /><path clip-path=\"url(#clip380)\" d=\"M 0 0 M1385.9 176.889 Q1382.29 176.889 1380.46 180.454 Q1378.65 183.996 1378.65 191.125 Q1378.65 198.232 1380.46 201.797 Q1382.29 205.338 1385.9 205.338 Q1389.53 205.338 1391.34 201.797 Q1393.17 198.232 1393.17 191.125 Q1393.17 183.996 1391.34 180.454 Q1389.53 176.889 1385.9 176.889 M1385.9 173.186 Q1391.71 173.186 1394.76 177.792 Q1397.84 182.375 1397.84 191.125 Q1397.84 199.852 1394.76 204.459 Q1391.71 209.042 1385.9 209.042 Q1380.09 209.042 1377.01 204.459 Q1373.95 199.852 1373.95 191.125 Q1373.95 182.375 1377.01 177.792 Q1380.09 173.186 1385.9 173.186 Z\" fill=\"#000000\" fill-rule=\"evenodd\" fill-opacity=\"1\" /><path clip-path=\"url(#clip380)\" d=\"M 0 0 M1397.84 167.287 L1421.95 167.287 L1421.95 170.484 L1397.84 170.484 L1397.84 167.287 Z\" fill=\"#000000\" fill-rule=\"evenodd\" fill-opacity=\"1\" /><path clip-path=\"url(#clip380)\" d=\"M 0 0 M1425.11 152.88 L1443.17 152.88 L1443.17 154.498 L1432.98 180.96 L1429.01 180.96 L1438.6 156.077 L1425.11 156.077 L1425.11 152.88 Z\" fill=\"#000000\" fill-rule=\"evenodd\" fill-opacity=\"1\" /><path clip-path=\"url(#clip380)\" d=\"M 0 0 M1845.72 49.9314 Q1845.72 41.7081 1842.32 37.0496 Q1838.96 32.3505 1833.04 32.3505 Q1827.13 32.3505 1823.72 37.0496 Q1820.36 41.7081 1820.36 49.9314 Q1820.36 58.1548 1823.72 62.8538 Q1827.13 67.5124 1833.04 67.5124 Q1838.96 67.5124 1842.32 62.8538 Q1845.72 58.1548 1845.72 49.9314 M1820.36 34.0924 Q1822.71 30.0415 1826.28 28.0971 Q1829.88 26.1121 1834.86 26.1121 Q1843.13 26.1121 1848.27 32.6746 Q1853.46 39.2371 1853.46 49.9314 Q1853.46 60.6258 1848.27 67.1883 Q1843.13 73.7508 1834.86 73.7508 Q1829.88 73.7508 1826.28 71.8063 Q1822.71 69.8214 1820.36 65.7705 L1820.36 72.576 L1812.87 72.576 L1812.87 9.54393 L1820.36 9.54393 L1820.36 34.0924 Z\" fill=\"#000000\" fill-rule=\"evenodd\" fill-opacity=\"1\" /><path clip-path=\"url(#clip380)\" d=\"M 0 0 M1900.08 48.0275 L1900.08 51.6733 L1865.81 51.6733 Q1866.3 59.3701 1870.43 63.421 Q1874.6 67.4314 1882.02 67.4314 Q1886.31 67.4314 1890.32 66.3781 Q1894.37 65.3249 1898.34 63.2184 L1898.34 70.267 Q1894.33 71.9684 1890.12 72.8596 Q1885.91 73.7508 1881.57 73.7508 Q1870.71 73.7508 1864.35 67.4314 Q1858.03 61.1119 1858.03 50.3365 Q1858.03 39.1965 1864.03 32.6746 Q1870.07 26.1121 1880.27 26.1121 Q1889.43 26.1121 1894.74 32.0264 Q1900.08 37.9003 1900.08 48.0275 M1892.63 45.84 Q1892.55 39.7232 1889.19 36.0774 Q1885.86 32.4315 1880.36 32.4315 Q1874.12 32.4315 1870.35 35.9558 Q1866.62 39.4801 1866.06 45.8805 L1892.63 45.84 Z\" fill=\"#000000\" fill-rule=\"evenodd\" fill-opacity=\"1\" /><path clip-path=\"url(#clip380)\" d=\"M 0 0 M1915.27 14.324 L1915.27 27.2059 L1930.63 27.2059 L1930.63 32.9987 L1915.27 32.9987 L1915.27 57.6282 Q1915.27 63.1779 1916.77 64.7578 Q1918.31 66.3376 1922.97 66.3376 L1930.63 66.3376 L1930.63 72.576 L1922.97 72.576 Q1914.34 72.576 1911.06 69.3758 Q1907.78 66.1351 1907.78 57.6282 L1907.78 32.9987 L1902.31 32.9987 L1902.31 27.2059 L1907.78 27.2059 L1907.78 14.324 L1915.27 14.324 Z\" fill=\"#000000\" fill-rule=\"evenodd\" fill-opacity=\"1\" /><path clip-path=\"url(#clip380)\" d=\"M 0 0 M1959.06 49.7694 Q1950.03 49.7694 1946.55 51.8354 Q1943.06 53.9013 1943.06 58.8839 Q1943.06 62.8538 1945.66 65.2034 Q1948.29 67.5124 1952.79 67.5124 Q1958.98 67.5124 1962.71 63.1374 Q1966.48 58.7219 1966.48 51.4303 L1966.48 49.7694 L1959.06 49.7694 M1973.93 46.6907 L1973.93 72.576 L1966.48 72.576 L1966.48 65.6895 Q1963.93 69.8214 1960.12 71.8063 Q1956.31 73.7508 1950.8 73.7508 Q1943.83 73.7508 1939.7 69.8619 Q1935.61 65.9325 1935.61 59.3701 Q1935.61 51.7138 1940.71 47.825 Q1945.86 43.9361 1956.03 43.9361 L1966.48 43.9361 L1966.48 43.2069 Q1966.48 38.0623 1963.07 35.2672 Q1959.71 32.4315 1953.6 32.4315 Q1949.71 32.4315 1946.02 33.3632 Q1942.33 34.295 1938.93 36.1584 L1938.93 29.2718 Q1943.02 27.692 1946.87 26.9223 Q1950.72 26.1121 1954.37 26.1121 Q1964.21 26.1121 1969.07 31.2163 Q1973.93 36.3204 1973.93 46.6907 Z\" fill=\"#000000\" fill-rule=\"evenodd\" fill-opacity=\"1\" /><path clip-path=\"url(#clip380)\" d=\"M 0 0 M1984.22 65.6895 L1997.59 65.6895 L1997.59 19.5497 L1983.05 22.4663 L1983.05 15.0127 L1997.51 12.096 L2005.69 12.096 L2005.69 65.6895 L2019.06 65.6895 L2019.06 72.576 L1984.22 72.576 L1984.22 65.6895 Z\" fill=\"#000000\" fill-rule=\"evenodd\" fill-opacity=\"1\" /><polyline clip-path=\"url(#clip383)\" style=\"stroke:#009af9; stroke-width:4; stroke-opacity:1; fill:none\" points=\"\n",
       "  1503.89,139.745 1709.93,537.801 1915.96,670.515 2122,537.759 2328.03,139.405 \n",
       "  \"/>\n",
       "<polyline clip-path=\"url(#clip383)\" style=\"stroke:#e26f46; stroke-width:4; stroke-opacity:1; fill:none\" points=\"\n",
       "  1915.96,1249.42 1915.96,-439.504 \n",
       "  \"/>\n",
       "<path clip-path=\"url(#clip380)\" d=\"\n",
       "M279.17 1486.45 L1152.76 1486.45 L1152.76 923.472 L279.17 923.472  Z\n",
       "  \" fill=\"#ffffff\" fill-rule=\"evenodd\" fill-opacity=\"1\"/>\n",
       "<defs>\n",
       "  <clipPath id=\"clip384\">\n",
       "    <rect x=\"279\" y=\"923\" width=\"875\" height=\"564\"/>\n",
       "  </clipPath>\n",
       "</defs>\n",
       "<polyline clip-path=\"url(#clip384)\" style=\"stroke:#000000; stroke-width:2; stroke-opacity:0.1; fill:none\" points=\"\n",
       "  302.427,1486.45 302.427,923.472 \n",
       "  \"/>\n",
       "<polyline clip-path=\"url(#clip384)\" style=\"stroke:#000000; stroke-width:2; stroke-opacity:0.1; fill:none\" points=\"\n",
       "  570.956,1486.45 570.956,923.472 \n",
       "  \"/>\n",
       "<polyline clip-path=\"url(#clip384)\" style=\"stroke:#000000; stroke-width:2; stroke-opacity:0.1; fill:none\" points=\"\n",
       "  839.486,1486.45 839.486,923.472 \n",
       "  \"/>\n",
       "<polyline clip-path=\"url(#clip384)\" style=\"stroke:#000000; stroke-width:2; stroke-opacity:0.1; fill:none\" points=\"\n",
       "  1108.01,1486.45 1108.01,923.472 \n",
       "  \"/>\n",
       "<polyline clip-path=\"url(#clip380)\" style=\"stroke:#000000; stroke-width:4; stroke-opacity:1; fill:none\" points=\"\n",
       "  279.17,1486.45 1152.76,1486.45 \n",
       "  \"/>\n",
       "<polyline clip-path=\"url(#clip380)\" style=\"stroke:#000000; stroke-width:4; stroke-opacity:1; fill:none\" points=\"\n",
       "  302.427,1486.45 302.427,1479.69 \n",
       "  \"/>\n",
       "<polyline clip-path=\"url(#clip380)\" style=\"stroke:#000000; stroke-width:4; stroke-opacity:1; fill:none\" points=\"\n",
       "  570.956,1486.45 570.956,1479.69 \n",
       "  \"/>\n",
       "<polyline clip-path=\"url(#clip380)\" style=\"stroke:#000000; stroke-width:4; stroke-opacity:1; fill:none\" points=\"\n",
       "  839.486,1486.45 839.486,1479.69 \n",
       "  \"/>\n",
       "<polyline clip-path=\"url(#clip380)\" style=\"stroke:#000000; stroke-width:4; stroke-opacity:1; fill:none\" points=\"\n",
       "  1108.01,1486.45 1108.01,1479.69 \n",
       "  \"/>\n",
       "<path clip-path=\"url(#clip380)\" d=\"M 0 0 M244.21 1515.64 Q240.599 1515.64 238.77 1519.2 Q236.965 1522.75 236.965 1529.87 Q236.965 1536.98 238.77 1540.55 Q240.599 1544.09 244.21 1544.09 Q247.844 1544.09 249.65 1540.55 Q251.478 1536.98 251.478 1529.87 Q251.478 1522.75 249.65 1519.2 Q247.844 1515.64 244.21 1515.64 M244.21 1511.93 Q250.02 1511.93 253.076 1516.54 Q256.154 1521.12 256.154 1529.87 Q256.154 1538.6 253.076 1543.21 Q250.02 1547.79 244.21 1547.79 Q238.4 1547.79 235.321 1543.21 Q232.265 1538.6 232.265 1529.87 Q232.265 1521.12 235.321 1516.54 Q238.4 1511.93 244.21 1511.93 Z\" fill=\"#000000\" fill-rule=\"evenodd\" fill-opacity=\"1\" /><path clip-path=\"url(#clip380)\" d=\"M 0 0 M261.224 1541.24 L266.108 1541.24 L266.108 1547.12 L261.224 1547.12 L261.224 1541.24 Z\" fill=\"#000000\" fill-rule=\"evenodd\" fill-opacity=\"1\" /><path clip-path=\"url(#clip380)\" d=\"M 0 0 M269.997 1512.56 L292.219 1512.56 L292.219 1514.55 L279.673 1547.12 L274.788 1547.12 L286.594 1516.5 L269.997 1516.5 L269.997 1512.56 Z\" fill=\"#000000\" fill-rule=\"evenodd\" fill-opacity=\"1\" /><path clip-path=\"url(#clip380)\" d=\"M 0 0 M307.867 1527.98 Q304.719 1527.98 302.867 1530.13 Q301.038 1532.28 301.038 1536.03 Q301.038 1539.76 302.867 1541.93 Q304.719 1544.09 307.867 1544.09 Q311.015 1544.09 312.844 1541.93 Q314.696 1539.76 314.696 1536.03 Q314.696 1532.28 312.844 1530.13 Q311.015 1527.98 307.867 1527.98 M317.149 1513.32 L317.149 1517.58 Q315.39 1516.75 313.584 1516.31 Q311.802 1515.87 310.043 1515.87 Q305.413 1515.87 302.96 1519 Q300.529 1522.12 300.182 1528.44 Q301.547 1526.43 303.608 1525.36 Q305.668 1524.27 308.145 1524.27 Q313.353 1524.27 316.362 1527.44 Q319.395 1530.59 319.395 1536.03 Q319.395 1541.36 316.246 1544.57 Q313.098 1547.79 307.867 1547.79 Q301.872 1547.79 298.7 1543.21 Q295.529 1538.6 295.529 1529.87 Q295.529 1521.68 299.418 1516.82 Q303.307 1511.93 309.858 1511.93 Q311.617 1511.93 313.399 1512.28 Q315.205 1512.63 317.149 1513.32 Z\" fill=\"#000000\" fill-rule=\"evenodd\" fill-opacity=\"1\" /><path clip-path=\"url(#clip380)\" d=\"M 0 0 M335.043 1527.98 Q331.895 1527.98 330.043 1530.13 Q328.214 1532.28 328.214 1536.03 Q328.214 1539.76 330.043 1541.93 Q331.895 1544.09 335.043 1544.09 Q338.191 1544.09 340.02 1541.93 Q341.871 1539.76 341.871 1536.03 Q341.871 1532.28 340.02 1530.13 Q338.191 1527.98 335.043 1527.98 M344.325 1513.32 L344.325 1517.58 Q342.566 1516.75 340.76 1516.31 Q338.978 1515.87 337.219 1515.87 Q332.589 1515.87 330.135 1519 Q327.705 1522.12 327.358 1528.44 Q328.723 1526.43 330.783 1525.36 Q332.844 1524.27 335.32 1524.27 Q340.529 1524.27 343.538 1527.44 Q346.57 1530.59 346.57 1536.03 Q346.57 1541.36 343.422 1544.57 Q340.274 1547.79 335.043 1547.79 Q329.047 1547.79 325.876 1543.21 Q322.705 1538.6 322.705 1529.87 Q322.705 1521.68 326.594 1516.82 Q330.483 1511.93 337.033 1511.93 Q338.793 1511.93 340.575 1512.28 Q342.381 1512.63 344.325 1513.32 Z\" fill=\"#000000\" fill-rule=\"evenodd\" fill-opacity=\"1\" /><path clip-path=\"url(#clip380)\" d=\"M 0 0 M351.686 1512.56 L370.042 1512.56 L370.042 1516.5 L355.968 1516.5 L355.968 1524.97 Q356.987 1524.62 358.006 1524.46 Q359.024 1524.27 360.043 1524.27 Q365.83 1524.27 369.209 1527.44 Q372.589 1530.62 372.589 1536.03 Q372.589 1541.61 369.117 1544.71 Q365.644 1547.79 359.325 1547.79 Q357.149 1547.79 354.881 1547.42 Q352.635 1547.05 350.228 1546.31 L350.228 1541.61 Q352.311 1542.74 354.533 1543.3 Q356.756 1543.86 359.232 1543.86 Q363.237 1543.86 365.575 1541.75 Q367.913 1539.64 367.913 1536.03 Q367.913 1532.42 365.575 1530.31 Q363.237 1528.21 359.232 1528.21 Q357.357 1528.21 355.482 1528.62 Q353.631 1529.04 351.686 1529.92 L351.686 1512.56 Z\" fill=\"#000000\" fill-rule=\"evenodd\" fill-opacity=\"1\" /><path clip-path=\"url(#clip380)\" d=\"M 0 0 M512.774 1515.64 Q509.163 1515.64 507.334 1519.2 Q505.528 1522.75 505.528 1529.87 Q505.528 1536.98 507.334 1540.55 Q509.163 1544.09 512.774 1544.09 Q516.408 1544.09 518.214 1540.55 Q520.042 1536.98 520.042 1529.87 Q520.042 1522.75 518.214 1519.2 Q516.408 1515.64 512.774 1515.64 M512.774 1511.93 Q518.584 1511.93 521.639 1516.54 Q524.718 1521.12 524.718 1529.87 Q524.718 1538.6 521.639 1543.21 Q518.584 1547.79 512.774 1547.79 Q506.964 1547.79 503.885 1543.21 Q500.829 1538.6 500.829 1529.87 Q500.829 1521.12 503.885 1516.54 Q506.964 1511.93 512.774 1511.93 Z\" fill=\"#000000\" fill-rule=\"evenodd\" fill-opacity=\"1\" /><path clip-path=\"url(#clip380)\" d=\"M 0 0 M529.788 1541.24 L534.672 1541.24 L534.672 1547.12 L529.788 1547.12 L529.788 1541.24 Z\" fill=\"#000000\" fill-rule=\"evenodd\" fill-opacity=\"1\" /><path clip-path=\"url(#clip380)\" d=\"M 0 0 M538.561 1512.56 L560.783 1512.56 L560.783 1514.55 L548.237 1547.12 L543.352 1547.12 L555.158 1516.5 L538.561 1516.5 L538.561 1512.56 Z\" fill=\"#000000\" fill-rule=\"evenodd\" fill-opacity=\"1\" /><path clip-path=\"url(#clip380)\" d=\"M 0 0 M576.431 1527.98 Q573.283 1527.98 571.431 1530.13 Q569.602 1532.28 569.602 1536.03 Q569.602 1539.76 571.431 1541.93 Q573.283 1544.09 576.431 1544.09 Q579.579 1544.09 581.408 1541.93 Q583.26 1539.76 583.26 1536.03 Q583.26 1532.28 581.408 1530.13 Q579.579 1527.98 576.431 1527.98 M585.713 1513.32 L585.713 1517.58 Q583.954 1516.75 582.148 1516.31 Q580.366 1515.87 578.607 1515.87 Q573.977 1515.87 571.523 1519 Q569.093 1522.12 568.746 1528.44 Q570.111 1526.43 572.172 1525.36 Q574.232 1524.27 576.709 1524.27 Q581.917 1524.27 584.926 1527.44 Q587.959 1530.59 587.959 1536.03 Q587.959 1541.36 584.81 1544.57 Q581.662 1547.79 576.431 1547.79 Q570.436 1547.79 567.264 1543.21 Q564.093 1538.6 564.093 1529.87 Q564.093 1521.68 567.982 1516.82 Q571.871 1511.93 578.422 1511.93 Q580.181 1511.93 581.963 1512.28 Q583.769 1512.63 585.713 1513.32 Z\" fill=\"#000000\" fill-rule=\"evenodd\" fill-opacity=\"1\" /><path clip-path=\"url(#clip380)\" d=\"M 0 0 M591.847 1512.56 L614.07 1512.56 L614.07 1514.55 L601.523 1547.12 L596.639 1547.12 L608.445 1516.5 L591.847 1516.5 L591.847 1512.56 Z\" fill=\"#000000\" fill-rule=\"evenodd\" fill-opacity=\"1\" /><path clip-path=\"url(#clip380)\" d=\"M 0 0 M629.139 1515.64 Q625.528 1515.64 623.699 1519.2 Q621.894 1522.75 621.894 1529.87 Q621.894 1536.98 623.699 1540.55 Q625.528 1544.09 629.139 1544.09 Q632.773 1544.09 634.579 1540.55 Q636.407 1536.98 636.407 1529.87 Q636.407 1522.75 634.579 1519.2 Q632.773 1515.64 629.139 1515.64 M629.139 1511.93 Q634.949 1511.93 638.005 1516.54 Q641.083 1521.12 641.083 1529.87 Q641.083 1538.6 638.005 1543.21 Q634.949 1547.79 629.139 1547.79 Q623.329 1547.79 620.25 1543.21 Q617.195 1538.6 617.195 1529.87 Q617.195 1521.12 620.25 1516.54 Q623.329 1511.93 629.139 1511.93 Z\" fill=\"#000000\" fill-rule=\"evenodd\" fill-opacity=\"1\" /><path clip-path=\"url(#clip380)\" d=\"M 0 0 M781.801 1515.64 Q778.19 1515.64 776.361 1519.2 Q774.555 1522.75 774.555 1529.87 Q774.555 1536.98 776.361 1540.55 Q778.19 1544.09 781.801 1544.09 Q785.435 1544.09 787.241 1540.55 Q789.069 1536.98 789.069 1529.87 Q789.069 1522.75 787.241 1519.2 Q785.435 1515.64 781.801 1515.64 M781.801 1511.93 Q787.611 1511.93 790.666 1516.54 Q793.745 1521.12 793.745 1529.87 Q793.745 1538.6 790.666 1543.21 Q787.611 1547.79 781.801 1547.79 Q775.991 1547.79 772.912 1543.21 Q769.856 1538.6 769.856 1529.87 Q769.856 1521.12 772.912 1516.54 Q775.991 1511.93 781.801 1511.93 Z\" fill=\"#000000\" fill-rule=\"evenodd\" fill-opacity=\"1\" /><path clip-path=\"url(#clip380)\" d=\"M 0 0 M798.815 1541.24 L803.699 1541.24 L803.699 1547.12 L798.815 1547.12 L798.815 1541.24 Z\" fill=\"#000000\" fill-rule=\"evenodd\" fill-opacity=\"1\" /><path clip-path=\"url(#clip380)\" d=\"M 0 0 M807.588 1512.56 L829.81 1512.56 L829.81 1514.55 L817.263 1547.12 L812.379 1547.12 L824.185 1516.5 L807.588 1516.5 L807.588 1512.56 Z\" fill=\"#000000\" fill-rule=\"evenodd\" fill-opacity=\"1\" /><path clip-path=\"url(#clip380)\" d=\"M 0 0 M845.458 1527.98 Q842.31 1527.98 840.458 1530.13 Q838.629 1532.28 838.629 1536.03 Q838.629 1539.76 840.458 1541.93 Q842.31 1544.09 845.458 1544.09 Q848.606 1544.09 850.435 1541.93 Q852.286 1539.76 852.286 1536.03 Q852.286 1532.28 850.435 1530.13 Q848.606 1527.98 845.458 1527.98 M854.74 1513.32 L854.74 1517.58 Q852.981 1516.75 851.175 1516.31 Q849.393 1515.87 847.634 1515.87 Q843.004 1515.87 840.55 1519 Q838.12 1522.12 837.773 1528.44 Q839.138 1526.43 841.199 1525.36 Q843.259 1524.27 845.736 1524.27 Q850.944 1524.27 853.953 1527.44 Q856.986 1530.59 856.986 1536.03 Q856.986 1541.36 853.837 1544.57 Q850.689 1547.79 845.458 1547.79 Q839.462 1547.79 836.291 1543.21 Q833.12 1538.6 833.12 1529.87 Q833.12 1521.68 837.009 1516.82 Q840.898 1511.93 847.449 1511.93 Q849.208 1511.93 850.99 1512.28 Q852.796 1512.63 854.74 1513.32 Z\" fill=\"#000000\" fill-rule=\"evenodd\" fill-opacity=\"1\" /><path clip-path=\"url(#clip380)\" d=\"M 0 0 M860.874 1512.56 L883.096 1512.56 L883.096 1514.55 L870.55 1547.12 L865.666 1547.12 L877.472 1516.5 L860.874 1516.5 L860.874 1512.56 Z\" fill=\"#000000\" fill-rule=\"evenodd\" fill-opacity=\"1\" /><path clip-path=\"url(#clip380)\" d=\"M 0 0 M888.212 1512.56 L906.569 1512.56 L906.569 1516.5 L892.495 1516.5 L892.495 1524.97 Q893.513 1524.62 894.532 1524.46 Q895.55 1524.27 896.569 1524.27 Q902.356 1524.27 905.735 1527.44 Q909.115 1530.62 909.115 1536.03 Q909.115 1541.61 905.643 1544.71 Q902.17 1547.79 895.851 1547.79 Q893.675 1547.79 891.407 1547.42 Q889.161 1547.05 886.754 1546.31 L886.754 1541.61 Q888.837 1542.74 891.059 1543.3 Q893.282 1543.86 895.758 1543.86 Q899.763 1543.86 902.101 1541.75 Q904.439 1539.64 904.439 1536.03 Q904.439 1532.42 902.101 1530.31 Q899.763 1528.21 895.758 1528.21 Q893.883 1528.21 892.008 1528.62 Q890.157 1529.04 888.212 1529.92 L888.212 1512.56 Z\" fill=\"#000000\" fill-rule=\"evenodd\" fill-opacity=\"1\" /><path clip-path=\"url(#clip380)\" d=\"M 0 0 M1049.43 1515.64 Q1045.82 1515.64 1043.99 1519.2 Q1042.18 1522.75 1042.18 1529.87 Q1042.18 1536.98 1043.99 1540.55 Q1045.82 1544.09 1049.43 1544.09 Q1053.06 1544.09 1054.87 1540.55 Q1056.7 1536.98 1056.7 1529.87 Q1056.7 1522.75 1054.87 1519.2 Q1053.06 1515.64 1049.43 1515.64 M1049.43 1511.93 Q1055.24 1511.93 1058.29 1516.54 Q1061.37 1521.12 1061.37 1529.87 Q1061.37 1538.6 1058.29 1543.21 Q1055.24 1547.79 1049.43 1547.79 Q1043.62 1547.79 1040.54 1543.21 Q1037.48 1538.6 1037.48 1529.87 Q1037.48 1521.12 1040.54 1516.54 Q1043.62 1511.93 1049.43 1511.93 Z\" fill=\"#000000\" fill-rule=\"evenodd\" fill-opacity=\"1\" /><path clip-path=\"url(#clip380)\" d=\"M 0 0 M1066.44 1541.24 L1071.33 1541.24 L1071.33 1547.12 L1066.44 1547.12 L1066.44 1541.24 Z\" fill=\"#000000\" fill-rule=\"evenodd\" fill-opacity=\"1\" /><path clip-path=\"url(#clip380)\" d=\"M 0 0 M1075.21 1512.56 L1097.44 1512.56 L1097.44 1514.55 L1084.89 1547.12 L1080.01 1547.12 L1091.81 1516.5 L1075.21 1516.5 L1075.21 1512.56 Z\" fill=\"#000000\" fill-rule=\"evenodd\" fill-opacity=\"1\" /><path clip-path=\"url(#clip380)\" d=\"M 0 0 M1113.08 1527.98 Q1109.94 1527.98 1108.08 1530.13 Q1106.26 1532.28 1106.26 1536.03 Q1106.26 1539.76 1108.08 1541.93 Q1109.94 1544.09 1113.08 1544.09 Q1116.23 1544.09 1118.06 1541.93 Q1119.91 1539.76 1119.91 1536.03 Q1119.91 1532.28 1118.06 1530.13 Q1116.23 1527.98 1113.08 1527.98 M1122.37 1513.32 L1122.37 1517.58 Q1120.61 1516.75 1118.8 1516.31 Q1117.02 1515.87 1115.26 1515.87 Q1110.63 1515.87 1108.18 1519 Q1105.75 1522.12 1105.4 1528.44 Q1106.76 1526.43 1108.83 1525.36 Q1110.89 1524.27 1113.36 1524.27 Q1118.57 1524.27 1121.58 1527.44 Q1124.61 1530.59 1124.61 1536.03 Q1124.61 1541.36 1121.46 1544.57 Q1118.32 1547.79 1113.08 1547.79 Q1107.09 1547.79 1103.92 1543.21 Q1100.75 1538.6 1100.75 1529.87 Q1100.75 1521.68 1104.64 1516.82 Q1108.52 1511.93 1115.07 1511.93 Q1116.83 1511.93 1118.62 1512.28 Q1120.42 1512.63 1122.37 1513.32 Z\" fill=\"#000000\" fill-rule=\"evenodd\" fill-opacity=\"1\" /><path clip-path=\"url(#clip380)\" d=\"M 0 0 M1139.68 1530.71 Q1136.35 1530.71 1134.43 1532.49 Q1132.53 1534.27 1132.53 1537.4 Q1132.53 1540.52 1134.43 1542.31 Q1136.35 1544.09 1139.68 1544.09 Q1143.01 1544.09 1144.94 1542.31 Q1146.86 1540.5 1146.86 1537.4 Q1146.86 1534.27 1144.94 1532.49 Q1143.04 1530.71 1139.68 1530.71 M1135.01 1528.72 Q1132 1527.98 1130.31 1525.92 Q1128.64 1523.86 1128.64 1520.89 Q1128.64 1516.75 1131.58 1514.34 Q1134.54 1511.93 1139.68 1511.93 Q1144.84 1511.93 1147.78 1514.34 Q1150.72 1516.75 1150.72 1520.89 Q1150.72 1523.86 1149.03 1525.92 Q1147.37 1527.98 1144.38 1528.72 Q1147.76 1529.5 1149.63 1531.8 Q1151.53 1534.09 1151.53 1537.4 Q1151.53 1542.42 1148.45 1545.11 Q1145.4 1547.79 1139.68 1547.79 Q1133.96 1547.79 1130.89 1545.11 Q1127.83 1542.42 1127.83 1537.4 Q1127.83 1534.09 1129.73 1531.8 Q1131.63 1529.5 1135.01 1528.72 M1133.29 1521.33 Q1133.29 1524.02 1134.96 1525.52 Q1136.65 1527.03 1139.68 1527.03 Q1142.69 1527.03 1144.38 1525.52 Q1146.09 1524.02 1146.09 1521.33 Q1146.09 1518.65 1144.38 1517.14 Q1142.69 1515.64 1139.68 1515.64 Q1136.65 1515.64 1134.96 1517.14 Q1133.29 1518.65 1133.29 1521.33 Z\" fill=\"#000000\" fill-rule=\"evenodd\" fill-opacity=\"1\" /><path clip-path=\"url(#clip380)\" d=\"M 0 0 M1166.6 1515.64 Q1162.99 1515.64 1161.16 1519.2 Q1159.36 1522.75 1159.36 1529.87 Q1159.36 1536.98 1161.16 1540.55 Q1162.99 1544.09 1166.6 1544.09 Q1170.24 1544.09 1172.04 1540.55 Q1173.87 1536.98 1173.87 1529.87 Q1173.87 1522.75 1172.04 1519.2 Q1170.24 1515.64 1166.6 1515.64 M1166.6 1511.93 Q1172.41 1511.93 1175.47 1516.54 Q1178.55 1521.12 1178.55 1529.87 Q1178.55 1538.6 1175.47 1543.21 Q1172.41 1547.79 1166.6 1547.79 Q1160.79 1547.79 1157.71 1543.21 Q1154.66 1538.6 1154.66 1529.87 Q1154.66 1521.12 1157.71 1516.54 Q1160.79 1511.93 1166.6 1511.93 Z\" fill=\"#000000\" fill-rule=\"evenodd\" fill-opacity=\"1\" /><polyline clip-path=\"url(#clip384)\" style=\"stroke:#000000; stroke-width:2; stroke-opacity:0.1; fill:none\" points=\"\n",
       "  279.17,1440.67 1152.76,1440.67 \n",
       "  \"/>\n",
       "<polyline clip-path=\"url(#clip384)\" style=\"stroke:#000000; stroke-width:2; stroke-opacity:0.1; fill:none\" points=\"\n",
       "  279.17,1341.18 1152.76,1341.18 \n",
       "  \"/>\n",
       "<polyline clip-path=\"url(#clip384)\" style=\"stroke:#000000; stroke-width:2; stroke-opacity:0.1; fill:none\" points=\"\n",
       "  279.17,1241.69 1152.76,1241.69 \n",
       "  \"/>\n",
       "<polyline clip-path=\"url(#clip384)\" style=\"stroke:#000000; stroke-width:2; stroke-opacity:0.1; fill:none\" points=\"\n",
       "  279.17,1142.2 1152.76,1142.2 \n",
       "  \"/>\n",
       "<polyline clip-path=\"url(#clip384)\" style=\"stroke:#000000; stroke-width:2; stroke-opacity:0.1; fill:none\" points=\"\n",
       "  279.17,1042.71 1152.76,1042.71 \n",
       "  \"/>\n",
       "<polyline clip-path=\"url(#clip384)\" style=\"stroke:#000000; stroke-width:2; stroke-opacity:0.1; fill:none\" points=\"\n",
       "  279.17,943.22 1152.76,943.22 \n",
       "  \"/>\n",
       "<polyline clip-path=\"url(#clip380)\" style=\"stroke:#000000; stroke-width:4; stroke-opacity:1; fill:none\" points=\"\n",
       "  279.17,1486.45 279.17,923.472 \n",
       "  \"/>\n",
       "<polyline clip-path=\"url(#clip380)\" style=\"stroke:#000000; stroke-width:4; stroke-opacity:1; fill:none\" points=\"\n",
       "  279.17,1440.67 289.653,1440.67 \n",
       "  \"/>\n",
       "<polyline clip-path=\"url(#clip380)\" style=\"stroke:#000000; stroke-width:4; stroke-opacity:1; fill:none\" points=\"\n",
       "  279.17,1341.18 289.653,1341.18 \n",
       "  \"/>\n",
       "<polyline clip-path=\"url(#clip380)\" style=\"stroke:#000000; stroke-width:4; stroke-opacity:1; fill:none\" points=\"\n",
       "  279.17,1241.69 289.653,1241.69 \n",
       "  \"/>\n",
       "<polyline clip-path=\"url(#clip380)\" style=\"stroke:#000000; stroke-width:4; stroke-opacity:1; fill:none\" points=\"\n",
       "  279.17,1142.2 289.653,1142.2 \n",
       "  \"/>\n",
       "<polyline clip-path=\"url(#clip380)\" style=\"stroke:#000000; stroke-width:4; stroke-opacity:1; fill:none\" points=\"\n",
       "  279.17,1042.71 289.653,1042.71 \n",
       "  \"/>\n",
       "<polyline clip-path=\"url(#clip380)\" style=\"stroke:#000000; stroke-width:4; stroke-opacity:1; fill:none\" points=\"\n",
       "  279.17,943.22 289.653,943.22 \n",
       "  \"/>\n",
       "<path clip-path=\"url(#clip380)\" d=\"M 0 0 M52.6125 1429.84 L74.8346 1429.84 L74.8346 1431.83 L62.2884 1464.4 L57.4041 1464.4 L69.2096 1433.77 L52.6125 1433.77 L52.6125 1429.84 Z\" fill=\"#000000\" fill-rule=\"evenodd\" fill-opacity=\"1\" /><path clip-path=\"url(#clip380)\" d=\"M 0 0 M79.904 1458.52 L84.7882 1458.52 L84.7882 1464.4 L79.904 1464.4 L79.904 1458.52 Z\" fill=\"#000000\" fill-rule=\"evenodd\" fill-opacity=\"1\" /><path clip-path=\"url(#clip380)\" d=\"M 0 0 M99.8576 1432.92 Q96.2465 1432.92 94.4178 1436.48 Q92.6123 1440.02 92.6123 1447.15 Q92.6123 1454.26 94.4178 1457.82 Q96.2465 1461.36 99.8576 1461.36 Q103.492 1461.36 105.297 1457.82 Q107.126 1454.26 107.126 1447.15 Q107.126 1440.02 105.297 1436.48 Q103.492 1432.92 99.8576 1432.92 M99.8576 1429.21 Q105.668 1429.21 108.723 1433.82 Q111.802 1438.4 111.802 1447.15 Q111.802 1455.88 108.723 1460.49 Q105.668 1465.07 99.8576 1465.07 Q94.0475 1465.07 90.9688 1460.49 Q87.9132 1455.88 87.9132 1447.15 Q87.9132 1438.4 90.9688 1433.82 Q94.0475 1429.21 99.8576 1429.21 Z\" fill=\"#000000\" fill-rule=\"evenodd\" fill-opacity=\"1\" /><path clip-path=\"url(#clip380)\" d=\"M 0 0 M145.043 1438.93 L134.464 1449.56 L145.043 1460.14 L142.288 1462.94 L131.663 1452.31 L121.038 1462.94 L118.307 1460.14 L128.862 1449.56 L118.307 1438.93 L121.038 1436.13 L131.663 1446.76 L142.288 1436.13 L145.043 1438.93 Z\" fill=\"#000000\" fill-rule=\"evenodd\" fill-opacity=\"1\" /><path clip-path=\"url(#clip380)\" d=\"M 0 0 M150.922 1460.46 L158.561 1460.46 L158.561 1434.1 L150.251 1435.76 L150.251 1431.5 L158.515 1429.84 L163.191 1429.84 L163.191 1460.46 L170.829 1460.46 L170.829 1464.4 L150.922 1464.4 L150.922 1460.46 Z\" fill=\"#000000\" fill-rule=\"evenodd\" fill-opacity=\"1\" /><path clip-path=\"url(#clip380)\" d=\"M 0 0 M185.899 1432.92 Q182.288 1432.92 180.459 1436.48 Q178.653 1440.02 178.653 1447.15 Q178.653 1454.26 180.459 1457.82 Q182.288 1461.36 185.899 1461.36 Q189.533 1461.36 191.339 1457.82 Q193.167 1454.26 193.167 1447.15 Q193.167 1440.02 191.339 1436.48 Q189.533 1432.92 185.899 1432.92 M185.899 1429.21 Q191.709 1429.21 194.765 1433.82 Q197.843 1438.4 197.843 1447.15 Q197.843 1455.88 194.765 1460.49 Q191.709 1465.07 185.899 1465.07 Q180.089 1465.07 177.01 1460.49 Q173.954 1455.88 173.954 1447.15 Q173.954 1438.4 177.01 1433.82 Q180.089 1429.21 185.899 1429.21 Z\" fill=\"#000000\" fill-rule=\"evenodd\" fill-opacity=\"1\" /><path clip-path=\"url(#clip380)\" d=\"M 0 0 M197.843 1423.31 L221.955 1423.31 L221.955 1426.51 L197.843 1426.51 L197.843 1423.31 Z\" fill=\"#000000\" fill-rule=\"evenodd\" fill-opacity=\"1\" /><path clip-path=\"url(#clip380)\" d=\"M 0 0 M225.114 1408.91 L243.17 1408.91 L243.17 1410.52 L232.976 1436.99 L229.008 1436.99 L238.6 1412.1 L225.114 1412.1 L225.114 1408.91 Z\" fill=\"#000000\" fill-rule=\"evenodd\" fill-opacity=\"1\" /><path clip-path=\"url(#clip380)\" d=\"M 0 0 M62.9828 1348.5 Q59.6495 1348.5 57.7282 1350.28 Q55.8301 1352.06 55.8301 1355.19 Q55.8301 1358.31 57.7282 1360.09 Q59.6495 1361.87 62.9828 1361.87 Q66.3161 1361.87 68.2374 1360.09 Q70.1587 1358.29 70.1587 1355.19 Q70.1587 1352.06 68.2374 1350.28 Q66.3393 1348.5 62.9828 1348.5 M58.3069 1346.5 Q55.2977 1345.76 53.6079 1343.7 Q51.9412 1341.64 51.9412 1338.68 Q51.9412 1334.54 54.881 1332.13 Q57.8439 1329.72 62.9828 1329.72 Q68.1448 1329.72 71.0846 1332.13 Q74.0244 1334.54 74.0244 1338.68 Q74.0244 1341.64 72.3346 1343.7 Q70.6679 1345.76 67.6819 1346.5 Q71.0615 1347.29 72.9365 1349.58 Q74.8346 1351.87 74.8346 1355.19 Q74.8346 1360.21 71.7559 1362.89 Q68.7004 1365.58 62.9828 1365.58 Q57.2652 1365.58 54.1866 1362.89 Q51.131 1360.21 51.131 1355.19 Q51.131 1351.87 53.0292 1349.58 Q54.9273 1347.29 58.3069 1346.5 M56.5939 1339.12 Q56.5939 1341.81 58.2606 1343.31 Q59.9504 1344.81 62.9828 1344.81 Q65.992 1344.81 67.6819 1343.31 Q69.3948 1341.81 69.3948 1339.12 Q69.3948 1336.44 67.6819 1334.93 Q65.992 1333.43 62.9828 1333.43 Q59.9504 1333.43 58.2606 1334.93 Q56.5939 1336.44 56.5939 1339.12 Z\" fill=\"#000000\" fill-rule=\"evenodd\" fill-opacity=\"1\" /><path clip-path=\"url(#clip380)\" d=\"M 0 0 M79.904 1359.03 L84.7882 1359.03 L84.7882 1364.91 L79.904 1364.91 L79.904 1359.03 Z\" fill=\"#000000\" fill-rule=\"evenodd\" fill-opacity=\"1\" /><path clip-path=\"url(#clip380)\" d=\"M 0 0 M99.8576 1333.43 Q96.2465 1333.43 94.4178 1336.99 Q92.6123 1340.53 92.6123 1347.66 Q92.6123 1354.77 94.4178 1358.33 Q96.2465 1361.87 99.8576 1361.87 Q103.492 1361.87 105.297 1358.33 Q107.126 1354.77 107.126 1347.66 Q107.126 1340.53 105.297 1336.99 Q103.492 1333.43 99.8576 1333.43 M99.8576 1329.72 Q105.668 1329.72 108.723 1334.33 Q111.802 1338.91 111.802 1347.66 Q111.802 1356.39 108.723 1361 Q105.668 1365.58 99.8576 1365.58 Q94.0475 1365.58 90.9688 1361 Q87.9132 1356.39 87.9132 1347.66 Q87.9132 1338.91 90.9688 1334.33 Q94.0475 1329.72 99.8576 1329.72 Z\" fill=\"#000000\" fill-rule=\"evenodd\" fill-opacity=\"1\" /><path clip-path=\"url(#clip380)\" d=\"M 0 0 M145.043 1339.44 L134.464 1350.07 L145.043 1360.65 L142.288 1363.45 L131.663 1352.82 L121.038 1363.45 L118.307 1360.65 L128.862 1350.07 L118.307 1339.44 L121.038 1336.64 L131.663 1347.27 L142.288 1336.64 L145.043 1339.44 Z\" fill=\"#000000\" fill-rule=\"evenodd\" fill-opacity=\"1\" /><path clip-path=\"url(#clip380)\" d=\"M 0 0 M150.922 1360.97 L158.561 1360.97 L158.561 1334.61 L150.251 1336.27 L150.251 1332.01 L158.515 1330.35 L163.191 1330.35 L163.191 1360.97 L170.829 1360.97 L170.829 1364.91 L150.922 1364.91 L150.922 1360.97 Z\" fill=\"#000000\" fill-rule=\"evenodd\" fill-opacity=\"1\" /><path clip-path=\"url(#clip380)\" d=\"M 0 0 M185.899 1333.43 Q182.288 1333.43 180.459 1336.99 Q178.653 1340.53 178.653 1347.66 Q178.653 1354.77 180.459 1358.33 Q182.288 1361.87 185.899 1361.87 Q189.533 1361.87 191.339 1358.33 Q193.167 1354.77 193.167 1347.66 Q193.167 1340.53 191.339 1336.99 Q189.533 1333.43 185.899 1333.43 M185.899 1329.72 Q191.709 1329.72 194.765 1334.33 Q197.843 1338.91 197.843 1347.66 Q197.843 1356.39 194.765 1361 Q191.709 1365.58 185.899 1365.58 Q180.089 1365.58 177.01 1361 Q173.954 1356.39 173.954 1347.66 Q173.954 1338.91 177.01 1334.33 Q180.089 1329.72 185.899 1329.72 Z\" fill=\"#000000\" fill-rule=\"evenodd\" fill-opacity=\"1\" /><path clip-path=\"url(#clip380)\" d=\"M 0 0 M197.843 1323.82 L221.955 1323.82 L221.955 1327.02 L197.843 1327.02 L197.843 1323.82 Z\" fill=\"#000000\" fill-rule=\"evenodd\" fill-opacity=\"1\" /><path clip-path=\"url(#clip380)\" d=\"M 0 0 M225.114 1309.42 L243.17 1309.42 L243.17 1311.03 L232.976 1337.5 L229.008 1337.5 L238.6 1312.61 L225.114 1312.61 L225.114 1309.42 Z\" fill=\"#000000\" fill-rule=\"evenodd\" fill-opacity=\"1\" /><path clip-path=\"url(#clip380)\" d=\"M 0 0 M53.2143 1264.7 L53.2143 1260.44 Q54.9736 1261.27 56.7791 1261.71 Q58.5847 1262.15 60.3208 1262.15 Q64.9504 1262.15 67.3809 1259.05 Q69.8346 1255.93 70.1818 1249.58 Q68.8393 1251.57 66.7791 1252.64 Q64.7189 1253.7 62.2189 1253.7 Q57.0338 1253.7 54.0014 1250.58 Q50.9921 1247.43 50.9921 1241.99 Q50.9921 1236.67 54.1403 1233.45 Q57.2884 1230.23 62.5198 1230.23 Q68.5152 1230.23 71.6633 1234.84 Q74.8346 1239.42 74.8346 1248.17 Q74.8346 1256.34 70.9457 1261.23 Q67.08 1266.09 60.5291 1266.09 Q58.7699 1266.09 56.9643 1265.74 Q55.1588 1265.39 53.2143 1264.7 M62.5198 1250.05 Q65.668 1250.05 67.4967 1247.89 Q69.3485 1245.74 69.3485 1241.99 Q69.3485 1238.26 67.4967 1236.11 Q65.668 1233.94 62.5198 1233.94 Q59.3717 1233.94 57.5199 1236.11 Q55.6912 1238.26 55.6912 1241.99 Q55.6912 1245.74 57.5199 1247.89 Q59.3717 1250.05 62.5198 1250.05 Z\" fill=\"#000000\" fill-rule=\"evenodd\" fill-opacity=\"1\" /><path clip-path=\"url(#clip380)\" d=\"M 0 0 M79.904 1259.54 L84.7882 1259.54 L84.7882 1265.42 L79.904 1265.42 L79.904 1259.54 Z\" fill=\"#000000\" fill-rule=\"evenodd\" fill-opacity=\"1\" /><path clip-path=\"url(#clip380)\" d=\"M 0 0 M99.8576 1233.94 Q96.2465 1233.94 94.4178 1237.5 Q92.6123 1241.04 92.6123 1248.17 Q92.6123 1255.28 94.4178 1258.84 Q96.2465 1262.38 99.8576 1262.38 Q103.492 1262.38 105.297 1258.84 Q107.126 1255.28 107.126 1248.17 Q107.126 1241.04 105.297 1237.5 Q103.492 1233.94 99.8576 1233.94 M99.8576 1230.23 Q105.668 1230.23 108.723 1234.84 Q111.802 1239.42 111.802 1248.17 Q111.802 1256.9 108.723 1261.51 Q105.668 1266.09 99.8576 1266.09 Q94.0475 1266.09 90.9688 1261.51 Q87.9132 1256.9 87.9132 1248.17 Q87.9132 1239.42 90.9688 1234.84 Q94.0475 1230.23 99.8576 1230.23 Z\" fill=\"#000000\" fill-rule=\"evenodd\" fill-opacity=\"1\" /><path clip-path=\"url(#clip380)\" d=\"M 0 0 M145.043 1239.95 L134.464 1250.58 L145.043 1261.16 L142.288 1263.96 L131.663 1253.33 L121.038 1263.96 L118.307 1261.16 L128.862 1250.58 L118.307 1239.95 L121.038 1237.15 L131.663 1247.78 L142.288 1237.15 L145.043 1239.95 Z\" fill=\"#000000\" fill-rule=\"evenodd\" fill-opacity=\"1\" /><path clip-path=\"url(#clip380)\" d=\"M 0 0 M150.922 1261.48 L158.561 1261.48 L158.561 1235.12 L150.251 1236.78 L150.251 1232.52 L158.515 1230.86 L163.191 1230.86 L163.191 1261.48 L170.829 1261.48 L170.829 1265.42 L150.922 1265.42 L150.922 1261.48 Z\" fill=\"#000000\" fill-rule=\"evenodd\" fill-opacity=\"1\" /><path clip-path=\"url(#clip380)\" d=\"M 0 0 M185.899 1233.94 Q182.288 1233.94 180.459 1237.5 Q178.653 1241.04 178.653 1248.17 Q178.653 1255.28 180.459 1258.84 Q182.288 1262.38 185.899 1262.38 Q189.533 1262.38 191.339 1258.84 Q193.167 1255.28 193.167 1248.17 Q193.167 1241.04 191.339 1237.5 Q189.533 1233.94 185.899 1233.94 M185.899 1230.23 Q191.709 1230.23 194.765 1234.84 Q197.843 1239.42 197.843 1248.17 Q197.843 1256.9 194.765 1261.51 Q191.709 1266.09 185.899 1266.09 Q180.089 1266.09 177.01 1261.51 Q173.954 1256.9 173.954 1248.17 Q173.954 1239.42 177.01 1234.84 Q180.089 1230.23 185.899 1230.23 Z\" fill=\"#000000\" fill-rule=\"evenodd\" fill-opacity=\"1\" /><path clip-path=\"url(#clip380)\" d=\"M 0 0 M197.843 1224.33 L221.955 1224.33 L221.955 1227.53 L197.843 1227.53 L197.843 1224.33 Z\" fill=\"#000000\" fill-rule=\"evenodd\" fill-opacity=\"1\" /><path clip-path=\"url(#clip380)\" d=\"M 0 0 M225.114 1209.93 L243.17 1209.93 L243.17 1211.54 L232.976 1238.01 L229.008 1238.01 L238.6 1213.12 L225.114 1213.12 L225.114 1209.93 Z\" fill=\"#000000\" fill-rule=\"evenodd\" fill-opacity=\"1\" /><path clip-path=\"url(#clip380)\" d=\"M 0 0 M54.0621 1161.99 L61.701 1161.99 L61.701 1135.63 L53.3908 1137.29 L53.3908 1133.03 L61.6547 1131.37 L66.3306 1131.37 L66.3306 1161.99 L73.9694 1161.99 L73.9694 1165.93 L54.0621 1165.93 L54.0621 1161.99 Z\" fill=\"#000000\" fill-rule=\"evenodd\" fill-opacity=\"1\" /><path clip-path=\"url(#clip380)\" d=\"M 0 0 M79.0389 1160.05 L83.9231 1160.05 L83.9231 1165.93 L79.0389 1165.93 L79.0389 1160.05 Z\" fill=\"#000000\" fill-rule=\"evenodd\" fill-opacity=\"1\" /><path clip-path=\"url(#clip380)\" d=\"M 0 0 M98.9924 1134.45 Q95.3814 1134.45 93.5527 1138.01 Q91.7471 1141.55 91.7471 1148.68 Q91.7471 1155.79 93.5527 1159.35 Q95.3814 1162.9 98.9924 1162.9 Q102.627 1162.9 104.432 1159.35 Q106.261 1155.79 106.261 1148.68 Q106.261 1141.55 104.432 1138.01 Q102.627 1134.45 98.9924 1134.45 M98.9924 1130.74 Q104.803 1130.74 107.858 1135.35 Q110.937 1139.93 110.937 1148.68 Q110.937 1157.41 107.858 1162.02 Q104.803 1166.6 98.9924 1166.6 Q93.1823 1166.6 90.1036 1162.02 Q87.0481 1157.41 87.0481 1148.68 Q87.0481 1139.93 90.1036 1135.35 Q93.1823 1130.74 98.9924 1130.74 Z\" fill=\"#000000\" fill-rule=\"evenodd\" fill-opacity=\"1\" /><path clip-path=\"url(#clip380)\" d=\"M 0 0 M144.177 1140.46 L133.599 1151.09 L144.177 1161.67 L141.423 1164.47 L130.798 1153.84 L120.173 1164.47 L117.441 1161.67 L127.997 1151.09 L117.441 1140.46 L120.173 1137.66 L130.798 1148.29 L141.423 1137.66 L144.177 1140.46 Z\" fill=\"#000000\" fill-rule=\"evenodd\" fill-opacity=\"1\" /><path clip-path=\"url(#clip380)\" d=\"M 0 0 M150.057 1161.99 L157.696 1161.99 L157.696 1135.63 L149.386 1137.29 L149.386 1133.03 L157.65 1131.37 L162.325 1131.37 L162.325 1161.99 L169.964 1161.99 L169.964 1165.93 L150.057 1165.93 L150.057 1161.99 Z\" fill=\"#000000\" fill-rule=\"evenodd\" fill-opacity=\"1\" /><path clip-path=\"url(#clip380)\" d=\"M 0 0 M185.034 1134.45 Q181.423 1134.45 179.594 1138.01 Q177.788 1141.55 177.788 1148.68 Q177.788 1155.79 179.594 1159.35 Q181.423 1162.9 185.034 1162.9 Q188.668 1162.9 190.473 1159.35 Q192.302 1155.79 192.302 1148.68 Q192.302 1141.55 190.473 1138.01 Q188.668 1134.45 185.034 1134.45 M185.034 1130.74 Q190.844 1130.74 193.899 1135.35 Q196.978 1139.93 196.978 1148.68 Q196.978 1157.41 193.899 1162.02 Q190.844 1166.6 185.034 1166.6 Q179.223 1166.6 176.145 1162.02 Q173.089 1157.41 173.089 1148.68 Q173.089 1139.93 176.145 1135.35 Q179.223 1130.74 185.034 1130.74 Z\" fill=\"#000000\" fill-rule=\"evenodd\" fill-opacity=\"1\" /><path clip-path=\"url(#clip380)\" d=\"M 0 0 M196.978 1124.84 L221.09 1124.84 L221.09 1128.04 L196.978 1128.04 L196.978 1124.84 Z\" fill=\"#000000\" fill-rule=\"evenodd\" fill-opacity=\"1\" /><path clip-path=\"url(#clip380)\" d=\"M 0 0 M233.804 1122.96 Q231.246 1122.96 229.741 1124.71 Q228.255 1126.46 228.255 1129.51 Q228.255 1132.54 229.741 1134.3 Q231.246 1136.05 233.804 1136.05 Q236.362 1136.05 237.847 1134.3 Q239.352 1132.54 239.352 1129.51 Q239.352 1126.46 237.847 1124.71 Q236.362 1122.96 233.804 1122.96 M241.346 1111.06 L241.346 1114.52 Q239.916 1113.84 238.449 1113.48 Q237.001 1113.13 235.572 1113.13 Q231.81 1113.13 229.816 1115.67 Q227.842 1118.2 227.559 1123.34 Q228.669 1121.7 230.343 1120.84 Q232.017 1119.95 234.029 1119.95 Q238.261 1119.95 240.706 1122.53 Q243.17 1125.09 243.17 1129.51 Q243.17 1133.83 240.612 1136.45 Q238.054 1139.06 233.804 1139.06 Q228.932 1139.06 226.356 1135.34 Q223.779 1131.6 223.779 1124.51 Q223.779 1117.85 226.939 1113.9 Q230.099 1109.93 235.421 1109.93 Q236.851 1109.93 238.299 1110.21 Q239.766 1110.49 241.346 1111.06 Z\" fill=\"#000000\" fill-rule=\"evenodd\" fill-opacity=\"1\" /><path clip-path=\"url(#clip380)\" d=\"M 0 0 M55.289 1062.5 L62.9278 1062.5 L62.9278 1036.14 L54.6177 1037.8 L54.6177 1033.54 L62.8815 1031.88 L67.5574 1031.88 L67.5574 1062.5 L75.1963 1062.5 L75.1963 1066.44 L55.289 1066.44 L55.289 1062.5 Z\" fill=\"#000000\" fill-rule=\"evenodd\" fill-opacity=\"1\" /><path clip-path=\"url(#clip380)\" d=\"M 0 0 M80.2657 1060.56 L85.1499 1060.56 L85.1499 1066.44 L80.2657 1066.44 L80.2657 1060.56 Z\" fill=\"#000000\" fill-rule=\"evenodd\" fill-opacity=\"1\" /><path clip-path=\"url(#clip380)\" d=\"M 0 0 M91.0295 1062.5 L98.6684 1062.5 L98.6684 1036.14 L90.3582 1037.8 L90.3582 1033.54 L98.6221 1031.88 L103.298 1031.88 L103.298 1062.5 L110.937 1062.5 L110.937 1066.44 L91.0295 1066.44 L91.0295 1062.5 Z\" fill=\"#000000\" fill-rule=\"evenodd\" fill-opacity=\"1\" /><path clip-path=\"url(#clip380)\" d=\"M 0 0 M144.177 1040.97 L133.599 1051.6 L144.177 1062.18 L141.423 1064.98 L130.798 1054.35 L120.173 1064.98 L117.441 1062.18 L127.997 1051.6 L117.441 1040.97 L120.173 1038.17 L130.798 1048.8 L141.423 1038.17 L144.177 1040.97 Z\" fill=\"#000000\" fill-rule=\"evenodd\" fill-opacity=\"1\" /><path clip-path=\"url(#clip380)\" d=\"M 0 0 M150.057 1062.5 L157.696 1062.5 L157.696 1036.14 L149.386 1037.8 L149.386 1033.54 L157.65 1031.88 L162.325 1031.88 L162.325 1062.5 L169.964 1062.5 L169.964 1066.44 L150.057 1066.44 L150.057 1062.5 Z\" fill=\"#000000\" fill-rule=\"evenodd\" fill-opacity=\"1\" /><path clip-path=\"url(#clip380)\" d=\"M 0 0 M185.034 1034.96 Q181.423 1034.96 179.594 1038.52 Q177.788 1042.06 177.788 1049.19 Q177.788 1056.3 179.594 1059.86 Q181.423 1063.41 185.034 1063.41 Q188.668 1063.41 190.473 1059.86 Q192.302 1056.3 192.302 1049.19 Q192.302 1042.06 190.473 1038.52 Q188.668 1034.96 185.034 1034.96 M185.034 1031.25 Q190.844 1031.25 193.899 1035.86 Q196.978 1040.44 196.978 1049.19 Q196.978 1057.92 193.899 1062.53 Q190.844 1067.11 185.034 1067.11 Q179.223 1067.11 176.145 1062.53 Q173.089 1057.92 173.089 1049.19 Q173.089 1040.44 176.145 1035.86 Q179.223 1031.25 185.034 1031.25 Z\" fill=\"#000000\" fill-rule=\"evenodd\" fill-opacity=\"1\" /><path clip-path=\"url(#clip380)\" d=\"M 0 0 M196.978 1025.35 L221.09 1025.35 L221.09 1028.55 L196.978 1028.55 L196.978 1025.35 Z\" fill=\"#000000\" fill-rule=\"evenodd\" fill-opacity=\"1\" /><path clip-path=\"url(#clip380)\" d=\"M 0 0 M233.804 1023.47 Q231.246 1023.47 229.741 1025.22 Q228.255 1026.97 228.255 1030.02 Q228.255 1033.05 229.741 1034.81 Q231.246 1036.56 233.804 1036.56 Q236.362 1036.56 237.847 1034.81 Q239.352 1033.05 239.352 1030.02 Q239.352 1026.97 237.847 1025.22 Q236.362 1023.47 233.804 1023.47 M241.346 1011.57 L241.346 1015.03 Q239.916 1014.35 238.449 1013.99 Q237.001 1013.64 235.572 1013.64 Q231.81 1013.64 229.816 1016.18 Q227.842 1018.71 227.559 1023.85 Q228.669 1022.21 230.343 1021.35 Q232.017 1020.46 234.029 1020.46 Q238.261 1020.46 240.706 1023.04 Q243.17 1025.6 243.17 1030.02 Q243.17 1034.34 240.612 1036.96 Q238.054 1039.57 233.804 1039.57 Q228.932 1039.57 226.356 1035.85 Q223.779 1032.11 223.779 1025.02 Q223.779 1018.36 226.939 1014.41 Q230.099 1010.44 235.421 1010.44 Q236.851 1010.44 238.299 1010.72 Q239.766 1011 241.346 1011.57 Z\" fill=\"#000000\" fill-rule=\"evenodd\" fill-opacity=\"1\" /><path clip-path=\"url(#clip380)\" d=\"M 0 0 M55.6593 963.013 L63.2982 963.013 L63.2982 936.647 L54.9881 938.314 L54.9881 934.055 L63.2519 932.388 L67.9278 932.388 L67.9278 963.013 L75.5666 963.013 L75.5666 966.948 L55.6593 966.948 L55.6593 963.013 Z\" fill=\"#000000\" fill-rule=\"evenodd\" fill-opacity=\"1\" /><path clip-path=\"url(#clip380)\" d=\"M 0 0 M80.6361 961.068 L85.5203 961.068 L85.5203 966.948 L80.6361 966.948 L80.6361 961.068 Z\" fill=\"#000000\" fill-rule=\"evenodd\" fill-opacity=\"1\" /><path clip-path=\"url(#clip380)\" d=\"M 0 0 M94.6175 963.013 L110.937 963.013 L110.937 966.948 L88.9925 966.948 L88.9925 963.013 Q91.6545 960.258 96.2378 955.629 Q100.844 950.976 102.025 949.633 Q104.27 947.11 105.15 945.374 Q106.053 943.615 106.053 941.925 Q106.053 939.17 104.108 937.434 Q102.187 935.698 99.085 935.698 Q96.886 935.698 94.4323 936.462 Q92.0017 937.226 89.224 938.777 L89.224 934.055 Q92.048 932.92 94.5017 932.342 Q96.9554 931.763 98.9924 931.763 Q104.363 931.763 107.557 934.448 Q110.752 937.133 110.752 941.624 Q110.752 943.754 109.941 945.675 Q109.154 947.573 107.048 950.166 Q106.469 950.837 103.367 954.054 Q100.266 957.249 94.6175 963.013 Z\" fill=\"#000000\" fill-rule=\"evenodd\" fill-opacity=\"1\" /><path clip-path=\"url(#clip380)\" d=\"M 0 0 M144.177 941.485 L133.599 952.11 L144.177 962.689 L141.423 965.49 L130.798 954.865 L120.173 965.49 L117.441 962.689 L127.997 952.11 L117.441 941.485 L120.173 938.684 L130.798 949.309 L141.423 938.684 L144.177 941.485 Z\" fill=\"#000000\" fill-rule=\"evenodd\" fill-opacity=\"1\" /><path clip-path=\"url(#clip380)\" d=\"M 0 0 M150.057 963.013 L157.696 963.013 L157.696 936.647 L149.386 938.314 L149.386 934.055 L157.65 932.388 L162.325 932.388 L162.325 963.013 L169.964 963.013 L169.964 966.948 L150.057 966.948 L150.057 963.013 Z\" fill=\"#000000\" fill-rule=\"evenodd\" fill-opacity=\"1\" /><path clip-path=\"url(#clip380)\" d=\"M 0 0 M185.034 935.467 Q181.423 935.467 179.594 939.031 Q177.788 942.573 177.788 949.703 Q177.788 956.809 179.594 960.374 Q181.423 963.916 185.034 963.916 Q188.668 963.916 190.473 960.374 Q192.302 956.809 192.302 949.703 Q192.302 942.573 190.473 939.031 Q188.668 935.467 185.034 935.467 M185.034 931.763 Q190.844 931.763 193.899 936.369 Q196.978 940.953 196.978 949.703 Q196.978 958.429 193.899 963.036 Q190.844 967.619 185.034 967.619 Q179.223 967.619 176.145 963.036 Q173.089 958.429 173.089 949.703 Q173.089 940.953 176.145 936.369 Q179.223 931.763 185.034 931.763 Z\" fill=\"#000000\" fill-rule=\"evenodd\" fill-opacity=\"1\" /><path clip-path=\"url(#clip380)\" d=\"M 0 0 M196.978 925.864 L221.09 925.864 L221.09 929.062 L196.978 929.062 L196.978 925.864 Z\" fill=\"#000000\" fill-rule=\"evenodd\" fill-opacity=\"1\" /><path clip-path=\"url(#clip380)\" d=\"M 0 0 M233.804 923.983 Q231.246 923.983 229.741 925.733 Q228.255 927.482 228.255 930.529 Q228.255 933.557 229.741 935.325 Q231.246 937.074 233.804 937.074 Q236.362 937.074 237.847 935.325 Q239.352 933.557 239.352 930.529 Q239.352 927.482 237.847 925.733 Q236.362 923.983 233.804 923.983 M241.346 912.078 L241.346 915.539 Q239.916 914.862 238.449 914.504 Q237.001 914.147 235.572 914.147 Q231.81 914.147 229.816 916.686 Q227.842 919.225 227.559 924.36 Q228.669 922.723 230.343 921.858 Q232.017 920.974 234.029 920.974 Q238.261 920.974 240.706 923.551 Q243.17 926.109 243.17 930.529 Q243.17 934.854 240.612 937.469 Q238.054 940.083 233.804 940.083 Q228.932 940.083 226.356 936.359 Q223.779 932.616 223.779 925.526 Q223.779 918.868 226.939 914.918 Q230.099 910.95 235.421 910.95 Q236.851 910.95 238.299 911.232 Q239.766 911.514 241.346 912.078 Z\" fill=\"#000000\" fill-rule=\"evenodd\" fill-opacity=\"1\" /><path clip-path=\"url(#clip380)\" d=\"M 0 0 M646.044 849.931 Q646.044 841.708 642.642 837.05 Q639.279 832.351 633.365 832.351 Q627.451 832.351 624.048 837.05 Q620.686 841.708 620.686 849.931 Q620.686 858.155 624.048 862.854 Q627.451 867.512 633.365 867.512 Q639.279 867.512 642.642 862.854 Q646.044 858.155 646.044 849.931 M620.686 834.092 Q623.035 830.042 626.6 828.097 Q630.205 826.112 635.188 826.112 Q643.452 826.112 648.596 832.675 Q653.782 839.237 653.782 849.931 Q653.782 860.626 648.596 867.188 Q643.452 873.751 635.188 873.751 Q630.205 873.751 626.6 871.806 Q623.035 869.821 620.686 865.77 L620.686 872.576 L613.191 872.576 L613.191 809.544 L620.686 809.544 L620.686 834.092 Z\" fill=\"#000000\" fill-rule=\"evenodd\" fill-opacity=\"1\" /><path clip-path=\"url(#clip380)\" d=\"M 0 0 M700.407 848.028 L700.407 851.673 L666.137 851.673 Q666.623 859.37 670.755 863.421 Q674.927 867.431 682.34 867.431 Q686.634 867.431 690.645 866.378 Q694.696 865.325 698.666 863.218 L698.666 870.267 Q694.655 871.968 690.442 872.86 Q686.229 873.751 681.895 873.751 Q671.038 873.751 664.678 867.431 Q658.359 861.112 658.359 850.337 Q658.359 839.197 664.354 832.675 Q670.39 826.112 680.599 826.112 Q689.754 826.112 695.06 832.026 Q700.407 837.9 700.407 848.028 M692.954 845.84 Q692.873 839.723 689.511 836.077 Q686.189 832.432 680.68 832.432 Q674.441 832.432 670.674 835.956 Q666.947 839.48 666.38 845.881 L692.954 845.84 Z\" fill=\"#000000\" fill-rule=\"evenodd\" fill-opacity=\"1\" /><path clip-path=\"url(#clip380)\" d=\"M 0 0 M715.598 814.324 L715.598 827.206 L730.951 827.206 L730.951 832.999 L715.598 832.999 L715.598 857.628 Q715.598 863.178 717.097 864.758 Q718.637 866.338 723.295 866.338 L730.951 866.338 L730.951 872.576 L723.295 872.576 Q714.667 872.576 711.385 869.376 Q708.104 866.135 708.104 857.628 L708.104 832.999 L702.635 832.999 L702.635 827.206 L708.104 827.206 L708.104 814.324 L715.598 814.324 Z\" fill=\"#000000\" fill-rule=\"evenodd\" fill-opacity=\"1\" /><path clip-path=\"url(#clip380)\" d=\"M 0 0 M759.389 849.769 Q750.355 849.769 746.871 851.835 Q743.388 853.901 743.388 858.884 Q743.388 862.854 745.98 865.203 Q748.613 867.512 753.11 867.512 Q759.308 867.512 763.034 863.137 Q766.802 858.722 766.802 851.43 L766.802 849.769 L759.389 849.769 M774.255 846.691 L774.255 872.576 L766.802 872.576 L766.802 865.689 Q764.25 869.821 760.442 871.806 Q756.634 873.751 751.125 873.751 Q744.157 873.751 740.025 869.862 Q735.934 865.933 735.934 859.37 Q735.934 851.714 741.038 847.825 Q746.183 843.936 756.35 843.936 L766.802 843.936 L766.802 843.207 Q766.802 838.062 763.399 835.267 Q760.037 832.432 753.92 832.432 Q750.031 832.432 746.345 833.363 Q742.658 834.295 739.256 836.158 L739.256 829.272 Q743.347 827.692 747.195 826.922 Q751.044 826.112 754.69 826.112 Q764.533 826.112 769.394 831.216 Q774.255 836.32 774.255 846.691 Z\" fill=\"#000000\" fill-rule=\"evenodd\" fill-opacity=\"1\" /><path clip-path=\"url(#clip380)\" d=\"M 0 0 M790.175 865.689 L818.734 865.689 L818.734 872.576 L780.332 872.576 L780.332 865.689 Q784.99 860.869 793.011 852.767 Q801.072 844.625 803.138 842.275 Q807.068 837.86 808.607 834.822 Q810.187 831.743 810.187 828.786 Q810.187 823.965 806.784 820.927 Q803.422 817.889 797.994 817.889 Q794.145 817.889 789.851 819.226 Q785.598 820.562 780.737 823.276 L780.737 815.013 Q785.679 813.028 789.973 812.015 Q794.267 811.002 797.832 811.002 Q807.23 811.002 812.82 815.701 Q818.41 820.4 818.41 828.259 Q818.41 831.986 816.992 835.348 Q815.615 838.67 811.929 843.207 Q810.916 844.382 805.488 850.012 Q800.06 855.603 790.175 865.689 Z\" fill=\"#000000\" fill-rule=\"evenodd\" fill-opacity=\"1\" /><polyline clip-path=\"url(#clip384)\" style=\"stroke:#009af9; stroke-width:4; stroke-opacity:1; fill:none\" points=\"\n",
       "  303.894,939.835 509.928,1337.82 715.963,1470.51 921.997,1337.76 1128.03,939.405 \n",
       "  \"/>\n",
       "<polyline clip-path=\"url(#clip384)\" style=\"stroke:#e26f46; stroke-width:4; stroke-opacity:1; fill:none\" points=\"\n",
       "  715.963,2049.42 715.963,360.496 \n",
       "  \"/>\n",
       "</svg>\n"
      ]
     },
     "metadata": {},
     "output_type": "display_data"
    }
   ],
   "source": [
    "using Plots\n",
    "gr()\n",
    "list_plots = []\n",
    "for (keyIndex, keyValue) in enumerate(keys(myProblem.priors))\n",
    "\n",
    "  p = plot(vXGrid[:,keyIndex], vYGrid[:,keyIndex], title = \"$(keyValue)\", label = \"\")\n",
    "  plot!([minimizer[keyIndex]], seriestype = :vline, label = \"\")\n",
    "  push!(list_plots, p)\n",
    "\n",
    "end\n",
    "\n",
    "#Hacky way to combine all the plots in a single plot\n",
    "s0 = \"\"\n",
    "for i = 1:length(keys(myProblem.priors))\n",
    "  if i==1\n",
    "      s0 = string(\"list_plots[$(i)]\" )\n",
    "  else\n",
    "      s0 = string(s0, \", \", \"list_plots[$(i)]\" )\n",
    "  end\n",
    "end\n",
    "\n",
    "plot_combined = eval(Meta.parse(string(\"plot(\", s0, \")\")))\n",
    "display(plot_combined)"
   ]
  },
  {
   "cell_type": "markdown",
   "metadata": {},
   "source": [
    "## Appendix"
   ]
  },
  {
   "cell_type": "code",
   "execution_count": 15,
   "metadata": {},
   "outputs": [
    {
     "name": "stdout",
     "output_type": "stream",
     "text": [
      "Julia Version 1.5.2\n",
      "Commit 539f3ce943 (2020-09-23 23:17 UTC)\n",
      "Platform Info:\n",
      "  OS: Linux (x86_64-pc-linux-gnu)\n",
      "  CPU: Intel(R) Core(TM) i7-8850H CPU @ 2.60GHz\n",
      "  WORD_SIZE: 64\n",
      "  LIBM: libopenlibm\n",
      "  LLVM: libLLVM-9.0.1 (ORCJIT, skylake)\n"
     ]
    }
   ],
   "source": [
    "versioninfo()"
   ]
  }
 ],
 "metadata": {
  "kernelspec": {
   "display_name": "Julia 1.5.2",
   "language": "julia",
   "name": "julia-1.5"
  },
  "language_info": {
   "file_extension": ".jl",
   "mimetype": "application/julia",
   "name": "julia",
   "version": "1.5.2"
  }
 },
 "nbformat": 4,
 "nbformat_minor": 4
}
