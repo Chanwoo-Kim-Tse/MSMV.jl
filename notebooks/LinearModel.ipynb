{
 "cells": [
  {
   "cell_type": "markdown",
   "metadata": {},
   "source": [
    "# Example MSM.jl\n",
    "\n",
    "This notebook shows how to use MSM. Our goal is to estimate the linear model using the Method of Simulated Moments (MSM). We observe a dependent variable $y_{t}$ and a set of independent variables $\\boldsymbol{x_{1}}$, ..., $\\boldsymbol{x_{t}}$, ... $\\boldsymbol{x_{T}}$ and we want to estimate the intercept $\\alpha$ and the slope coefficient $\\boldsymbol{\\beta}$ :\n",
    "\n",
    "$$ y_{t} = \\alpha + \\boldsymbol{x_{t}}\\boldsymbol{{\\beta}} + e_{t} $$\n",
    "\n",
    "where $e_{t}$ are error terms, potentially serially correlated. \n",
    "\n",
    "Here, it is clearly an overkill to use the MSM because we have a closed-form solution:\n",
    "\n",
    "$$ \\boldsymbol{\\beta_{OLS}} = (X'X)^{-1}X'y $$\n",
    "\n",
    "For the sake of this example, let's pretend we ignore the existence of this formula. By only simulating $y_{t}$, can we recover $\\boldsymbol{{\\beta}}$ and to inference on parameters?\n"
   ]
  },
  {
   "cell_type": "markdown",
   "metadata": {},
   "source": [
    "## Step 0: Simulating data\n",
    "\n",
    "Let's fix the value of $\\boldsymbol{\\beta} = \\boldsymbol{\\beta_{0}}$ and simulate a sample according to the linear model described above. Our goal is to recover the true value of $\\boldsymbol{\\beta}$ using moment conditions and simulated data."
   ]
  },
  {
   "cell_type": "code",
   "execution_count": 29,
   "metadata": {},
   "outputs": [
    {
     "name": "stdout",
     "output_type": "stream",
     "text": [
      "True intercept = 0.5662374165061859\n",
      "True coefficient beta0 = [0.5908446386657102, 0.7667970365022592]\n",
      "Serial correlation coefficient theta0 = 0.0\n"
     ]
    }
   ],
   "source": [
    "using Distributions\n",
    "using Random\n",
    "Random.seed!(1234)  #for replicability reasons\n",
    "T = 100000          #number of periods\n",
    "P = 2               #number of dependent variables\n",
    "beta0 = rand(P)     #choose true coefficients by drawing from a uniform distribution on [0,1]\n",
    "alpha0 = rand(1)[]  #intercept\n",
    "theta0 = 0.0        #coefficient to create serial correlation in the error terms\n",
    "println(\"True intercept = $(alpha0)\")\n",
    "println(\"True coefficient beta0 = $(beta0)\")\n",
    "println(\"Serial correlation coefficient theta0 = $(theta0)\")\n",
    "\n",
    "# Generation of error terms\n",
    "# row = individual dimension\n",
    "# column = time dimension \n",
    "U = zeros(T)\n",
    "d = Normal()\n",
    "U[1] = rand(d, 1)[] #first error term\n",
    "# loop over time periods\n",
    "for t = 2:T\n",
    "    U[t] = rand(d, 1)[] + theta0*U[t-1]\n",
    "end"
   ]
  },
  {
   "cell_type": "code",
   "execution_count": 30,
   "metadata": {},
   "outputs": [],
   "source": [
    "# Let's simulate the dependent variables x_t\n",
    "x = zeros(T, P)\n",
    "\n",
    "d = Uniform(0, 5)\n",
    "for p = 1:P  \n",
    "    x[:,p] = rand(d, T)\n",
    "end\n",
    "\n",
    "# Let's calculate the resulting y_t\n",
    "y = zeros(T)\n",
    "\n",
    "for t=1:T\n",
    "    y[t] = alpha0 + x[t,1]*beta0[1] + x[t,2]*beta0[2] + U[t]\n",
    "end"
   ]
  },
  {
   "cell_type": "markdown",
   "metadata": {},
   "source": [
    "## Step 1: Initializing a MSMProblem"
   ]
  },
  {
   "cell_type": "code",
   "execution_count": 63,
   "metadata": {},
   "outputs": [],
   "source": [
    "maxNbWorkers = 2\n",
    "using Distributed\n",
    "while nworkers() < maxNbWorkers\n",
    "  addprocs(1)\n",
    "end\n",
    "\n",
    "@everywhere using MSM\n",
    "@everywhere using DataStructures\n",
    "@everywhere using OrderedCollections\n",
    "@everywhere using Random\n",
    "@everywhere using Distributions\n",
    "@everywhere using Statistics\n",
    "@everywhere using LinearAlgebra\n",
    "\n",
    "# Here we set the maximum number of function evaluations to be 10000.\n",
    "# We also select a global optimizer (see BlackBoxOptim.jl) and a local minimizer (see Optim.jl)\n",
    "# https://github.com/robertfeldt/BlackBoxOptim.jl\n",
    "# https://julianlsolvers.github.io/Optim.jl\n",
    "myProblem = MSMProblem(options = MSMOptions(maxFuncEvals=10000, globalOptimizer = :dxnes, localOptimizer = :LBFGS));"
   ]
  },
  {
   "cell_type": "markdown",
   "metadata": {},
   "source": [
    "## Step 2: Set emprical moments and subjective weights"
   ]
  },
  {
   "cell_type": "markdown",
   "metadata": {},
   "source": [
    "We aim at estimating $3$ parameters. So we should at least have $3$ moment conditions. \n",
    "Here, let's use the following 5 moment conditions:"
   ]
  },
  {
   "cell_type": "code",
   "execution_count": 50,
   "metadata": {},
   "outputs": [
    {
     "data": {
      "text/plain": [
       "OrderedDict{String,Array{Float64,1}} with 5 entries:\n",
       "  \"mean\"       => [3.95288, 3.95288]\n",
       "  \"mean_x1y\"   => [11.0611, 11.0611]\n",
       "  \"mean_x2y\"   => [11.4634, 11.4634]\n",
       "  \"mean_x1y^2\" => [203.361, 203.361]\n",
       "  \"mean_x2y^2\" => [219.249, 219.249]"
      ]
     },
     "execution_count": 50,
     "metadata": {},
     "output_type": "execute_result"
    }
   ],
   "source": [
    "dictEmpiricalMoments = OrderedDict{String,Array{Float64,1}}()\n",
    "dictEmpiricalMoments[\"mean\"] = [mean(y); mean(y)] #informative on the intercept\n",
    "dictEmpiricalMoments[\"mean_x1y\"] = [mean(x[:,1] .* y); mean(x[:,1] .* y)] #informative on betas\n",
    "dictEmpiricalMoments[\"mean_x2y\"] = [mean(x[:,2] .* y); mean(x[:,2] .* y)] #informative on betas\n",
    "dictEmpiricalMoments[\"mean_x1y^2\"] = [mean((x[:,1] .* y).^2); mean((x[:,1] .* y).^2)] #informative on betas\n",
    "dictEmpiricalMoments[\"mean_x2y^2\"] = [mean((x[:,2] .* y).^2); mean((x[:,2] .* y).^2)] #informative on betas\n",
    "\n",
    "set_empirical_moments!(myProblem, dictEmpiricalMoments)"
   ]
  },
  {
   "cell_type": "markdown",
   "metadata": {},
   "source": [
    "## Step 3. Set priors"
   ]
  },
  {
   "cell_type": "markdown",
   "metadata": {},
   "source": [
    "One has to attach priors values the `MSMProblem` we are going to use.\n",
    "This is achieved using the function  `set_priors!()`"
   ]
  },
  {
   "cell_type": "code",
   "execution_count": 51,
   "metadata": {},
   "outputs": [
    {
     "data": {
      "text/plain": [
       "OrderedDict{String,Array{Float64,1}} with 3 entries:\n",
       "  \"alpha\" => [0.5, 0.001, 1.0]\n",
       "  \"beta1\" => [0.5, 0.001, 1.0]\n",
       "  \"beta2\" => [0.5, 0.001, 1.0]"
      ]
     },
     "execution_count": 51,
     "metadata": {},
     "output_type": "execute_result"
    }
   ],
   "source": [
    "dictPriors = OrderedDict{String,Array{Float64,1}}()\n",
    "dictPriors[\"alpha\"] = [0.5, 0.001, 1.0]\n",
    "dictPriors[\"beta1\"] = [0.5, 0.001, 1.0]\n",
    "dictPriors[\"beta2\"] = [0.5, 0.001, 1.0]\n",
    "\n",
    "set_priors!(myProblem, dictPriors)"
   ]
  },
  {
   "cell_type": "markdown",
   "metadata": {},
   "source": [
    "## Step 4: Specifying the function generating simulated moments using parameter values\n",
    "\n",
    "This is maybe the most crucial step. The objective function must generate an **ordered dictionary** containing the **keys of dictEmpiricalMoments**. Importantly, we \"freeze\" randomness during the minimization step. One way to do \n",
    "that is to generate draws from a Uniform([0,1]) outside of the objective function and to use [inverse transform sampling](https://en.wikipedia.org/wiki/Inverse_transform_sampling) to generate draws from a normal distribution. Otherwise the objective function would be \"noisy\" and the minimization algorithms would have a hard time finding \n",
    "the global minimum. "
   ]
  },
  {
   "cell_type": "code",
   "execution_count": 52,
   "metadata": {},
   "outputs": [
    {
     "data": {
      "text/plain": [
       "(::MSM.var\"#objective_function_percent#6\"{MSMProblem}) (generic function with 1 method)"
      ]
     },
     "execution_count": 52,
     "metadata": {},
     "output_type": "execute_result"
    }
   ],
   "source": [
    "# x[1] corresponds to the intercept\n",
    "# x[1] corresponds to beta1\n",
    "# x[3] corresponds to beta2\n",
    "@everywhere function functionLinearModel(x; uniform_draws::Array{Float64,1}, simX::Array{Float64,2}, nbDraws::Int64 = length(uniform_draws), burnInPerc::Int64 = 10)\n",
    "    T = nbDraws\n",
    "    P = 2       #number of dependent variables\n",
    "\n",
    "    alpha = x[1]\n",
    "    beta = x[2:end]\n",
    "    theta = 0.0     #coefficient to create serial correlation in the error terms\n",
    "\n",
    "    # Creation of error terms\n",
    "    # row = individual dimension\n",
    "    # column = time dimension\n",
    "    U = zeros(T)\n",
    "    d = Normal()\n",
    "    # Inverse cdf (i.e. quantile)\n",
    "    gaussian_draws = quantile.(d, uniform_draws)\n",
    "    U[1] = gaussian_draws[1] #first error term\n",
    "\n",
    "    # loop over time periods\n",
    "    for t = 2:T\n",
    "        U[t] = gaussian_draws[t] + theta*U[t-1]\n",
    "    end\n",
    "\n",
    "    # Let's calculate the resulting y_t\n",
    "    y = zeros(T)\n",
    "\n",
    "    for t=1:T\n",
    "        y[t] = alpha + simX[t,1]*beta[1] + simX[t,2]*beta[2] + U[t]\n",
    "    end\n",
    "\n",
    "    # Get rid of the burn-in phase:\n",
    "    #------------------------------\n",
    "    startT = div(nbDraws, burnInPerc)\n",
    "\n",
    "    # Moments:\n",
    "    #---------\n",
    "    output = OrderedDict{String,Float64}()\n",
    "    output[\"mean\"] = mean(y[startT:nbDraws])\n",
    "    output[\"mean_x1y\"] = mean(simX[startT:nbDraws,1] .* y[startT:nbDraws])\n",
    "    output[\"mean_x2y\"] = mean(simX[startT:nbDraws,2] .* y[startT:nbDraws])\n",
    "    output[\"mean_x1y^2\"] = mean((simX[startT:nbDraws,1] .* y[startT:nbDraws]).^2)\n",
    "    output[\"mean_x2y^2\"] = mean((simX[startT:nbDraws,2] .* y[startT:nbDraws]).^2)\n",
    "\n",
    "    return output\n",
    "end\n",
    "\n",
    "# Let's freeze the randomness during the minimization\n",
    "@everywhere d_Uni = Uniform(0,1)\n",
    "@everywhere nbDraws = 100000 #number of draws in the simulated data\n",
    "@everywhere uniform_draws = rand(d_Uni, nbDraws)\n",
    "@everywhere simX = zeros(length(uniform_draws), 2)\n",
    "d = Uniform(0, 5)\n",
    "for p = 1:2\n",
    "  simX[:,p] = rand(d, length(uniform_draws))\n",
    "end\n",
    "\n",
    "set_simulate_empirical_moments!(myProblem, x -> functionLinearModel(x, uniform_draws = uniform_draws, simX = simX))\n",
    "\n",
    "# Construct the objective function using:\n",
    "#* the function: parameter -> simulated moments\n",
    "#* emprical moments values\n",
    "#* emprical moments weights\n",
    "construct_objective_function!(myProblem)"
   ]
  },
  {
   "cell_type": "markdown",
   "metadata": {},
   "source": [
    "## Step 5. Running the optimization"
   ]
  },
  {
   "cell_type": "code",
   "execution_count": 53,
   "metadata": {},
   "outputs": [
    {
     "name": "stdout",
     "output_type": "stream",
     "text": [
      "      From worker 2:\thello\n",
      "      From worker 3:\thello\n"
     ]
    },
    {
     "name": "stderr",
     "output_type": "stream",
     "text": [
      "┌ Info: 2 worker(s) detected\n",
      "└ @ MSM /home/julien/.julia/dev/MSM/src/generic.jl:302\n",
      "┌ Info: Starting optimization in parallel\n",
      "└ @ MSM /home/julien/.julia/dev/MSM/src/generic.jl:302\n"
     ]
    },
    {
     "name": "stdout",
     "output_type": "stream",
     "text": [
      "Starting optimization with optimizer BlackBoxOptim.DXNESOpt{Float64,BlackBoxOptim.RandomBound{BlackBoxOptim.ContinuousRectSearchSpace}}\n",
      "0.00 secs, 0 evals, 0 steps\n",
      "σ=1.0 η[x]=1.0 η[σ]=0.0 η[B]=0.0 |tr(ln_B)|=0.0 |path|=NaN speed=NaN\n",
      "0.51 secs, 128 evals, 16 steps, fitness=0.000603101\n",
      "σ=0.6988906233360145 η[x]=1.0 η[σ]=1.5714285714285714 η[B]=0.06349206349206349 |tr(ln_B)|=1.734723475976807e-18 |path|=NaN speed=NaN\n",
      "1.03 secs, 336 evals, 42 steps, fitness=0.000041530\n",
      "σ=0.008809370199336539 η[x]=1.0 η[σ]=1.5714285714285714 η[B]=0.06349206349206349 |tr(ln_B)|=2.0816681711721685e-17 |path|=NaN speed=NaN\n",
      "1.53 secs, 552 evals, 69 steps, fitness=0.000026148\n",
      "σ=0.00035965679673828816 η[x]=1.0 η[σ]=1.5714285714285714 η[B]=0.06349206349206349 |tr(ln_B)|=5.551115123125783e-17 |path|=NaN speed=NaN\n",
      "2.04 secs, 760 evals, 95 steps, fitness=0.000019610\n",
      "σ=0.0008279398284355625 η[x]=1.0 η[σ]=1.5714285714285714 η[B]=0.06349206349206349 |tr(ln_B)|=5.551115123125783e-17 |path|=NaN speed=NaN\n",
      "2.55 secs, 984 evals, 123 steps, fitness=0.000001836\n",
      "σ=0.000678890802239971 η[x]=1.0 η[σ]=1.5714285714285714 η[B]=0.06349206349206349 |tr(ln_B)|=0.0 |path|=NaN speed=NaN\n",
      "3.05 secs, 1184 evals, 148 steps, fitness=0.000000598\n",
      "σ=0.0002003105730426668 η[x]=1.0 η[σ]=1.5714285714285714 η[B]=0.06349206349206349 |tr(ln_B)|=2.220446049250313e-16 |path|=NaN speed=NaN\n",
      "3.56 secs, 1400 evals, 175 steps, fitness=0.000000598\n",
      "σ=3.9758246441882405e-9 η[x]=1.0 η[σ]=1.5714285714285714 η[B]=0.06349206349206349 |tr(ln_B)|=2.220446049250313e-16 |path|=NaN speed=NaN\n",
      "4.07 secs, 1632 evals, 204 steps, fitness=0.000000598\n",
      "σ=4.011770858685953e-10 η[x]=1.0 η[σ]=1.5714285714285714 η[B]=0.06349206349206349 |tr(ln_B)|=4.440892098500626e-16 |path|=NaN speed=NaN\n",
      "4.58 secs, 1848 evals, 231 steps, fitness=0.000000598\n",
      "σ=1.9195596318696438e-10 η[x]=1.0 η[σ]=1.5714285714285714 η[B]=0.06349206349206349 |tr(ln_B)|=3.3306690738754696e-16 |path|=NaN speed=NaN\n",
      "5.08 secs, 2080 evals, 260 steps, fitness=0.000000598\n",
      "σ=3.587673932226838e-11 η[x]=1.0 η[σ]=1.5714285714285714 η[B]=0.06349206349206349 |tr(ln_B)|=5.551115123125783e-16 |path|=NaN speed=NaN\n",
      "5.59 secs, 2304 evals, 288 steps, fitness=0.000000598\n",
      "σ=9.975683104756665e-11 η[x]=1.0 η[σ]=1.5714285714285714 η[B]=0.06349206349206349 |tr(ln_B)|=4.440892098500626e-16 |path|=NaN speed=NaN\n",
      "6.09 secs, 2528 evals, 316 steps, fitness=0.000000598\n",
      "σ=3.561826439056279e-11 η[x]=1.0 η[σ]=1.5714285714285714 η[B]=0.06349206349206349 |tr(ln_B)|=8.881784197001252e-16 |path|=NaN speed=NaN\n",
      "6.61 secs, 2752 evals, 344 steps, fitness=0.000000598\n",
      "σ=4.5206509827915594e-11 η[x]=1.0 η[σ]=1.5714285714285714 η[B]=0.06349206349206349 |tr(ln_B)|=5.551115123125783e-16 |path|=NaN speed=NaN\n",
      "7.11 secs, 2952 evals, 369 steps, fitness=0.000000598\n",
      "σ=4.3860807832143234e-12 η[x]=1.0 η[σ]=1.5714285714285714 η[B]=0.06349206349206349 |tr(ln_B)|=8.881784197001252e-16 |path|=NaN speed=NaN\n",
      "7.62 secs, 3144 evals, 393 steps, fitness=0.000000598\n",
      "σ=4.3087789440821097e-13 η[x]=1.0 η[σ]=1.5714285714285714 η[B]=0.06349206349206349 |tr(ln_B)|=2.220446049250313e-16 |path|=NaN speed=NaN\n",
      "8.13 secs, 3360 evals, 420 steps, fitness=0.000000598\n",
      "σ=6.30886550724056e-15 η[x]=1.0 η[σ]=1.5714285714285714 η[B]=0.06349206349206349 |tr(ln_B)|=1.1102230246251565e-16 |path|=NaN speed=NaN\n",
      "8.63 secs, 3576 evals, 447 steps, fitness=0.000000598\n",
      "σ=2.2220694750518293e-15 η[x]=1.0 η[σ]=1.5714285714285714 η[B]=0.06349206349206349 |tr(ln_B)|=4.440892098500626e-16 |path|=NaN speed=NaN\n",
      "9.13 secs, 3792 evals, 474 steps, fitness=0.000000598\n",
      "σ=1.7164487796751058e-15 η[x]=1.0 η[σ]=1.5714285714285714 η[B]=0.06349206349206349 |tr(ln_B)|=6.661338147750939e-16 |path|=NaN speed=NaN\n",
      "9.64 secs, 3992 evals, 499 steps, fitness=0.000000598\n",
      "σ=6.042096786916902e-15 η[x]=1.0 η[σ]=1.5714285714285714 η[B]=0.06349206349206349 |tr(ln_B)|=1.6653345369377348e-15 |path|=NaN speed=NaN\n",
      "10.14 secs, 4208 evals, 526 steps, fitness=0.000000598\n",
      "σ=4.4361868120164245e-15 η[x]=1.0 η[σ]=1.5714285714285714 η[B]=0.06349206349206349 |tr(ln_B)|=2.220446049250313e-15 |path|=NaN speed=NaN\n",
      "10.66 secs, 4432 evals, 554 steps, fitness=0.000000598\n",
      "σ=1.3815796296010663e-15 η[x]=1.0 η[σ]=1.5714285714285714 η[B]=0.06349206349206349 |tr(ln_B)|=2.6645352591003757e-15 |path|=NaN speed=NaN\n",
      "11.18 secs, 4656 evals, 582 steps, fitness=0.000000598\n",
      "σ=3.28641113842693e-17 η[x]=1.0 η[σ]=1.5714285714285714 η[B]=0.06349206349206349 |tr(ln_B)|=2.1094237467877974e-15 |path|=NaN speed=NaN\n",
      "11.68 secs, 4864 evals, 608 steps, fitness=0.000000598\n",
      "σ=2.573496995056444e-16 η[x]=1.0 η[σ]=1.5714285714285714 η[B]=0.06349206349206349 |tr(ln_B)|=2.9976021664879227e-15 |path|=NaN speed=NaN\n",
      "12.19 secs, 5080 evals, 635 steps, fitness=0.000000598\n",
      "σ=2.4809732824208167e-16 η[x]=1.0 η[σ]=1.5714285714285714 η[B]=0.06349206349206349 |tr(ln_B)|=4.107825191113079e-15 |path|=NaN speed=NaN\n",
      "12.70 secs, 5304 evals, 663 steps, fitness=0.000000598\n",
      "σ=1.5465787407209985e-17 η[x]=1.0 η[σ]=1.5714285714285714 η[B]=0.06349206349206349 |tr(ln_B)|=4.551914400963142e-15 |path|=NaN speed=NaN\n",
      "13.22 secs, 5520 evals, 690 steps, fitness=0.000000598\n",
      "σ=1.6926787848247196e-17 η[x]=1.0 η[σ]=1.5714285714285714 η[B]=0.06349206349206349 |tr(ln_B)|=5.329070518200751e-15 |path|=NaN speed=NaN\n",
      "13.73 secs, 5744 evals, 718 steps, fitness=0.000000598\n",
      "σ=7.544131482048968e-18 η[x]=1.0 η[σ]=1.5714285714285714 η[B]=0.06349206349206349 |tr(ln_B)|=4.551914400963142e-15 |path|=NaN speed=NaN\n",
      "14.25 secs, 5968 evals, 746 steps, fitness=0.000000598\n",
      "σ=2.6088012702256743e-17 η[x]=1.0 η[σ]=1.5714285714285714 η[B]=0.06349206349206349 |tr(ln_B)|=4.3298697960381105e-15 |path|=NaN speed=NaN\n",
      "14.75 secs, 6152 evals, 769 steps, fitness=0.000000598\n",
      "σ=7.321751970227601e-18 η[x]=1.0 η[σ]=1.5714285714285714 η[B]=0.06349206349206349 |tr(ln_B)|=4.218847493575595e-15 |path|=NaN speed=NaN\n",
      "15.25 secs, 6368 evals, 796 steps, fitness=0.000000598\n",
      "σ=2.1656171760845327e-18 η[x]=1.0 η[σ]=1.5714285714285714 η[B]=0.06349206349206349 |tr(ln_B)|=3.6637359812630166e-15 |path|=NaN speed=NaN\n",
      "15.77 secs, 6584 evals, 823 steps, fitness=0.000000598\n",
      "σ=7.889914063329975e-19 η[x]=1.0 η[σ]=1.5714285714285714 η[B]=0.06349206349206349 |tr(ln_B)|=3.1086244689504383e-15 |path|=NaN speed=NaN\n",
      "16.27 secs, 6784 evals, 848 steps, fitness=0.000000598\n",
      "σ=3.0273700010528595e-19 η[x]=1.0 η[σ]=1.5714285714285714 η[B]=0.06349206349206349 |tr(ln_B)|=3.4416913763379853e-15 |path|=NaN speed=NaN\n",
      "16.79 secs, 7000 evals, 875 steps, fitness=0.000000598\n",
      "σ=1.5703802362907673e-19 η[x]=1.0 η[σ]=1.5714285714285714 η[B]=0.06349206349206349 |tr(ln_B)|=3.4416913763379853e-15 |path|=NaN speed=NaN\n",
      "17.30 secs, 7184 evals, 898 steps, fitness=0.000000598\n",
      "σ=2.526806061813377e-19 η[x]=1.0 η[σ]=1.5714285714285714 η[B]=0.06349206349206349 |tr(ln_B)|=3.6637359812630166e-15 |path|=NaN speed=NaN\n",
      "17.81 secs, 7352 evals, 919 steps, fitness=0.000000598\n",
      "σ=3.118022642369945e-19 η[x]=1.0 η[σ]=1.5714285714285714 η[B]=0.06349206349206349 |tr(ln_B)|=4.107825191113079e-15 |path|=NaN speed=NaN\n",
      "18.32 secs, 7528 evals, 941 steps, fitness=0.000000598\n",
      "σ=3.026679255699303e-19 η[x]=1.0 η[σ]=1.5714285714285714 η[B]=0.06349206349206349 |tr(ln_B)|=4.6629367034256575e-15 |path|=NaN speed=NaN\n",
      "18.84 secs, 7688 evals, 961 steps, fitness=0.000000598\n",
      "σ=5.811168387566602e-19 η[x]=1.0 η[σ]=1.5714285714285714 η[B]=0.06349206349206349 |tr(ln_B)|=4.6629367034256575e-15 |path|=NaN speed=NaN\n",
      "19.36 secs, 7888 evals, 986 steps, fitness=0.000000598\n",
      "σ=3.865446874089919e-19 η[x]=1.0 η[σ]=1.5714285714285714 η[B]=0.06349206349206349 |tr(ln_B)|=4.440892098500626e-15 |path|=NaN speed=NaN\n",
      "19.87 secs, 8096 evals, 1012 steps, fitness=0.000000598\n",
      "σ=1.2951941045806364e-19 η[x]=1.0 η[σ]=1.5714285714285714 η[B]=0.06349206349206349 |tr(ln_B)|=4.107825191113079e-15 |path|=NaN speed=NaN\n",
      "20.39 secs, 8312 evals, 1039 steps, fitness=0.000000598\n",
      "σ=2.229639241648982e-19 η[x]=1.0 η[σ]=1.5714285714285714 η[B]=0.06349206349206349 |tr(ln_B)|=4.3298697960381105e-15 |path|=NaN speed=NaN\n",
      "20.90 secs, 8528 evals, 1066 steps, fitness=0.000000598\n",
      "σ=3.1239748614319173e-19 η[x]=1.0 η[σ]=1.5714285714285714 η[B]=0.06349206349206349 |tr(ln_B)|=4.440892098500626e-15 |path|=NaN speed=NaN\n",
      "21.41 secs, 8736 evals, 1092 steps, fitness=0.000000598\n",
      "σ=1.0578907472314434e-18 η[x]=1.0 η[σ]=1.5714285714285714 η[B]=0.06349206349206349 |tr(ln_B)|=4.218847493575595e-15 |path|=NaN speed=NaN\n"
     ]
    },
    {
     "name": "stdout",
     "output_type": "stream",
     "text": [
      "21.92 secs, 8952 evals, 1119 steps, fitness=0.000000598\n",
      "σ=3.3283701584554814e-19 η[x]=1.0 η[σ]=1.5714285714285714 η[B]=0.06349206349206349 |tr(ln_B)|=4.107825191113079e-15 |path|=NaN speed=NaN\n",
      "22.43 secs, 9176 evals, 1147 steps, fitness=0.000000598\n",
      "σ=4.941603810026787e-19 η[x]=1.0 η[σ]=1.5714285714285714 η[B]=0.06349206349206349 |tr(ln_B)|=4.218847493575595e-15 |path|=NaN speed=NaN\n",
      "22.94 secs, 9392 evals, 1174 steps, fitness=0.000000598\n",
      "σ=4.2103700676467303e-20 η[x]=1.0 η[σ]=1.5714285714285714 η[B]=0.06349206349206349 |tr(ln_B)|=4.440892098500626e-15 |path|=NaN speed=NaN\n",
      "23.45 secs, 9584 evals, 1198 steps, fitness=0.000000598\n",
      "σ=4.7161269678474476e-20 η[x]=1.0 η[σ]=1.5714285714285714 η[B]=0.06349206349206349 |tr(ln_B)|=4.773959005888173e-15 |path|=NaN speed=NaN\n",
      "23.95 secs, 9792 evals, 1224 steps, fitness=0.000000598\n",
      "σ=2.3490128637670466e-19 η[x]=1.0 η[σ]=1.5714285714285714 η[B]=0.06349206349206349 |tr(ln_B)|=4.551914400963142e-15 |path|=NaN speed=NaN\n",
      "\n",
      "Optimization stopped after 1251 steps and 24.47 seconds\n",
      "Termination reason: Max number of function evaluations (10000) reached\n",
      "Steps per second = 51.13\n",
      "Function evals per second = 409.07\n",
      "Improvements/step = NaN\n",
      "Total function evaluations = 10008\n",
      "\n",
      "\n",
      "Best candidate found: [0.568909, 0.593024, 0.759482]\n",
      "\n",
      "Fitness: 0.000000598\n",
      "\n"
     ]
    },
    {
     "data": {
      "text/plain": [
       "(Any[5.978415914018296e-7], Any[[0.5689090814327727, 0.5930244599924829, 0.7594818535331717]])"
      ]
     },
     "execution_count": 53,
     "metadata": {},
     "output_type": "execute_result"
    }
   ],
   "source": [
    "msm_optimize!(myProblem, verbose = false)"
   ]
  },
  {
   "cell_type": "markdown",
   "metadata": {},
   "source": [
    "## Step 7. Analysing Results\n",
    "\n",
    "### A. Point estimates"
   ]
  },
  {
   "cell_type": "code",
   "execution_count": 55,
   "metadata": {},
   "outputs": [
    {
     "name": "stdout",
     "output_type": "stream",
     "text": [
      "Estimated value for alpha = 0.5689090814327727\n",
      "True value for alpha = 0.5662374165061859 \n",
      "\n",
      "Estimated value for beta1 = 0.5930244599924829\n",
      "True value for beta1 = 0.5908446386657102 \n",
      "\n",
      "Estimated value for beta2 = 0.7594818535331717\n",
      "True value for beta2 = 0.7667970365022592 \n",
      "\n"
     ]
    }
   ],
   "source": [
    "minimizer = best_candidate(myProblem.bbResults)\n",
    "\n",
    "println(\"Estimated value for alpha = $(minimizer[1])\")\n",
    "println(\"True value for alpha = $(alpha0[1]) \\n\")\n",
    "\n",
    "println(\"Estimated value for beta1 = $(minimizer[2])\")\n",
    "println(\"True value for beta1 = $(beta0[1]) \\n\")\n",
    "\n",
    "println(\"Estimated value for beta2 = $(minimizer[3])\")\n",
    "println(\"True value for beta2 = $(beta0[2]) \\n\")"
   ]
  },
  {
   "cell_type": "markdown",
   "metadata": {},
   "source": [
    "### B. Inference"
   ]
  },
  {
   "cell_type": "markdown",
   "metadata": {},
   "source": [
    "### Estimation of the distance matrix $\\Sigma_0$\n",
    "\n",
    "Let's calculate the variance-covariance matrix of the \"distance matrix\" (using the terminolgy of [Duffie and Singleton (1993)](https://www.jstor.org/stable/2951768?seq=1)). Here we know that errors are not correlated (the serial correlation coefficient is set to 0 in the code above). in the presence of serial correlation, an HAC estimation would be needed (see the package [CovarianceMatrices](https://github.com/gragusa/CovarianceMatrices.jl) for instance)"
   ]
  },
  {
   "cell_type": "code",
   "execution_count": 56,
   "metadata": {},
   "outputs": [
    {
     "data": {
      "text/plain": [
       "5×5 Array{Float64,2}:\n",
       "   2.942     12.1631    13.6279    346.754    392.581\n",
       "  12.1631    81.0139    47.795    2369.6     1503.16\n",
       "  13.6279    47.795     87.8405   1490.87    2622.29\n",
       " 346.754   2369.6     1490.87    77664.1    50175.4\n",
       " 392.581   1503.16    2622.29    50175.4    87292.2"
      ]
     },
     "execution_count": 56,
     "metadata": {},
     "output_type": "execute_result"
    }
   ],
   "source": [
    "# Empirical Series\n",
    "#-----------------\n",
    "X = zeros(T, 5)\n",
    "\n",
    "X[:,1] = y\n",
    "X[:,2] = (x[:,1] .* y)\n",
    "X[:,3] = (x[:,2] .* y)\n",
    "X[:,4] = (x[:,1] .* y).^2\n",
    "X[:,5] = (x[:,2] .* y).^2\n",
    "\n",
    "Sigma0 = cov(X)"
   ]
  },
  {
   "cell_type": "markdown",
   "metadata": {},
   "source": [
    "### Asymptotic variance"
   ]
  },
  {
   "cell_type": "markdown",
   "metadata": {},
   "source": [
    "The asymptotic variance of the MSM estimate is calculated using the usual GMM sandwich formula, corrected to take\n",
    "into account simulation noise. See [Duffie and Singleton (1993)](https://www.jstor.org/stable/2951768?seq=1) and [Gouriéroux and Montfort (1996)](https://www.jstor.org/stable/3533164?seq=1). Calculating the \n",
    "asymptotic variance using MSM.jl is done in two steps:\n",
    "* setting the value of of the distance matrix using the function `set_Sigma0!`\n",
    "* calculating the asymptotic variance using the function `calculate_Avar!`"
   ]
  },
  {
   "cell_type": "code",
   "execution_count": 57,
   "metadata": {},
   "outputs": [
    {
     "data": {
      "text/plain": [
       "3×3 Symmetric{Float64,Array{Float64,2}}:\n",
       "  62.9062   -11.5087   -8.68649\n",
       " -11.5087     6.82023  -2.20987\n",
       "  -8.68649   -2.20987   5.92895"
      ]
     },
     "execution_count": 57,
     "metadata": {},
     "output_type": "execute_result"
    }
   ],
   "source": [
    "set_Sigma0!(myProblem, Sigma0)\n",
    "calculate_Avar!(myProblem, minimizer, T, nbDraws) # nbDraws = number of draws in the simulated data"
   ]
  },
  {
   "cell_type": "markdown",
   "metadata": {},
   "source": [
    "Once the asymptotic variance has been calculated, a summary table can be obtained using the\n",
    "function `summary_table`. This function has four inputs:\n",
    "* a MSMProblem\n",
    "* the minimizer of the objective function\n",
    "* the length of the empirical sample\n",
    "* the confidence level associated to the test H0: $\\theta_i = 0$, H1: $\\theta_i != 0$"
   ]
  },
  {
   "cell_type": "code",
   "execution_count": 58,
   "metadata": {
    "scrolled": true
   },
   "outputs": [
    {
     "data": {
      "text/html": [
       "<table class=\"data-frame\"><thead><tr><th></th><th>Estimate</th><th>StdError</th><th>tValue</th><th>pValue</th><th>ConfIntervalLower</th><th>ConfIntervalUpper</th></tr><tr><th></th><th>Float64</th><th>Float64</th><th>Float64</th><th>Float64</th><th>Float64</th><th>Float64</th></tr></thead><tbody><p>3 rows × 6 columns</p><tr><th>1</th><td>0.568909</td><td>0.0250811</td><td>22.6828</td><td>0.0</td><td>0.527654</td><td>0.610164</td></tr><tr><th>2</th><td>0.593024</td><td>0.00825847</td><td>71.808</td><td>0.0</td><td>0.57944</td><td>0.606608</td></tr><tr><th>3</th><td>0.759482</td><td>0.00769997</td><td>98.6344</td><td>0.0</td><td>0.746817</td><td>0.772147</td></tr></tbody></table>"
      ],
      "text/latex": [
       "\\begin{tabular}{r|cccccc}\n",
       "\t& Estimate & StdError & tValue & pValue & ConfIntervalLower & ConfIntervalUpper\\\\\n",
       "\t\\hline\n",
       "\t& Float64 & Float64 & Float64 & Float64 & Float64 & Float64\\\\\n",
       "\t\\hline\n",
       "\t1 & 0.568909 & 0.0250811 & 22.6828 & 0.0 & 0.527654 & 0.610164 \\\\\n",
       "\t2 & 0.593024 & 0.00825847 & 71.808 & 0.0 & 0.57944 & 0.606608 \\\\\n",
       "\t3 & 0.759482 & 0.00769997 & 98.6344 & 0.0 & 0.746817 & 0.772147 \\\\\n",
       "\\end{tabular}\n"
      ],
      "text/plain": [
       "\u001b[1m3×6 DataFrame\u001b[0m\n",
       "\u001b[1m Row \u001b[0m│\u001b[1m Estimate \u001b[0m\u001b[1m StdError   \u001b[0m\u001b[1m tValue  \u001b[0m\u001b[1m pValue  \u001b[0m\u001b[1m ConfIntervalLower \u001b[0m\u001b[1m ConfInterval\u001b[0m ⋯\n",
       "\u001b[1m     \u001b[0m│\u001b[90m Float64  \u001b[0m\u001b[90m Float64    \u001b[0m\u001b[90m Float64 \u001b[0m\u001b[90m Float64 \u001b[0m\u001b[90m Float64           \u001b[0m\u001b[90m Float64     \u001b[0m ⋯\n",
       "─────┼──────────────────────────────────────────────────────────────────────────\n",
       "   1 │ 0.568909  0.0250811   22.6828      0.0           0.527654           0.6 ⋯\n",
       "   2 │ 0.593024  0.00825847  71.808       0.0           0.57944            0.6\n",
       "   3 │ 0.759482  0.00769997  98.6344      0.0           0.746817           0.7\n",
       "\u001b[31m                                                                1 column omitted\u001b[0m"
      ]
     },
     "execution_count": 58,
     "metadata": {},
     "output_type": "execute_result"
    }
   ],
   "source": [
    "df = summary_table(myProblem, minimizer, T, 0.05)"
   ]
  },
  {
   "cell_type": "markdown",
   "metadata": {},
   "source": [
    "### Comparison with OLS\n",
    "\n",
    "Let's compare the MSM results to the one obtained using OLS:"
   ]
  },
  {
   "cell_type": "code",
   "execution_count": 60,
   "metadata": {},
   "outputs": [
    {
     "data": {
      "text/plain": [
       "StatsModels.TableRegressionModel{LinearModel{GLM.LmResp{Array{Float64,1}},GLM.DensePredChol{Float64,Cholesky{Float64,Array{Float64,2}}}},Array{Float64,2}}\n",
       "\n",
       "y ~ 1 + x1 + x2\n",
       "\n",
       "Coefficients:\n",
       "─────────────────────────────────────────────────────────────────────────\n",
       "                Coef.  Std. Error       t  Pr(>|t|)  Lower 95%  Upper 95%\n",
       "─────────────────────────────────────────────────────────────────────────\n",
       "(Intercept)  0.571592  0.00836568   68.33    <1e-99   0.555196   0.587989\n",
       "x1           0.588239  0.00218787  268.86    <1e-99   0.583951   0.592528\n",
       "x2           0.767633  0.00219593  349.57    <1e-99   0.763329   0.771937\n",
       "─────────────────────────────────────────────────────────────────────────"
      ]
     },
     "execution_count": 60,
     "metadata": {},
     "output_type": "execute_result"
    }
   ],
   "source": [
    "using DataFrames, GLM\n",
    "data = DataFrame(x1=x[:,1], x2=x[:,2], y= y[:]);\n",
    "\n",
    "ols = lm(@formula(y ~ x1 + x2), data)"
   ]
  },
  {
   "cell_type": "markdown",
   "metadata": {},
   "source": [
    "In terms of point estimates, MSM and OLS estimates are rather close. Regarding standard errors, the OLS estimates are more precisely estimated. This is not surprising given that simulation noise impacts the accuracy of the MSM estimate and that OLS uses much more information than MSM. "
   ]
  },
  {
   "cell_type": "markdown",
   "metadata": {},
   "source": [
    "### C. Slices of the objective function\n",
    "\n",
    "One can \"visually check\" that the [local identification identification](https://en.wikipedia.org/wiki/Generalized_method_of_moments) is met by \"slicing\" the objective function. That is, we hold all the variables constant, and we calculate how the value of objective function changes when moving along one dimension. Hopefully, we will see nice U-shaped plots."
   ]
  },
  {
   "cell_type": "code",
   "execution_count": 61,
   "metadata": {},
   "outputs": [
    {
     "name": "stderr",
     "output_type": "stream",
     "text": [
      "┌ Info: slicing along alpha\n",
      "└ @ MSM /home/julien/.julia/dev/MSM/src/generic.jl:302\n",
      "┌ Info: slicing along beta1\n",
      "└ @ MSM /home/julien/.julia/dev/MSM/src/generic.jl:302\n",
      "┌ Info: slicing along beta2\n",
      "└ @ MSM /home/julien/.julia/dev/MSM/src/generic.jl:302\n"
     ]
    }
   ],
   "source": [
    "vXGrid, vYGrid = msm_slices(myProblem, minimizer, nbPoints = 7);"
   ]
  },
  {
   "cell_type": "code",
   "execution_count": 62,
   "metadata": {},
   "outputs": [
    {
     "data": {
      "image/svg+xml": [
       "<?xml version=\"1.0\" encoding=\"utf-8\"?>\n",
       "<svg xmlns=\"http://www.w3.org/2000/svg\" xmlns:xlink=\"http://www.w3.org/1999/xlink\" width=\"600\" height=\"400\" viewBox=\"0 0 2400 1600\">\n",
       "<defs>\n",
       "  <clipPath id=\"clip830\">\n",
       "    <rect x=\"0\" y=\"0\" width=\"2400\" height=\"1600\"/>\n",
       "  </clipPath>\n",
       "</defs>\n",
       "<path clip-path=\"url(#clip830)\" d=\"\n",
       "M0 1600 L2400 1600 L2400 0 L0 0  Z\n",
       "  \" fill=\"#ffffff\" fill-rule=\"evenodd\" fill-opacity=\"1\"/>\n",
       "<defs>\n",
       "  <clipPath id=\"clip831\">\n",
       "    <rect x=\"480\" y=\"0\" width=\"1681\" height=\"1600\"/>\n",
       "  </clipPath>\n",
       "</defs>\n",
       "<path clip-path=\"url(#clip830)\" d=\"\n",
       "M306.207 686.448 L1184.75 686.448 L1184.75 123.472 L306.207 123.472  Z\n",
       "  \" fill=\"#ffffff\" fill-rule=\"evenodd\" fill-opacity=\"1\"/>\n",
       "<defs>\n",
       "  <clipPath id=\"clip832\">\n",
       "    <rect x=\"306\" y=\"123\" width=\"880\" height=\"564\"/>\n",
       "  </clipPath>\n",
       "</defs>\n",
       "<polyline clip-path=\"url(#clip832)\" style=\"stroke:#000000; stroke-width:2; stroke-opacity:0.1; fill:none\" points=\"\n",
       "  447.493,686.448 447.493,123.472 \n",
       "  \"/>\n",
       "<polyline clip-path=\"url(#clip832)\" style=\"stroke:#000000; stroke-width:2; stroke-opacity:0.1; fill:none\" points=\"\n",
       "  629.598,686.448 629.598,123.472 \n",
       "  \"/>\n",
       "<polyline clip-path=\"url(#clip832)\" style=\"stroke:#000000; stroke-width:2; stroke-opacity:0.1; fill:none\" points=\"\n",
       "  811.704,686.448 811.704,123.472 \n",
       "  \"/>\n",
       "<polyline clip-path=\"url(#clip832)\" style=\"stroke:#000000; stroke-width:2; stroke-opacity:0.1; fill:none\" points=\"\n",
       "  993.809,686.448 993.809,123.472 \n",
       "  \"/>\n",
       "<polyline clip-path=\"url(#clip832)\" style=\"stroke:#000000; stroke-width:2; stroke-opacity:0.1; fill:none\" points=\"\n",
       "  1175.91,686.448 1175.91,123.472 \n",
       "  \"/>\n",
       "<polyline clip-path=\"url(#clip830)\" style=\"stroke:#000000; stroke-width:4; stroke-opacity:1; fill:none\" points=\"\n",
       "  306.207,686.448 1184.75,686.448 \n",
       "  \"/>\n",
       "<polyline clip-path=\"url(#clip830)\" style=\"stroke:#000000; stroke-width:4; stroke-opacity:1; fill:none\" points=\"\n",
       "  447.493,686.448 447.493,679.692 \n",
       "  \"/>\n",
       "<polyline clip-path=\"url(#clip830)\" style=\"stroke:#000000; stroke-width:4; stroke-opacity:1; fill:none\" points=\"\n",
       "  629.598,686.448 629.598,679.692 \n",
       "  \"/>\n",
       "<polyline clip-path=\"url(#clip830)\" style=\"stroke:#000000; stroke-width:4; stroke-opacity:1; fill:none\" points=\"\n",
       "  811.704,686.448 811.704,679.692 \n",
       "  \"/>\n",
       "<polyline clip-path=\"url(#clip830)\" style=\"stroke:#000000; stroke-width:4; stroke-opacity:1; fill:none\" points=\"\n",
       "  993.809,686.448 993.809,679.692 \n",
       "  \"/>\n",
       "<polyline clip-path=\"url(#clip830)\" style=\"stroke:#000000; stroke-width:4; stroke-opacity:1; fill:none\" points=\"\n",
       "  1175.91,686.448 1175.91,679.692 \n",
       "  \"/>\n",
       "<path clip-path=\"url(#clip830)\" d=\"M 0 0 M375.942 715.639 Q372.331 715.639 370.503 719.203 Q368.697 722.745 368.697 729.875 Q368.697 736.981 370.503 740.546 Q372.331 744.087 375.942 744.087 Q379.577 744.087 381.382 740.546 Q383.211 736.981 383.211 729.875 Q383.211 722.745 381.382 719.203 Q379.577 715.639 375.942 715.639 M375.942 711.935 Q381.753 711.935 384.808 716.541 Q387.887 721.125 387.887 729.875 Q387.887 738.601 384.808 743.208 Q381.753 747.791 375.942 747.791 Q370.132 747.791 367.054 743.208 Q363.998 738.601 363.998 729.875 Q363.998 721.125 367.054 716.541 Q370.132 711.935 375.942 711.935 Z\" fill=\"#000000\" fill-rule=\"evenodd\" fill-opacity=\"1\" /><path clip-path=\"url(#clip830)\" d=\"M 0 0 M392.956 741.24 L397.84 741.24 L397.84 747.12 L392.956 747.12 L392.956 741.24 Z\" fill=\"#000000\" fill-rule=\"evenodd\" fill-opacity=\"1\" /><path clip-path=\"url(#clip830)\" d=\"M 0 0 M402.956 712.56 L421.313 712.56 L421.313 716.495 L407.239 716.495 L407.239 724.967 Q408.257 724.62 409.276 724.458 Q410.294 724.273 411.313 724.273 Q417.1 724.273 420.479 727.444 Q423.859 730.615 423.859 736.032 Q423.859 741.611 420.387 744.712 Q416.914 747.791 410.595 747.791 Q408.419 747.791 406.151 747.421 Q403.905 747.05 401.498 746.31 L401.498 741.611 Q403.581 742.745 405.803 743.3 Q408.026 743.856 410.502 743.856 Q414.507 743.856 416.845 741.75 Q419.183 739.643 419.183 736.032 Q419.183 732.421 416.845 730.314 Q414.507 728.208 410.502 728.208 Q408.627 728.208 406.752 728.625 Q404.901 729.041 402.956 729.921 L402.956 712.56 Z\" fill=\"#000000\" fill-rule=\"evenodd\" fill-opacity=\"1\" /><path clip-path=\"url(#clip830)\" d=\"M 0 0 M439.507 727.976 Q436.359 727.976 434.507 730.129 Q432.678 732.282 432.678 736.032 Q432.678 739.759 434.507 741.935 Q436.359 744.087 439.507 744.087 Q442.655 744.087 444.484 741.935 Q446.336 739.759 446.336 736.032 Q446.336 732.282 444.484 730.129 Q442.655 727.976 439.507 727.976 M448.789 713.324 L448.789 717.583 Q447.03 716.75 445.224 716.31 Q443.442 715.87 441.683 715.87 Q437.053 715.87 434.6 718.995 Q432.169 722.12 431.822 728.439 Q433.188 726.426 435.248 725.361 Q437.308 724.273 439.785 724.273 Q444.993 724.273 448.002 727.444 Q451.035 730.592 451.035 736.032 Q451.035 741.356 447.887 744.574 Q444.738 747.791 439.507 747.791 Q433.512 747.791 430.34 743.208 Q427.169 738.601 427.169 729.875 Q427.169 721.68 431.058 716.819 Q434.947 711.935 441.498 711.935 Q443.257 711.935 445.039 712.282 Q446.845 712.629 448.789 713.324 Z\" fill=\"#000000\" fill-rule=\"evenodd\" fill-opacity=\"1\" /><path clip-path=\"url(#clip830)\" d=\"M 0 0 M466.104 730.708 Q462.771 730.708 460.849 732.49 Q458.951 734.273 458.951 737.398 Q458.951 740.523 460.849 742.305 Q462.771 744.087 466.104 744.087 Q469.437 744.087 471.359 742.305 Q473.28 740.5 473.28 737.398 Q473.28 734.273 471.359 732.49 Q469.46 730.708 466.104 730.708 M461.428 728.717 Q458.419 727.976 456.729 725.916 Q455.062 723.856 455.062 720.893 Q455.062 716.75 458.002 714.342 Q460.965 711.935 466.104 711.935 Q471.266 711.935 474.206 714.342 Q477.146 716.75 477.146 720.893 Q477.146 723.856 475.456 725.916 Q473.789 727.976 470.803 728.717 Q474.183 729.504 476.058 731.796 Q477.956 734.088 477.956 737.398 Q477.956 742.421 474.877 745.106 Q471.822 747.791 466.104 747.791 Q460.386 747.791 457.308 745.106 Q454.252 742.421 454.252 737.398 Q454.252 734.088 456.15 731.796 Q458.049 729.504 461.428 728.717 M459.715 721.333 Q459.715 724.018 461.382 725.523 Q463.072 727.027 466.104 727.027 Q469.113 727.027 470.803 725.523 Q472.516 724.018 472.516 721.333 Q472.516 718.648 470.803 717.143 Q469.113 715.639 466.104 715.639 Q463.072 715.639 461.382 717.143 Q459.715 718.648 459.715 721.333 Z\" fill=\"#000000\" fill-rule=\"evenodd\" fill-opacity=\"1\" /><path clip-path=\"url(#clip830)\" d=\"M 0 0 M483.072 712.56 L501.428 712.56 L501.428 716.495 L487.354 716.495 L487.354 724.967 Q488.372 724.62 489.391 724.458 Q490.409 724.273 491.428 724.273 Q497.215 724.273 500.595 727.444 Q503.974 730.615 503.974 736.032 Q503.974 741.611 500.502 744.712 Q497.03 747.791 490.71 747.791 Q488.534 747.791 486.266 747.421 Q484.021 747.05 481.613 746.31 L481.613 741.611 Q483.697 742.745 485.919 743.3 Q488.141 743.856 490.618 743.856 Q494.622 743.856 496.96 741.75 Q499.298 739.643 499.298 736.032 Q499.298 732.421 496.96 730.314 Q494.622 728.208 490.618 728.208 Q488.743 728.208 486.868 728.625 Q485.016 729.041 483.072 729.921 L483.072 712.56 Z\" fill=\"#000000\" fill-rule=\"evenodd\" fill-opacity=\"1\" /><path clip-path=\"url(#clip830)\" d=\"M 0 0 M519.044 715.639 Q515.432 715.639 513.604 719.203 Q511.798 722.745 511.798 729.875 Q511.798 736.981 513.604 740.546 Q515.432 744.087 519.044 744.087 Q522.678 744.087 524.483 740.546 Q526.312 736.981 526.312 729.875 Q526.312 722.745 524.483 719.203 Q522.678 715.639 519.044 715.639 M519.044 711.935 Q524.854 711.935 527.909 716.541 Q530.988 721.125 530.988 729.875 Q530.988 738.601 527.909 743.208 Q524.854 747.791 519.044 747.791 Q513.233 747.791 510.155 743.208 Q507.099 738.601 507.099 729.875 Q507.099 721.125 510.155 716.541 Q513.233 711.935 519.044 711.935 Z\" fill=\"#000000\" fill-rule=\"evenodd\" fill-opacity=\"1\" /><path clip-path=\"url(#clip830)\" d=\"M 0 0 M558.499 715.639 Q554.888 715.639 553.059 719.203 Q551.254 722.745 551.254 729.875 Q551.254 736.981 553.059 740.546 Q554.888 744.087 558.499 744.087 Q562.133 744.087 563.939 740.546 Q565.768 736.981 565.768 729.875 Q565.768 722.745 563.939 719.203 Q562.133 715.639 558.499 715.639 M558.499 711.935 Q564.309 711.935 567.365 716.541 Q570.444 721.125 570.444 729.875 Q570.444 738.601 567.365 743.208 Q564.309 747.791 558.499 747.791 Q552.689 747.791 549.61 743.208 Q546.555 738.601 546.555 729.875 Q546.555 721.125 549.61 716.541 Q552.689 711.935 558.499 711.935 Z\" fill=\"#000000\" fill-rule=\"evenodd\" fill-opacity=\"1\" /><path clip-path=\"url(#clip830)\" d=\"M 0 0 M575.513 741.24 L580.397 741.24 L580.397 747.12 L575.513 747.12 L575.513 741.24 Z\" fill=\"#000000\" fill-rule=\"evenodd\" fill-opacity=\"1\" /><path clip-path=\"url(#clip830)\" d=\"M 0 0 M585.513 712.56 L603.869 712.56 L603.869 716.495 L589.795 716.495 L589.795 724.967 Q590.814 724.62 591.832 724.458 Q592.851 724.273 593.869 724.273 Q599.656 724.273 603.036 727.444 Q606.416 730.615 606.416 736.032 Q606.416 741.611 602.943 744.712 Q599.471 747.791 593.152 747.791 Q590.976 747.791 588.707 747.421 Q586.462 747.05 584.055 746.31 L584.055 741.611 Q586.138 742.745 588.36 743.3 Q590.582 743.856 593.059 743.856 Q597.064 743.856 599.402 741.75 Q601.74 739.643 601.74 736.032 Q601.74 732.421 599.402 730.314 Q597.064 728.208 593.059 728.208 Q591.184 728.208 589.309 728.625 Q587.457 729.041 585.513 729.921 L585.513 712.56 Z\" fill=\"#000000\" fill-rule=\"evenodd\" fill-opacity=\"1\" /><path clip-path=\"url(#clip830)\" d=\"M 0 0 M622.064 727.976 Q618.916 727.976 617.064 730.129 Q615.235 732.282 615.235 736.032 Q615.235 739.759 617.064 741.935 Q618.916 744.087 622.064 744.087 Q625.212 744.087 627.04 741.935 Q628.892 739.759 628.892 736.032 Q628.892 732.282 627.04 730.129 Q625.212 727.976 622.064 727.976 M631.346 713.324 L631.346 717.583 Q629.587 716.75 627.781 716.31 Q625.999 715.87 624.24 715.87 Q619.61 715.87 617.156 718.995 Q614.726 722.12 614.379 728.439 Q615.744 726.426 617.804 725.361 Q619.865 724.273 622.341 724.273 Q627.55 724.273 630.559 727.444 Q633.591 730.592 633.591 736.032 Q633.591 741.356 630.443 744.574 Q627.295 747.791 622.064 747.791 Q616.068 747.791 612.897 743.208 Q609.726 738.601 609.726 729.875 Q609.726 721.68 613.615 716.819 Q617.503 711.935 624.054 711.935 Q625.814 711.935 627.596 712.282 Q629.402 712.629 631.346 713.324 Z\" fill=\"#000000\" fill-rule=\"evenodd\" fill-opacity=\"1\" /><path clip-path=\"url(#clip830)\" d=\"M 0 0 M648.661 730.708 Q645.327 730.708 643.406 732.49 Q641.508 734.273 641.508 737.398 Q641.508 740.523 643.406 742.305 Q645.327 744.087 648.661 744.087 Q651.994 744.087 653.915 742.305 Q655.837 740.5 655.837 737.398 Q655.837 734.273 653.915 732.49 Q652.017 730.708 648.661 730.708 M643.985 728.717 Q640.976 727.976 639.286 725.916 Q637.619 723.856 637.619 720.893 Q637.619 716.75 640.559 714.342 Q643.522 711.935 648.661 711.935 Q653.823 711.935 656.763 714.342 Q659.702 716.75 659.702 720.893 Q659.702 723.856 658.013 725.916 Q656.346 727.976 653.36 728.717 Q656.739 729.504 658.614 731.796 Q660.513 734.088 660.513 737.398 Q660.513 742.421 657.434 745.106 Q654.378 747.791 648.661 747.791 Q642.943 747.791 639.864 745.106 Q636.809 742.421 636.809 737.398 Q636.809 734.088 638.707 731.796 Q640.605 729.504 643.985 728.717 M642.272 721.333 Q642.272 724.018 643.939 725.523 Q645.628 727.027 648.661 727.027 Q651.67 727.027 653.36 725.523 Q655.073 724.018 655.073 721.333 Q655.073 718.648 653.36 717.143 Q651.67 715.639 648.661 715.639 Q645.628 715.639 643.939 717.143 Q642.272 718.648 642.272 721.333 Z\" fill=\"#000000\" fill-rule=\"evenodd\" fill-opacity=\"1\" /><path clip-path=\"url(#clip830)\" d=\"M 0 0 M664.401 712.56 L686.623 712.56 L686.623 714.551 L674.077 747.12 L669.193 747.12 L680.999 716.495 L664.401 716.495 L664.401 712.56 Z\" fill=\"#000000\" fill-rule=\"evenodd\" fill-opacity=\"1\" /><path clip-path=\"url(#clip830)\" d=\"M 0 0 M691.739 712.56 L710.096 712.56 L710.096 716.495 L696.022 716.495 L696.022 724.967 Q697.04 724.62 698.059 724.458 Q699.077 724.273 700.096 724.273 Q705.883 724.273 709.262 727.444 Q712.642 730.615 712.642 736.032 Q712.642 741.611 709.17 744.712 Q705.697 747.791 699.378 747.791 Q697.202 747.791 694.934 747.421 Q692.688 747.05 690.281 746.31 L690.281 741.611 Q692.364 742.745 694.586 743.3 Q696.809 743.856 699.285 743.856 Q703.29 743.856 705.628 741.75 Q707.966 739.643 707.966 736.032 Q707.966 732.421 705.628 730.314 Q703.29 728.208 699.285 728.208 Q697.41 728.208 695.535 728.625 Q693.684 729.041 691.739 729.921 L691.739 712.56 Z\" fill=\"#000000\" fill-rule=\"evenodd\" fill-opacity=\"1\" /><path clip-path=\"url(#clip830)\" d=\"M 0 0 M739.702 715.639 Q736.091 715.639 734.262 719.203 Q732.456 722.745 732.456 729.875 Q732.456 736.981 734.262 740.546 Q736.091 744.087 739.702 744.087 Q743.336 744.087 745.142 740.546 Q746.97 736.981 746.97 729.875 Q746.97 722.745 745.142 719.203 Q743.336 715.639 739.702 715.639 M739.702 711.935 Q745.512 711.935 748.567 716.541 Q751.646 721.125 751.646 729.875 Q751.646 738.601 748.567 743.208 Q745.512 747.791 739.702 747.791 Q733.892 747.791 730.813 743.208 Q727.757 738.601 727.757 729.875 Q727.757 721.125 730.813 716.541 Q733.892 711.935 739.702 711.935 Z\" fill=\"#000000\" fill-rule=\"evenodd\" fill-opacity=\"1\" /><path clip-path=\"url(#clip830)\" d=\"M 0 0 M756.716 741.24 L761.6 741.24 L761.6 747.12 L756.716 747.12 L756.716 741.24 Z\" fill=\"#000000\" fill-rule=\"evenodd\" fill-opacity=\"1\" /><path clip-path=\"url(#clip830)\" d=\"M 0 0 M766.715 712.56 L785.072 712.56 L785.072 716.495 L770.998 716.495 L770.998 724.967 Q772.016 724.62 773.035 724.458 Q774.053 724.273 775.072 724.273 Q780.859 724.273 784.239 727.444 Q787.618 730.615 787.618 736.032 Q787.618 741.611 784.146 744.712 Q780.674 747.791 774.354 747.791 Q772.178 747.791 769.91 747.421 Q767.665 747.05 765.257 746.31 L765.257 741.611 Q767.34 742.745 769.563 743.3 Q771.785 743.856 774.262 743.856 Q778.266 743.856 780.604 741.75 Q782.942 739.643 782.942 736.032 Q782.942 732.421 780.604 730.314 Q778.266 728.208 774.262 728.208 Q772.387 728.208 770.512 728.625 Q768.66 729.041 766.715 729.921 L766.715 712.56 Z\" fill=\"#000000\" fill-rule=\"evenodd\" fill-opacity=\"1\" /><path clip-path=\"url(#clip830)\" d=\"M 0 0 M803.266 727.976 Q800.118 727.976 798.266 730.129 Q796.438 732.282 796.438 736.032 Q796.438 739.759 798.266 741.935 Q800.118 744.087 803.266 744.087 Q806.414 744.087 808.243 741.935 Q810.095 739.759 810.095 736.032 Q810.095 732.282 808.243 730.129 Q806.414 727.976 803.266 727.976 M812.549 713.324 L812.549 717.583 Q810.789 716.75 808.984 716.31 Q807.201 715.87 805.442 715.87 Q800.813 715.87 798.359 718.995 Q795.928 722.12 795.581 728.439 Q796.947 726.426 799.007 725.361 Q801.067 724.273 803.544 724.273 Q808.752 724.273 811.762 727.444 Q814.794 730.592 814.794 736.032 Q814.794 741.356 811.646 744.574 Q808.498 747.791 803.266 747.791 Q797.271 747.791 794.1 743.208 Q790.928 738.601 790.928 729.875 Q790.928 721.68 794.817 716.819 Q798.706 711.935 805.257 711.935 Q807.016 711.935 808.799 712.282 Q810.604 712.629 812.549 713.324 Z\" fill=\"#000000\" fill-rule=\"evenodd\" fill-opacity=\"1\" /><path clip-path=\"url(#clip830)\" d=\"M 0 0 M820.002 746.402 L820.002 742.143 Q821.761 742.976 823.567 743.416 Q825.373 743.856 827.109 743.856 Q831.738 743.856 834.169 740.754 Q836.623 737.629 836.97 731.287 Q835.627 733.277 833.567 734.342 Q831.507 735.407 829.007 735.407 Q823.822 735.407 820.789 732.282 Q817.78 729.134 817.78 723.694 Q817.78 718.37 820.928 715.152 Q824.076 711.935 829.308 711.935 Q835.303 711.935 838.451 716.541 Q841.622 721.125 841.622 729.875 Q841.622 738.046 837.734 742.93 Q833.868 747.791 827.317 747.791 Q825.558 747.791 823.752 747.444 Q821.947 747.097 820.002 746.402 M829.308 731.75 Q832.456 731.75 834.285 729.597 Q836.136 727.444 836.136 723.694 Q836.136 719.967 834.285 717.814 Q832.456 715.639 829.308 715.639 Q826.16 715.639 824.308 717.814 Q822.479 719.967 822.479 723.694 Q822.479 727.444 824.308 729.597 Q826.16 731.75 829.308 731.75 Z\" fill=\"#000000\" fill-rule=\"evenodd\" fill-opacity=\"1\" /><path clip-path=\"url(#clip830)\" d=\"M 0 0 M856.692 715.639 Q853.081 715.639 851.252 719.203 Q849.447 722.745 849.447 729.875 Q849.447 736.981 851.252 740.546 Q853.081 744.087 856.692 744.087 Q860.326 744.087 862.132 740.546 Q863.96 736.981 863.96 729.875 Q863.96 722.745 862.132 719.203 Q860.326 715.639 856.692 715.639 M856.692 711.935 Q862.502 711.935 865.558 716.541 Q868.636 721.125 868.636 729.875 Q868.636 738.601 865.558 743.208 Q862.502 747.791 856.692 747.791 Q850.882 747.791 847.803 743.208 Q844.747 738.601 844.747 729.875 Q844.747 721.125 847.803 716.541 Q850.882 711.935 856.692 711.935 Z\" fill=\"#000000\" fill-rule=\"evenodd\" fill-opacity=\"1\" /><path clip-path=\"url(#clip830)\" d=\"M 0 0 M883.706 715.639 Q880.095 715.639 878.266 719.203 Q876.46 722.745 876.46 729.875 Q876.46 736.981 878.266 740.546 Q880.095 744.087 883.706 744.087 Q887.34 744.087 889.145 740.546 Q890.974 736.981 890.974 729.875 Q890.974 722.745 889.145 719.203 Q887.34 715.639 883.706 715.639 M883.706 711.935 Q889.516 711.935 892.571 716.541 Q895.65 721.125 895.65 729.875 Q895.65 738.601 892.571 743.208 Q889.516 747.791 883.706 747.791 Q877.895 747.791 874.817 743.208 Q871.761 738.601 871.761 729.875 Q871.761 721.125 874.817 716.541 Q877.895 711.935 883.706 711.935 Z\" fill=\"#000000\" fill-rule=\"evenodd\" fill-opacity=\"1\" /><path clip-path=\"url(#clip830)\" d=\"M 0 0 M923.103 715.639 Q919.492 715.639 917.664 719.203 Q915.858 722.745 915.858 729.875 Q915.858 736.981 917.664 740.546 Q919.492 744.087 923.103 744.087 Q926.738 744.087 928.543 740.546 Q930.372 736.981 930.372 729.875 Q930.372 722.745 928.543 719.203 Q926.738 715.639 923.103 715.639 M923.103 711.935 Q928.914 711.935 931.969 716.541 Q935.048 721.125 935.048 729.875 Q935.048 738.601 931.969 743.208 Q928.914 747.791 923.103 747.791 Q917.293 747.791 914.215 743.208 Q911.159 738.601 911.159 729.875 Q911.159 721.125 914.215 716.541 Q917.293 711.935 923.103 711.935 Z\" fill=\"#000000\" fill-rule=\"evenodd\" fill-opacity=\"1\" /><path clip-path=\"url(#clip830)\" d=\"M 0 0 M940.117 741.24 L945.001 741.24 L945.001 747.12 L940.117 747.12 L940.117 741.24 Z\" fill=\"#000000\" fill-rule=\"evenodd\" fill-opacity=\"1\" /><path clip-path=\"url(#clip830)\" d=\"M 0 0 M950.117 712.56 L968.473 712.56 L968.473 716.495 L954.399 716.495 L954.399 724.967 Q955.418 724.62 956.437 724.458 Q957.455 724.273 958.474 724.273 Q964.261 724.273 967.64 727.444 Q971.02 730.615 971.02 736.032 Q971.02 741.611 967.548 744.712 Q964.075 747.791 957.756 747.791 Q955.58 747.791 953.312 747.421 Q951.066 747.05 948.659 746.31 L948.659 741.611 Q950.742 742.745 952.964 743.3 Q955.187 743.856 957.663 743.856 Q961.668 743.856 964.006 741.75 Q966.344 739.643 966.344 736.032 Q966.344 732.421 964.006 730.314 Q961.668 728.208 957.663 728.208 Q955.788 728.208 953.913 728.625 Q952.062 729.041 950.117 729.921 L950.117 712.56 Z\" fill=\"#000000\" fill-rule=\"evenodd\" fill-opacity=\"1\" /><path clip-path=\"url(#clip830)\" d=\"M 0 0 M986.668 727.976 Q983.52 727.976 981.668 730.129 Q979.839 732.282 979.839 736.032 Q979.839 739.759 981.668 741.935 Q983.52 744.087 986.668 744.087 Q989.816 744.087 991.645 741.935 Q993.496 739.759 993.496 736.032 Q993.496 732.282 991.645 730.129 Q989.816 727.976 986.668 727.976 M995.95 713.324 L995.95 717.583 Q994.191 716.75 992.385 716.31 Q990.603 715.87 988.844 715.87 Q984.214 715.87 981.76 718.995 Q979.33 722.12 978.983 728.439 Q980.348 726.426 982.409 725.361 Q984.469 724.273 986.946 724.273 Q992.154 724.273 995.163 727.444 Q998.196 730.592 998.196 736.032 Q998.196 741.356 995.047 744.574 Q991.899 747.791 986.668 747.791 Q980.672 747.791 977.501 743.208 Q974.33 738.601 974.33 729.875 Q974.33 721.68 978.219 716.819 Q982.108 711.935 988.659 711.935 Q990.418 711.935 992.2 712.282 Q994.006 712.629 995.95 713.324 Z\" fill=\"#000000\" fill-rule=\"evenodd\" fill-opacity=\"1\" /><path clip-path=\"url(#clip830)\" d=\"M 0 0 M1003.4 746.402 L1003.4 742.143 Q1005.16 742.976 1006.97 743.416 Q1008.77 743.856 1010.51 743.856 Q1015.14 743.856 1017.57 740.754 Q1020.02 737.629 1020.37 731.287 Q1019.03 733.277 1016.97 734.342 Q1014.91 735.407 1012.41 735.407 Q1007.22 735.407 1004.19 732.282 Q1001.18 729.134 1001.18 723.694 Q1001.18 718.37 1004.33 715.152 Q1007.48 711.935 1012.71 711.935 Q1018.7 711.935 1021.85 716.541 Q1025.02 721.125 1025.02 729.875 Q1025.02 738.046 1021.14 742.93 Q1017.27 747.791 1010.72 747.791 Q1008.96 747.791 1007.15 747.444 Q1005.35 747.097 1003.4 746.402 M1012.71 731.75 Q1015.86 731.75 1017.69 729.597 Q1019.54 727.444 1019.54 723.694 Q1019.54 719.967 1017.69 717.814 Q1015.86 715.639 1012.71 715.639 Q1009.56 715.639 1007.71 717.814 Q1005.88 719.967 1005.88 723.694 Q1005.88 727.444 1007.71 729.597 Q1009.56 731.75 1012.71 731.75 Z\" fill=\"#000000\" fill-rule=\"evenodd\" fill-opacity=\"1\" /><path clip-path=\"url(#clip830)\" d=\"M 0 0 M1034.12 743.185 L1050.44 743.185 L1050.44 747.12 L1028.5 747.12 L1028.5 743.185 Q1031.16 740.43 1035.74 735.8 Q1040.35 731.148 1041.53 729.805 Q1043.77 727.282 1044.65 725.546 Q1045.56 723.787 1045.56 722.097 Q1045.56 719.342 1043.61 717.606 Q1041.69 715.87 1038.59 715.87 Q1036.39 715.87 1033.94 716.634 Q1031.51 717.398 1028.73 718.949 L1028.73 714.227 Q1031.55 713.092 1034.01 712.514 Q1036.46 711.935 1038.5 711.935 Q1043.87 711.935 1047.06 714.62 Q1050.26 717.305 1050.26 721.796 Q1050.26 723.926 1049.45 725.847 Q1048.66 727.745 1046.55 730.338 Q1045.97 731.009 1042.87 734.226 Q1039.77 737.421 1034.12 743.185 Z\" fill=\"#000000\" fill-rule=\"evenodd\" fill-opacity=\"1\" /><path clip-path=\"url(#clip830)\" d=\"M 0 0 M1055.56 712.56 L1073.91 712.56 L1073.91 716.495 L1059.84 716.495 L1059.84 724.967 Q1060.86 724.62 1061.88 724.458 Q1062.89 724.273 1063.91 724.273 Q1069.7 724.273 1073.08 727.444 Q1076.46 730.615 1076.46 736.032 Q1076.46 741.611 1072.99 744.712 Q1069.51 747.791 1063.2 747.791 Q1061.02 747.791 1058.75 747.421 Q1056.51 747.05 1054.1 746.31 L1054.1 741.611 Q1056.18 742.745 1058.4 743.3 Q1060.63 743.856 1063.1 743.856 Q1067.11 743.856 1069.45 741.75 Q1071.78 739.643 1071.78 736.032 Q1071.78 732.421 1069.45 730.314 Q1067.11 728.208 1063.1 728.208 Q1061.23 728.208 1059.35 728.625 Q1057.5 729.041 1055.56 729.921 L1055.56 712.56 Z\" fill=\"#000000\" fill-rule=\"evenodd\" fill-opacity=\"1\" /><path clip-path=\"url(#clip830)\" d=\"M 0 0 M1104.41 715.639 Q1100.8 715.639 1098.97 719.203 Q1097.16 722.745 1097.16 729.875 Q1097.16 736.981 1098.97 740.546 Q1100.8 744.087 1104.41 744.087 Q1108.04 744.087 1109.85 740.546 Q1111.68 736.981 1111.68 729.875 Q1111.68 722.745 1109.85 719.203 Q1108.04 715.639 1104.41 715.639 M1104.41 711.935 Q1110.22 711.935 1113.28 716.541 Q1116.35 721.125 1116.35 729.875 Q1116.35 738.601 1113.28 743.208 Q1110.22 747.791 1104.41 747.791 Q1098.6 747.791 1095.52 743.208 Q1092.47 738.601 1092.47 729.875 Q1092.47 721.125 1095.52 716.541 Q1098.6 711.935 1104.41 711.935 Z\" fill=\"#000000\" fill-rule=\"evenodd\" fill-opacity=\"1\" /><path clip-path=\"url(#clip830)\" d=\"M 0 0 M1121.42 741.24 L1126.31 741.24 L1126.31 747.12 L1121.42 747.12 L1121.42 741.24 Z\" fill=\"#000000\" fill-rule=\"evenodd\" fill-opacity=\"1\" /><path clip-path=\"url(#clip830)\" d=\"M 0 0 M1131.42 712.56 L1149.78 712.56 L1149.78 716.495 L1135.71 716.495 L1135.71 724.967 Q1136.72 724.62 1137.74 724.458 Q1138.76 724.273 1139.78 724.273 Q1145.57 724.273 1148.95 727.444 Q1152.33 730.615 1152.33 736.032 Q1152.33 741.611 1148.85 744.712 Q1145.38 747.791 1139.06 747.791 Q1136.89 747.791 1134.62 747.421 Q1132.37 747.05 1129.97 746.31 L1129.97 741.611 Q1132.05 742.745 1134.27 743.3 Q1136.49 743.856 1138.97 743.856 Q1142.97 743.856 1145.31 741.75 Q1147.65 739.643 1147.65 736.032 Q1147.65 732.421 1145.31 730.314 Q1142.97 728.208 1138.97 728.208 Q1137.1 728.208 1135.22 728.625 Q1133.37 729.041 1131.42 729.921 L1131.42 712.56 Z\" fill=\"#000000\" fill-rule=\"evenodd\" fill-opacity=\"1\" /><path clip-path=\"url(#clip830)\" d=\"M 0 0 M1167.97 727.976 Q1164.83 727.976 1162.97 730.129 Q1161.15 732.282 1161.15 736.032 Q1161.15 739.759 1162.97 741.935 Q1164.83 744.087 1167.97 744.087 Q1171.12 744.087 1172.95 741.935 Q1174.8 739.759 1174.8 736.032 Q1174.8 732.282 1172.95 730.129 Q1171.12 727.976 1167.97 727.976 M1177.26 713.324 L1177.26 717.583 Q1175.5 716.75 1173.69 716.31 Q1171.91 715.87 1170.15 715.87 Q1165.52 715.87 1163.07 718.995 Q1160.64 722.12 1160.29 728.439 Q1161.66 726.426 1163.72 725.361 Q1165.78 724.273 1168.25 724.273 Q1173.46 724.273 1176.47 727.444 Q1179.5 730.592 1179.5 736.032 Q1179.5 741.356 1176.35 744.574 Q1173.21 747.791 1167.97 747.791 Q1161.98 747.791 1158.81 743.208 Q1155.64 738.601 1155.64 729.875 Q1155.64 721.68 1159.53 716.819 Q1163.41 711.935 1169.97 711.935 Q1171.72 711.935 1173.51 712.282 Q1175.31 712.629 1177.26 713.324 Z\" fill=\"#000000\" fill-rule=\"evenodd\" fill-opacity=\"1\" /><path clip-path=\"url(#clip830)\" d=\"M 0 0 M1184.71 746.402 L1184.71 742.143 Q1186.47 742.976 1188.28 743.416 Q1190.08 743.856 1191.82 743.856 Q1196.45 743.856 1198.88 740.754 Q1201.33 737.629 1201.68 731.287 Q1200.34 733.277 1198.28 734.342 Q1196.22 735.407 1193.72 735.407 Q1188.53 735.407 1185.5 732.282 Q1182.49 729.134 1182.49 723.694 Q1182.49 718.37 1185.64 715.152 Q1188.78 711.935 1194.02 711.935 Q1200.01 711.935 1203.16 716.541 Q1206.33 721.125 1206.33 729.875 Q1206.33 738.046 1202.44 742.93 Q1198.58 747.791 1192.03 747.791 Q1190.27 747.791 1188.46 747.444 Q1186.66 747.097 1184.71 746.402 M1194.02 731.75 Q1197.16 731.75 1198.99 729.597 Q1200.84 727.444 1200.84 723.694 Q1200.84 719.967 1198.99 717.814 Q1197.16 715.639 1194.02 715.639 Q1190.87 715.639 1189.02 717.814 Q1187.19 719.967 1187.19 723.694 Q1187.19 727.444 1189.02 729.597 Q1190.87 731.75 1194.02 731.75 Z\" fill=\"#000000\" fill-rule=\"evenodd\" fill-opacity=\"1\" /><path clip-path=\"url(#clip830)\" d=\"M 0 0 M1211.45 712.56 L1229.8 712.56 L1229.8 716.495 L1215.73 716.495 L1215.73 724.967 Q1216.75 724.62 1217.77 724.458 Q1218.78 724.273 1219.8 724.273 Q1225.59 724.273 1228.97 727.444 Q1232.35 730.615 1232.35 736.032 Q1232.35 741.611 1228.88 744.712 Q1225.4 747.791 1219.09 747.791 Q1216.91 747.791 1214.64 747.421 Q1212.4 747.05 1209.99 746.31 L1209.99 741.611 Q1212.07 742.745 1214.29 743.3 Q1216.52 743.856 1218.99 743.856 Q1223 743.856 1225.34 741.75 Q1227.67 739.643 1227.67 736.032 Q1227.67 732.421 1225.34 730.314 Q1223 728.208 1218.99 728.208 Q1217.12 728.208 1215.24 728.625 Q1213.39 729.041 1211.45 729.921 L1211.45 712.56 Z\" fill=\"#000000\" fill-rule=\"evenodd\" fill-opacity=\"1\" /><path clip-path=\"url(#clip830)\" d=\"M 0 0 M1247.42 715.639 Q1243.81 715.639 1241.98 719.203 Q1240.17 722.745 1240.17 729.875 Q1240.17 736.981 1241.98 740.546 Q1243.81 744.087 1247.42 744.087 Q1251.05 744.087 1252.86 740.546 Q1254.69 736.981 1254.69 729.875 Q1254.69 722.745 1252.86 719.203 Q1251.05 715.639 1247.42 715.639 M1247.42 711.935 Q1253.23 711.935 1256.28 716.541 Q1259.36 721.125 1259.36 729.875 Q1259.36 738.601 1256.28 743.208 Q1253.23 747.791 1247.42 747.791 Q1241.61 747.791 1238.53 743.208 Q1235.47 738.601 1235.47 729.875 Q1235.47 721.125 1238.53 716.541 Q1241.61 711.935 1247.42 711.935 Z\" fill=\"#000000\" fill-rule=\"evenodd\" fill-opacity=\"1\" /><polyline clip-path=\"url(#clip832)\" style=\"stroke:#000000; stroke-width:2; stroke-opacity:0.1; fill:none\" points=\"\n",
       "  306.207,630.973 1184.75,630.973 \n",
       "  \"/>\n",
       "<polyline clip-path=\"url(#clip832)\" style=\"stroke:#000000; stroke-width:2; stroke-opacity:0.1; fill:none\" points=\"\n",
       "  306.207,539.375 1184.75,539.375 \n",
       "  \"/>\n",
       "<polyline clip-path=\"url(#clip832)\" style=\"stroke:#000000; stroke-width:2; stroke-opacity:0.1; fill:none\" points=\"\n",
       "  306.207,447.777 1184.75,447.777 \n",
       "  \"/>\n",
       "<polyline clip-path=\"url(#clip832)\" style=\"stroke:#000000; stroke-width:2; stroke-opacity:0.1; fill:none\" points=\"\n",
       "  306.207,356.179 1184.75,356.179 \n",
       "  \"/>\n",
       "<polyline clip-path=\"url(#clip832)\" style=\"stroke:#000000; stroke-width:2; stroke-opacity:0.1; fill:none\" points=\"\n",
       "  306.207,264.581 1184.75,264.581 \n",
       "  \"/>\n",
       "<polyline clip-path=\"url(#clip832)\" style=\"stroke:#000000; stroke-width:2; stroke-opacity:0.1; fill:none\" points=\"\n",
       "  306.207,172.982 1184.75,172.982 \n",
       "  \"/>\n",
       "<polyline clip-path=\"url(#clip830)\" style=\"stroke:#000000; stroke-width:4; stroke-opacity:1; fill:none\" points=\"\n",
       "  306.207,686.448 306.207,123.472 \n",
       "  \"/>\n",
       "<polyline clip-path=\"url(#clip830)\" style=\"stroke:#000000; stroke-width:4; stroke-opacity:1; fill:none\" points=\"\n",
       "  306.207,630.973 316.749,630.973 \n",
       "  \"/>\n",
       "<polyline clip-path=\"url(#clip830)\" style=\"stroke:#000000; stroke-width:4; stroke-opacity:1; fill:none\" points=\"\n",
       "  306.207,539.375 316.749,539.375 \n",
       "  \"/>\n",
       "<polyline clip-path=\"url(#clip830)\" style=\"stroke:#000000; stroke-width:4; stroke-opacity:1; fill:none\" points=\"\n",
       "  306.207,447.777 316.749,447.777 \n",
       "  \"/>\n",
       "<polyline clip-path=\"url(#clip830)\" style=\"stroke:#000000; stroke-width:4; stroke-opacity:1; fill:none\" points=\"\n",
       "  306.207,356.179 316.749,356.179 \n",
       "  \"/>\n",
       "<polyline clip-path=\"url(#clip830)\" style=\"stroke:#000000; stroke-width:4; stroke-opacity:1; fill:none\" points=\"\n",
       "  306.207,264.581 316.749,264.581 \n",
       "  \"/>\n",
       "<polyline clip-path=\"url(#clip830)\" style=\"stroke:#000000; stroke-width:4; stroke-opacity:1; fill:none\" points=\"\n",
       "  306.207,172.982 316.749,172.982 \n",
       "  \"/>\n",
       "<path clip-path=\"url(#clip830)\" d=\"M 0 0 M63.33 635.558 Q60.1819 635.558 58.33 637.71 Q56.5014 639.863 56.5014 643.613 Q56.5014 647.34 58.33 649.516 Q60.1819 651.669 63.33 651.669 Q66.4782 651.669 68.3068 649.516 Q70.1587 647.34 70.1587 643.613 Q70.1587 639.863 68.3068 637.71 Q66.4782 635.558 63.33 635.558 M72.6124 620.905 L72.6124 625.164 Q70.8531 624.331 69.0476 623.891 Q67.2652 623.451 65.5059 623.451 Q60.8763 623.451 58.4226 626.576 Q55.9921 629.701 55.6449 636.02 Q57.0106 634.007 59.0708 632.942 Q61.131 631.854 63.6078 631.854 Q68.8161 631.854 71.8253 635.025 Q74.8577 638.173 74.8577 643.613 Q74.8577 648.937 71.7096 652.155 Q68.5615 655.372 63.33 655.372 Q57.3347 655.372 54.1634 650.789 Q50.9921 646.182 50.9921 637.456 Q50.9921 629.261 54.881 624.4 Q58.7699 619.516 65.3208 619.516 Q67.08 619.516 68.8624 619.863 Q70.6679 620.21 72.6124 620.905 Z\" fill=\"#000000\" fill-rule=\"evenodd\" fill-opacity=\"1\" /><path clip-path=\"url(#clip830)\" d=\"M 0 0 M79.9272 648.821 L84.8114 648.821 L84.8114 654.701 L79.9272 654.701 L79.9272 648.821 Z\" fill=\"#000000\" fill-rule=\"evenodd\" fill-opacity=\"1\" /><path clip-path=\"url(#clip830)\" d=\"M 0 0 M99.8808 623.22 Q96.2697 623.22 94.441 626.784 Q92.6354 630.326 92.6354 637.456 Q92.6354 644.562 94.441 648.127 Q96.2697 651.669 99.8808 651.669 Q103.515 651.669 105.321 648.127 Q107.149 644.562 107.149 637.456 Q107.149 630.326 105.321 626.784 Q103.515 623.22 99.8808 623.22 M99.8808 619.516 Q105.691 619.516 108.746 624.122 Q111.825 628.706 111.825 637.456 Q111.825 646.182 108.746 650.789 Q105.691 655.372 99.8808 655.372 Q94.0706 655.372 90.9919 650.789 Q87.9364 646.182 87.9364 637.456 Q87.9364 628.706 90.9919 624.122 Q94.0706 619.516 99.8808 619.516 Z\" fill=\"#000000\" fill-rule=\"evenodd\" fill-opacity=\"1\" /><path clip-path=\"url(#clip830)\" d=\"M 0 0 M126.894 623.22 Q123.283 623.22 121.455 626.784 Q119.649 630.326 119.649 637.456 Q119.649 644.562 121.455 648.127 Q123.283 651.669 126.894 651.669 Q130.529 651.669 132.334 648.127 Q134.163 644.562 134.163 637.456 Q134.163 630.326 132.334 626.784 Q130.529 623.22 126.894 623.22 M126.894 619.516 Q132.705 619.516 135.76 624.122 Q138.839 628.706 138.839 637.456 Q138.839 646.182 135.76 650.789 Q132.705 655.372 126.894 655.372 Q121.084 655.372 118.006 650.789 Q114.95 646.182 114.95 637.456 Q114.95 628.706 118.006 624.122 Q121.084 619.516 126.894 619.516 Z\" fill=\"#000000\" fill-rule=\"evenodd\" fill-opacity=\"1\" /><path clip-path=\"url(#clip830)\" d=\"M 0 0 M172.079 629.238 L161.501 639.863 L172.079 650.442 L169.325 653.243 L158.7 642.618 L148.075 653.243 L145.343 650.442 L155.899 639.863 L145.343 629.238 L148.075 626.437 L158.7 637.062 L169.325 626.437 L172.079 629.238 Z\" fill=\"#000000\" fill-rule=\"evenodd\" fill-opacity=\"1\" /><path clip-path=\"url(#clip830)\" d=\"M 0 0 M177.959 650.766 L185.598 650.766 L185.598 624.4 L177.288 626.067 L177.288 621.808 L185.552 620.141 L190.227 620.141 L190.227 650.766 L197.866 650.766 L197.866 654.701 L177.959 654.701 L177.959 650.766 Z\" fill=\"#000000\" fill-rule=\"evenodd\" fill-opacity=\"1\" /><path clip-path=\"url(#clip830)\" d=\"M 0 0 M212.936 623.22 Q209.325 623.22 207.496 626.784 Q205.69 630.326 205.69 637.456 Q205.69 644.562 207.496 648.127 Q209.325 651.669 212.936 651.669 Q216.57 651.669 218.375 648.127 Q220.204 644.562 220.204 637.456 Q220.204 630.326 218.375 626.784 Q216.57 623.22 212.936 623.22 M212.936 619.516 Q218.746 619.516 221.801 624.122 Q224.88 628.706 224.88 637.456 Q224.88 646.182 221.801 650.789 Q218.746 655.372 212.936 655.372 Q207.126 655.372 204.047 650.789 Q200.991 646.182 200.991 637.456 Q200.991 628.706 204.047 624.122 Q207.126 619.516 212.936 619.516 Z\" fill=\"#000000\" fill-rule=\"evenodd\" fill-opacity=\"1\" /><path clip-path=\"url(#clip830)\" d=\"M 0 0 M224.88 613.617 L248.992 613.617 L248.992 616.815 L224.88 616.815 L224.88 613.617 Z\" fill=\"#000000\" fill-rule=\"evenodd\" fill-opacity=\"1\" /><path clip-path=\"url(#clip830)\" d=\"M 0 0 M252.151 599.211 L270.207 599.211 L270.207 600.828 L260.013 627.291 L256.045 627.291 L265.637 602.408 L252.151 602.408 L252.151 599.211 Z\" fill=\"#000000\" fill-rule=\"evenodd\" fill-opacity=\"1\" /><path clip-path=\"url(#clip830)\" d=\"M 0 0 M64.3254 543.959 Q61.1773 543.959 59.3254 546.112 Q57.4967 548.265 57.4967 552.015 Q57.4967 555.742 59.3254 557.918 Q61.1773 560.07 64.3254 560.07 Q67.4735 560.07 69.3022 557.918 Q71.1541 555.742 71.1541 552.015 Q71.1541 548.265 69.3022 546.112 Q67.4735 543.959 64.3254 543.959 M73.6077 529.307 L73.6077 533.566 Q71.8485 532.733 70.0429 532.293 Q68.2606 531.853 66.5013 531.853 Q61.8717 531.853 59.418 534.978 Q56.9875 538.103 56.6402 544.422 Q58.006 542.408 60.0662 541.344 Q62.1263 540.256 64.6032 540.256 Q69.8115 540.256 72.8207 543.427 Q75.8531 546.575 75.8531 552.015 Q75.8531 557.339 72.705 560.556 Q69.5568 563.774 64.3254 563.774 Q58.33 563.774 55.1588 559.191 Q51.9875 554.584 51.9875 545.857 Q51.9875 537.663 55.8764 532.802 Q59.7652 527.918 66.3161 527.918 Q68.0754 527.918 69.8578 528.265 Q71.6633 528.612 73.6077 529.307 Z\" fill=\"#000000\" fill-rule=\"evenodd\" fill-opacity=\"1\" /><path clip-path=\"url(#clip830)\" d=\"M 0 0 M80.9225 557.223 L85.8068 557.223 L85.8068 563.103 L80.9225 563.103 L80.9225 557.223 Z\" fill=\"#000000\" fill-rule=\"evenodd\" fill-opacity=\"1\" /><path clip-path=\"url(#clip830)\" d=\"M 0 0 M100.876 531.621 Q97.265 531.621 95.4363 535.186 Q93.6308 538.728 93.6308 545.857 Q93.6308 552.964 95.4363 556.529 Q97.265 560.07 100.876 560.07 Q104.51 560.07 106.316 556.529 Q108.145 552.964 108.145 545.857 Q108.145 538.728 106.316 535.186 Q104.51 531.621 100.876 531.621 M100.876 527.918 Q106.686 527.918 109.742 532.524 Q112.82 537.108 112.82 545.857 Q112.82 554.584 109.742 559.191 Q106.686 563.774 100.876 563.774 Q95.066 563.774 91.9873 559.191 Q88.9317 554.584 88.9317 545.857 Q88.9317 537.108 91.9873 532.524 Q95.066 527.918 100.876 527.918 Z\" fill=\"#000000\" fill-rule=\"evenodd\" fill-opacity=\"1\" /><path clip-path=\"url(#clip830)\" d=\"M 0 0 M117.936 528.543 L136.293 528.543 L136.293 532.478 L122.219 532.478 L122.219 540.95 Q123.237 540.603 124.256 540.441 Q125.274 540.256 126.293 540.256 Q132.08 540.256 135.459 543.427 Q138.839 546.598 138.839 552.015 Q138.839 557.594 135.367 560.695 Q131.894 563.774 125.575 563.774 Q123.399 563.774 121.131 563.404 Q118.885 563.033 116.478 562.293 L116.478 557.594 Q118.561 558.728 120.783 559.283 Q123.006 559.839 125.482 559.839 Q129.487 559.839 131.825 557.732 Q134.163 555.626 134.163 552.015 Q134.163 548.404 131.825 546.297 Q129.487 544.191 125.482 544.191 Q123.607 544.191 121.732 544.607 Q119.881 545.024 117.936 545.904 L117.936 528.543 Z\" fill=\"#000000\" fill-rule=\"evenodd\" fill-opacity=\"1\" /><path clip-path=\"url(#clip830)\" d=\"M 0 0 M172.079 537.64 L161.501 548.265 L172.079 558.844 L169.325 561.644 L158.7 551.019 L148.075 561.644 L145.343 558.844 L155.899 548.265 L145.343 537.64 L148.075 534.839 L158.7 545.464 L169.325 534.839 L172.079 537.64 Z\" fill=\"#000000\" fill-rule=\"evenodd\" fill-opacity=\"1\" /><path clip-path=\"url(#clip830)\" d=\"M 0 0 M177.959 559.168 L185.598 559.168 L185.598 532.802 L177.288 534.469 L177.288 530.209 L185.552 528.543 L190.227 528.543 L190.227 559.168 L197.866 559.168 L197.866 563.103 L177.959 563.103 L177.959 559.168 Z\" fill=\"#000000\" fill-rule=\"evenodd\" fill-opacity=\"1\" /><path clip-path=\"url(#clip830)\" d=\"M 0 0 M212.936 531.621 Q209.325 531.621 207.496 535.186 Q205.69 538.728 205.69 545.857 Q205.69 552.964 207.496 556.529 Q209.325 560.07 212.936 560.07 Q216.57 560.07 218.375 556.529 Q220.204 552.964 220.204 545.857 Q220.204 538.728 218.375 535.186 Q216.57 531.621 212.936 531.621 M212.936 527.918 Q218.746 527.918 221.801 532.524 Q224.88 537.108 224.88 545.857 Q224.88 554.584 221.801 559.191 Q218.746 563.774 212.936 563.774 Q207.126 563.774 204.047 559.191 Q200.991 554.584 200.991 545.857 Q200.991 537.108 204.047 532.524 Q207.126 527.918 212.936 527.918 Z\" fill=\"#000000\" fill-rule=\"evenodd\" fill-opacity=\"1\" /><path clip-path=\"url(#clip830)\" d=\"M 0 0 M224.88 522.019 L248.992 522.019 L248.992 525.216 L224.88 525.216 L224.88 522.019 Z\" fill=\"#000000\" fill-rule=\"evenodd\" fill-opacity=\"1\" /><path clip-path=\"url(#clip830)\" d=\"M 0 0 M252.151 507.612 L270.207 507.612 L270.207 509.23 L260.013 535.692 L256.045 535.692 L265.637 510.81 L252.151 510.81 L252.151 507.612 Z\" fill=\"#000000\" fill-rule=\"evenodd\" fill-opacity=\"1\" /><path clip-path=\"url(#clip830)\" d=\"M 0 0 M64.5569 452.361 Q61.4087 452.361 59.5569 454.514 Q57.7282 456.667 57.7282 460.417 Q57.7282 464.143 59.5569 466.319 Q61.4087 468.472 64.5569 468.472 Q67.705 468.472 69.5337 466.319 Q71.3855 464.143 71.3855 460.417 Q71.3855 456.667 69.5337 454.514 Q67.705 452.361 64.5569 452.361 M73.8392 437.708 L73.8392 441.968 Q72.08 441.134 70.2744 440.695 Q68.492 440.255 66.7328 440.255 Q62.1032 440.255 59.6495 443.38 Q57.2189 446.505 56.8717 452.824 Q58.2375 450.81 60.2976 449.745 Q62.3578 448.657 64.8346 448.657 Q70.0429 448.657 73.0522 451.829 Q76.0846 454.977 76.0846 460.417 Q76.0846 465.741 72.9365 468.958 Q69.7883 472.176 64.5569 472.176 Q58.5615 472.176 55.3903 467.593 Q52.219 462.986 52.219 454.259 Q52.219 446.065 56.1078 441.204 Q59.9967 436.32 66.5476 436.32 Q68.3068 436.32 70.0892 436.667 Q71.8948 437.014 73.8392 437.708 Z\" fill=\"#000000\" fill-rule=\"evenodd\" fill-opacity=\"1\" /><path clip-path=\"url(#clip830)\" d=\"M 0 0 M81.154 465.625 L86.0382 465.625 L86.0382 471.505 L81.154 471.505 L81.154 465.625 Z\" fill=\"#000000\" fill-rule=\"evenodd\" fill-opacity=\"1\" /><path clip-path=\"url(#clip830)\" d=\"M 0 0 M91.9178 467.569 L99.5567 467.569 L99.5567 441.204 L91.2465 442.87 L91.2465 438.611 L99.5104 436.945 L104.186 436.945 L104.186 467.569 L111.825 467.569 L111.825 471.505 L91.9178 471.505 L91.9178 467.569 Z\" fill=\"#000000\" fill-rule=\"evenodd\" fill-opacity=\"1\" /><path clip-path=\"url(#clip830)\" d=\"M 0 0 M126.894 440.023 Q123.283 440.023 121.455 443.588 Q119.649 447.13 119.649 454.259 Q119.649 461.366 121.455 464.931 Q123.283 468.472 126.894 468.472 Q130.529 468.472 132.334 464.931 Q134.163 461.366 134.163 454.259 Q134.163 447.13 132.334 443.588 Q130.529 440.023 126.894 440.023 M126.894 436.32 Q132.705 436.32 135.76 440.926 Q138.839 445.509 138.839 454.259 Q138.839 462.986 135.76 467.593 Q132.705 472.176 126.894 472.176 Q121.084 472.176 118.006 467.593 Q114.95 462.986 114.95 454.259 Q114.95 445.509 118.006 440.926 Q121.084 436.32 126.894 436.32 Z\" fill=\"#000000\" fill-rule=\"evenodd\" fill-opacity=\"1\" /><path clip-path=\"url(#clip830)\" d=\"M 0 0 M172.079 446.042 L161.501 456.667 L172.079 467.245 L169.325 470.046 L158.7 459.421 L148.075 470.046 L145.343 467.245 L155.899 456.667 L145.343 446.042 L148.075 443.241 L158.7 453.866 L169.325 443.241 L172.079 446.042 Z\" fill=\"#000000\" fill-rule=\"evenodd\" fill-opacity=\"1\" /><path clip-path=\"url(#clip830)\" d=\"M 0 0 M177.959 467.569 L185.598 467.569 L185.598 441.204 L177.288 442.87 L177.288 438.611 L185.552 436.945 L190.227 436.945 L190.227 467.569 L197.866 467.569 L197.866 471.505 L177.959 471.505 L177.959 467.569 Z\" fill=\"#000000\" fill-rule=\"evenodd\" fill-opacity=\"1\" /><path clip-path=\"url(#clip830)\" d=\"M 0 0 M212.936 440.023 Q209.325 440.023 207.496 443.588 Q205.69 447.13 205.69 454.259 Q205.69 461.366 207.496 464.931 Q209.325 468.472 212.936 468.472 Q216.57 468.472 218.375 464.931 Q220.204 461.366 220.204 454.259 Q220.204 447.13 218.375 443.588 Q216.57 440.023 212.936 440.023 M212.936 436.32 Q218.746 436.32 221.801 440.926 Q224.88 445.509 224.88 454.259 Q224.88 462.986 221.801 467.593 Q218.746 472.176 212.936 472.176 Q207.126 472.176 204.047 467.593 Q200.991 462.986 200.991 454.259 Q200.991 445.509 204.047 440.926 Q207.126 436.32 212.936 436.32 Z\" fill=\"#000000\" fill-rule=\"evenodd\" fill-opacity=\"1\" /><path clip-path=\"url(#clip830)\" d=\"M 0 0 M224.88 430.421 L248.992 430.421 L248.992 433.618 L224.88 433.618 L224.88 430.421 Z\" fill=\"#000000\" fill-rule=\"evenodd\" fill-opacity=\"1\" /><path clip-path=\"url(#clip830)\" d=\"M 0 0 M252.151 416.014 L270.207 416.014 L270.207 417.632 L260.013 444.094 L256.045 444.094 L265.637 419.211 L252.151 419.211 L252.151 416.014 Z\" fill=\"#000000\" fill-rule=\"evenodd\" fill-opacity=\"1\" /><path clip-path=\"url(#clip830)\" d=\"M 0 0 M65.5522 360.763 Q62.4041 360.763 60.5523 362.916 Q58.7236 365.069 58.7236 368.818 Q58.7236 372.545 60.5523 374.721 Q62.4041 376.874 65.5522 376.874 Q68.7004 376.874 70.5291 374.721 Q72.3809 372.545 72.3809 368.818 Q72.3809 365.069 70.5291 362.916 Q68.7004 360.763 65.5522 360.763 M74.8346 346.11 L74.8346 350.37 Q73.0753 349.536 71.2698 349.096 Q69.4874 348.657 67.7281 348.657 Q63.0985 348.657 60.6449 351.782 Q58.2143 354.907 57.8671 361.226 Q59.2328 359.212 61.293 358.147 Q63.3532 357.059 65.83 357.059 Q71.0383 357.059 74.0476 360.231 Q77.0799 363.379 77.0799 368.818 Q77.0799 374.143 73.9318 377.36 Q70.7837 380.578 65.5522 380.578 Q59.5569 380.578 56.3856 375.994 Q53.2143 371.388 53.2143 362.661 Q53.2143 354.467 57.1032 349.606 Q60.9921 344.721 67.543 344.721 Q69.3022 344.721 71.0846 345.069 Q72.8902 345.416 74.8346 346.11 Z\" fill=\"#000000\" fill-rule=\"evenodd\" fill-opacity=\"1\" /><path clip-path=\"url(#clip830)\" d=\"M 0 0 M82.1494 374.027 L87.0336 374.027 L87.0336 379.906 L82.1494 379.906 L82.1494 374.027 Z\" fill=\"#000000\" fill-rule=\"evenodd\" fill-opacity=\"1\" /><path clip-path=\"url(#clip830)\" d=\"M 0 0 M92.9132 375.971 L100.552 375.971 L100.552 349.606 L92.2419 351.272 L92.2419 347.013 L100.506 345.346 L105.182 345.346 L105.182 375.971 L112.82 375.971 L112.82 379.906 L92.9132 379.906 L92.9132 375.971 Z\" fill=\"#000000\" fill-rule=\"evenodd\" fill-opacity=\"1\" /><path clip-path=\"url(#clip830)\" d=\"M 0 0 M117.936 345.346 L136.293 345.346 L136.293 349.282 L122.219 349.282 L122.219 357.754 Q123.237 357.407 124.256 357.244 Q125.274 357.059 126.293 357.059 Q132.08 357.059 135.459 360.231 Q138.839 363.402 138.839 368.818 Q138.839 374.397 135.367 377.499 Q131.894 380.578 125.575 380.578 Q123.399 380.578 121.131 380.207 Q118.885 379.837 116.478 379.096 L116.478 374.397 Q118.561 375.531 120.783 376.087 Q123.006 376.643 125.482 376.643 Q129.487 376.643 131.825 374.536 Q134.163 372.43 134.163 368.818 Q134.163 365.207 131.825 363.101 Q129.487 360.994 125.482 360.994 Q123.607 360.994 121.732 361.411 Q119.881 361.828 117.936 362.707 L117.936 345.346 Z\" fill=\"#000000\" fill-rule=\"evenodd\" fill-opacity=\"1\" /><path clip-path=\"url(#clip830)\" d=\"M 0 0 M172.079 354.444 L161.501 365.069 L172.079 375.647 L169.325 378.448 L158.7 367.823 L148.075 378.448 L145.343 375.647 L155.899 365.069 L145.343 354.444 L148.075 351.643 L158.7 362.268 L169.325 351.643 L172.079 354.444 Z\" fill=\"#000000\" fill-rule=\"evenodd\" fill-opacity=\"1\" /><path clip-path=\"url(#clip830)\" d=\"M 0 0 M177.959 375.971 L185.598 375.971 L185.598 349.606 L177.288 351.272 L177.288 347.013 L185.552 345.346 L190.227 345.346 L190.227 375.971 L197.866 375.971 L197.866 379.906 L177.959 379.906 L177.959 375.971 Z\" fill=\"#000000\" fill-rule=\"evenodd\" fill-opacity=\"1\" /><path clip-path=\"url(#clip830)\" d=\"M 0 0 M212.936 348.425 Q209.325 348.425 207.496 351.99 Q205.69 355.532 205.69 362.661 Q205.69 369.768 207.496 373.332 Q209.325 376.874 212.936 376.874 Q216.57 376.874 218.375 373.332 Q220.204 369.768 220.204 362.661 Q220.204 355.532 218.375 351.99 Q216.57 348.425 212.936 348.425 M212.936 344.721 Q218.746 344.721 221.801 349.328 Q224.88 353.911 224.88 362.661 Q224.88 371.388 221.801 375.994 Q218.746 380.578 212.936 380.578 Q207.126 380.578 204.047 375.994 Q200.991 371.388 200.991 362.661 Q200.991 353.911 204.047 349.328 Q207.126 344.721 212.936 344.721 Z\" fill=\"#000000\" fill-rule=\"evenodd\" fill-opacity=\"1\" /><path clip-path=\"url(#clip830)\" d=\"M 0 0 M224.88 338.823 L248.992 338.823 L248.992 342.02 L224.88 342.02 L224.88 338.823 Z\" fill=\"#000000\" fill-rule=\"evenodd\" fill-opacity=\"1\" /><path clip-path=\"url(#clip830)\" d=\"M 0 0 M252.151 324.416 L270.207 324.416 L270.207 326.033 L260.013 352.496 L256.045 352.496 L265.637 327.613 L252.151 327.613 L252.151 324.416 Z\" fill=\"#000000\" fill-rule=\"evenodd\" fill-opacity=\"1\" /><path clip-path=\"url(#clip830)\" d=\"M 0 0 M64.9272 269.165 Q61.7791 269.165 59.9273 271.318 Q58.0986 273.47 58.0986 277.22 Q58.0986 280.947 59.9273 283.123 Q61.7791 285.276 64.9272 285.276 Q68.0754 285.276 69.9041 283.123 Q71.7559 280.947 71.7559 277.22 Q71.7559 273.47 69.9041 271.318 Q68.0754 269.165 64.9272 269.165 M74.2096 254.512 L74.2096 258.771 Q72.4503 257.938 70.6448 257.498 Q68.8624 257.058 67.1032 257.058 Q62.4735 257.058 60.0199 260.183 Q57.5893 263.308 57.2421 269.628 Q58.6078 267.614 60.668 266.549 Q62.7282 265.461 65.205 265.461 Q70.4133 265.461 73.4226 268.632 Q76.455 271.781 76.455 277.22 Q76.455 282.544 73.3068 285.762 Q70.1587 288.979 64.9272 288.979 Q58.9319 288.979 55.7606 284.396 Q52.5893 279.79 52.5893 271.063 Q52.5893 262.869 56.4782 258.007 Q60.3671 253.123 66.918 253.123 Q68.6772 253.123 70.4596 253.47 Q72.2652 253.818 74.2096 254.512 Z\" fill=\"#000000\" fill-rule=\"evenodd\" fill-opacity=\"1\" /><path clip-path=\"url(#clip830)\" d=\"M 0 0 M81.5244 282.429 L86.4086 282.429 L86.4086 288.308 L81.5244 288.308 L81.5244 282.429 Z\" fill=\"#000000\" fill-rule=\"evenodd\" fill-opacity=\"1\" /><path clip-path=\"url(#clip830)\" d=\"M 0 0 M95.5058 284.373 L111.825 284.373 L111.825 288.308 L89.8808 288.308 L89.8808 284.373 Q92.5428 281.618 97.1261 276.989 Q101.733 272.336 102.913 270.993 Q105.159 268.47 106.038 266.734 Q106.941 264.975 106.941 263.285 Q106.941 260.531 104.996 258.794 Q103.075 257.058 99.9733 257.058 Q97.7743 257.058 95.3206 257.822 Q92.89 258.586 90.1123 260.137 L90.1123 255.415 Q92.9363 254.281 95.39 253.702 Q97.8437 253.123 99.8808 253.123 Q105.251 253.123 108.446 255.808 Q111.64 258.494 111.64 262.984 Q111.64 265.114 110.83 267.035 Q110.043 268.933 107.936 271.526 Q107.358 272.197 104.256 275.415 Q101.154 278.609 95.5058 284.373 Z\" fill=\"#000000\" fill-rule=\"evenodd\" fill-opacity=\"1\" /><path clip-path=\"url(#clip830)\" d=\"M 0 0 M126.894 256.827 Q123.283 256.827 121.455 260.392 Q119.649 263.933 119.649 271.063 Q119.649 278.169 121.455 281.734 Q123.283 285.276 126.894 285.276 Q130.529 285.276 132.334 281.734 Q134.163 278.169 134.163 271.063 Q134.163 263.933 132.334 260.392 Q130.529 256.827 126.894 256.827 M126.894 253.123 Q132.705 253.123 135.76 257.73 Q138.839 262.313 138.839 271.063 Q138.839 279.79 135.76 284.396 Q132.705 288.979 126.894 288.979 Q121.084 288.979 118.006 284.396 Q114.95 279.79 114.95 271.063 Q114.95 262.313 118.006 257.73 Q121.084 253.123 126.894 253.123 Z\" fill=\"#000000\" fill-rule=\"evenodd\" fill-opacity=\"1\" /><path clip-path=\"url(#clip830)\" d=\"M 0 0 M172.079 262.845 L161.501 273.47 L172.079 284.049 L169.325 286.85 L158.7 276.225 L148.075 286.85 L145.343 284.049 L155.899 273.47 L145.343 262.845 L148.075 260.044 L158.7 270.669 L169.325 260.044 L172.079 262.845 Z\" fill=\"#000000\" fill-rule=\"evenodd\" fill-opacity=\"1\" /><path clip-path=\"url(#clip830)\" d=\"M 0 0 M177.959 284.373 L185.598 284.373 L185.598 258.007 L177.288 259.674 L177.288 255.415 L185.552 253.748 L190.227 253.748 L190.227 284.373 L197.866 284.373 L197.866 288.308 L177.959 288.308 L177.959 284.373 Z\" fill=\"#000000\" fill-rule=\"evenodd\" fill-opacity=\"1\" /><path clip-path=\"url(#clip830)\" d=\"M 0 0 M212.936 256.827 Q209.325 256.827 207.496 260.392 Q205.69 263.933 205.69 271.063 Q205.69 278.169 207.496 281.734 Q209.325 285.276 212.936 285.276 Q216.57 285.276 218.375 281.734 Q220.204 278.169 220.204 271.063 Q220.204 263.933 218.375 260.392 Q216.57 256.827 212.936 256.827 M212.936 253.123 Q218.746 253.123 221.801 257.73 Q224.88 262.313 224.88 271.063 Q224.88 279.79 221.801 284.396 Q218.746 288.979 212.936 288.979 Q207.126 288.979 204.047 284.396 Q200.991 279.79 200.991 271.063 Q200.991 262.313 204.047 257.73 Q207.126 253.123 212.936 253.123 Z\" fill=\"#000000\" fill-rule=\"evenodd\" fill-opacity=\"1\" /><path clip-path=\"url(#clip830)\" d=\"M 0 0 M224.88 247.225 L248.992 247.225 L248.992 250.422 L224.88 250.422 L224.88 247.225 Z\" fill=\"#000000\" fill-rule=\"evenodd\" fill-opacity=\"1\" /><path clip-path=\"url(#clip830)\" d=\"M 0 0 M252.151 232.818 L270.207 232.818 L270.207 234.435 L260.013 260.898 L256.045 260.898 L265.637 236.015 L252.151 236.015 L252.151 232.818 Z\" fill=\"#000000\" fill-rule=\"evenodd\" fill-opacity=\"1\" /><path clip-path=\"url(#clip830)\" d=\"M 0 0 M65.9226 177.567 Q62.7745 177.567 60.9226 179.719 Q59.0939 181.872 59.0939 185.622 Q59.0939 189.349 60.9226 191.525 Q62.7745 193.678 65.9226 193.678 Q69.0707 193.678 70.8994 191.525 Q72.7513 189.349 72.7513 185.622 Q72.7513 181.872 70.8994 179.719 Q69.0707 177.567 65.9226 177.567 M75.205 162.914 L75.205 167.173 Q73.4457 166.34 71.6402 165.9 Q69.8578 165.46 68.0985 165.46 Q63.4689 165.46 61.0152 168.585 Q58.5847 171.71 58.2375 178.03 Q59.6032 176.016 61.6634 174.951 Q63.7235 173.863 66.2004 173.863 Q71.4087 173.863 74.4179 177.034 Q77.4503 180.182 77.4503 185.622 Q77.4503 190.946 74.3022 194.164 Q71.1541 197.381 65.9226 197.381 Q59.9273 197.381 56.756 192.798 Q53.5847 188.192 53.5847 179.465 Q53.5847 171.27 57.4736 166.409 Q61.3624 161.525 67.9133 161.525 Q69.6726 161.525 71.455 161.872 Q73.2605 162.219 75.205 162.914 Z\" fill=\"#000000\" fill-rule=\"evenodd\" fill-opacity=\"1\" /><path clip-path=\"url(#clip830)\" d=\"M 0 0 M82.5197 190.83 L87.404 190.83 L87.404 196.71 L82.5197 196.71 L82.5197 190.83 Z\" fill=\"#000000\" fill-rule=\"evenodd\" fill-opacity=\"1\" /><path clip-path=\"url(#clip830)\" d=\"M 0 0 M96.5011 192.775 L112.82 192.775 L112.82 196.71 L90.8762 196.71 L90.8762 192.775 Q93.5382 190.02 98.1215 185.391 Q102.728 180.738 103.909 179.395 Q106.154 176.872 107.033 175.136 Q107.936 173.377 107.936 171.687 Q107.936 168.932 105.992 167.196 Q104.071 165.46 100.969 165.46 Q98.7696 165.46 96.316 166.224 Q93.8854 166.988 91.1077 168.539 L91.1077 163.817 Q93.9317 162.682 96.3854 162.104 Q98.8391 161.525 100.876 161.525 Q106.246 161.525 109.441 164.21 Q112.635 166.895 112.635 171.386 Q112.635 173.516 111.825 175.437 Q111.038 177.335 108.932 179.928 Q108.353 180.599 105.251 183.817 Q102.149 187.011 96.5011 192.775 Z\" fill=\"#000000\" fill-rule=\"evenodd\" fill-opacity=\"1\" /><path clip-path=\"url(#clip830)\" d=\"M 0 0 M117.936 162.15 L136.293 162.15 L136.293 166.085 L122.219 166.085 L122.219 174.557 Q123.237 174.21 124.256 174.048 Q125.274 173.863 126.293 173.863 Q132.08 173.863 135.459 177.034 Q138.839 180.205 138.839 185.622 Q138.839 191.201 135.367 194.303 Q131.894 197.381 125.575 197.381 Q123.399 197.381 121.131 197.011 Q118.885 196.641 116.478 195.9 L116.478 191.201 Q118.561 192.335 120.783 192.891 Q123.006 193.446 125.482 193.446 Q129.487 193.446 131.825 191.34 Q134.163 189.233 134.163 185.622 Q134.163 182.011 131.825 179.905 Q129.487 177.798 125.482 177.798 Q123.607 177.798 121.732 178.215 Q119.881 178.631 117.936 179.511 L117.936 162.15 Z\" fill=\"#000000\" fill-rule=\"evenodd\" fill-opacity=\"1\" /><path clip-path=\"url(#clip830)\" d=\"M 0 0 M172.079 171.247 L161.501 181.872 L172.079 192.451 L169.325 195.252 L158.7 184.627 L148.075 195.252 L145.343 192.451 L155.899 181.872 L145.343 171.247 L148.075 168.446 L158.7 179.071 L169.325 168.446 L172.079 171.247 Z\" fill=\"#000000\" fill-rule=\"evenodd\" fill-opacity=\"1\" /><path clip-path=\"url(#clip830)\" d=\"M 0 0 M177.959 192.775 L185.598 192.775 L185.598 166.409 L177.288 168.076 L177.288 163.817 L185.552 162.15 L190.227 162.15 L190.227 192.775 L197.866 192.775 L197.866 196.71 L177.959 196.71 L177.959 192.775 Z\" fill=\"#000000\" fill-rule=\"evenodd\" fill-opacity=\"1\" /><path clip-path=\"url(#clip830)\" d=\"M 0 0 M212.936 165.229 Q209.325 165.229 207.496 168.794 Q205.69 172.335 205.69 179.465 Q205.69 186.571 207.496 190.136 Q209.325 193.678 212.936 193.678 Q216.57 193.678 218.375 190.136 Q220.204 186.571 220.204 179.465 Q220.204 172.335 218.375 168.794 Q216.57 165.229 212.936 165.229 M212.936 161.525 Q218.746 161.525 221.801 166.131 Q224.88 170.715 224.88 179.465 Q224.88 188.192 221.801 192.798 Q218.746 197.381 212.936 197.381 Q207.126 197.381 204.047 192.798 Q200.991 188.192 200.991 179.465 Q200.991 170.715 204.047 166.131 Q207.126 161.525 212.936 161.525 Z\" fill=\"#000000\" fill-rule=\"evenodd\" fill-opacity=\"1\" /><path clip-path=\"url(#clip830)\" d=\"M 0 0 M224.88 155.626 L248.992 155.626 L248.992 158.824 L224.88 158.824 L224.88 155.626 Z\" fill=\"#000000\" fill-rule=\"evenodd\" fill-opacity=\"1\" /><path clip-path=\"url(#clip830)\" d=\"M 0 0 M252.151 141.22 L270.207 141.22 L270.207 142.837 L260.013 169.3 L256.045 169.3 L265.637 144.417 L252.151 144.417 L252.151 141.22 Z\" fill=\"#000000\" fill-rule=\"evenodd\" fill-opacity=\"1\" /><path clip-path=\"url(#clip830)\" d=\"M 0 0 M673.654 49.7694 Q664.621 49.7694 661.137 51.8354 Q657.653 53.9013 657.653 58.8839 Q657.653 62.8538 660.246 65.2034 Q662.879 67.5124 667.375 67.5124 Q673.573 67.5124 677.3 63.1374 Q681.067 58.7219 681.067 51.4303 L681.067 49.7694 L673.654 49.7694 M688.521 46.6907 L688.521 72.576 L681.067 72.576 L681.067 65.6895 Q678.515 69.8214 674.707 71.8063 Q670.899 73.7508 665.39 73.7508 Q658.423 73.7508 654.291 69.8619 Q650.199 65.9325 650.199 59.3701 Q650.199 51.7138 655.304 47.825 Q660.448 43.9361 670.616 43.9361 L681.067 43.9361 L681.067 43.2069 Q681.067 38.0623 677.665 35.2672 Q674.302 32.4315 668.185 32.4315 Q664.297 32.4315 660.61 33.3632 Q656.924 34.295 653.521 36.1584 L653.521 29.2718 Q657.613 27.692 661.461 26.9223 Q665.309 26.1121 668.955 26.1121 Q678.799 26.1121 683.66 31.2163 Q688.521 36.3204 688.521 46.6907 Z\" fill=\"#000000\" fill-rule=\"evenodd\" fill-opacity=\"1\" /><path clip-path=\"url(#clip830)\" d=\"M 0 0 M696.339 9.54393 L703.793 9.54393 L703.793 72.576 L696.339 72.576 L696.339 9.54393 Z\" fill=\"#000000\" fill-rule=\"evenodd\" fill-opacity=\"1\" /><path clip-path=\"url(#clip830)\" d=\"M 0 0 M718.822 65.7705 L718.822 89.8329 L711.328 89.8329 L711.328 27.2059 L718.822 27.2059 L718.822 34.0924 Q721.171 30.0415 724.736 28.0971 Q728.341 26.1121 733.324 26.1121 Q741.588 26.1121 746.732 32.6746 Q751.918 39.2371 751.918 49.9314 Q751.918 60.6258 746.732 67.1883 Q741.588 73.7508 733.324 73.7508 Q728.341 73.7508 724.736 71.8063 Q721.171 69.8214 718.822 65.7705 M744.18 49.9314 Q744.18 41.7081 740.778 37.0496 Q737.415 32.3505 731.501 32.3505 Q725.587 32.3505 722.184 37.0496 Q718.822 41.7081 718.822 49.9314 Q718.822 58.1548 722.184 62.8538 Q725.587 67.5124 731.501 67.5124 Q737.415 67.5124 740.778 62.8538 Q744.18 58.1548 744.18 49.9314 Z\" fill=\"#000000\" fill-rule=\"evenodd\" fill-opacity=\"1\" /><path clip-path=\"url(#clip830)\" d=\"M 0 0 M797.45 45.1919 L797.45 72.576 L789.996 72.576 L789.996 45.4349 Q789.996 38.994 787.485 35.7938 Q784.973 32.5936 779.95 32.5936 Q773.914 32.5936 770.43 36.4419 Q766.946 40.2903 766.946 46.9338 L766.946 72.576 L759.452 72.576 L759.452 9.54393 L766.946 9.54393 L766.946 34.2544 Q769.62 30.163 773.225 28.1376 Q776.871 26.1121 781.611 26.1121 Q789.429 26.1121 793.439 30.9732 Q797.45 35.7938 797.45 45.1919 Z\" fill=\"#000000\" fill-rule=\"evenodd\" fill-opacity=\"1\" /><path clip-path=\"url(#clip830)\" d=\"M 0 0 M825.887 49.7694 Q816.854 49.7694 813.37 51.8354 Q809.886 53.9013 809.886 58.8839 Q809.886 62.8538 812.479 65.2034 Q815.112 67.5124 819.608 67.5124 Q825.806 67.5124 829.533 63.1374 Q833.3 58.7219 833.3 51.4303 L833.3 49.7694 L825.887 49.7694 M840.754 46.6907 L840.754 72.576 L833.3 72.576 L833.3 65.6895 Q830.748 69.8214 826.94 71.8063 Q823.132 73.7508 817.623 73.7508 Q810.656 73.7508 806.524 69.8619 Q802.432 65.9325 802.432 59.3701 Q802.432 51.7138 807.536 47.825 Q812.681 43.9361 822.849 43.9361 L833.3 43.9361 L833.3 43.2069 Q833.3 38.0623 829.897 35.2672 Q826.535 32.4315 820.418 32.4315 Q816.53 32.4315 812.843 33.3632 Q809.157 34.295 805.754 36.1584 L805.754 29.2718 Q809.846 27.692 813.694 26.9223 Q817.542 26.1121 821.188 26.1121 Q831.032 26.1121 835.893 31.2163 Q840.754 36.3204 840.754 46.6907 Z\" fill=\"#000000\" fill-rule=\"evenodd\" fill-opacity=\"1\" /><polyline clip-path=\"url(#clip832)\" style=\"stroke:#009af9; stroke-width:4; stroke-opacity:1; fill:none\" points=\"\n",
       "  331.071,139.485 538.274,537.752 745.477,670.515 952.679,537.742 1159.88,139.405 \n",
       "  \"/>\n",
       "<polyline clip-path=\"url(#clip832)\" style=\"stroke:#e26f46; stroke-width:4; stroke-opacity:1; fill:none\" points=\"\n",
       "  745.477,1249.42 745.477,-439.504 \n",
       "  \"/>\n",
       "<path clip-path=\"url(#clip830)\" d=\"\n",
       "M1474.22 686.448 L2352.76 686.448 L2352.76 123.472 L1474.22 123.472  Z\n",
       "  \" fill=\"#ffffff\" fill-rule=\"evenodd\" fill-opacity=\"1\"/>\n",
       "<defs>\n",
       "  <clipPath id=\"clip833\">\n",
       "    <rect x=\"1474\" y=\"123\" width=\"880\" height=\"564\"/>\n",
       "  </clipPath>\n",
       "</defs>\n",
       "<polyline clip-path=\"url(#clip833)\" style=\"stroke:#000000; stroke-width:2; stroke-opacity:0.1; fill:none\" points=\"\n",
       "  1546.99,686.448 1546.99,123.472 \n",
       "  \"/>\n",
       "<polyline clip-path=\"url(#clip833)\" style=\"stroke:#000000; stroke-width:2; stroke-opacity:0.1; fill:none\" points=\"\n",
       "  1721.69,686.448 1721.69,123.472 \n",
       "  \"/>\n",
       "<polyline clip-path=\"url(#clip833)\" style=\"stroke:#000000; stroke-width:2; stroke-opacity:0.1; fill:none\" points=\"\n",
       "  1896.39,686.448 1896.39,123.472 \n",
       "  \"/>\n",
       "<polyline clip-path=\"url(#clip833)\" style=\"stroke:#000000; stroke-width:2; stroke-opacity:0.1; fill:none\" points=\"\n",
       "  2071.09,686.448 2071.09,123.472 \n",
       "  \"/>\n",
       "<polyline clip-path=\"url(#clip833)\" style=\"stroke:#000000; stroke-width:2; stroke-opacity:0.1; fill:none\" points=\"\n",
       "  2245.79,686.448 2245.79,123.472 \n",
       "  \"/>\n",
       "<polyline clip-path=\"url(#clip830)\" style=\"stroke:#000000; stroke-width:4; stroke-opacity:1; fill:none\" points=\"\n",
       "  1474.22,686.448 2352.76,686.448 \n",
       "  \"/>\n",
       "<polyline clip-path=\"url(#clip830)\" style=\"stroke:#000000; stroke-width:4; stroke-opacity:1; fill:none\" points=\"\n",
       "  1546.99,686.448 1546.99,679.692 \n",
       "  \"/>\n",
       "<polyline clip-path=\"url(#clip830)\" style=\"stroke:#000000; stroke-width:4; stroke-opacity:1; fill:none\" points=\"\n",
       "  1721.69,686.448 1721.69,679.692 \n",
       "  \"/>\n",
       "<polyline clip-path=\"url(#clip830)\" style=\"stroke:#000000; stroke-width:4; stroke-opacity:1; fill:none\" points=\"\n",
       "  1896.39,686.448 1896.39,679.692 \n",
       "  \"/>\n",
       "<polyline clip-path=\"url(#clip830)\" style=\"stroke:#000000; stroke-width:4; stroke-opacity:1; fill:none\" points=\"\n",
       "  2071.09,686.448 2071.09,679.692 \n",
       "  \"/>\n",
       "<polyline clip-path=\"url(#clip830)\" style=\"stroke:#000000; stroke-width:4; stroke-opacity:1; fill:none\" points=\"\n",
       "  2245.79,686.448 2245.79,679.692 \n",
       "  \"/>\n",
       "<path clip-path=\"url(#clip830)\" d=\"M 0 0 M1476.37 715.639 Q1472.76 715.639 1470.93 719.203 Q1469.12 722.745 1469.12 729.875 Q1469.12 736.981 1470.93 740.546 Q1472.76 744.087 1476.37 744.087 Q1480 744.087 1481.81 740.546 Q1483.64 736.981 1483.64 729.875 Q1483.64 722.745 1481.81 719.203 Q1480 715.639 1476.37 715.639 M1476.37 711.935 Q1482.18 711.935 1485.23 716.541 Q1488.31 721.125 1488.31 729.875 Q1488.31 738.601 1485.23 743.208 Q1482.18 747.791 1476.37 747.791 Q1470.56 747.791 1467.48 743.208 Q1464.42 738.601 1464.42 729.875 Q1464.42 721.125 1467.48 716.541 Q1470.56 711.935 1476.37 711.935 Z\" fill=\"#000000\" fill-rule=\"evenodd\" fill-opacity=\"1\" /><path clip-path=\"url(#clip830)\" d=\"M 0 0 M1493.38 741.24 L1498.27 741.24 L1498.27 747.12 L1493.38 747.12 L1493.38 741.24 Z\" fill=\"#000000\" fill-rule=\"evenodd\" fill-opacity=\"1\" /><path clip-path=\"url(#clip830)\" d=\"M 0 0 M1503.38 712.56 L1521.74 712.56 L1521.74 716.495 L1507.66 716.495 L1507.66 724.967 Q1508.68 724.62 1509.7 724.458 Q1510.72 724.273 1511.74 724.273 Q1517.53 724.273 1520.91 727.444 Q1524.29 730.615 1524.29 736.032 Q1524.29 741.611 1520.81 744.712 Q1517.34 747.791 1511.02 747.791 Q1508.85 747.791 1506.58 747.421 Q1504.33 747.05 1501.92 746.31 L1501.92 741.611 Q1504.01 742.745 1506.23 743.3 Q1508.45 743.856 1510.93 743.856 Q1514.93 743.856 1517.27 741.75 Q1519.61 739.643 1519.61 736.032 Q1519.61 732.421 1517.27 730.314 Q1514.93 728.208 1510.93 728.208 Q1509.05 728.208 1507.18 728.625 Q1505.33 729.041 1503.38 729.921 L1503.38 712.56 Z\" fill=\"#000000\" fill-rule=\"evenodd\" fill-opacity=\"1\" /><path clip-path=\"url(#clip830)\" d=\"M 0 0 M1529.49 746.402 L1529.49 742.143 Q1531.25 742.976 1533.06 743.416 Q1534.86 743.856 1536.6 743.856 Q1541.23 743.856 1543.66 740.754 Q1546.11 737.629 1546.46 731.287 Q1545.12 733.277 1543.06 734.342 Q1541 735.407 1538.5 735.407 Q1533.31 735.407 1530.28 732.282 Q1527.27 729.134 1527.27 723.694 Q1527.27 718.37 1530.42 715.152 Q1533.57 711.935 1538.8 711.935 Q1544.79 711.935 1547.94 716.541 Q1551.11 721.125 1551.11 729.875 Q1551.11 738.046 1547.22 742.93 Q1543.36 747.791 1536.81 747.791 Q1535.05 747.791 1533.24 747.444 Q1531.44 747.097 1529.49 746.402 M1538.8 731.75 Q1541.95 731.75 1543.78 729.597 Q1545.63 727.444 1545.63 723.694 Q1545.63 719.967 1543.78 717.814 Q1541.95 715.639 1538.8 715.639 Q1535.65 715.639 1533.8 717.814 Q1531.97 719.967 1531.97 723.694 Q1531.97 727.444 1533.8 729.597 Q1535.65 731.75 1538.8 731.75 Z\" fill=\"#000000\" fill-rule=\"evenodd\" fill-opacity=\"1\" /><path clip-path=\"url(#clip830)\" d=\"M 0 0 M1560.21 743.185 L1576.53 743.185 L1576.53 747.12 L1554.59 747.12 L1554.59 743.185 Q1557.25 740.43 1561.83 735.8 Q1566.44 731.148 1567.62 729.805 Q1569.86 727.282 1570.74 725.546 Q1571.65 723.787 1571.65 722.097 Q1571.65 719.342 1569.7 717.606 Q1567.78 715.87 1564.68 715.87 Q1562.48 715.87 1560.03 716.634 Q1557.6 717.398 1554.82 718.949 L1554.82 714.227 Q1557.64 713.092 1560.1 712.514 Q1562.55 711.935 1564.59 711.935 Q1569.96 711.935 1573.15 714.62 Q1576.35 717.305 1576.35 721.796 Q1576.35 723.926 1575.53 725.847 Q1574.75 727.745 1572.64 730.338 Q1572.06 731.009 1568.96 734.226 Q1565.86 737.421 1560.21 743.185 Z\" fill=\"#000000\" fill-rule=\"evenodd\" fill-opacity=\"1\" /><path clip-path=\"url(#clip830)\" d=\"M 0 0 M1581.65 712.56 L1600 712.56 L1600 716.495 L1585.93 716.495 L1585.93 724.967 Q1586.95 724.62 1587.97 724.458 Q1588.98 724.273 1590 724.273 Q1595.79 724.273 1599.17 727.444 Q1602.55 730.615 1602.55 736.032 Q1602.55 741.611 1599.08 744.712 Q1595.6 747.791 1589.28 747.791 Q1587.11 747.791 1584.84 747.421 Q1582.6 747.05 1580.19 746.31 L1580.19 741.611 Q1582.27 742.745 1584.49 743.3 Q1586.72 743.856 1589.19 743.856 Q1593.2 743.856 1595.53 741.75 Q1597.87 739.643 1597.87 736.032 Q1597.87 732.421 1595.53 730.314 Q1593.2 728.208 1589.19 728.208 Q1587.32 728.208 1585.44 728.625 Q1583.59 729.041 1581.65 729.921 L1581.65 712.56 Z\" fill=\"#000000\" fill-rule=\"evenodd\" fill-opacity=\"1\" /><path clip-path=\"url(#clip830)\" d=\"M 0 0 M1617.62 715.639 Q1614.01 715.639 1612.18 719.203 Q1610.37 722.745 1610.37 729.875 Q1610.37 736.981 1612.18 740.546 Q1614.01 744.087 1617.62 744.087 Q1621.25 744.087 1623.06 740.546 Q1624.89 736.981 1624.89 729.875 Q1624.89 722.745 1623.06 719.203 Q1621.25 715.639 1617.62 715.639 M1617.62 711.935 Q1623.43 711.935 1626.48 716.541 Q1629.56 721.125 1629.56 729.875 Q1629.56 738.601 1626.48 743.208 Q1623.43 747.791 1617.62 747.791 Q1611.81 747.791 1608.73 743.208 Q1605.67 738.601 1605.67 729.875 Q1605.67 721.125 1608.73 716.541 Q1611.81 711.935 1617.62 711.935 Z\" fill=\"#000000\" fill-rule=\"evenodd\" fill-opacity=\"1\" /><path clip-path=\"url(#clip830)\" d=\"M 0 0 M1651.52 715.639 Q1647.91 715.639 1646.08 719.203 Q1644.27 722.745 1644.27 729.875 Q1644.27 736.981 1646.08 740.546 Q1647.91 744.087 1651.52 744.087 Q1655.15 744.087 1656.96 740.546 Q1658.79 736.981 1658.79 729.875 Q1658.79 722.745 1656.96 719.203 Q1655.15 715.639 1651.52 715.639 M1651.52 711.935 Q1657.33 711.935 1660.39 716.541 Q1663.46 721.125 1663.46 729.875 Q1663.46 738.601 1660.39 743.208 Q1657.33 747.791 1651.52 747.791 Q1645.71 747.791 1642.63 743.208 Q1639.58 738.601 1639.58 729.875 Q1639.58 721.125 1642.63 716.541 Q1645.71 711.935 1651.52 711.935 Z\" fill=\"#000000\" fill-rule=\"evenodd\" fill-opacity=\"1\" /><path clip-path=\"url(#clip830)\" d=\"M 0 0 M1668.53 741.24 L1673.42 741.24 L1673.42 747.12 L1668.53 747.12 L1668.53 741.24 Z\" fill=\"#000000\" fill-rule=\"evenodd\" fill-opacity=\"1\" /><path clip-path=\"url(#clip830)\" d=\"M 0 0 M1678.53 712.56 L1696.89 712.56 L1696.89 716.495 L1682.82 716.495 L1682.82 724.967 Q1683.83 724.62 1684.85 724.458 Q1685.87 724.273 1686.89 724.273 Q1692.68 724.273 1696.06 727.444 Q1699.44 730.615 1699.44 736.032 Q1699.44 741.611 1695.96 744.712 Q1692.49 747.791 1686.17 747.791 Q1684 747.791 1681.73 747.421 Q1679.48 747.05 1677.08 746.31 L1677.08 741.611 Q1679.16 742.745 1681.38 743.3 Q1683.6 743.856 1686.08 743.856 Q1690.08 743.856 1692.42 741.75 Q1694.76 739.643 1694.76 736.032 Q1694.76 732.421 1692.42 730.314 Q1690.08 728.208 1686.08 728.208 Q1684.21 728.208 1682.33 728.625 Q1680.48 729.041 1678.53 729.921 L1678.53 712.56 Z\" fill=\"#000000\" fill-rule=\"evenodd\" fill-opacity=\"1\" /><path clip-path=\"url(#clip830)\" d=\"M 0 0 M1704.64 746.402 L1704.64 742.143 Q1706.4 742.976 1708.21 743.416 Q1710.02 743.856 1711.75 743.856 Q1716.38 743.856 1718.81 740.754 Q1721.27 737.629 1721.61 731.287 Q1720.27 733.277 1718.21 734.342 Q1716.15 735.407 1713.65 735.407 Q1708.46 735.407 1705.43 732.282 Q1702.42 729.134 1702.42 723.694 Q1702.42 718.37 1705.57 715.152 Q1708.72 711.935 1713.95 711.935 Q1719.95 711.935 1723.09 716.541 Q1726.27 721.125 1726.27 729.875 Q1726.27 738.046 1722.38 742.93 Q1718.51 747.791 1711.96 747.791 Q1710.2 747.791 1708.39 747.444 Q1706.59 747.097 1704.64 746.402 M1713.95 731.75 Q1717.1 731.75 1718.93 729.597 Q1720.78 727.444 1720.78 723.694 Q1720.78 719.967 1718.93 717.814 Q1717.1 715.639 1713.95 715.639 Q1710.8 715.639 1708.95 717.814 Q1707.12 719.967 1707.12 723.694 Q1707.12 727.444 1708.95 729.597 Q1710.8 731.75 1713.95 731.75 Z\" fill=\"#000000\" fill-rule=\"evenodd\" fill-opacity=\"1\" /><path clip-path=\"url(#clip830)\" d=\"M 0 0 M1735.36 743.185 L1751.68 743.185 L1751.68 747.12 L1729.74 747.12 L1729.74 743.185 Q1732.4 740.43 1736.98 735.8 Q1741.59 731.148 1742.77 729.805 Q1745.02 727.282 1745.89 725.546 Q1746.8 723.787 1746.8 722.097 Q1746.8 719.342 1744.85 717.606 Q1742.93 715.87 1739.83 715.87 Q1737.63 715.87 1735.18 716.634 Q1732.75 717.398 1729.97 718.949 L1729.97 714.227 Q1732.79 713.092 1735.25 712.514 Q1737.7 711.935 1739.74 711.935 Q1745.11 711.935 1748.3 714.62 Q1751.5 717.305 1751.5 721.796 Q1751.5 723.926 1750.69 725.847 Q1749.9 727.745 1747.79 730.338 Q1747.21 731.009 1744.11 734.226 Q1741.01 737.421 1735.36 743.185 Z\" fill=\"#000000\" fill-rule=\"evenodd\" fill-opacity=\"1\" /><path clip-path=\"url(#clip830)\" d=\"M 0 0 M1755.57 712.56 L1777.79 712.56 L1777.79 714.551 L1765.25 747.12 L1760.36 747.12 L1772.17 716.495 L1755.57 716.495 L1755.57 712.56 Z\" fill=\"#000000\" fill-rule=\"evenodd\" fill-opacity=\"1\" /><path clip-path=\"url(#clip830)\" d=\"M 0 0 M1782.91 712.56 L1801.26 712.56 L1801.26 716.495 L1787.19 716.495 L1787.19 724.967 Q1788.21 724.62 1789.23 724.458 Q1790.25 724.273 1791.26 724.273 Q1797.05 724.273 1800.43 727.444 Q1803.81 730.615 1803.81 736.032 Q1803.81 741.611 1800.34 744.712 Q1796.87 747.791 1790.55 747.791 Q1788.37 747.791 1786.1 747.421 Q1783.86 747.05 1781.45 746.31 L1781.45 741.611 Q1783.53 742.745 1785.76 743.3 Q1787.98 743.856 1790.45 743.856 Q1794.46 743.856 1796.8 741.75 Q1799.14 739.643 1799.14 736.032 Q1799.14 732.421 1796.8 730.314 Q1794.46 728.208 1790.45 728.208 Q1788.58 728.208 1786.7 728.625 Q1784.85 729.041 1782.91 729.921 L1782.91 712.56 Z\" fill=\"#000000\" fill-rule=\"evenodd\" fill-opacity=\"1\" /><path clip-path=\"url(#clip830)\" d=\"M 0 0 M1824.8 715.639 Q1821.19 715.639 1819.36 719.203 Q1817.55 722.745 1817.55 729.875 Q1817.55 736.981 1819.36 740.546 Q1821.19 744.087 1824.8 744.087 Q1828.43 744.087 1830.24 740.546 Q1832.07 736.981 1832.07 729.875 Q1832.07 722.745 1830.24 719.203 Q1828.43 715.639 1824.8 715.639 M1824.8 711.935 Q1830.61 711.935 1833.66 716.541 Q1836.74 721.125 1836.74 729.875 Q1836.74 738.601 1833.66 743.208 Q1830.61 747.791 1824.8 747.791 Q1818.99 747.791 1815.91 743.208 Q1812.85 738.601 1812.85 729.875 Q1812.85 721.125 1815.91 716.541 Q1818.99 711.935 1824.8 711.935 Z\" fill=\"#000000\" fill-rule=\"evenodd\" fill-opacity=\"1\" /><path clip-path=\"url(#clip830)\" d=\"M 0 0 M1841.81 741.24 L1846.69 741.24 L1846.69 747.12 L1841.81 747.12 L1841.81 741.24 Z\" fill=\"#000000\" fill-rule=\"evenodd\" fill-opacity=\"1\" /><path clip-path=\"url(#clip830)\" d=\"M 0 0 M1851.81 712.56 L1870.17 712.56 L1870.17 716.495 L1856.09 716.495 L1856.09 724.967 Q1857.11 724.62 1858.13 724.458 Q1859.15 724.273 1860.17 724.273 Q1865.95 724.273 1869.33 727.444 Q1872.71 730.615 1872.71 736.032 Q1872.71 741.611 1869.24 744.712 Q1865.77 747.791 1859.45 747.791 Q1857.27 747.791 1855 747.421 Q1852.76 747.05 1850.35 746.31 L1850.35 741.611 Q1852.44 742.745 1854.66 743.3 Q1856.88 743.856 1859.36 743.856 Q1863.36 743.856 1865.7 741.75 Q1868.04 739.643 1868.04 736.032 Q1868.04 732.421 1865.7 730.314 Q1863.36 728.208 1859.36 728.208 Q1857.48 728.208 1855.61 728.625 Q1853.75 729.041 1851.81 729.921 L1851.81 712.56 Z\" fill=\"#000000\" fill-rule=\"evenodd\" fill-opacity=\"1\" /><path clip-path=\"url(#clip830)\" d=\"M 0 0 M1877.92 746.402 L1877.92 742.143 Q1879.68 742.976 1881.49 743.416 Q1883.29 743.856 1885.03 743.856 Q1889.66 743.856 1892.09 740.754 Q1894.54 737.629 1894.89 731.287 Q1893.55 733.277 1891.49 734.342 Q1889.43 735.407 1886.93 735.407 Q1881.74 735.407 1878.71 732.282 Q1875.7 729.134 1875.7 723.694 Q1875.7 718.37 1878.85 715.152 Q1882 711.935 1887.23 711.935 Q1893.22 711.935 1896.37 716.541 Q1899.54 721.125 1899.54 729.875 Q1899.54 738.046 1895.65 742.93 Q1891.79 747.791 1885.24 747.791 Q1883.48 747.791 1881.67 747.444 Q1879.87 747.097 1877.92 746.402 M1887.23 731.75 Q1890.37 731.75 1892.2 729.597 Q1894.06 727.444 1894.06 723.694 Q1894.06 719.967 1892.2 717.814 Q1890.37 715.639 1887.23 715.639 Q1884.08 715.639 1882.23 717.814 Q1880.4 719.967 1880.4 723.694 Q1880.4 727.444 1882.23 729.597 Q1884.08 731.75 1887.23 731.75 Z\" fill=\"#000000\" fill-rule=\"evenodd\" fill-opacity=\"1\" /><path clip-path=\"url(#clip830)\" d=\"M 0 0 M1918.78 728.486 Q1922.13 729.203 1924.01 731.472 Q1925.91 733.74 1925.91 737.074 Q1925.91 742.189 1922.39 744.99 Q1918.87 747.791 1912.39 747.791 Q1910.21 747.791 1907.9 747.351 Q1905.61 746.935 1903.15 746.078 L1903.15 741.564 Q1905.1 742.699 1907.41 743.277 Q1909.73 743.856 1912.25 743.856 Q1916.65 743.856 1918.94 742.12 Q1921.25 740.384 1921.25 737.074 Q1921.25 734.018 1919.1 732.305 Q1916.97 730.569 1913.15 730.569 L1909.12 730.569 L1909.12 726.726 L1913.34 726.726 Q1916.79 726.726 1918.62 725.361 Q1920.44 723.972 1920.44 721.379 Q1920.44 718.717 1918.55 717.305 Q1916.67 715.87 1913.15 715.87 Q1911.23 715.87 1909.03 716.287 Q1906.83 716.703 1904.19 717.583 L1904.19 713.416 Q1906.86 712.676 1909.17 712.305 Q1911.51 711.935 1913.57 711.935 Q1918.89 711.935 1922 714.365 Q1925.1 716.773 1925.1 720.893 Q1925.1 723.764 1923.45 725.754 Q1921.81 727.722 1918.78 728.486 Z\" fill=\"#000000\" fill-rule=\"evenodd\" fill-opacity=\"1\" /><path clip-path=\"url(#clip830)\" d=\"M 0 0 M1940.98 715.639 Q1937.37 715.639 1935.54 719.203 Q1933.73 722.745 1933.73 729.875 Q1933.73 736.981 1935.54 740.546 Q1937.37 744.087 1940.98 744.087 Q1944.61 744.087 1946.42 740.546 Q1948.25 736.981 1948.25 729.875 Q1948.25 722.745 1946.42 719.203 Q1944.61 715.639 1940.98 715.639 M1940.98 711.935 Q1946.79 711.935 1949.84 716.541 Q1952.92 721.125 1952.92 729.875 Q1952.92 738.601 1949.84 743.208 Q1946.79 747.791 1940.98 747.791 Q1935.17 747.791 1932.09 743.208 Q1929.03 738.601 1929.03 729.875 Q1929.03 721.125 1932.09 716.541 Q1935.17 711.935 1940.98 711.935 Z\" fill=\"#000000\" fill-rule=\"evenodd\" fill-opacity=\"1\" /><path clip-path=\"url(#clip830)\" d=\"M 0 0 M1967.99 715.639 Q1964.38 715.639 1962.55 719.203 Q1960.74 722.745 1960.74 729.875 Q1960.74 736.981 1962.55 740.546 Q1964.38 744.087 1967.99 744.087 Q1971.62 744.087 1973.43 740.546 Q1975.26 736.981 1975.26 729.875 Q1975.26 722.745 1973.43 719.203 Q1971.62 715.639 1967.99 715.639 M1967.99 711.935 Q1973.8 711.935 1976.86 716.541 Q1979.93 721.125 1979.93 729.875 Q1979.93 738.601 1976.86 743.208 Q1973.8 747.791 1967.99 747.791 Q1962.18 747.791 1959.1 743.208 Q1956.05 738.601 1956.05 729.875 Q1956.05 721.125 1959.1 716.541 Q1962.18 711.935 1967.99 711.935 Z\" fill=\"#000000\" fill-rule=\"evenodd\" fill-opacity=\"1\" /><path clip-path=\"url(#clip830)\" d=\"M 0 0 M2000.79 715.639 Q1997.18 715.639 1995.35 719.203 Q1993.55 722.745 1993.55 729.875 Q1993.55 736.981 1995.35 740.546 Q1997.18 744.087 2000.79 744.087 Q2004.43 744.087 2006.23 740.546 Q2008.06 736.981 2008.06 729.875 Q2008.06 722.745 2006.23 719.203 Q2004.43 715.639 2000.79 715.639 M2000.79 711.935 Q2006.6 711.935 2009.66 716.541 Q2012.74 721.125 2012.74 729.875 Q2012.74 738.601 2009.66 743.208 Q2006.6 747.791 2000.79 747.791 Q1994.98 747.791 1991.9 743.208 Q1988.85 738.601 1988.85 729.875 Q1988.85 721.125 1991.9 716.541 Q1994.98 711.935 2000.79 711.935 Z\" fill=\"#000000\" fill-rule=\"evenodd\" fill-opacity=\"1\" /><path clip-path=\"url(#clip830)\" d=\"M 0 0 M2017.81 741.24 L2022.69 741.24 L2022.69 747.12 L2017.81 747.12 L2017.81 741.24 Z\" fill=\"#000000\" fill-rule=\"evenodd\" fill-opacity=\"1\" /><path clip-path=\"url(#clip830)\" d=\"M 0 0 M2027.81 712.56 L2046.16 712.56 L2046.16 716.495 L2032.09 716.495 L2032.09 724.967 Q2033.11 724.62 2034.13 724.458 Q2035.14 724.273 2036.16 724.273 Q2041.95 724.273 2045.33 727.444 Q2048.71 730.615 2048.71 736.032 Q2048.71 741.611 2045.24 744.712 Q2041.76 747.791 2035.45 747.791 Q2033.27 747.791 2031 747.421 Q2028.76 747.05 2026.35 746.31 L2026.35 741.611 Q2028.43 742.745 2030.65 743.3 Q2032.88 743.856 2035.35 743.856 Q2039.36 743.856 2041.7 741.75 Q2044.03 739.643 2044.03 736.032 Q2044.03 732.421 2041.7 730.314 Q2039.36 728.208 2035.35 728.208 Q2033.48 728.208 2031.6 728.625 Q2029.75 729.041 2027.81 729.921 L2027.81 712.56 Z\" fill=\"#000000\" fill-rule=\"evenodd\" fill-opacity=\"1\" /><path clip-path=\"url(#clip830)\" d=\"M 0 0 M2053.92 746.402 L2053.92 742.143 Q2055.68 742.976 2057.48 743.416 Q2059.29 743.856 2061.02 743.856 Q2065.65 743.856 2068.08 740.754 Q2070.54 737.629 2070.89 731.287 Q2069.54 733.277 2067.48 734.342 Q2065.42 735.407 2062.92 735.407 Q2057.74 735.407 2054.7 732.282 Q2051.7 729.134 2051.7 723.694 Q2051.7 718.37 2054.84 715.152 Q2057.99 711.935 2063.22 711.935 Q2069.22 711.935 2072.37 716.541 Q2075.54 721.125 2075.54 729.875 Q2075.54 738.046 2071.65 742.93 Q2067.78 747.791 2061.23 747.791 Q2059.47 747.791 2057.67 747.444 Q2055.86 747.097 2053.92 746.402 M2063.22 731.75 Q2066.37 731.75 2068.2 729.597 Q2070.05 727.444 2070.05 723.694 Q2070.05 719.967 2068.2 717.814 Q2066.37 715.639 2063.22 715.639 Q2060.07 715.639 2058.22 717.814 Q2056.39 719.967 2056.39 723.694 Q2056.39 727.444 2058.22 729.597 Q2060.07 731.75 2063.22 731.75 Z\" fill=\"#000000\" fill-rule=\"evenodd\" fill-opacity=\"1\" /><path clip-path=\"url(#clip830)\" d=\"M 0 0 M2094.77 728.486 Q2098.13 729.203 2100.01 731.472 Q2101.9 733.74 2101.9 737.074 Q2101.9 742.189 2098.38 744.99 Q2094.87 747.791 2088.39 747.791 Q2086.21 747.791 2083.89 747.351 Q2081.6 746.935 2079.15 746.078 L2079.15 741.564 Q2081.09 742.699 2083.41 743.277 Q2085.72 743.856 2088.25 743.856 Q2092.64 743.856 2094.94 742.12 Q2097.25 740.384 2097.25 737.074 Q2097.25 734.018 2095.1 732.305 Q2092.97 730.569 2089.15 730.569 L2085.12 730.569 L2085.12 726.726 L2089.33 726.726 Q2092.78 726.726 2094.61 725.361 Q2096.44 723.972 2096.44 721.379 Q2096.44 718.717 2094.54 717.305 Q2092.67 715.87 2089.15 715.87 Q2087.23 715.87 2085.03 716.287 Q2082.83 716.703 2080.19 717.583 L2080.19 713.416 Q2082.85 712.676 2085.17 712.305 Q2087.51 711.935 2089.57 711.935 Q2094.89 711.935 2097.99 714.365 Q2101.09 716.773 2101.09 720.893 Q2101.09 723.764 2099.45 725.754 Q2097.81 727.722 2094.77 728.486 Z\" fill=\"#000000\" fill-rule=\"evenodd\" fill-opacity=\"1\" /><path clip-path=\"url(#clip830)\" d=\"M 0 0 M2111 743.185 L2127.32 743.185 L2127.32 747.12 L2105.38 747.12 L2105.38 743.185 Q2108.04 740.43 2112.62 735.8 Q2117.23 731.148 2118.41 729.805 Q2120.65 727.282 2121.53 725.546 Q2122.44 723.787 2122.44 722.097 Q2122.44 719.342 2120.49 717.606 Q2118.57 715.87 2115.47 715.87 Q2113.27 715.87 2110.82 716.634 Q2108.38 717.398 2105.61 718.949 L2105.61 714.227 Q2108.43 713.092 2110.88 712.514 Q2113.34 711.935 2115.38 711.935 Q2120.75 711.935 2123.94 714.62 Q2127.13 717.305 2127.13 721.796 Q2127.13 723.926 2126.32 725.847 Q2125.54 727.745 2123.43 730.338 Q2122.85 731.009 2119.75 734.226 Q2116.65 737.421 2111 743.185 Z\" fill=\"#000000\" fill-rule=\"evenodd\" fill-opacity=\"1\" /><path clip-path=\"url(#clip830)\" d=\"M 0 0 M2132.44 712.56 L2150.79 712.56 L2150.79 716.495 L2136.72 716.495 L2136.72 724.967 Q2137.74 724.62 2138.76 724.458 Q2139.77 724.273 2140.79 724.273 Q2146.58 724.273 2149.96 727.444 Q2153.34 730.615 2153.34 736.032 Q2153.34 741.611 2149.87 744.712 Q2146.39 747.791 2140.07 747.791 Q2137.9 747.791 2135.63 747.421 Q2133.38 747.05 2130.98 746.31 L2130.98 741.611 Q2133.06 742.745 2135.28 743.3 Q2137.51 743.856 2139.98 743.856 Q2143.99 743.856 2146.32 741.75 Q2148.66 739.643 2148.66 736.032 Q2148.66 732.421 2146.32 730.314 Q2143.99 728.208 2139.98 728.208 Q2138.11 728.208 2136.23 728.625 Q2134.38 729.041 2132.44 729.921 L2132.44 712.56 Z\" fill=\"#000000\" fill-rule=\"evenodd\" fill-opacity=\"1\" /><path clip-path=\"url(#clip830)\" d=\"M 0 0 M2174.69 715.639 Q2171.08 715.639 2169.25 719.203 Q2167.45 722.745 2167.45 729.875 Q2167.45 736.981 2169.25 740.546 Q2171.08 744.087 2174.69 744.087 Q2178.33 744.087 2180.13 740.546 Q2181.96 736.981 2181.96 729.875 Q2181.96 722.745 2180.13 719.203 Q2178.33 715.639 2174.69 715.639 M2174.69 711.935 Q2180.5 711.935 2183.56 716.541 Q2186.64 721.125 2186.64 729.875 Q2186.64 738.601 2183.56 743.208 Q2180.5 747.791 2174.69 747.791 Q2168.88 747.791 2165.81 743.208 Q2162.75 738.601 2162.75 729.875 Q2162.75 721.125 2165.81 716.541 Q2168.88 711.935 2174.69 711.935 Z\" fill=\"#000000\" fill-rule=\"evenodd\" fill-opacity=\"1\" /><path clip-path=\"url(#clip830)\" d=\"M 0 0 M2191.71 741.24 L2196.59 741.24 L2196.59 747.12 L2191.71 747.12 L2191.71 741.24 Z\" fill=\"#000000\" fill-rule=\"evenodd\" fill-opacity=\"1\" /><path clip-path=\"url(#clip830)\" d=\"M 0 0 M2201.71 712.56 L2220.06 712.56 L2220.06 716.495 L2205.99 716.495 L2205.99 724.967 Q2207.01 724.62 2208.03 724.458 Q2209.05 724.273 2210.06 724.273 Q2215.85 724.273 2219.23 727.444 Q2222.61 730.615 2222.61 736.032 Q2222.61 741.611 2219.14 744.712 Q2215.67 747.791 2209.35 747.791 Q2207.17 747.791 2204.9 747.421 Q2202.66 747.05 2200.25 746.31 L2200.25 741.611 Q2202.33 742.745 2204.56 743.3 Q2206.78 743.856 2209.25 743.856 Q2213.26 743.856 2215.6 741.75 Q2217.93 739.643 2217.93 736.032 Q2217.93 732.421 2215.6 730.314 Q2213.26 728.208 2209.25 728.208 Q2207.38 728.208 2205.5 728.625 Q2203.65 729.041 2201.71 729.921 L2201.71 712.56 Z\" fill=\"#000000\" fill-rule=\"evenodd\" fill-opacity=\"1\" /><path clip-path=\"url(#clip830)\" d=\"M 0 0 M2227.82 746.402 L2227.82 742.143 Q2229.58 742.976 2231.38 743.416 Q2233.19 743.856 2234.93 743.856 Q2239.56 743.856 2241.99 740.754 Q2244.44 737.629 2244.79 731.287 Q2243.44 733.277 2241.38 734.342 Q2239.32 735.407 2236.82 735.407 Q2231.64 735.407 2228.61 732.282 Q2225.6 729.134 2225.6 723.694 Q2225.6 718.37 2228.74 715.152 Q2231.89 711.935 2237.12 711.935 Q2243.12 711.935 2246.27 716.541 Q2249.44 721.125 2249.44 729.875 Q2249.44 738.046 2245.55 742.93 Q2241.68 747.791 2235.13 747.791 Q2233.37 747.791 2231.57 747.444 Q2229.76 747.097 2227.82 746.402 M2237.12 731.75 Q2240.27 731.75 2242.1 729.597 Q2243.95 727.444 2243.95 723.694 Q2243.95 719.967 2242.1 717.814 Q2240.27 715.639 2237.12 715.639 Q2233.98 715.639 2232.12 717.814 Q2230.3 719.967 2230.3 723.694 Q2230.3 727.444 2232.12 729.597 Q2233.98 731.75 2237.12 731.75 Z\" fill=\"#000000\" fill-rule=\"evenodd\" fill-opacity=\"1\" /><path clip-path=\"url(#clip830)\" d=\"M 0 0 M2268.68 728.486 Q2272.03 729.203 2273.91 731.472 Q2275.8 733.74 2275.8 737.074 Q2275.8 742.189 2272.29 744.99 Q2268.77 747.791 2262.29 747.791 Q2260.11 747.791 2257.8 747.351 Q2255.5 746.935 2253.05 746.078 L2253.05 741.564 Q2254.99 742.699 2257.31 743.277 Q2259.62 743.856 2262.15 743.856 Q2266.55 743.856 2268.84 742.12 Q2271.15 740.384 2271.15 737.074 Q2271.15 734.018 2269 732.305 Q2266.87 730.569 2263.05 730.569 L2259.02 730.569 L2259.02 726.726 L2263.24 726.726 Q2266.68 726.726 2268.51 725.361 Q2270.34 723.972 2270.34 721.379 Q2270.34 718.717 2268.44 717.305 Q2266.57 715.87 2263.05 715.87 Q2261.13 715.87 2258.93 716.287 Q2256.73 716.703 2254.09 717.583 L2254.09 713.416 Q2256.75 712.676 2259.07 712.305 Q2261.41 711.935 2263.47 711.935 Q2268.79 711.935 2271.89 714.365 Q2274.99 716.773 2274.99 720.893 Q2274.99 723.764 2273.35 725.754 Q2271.71 727.722 2268.68 728.486 Z\" fill=\"#000000\" fill-rule=\"evenodd\" fill-opacity=\"1\" /><path clip-path=\"url(#clip830)\" d=\"M 0 0 M2280.92 712.56 L2299.28 712.56 L2299.28 716.495 L2285.2 716.495 L2285.2 724.967 Q2286.22 724.62 2287.24 724.458 Q2288.26 724.273 2289.28 724.273 Q2295.06 724.273 2298.44 727.444 Q2301.82 730.615 2301.82 736.032 Q2301.82 741.611 2298.35 744.712 Q2294.88 747.791 2288.56 747.791 Q2286.38 747.791 2284.11 747.421 Q2281.87 747.05 2279.46 746.31 L2279.46 741.611 Q2281.55 742.745 2283.77 743.3 Q2285.99 743.856 2288.47 743.856 Q2292.47 743.856 2294.81 741.75 Q2297.15 739.643 2297.15 736.032 Q2297.15 732.421 2294.81 730.314 Q2292.47 728.208 2288.47 728.208 Q2286.59 728.208 2284.72 728.625 Q2282.86 729.041 2280.92 729.921 L2280.92 712.56 Z\" fill=\"#000000\" fill-rule=\"evenodd\" fill-opacity=\"1\" /><path clip-path=\"url(#clip830)\" d=\"M 0 0 M2316.89 715.639 Q2313.28 715.639 2311.45 719.203 Q2309.65 722.745 2309.65 729.875 Q2309.65 736.981 2311.45 740.546 Q2313.28 744.087 2316.89 744.087 Q2320.53 744.087 2322.33 740.546 Q2324.16 736.981 2324.16 729.875 Q2324.16 722.745 2322.33 719.203 Q2320.53 715.639 2316.89 715.639 M2316.89 711.935 Q2322.7 711.935 2325.76 716.541 Q2328.84 721.125 2328.84 729.875 Q2328.84 738.601 2325.76 743.208 Q2322.7 747.791 2316.89 747.791 Q2311.08 747.791 2308 743.208 Q2304.95 738.601 2304.95 729.875 Q2304.95 721.125 2308 716.541 Q2311.08 711.935 2316.89 711.935 Z\" fill=\"#000000\" fill-rule=\"evenodd\" fill-opacity=\"1\" /><polyline clip-path=\"url(#clip833)\" style=\"stroke:#000000; stroke-width:2; stroke-opacity:0.1; fill:none\" points=\"\n",
       "  1474.22,666.883 2352.76,666.883 \n",
       "  \"/>\n",
       "<polyline clip-path=\"url(#clip833)\" style=\"stroke:#000000; stroke-width:2; stroke-opacity:0.1; fill:none\" points=\"\n",
       "  1474.22,498.615 2352.76,498.615 \n",
       "  \"/>\n",
       "<polyline clip-path=\"url(#clip833)\" style=\"stroke:#000000; stroke-width:2; stroke-opacity:0.1; fill:none\" points=\"\n",
       "  1474.22,330.348 2352.76,330.348 \n",
       "  \"/>\n",
       "<polyline clip-path=\"url(#clip833)\" style=\"stroke:#000000; stroke-width:2; stroke-opacity:0.1; fill:none\" points=\"\n",
       "  1474.22,162.08 2352.76,162.08 \n",
       "  \"/>\n",
       "<polyline clip-path=\"url(#clip830)\" style=\"stroke:#000000; stroke-width:4; stroke-opacity:1; fill:none\" points=\"\n",
       "  1474.22,686.448 1474.22,123.472 \n",
       "  \"/>\n",
       "<polyline clip-path=\"url(#clip830)\" style=\"stroke:#000000; stroke-width:4; stroke-opacity:1; fill:none\" points=\"\n",
       "  1474.22,666.883 1484.76,666.883 \n",
       "  \"/>\n",
       "<polyline clip-path=\"url(#clip830)\" style=\"stroke:#000000; stroke-width:4; stroke-opacity:1; fill:none\" points=\"\n",
       "  1474.22,498.615 1484.76,498.615 \n",
       "  \"/>\n",
       "<polyline clip-path=\"url(#clip830)\" style=\"stroke:#000000; stroke-width:4; stroke-opacity:1; fill:none\" points=\"\n",
       "  1474.22,330.348 1484.76,330.348 \n",
       "  \"/>\n",
       "<polyline clip-path=\"url(#clip830)\" style=\"stroke:#000000; stroke-width:4; stroke-opacity:1; fill:none\" points=\"\n",
       "  1474.22,162.08 1484.76,162.08 \n",
       "  \"/>\n",
       "<path clip-path=\"url(#clip830)\" d=\"M 0 0 M1295.32 671.467 Q1292.17 671.467 1290.32 673.62 Q1288.49 675.772 1288.49 679.522 Q1288.49 683.249 1290.32 685.425 Q1292.17 687.578 1295.32 687.578 Q1298.47 687.578 1300.3 685.425 Q1302.15 683.249 1302.15 679.522 Q1302.15 675.772 1300.3 673.62 Q1298.47 671.467 1295.32 671.467 M1304.6 656.814 L1304.6 661.073 Q1302.84 660.24 1301.04 659.8 Q1299.26 659.36 1297.5 659.36 Q1292.87 659.36 1290.41 662.485 Q1287.98 665.61 1287.64 671.93 Q1289 669.916 1291.06 668.851 Q1293.12 667.763 1295.6 667.763 Q1300.81 667.763 1303.82 670.934 Q1306.85 674.083 1306.85 679.522 Q1306.85 684.846 1303.7 688.064 Q1300.55 691.282 1295.32 691.282 Q1289.33 691.282 1286.15 686.698 Q1282.98 682.092 1282.98 673.365 Q1282.98 665.171 1286.87 660.31 Q1290.76 655.425 1297.31 655.425 Q1299.07 655.425 1300.85 655.773 Q1302.66 656.12 1304.6 656.814 Z\" fill=\"#000000\" fill-rule=\"evenodd\" fill-opacity=\"1\" /><path clip-path=\"url(#clip830)\" d=\"M 0 0 M1340.09 665.147 L1329.51 675.772 L1340.09 686.351 L1337.33 689.152 L1326.71 678.527 L1316.08 689.152 L1313.35 686.351 L1323.91 675.772 L1313.35 665.147 L1316.08 662.347 L1326.71 672.972 L1337.33 662.347 L1340.09 665.147 Z\" fill=\"#000000\" fill-rule=\"evenodd\" fill-opacity=\"1\" /><path clip-path=\"url(#clip830)\" d=\"M 0 0 M1345.97 686.675 L1353.61 686.675 L1353.61 660.31 L1345.3 661.976 L1345.3 657.717 L1353.56 656.05 L1358.24 656.05 L1358.24 686.675 L1365.88 686.675 L1365.88 690.61 L1345.97 690.61 L1345.97 686.675 Z\" fill=\"#000000\" fill-rule=\"evenodd\" fill-opacity=\"1\" /><path clip-path=\"url(#clip830)\" d=\"M 0 0 M1380.95 659.129 Q1377.33 659.129 1375.51 662.694 Q1373.7 666.235 1373.7 673.365 Q1373.7 680.471 1375.51 684.036 Q1377.33 687.578 1380.95 687.578 Q1384.58 687.578 1386.38 684.036 Q1388.21 680.471 1388.21 673.365 Q1388.21 666.235 1386.38 662.694 Q1384.58 659.129 1380.95 659.129 M1380.95 655.425 Q1386.76 655.425 1389.81 660.032 Q1392.89 664.615 1392.89 673.365 Q1392.89 682.092 1389.81 686.698 Q1386.76 691.282 1380.95 691.282 Q1375.13 691.282 1372.06 686.698 Q1369 682.092 1369 673.365 Q1369 664.615 1372.06 660.032 Q1375.13 655.425 1380.95 655.425 Z\" fill=\"#000000\" fill-rule=\"evenodd\" fill-opacity=\"1\" /><path clip-path=\"url(#clip830)\" d=\"M 0 0 M1392.89 649.527 L1417 649.527 L1417 652.724 L1392.89 652.724 L1392.89 649.527 Z\" fill=\"#000000\" fill-rule=\"evenodd\" fill-opacity=\"1\" /><path clip-path=\"url(#clip830)\" d=\"M 0 0 M1420.16 635.12 L1438.22 635.12 L1438.22 636.737 L1428.02 663.2 L1424.05 663.2 L1433.65 638.317 L1420.16 638.317 L1420.16 635.12 Z\" fill=\"#000000\" fill-rule=\"evenodd\" fill-opacity=\"1\" /><path clip-path=\"url(#clip830)\" d=\"M 0 0 M1284.63 487.783 L1306.85 487.783 L1306.85 489.773 L1294.3 522.343 L1289.42 522.343 L1301.22 491.718 L1284.63 491.718 L1284.63 487.783 Z\" fill=\"#000000\" fill-rule=\"evenodd\" fill-opacity=\"1\" /><path clip-path=\"url(#clip830)\" d=\"M 0 0 M1340.09 496.88 L1329.51 507.505 L1340.09 518.083 L1337.33 520.884 L1326.71 510.259 L1316.08 520.884 L1313.35 518.083 L1323.91 507.505 L1313.35 496.88 L1316.08 494.079 L1326.71 504.704 L1337.33 494.079 L1340.09 496.88 Z\" fill=\"#000000\" fill-rule=\"evenodd\" fill-opacity=\"1\" /><path clip-path=\"url(#clip830)\" d=\"M 0 0 M1345.97 518.408 L1353.61 518.408 L1353.61 492.042 L1345.3 493.709 L1345.3 489.449 L1353.56 487.783 L1358.24 487.783 L1358.24 518.408 L1365.88 518.408 L1365.88 522.343 L1345.97 522.343 L1345.97 518.408 Z\" fill=\"#000000\" fill-rule=\"evenodd\" fill-opacity=\"1\" /><path clip-path=\"url(#clip830)\" d=\"M 0 0 M1380.95 490.861 Q1377.33 490.861 1375.51 494.426 Q1373.7 497.968 1373.7 505.097 Q1373.7 512.204 1375.51 515.769 Q1377.33 519.31 1380.95 519.31 Q1384.58 519.31 1386.38 515.769 Q1388.21 512.204 1388.21 505.097 Q1388.21 497.968 1386.38 494.426 Q1384.58 490.861 1380.95 490.861 M1380.95 487.158 Q1386.76 487.158 1389.81 491.764 Q1392.89 496.347 1392.89 505.097 Q1392.89 513.824 1389.81 518.431 Q1386.76 523.014 1380.95 523.014 Q1375.13 523.014 1372.06 518.431 Q1369 513.824 1369 505.097 Q1369 496.347 1372.06 491.764 Q1375.13 487.158 1380.95 487.158 Z\" fill=\"#000000\" fill-rule=\"evenodd\" fill-opacity=\"1\" /><path clip-path=\"url(#clip830)\" d=\"M 0 0 M1392.89 481.259 L1417 481.259 L1417 484.456 L1392.89 484.456 L1392.89 481.259 Z\" fill=\"#000000\" fill-rule=\"evenodd\" fill-opacity=\"1\" /><path clip-path=\"url(#clip830)\" d=\"M 0 0 M1420.16 466.852 L1438.22 466.852 L1438.22 468.47 L1428.02 494.932 L1424.05 494.932 L1433.65 470.05 L1420.16 470.05 L1420.16 466.852 Z\" fill=\"#000000\" fill-rule=\"evenodd\" fill-opacity=\"1\" /><path clip-path=\"url(#clip830)\" d=\"M 0 0 M1295 337.663 Q1291.66 337.663 1289.74 339.446 Q1287.84 341.228 1287.84 344.353 Q1287.84 347.478 1289.74 349.26 Q1291.66 351.043 1295 351.043 Q1298.33 351.043 1300.25 349.26 Q1302.17 347.455 1302.17 344.353 Q1302.17 341.228 1300.25 339.446 Q1298.35 337.663 1295 337.663 M1290.32 335.672 Q1287.31 334.932 1285.62 332.872 Q1283.95 330.811 1283.95 327.848 Q1283.95 323.705 1286.89 321.298 Q1289.86 318.89 1295 318.89 Q1300.16 318.89 1303.1 321.298 Q1306.04 323.705 1306.04 327.848 Q1306.04 330.811 1304.35 332.872 Q1302.68 334.932 1299.7 335.672 Q1303.08 336.46 1304.95 338.751 Q1306.85 341.043 1306.85 344.353 Q1306.85 349.376 1303.77 352.061 Q1300.71 354.746 1295 354.746 Q1289.28 354.746 1286.2 352.061 Q1283.14 349.376 1283.14 344.353 Q1283.14 341.043 1285.04 338.751 Q1286.94 336.46 1290.32 335.672 M1288.61 328.288 Q1288.61 330.973 1290.27 332.478 Q1291.96 333.983 1295 333.983 Q1298.01 333.983 1299.7 332.478 Q1301.41 330.973 1301.41 328.288 Q1301.41 325.603 1299.7 324.098 Q1298.01 322.594 1295 322.594 Q1291.96 322.594 1290.27 324.098 Q1288.61 325.603 1288.61 328.288 Z\" fill=\"#000000\" fill-rule=\"evenodd\" fill-opacity=\"1\" /><path clip-path=\"url(#clip830)\" d=\"M 0 0 M1340.09 328.612 L1329.51 339.237 L1340.09 349.816 L1337.33 352.617 L1326.71 341.992 L1316.08 352.617 L1313.35 349.816 L1323.91 339.237 L1313.35 328.612 L1316.08 325.811 L1326.71 336.436 L1337.33 325.811 L1340.09 328.612 Z\" fill=\"#000000\" fill-rule=\"evenodd\" fill-opacity=\"1\" /><path clip-path=\"url(#clip830)\" d=\"M 0 0 M1345.97 350.14 L1353.61 350.14 L1353.61 323.774 L1345.3 325.441 L1345.3 321.182 L1353.56 319.515 L1358.24 319.515 L1358.24 350.14 L1365.88 350.14 L1365.88 354.075 L1345.97 354.075 L1345.97 350.14 Z\" fill=\"#000000\" fill-rule=\"evenodd\" fill-opacity=\"1\" /><path clip-path=\"url(#clip830)\" d=\"M 0 0 M1380.95 322.594 Q1377.33 322.594 1375.51 326.159 Q1373.7 329.7 1373.7 336.83 Q1373.7 343.936 1375.51 347.501 Q1377.33 351.043 1380.95 351.043 Q1384.58 351.043 1386.38 347.501 Q1388.21 343.936 1388.21 336.83 Q1388.21 329.7 1386.38 326.159 Q1384.58 322.594 1380.95 322.594 M1380.95 318.89 Q1386.76 318.89 1389.81 323.497 Q1392.89 328.08 1392.89 336.83 Q1392.89 345.557 1389.81 350.163 Q1386.76 354.746 1380.95 354.746 Q1375.13 354.746 1372.06 350.163 Q1369 345.557 1369 336.83 Q1369 328.08 1372.06 323.497 Q1375.13 318.89 1380.95 318.89 Z\" fill=\"#000000\" fill-rule=\"evenodd\" fill-opacity=\"1\" /><path clip-path=\"url(#clip830)\" d=\"M 0 0 M1392.89 312.992 L1417 312.992 L1417 316.189 L1392.89 316.189 L1392.89 312.992 Z\" fill=\"#000000\" fill-rule=\"evenodd\" fill-opacity=\"1\" /><path clip-path=\"url(#clip830)\" d=\"M 0 0 M1420.16 298.585 L1438.22 298.585 L1438.22 300.202 L1428.02 326.665 L1424.05 326.665 L1433.65 301.782 L1420.16 301.782 L1420.16 298.585 Z\" fill=\"#000000\" fill-rule=\"evenodd\" fill-opacity=\"1\" /><path clip-path=\"url(#clip830)\" d=\"M 0 0 M1285.23 185.09 L1285.23 180.831 Q1286.99 181.664 1288.79 182.104 Q1290.6 182.544 1292.33 182.544 Q1296.96 182.544 1299.39 179.442 Q1301.85 176.317 1302.2 169.974 Q1300.85 171.965 1298.79 173.03 Q1296.73 174.095 1294.23 174.095 Q1289.05 174.095 1286.02 170.97 Q1283.01 167.822 1283.01 162.382 Q1283.01 157.058 1286.15 153.84 Q1289.3 150.623 1294.53 150.623 Q1300.53 150.623 1303.68 155.229 Q1306.85 159.812 1306.85 168.562 Q1306.85 176.734 1302.96 181.618 Q1299.09 186.479 1292.54 186.479 Q1290.78 186.479 1288.98 186.132 Q1287.17 185.784 1285.23 185.09 M1294.53 170.437 Q1297.68 170.437 1299.51 168.285 Q1301.36 166.132 1301.36 162.382 Q1301.36 158.655 1299.51 156.502 Q1297.68 154.326 1294.53 154.326 Q1291.39 154.326 1289.53 156.502 Q1287.7 158.655 1287.7 162.382 Q1287.7 166.132 1289.53 168.285 Q1291.39 170.437 1294.53 170.437 Z\" fill=\"#000000\" fill-rule=\"evenodd\" fill-opacity=\"1\" /><path clip-path=\"url(#clip830)\" d=\"M 0 0 M1340.09 160.345 L1329.51 170.97 L1340.09 181.548 L1337.33 184.349 L1326.71 173.724 L1316.08 184.349 L1313.35 181.548 L1323.91 170.97 L1313.35 160.345 L1316.08 157.544 L1326.71 168.169 L1337.33 157.544 L1340.09 160.345 Z\" fill=\"#000000\" fill-rule=\"evenodd\" fill-opacity=\"1\" /><path clip-path=\"url(#clip830)\" d=\"M 0 0 M1345.97 181.872 L1353.61 181.872 L1353.61 155.507 L1345.3 157.173 L1345.3 152.914 L1353.56 151.248 L1358.24 151.248 L1358.24 181.872 L1365.88 181.872 L1365.88 185.808 L1345.97 185.808 L1345.97 181.872 Z\" fill=\"#000000\" fill-rule=\"evenodd\" fill-opacity=\"1\" /><path clip-path=\"url(#clip830)\" d=\"M 0 0 M1380.95 154.326 Q1377.33 154.326 1375.51 157.891 Q1373.7 161.433 1373.7 168.562 Q1373.7 175.669 1375.51 179.234 Q1377.33 182.775 1380.95 182.775 Q1384.58 182.775 1386.38 179.234 Q1388.21 175.669 1388.21 168.562 Q1388.21 161.433 1386.38 157.891 Q1384.58 154.326 1380.95 154.326 M1380.95 150.623 Q1386.76 150.623 1389.81 155.229 Q1392.89 159.812 1392.89 168.562 Q1392.89 177.289 1389.81 181.896 Q1386.76 186.479 1380.95 186.479 Q1375.13 186.479 1372.06 181.896 Q1369 177.289 1369 168.562 Q1369 159.812 1372.06 155.229 Q1375.13 150.623 1380.95 150.623 Z\" fill=\"#000000\" fill-rule=\"evenodd\" fill-opacity=\"1\" /><path clip-path=\"url(#clip830)\" d=\"M 0 0 M1392.89 144.724 L1417 144.724 L1417 147.921 L1392.89 147.921 L1392.89 144.724 Z\" fill=\"#000000\" fill-rule=\"evenodd\" fill-opacity=\"1\" /><path clip-path=\"url(#clip830)\" d=\"M 0 0 M1420.16 130.317 L1438.22 130.317 L1438.22 131.935 L1428.02 158.397 L1424.05 158.397 L1433.65 133.514 L1420.16 133.514 L1420.16 130.317 Z\" fill=\"#000000\" fill-rule=\"evenodd\" fill-opacity=\"1\" /><path clip-path=\"url(#clip830)\" d=\"M 0 0 M1843.24 49.9314 Q1843.24 41.7081 1839.84 37.0496 Q1836.48 32.3505 1830.56 32.3505 Q1824.65 32.3505 1821.25 37.0496 Q1817.88 41.7081 1817.88 49.9314 Q1817.88 58.1548 1821.25 62.8538 Q1824.65 67.5124 1830.56 67.5124 Q1836.48 67.5124 1839.84 62.8538 Q1843.24 58.1548 1843.24 49.9314 M1817.88 34.0924 Q1820.23 30.0415 1823.8 28.0971 Q1827.4 26.1121 1832.39 26.1121 Q1840.65 26.1121 1845.8 32.6746 Q1850.98 39.2371 1850.98 49.9314 Q1850.98 60.6258 1845.8 67.1883 Q1840.65 73.7508 1832.39 73.7508 Q1827.4 73.7508 1823.8 71.8063 Q1820.23 69.8214 1817.88 65.7705 L1817.88 72.576 L1810.39 72.576 L1810.39 9.54393 L1817.88 9.54393 L1817.88 34.0924 Z\" fill=\"#000000\" fill-rule=\"evenodd\" fill-opacity=\"1\" /><path clip-path=\"url(#clip830)\" d=\"M 0 0 M1897.61 48.0275 L1897.61 51.6733 L1863.34 51.6733 Q1863.82 59.3701 1867.95 63.421 Q1872.13 67.4314 1879.54 67.4314 Q1883.83 67.4314 1887.84 66.3781 Q1891.89 65.3249 1895.86 63.2184 L1895.86 70.267 Q1891.85 71.9684 1887.64 72.8596 Q1883.43 73.7508 1879.09 73.7508 Q1868.24 73.7508 1861.88 67.4314 Q1855.56 61.1119 1855.56 50.3365 Q1855.56 39.1965 1861.55 32.6746 Q1867.59 26.1121 1877.8 26.1121 Q1886.95 26.1121 1892.26 32.0264 Q1897.61 37.9003 1897.61 48.0275 M1890.15 45.84 Q1890.07 39.7232 1886.71 36.0774 Q1883.39 32.4315 1877.88 32.4315 Q1871.64 32.4315 1867.87 35.9558 Q1864.15 39.4801 1863.58 45.8805 L1890.15 45.84 Z\" fill=\"#000000\" fill-rule=\"evenodd\" fill-opacity=\"1\" /><path clip-path=\"url(#clip830)\" d=\"M 0 0 M1912.8 14.324 L1912.8 27.2059 L1928.15 27.2059 L1928.15 32.9987 L1912.8 32.9987 L1912.8 57.6282 Q1912.8 63.1779 1914.3 64.7578 Q1915.84 66.3376 1920.49 66.3376 L1928.15 66.3376 L1928.15 72.576 L1920.49 72.576 Q1911.87 72.576 1908.58 69.3758 Q1905.3 66.1351 1905.3 57.6282 L1905.3 32.9987 L1899.83 32.9987 L1899.83 27.2059 L1905.3 27.2059 L1905.3 14.324 L1912.8 14.324 Z\" fill=\"#000000\" fill-rule=\"evenodd\" fill-opacity=\"1\" /><path clip-path=\"url(#clip830)\" d=\"M 0 0 M1956.59 49.7694 Q1947.55 49.7694 1944.07 51.8354 Q1940.59 53.9013 1940.59 58.8839 Q1940.59 62.8538 1943.18 65.2034 Q1945.81 67.5124 1950.31 67.5124 Q1956.51 67.5124 1960.23 63.1374 Q1964 58.7219 1964 51.4303 L1964 49.7694 L1956.59 49.7694 M1971.45 46.6907 L1971.45 72.576 L1964 72.576 L1964 65.6895 Q1961.45 69.8214 1957.64 71.8063 Q1953.83 73.7508 1948.32 73.7508 Q1941.36 73.7508 1937.22 69.8619 Q1933.13 65.9325 1933.13 59.3701 Q1933.13 51.7138 1938.24 47.825 Q1943.38 43.9361 1953.55 43.9361 L1964 43.9361 L1964 43.2069 Q1964 38.0623 1960.6 35.2672 Q1957.24 32.4315 1951.12 32.4315 Q1947.23 32.4315 1943.54 33.3632 Q1939.86 34.295 1936.45 36.1584 L1936.45 29.2718 Q1940.55 27.692 1944.39 26.9223 Q1948.24 26.1121 1951.89 26.1121 Q1961.73 26.1121 1966.59 31.2163 Q1971.45 36.3204 1971.45 46.6907 Z\" fill=\"#000000\" fill-rule=\"evenodd\" fill-opacity=\"1\" /><path clip-path=\"url(#clip830)\" d=\"M 0 0 M1981.74 65.6895 L1995.11 65.6895 L1995.11 19.5497 L1980.57 22.4663 L1980.57 15.0127 L1995.03 12.096 L2003.21 12.096 L2003.21 65.6895 L2016.58 65.6895 L2016.58 72.576 L1981.74 72.576 L1981.74 65.6895 Z\" fill=\"#000000\" fill-rule=\"evenodd\" fill-opacity=\"1\" /><polyline clip-path=\"url(#clip833)\" style=\"stroke:#009af9; stroke-width:4; stroke-opacity:1; fill:none\" points=\"\n",
       "  1499.08,139.749 1706.28,537.802 1913.49,670.515 2120.69,537.759 2327.89,139.405 \n",
       "  \"/>\n",
       "<polyline clip-path=\"url(#clip833)\" style=\"stroke:#e26f46; stroke-width:4; stroke-opacity:1; fill:none\" points=\"\n",
       "  1913.49,1249.42 1913.49,-439.504 \n",
       "  \"/>\n",
       "<path clip-path=\"url(#clip830)\" d=\"\n",
       "M306.207 1486.45 L1184.75 1486.45 L1184.75 923.472 L306.207 923.472  Z\n",
       "  \" fill=\"#ffffff\" fill-rule=\"evenodd\" fill-opacity=\"1\"/>\n",
       "<defs>\n",
       "  <clipPath id=\"clip834\">\n",
       "    <rect x=\"306\" y=\"923\" width=\"880\" height=\"564\"/>\n",
       "  </clipPath>\n",
       "</defs>\n",
       "<polyline clip-path=\"url(#clip834)\" style=\"stroke:#000000; stroke-width:2; stroke-opacity:0.1; fill:none\" points=\"\n",
       "  373.428,1486.45 373.428,923.472 \n",
       "  \"/>\n",
       "<polyline clip-path=\"url(#clip834)\" style=\"stroke:#000000; stroke-width:2; stroke-opacity:0.1; fill:none\" points=\"\n",
       "  482.557,1486.45 482.557,923.472 \n",
       "  \"/>\n",
       "<polyline clip-path=\"url(#clip834)\" style=\"stroke:#000000; stroke-width:2; stroke-opacity:0.1; fill:none\" points=\"\n",
       "  591.685,1486.45 591.685,923.472 \n",
       "  \"/>\n",
       "<polyline clip-path=\"url(#clip834)\" style=\"stroke:#000000; stroke-width:2; stroke-opacity:0.1; fill:none\" points=\"\n",
       "  700.814,1486.45 700.814,923.472 \n",
       "  \"/>\n",
       "<polyline clip-path=\"url(#clip834)\" style=\"stroke:#000000; stroke-width:2; stroke-opacity:0.1; fill:none\" points=\"\n",
       "  809.942,1486.45 809.942,923.472 \n",
       "  \"/>\n",
       "<polyline clip-path=\"url(#clip834)\" style=\"stroke:#000000; stroke-width:2; stroke-opacity:0.1; fill:none\" points=\"\n",
       "  919.071,1486.45 919.071,923.472 \n",
       "  \"/>\n",
       "<polyline clip-path=\"url(#clip834)\" style=\"stroke:#000000; stroke-width:2; stroke-opacity:0.1; fill:none\" points=\"\n",
       "  1028.2,1486.45 1028.2,923.472 \n",
       "  \"/>\n",
       "<polyline clip-path=\"url(#clip834)\" style=\"stroke:#000000; stroke-width:2; stroke-opacity:0.1; fill:none\" points=\"\n",
       "  1137.33,1486.45 1137.33,923.472 \n",
       "  \"/>\n",
       "<polyline clip-path=\"url(#clip830)\" style=\"stroke:#000000; stroke-width:4; stroke-opacity:1; fill:none\" points=\"\n",
       "  306.207,1486.45 1184.75,1486.45 \n",
       "  \"/>\n",
       "<polyline clip-path=\"url(#clip830)\" style=\"stroke:#000000; stroke-width:4; stroke-opacity:1; fill:none\" points=\"\n",
       "  373.428,1486.45 373.428,1479.69 \n",
       "  \"/>\n",
       "<polyline clip-path=\"url(#clip830)\" style=\"stroke:#000000; stroke-width:4; stroke-opacity:1; fill:none\" points=\"\n",
       "  482.557,1486.45 482.557,1479.69 \n",
       "  \"/>\n",
       "<polyline clip-path=\"url(#clip830)\" style=\"stroke:#000000; stroke-width:4; stroke-opacity:1; fill:none\" points=\"\n",
       "  591.685,1486.45 591.685,1479.69 \n",
       "  \"/>\n",
       "<polyline clip-path=\"url(#clip830)\" style=\"stroke:#000000; stroke-width:4; stroke-opacity:1; fill:none\" points=\"\n",
       "  700.814,1486.45 700.814,1479.69 \n",
       "  \"/>\n",
       "<polyline clip-path=\"url(#clip830)\" style=\"stroke:#000000; stroke-width:4; stroke-opacity:1; fill:none\" points=\"\n",
       "  809.942,1486.45 809.942,1479.69 \n",
       "  \"/>\n",
       "<polyline clip-path=\"url(#clip830)\" style=\"stroke:#000000; stroke-width:4; stroke-opacity:1; fill:none\" points=\"\n",
       "  919.071,1486.45 919.071,1479.69 \n",
       "  \"/>\n",
       "<polyline clip-path=\"url(#clip830)\" style=\"stroke:#000000; stroke-width:4; stroke-opacity:1; fill:none\" points=\"\n",
       "  1028.2,1486.45 1028.2,1479.69 \n",
       "  \"/>\n",
       "<polyline clip-path=\"url(#clip830)\" style=\"stroke:#000000; stroke-width:4; stroke-opacity:1; fill:none\" points=\"\n",
       "  1137.33,1486.45 1137.33,1479.69 \n",
       "  \"/>\n",
       "<path clip-path=\"url(#clip830)\" d=\"M 0 0 M315.466 1515.64 Q311.855 1515.64 310.026 1519.2 Q308.22 1522.75 308.22 1529.87 Q308.22 1536.98 310.026 1540.55 Q311.855 1544.09 315.466 1544.09 Q319.1 1544.09 320.906 1540.55 Q322.734 1536.98 322.734 1529.87 Q322.734 1522.75 320.906 1519.2 Q319.1 1515.64 315.466 1515.64 M315.466 1511.93 Q321.276 1511.93 324.331 1516.54 Q327.41 1521.12 327.41 1529.87 Q327.41 1538.6 324.331 1543.21 Q321.276 1547.79 315.466 1547.79 Q309.656 1547.79 306.577 1543.21 Q303.521 1538.6 303.521 1529.87 Q303.521 1521.12 306.577 1516.54 Q309.656 1511.93 315.466 1511.93 Z\" fill=\"#000000\" fill-rule=\"evenodd\" fill-opacity=\"1\" /><path clip-path=\"url(#clip830)\" d=\"M 0 0 M332.48 1541.24 L337.364 1541.24 L337.364 1547.12 L332.48 1547.12 L332.48 1541.24 Z\" fill=\"#000000\" fill-rule=\"evenodd\" fill-opacity=\"1\" /><path clip-path=\"url(#clip830)\" d=\"M 0 0 M341.253 1512.56 L363.475 1512.56 L363.475 1514.55 L350.929 1547.12 L346.044 1547.12 L357.85 1516.5 L341.253 1516.5 L341.253 1512.56 Z\" fill=\"#000000\" fill-rule=\"evenodd\" fill-opacity=\"1\" /><path clip-path=\"url(#clip830)\" d=\"M 0 0 M368.591 1512.56 L386.947 1512.56 L386.947 1516.5 L372.873 1516.5 L372.873 1524.97 Q373.891 1524.62 374.91 1524.46 Q375.928 1524.27 376.947 1524.27 Q382.734 1524.27 386.114 1527.44 Q389.493 1530.62 389.493 1536.03 Q389.493 1541.61 386.021 1544.71 Q382.549 1547.79 376.229 1547.79 Q374.053 1547.79 371.785 1547.42 Q369.54 1547.05 367.132 1546.31 L367.132 1541.61 Q369.216 1542.74 371.438 1543.3 Q373.66 1543.86 376.137 1543.86 Q380.141 1543.86 382.479 1541.75 Q384.817 1539.64 384.817 1536.03 Q384.817 1532.42 382.479 1530.31 Q380.141 1528.21 376.137 1528.21 Q374.262 1528.21 372.387 1528.62 Q370.535 1529.04 368.591 1529.92 L368.591 1512.56 Z\" fill=\"#000000\" fill-rule=\"evenodd\" fill-opacity=\"1\" /><path clip-path=\"url(#clip830)\" d=\"M 0 0 M404.563 1530.71 Q401.229 1530.71 399.308 1532.49 Q397.41 1534.27 397.41 1537.4 Q397.41 1540.52 399.308 1542.31 Q401.229 1544.09 404.563 1544.09 Q407.896 1544.09 409.817 1542.31 Q411.738 1540.5 411.738 1537.4 Q411.738 1534.27 409.817 1532.49 Q407.919 1530.71 404.563 1530.71 M399.887 1528.72 Q396.877 1527.98 395.188 1525.92 Q393.521 1523.86 393.521 1520.89 Q393.521 1516.75 396.461 1514.34 Q399.424 1511.93 404.563 1511.93 Q409.725 1511.93 412.664 1514.34 Q415.604 1516.75 415.604 1520.89 Q415.604 1523.86 413.914 1525.92 Q412.248 1527.98 409.262 1528.72 Q412.641 1529.5 414.516 1531.8 Q416.414 1534.09 416.414 1537.4 Q416.414 1542.42 413.336 1545.11 Q410.28 1547.79 404.563 1547.79 Q398.845 1547.79 395.766 1545.11 Q392.711 1542.42 392.711 1537.4 Q392.711 1534.09 394.609 1531.8 Q396.507 1529.5 399.887 1528.72 M398.174 1521.33 Q398.174 1524.02 399.84 1525.52 Q401.53 1527.03 404.563 1527.03 Q407.572 1527.03 409.262 1525.52 Q410.975 1524.02 410.975 1521.33 Q410.975 1518.65 409.262 1517.14 Q407.572 1515.64 404.563 1515.64 Q401.53 1515.64 399.84 1517.14 Q398.174 1518.65 398.174 1521.33 Z\" fill=\"#000000\" fill-rule=\"evenodd\" fill-opacity=\"1\" /><path clip-path=\"url(#clip830)\" d=\"M 0 0 M431.484 1530.71 Q428.15 1530.71 426.229 1532.49 Q424.331 1534.27 424.331 1537.4 Q424.331 1540.52 426.229 1542.31 Q428.15 1544.09 431.484 1544.09 Q434.817 1544.09 436.738 1542.31 Q438.66 1540.5 438.66 1537.4 Q438.66 1534.27 436.738 1532.49 Q434.84 1530.71 431.484 1530.71 M426.808 1528.72 Q423.799 1527.98 422.109 1525.92 Q420.442 1523.86 420.442 1520.89 Q420.442 1516.75 423.382 1514.34 Q426.345 1511.93 431.484 1511.93 Q436.646 1511.93 439.585 1514.34 Q442.525 1516.75 442.525 1520.89 Q442.525 1523.86 440.835 1525.92 Q439.169 1527.98 436.183 1528.72 Q439.562 1529.5 441.437 1531.8 Q443.335 1534.09 443.335 1537.4 Q443.335 1542.42 440.257 1545.11 Q437.201 1547.79 431.484 1547.79 Q425.766 1547.79 422.687 1545.11 Q419.632 1542.42 419.632 1537.4 Q419.632 1534.09 421.53 1531.8 Q423.428 1529.5 426.808 1528.72 M425.095 1521.33 Q425.095 1524.02 426.761 1525.52 Q428.451 1527.03 431.484 1527.03 Q434.493 1527.03 436.183 1525.52 Q437.896 1524.02 437.896 1521.33 Q437.896 1518.65 436.183 1517.14 Q434.493 1515.64 431.484 1515.64 Q428.451 1515.64 426.761 1517.14 Q425.095 1518.65 425.095 1521.33 Z\" fill=\"#000000\" fill-rule=\"evenodd\" fill-opacity=\"1\" /><path clip-path=\"url(#clip830)\" d=\"M 0 0 M424.594 1515.64 Q420.983 1515.64 419.154 1519.2 Q417.349 1522.75 417.349 1529.87 Q417.349 1536.98 419.154 1540.55 Q420.983 1544.09 424.594 1544.09 Q428.229 1544.09 430.034 1540.55 Q431.863 1536.98 431.863 1529.87 Q431.863 1522.75 430.034 1519.2 Q428.229 1515.64 424.594 1515.64 M424.594 1511.93 Q430.404 1511.93 433.46 1516.54 Q436.539 1521.12 436.539 1529.87 Q436.539 1538.6 433.46 1543.21 Q430.404 1547.79 424.594 1547.79 Q418.784 1547.79 415.705 1543.21 Q412.65 1538.6 412.65 1529.87 Q412.65 1521.12 415.705 1516.54 Q418.784 1511.93 424.594 1511.93 Z\" fill=\"#000000\" fill-rule=\"evenodd\" fill-opacity=\"1\" /><path clip-path=\"url(#clip830)\" d=\"M 0 0 M441.608 1541.24 L446.492 1541.24 L446.492 1547.12 L441.608 1547.12 L441.608 1541.24 Z\" fill=\"#000000\" fill-rule=\"evenodd\" fill-opacity=\"1\" /><path clip-path=\"url(#clip830)\" d=\"M 0 0 M450.381 1512.56 L472.603 1512.56 L472.603 1514.55 L460.057 1547.12 L455.173 1547.12 L466.978 1516.5 L450.381 1516.5 L450.381 1512.56 Z\" fill=\"#000000\" fill-rule=\"evenodd\" fill-opacity=\"1\" /><path clip-path=\"url(#clip830)\" d=\"M 0 0 M477.719 1512.56 L496.075 1512.56 L496.075 1516.5 L482.001 1516.5 L482.001 1524.97 Q483.02 1524.62 484.038 1524.46 Q485.057 1524.27 486.075 1524.27 Q491.862 1524.27 495.242 1527.44 Q498.622 1530.62 498.622 1536.03 Q498.622 1541.61 495.149 1544.71 Q491.677 1547.79 485.358 1547.79 Q483.182 1547.79 480.913 1547.42 Q478.668 1547.05 476.261 1546.31 L476.261 1541.61 Q478.344 1542.74 480.566 1543.3 Q482.788 1543.86 485.265 1543.86 Q489.27 1543.86 491.608 1541.75 Q493.946 1539.64 493.946 1536.03 Q493.946 1532.42 491.608 1530.31 Q489.27 1528.21 485.265 1528.21 Q483.39 1528.21 481.515 1528.62 Q479.663 1529.04 477.719 1529.92 L477.719 1512.56 Z\" fill=\"#000000\" fill-rule=\"evenodd\" fill-opacity=\"1\" /><path clip-path=\"url(#clip830)\" d=\"M 0 0 M503.83 1546.4 L503.83 1542.14 Q505.589 1542.98 507.395 1543.42 Q509.2 1543.86 510.936 1543.86 Q515.566 1543.86 517.997 1540.75 Q520.45 1537.63 520.797 1531.29 Q519.455 1533.28 517.395 1534.34 Q515.335 1535.41 512.835 1535.41 Q507.649 1535.41 504.617 1532.28 Q501.608 1529.13 501.608 1523.69 Q501.608 1518.37 504.756 1515.15 Q507.904 1511.93 513.135 1511.93 Q519.131 1511.93 522.279 1516.54 Q525.45 1521.12 525.45 1529.87 Q525.45 1538.05 521.561 1542.93 Q517.696 1547.79 511.145 1547.79 Q509.385 1547.79 507.58 1547.44 Q505.774 1547.1 503.83 1546.4 M513.135 1531.75 Q516.284 1531.75 518.112 1529.6 Q519.964 1527.44 519.964 1523.69 Q519.964 1519.97 518.112 1517.81 Q516.284 1515.64 513.135 1515.64 Q509.987 1515.64 508.135 1517.81 Q506.307 1519.97 506.307 1523.69 Q506.307 1527.44 508.135 1529.6 Q509.987 1531.75 513.135 1531.75 Z\" fill=\"#000000\" fill-rule=\"evenodd\" fill-opacity=\"1\" /><path clip-path=\"url(#clip830)\" d=\"M 0 0 M540.52 1515.64 Q536.908 1515.64 535.08 1519.2 Q533.274 1522.75 533.274 1529.87 Q533.274 1536.98 535.08 1540.55 Q536.908 1544.09 540.52 1544.09 Q544.154 1544.09 545.959 1540.55 Q547.788 1536.98 547.788 1529.87 Q547.788 1522.75 545.959 1519.2 Q544.154 1515.64 540.52 1515.64 M540.52 1511.93 Q546.33 1511.93 549.385 1516.54 Q552.464 1521.12 552.464 1529.87 Q552.464 1538.6 549.385 1543.21 Q546.33 1547.79 540.52 1547.79 Q534.709 1547.79 531.631 1543.21 Q528.575 1538.6 528.575 1529.87 Q528.575 1521.12 531.631 1516.54 Q534.709 1511.93 540.52 1511.93 Z\" fill=\"#000000\" fill-rule=\"evenodd\" fill-opacity=\"1\" /><path clip-path=\"url(#clip830)\" d=\"M 0 0 M534.521 1515.64 Q530.91 1515.64 529.082 1519.2 Q527.276 1522.75 527.276 1529.87 Q527.276 1536.98 529.082 1540.55 Q530.91 1544.09 534.521 1544.09 Q538.156 1544.09 539.961 1540.55 Q541.79 1536.98 541.79 1529.87 Q541.79 1522.75 539.961 1519.2 Q538.156 1515.64 534.521 1515.64 M534.521 1511.93 Q540.332 1511.93 543.387 1516.54 Q546.466 1521.12 546.466 1529.87 Q546.466 1538.6 543.387 1543.21 Q540.332 1547.79 534.521 1547.79 Q528.711 1547.79 525.633 1543.21 Q522.577 1538.6 522.577 1529.87 Q522.577 1521.12 525.633 1516.54 Q528.711 1511.93 534.521 1511.93 Z\" fill=\"#000000\" fill-rule=\"evenodd\" fill-opacity=\"1\" /><path clip-path=\"url(#clip830)\" d=\"M 0 0 M551.535 1541.24 L556.419 1541.24 L556.419 1547.12 L551.535 1547.12 L551.535 1541.24 Z\" fill=\"#000000\" fill-rule=\"evenodd\" fill-opacity=\"1\" /><path clip-path=\"url(#clip830)\" d=\"M 0 0 M560.308 1512.56 L582.53 1512.56 L582.53 1514.55 L569.984 1547.12 L565.1 1547.12 L576.905 1516.5 L560.308 1516.5 L560.308 1512.56 Z\" fill=\"#000000\" fill-rule=\"evenodd\" fill-opacity=\"1\" /><path clip-path=\"url(#clip830)\" d=\"M 0 0 M587.646 1512.56 L606.002 1512.56 L606.002 1516.5 L591.928 1516.5 L591.928 1524.97 Q592.947 1524.62 593.965 1524.46 Q594.984 1524.27 596.003 1524.27 Q601.79 1524.27 605.169 1527.44 Q608.549 1530.62 608.549 1536.03 Q608.549 1541.61 605.077 1544.71 Q601.604 1547.79 595.285 1547.79 Q593.109 1547.79 590.84 1547.42 Q588.595 1547.05 586.188 1546.31 L586.188 1541.61 Q588.271 1542.74 590.493 1543.3 Q592.715 1543.86 595.192 1543.86 Q599.197 1543.86 601.535 1541.75 Q603.873 1539.64 603.873 1536.03 Q603.873 1532.42 601.535 1530.31 Q599.197 1528.21 595.192 1528.21 Q593.317 1528.21 591.442 1528.62 Q589.591 1529.04 587.646 1529.92 L587.646 1512.56 Z\" fill=\"#000000\" fill-rule=\"evenodd\" fill-opacity=\"1\" /><path clip-path=\"url(#clip830)\" d=\"M 0 0 M613.757 1546.4 L613.757 1542.14 Q615.516 1542.98 617.322 1543.42 Q619.127 1543.86 620.863 1543.86 Q625.493 1543.86 627.924 1540.75 Q630.377 1537.63 630.725 1531.29 Q629.382 1533.28 627.322 1534.34 Q625.262 1535.41 622.762 1535.41 Q617.576 1535.41 614.544 1532.28 Q611.535 1529.13 611.535 1523.69 Q611.535 1518.37 614.683 1515.15 Q617.831 1511.93 623.063 1511.93 Q629.058 1511.93 632.206 1516.54 Q635.377 1521.12 635.377 1529.87 Q635.377 1538.05 631.488 1542.93 Q627.623 1547.79 621.072 1547.79 Q619.313 1547.79 617.507 1547.44 Q615.701 1547.1 613.757 1546.4 M623.063 1531.75 Q626.211 1531.75 628.039 1529.6 Q629.891 1527.44 629.891 1523.69 Q629.891 1519.97 628.039 1517.81 Q626.211 1515.64 623.063 1515.64 Q619.914 1515.64 618.063 1517.81 Q616.234 1519.97 616.234 1523.69 Q616.234 1527.44 618.063 1529.6 Q619.914 1531.75 623.063 1531.75 Z\" fill=\"#000000\" fill-rule=\"evenodd\" fill-opacity=\"1\" /><path clip-path=\"url(#clip830)\" d=\"M 0 0 M644.474 1543.18 L660.794 1543.18 L660.794 1547.12 L638.85 1547.12 L638.85 1543.18 Q641.512 1540.43 646.095 1535.8 Q650.701 1531.15 651.882 1529.81 Q654.127 1527.28 655.007 1525.55 Q655.91 1523.79 655.91 1522.1 Q655.91 1519.34 653.965 1517.61 Q652.044 1515.87 648.942 1515.87 Q646.743 1515.87 644.289 1516.63 Q641.859 1517.4 639.081 1518.95 L639.081 1514.23 Q641.905 1513.09 644.359 1512.51 Q646.812 1511.93 648.849 1511.93 Q654.22 1511.93 657.414 1514.62 Q660.609 1517.31 660.609 1521.8 Q660.609 1523.93 659.798 1525.85 Q659.011 1527.74 656.905 1530.34 Q656.326 1531.01 653.224 1534.23 Q650.123 1537.42 644.474 1543.18 Z\" fill=\"#000000\" fill-rule=\"evenodd\" fill-opacity=\"1\" /><path clip-path=\"url(#clip830)\" d=\"M 0 0 M642.608 1515.64 Q638.997 1515.64 637.168 1519.2 Q635.363 1522.75 635.363 1529.87 Q635.363 1536.98 637.168 1540.55 Q638.997 1544.09 642.608 1544.09 Q646.242 1544.09 648.048 1540.55 Q649.877 1536.98 649.877 1529.87 Q649.877 1522.75 648.048 1519.2 Q646.242 1515.64 642.608 1515.64 M642.608 1511.93 Q648.418 1511.93 651.474 1516.54 Q654.553 1521.12 654.553 1529.87 Q654.553 1538.6 651.474 1543.21 Q648.418 1547.79 642.608 1547.79 Q636.798 1547.79 633.719 1543.21 Q630.664 1538.6 630.664 1529.87 Q630.664 1521.12 633.719 1516.54 Q636.798 1511.93 642.608 1511.93 Z\" fill=\"#000000\" fill-rule=\"evenodd\" fill-opacity=\"1\" /><path clip-path=\"url(#clip830)\" d=\"M 0 0 M659.622 1541.24 L664.506 1541.24 L664.506 1547.12 L659.622 1547.12 L659.622 1541.24 Z\" fill=\"#000000\" fill-rule=\"evenodd\" fill-opacity=\"1\" /><path clip-path=\"url(#clip830)\" d=\"M 0 0 M668.395 1512.56 L690.617 1512.56 L690.617 1514.55 L678.071 1547.12 L673.187 1547.12 L684.992 1516.5 L668.395 1516.5 L668.395 1512.56 Z\" fill=\"#000000\" fill-rule=\"evenodd\" fill-opacity=\"1\" /><path clip-path=\"url(#clip830)\" d=\"M 0 0 M695.733 1512.56 L714.089 1512.56 L714.089 1516.5 L700.015 1516.5 L700.015 1524.97 Q701.034 1524.62 702.052 1524.46 Q703.071 1524.27 704.089 1524.27 Q709.876 1524.27 713.256 1527.44 Q716.636 1530.62 716.636 1536.03 Q716.636 1541.61 713.163 1544.71 Q709.691 1547.79 703.372 1547.79 Q701.196 1547.79 698.927 1547.42 Q696.682 1547.05 694.275 1546.31 L694.275 1541.61 Q696.358 1542.74 698.58 1543.3 Q700.802 1543.86 703.279 1543.86 Q707.284 1543.86 709.622 1541.75 Q711.96 1539.64 711.96 1536.03 Q711.96 1532.42 709.622 1530.31 Q707.284 1528.21 703.279 1528.21 Q701.404 1528.21 699.529 1528.62 Q697.677 1529.04 695.733 1529.92 L695.733 1512.56 Z\" fill=\"#000000\" fill-rule=\"evenodd\" fill-opacity=\"1\" /><path clip-path=\"url(#clip830)\" d=\"M 0 0 M721.844 1546.4 L721.844 1542.14 Q723.603 1542.98 725.409 1543.42 Q727.214 1543.86 728.95 1543.86 Q733.58 1543.86 736.01 1540.75 Q738.464 1537.63 738.811 1531.29 Q737.469 1533.28 735.409 1534.34 Q733.348 1535.41 730.848 1535.41 Q725.663 1535.41 722.631 1532.28 Q719.622 1529.13 719.622 1523.69 Q719.622 1518.37 722.77 1515.15 Q725.918 1511.93 731.149 1511.93 Q737.145 1511.93 740.293 1516.54 Q743.464 1521.12 743.464 1529.87 Q743.464 1538.05 739.575 1542.93 Q735.71 1547.79 729.159 1547.79 Q727.399 1547.79 725.594 1547.44 Q723.788 1547.1 721.844 1546.4 M731.149 1531.75 Q734.297 1531.75 736.126 1529.6 Q737.978 1527.44 737.978 1523.69 Q737.978 1519.97 736.126 1517.81 Q734.297 1515.64 731.149 1515.64 Q728.001 1515.64 726.149 1517.81 Q724.321 1519.97 724.321 1523.69 Q724.321 1527.44 726.149 1529.6 Q728.001 1531.75 731.149 1531.75 Z\" fill=\"#000000\" fill-rule=\"evenodd\" fill-opacity=\"1\" /><path clip-path=\"url(#clip830)\" d=\"M 0 0 M761.381 1516.63 L749.575 1535.08 L761.381 1535.08 L761.381 1516.63 M760.154 1512.56 L766.033 1512.56 L766.033 1535.08 L770.964 1535.08 L770.964 1538.97 L766.033 1538.97 L766.033 1547.12 L761.381 1547.12 L761.381 1538.97 L745.779 1538.97 L745.779 1534.46 L760.154 1512.56 Z\" fill=\"#000000\" fill-rule=\"evenodd\" fill-opacity=\"1\" /><path clip-path=\"url(#clip830)\" d=\"M 0 0 M751.899 1515.64 Q748.288 1515.64 746.459 1519.2 Q744.653 1522.75 744.653 1529.87 Q744.653 1536.98 746.459 1540.55 Q748.288 1544.09 751.899 1544.09 Q755.533 1544.09 757.338 1540.55 Q759.167 1536.98 759.167 1529.87 Q759.167 1522.75 757.338 1519.2 Q755.533 1515.64 751.899 1515.64 M751.899 1511.93 Q757.709 1511.93 760.764 1516.54 Q763.843 1521.12 763.843 1529.87 Q763.843 1538.6 760.764 1543.21 Q757.709 1547.79 751.899 1547.79 Q746.089 1547.79 743.01 1543.21 Q739.954 1538.6 739.954 1529.87 Q739.954 1521.12 743.01 1516.54 Q746.089 1511.93 751.899 1511.93 Z\" fill=\"#000000\" fill-rule=\"evenodd\" fill-opacity=\"1\" /><path clip-path=\"url(#clip830)\" d=\"M 0 0 M768.912 1541.24 L773.797 1541.24 L773.797 1547.12 L768.912 1547.12 L768.912 1541.24 Z\" fill=\"#000000\" fill-rule=\"evenodd\" fill-opacity=\"1\" /><path clip-path=\"url(#clip830)\" d=\"M 0 0 M777.686 1512.56 L799.908 1512.56 L799.908 1514.55 L787.361 1547.12 L782.477 1547.12 L794.283 1516.5 L777.686 1516.5 L777.686 1512.56 Z\" fill=\"#000000\" fill-rule=\"evenodd\" fill-opacity=\"1\" /><path clip-path=\"url(#clip830)\" d=\"M 0 0 M805.023 1512.56 L823.38 1512.56 L823.38 1516.5 L809.306 1516.5 L809.306 1524.97 Q810.324 1524.62 811.343 1524.46 Q812.361 1524.27 813.38 1524.27 Q819.167 1524.27 822.546 1527.44 Q825.926 1530.62 825.926 1536.03 Q825.926 1541.61 822.454 1544.71 Q818.982 1547.79 812.662 1547.79 Q810.486 1547.79 808.218 1547.42 Q805.972 1547.05 803.565 1546.31 L803.565 1541.61 Q805.648 1542.74 807.871 1543.3 Q810.093 1543.86 812.57 1543.86 Q816.574 1543.86 818.912 1541.75 Q821.25 1539.64 821.25 1536.03 Q821.25 1532.42 818.912 1530.31 Q816.574 1528.21 812.57 1528.21 Q810.695 1528.21 808.82 1528.62 Q806.968 1529.04 805.023 1529.92 L805.023 1512.56 Z\" fill=\"#000000\" fill-rule=\"evenodd\" fill-opacity=\"1\" /><path clip-path=\"url(#clip830)\" d=\"M 0 0 M831.134 1546.4 L831.134 1542.14 Q832.894 1542.98 834.699 1543.42 Q836.505 1543.86 838.241 1543.86 Q842.87 1543.86 845.301 1540.75 Q847.755 1537.63 848.102 1531.29 Q846.759 1533.28 844.699 1534.34 Q842.639 1535.41 840.139 1535.41 Q834.954 1535.41 831.921 1532.28 Q828.912 1529.13 828.912 1523.69 Q828.912 1518.37 832.06 1515.15 Q835.208 1511.93 840.44 1511.93 Q846.435 1511.93 849.583 1516.54 Q852.755 1521.12 852.755 1529.87 Q852.755 1538.05 848.866 1542.93 Q845 1547.79 838.449 1547.79 Q836.69 1547.79 834.884 1547.44 Q833.079 1547.1 831.134 1546.4 M840.44 1531.75 Q843.588 1531.75 845.417 1529.6 Q847.269 1527.44 847.269 1523.69 Q847.269 1519.97 845.417 1517.81 Q843.588 1515.64 840.44 1515.64 Q837.292 1515.64 835.44 1517.81 Q833.611 1519.97 833.611 1523.69 Q833.611 1527.44 835.44 1529.6 Q837.292 1531.75 840.44 1531.75 Z\" fill=\"#000000\" fill-rule=\"evenodd\" fill-opacity=\"1\" /><path clip-path=\"url(#clip830)\" d=\"M 0 0 M868.403 1527.98 Q865.255 1527.98 863.403 1530.13 Q861.574 1532.28 861.574 1536.03 Q861.574 1539.76 863.403 1541.93 Q865.255 1544.09 868.403 1544.09 Q871.551 1544.09 873.38 1541.93 Q875.231 1539.76 875.231 1536.03 Q875.231 1532.28 873.38 1530.13 Q871.551 1527.98 868.403 1527.98 M877.685 1513.32 L877.685 1517.58 Q875.926 1516.75 874.12 1516.31 Q872.338 1515.87 870.579 1515.87 Q865.949 1515.87 863.495 1519 Q861.065 1522.12 860.718 1528.44 Q862.083 1526.43 864.143 1525.36 Q866.204 1524.27 868.68 1524.27 Q873.889 1524.27 876.898 1527.44 Q879.93 1530.59 879.93 1536.03 Q879.93 1541.36 876.782 1544.57 Q873.634 1547.79 868.403 1547.79 Q862.407 1547.79 859.236 1543.21 Q856.065 1538.6 856.065 1529.87 Q856.065 1521.68 859.954 1516.82 Q863.843 1511.93 870.393 1511.93 Q872.153 1511.93 873.935 1512.28 Q875.741 1512.63 877.685 1513.32 Z\" fill=\"#000000\" fill-rule=\"evenodd\" fill-opacity=\"1\" /><path clip-path=\"url(#clip830)\" d=\"M 0 0 M861.154 1515.64 Q857.543 1515.64 855.715 1519.2 Q853.909 1522.75 853.909 1529.87 Q853.909 1536.98 855.715 1540.55 Q857.543 1544.09 861.154 1544.09 Q864.789 1544.09 866.594 1540.55 Q868.423 1536.98 868.423 1529.87 Q868.423 1522.75 866.594 1519.2 Q864.789 1515.64 861.154 1515.64 M861.154 1511.93 Q866.965 1511.93 870.02 1516.54 Q873.099 1521.12 873.099 1529.87 Q873.099 1538.6 870.02 1543.21 Q866.965 1547.79 861.154 1547.79 Q855.344 1547.79 852.266 1543.21 Q849.21 1538.6 849.21 1529.87 Q849.21 1521.12 852.266 1516.54 Q855.344 1511.93 861.154 1511.93 Z\" fill=\"#000000\" fill-rule=\"evenodd\" fill-opacity=\"1\" /><path clip-path=\"url(#clip830)\" d=\"M 0 0 M878.168 1541.24 L883.053 1541.24 L883.053 1547.12 L878.168 1547.12 L878.168 1541.24 Z\" fill=\"#000000\" fill-rule=\"evenodd\" fill-opacity=\"1\" /><path clip-path=\"url(#clip830)\" d=\"M 0 0 M886.941 1512.56 L909.163 1512.56 L909.163 1514.55 L896.617 1547.12 L891.733 1547.12 L903.539 1516.5 L886.941 1516.5 L886.941 1512.56 Z\" fill=\"#000000\" fill-rule=\"evenodd\" fill-opacity=\"1\" /><path clip-path=\"url(#clip830)\" d=\"M 0 0 M914.279 1512.56 L932.636 1512.56 L932.636 1516.5 L918.562 1516.5 L918.562 1524.97 Q919.58 1524.62 920.599 1524.46 Q921.617 1524.27 922.636 1524.27 Q928.423 1524.27 931.802 1527.44 Q935.182 1530.62 935.182 1536.03 Q935.182 1541.61 931.71 1544.71 Q928.237 1547.79 921.918 1547.79 Q919.742 1547.79 917.474 1547.42 Q915.228 1547.05 912.821 1546.31 L912.821 1541.61 Q914.904 1542.74 917.126 1543.3 Q919.349 1543.86 921.825 1543.86 Q925.83 1543.86 928.168 1541.75 Q930.506 1539.64 930.506 1536.03 Q930.506 1532.42 928.168 1530.31 Q925.83 1528.21 921.825 1528.21 Q919.95 1528.21 918.075 1528.62 Q916.224 1529.04 914.279 1529.92 L914.279 1512.56 Z\" fill=\"#000000\" fill-rule=\"evenodd\" fill-opacity=\"1\" /><path clip-path=\"url(#clip830)\" d=\"M 0 0 M940.39 1546.4 L940.39 1542.14 Q942.149 1542.98 943.955 1543.42 Q945.761 1543.86 947.497 1543.86 Q952.126 1543.86 954.557 1540.75 Q957.01 1537.63 957.358 1531.29 Q956.015 1533.28 953.955 1534.34 Q951.895 1535.41 949.395 1535.41 Q944.21 1535.41 941.177 1532.28 Q938.168 1529.13 938.168 1523.69 Q938.168 1518.37 941.316 1515.15 Q944.464 1511.93 949.696 1511.93 Q955.691 1511.93 958.839 1516.54 Q962.01 1521.12 962.01 1529.87 Q962.01 1538.05 958.122 1542.93 Q954.256 1547.79 947.705 1547.79 Q945.946 1547.79 944.14 1547.44 Q942.335 1547.1 940.39 1546.4 M949.696 1531.75 Q952.844 1531.75 954.673 1529.6 Q956.524 1527.44 956.524 1523.69 Q956.524 1519.97 954.673 1517.81 Q952.844 1515.64 949.696 1515.64 Q946.548 1515.64 944.696 1517.81 Q942.867 1519.97 942.867 1523.69 Q942.867 1527.44 944.696 1529.6 Q946.548 1531.75 949.696 1531.75 Z\" fill=\"#000000\" fill-rule=\"evenodd\" fill-opacity=\"1\" /><path clip-path=\"url(#clip830)\" d=\"M 0 0 M977.08 1530.71 Q973.746 1530.71 971.825 1532.49 Q969.927 1534.27 969.927 1537.4 Q969.927 1540.52 971.825 1542.31 Q973.746 1544.09 977.08 1544.09 Q980.413 1544.09 982.334 1542.31 Q984.256 1540.5 984.256 1537.4 Q984.256 1534.27 982.334 1532.49 Q980.436 1530.71 977.08 1530.71 M972.404 1528.72 Q969.395 1527.98 967.705 1525.92 Q966.038 1523.86 966.038 1520.89 Q966.038 1516.75 968.978 1514.34 Q971.941 1511.93 977.08 1511.93 Q982.242 1511.93 985.182 1514.34 Q988.121 1516.75 988.121 1520.89 Q988.121 1523.86 986.432 1525.92 Q984.765 1527.98 981.779 1528.72 Q985.158 1529.5 987.033 1531.8 Q988.932 1534.09 988.932 1537.4 Q988.932 1542.42 985.853 1545.11 Q982.797 1547.79 977.08 1547.79 Q971.362 1547.79 968.284 1545.11 Q965.228 1542.42 965.228 1537.4 Q965.228 1534.09 967.126 1531.8 Q969.024 1529.5 972.404 1528.72 M970.691 1521.33 Q970.691 1524.02 972.358 1525.52 Q974.047 1527.03 977.08 1527.03 Q980.089 1527.03 981.779 1525.52 Q983.492 1524.02 983.492 1521.33 Q983.492 1518.65 981.779 1517.14 Q980.089 1515.64 977.08 1515.64 Q974.047 1515.64 972.358 1517.14 Q970.691 1518.65 970.691 1521.33 Z\" fill=\"#000000\" fill-rule=\"evenodd\" fill-opacity=\"1\" /><path clip-path=\"url(#clip830)\" d=\"M 0 0 M969.565 1515.64 Q965.954 1515.64 964.126 1519.2 Q962.32 1522.75 962.32 1529.87 Q962.32 1536.98 964.126 1540.55 Q965.954 1544.09 969.565 1544.09 Q973.2 1544.09 975.005 1540.55 Q976.834 1536.98 976.834 1529.87 Q976.834 1522.75 975.005 1519.2 Q973.2 1515.64 969.565 1515.64 M969.565 1511.93 Q975.376 1511.93 978.431 1516.54 Q981.51 1521.12 981.51 1529.87 Q981.51 1538.6 978.431 1543.21 Q975.376 1547.79 969.565 1547.79 Q963.755 1547.79 960.677 1543.21 Q957.621 1538.6 957.621 1529.87 Q957.621 1521.12 960.677 1516.54 Q963.755 1511.93 969.565 1511.93 Z\" fill=\"#000000\" fill-rule=\"evenodd\" fill-opacity=\"1\" /><path clip-path=\"url(#clip830)\" d=\"M 0 0 M986.579 1541.24 L991.463 1541.24 L991.463 1547.12 L986.579 1547.12 L986.579 1541.24 Z\" fill=\"#000000\" fill-rule=\"evenodd\" fill-opacity=\"1\" /><path clip-path=\"url(#clip830)\" d=\"M 0 0 M995.352 1512.56 L1017.57 1512.56 L1017.57 1514.55 L1005.03 1547.12 L1000.14 1547.12 L1011.95 1516.5 L995.352 1516.5 L995.352 1512.56 Z\" fill=\"#000000\" fill-rule=\"evenodd\" fill-opacity=\"1\" /><path clip-path=\"url(#clip830)\" d=\"M 0 0 M1033.22 1527.98 Q1030.07 1527.98 1028.22 1530.13 Q1026.39 1532.28 1026.39 1536.03 Q1026.39 1539.76 1028.22 1541.93 Q1030.07 1544.09 1033.22 1544.09 Q1036.37 1544.09 1038.2 1541.93 Q1040.05 1539.76 1040.05 1536.03 Q1040.05 1532.28 1038.2 1530.13 Q1036.37 1527.98 1033.22 1527.98 M1042.5 1513.32 L1042.5 1517.58 Q1040.75 1516.75 1038.94 1516.31 Q1037.16 1515.87 1035.4 1515.87 Q1030.77 1515.87 1028.32 1519 Q1025.88 1522.12 1025.54 1528.44 Q1026.9 1526.43 1028.96 1525.36 Q1031.02 1524.27 1033.5 1524.27 Q1038.71 1524.27 1041.72 1527.44 Q1044.75 1530.59 1044.75 1536.03 Q1044.75 1541.36 1041.6 1544.57 Q1038.45 1547.79 1033.22 1547.79 Q1027.23 1547.79 1024.06 1543.21 Q1020.88 1538.6 1020.88 1529.87 Q1020.88 1521.68 1024.77 1516.82 Q1028.66 1511.93 1035.21 1511.93 Q1036.97 1511.93 1038.75 1512.28 Q1040.56 1512.63 1042.5 1513.32 Z\" fill=\"#000000\" fill-rule=\"evenodd\" fill-opacity=\"1\" /><path clip-path=\"url(#clip830)\" d=\"M 0 0 M1059.82 1515.64 Q1056.21 1515.64 1054.38 1519.2 Q1052.57 1522.75 1052.57 1529.87 Q1052.57 1536.98 1054.38 1540.55 Q1056.21 1544.09 1059.82 1544.09 Q1063.45 1544.09 1065.26 1540.55 Q1067.09 1536.98 1067.09 1529.87 Q1067.09 1522.75 1065.26 1519.2 Q1063.45 1515.64 1059.82 1515.64 M1059.82 1511.93 Q1065.63 1511.93 1068.69 1516.54 Q1071.76 1521.12 1071.76 1529.87 Q1071.76 1538.6 1068.69 1543.21 Q1065.63 1547.79 1059.82 1547.79 Q1054.01 1547.79 1050.93 1543.21 Q1047.88 1538.6 1047.88 1529.87 Q1047.88 1521.12 1050.93 1516.54 Q1054.01 1511.93 1059.82 1511.93 Z\" fill=\"#000000\" fill-rule=\"evenodd\" fill-opacity=\"1\" /><path clip-path=\"url(#clip830)\" d=\"M 0 0 M1086.83 1515.64 Q1083.22 1515.64 1081.39 1519.2 Q1079.59 1522.75 1079.59 1529.87 Q1079.59 1536.98 1081.39 1540.55 Q1083.22 1544.09 1086.83 1544.09 Q1090.47 1544.09 1092.27 1540.55 Q1094.1 1536.98 1094.1 1529.87 Q1094.1 1522.75 1092.27 1519.2 Q1090.47 1515.64 1086.83 1515.64 M1086.83 1511.93 Q1092.64 1511.93 1095.7 1516.54 Q1098.78 1521.12 1098.78 1529.87 Q1098.78 1538.6 1095.7 1543.21 Q1092.64 1547.79 1086.83 1547.79 Q1081.02 1547.79 1077.94 1543.21 Q1074.89 1538.6 1074.89 1529.87 Q1074.89 1521.12 1077.94 1516.54 Q1081.02 1511.93 1086.83 1511.93 Z\" fill=\"#000000\" fill-rule=\"evenodd\" fill-opacity=\"1\" /><path clip-path=\"url(#clip830)\" d=\"M 0 0 M1079.49 1515.64 Q1075.88 1515.64 1074.05 1519.2 Q1072.25 1522.75 1072.25 1529.87 Q1072.25 1536.98 1074.05 1540.55 Q1075.88 1544.09 1079.49 1544.09 Q1083.13 1544.09 1084.93 1540.55 Q1086.76 1536.98 1086.76 1529.87 Q1086.76 1522.75 1084.93 1519.2 Q1083.13 1515.64 1079.49 1515.64 M1079.49 1511.93 Q1085.3 1511.93 1088.36 1516.54 Q1091.44 1521.12 1091.44 1529.87 Q1091.44 1538.6 1088.36 1543.21 Q1085.3 1547.79 1079.49 1547.79 Q1073.68 1547.79 1070.6 1543.21 Q1067.55 1538.6 1067.55 1529.87 Q1067.55 1521.12 1070.6 1516.54 Q1073.68 1511.93 1079.49 1511.93 Z\" fill=\"#000000\" fill-rule=\"evenodd\" fill-opacity=\"1\" /><path clip-path=\"url(#clip830)\" d=\"M 0 0 M1096.51 1541.24 L1101.39 1541.24 L1101.39 1547.12 L1096.51 1547.12 L1096.51 1541.24 Z\" fill=\"#000000\" fill-rule=\"evenodd\" fill-opacity=\"1\" /><path clip-path=\"url(#clip830)\" d=\"M 0 0 M1105.28 1512.56 L1127.5 1512.56 L1127.5 1514.55 L1114.96 1547.12 L1110.07 1547.12 L1121.88 1516.5 L1105.28 1516.5 L1105.28 1512.56 Z\" fill=\"#000000\" fill-rule=\"evenodd\" fill-opacity=\"1\" /><path clip-path=\"url(#clip830)\" d=\"M 0 0 M1143.15 1527.98 Q1140 1527.98 1138.15 1530.13 Q1136.32 1532.28 1136.32 1536.03 Q1136.32 1539.76 1138.15 1541.93 Q1140 1544.09 1143.15 1544.09 Q1146.3 1544.09 1148.13 1541.93 Q1149.98 1539.76 1149.98 1536.03 Q1149.98 1532.28 1148.13 1530.13 Q1146.3 1527.98 1143.15 1527.98 M1152.43 1513.32 L1152.43 1517.58 Q1150.67 1516.75 1148.87 1516.31 Q1147.08 1515.87 1145.33 1515.87 Q1140.7 1515.87 1138.24 1519 Q1135.81 1522.12 1135.46 1528.44 Q1136.83 1526.43 1138.89 1525.36 Q1140.95 1524.27 1143.43 1524.27 Q1148.64 1524.27 1151.64 1527.44 Q1154.68 1530.59 1154.68 1536.03 Q1154.68 1541.36 1151.53 1544.57 Q1148.38 1547.79 1143.15 1547.79 Q1137.15 1547.79 1133.98 1543.21 Q1130.81 1538.6 1130.81 1529.87 Q1130.81 1521.68 1134.7 1516.82 Q1138.59 1511.93 1145.14 1511.93 Q1146.9 1511.93 1148.68 1512.28 Q1150.49 1512.63 1152.43 1513.32 Z\" fill=\"#000000\" fill-rule=\"evenodd\" fill-opacity=\"1\" /><path clip-path=\"url(#clip830)\" d=\"M 0 0 M1169.75 1515.64 Q1166.14 1515.64 1164.31 1519.2 Q1162.5 1522.75 1162.5 1529.87 Q1162.5 1536.98 1164.31 1540.55 Q1166.14 1544.09 1169.75 1544.09 Q1173.38 1544.09 1175.19 1540.55 Q1177.02 1536.98 1177.02 1529.87 Q1177.02 1522.75 1175.19 1519.2 Q1173.38 1515.64 1169.75 1515.64 M1169.75 1511.93 Q1175.56 1511.93 1178.61 1516.54 Q1181.69 1521.12 1181.69 1529.87 Q1181.69 1538.6 1178.61 1543.21 Q1175.56 1547.79 1169.75 1547.79 Q1163.94 1547.79 1160.86 1543.21 Q1157.8 1538.6 1157.8 1529.87 Q1157.8 1521.12 1160.86 1516.54 Q1163.94 1511.93 1169.75 1511.93 Z\" fill=\"#000000\" fill-rule=\"evenodd\" fill-opacity=\"1\" /><path clip-path=\"url(#clip830)\" d=\"M 0 0 M1190.79 1543.18 L1207.11 1543.18 L1207.11 1547.12 L1185.16 1547.12 L1185.16 1543.18 Q1187.83 1540.43 1192.41 1535.8 Q1197.01 1531.15 1198.2 1529.81 Q1200.44 1527.28 1201.32 1525.55 Q1202.22 1523.79 1202.22 1522.1 Q1202.22 1519.34 1200.28 1517.61 Q1198.36 1515.87 1195.26 1515.87 Q1193.06 1515.87 1190.6 1516.63 Q1188.17 1517.4 1185.39 1518.95 L1185.39 1514.23 Q1188.22 1513.09 1190.67 1512.51 Q1193.13 1511.93 1195.16 1511.93 Q1200.53 1511.93 1203.73 1514.62 Q1206.92 1517.31 1206.92 1521.8 Q1206.92 1523.93 1206.11 1525.85 Q1205.33 1527.74 1203.22 1530.34 Q1202.64 1531.01 1199.54 1534.23 Q1196.44 1537.42 1190.79 1543.18 Z\" fill=\"#000000\" fill-rule=\"evenodd\" fill-opacity=\"1\" /><polyline clip-path=\"url(#clip834)\" style=\"stroke:#000000; stroke-width:2; stroke-opacity:0.1; fill:none\" points=\"\n",
       "  306.207,1468.33 1184.75,1468.33 \n",
       "  \"/>\n",
       "<polyline clip-path=\"url(#clip834)\" style=\"stroke:#000000; stroke-width:2; stroke-opacity:0.1; fill:none\" points=\"\n",
       "  306.207,1367.01 1184.75,1367.01 \n",
       "  \"/>\n",
       "<polyline clip-path=\"url(#clip834)\" style=\"stroke:#000000; stroke-width:2; stroke-opacity:0.1; fill:none\" points=\"\n",
       "  306.207,1265.69 1184.75,1265.69 \n",
       "  \"/>\n",
       "<polyline clip-path=\"url(#clip834)\" style=\"stroke:#000000; stroke-width:2; stroke-opacity:0.1; fill:none\" points=\"\n",
       "  306.207,1164.38 1184.75,1164.38 \n",
       "  \"/>\n",
       "<polyline clip-path=\"url(#clip834)\" style=\"stroke:#000000; stroke-width:2; stroke-opacity:0.1; fill:none\" points=\"\n",
       "  306.207,1063.06 1184.75,1063.06 \n",
       "  \"/>\n",
       "<polyline clip-path=\"url(#clip834)\" style=\"stroke:#000000; stroke-width:2; stroke-opacity:0.1; fill:none\" points=\"\n",
       "  306.207,961.745 1184.75,961.745 \n",
       "  \"/>\n",
       "<polyline clip-path=\"url(#clip830)\" style=\"stroke:#000000; stroke-width:4; stroke-opacity:1; fill:none\" points=\"\n",
       "  306.207,1486.45 306.207,923.472 \n",
       "  \"/>\n",
       "<polyline clip-path=\"url(#clip830)\" style=\"stroke:#000000; stroke-width:4; stroke-opacity:1; fill:none\" points=\"\n",
       "  306.207,1468.33 316.749,1468.33 \n",
       "  \"/>\n",
       "<polyline clip-path=\"url(#clip830)\" style=\"stroke:#000000; stroke-width:4; stroke-opacity:1; fill:none\" points=\"\n",
       "  306.207,1367.01 316.749,1367.01 \n",
       "  \"/>\n",
       "<polyline clip-path=\"url(#clip830)\" style=\"stroke:#000000; stroke-width:4; stroke-opacity:1; fill:none\" points=\"\n",
       "  306.207,1265.69 316.749,1265.69 \n",
       "  \"/>\n",
       "<polyline clip-path=\"url(#clip830)\" style=\"stroke:#000000; stroke-width:4; stroke-opacity:1; fill:none\" points=\"\n",
       "  306.207,1164.38 316.749,1164.38 \n",
       "  \"/>\n",
       "<polyline clip-path=\"url(#clip830)\" style=\"stroke:#000000; stroke-width:4; stroke-opacity:1; fill:none\" points=\"\n",
       "  306.207,1063.06 316.749,1063.06 \n",
       "  \"/>\n",
       "<polyline clip-path=\"url(#clip830)\" style=\"stroke:#000000; stroke-width:4; stroke-opacity:1; fill:none\" points=\"\n",
       "  306.207,961.745 316.749,961.745 \n",
       "  \"/>\n",
       "<path clip-path=\"url(#clip830)\" d=\"M 0 0 M90.3438 1472.91 Q87.1956 1472.91 85.3438 1475.06 Q83.5151 1477.22 83.5151 1480.97 Q83.5151 1484.69 85.3438 1486.87 Q87.1956 1489.02 90.3438 1489.02 Q93.4919 1489.02 95.3206 1486.87 Q97.1724 1484.69 97.1724 1480.97 Q97.1724 1477.22 95.3206 1475.06 Q93.4919 1472.91 90.3438 1472.91 M99.6261 1458.26 L99.6261 1462.52 Q97.8669 1461.69 96.0613 1461.25 Q94.2789 1460.81 92.5197 1460.81 Q87.8901 1460.81 85.4364 1463.93 Q83.0058 1467.06 82.6586 1473.37 Q84.0244 1471.36 86.0845 1470.3 Q88.1447 1469.21 90.6215 1469.21 Q95.8298 1469.21 98.8391 1472.38 Q101.871 1475.53 101.871 1480.97 Q101.871 1486.29 98.7234 1489.51 Q95.5752 1492.73 90.3438 1492.73 Q84.3484 1492.73 81.1771 1488.14 Q78.0059 1483.54 78.0059 1474.81 Q78.0059 1466.62 81.8947 1461.75 Q85.7836 1456.87 92.3345 1456.87 Q94.0937 1456.87 95.8761 1457.22 Q97.6817 1457.56 99.6261 1458.26 Z\" fill=\"#000000\" fill-rule=\"evenodd\" fill-opacity=\"1\" /><path clip-path=\"url(#clip830)\" d=\"M 0 0 M106.941 1486.18 L111.825 1486.18 L111.825 1492.06 L106.941 1492.06 L106.941 1486.18 Z\" fill=\"#000000\" fill-rule=\"evenodd\" fill-opacity=\"1\" /><path clip-path=\"url(#clip830)\" d=\"M 0 0 M126.894 1460.57 Q123.283 1460.57 121.455 1464.14 Q119.649 1467.68 119.649 1474.81 Q119.649 1481.92 121.455 1485.48 Q123.283 1489.02 126.894 1489.02 Q130.529 1489.02 132.334 1485.48 Q134.163 1481.92 134.163 1474.81 Q134.163 1467.68 132.334 1464.14 Q130.529 1460.57 126.894 1460.57 M126.894 1456.87 Q132.705 1456.87 135.76 1461.48 Q138.839 1466.06 138.839 1474.81 Q138.839 1483.54 135.76 1488.14 Q132.705 1492.73 126.894 1492.73 Q121.084 1492.73 118.006 1488.14 Q114.95 1483.54 114.95 1474.81 Q114.95 1466.06 118.006 1461.48 Q121.084 1456.87 126.894 1456.87 Z\" fill=\"#000000\" fill-rule=\"evenodd\" fill-opacity=\"1\" /><path clip-path=\"url(#clip830)\" d=\"M 0 0 M172.079 1466.59 L161.501 1477.22 L172.079 1487.8 L169.325 1490.6 L158.7 1479.97 L148.075 1490.6 L145.343 1487.8 L155.899 1477.22 L145.343 1466.59 L148.075 1463.79 L158.7 1474.42 L169.325 1463.79 L172.079 1466.59 Z\" fill=\"#000000\" fill-rule=\"evenodd\" fill-opacity=\"1\" /><path clip-path=\"url(#clip830)\" d=\"M 0 0 M177.959 1488.12 L185.598 1488.12 L185.598 1461.75 L177.288 1463.42 L177.288 1459.16 L185.552 1457.5 L190.227 1457.5 L190.227 1488.12 L197.866 1488.12 L197.866 1492.06 L177.959 1492.06 L177.959 1488.12 Z\" fill=\"#000000\" fill-rule=\"evenodd\" fill-opacity=\"1\" /><path clip-path=\"url(#clip830)\" d=\"M 0 0 M212.936 1460.57 Q209.325 1460.57 207.496 1464.14 Q205.69 1467.68 205.69 1474.81 Q205.69 1481.92 207.496 1485.48 Q209.325 1489.02 212.936 1489.02 Q216.57 1489.02 218.375 1485.48 Q220.204 1481.92 220.204 1474.81 Q220.204 1467.68 218.375 1464.14 Q216.57 1460.57 212.936 1460.57 M212.936 1456.87 Q218.746 1456.87 221.801 1461.48 Q224.88 1466.06 224.88 1474.81 Q224.88 1483.54 221.801 1488.14 Q218.746 1492.73 212.936 1492.73 Q207.126 1492.73 204.047 1488.14 Q200.991 1483.54 200.991 1474.81 Q200.991 1466.06 204.047 1461.48 Q207.126 1456.87 212.936 1456.87 Z\" fill=\"#000000\" fill-rule=\"evenodd\" fill-opacity=\"1\" /><path clip-path=\"url(#clip830)\" d=\"M 0 0 M224.88 1450.97 L248.992 1450.97 L248.992 1454.17 L224.88 1454.17 L224.88 1450.97 Z\" fill=\"#000000\" fill-rule=\"evenodd\" fill-opacity=\"1\" /><path clip-path=\"url(#clip830)\" d=\"M 0 0 M252.151 1436.56 L270.207 1436.56 L270.207 1438.18 L260.013 1464.64 L256.045 1464.64 L265.637 1439.76 L252.151 1439.76 L252.151 1436.56 Z\" fill=\"#000000\" fill-rule=\"evenodd\" fill-opacity=\"1\" /><path clip-path=\"url(#clip830)\" d=\"M 0 0 M79.6494 1356.18 L101.871 1356.18 L101.871 1358.17 L89.3253 1390.74 L84.441 1390.74 L96.2465 1360.11 L79.6494 1360.11 L79.6494 1356.18 Z\" fill=\"#000000\" fill-rule=\"evenodd\" fill-opacity=\"1\" /><path clip-path=\"url(#clip830)\" d=\"M 0 0 M106.941 1384.86 L111.825 1384.86 L111.825 1390.74 L106.941 1390.74 L106.941 1384.86 Z\" fill=\"#000000\" fill-rule=\"evenodd\" fill-opacity=\"1\" /><path clip-path=\"url(#clip830)\" d=\"M 0 0 M126.894 1359.26 Q123.283 1359.26 121.455 1362.82 Q119.649 1366.36 119.649 1373.49 Q119.649 1380.6 121.455 1384.16 Q123.283 1387.71 126.894 1387.71 Q130.529 1387.71 132.334 1384.16 Q134.163 1380.6 134.163 1373.49 Q134.163 1366.36 132.334 1362.82 Q130.529 1359.26 126.894 1359.26 M126.894 1355.55 Q132.705 1355.55 135.76 1360.16 Q138.839 1364.74 138.839 1373.49 Q138.839 1382.22 135.76 1386.83 Q132.705 1391.41 126.894 1391.41 Q121.084 1391.41 118.006 1386.83 Q114.95 1382.22 114.95 1373.49 Q114.95 1364.74 118.006 1360.16 Q121.084 1355.55 126.894 1355.55 Z\" fill=\"#000000\" fill-rule=\"evenodd\" fill-opacity=\"1\" /><path clip-path=\"url(#clip830)\" d=\"M 0 0 M172.079 1365.28 L161.501 1375.9 L172.079 1386.48 L169.325 1389.28 L158.7 1378.66 L148.075 1389.28 L145.343 1386.48 L155.899 1375.9 L145.343 1365.28 L148.075 1362.47 L158.7 1373.1 L169.325 1362.47 L172.079 1365.28 Z\" fill=\"#000000\" fill-rule=\"evenodd\" fill-opacity=\"1\" /><path clip-path=\"url(#clip830)\" d=\"M 0 0 M177.959 1386.8 L185.598 1386.8 L185.598 1360.44 L177.288 1362.1 L177.288 1357.85 L185.552 1356.18 L190.227 1356.18 L190.227 1386.8 L197.866 1386.8 L197.866 1390.74 L177.959 1390.74 L177.959 1386.8 Z\" fill=\"#000000\" fill-rule=\"evenodd\" fill-opacity=\"1\" /><path clip-path=\"url(#clip830)\" d=\"M 0 0 M212.936 1359.26 Q209.325 1359.26 207.496 1362.82 Q205.69 1366.36 205.69 1373.49 Q205.69 1380.6 207.496 1384.16 Q209.325 1387.71 212.936 1387.71 Q216.57 1387.71 218.375 1384.16 Q220.204 1380.6 220.204 1373.49 Q220.204 1366.36 218.375 1362.82 Q216.57 1359.26 212.936 1359.26 M212.936 1355.55 Q218.746 1355.55 221.801 1360.16 Q224.88 1364.74 224.88 1373.49 Q224.88 1382.22 221.801 1386.83 Q218.746 1391.41 212.936 1391.41 Q207.126 1391.41 204.047 1386.83 Q200.991 1382.22 200.991 1373.49 Q200.991 1364.74 204.047 1360.16 Q207.126 1355.55 212.936 1355.55 Z\" fill=\"#000000\" fill-rule=\"evenodd\" fill-opacity=\"1\" /><path clip-path=\"url(#clip830)\" d=\"M 0 0 M224.88 1349.66 L248.992 1349.66 L248.992 1352.85 L224.88 1352.85 L224.88 1349.66 Z\" fill=\"#000000\" fill-rule=\"evenodd\" fill-opacity=\"1\" /><path clip-path=\"url(#clip830)\" d=\"M 0 0 M252.151 1335.25 L270.207 1335.25 L270.207 1336.87 L260.013 1363.33 L256.045 1363.33 L265.637 1338.45 L252.151 1338.45 L252.151 1335.25 Z\" fill=\"#000000\" fill-rule=\"evenodd\" fill-opacity=\"1\" /><path clip-path=\"url(#clip830)\" d=\"M 0 0 M90.0197 1273.01 Q86.6864 1273.01 84.7651 1274.79 Q82.867 1276.57 82.867 1279.7 Q82.867 1282.82 84.7651 1284.61 Q86.6864 1286.39 90.0197 1286.39 Q93.353 1286.39 95.2743 1284.61 Q97.1956 1282.8 97.1956 1279.7 Q97.1956 1276.57 95.2743 1274.79 Q93.3762 1273.01 90.0197 1273.01 M85.3438 1271.02 Q82.3346 1270.28 80.6447 1268.22 Q78.9781 1266.16 78.9781 1263.2 Q78.9781 1259.05 81.9179 1256.64 Q84.8808 1254.24 90.0197 1254.24 Q95.1817 1254.24 98.1215 1256.64 Q101.061 1259.05 101.061 1263.2 Q101.061 1266.16 99.3715 1268.22 Q97.7048 1270.28 94.7187 1271.02 Q98.0984 1271.81 99.9733 1274.1 Q101.871 1276.39 101.871 1279.7 Q101.871 1284.72 98.7928 1287.41 Q95.7373 1290.09 90.0197 1290.09 Q84.3021 1290.09 81.2234 1287.41 Q78.1679 1284.72 78.1679 1279.7 Q78.1679 1276.39 80.066 1274.1 Q81.9642 1271.81 85.3438 1271.02 M83.6308 1263.64 Q83.6308 1266.32 85.2975 1267.82 Q86.9873 1269.33 90.0197 1269.33 Q93.0289 1269.33 94.7187 1267.82 Q96.4317 1266.32 96.4317 1263.64 Q96.4317 1260.95 94.7187 1259.45 Q93.0289 1257.94 90.0197 1257.94 Q86.9873 1257.94 85.2975 1259.45 Q83.6308 1260.95 83.6308 1263.64 Z\" fill=\"#000000\" fill-rule=\"evenodd\" fill-opacity=\"1\" /><path clip-path=\"url(#clip830)\" d=\"M 0 0 M106.941 1283.54 L111.825 1283.54 L111.825 1289.42 L106.941 1289.42 L106.941 1283.54 Z\" fill=\"#000000\" fill-rule=\"evenodd\" fill-opacity=\"1\" /><path clip-path=\"url(#clip830)\" d=\"M 0 0 M126.894 1257.94 Q123.283 1257.94 121.455 1261.51 Q119.649 1265.05 119.649 1272.18 Q119.649 1279.28 121.455 1282.85 Q123.283 1286.39 126.894 1286.39 Q130.529 1286.39 132.334 1282.85 Q134.163 1279.28 134.163 1272.18 Q134.163 1265.05 132.334 1261.51 Q130.529 1257.94 126.894 1257.94 M126.894 1254.24 Q132.705 1254.24 135.76 1258.84 Q138.839 1263.43 138.839 1272.18 Q138.839 1280.9 135.76 1285.51 Q132.705 1290.09 126.894 1290.09 Q121.084 1290.09 118.006 1285.51 Q114.95 1280.9 114.95 1272.18 Q114.95 1263.43 118.006 1258.84 Q121.084 1254.24 126.894 1254.24 Z\" fill=\"#000000\" fill-rule=\"evenodd\" fill-opacity=\"1\" /><path clip-path=\"url(#clip830)\" d=\"M 0 0 M172.079 1263.96 L161.501 1274.58 L172.079 1285.16 L169.325 1287.96 L158.7 1277.34 L148.075 1287.96 L145.343 1285.16 L155.899 1274.58 L145.343 1263.96 L148.075 1261.16 L158.7 1271.78 L169.325 1261.16 L172.079 1263.96 Z\" fill=\"#000000\" fill-rule=\"evenodd\" fill-opacity=\"1\" /><path clip-path=\"url(#clip830)\" d=\"M 0 0 M177.959 1285.49 L185.598 1285.49 L185.598 1259.12 L177.288 1260.79 L177.288 1256.53 L185.552 1254.86 L190.227 1254.86 L190.227 1285.49 L197.866 1285.49 L197.866 1289.42 L177.959 1289.42 L177.959 1285.49 Z\" fill=\"#000000\" fill-rule=\"evenodd\" fill-opacity=\"1\" /><path clip-path=\"url(#clip830)\" d=\"M 0 0 M212.936 1257.94 Q209.325 1257.94 207.496 1261.51 Q205.69 1265.05 205.69 1272.18 Q205.69 1279.28 207.496 1282.85 Q209.325 1286.39 212.936 1286.39 Q216.57 1286.39 218.375 1282.85 Q220.204 1279.28 220.204 1272.18 Q220.204 1265.05 218.375 1261.51 Q216.57 1257.94 212.936 1257.94 M212.936 1254.24 Q218.746 1254.24 221.801 1258.84 Q224.88 1263.43 224.88 1272.18 Q224.88 1280.9 221.801 1285.51 Q218.746 1290.09 212.936 1290.09 Q207.126 1290.09 204.047 1285.51 Q200.991 1280.9 200.991 1272.18 Q200.991 1263.43 204.047 1258.84 Q207.126 1254.24 212.936 1254.24 Z\" fill=\"#000000\" fill-rule=\"evenodd\" fill-opacity=\"1\" /><path clip-path=\"url(#clip830)\" d=\"M 0 0 M224.88 1248.34 L248.992 1248.34 L248.992 1251.54 L224.88 1251.54 L224.88 1248.34 Z\" fill=\"#000000\" fill-rule=\"evenodd\" fill-opacity=\"1\" /><path clip-path=\"url(#clip830)\" d=\"M 0 0 M252.151 1233.93 L270.207 1233.93 L270.207 1235.55 L260.013 1262.01 L256.045 1262.01 L265.637 1237.13 L252.151 1237.13 L252.151 1233.93 Z\" fill=\"#000000\" fill-rule=\"evenodd\" fill-opacity=\"1\" /><path clip-path=\"url(#clip830)\" d=\"M 0 0 M80.2512 1187.39 L80.2512 1183.13 Q82.0105 1183.96 83.816 1184.4 Q85.6216 1184.84 87.3577 1184.84 Q91.9873 1184.84 94.4178 1181.74 Q96.8715 1178.61 97.2187 1172.27 Q95.8761 1174.26 93.816 1175.33 Q91.7558 1176.39 89.2558 1176.39 Q84.0707 1176.39 81.0383 1173.27 Q78.029 1170.12 78.029 1164.68 Q78.029 1159.36 81.1771 1156.14 Q84.3253 1152.92 89.5567 1152.92 Q95.5521 1152.92 98.7002 1157.53 Q101.871 1162.11 101.871 1170.86 Q101.871 1179.03 97.9826 1183.92 Q94.1169 1188.78 87.566 1188.78 Q85.8068 1188.78 84.0012 1188.43 Q82.1957 1188.08 80.2512 1187.39 M89.5567 1172.74 Q92.7049 1172.74 94.5336 1170.58 Q96.3854 1168.43 96.3854 1164.68 Q96.3854 1160.95 94.5336 1158.8 Q92.7049 1156.62 89.5567 1156.62 Q86.4086 1156.62 84.5568 1158.8 Q82.7281 1160.95 82.7281 1164.68 Q82.7281 1168.43 84.5568 1170.58 Q86.4086 1172.74 89.5567 1172.74 Z\" fill=\"#000000\" fill-rule=\"evenodd\" fill-opacity=\"1\" /><path clip-path=\"url(#clip830)\" d=\"M 0 0 M106.941 1182.23 L111.825 1182.23 L111.825 1188.11 L106.941 1188.11 L106.941 1182.23 Z\" fill=\"#000000\" fill-rule=\"evenodd\" fill-opacity=\"1\" /><path clip-path=\"url(#clip830)\" d=\"M 0 0 M126.894 1156.62 Q123.283 1156.62 121.455 1160.19 Q119.649 1163.73 119.649 1170.86 Q119.649 1177.97 121.455 1181.53 Q123.283 1185.07 126.894 1185.07 Q130.529 1185.07 132.334 1181.53 Q134.163 1177.97 134.163 1170.86 Q134.163 1163.73 132.334 1160.19 Q130.529 1156.62 126.894 1156.62 M126.894 1152.92 Q132.705 1152.92 135.76 1157.53 Q138.839 1162.11 138.839 1170.86 Q138.839 1179.59 135.76 1184.19 Q132.705 1188.78 126.894 1188.78 Q121.084 1188.78 118.006 1184.19 Q114.95 1179.59 114.95 1170.86 Q114.95 1162.11 118.006 1157.53 Q121.084 1152.92 126.894 1152.92 Z\" fill=\"#000000\" fill-rule=\"evenodd\" fill-opacity=\"1\" /><path clip-path=\"url(#clip830)\" d=\"M 0 0 M172.079 1162.64 L161.501 1173.27 L172.079 1183.85 L169.325 1186.65 L158.7 1176.02 L148.075 1186.65 L145.343 1183.85 L155.899 1173.27 L145.343 1162.64 L148.075 1159.84 L158.7 1170.47 L169.325 1159.84 L172.079 1162.64 Z\" fill=\"#000000\" fill-rule=\"evenodd\" fill-opacity=\"1\" /><path clip-path=\"url(#clip830)\" d=\"M 0 0 M177.959 1184.17 L185.598 1184.17 L185.598 1157.8 L177.288 1159.47 L177.288 1155.21 L185.552 1153.55 L190.227 1153.55 L190.227 1184.17 L197.866 1184.17 L197.866 1188.11 L177.959 1188.11 L177.959 1184.17 Z\" fill=\"#000000\" fill-rule=\"evenodd\" fill-opacity=\"1\" /><path clip-path=\"url(#clip830)\" d=\"M 0 0 M212.936 1156.62 Q209.325 1156.62 207.496 1160.19 Q205.69 1163.73 205.69 1170.86 Q205.69 1177.97 207.496 1181.53 Q209.325 1185.07 212.936 1185.07 Q216.57 1185.07 218.375 1181.53 Q220.204 1177.97 220.204 1170.86 Q220.204 1163.73 218.375 1160.19 Q216.57 1156.62 212.936 1156.62 M212.936 1152.92 Q218.746 1152.92 221.801 1157.53 Q224.88 1162.11 224.88 1170.86 Q224.88 1179.59 221.801 1184.19 Q218.746 1188.78 212.936 1188.78 Q207.126 1188.78 204.047 1184.19 Q200.991 1179.59 200.991 1170.86 Q200.991 1162.11 204.047 1157.53 Q207.126 1152.92 212.936 1152.92 Z\" fill=\"#000000\" fill-rule=\"evenodd\" fill-opacity=\"1\" /><path clip-path=\"url(#clip830)\" d=\"M 0 0 M224.88 1147.02 L248.992 1147.02 L248.992 1150.22 L224.88 1150.22 L224.88 1147.02 Z\" fill=\"#000000\" fill-rule=\"evenodd\" fill-opacity=\"1\" /><path clip-path=\"url(#clip830)\" d=\"M 0 0 M252.151 1132.62 L270.207 1132.62 L270.207 1134.23 L260.013 1160.7 L256.045 1160.7 L265.637 1135.81 L252.151 1135.81 L252.151 1132.62 Z\" fill=\"#000000\" fill-rule=\"evenodd\" fill-opacity=\"1\" /><path clip-path=\"url(#clip830)\" d=\"M 0 0 M81.099 1082.85 L88.7379 1082.85 L88.7379 1056.49 L80.4277 1058.15 L80.4277 1053.9 L88.6916 1052.23 L93.3675 1052.23 L93.3675 1082.85 L101.006 1082.85 L101.006 1086.79 L81.099 1086.79 L81.099 1082.85 Z\" fill=\"#000000\" fill-rule=\"evenodd\" fill-opacity=\"1\" /><path clip-path=\"url(#clip830)\" d=\"M 0 0 M106.076 1080.91 L110.96 1080.91 L110.96 1086.79 L106.076 1086.79 L106.076 1080.91 Z\" fill=\"#000000\" fill-rule=\"evenodd\" fill-opacity=\"1\" /><path clip-path=\"url(#clip830)\" d=\"M 0 0 M126.029 1055.31 Q122.418 1055.31 120.59 1058.87 Q118.784 1062.41 118.784 1069.54 Q118.784 1076.65 120.59 1080.21 Q122.418 1083.76 126.029 1083.76 Q129.664 1083.76 131.469 1080.21 Q133.298 1076.65 133.298 1069.54 Q133.298 1062.41 131.469 1058.87 Q129.664 1055.31 126.029 1055.31 M126.029 1051.6 Q131.839 1051.6 134.895 1056.21 Q137.974 1060.79 137.974 1069.54 Q137.974 1078.27 134.895 1082.88 Q131.839 1087.46 126.029 1087.46 Q120.219 1087.46 117.14 1082.88 Q114.085 1078.27 114.085 1069.54 Q114.085 1060.79 117.14 1056.21 Q120.219 1051.6 126.029 1051.6 Z\" fill=\"#000000\" fill-rule=\"evenodd\" fill-opacity=\"1\" /><path clip-path=\"url(#clip830)\" d=\"M 0 0 M171.214 1061.33 L160.636 1071.95 L171.214 1082.53 L168.46 1085.33 L157.835 1074.71 L147.21 1085.33 L144.478 1082.53 L155.034 1071.95 L144.478 1061.33 L147.21 1058.53 L157.835 1069.15 L168.46 1058.53 L171.214 1061.33 Z\" fill=\"#000000\" fill-rule=\"evenodd\" fill-opacity=\"1\" /><path clip-path=\"url(#clip830)\" d=\"M 0 0 M177.094 1082.85 L184.733 1082.85 L184.733 1056.49 L176.423 1058.15 L176.423 1053.9 L184.686 1052.23 L189.362 1052.23 L189.362 1082.85 L197.001 1082.85 L197.001 1086.79 L177.094 1086.79 L177.094 1082.85 Z\" fill=\"#000000\" fill-rule=\"evenodd\" fill-opacity=\"1\" /><path clip-path=\"url(#clip830)\" d=\"M 0 0 M212.071 1055.31 Q208.459 1055.31 206.631 1058.87 Q204.825 1062.41 204.825 1069.54 Q204.825 1076.65 206.631 1080.21 Q208.459 1083.76 212.071 1083.76 Q215.705 1083.76 217.51 1080.21 Q219.339 1076.65 219.339 1069.54 Q219.339 1062.41 217.51 1058.87 Q215.705 1055.31 212.071 1055.31 M212.071 1051.6 Q217.881 1051.6 220.936 1056.21 Q224.015 1060.79 224.015 1069.54 Q224.015 1078.27 220.936 1082.88 Q217.881 1087.46 212.071 1087.46 Q206.26 1087.46 203.182 1082.88 Q200.126 1078.27 200.126 1069.54 Q200.126 1060.79 203.182 1056.21 Q206.26 1051.6 212.071 1051.6 Z\" fill=\"#000000\" fill-rule=\"evenodd\" fill-opacity=\"1\" /><path clip-path=\"url(#clip830)\" d=\"M 0 0 M224.015 1045.71 L248.126 1045.71 L248.126 1048.9 L224.015 1048.9 L224.015 1045.71 Z\" fill=\"#000000\" fill-rule=\"evenodd\" fill-opacity=\"1\" /><path clip-path=\"url(#clip830)\" d=\"M 0 0 M260.841 1043.82 Q258.283 1043.82 256.778 1045.57 Q255.292 1047.32 255.292 1050.37 Q255.292 1053.4 256.778 1055.17 Q258.283 1056.91 260.841 1056.91 Q263.398 1056.91 264.884 1055.17 Q266.389 1053.4 266.389 1050.37 Q266.389 1047.32 264.884 1045.57 Q263.398 1043.82 260.841 1043.82 M268.382 1031.92 L268.382 1035.38 Q266.953 1034.7 265.486 1034.35 Q264.038 1033.99 262.608 1033.99 Q258.847 1033.99 256.853 1036.53 Q254.878 1039.07 254.596 1044.2 Q255.706 1042.56 257.38 1041.7 Q259.054 1040.82 261.066 1040.82 Q265.298 1040.82 267.743 1043.39 Q270.207 1045.95 270.207 1050.37 Q270.207 1054.7 267.649 1057.31 Q265.091 1059.92 260.841 1059.92 Q255.969 1059.92 253.393 1056.2 Q250.816 1052.46 250.816 1045.37 Q250.816 1038.71 253.976 1034.76 Q257.135 1030.79 262.458 1030.79 Q263.887 1030.79 265.336 1031.07 Q266.803 1031.35 268.382 1031.92 Z\" fill=\"#000000\" fill-rule=\"evenodd\" fill-opacity=\"1\" /><path clip-path=\"url(#clip830)\" d=\"M 0 0 M82.3259 981.537 L89.9647 981.537 L89.9647 955.171 L81.6546 956.838 L81.6546 952.579 L89.9184 950.912 L94.5943 950.912 L94.5943 981.537 L102.233 981.537 L102.233 985.472 L82.3259 985.472 L82.3259 981.537 Z\" fill=\"#000000\" fill-rule=\"evenodd\" fill-opacity=\"1\" /><path clip-path=\"url(#clip830)\" d=\"M 0 0 M107.303 979.593 L112.187 979.593 L112.187 985.472 L107.303 985.472 L107.303 979.593 Z\" fill=\"#000000\" fill-rule=\"evenodd\" fill-opacity=\"1\" /><path clip-path=\"url(#clip830)\" d=\"M 0 0 M118.066 981.537 L125.705 981.537 L125.705 955.171 L117.395 956.838 L117.395 952.579 L125.659 950.912 L130.335 950.912 L130.335 981.537 L137.974 981.537 L137.974 985.472 L118.066 985.472 L118.066 981.537 Z\" fill=\"#000000\" fill-rule=\"evenodd\" fill-opacity=\"1\" /><path clip-path=\"url(#clip830)\" d=\"M 0 0 M171.214 960.009 L160.636 970.634 L171.214 981.213 L168.46 984.014 L157.835 973.389 L147.21 984.014 L144.478 981.213 L155.034 970.634 L144.478 960.009 L147.21 957.208 L157.835 967.833 L168.46 957.208 L171.214 960.009 Z\" fill=\"#000000\" fill-rule=\"evenodd\" fill-opacity=\"1\" /><path clip-path=\"url(#clip830)\" d=\"M 0 0 M177.094 981.537 L184.733 981.537 L184.733 955.171 L176.423 956.838 L176.423 952.579 L184.686 950.912 L189.362 950.912 L189.362 981.537 L197.001 981.537 L197.001 985.472 L177.094 985.472 L177.094 981.537 Z\" fill=\"#000000\" fill-rule=\"evenodd\" fill-opacity=\"1\" /><path clip-path=\"url(#clip830)\" d=\"M 0 0 M212.071 953.991 Q208.459 953.991 206.631 957.556 Q204.825 961.097 204.825 968.227 Q204.825 975.333 206.631 978.898 Q208.459 982.44 212.071 982.44 Q215.705 982.44 217.51 978.898 Q219.339 975.333 219.339 968.227 Q219.339 961.097 217.51 957.556 Q215.705 953.991 212.071 953.991 M212.071 950.287 Q217.881 950.287 220.936 954.894 Q224.015 959.477 224.015 968.227 Q224.015 976.954 220.936 981.56 Q217.881 986.143 212.071 986.143 Q206.26 986.143 203.182 981.56 Q200.126 976.954 200.126 968.227 Q200.126 959.477 203.182 954.894 Q206.26 950.287 212.071 950.287 Z\" fill=\"#000000\" fill-rule=\"evenodd\" fill-opacity=\"1\" /><path clip-path=\"url(#clip830)\" d=\"M 0 0 M224.015 944.389 L248.126 944.389 L248.126 947.586 L224.015 947.586 L224.015 944.389 Z\" fill=\"#000000\" fill-rule=\"evenodd\" fill-opacity=\"1\" /><path clip-path=\"url(#clip830)\" d=\"M 0 0 M260.841 942.508 Q258.283 942.508 256.778 944.257 Q255.292 946.006 255.292 949.053 Q255.292 952.081 256.778 953.849 Q258.283 955.598 260.841 955.598 Q263.398 955.598 264.884 953.849 Q266.389 952.081 266.389 949.053 Q266.389 946.006 264.884 944.257 Q263.398 942.508 260.841 942.508 M268.382 930.602 L268.382 934.063 Q266.953 933.386 265.486 933.029 Q264.038 932.671 262.608 932.671 Q258.847 932.671 256.853 935.21 Q254.878 937.749 254.596 942.884 Q255.706 941.248 257.38 940.382 Q259.054 939.498 261.066 939.498 Q265.298 939.498 267.743 942.075 Q270.207 944.633 270.207 949.053 Q270.207 953.379 267.649 955.993 Q265.091 958.607 260.841 958.607 Q255.969 958.607 253.393 954.883 Q250.816 951.141 250.816 944.05 Q250.816 937.392 253.976 933.442 Q257.135 929.474 262.458 929.474 Q263.887 929.474 265.336 929.756 Q266.803 930.038 268.382 930.602 Z\" fill=\"#000000\" fill-rule=\"evenodd\" fill-opacity=\"1\" /><path clip-path=\"url(#clip830)\" d=\"M 0 0 M675.558 849.931 Q675.558 841.708 672.155 837.05 Q668.793 832.351 662.879 832.351 Q656.964 832.351 653.562 837.05 Q650.199 841.708 650.199 849.931 Q650.199 858.155 653.562 862.854 Q656.964 867.512 662.879 867.512 Q668.793 867.512 672.155 862.854 Q675.558 858.155 675.558 849.931 M650.199 834.092 Q652.549 830.042 656.114 828.097 Q659.719 826.112 664.702 826.112 Q672.965 826.112 678.11 832.675 Q683.295 839.237 683.295 849.931 Q683.295 860.626 678.11 867.188 Q672.965 873.751 664.702 873.751 Q659.719 873.751 656.114 871.806 Q652.549 869.821 650.199 865.77 L650.199 872.576 L642.705 872.576 L642.705 809.544 L650.199 809.544 L650.199 834.092 Z\" fill=\"#000000\" fill-rule=\"evenodd\" fill-opacity=\"1\" /><path clip-path=\"url(#clip830)\" d=\"M 0 0 M729.921 848.028 L729.921 851.673 L695.651 851.673 Q696.137 859.37 700.269 863.421 Q704.441 867.431 711.854 867.431 Q716.148 867.431 720.158 866.378 Q724.209 865.325 728.179 863.218 L728.179 870.267 Q724.169 871.968 719.956 872.86 Q715.743 873.751 711.409 873.751 Q700.552 873.751 694.192 867.431 Q687.873 861.112 687.873 850.337 Q687.873 839.197 693.868 832.675 Q699.904 826.112 710.112 826.112 Q719.267 826.112 724.574 832.026 Q729.921 837.9 729.921 848.028 M722.468 845.84 Q722.386 839.723 719.024 836.077 Q715.702 832.432 710.193 832.432 Q703.955 832.432 700.188 835.956 Q696.461 839.48 695.894 845.881 L722.468 845.84 Z\" fill=\"#000000\" fill-rule=\"evenodd\" fill-opacity=\"1\" /><path clip-path=\"url(#clip830)\" d=\"M 0 0 M745.112 814.324 L745.112 827.206 L760.465 827.206 L760.465 832.999 L745.112 832.999 L745.112 857.628 Q745.112 863.178 746.611 864.758 Q748.15 866.338 752.809 866.338 L760.465 866.338 L760.465 872.576 L752.809 872.576 Q744.18 872.576 740.899 869.376 Q737.618 866.135 737.618 857.628 L737.618 832.999 L732.149 832.999 L732.149 827.206 L737.618 827.206 L737.618 814.324 L745.112 814.324 Z\" fill=\"#000000\" fill-rule=\"evenodd\" fill-opacity=\"1\" /><path clip-path=\"url(#clip830)\" d=\"M 0 0 M788.902 849.769 Q779.869 849.769 776.385 851.835 Q772.901 853.901 772.901 858.884 Q772.901 862.854 775.494 865.203 Q778.127 867.512 782.623 867.512 Q788.821 867.512 792.548 863.137 Q796.315 858.722 796.315 851.43 L796.315 849.769 L788.902 849.769 M803.769 846.691 L803.769 872.576 L796.315 872.576 L796.315 865.689 Q793.763 869.821 789.956 871.806 Q786.148 873.751 780.638 873.751 Q773.671 873.751 769.539 869.862 Q765.448 865.933 765.448 859.37 Q765.448 851.714 770.552 847.825 Q775.696 843.936 785.864 843.936 L796.315 843.936 L796.315 843.207 Q796.315 838.062 792.913 835.267 Q789.55 832.432 783.434 832.432 Q779.545 832.432 775.858 833.363 Q772.172 834.295 768.769 836.158 L768.769 829.272 Q772.861 827.692 776.709 826.922 Q780.557 826.112 784.203 826.112 Q794.047 826.112 798.908 831.216 Q803.769 836.32 803.769 846.691 Z\" fill=\"#000000\" fill-rule=\"evenodd\" fill-opacity=\"1\" /><path clip-path=\"url(#clip830)\" d=\"M 0 0 M819.689 865.689 L848.248 865.689 L848.248 872.576 L809.846 872.576 L809.846 865.689 Q814.504 860.869 822.525 852.767 Q830.586 844.625 832.652 842.275 Q836.581 837.86 838.121 834.822 Q839.701 831.743 839.701 828.786 Q839.701 823.965 836.298 820.927 Q832.936 817.889 827.507 817.889 Q823.659 817.889 819.365 819.226 Q815.112 820.562 810.251 823.276 L810.251 815.013 Q815.193 813.028 819.487 812.015 Q823.781 811.002 827.345 811.002 Q836.744 811.002 842.334 815.701 Q847.924 820.4 847.924 828.259 Q847.924 831.986 846.506 835.348 Q845.129 838.67 841.443 843.207 Q840.43 844.382 835.002 850.012 Q829.573 855.603 819.689 865.689 Z\" fill=\"#000000\" fill-rule=\"evenodd\" fill-opacity=\"1\" /><polyline clip-path=\"url(#clip834)\" style=\"stroke:#009af9; stroke-width:4; stroke-opacity:1; fill:none\" points=\"\n",
       "  331.071,939.832 538.274,1337.82 745.477,1470.51 952.679,1337.76 1159.88,939.405 \n",
       "  \"/>\n",
       "<polyline clip-path=\"url(#clip834)\" style=\"stroke:#e26f46; stroke-width:4; stroke-opacity:1; fill:none\" points=\"\n",
       "  745.477,2049.42 745.477,360.496 \n",
       "  \"/>\n",
       "</svg>\n"
      ]
     },
     "metadata": {},
     "output_type": "display_data"
    }
   ],
   "source": [
    "using Plots\n",
    "gr()\n",
    "list_plots = []\n",
    "for (keyIndex, keyValue) in enumerate(keys(myProblem.priors))\n",
    "\n",
    "  p = plot(vXGrid[:,keyIndex], vYGrid[:,keyIndex], title = \"$(keyValue)\", label = \"\")\n",
    "  plot!([minimizer[keyIndex]], seriestype = :vline, label = \"\")\n",
    "  push!(list_plots, p)\n",
    "\n",
    "end\n",
    "\n",
    "#Let's combine all the plots in a single plot\n",
    "s0 = \"\"\n",
    "for i = 1:length(keys(myProblem.priors))\n",
    "  if i==1\n",
    "      s0 = string(\"list_plots[$(i)]\" )\n",
    "  else\n",
    "      s0 = string(s0, \", \", \"list_plots[$(i)]\" )\n",
    "  end\n",
    "end\n",
    "\n",
    "plot_combined = eval(Meta.parse(string(\"plot(\", s0, \")\")))\n",
    "display(plot_combined)"
   ]
  }
 ],
 "metadata": {
  "kernelspec": {
   "display_name": "Julia 1.5.1",
   "language": "julia",
   "name": "julia-1.5"
  },
  "language_info": {
   "file_extension": ".jl",
   "mimetype": "application/julia",
   "name": "julia",
   "version": "1.5.1"
  }
 },
 "nbformat": 4,
 "nbformat_minor": 4
}
