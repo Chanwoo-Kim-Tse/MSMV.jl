{
 "cells": [
  {
   "cell_type": "markdown",
   "metadata": {},
   "source": [
    "## MSM.jl and Surrogates.jl\n",
    "\n",
    "This notebook shows how one can estimate a model using [MSM.jl](https://github.com/JulienPascal/MSM.jl) and [Surrogates.jl](https://github.com/SciML/Surrogates.jl)"
   ]
  },
  {
   "cell_type": "code",
   "execution_count": null,
   "metadata": {},
   "outputs": [],
   "source": [
    "using MSM\n",
    "using Surrogates\n",
    "using DataStructures\n",
    "using OrderedCollections\n",
    "using Distributions\n",
    "using Random\n",
    "using DataStructures\n",
    "using Statistics\n",
    "using LinearAlgebra"
   ]
  },
  {
   "cell_type": "code",
   "execution_count": null,
   "metadata": {
    "scrolled": false
   },
   "outputs": [],
   "source": [
    "Random.seed!(1234)  #for replicability reasons\n",
    "T = 100000          #number of periods\n",
    "P = 2               #number of dependent variables\n",
    "beta0 = rand(P)     #choose true coefficients by drawing from a uniform distribution on [0,1]\n",
    "alpha0 = rand(1)[]  #intercept\n",
    "theta0 = 0.0        #coefficient to create serial correlation in the error terms\n",
    "println(\"True intercept = $(alpha0)\")\n",
    "println(\"True coefficient beta0 = $(beta0)\")\n",
    "println(\"Serial correlation coefficient theta0 = $(theta0)\")\n",
    "\n",
    "# Generation of error terms\n",
    "# row = individual dimension\n",
    "# column = time dimension \n",
    "U = zeros(T)\n",
    "d = Normal()\n",
    "U[1] = rand(d, 1)[] #first error term\n",
    "# loop over time periods\n",
    "for t = 2:T\n",
    "    U[t] = rand(d, 1)[] + theta0*U[t-1]\n",
    "end\n",
    "\n",
    "# Let's simulate the dependent variables x_t\n",
    "x = zeros(T, P)\n",
    "\n",
    "d = Uniform(0, 5)\n",
    "for p = 1:P  \n",
    "    x[:,p] = rand(d, T)\n",
    "end\n",
    "\n",
    "# Let's calculate the resulting y_t\n",
    "y = zeros(T)\n",
    "\n",
    "for t=1:T\n",
    "    y[t] = alpha0 + x[t,1]*beta0[1] + x[t,2]*beta0[2] + U[t]\n",
    "end\n",
    "\n",
    "optionsSMM = MSMOptions(maxFuncEvals=1000, globalOptimizer = :dxnes, localOptimizer = :NelderMead)\n",
    "myProblem = MSMProblem(options = optionsSMM);\n",
    "\n",
    "# Priors\n",
    "dictPriors = OrderedDict{String,Array{Float64,1}}()\n",
    "dictPriors[\"alpha\"] = [0.5, 0.001, 1.0]\n",
    "dictPriors[\"beta1\"] = [0.5, 0.001, 1.0]\n",
    "dictPriors[\"beta2\"] = [0.5, 0.001, 1.0]\n",
    "set_priors!(myProblem, dictPriors)\n",
    "\n",
    "# Empirical moments\n",
    "dictEmpiricalMoments = OrderedDict{String,Array{Float64,1}}()\n",
    "dictEmpiricalMoments[\"mean\"] = [mean(y); mean(y)] #informative on the intercept\n",
    "dictEmpiricalMoments[\"mean_x1y\"] = [mean(x[:,1] .* y); mean(x[:,1] .* y)] #informative on betas\n",
    "dictEmpiricalMoments[\"mean_x2y\"] = [mean(x[:,2] .* y); mean(x[:,2] .* y)] #informative on betas\n",
    "dictEmpiricalMoments[\"mean_x1y^2\"] = [mean((x[:,1] .* y).^2); mean((x[:,1] .* y).^2)] #informative on betas\n",
    "dictEmpiricalMoments[\"mean_x2y^2\"] = [mean((x[:,2] .* y).^2); mean((x[:,2] .* y).^2)] #informative on betas\n",
    "set_empirical_moments!(myProblem, dictEmpiricalMoments)\n",
    "\n",
    "W = Matrix(1.0 .* I(length(dictEmpiricalMoments)))#initialization\n",
    "#Special case: diagonal matrix\n",
    "#(you may choose something else)\n",
    "for (indexMoment, k) in enumerate(keys(dictEmpiricalMoments))\n",
    "    W[indexMoment,indexMoment] = 1.0/(dictEmpiricalMoments[k][1])^2\n",
    "end\n",
    "set_weight_matrix!(myProblem, W)\n",
    "\n",
    "# x[1] corresponds to the intercept, x[2] corresponds to beta1, x[3] corresponds to beta2\n",
    "function functionLinearModel(x; uniform_draws::Array{Float64,1}, simX::Array{Float64,2}, nbDraws::Int64 = length(uniform_draws), burnInPerc::Int64 = 0)\n",
    "    T = nbDraws\n",
    "    P = 2       #number of dependent variables\n",
    "\n",
    "    alpha = x[1]\n",
    "    beta = x[2:end]\n",
    "    theta = 0.0     #coefficient to create serial correlation in the error terms\n",
    "\n",
    "    # Creation of error terms\n",
    "    # row = individual dimension\n",
    "    # column = time dimension\n",
    "    U = zeros(T)\n",
    "    d = Normal()\n",
    "    # Inverse cdf (i.e. quantile)\n",
    "    gaussian_draws = quantile.(d, uniform_draws)\n",
    "    U[1] = gaussian_draws[1] #first error term\n",
    "\n",
    "    # loop over time periods\n",
    "    for t = 2:T\n",
    "        U[t] = gaussian_draws[t] + theta*U[t-1]\n",
    "    end\n",
    "\n",
    "    # Let's calculate the resulting y_t\n",
    "    y = zeros(T)\n",
    "\n",
    "    for t=1:T\n",
    "        y[t] = alpha + simX[t,1]*beta[1] + simX[t,2]*beta[2] + U[t]\n",
    "    end\n",
    "\n",
    "    # Get rid of the burn-in phase:\n",
    "    #------------------------------\n",
    "    startT = max(1, Int(nbDraws * (burnInPerc / 100)))\n",
    "\n",
    "    # Moments:\n",
    "    #---------\n",
    "    output = OrderedDict{String,Float64}()\n",
    "    output[\"mean\"] = mean(y[startT:nbDraws])\n",
    "    output[\"mean_x1y\"] = mean(simX[startT:nbDraws,1] .* y[startT:nbDraws])\n",
    "    output[\"mean_x2y\"] = mean(simX[startT:nbDraws,2] .* y[startT:nbDraws])\n",
    "    output[\"mean_x1y^2\"] = mean((simX[startT:nbDraws,1] .* y[startT:nbDraws]).^2)\n",
    "    output[\"mean_x2y^2\"] = mean((simX[startT:nbDraws,2] .* y[startT:nbDraws]).^2)\n",
    "\n",
    "    return output\n",
    "end\n",
    "\n",
    "# Let's freeze the randomness during the minimization\n",
    "d_Uni = Uniform(0,1)\n",
    "nbDraws = T #number of draws in the simulated data\n",
    "uniform_draws = rand(d_Uni, nbDraws)\n",
    "simX = zeros(length(uniform_draws), 2)\n",
    "d = Uniform(0, 5)\n",
    "for p = 1:2\n",
    "  simX[:,p] = rand(d, length(uniform_draws))\n",
    "end\n",
    "\n",
    "set_simulate_empirical_moments!(myProblem, x -> functionLinearModel(x, uniform_draws = uniform_draws, simX = simX))\n",
    "construct_objective_function!(myProblem)"
   ]
  },
  {
   "cell_type": "code",
   "execution_count": null,
   "metadata": {
    "scrolled": true
   },
   "outputs": [],
   "source": [
    "myProblem.objective_function([dictPriors[k][1] for k in keys(dictPriors)])"
   ]
  },
  {
   "cell_type": "markdown",
   "metadata": {},
   "source": [
    "### Sampling"
   ]
  },
  {
   "cell_type": "code",
   "execution_count": null,
   "metadata": {
    "scrolled": true
   },
   "outputs": [],
   "source": [
    "n_samples = 50\n",
    "lower_bound = create_lower_bound(myProblem)\n",
    "upper_bound = create_upper_bound(myProblem)\n",
    "xys = Surrogates.sample(n_samples, lower_bound, upper_bound, SobolSample());\n",
    "size(xys)"
   ]
  },
  {
   "cell_type": "code",
   "execution_count": null,
   "metadata": {
    "scrolled": true
   },
   "outputs": [],
   "source": [
    "g(x) = myProblem.objective_function(x)\n",
    "zs = g.(xys);\n",
    "size(zs)"
   ]
  },
  {
   "cell_type": "code",
   "execution_count": null,
   "metadata": {},
   "outputs": [],
   "source": [
    "xs = [xy[1] for xy in xys]\n",
    "ys = [xy[2] for xy in xys]\n",
    "zs = [xy[3] for xy in xys]\n",
    "scatter(xs, ys, zs, zcolor=zs)"
   ]
  },
  {
   "cell_type": "markdown",
   "metadata": {},
   "source": [
    "### Building a surrogate"
   ]
  },
  {
   "cell_type": "code",
   "execution_count": null,
   "metadata": {},
   "outputs": [],
   "source": [
    "kriging_surrogate = Kriging(xys, zs, lower_bound, upper_bound, p=collect([1.5 for k in 1:length(dictPriors)]));"
   ]
  },
  {
   "cell_type": "markdown",
   "metadata": {},
   "source": [
    "### Optimizing"
   ]
  },
  {
   "cell_type": "code",
   "execution_count": null,
   "metadata": {},
   "outputs": [],
   "source": [
    "@time min_surrogate = surrogate_optimize(g, SRBF(), lower_bound, upper_bound, kriging_surrogate, SobolSample(), maxiters=100)"
   ]
  },
  {
   "cell_type": "code",
   "execution_count": null,
   "metadata": {},
   "outputs": [],
   "source": [
    "size(xys)"
   ]
  },
  {
   "cell_type": "code",
   "execution_count": null,
   "metadata": {
    "scrolled": true
   },
   "outputs": [],
   "source": [
    "println(\"Minimum objective function = $(min_surrogate[2]) \\n\")\n",
    "println(\"Estimated value for alpha = $(min_surrogate[1][1]). True value for beta1 = $(alpha0[1]) \\n\")\n",
    "println(\"Estimated value for beta1 = $(min_surrogate[1][2]). True value for beta1 = $(beta0[1]) \\n\")\n",
    "println(\"Estimated value for beta2 = $(min_surrogate[1][3]). True value for beta2 = $(beta0[2]) \\n\")"
   ]
  },
  {
   "cell_type": "markdown",
   "metadata": {},
   "source": [
    "### Plotting the surrogate"
   ]
  },
  {
   "cell_type": "markdown",
   "metadata": {},
   "source": [
    "Let's plot the objective function, **holding constant the value of $\\alpha$**:"
   ]
  },
  {
   "cell_type": "code",
   "execution_count": null,
   "metadata": {
    "scrolled": true
   },
   "outputs": [],
   "source": [
    "using Plots\n",
    "gr()\n",
    "\n",
    "p1 = plot(collect(lower_bound[2]:0.1:upper_bound[2]), collect(lower_bound[3]:0.1:upper_bound[3]), (x, y) -> kriging_surrogate([alpha0 x y]), linetype=:surface)\n",
    "xs = [xy[2] for xy in xys]\n",
    "ys = [xy[3] for xy in xys]\n",
    "gg(x) = g([alpha0; x[2]; x[3]])\n",
    "zs = gg.(xys) \n",
    "scatter!(xs, ys, zs, marker_z=zs)\n",
    "p2 = contour(collect(lower_bound[2]:0.1:upper_bound[2]), collect(lower_bound[3]:0.1:upper_bound[3]), (x, y) -> kriging_surrogate([alpha0 x y]))\n",
    "scatter!(xs, ys, marker_z=zs) \n",
    "plot(p1, p2) "
   ]
  },
  {
   "cell_type": "markdown",
   "metadata": {},
   "source": [
    "Let's plot the objective function, **holding constant the value of $\\beta_2$**:"
   ]
  },
  {
   "cell_type": "code",
   "execution_count": null,
   "metadata": {
    "scrolled": true
   },
   "outputs": [],
   "source": [
    "p1 = plot(collect(lower_bound[1]:0.1:upper_bound[1]), collect(lower_bound[2]:0.1:upper_bound[2]), (x, y) -> kriging_surrogate([x y beta0[2]]), linetype=:surface)\n",
    "xs = [xy[1] for xy in xys]\n",
    "ys = [xy[2] for xy in xys]\n",
    "gg(x) = g([x[1]; x[2]; beta0[2]])\n",
    "zs = gg.(xys) \n",
    "scatter!(xs, ys, zs, marker_z=zs)\n",
    "p2 = contour(collect(lower_bound[1]:0.1:upper_bound[1]), collect(lower_bound[2]:0.1:upper_bound[2]), (x, y) -> kriging_surrogate([x y beta0[2]]))\n",
    "scatter!(xs, ys, marker_z=zs) \n",
    "plot(p1, p2)"
   ]
  },
  {
   "cell_type": "markdown",
   "metadata": {},
   "source": [
    "### Explore the sampling process"
   ]
  },
  {
   "cell_type": "code",
   "execution_count": null,
   "metadata": {},
   "outputs": [],
   "source": [
    "using DataFrames\n",
    "using StatsPlots\n",
    "df = DataFrame(x1 = xs, x2 = ys)\n",
    "@df df marginalhist(:x1, :x2)"
   ]
  },
  {
   "cell_type": "code",
   "execution_count": null,
   "metadata": {},
   "outputs": [],
   "source": [
    "versioninfo()"
   ]
  }
 ],
 "metadata": {
  "kernelspec": {
   "display_name": "Julia 1.6.1",
   "language": "julia",
   "name": "julia-1.6"
  },
  "language_info": {
   "file_extension": ".jl",
   "mimetype": "application/julia",
   "name": "julia",
   "version": "1.6.1"
  }
 },
 "nbformat": 4,
 "nbformat_minor": 4
}
