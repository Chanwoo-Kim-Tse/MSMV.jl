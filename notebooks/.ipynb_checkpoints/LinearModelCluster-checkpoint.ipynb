{
 "cells": [
  {
   "cell_type": "markdown",
   "metadata": {},
   "source": [
    "# Using MSM.jl on a cluster\n",
    "\n",
    "If you are a new user of the package MSM.jl, see [this notebook](https://github.com/JulienPascal/MSM.jl/tree/main/notebooks) first. Below is an example on how to use the package to estimate an economic model on a cluster using [ClusterManagers](https://github.com/JuliaParallel/ClusterManagers.jl) and [Slurm](https://slurm.schedmd.com/documentation.html). \n",
    "\n",
    "\n",
    "---\n",
    "\n",
    "The notebook does not run correctly? run the file [LinearModelCluster.jl](https://github.com/JulienPascal/MSM.jl/blob/main/notebooks/LinearModelCluster.jl) directly\n",
    "\n",
    "```bash\n",
    "julia LinearModelCluster.jl\n",
    "```\n",
    "\n",
    "---"
   ]
  },
  {
   "cell_type": "markdown",
   "metadata": {},
   "source": [
    "## File 1: LinearModelCluster.jl"
   ]
  },
  {
   "cell_type": "code",
   "execution_count": null,
   "metadata": {
    "scrolled": true
   },
   "outputs": [],
   "source": [
    "using ClusterManagers\n",
    "using Distributed\n",
    "\n",
    "OnCluster = false #set to false to run locally\n",
    "addWorkers = true #set to false to run serially\n",
    "println(\"OnCluster = $(OnCluster)\")\n",
    "\n",
    "# Current number of workers\n",
    "#--------------------------\n",
    "currentWorkers = nworkers()\n",
    "println(\"Initial number of workers = $(currentWorkers)\")\n",
    "\n",
    "# Increase the number of workers available\n",
    "#-----------------------------------------\n",
    "maxNumberWorkers = 3\n",
    "if addWorkers == true\n",
    "\tif OnCluster == true\n",
    "\t  addprocs(SlurmManager(maxNumberWorkers))\n",
    "\telse\n",
    "\t  addprocs(maxNumberWorkers)\n",
    "\tend\n",
    "end\n",
    "\n",
    "\n",
    "# Sanity checks\n",
    "#-------------\n",
    "hosts = []\n",
    "pids = []\n",
    "for i in workers()\n",
    "\thost, pid = fetch(@spawnat i (gethostname(), getpid()))\n",
    "\tprintln(\"Hello I am worker $(i), my host is $(host)\")\n",
    "\tpush!(hosts, host)\n",
    "\tpush!(pids, pid)\n",
    "end\n",
    "\n",
    "currentWorkers = nworkers()\n",
    "println(\"Number of workers = $(currentWorkers)\")"
   ]
  },
  {
   "cell_type": "code",
   "execution_count": 1,
   "metadata": {},
   "outputs": [],
   "source": [
    "using Plots\n",
    "using ParallelDataTransfer"
   ]
  },
  {
   "cell_type": "code",
   "execution_count": null,
   "metadata": {},
   "outputs": [],
   "source": [
    "@everywhere using MSM\n",
    "@everywhere using DataStructures\n",
    "@everywhere using OrderedCollections\n",
    "@everywhere using Distributions\n",
    "@everywhere using Random\n",
    "@everywhere using DataStructures\n",
    "@everywhere using Statistics\n",
    "@everywhere using LinearAlgebra"
   ]
  },
  {
   "cell_type": "code",
   "execution_count": null,
   "metadata": {},
   "outputs": [],
   "source": [
    "# Generate simulated data\n",
    "Random.seed!(1234)  #for replicability reasons\n",
    "T = 100000          #number of periods\n",
    "P = 2               #number of dependent variables\n",
    "beta0 = rand(P)     #choose true coefficients by drawing from a uniform distribution on [0,1]\n",
    "alpha0 = rand(1)[]  #intercept\n",
    "theta0 = 0.0        #coefficient to create serial correlation in the error terms\n",
    "println(\"True intercept = $(alpha0)\")\n",
    "println(\"True coefficient beta0 = $(beta0)\")\n",
    "println(\"Serial correlation coefficient theta0 = $(theta0)\")\n",
    "\n",
    "# Generation of error terms\n",
    "# row = individual dimension\n",
    "# column = time dimension \n",
    "U = zeros(T)\n",
    "d = Normal()\n",
    "U[1] = rand(d, 1)[] #first error term\n",
    "# loop over time periods\n",
    "for t = 2:T\n",
    "    U[t] = rand(d, 1)[] + theta0*U[t-1]\n",
    "end\n",
    "\n",
    "# Let's simulate the dependent variables x_t\n",
    "x = zeros(T, P)\n",
    "\n",
    "d = Uniform(0, 5)\n",
    "for p = 1:P  \n",
    "    x[:,p] = rand(d, T)\n",
    "end\n",
    "\n",
    "# Let's calculate the resulting y_t\n",
    "y = zeros(T)\n",
    "\n",
    "for t=1:T\n",
    "    y[t] = alpha0 + x[t,1]*beta0[1] + x[t,2]*beta0[2] + U[t]\n",
    "end\n",
    "\n",
    "# Send simulated data to workers\n",
    "sendto(workers(), y=y)\n",
    "sendto(workers(), x=x)"
   ]
  },
  {
   "cell_type": "code",
   "execution_count": null,
   "metadata": {
    "scrolled": true
   },
   "outputs": [],
   "source": [
    "# Visualize data\n",
    "p1 = scatter(x[1:100,1], y[1:100], xlabel = \"x1\", ylabel = \"y\", legend=:none, smooth=true)\n",
    "p2 = scatter(x[1:100,2], y[1:100], xlabel = \"x2\", ylabel = \"y\", legend=:none, smooth=true)\n",
    "plot(p1, p2)"
   ]
  },
  {
   "cell_type": "code",
   "execution_count": null,
   "metadata": {},
   "outputs": [],
   "source": [
    "# Define locally\n",
    "myProblem = MSMProblem(options = MSMOptions(maxFuncEvals=1000, globalOptimizer = :dxnes, localOptimizer = :NelderMead));\n",
    "\n",
    "# Send to workers\n",
    "sendto(workers(), myProblem=myProblem)"
   ]
  },
  {
   "cell_type": "code",
   "execution_count": null,
   "metadata": {},
   "outputs": [],
   "source": [
    "# Priors\n",
    "dictPriors = OrderedDict{String,Array{Float64,1}}()\n",
    "dictPriors[\"alpha\"] = [0.5, 0.001, 1.0]\n",
    "dictPriors[\"beta1\"] = [0.5, 0.001, 1.0]\n",
    "dictPriors[\"beta2\"] = [0.5, 0.001, 1.0]\n",
    "\n",
    "# Empirical moments\n",
    "dictEmpiricalMoments = OrderedDict{String,Array{Float64,1}}()\n",
    "dictEmpiricalMoments[\"mean\"] = [mean(y)] #informative on the intercept\n",
    "dictEmpiricalMoments[\"mean^2\"] = [mean(y.^2)] #informative on the intercept\n",
    "dictEmpiricalMoments[\"mean_x1y\"] = [mean(x[:,1] .* y)] #informative on betas\n",
    "dictEmpiricalMoments[\"mean_x2y\"] = [mean(x[:,2] .* y)] #informative on betas\n",
    "dictEmpiricalMoments[\"mean_x1y^2\"] = [mean((x[:,1] .* y).^2)] #informative on betas\n",
    "dictEmpiricalMoments[\"mean_x2y^2\"] = [mean((x[:,2] .* y).^2)] #informative on betas\n",
    "\n",
    "W = Matrix(1.0 .* I(length(dictEmpiricalMoments)))#initialization\n",
    "#Special case: diagonal matrix\n",
    "#(you may choose something else)\n",
    "for (indexMoment, k) in enumerate(keys(dictEmpiricalMoments))\n",
    "    W[indexMoment,indexMoment] = 1.0/(dictEmpiricalMoments[k][1])^2\n",
    "end\n",
    "\n",
    "\n",
    "# Send to workers\n",
    "sendto(workers(), dictPriors=dictPriors)\n",
    "sendto(workers(), dictEmpiricalMoments=dictEmpiricalMoments)\n",
    "sendto(workers(), W=W)"
   ]
  },
  {
   "cell_type": "code",
   "execution_count": null,
   "metadata": {},
   "outputs": [],
   "source": [
    "@everywhere set_priors!(myProblem, dictPriors)\n",
    "@everywhere set_empirical_moments!(myProblem, dictEmpiricalMoments)\n",
    "@everywhere set_weight_matrix!(myProblem, W)"
   ]
  },
  {
   "cell_type": "code",
   "execution_count": null,
   "metadata": {},
   "outputs": [],
   "source": [
    "# x[1] corresponds to the intercept, x[2] corresponds to beta1, x[3] corresponds to beta2\n",
    "@everywhere function functionLinearModel(x; uniform_draws::Array{Float64,1}, simX::Array{Float64,2}, nbDraws::Int64 = length(uniform_draws), burnInPerc::Int64 = 0)\n",
    "    T = nbDraws\n",
    "    P = 2       #number of dependent variables\n",
    "\n",
    "    alpha = x[1]\n",
    "    beta = x[2:end]\n",
    "    theta = 0.0     #coefficient to create serial correlation in the error terms\n",
    "\n",
    "    # Creation of error terms\n",
    "    # row = individual dimension\n",
    "    # column = time dimension\n",
    "    U = zeros(T)\n",
    "    d = Normal()\n",
    "    # Inverse cdf (i.e. quantile)\n",
    "    gaussian_draws = quantile.(d, uniform_draws)\n",
    "    U[1] = gaussian_draws[1] #first error term\n",
    "\n",
    "    # loop over time periods\n",
    "    for t = 2:T\n",
    "        U[t] = gaussian_draws[t] + theta*U[t-1]\n",
    "    end\n",
    "\n",
    "    # Let's calculate the resulting y_t\n",
    "    y = zeros(T)\n",
    "\n",
    "    for t=1:T\n",
    "        y[t] = alpha + simX[t,1]*beta[1] + simX[t,2]*beta[2] + U[t]\n",
    "    end\n",
    "\n",
    "    # Get rid of the burn-in phase:\n",
    "    #------------------------------\n",
    "    startT = max(1, Int(nbDraws * (burnInPerc / 100)))\n",
    "\n",
    "    # Moments:\n",
    "    #---------\n",
    "    output = OrderedDict{String,Float64}()\n",
    "    output[\"mean\"] = mean(y[startT:nbDraws])\n",
    "    output[\"mean^2\"] = mean(y[startT:nbDraws].^2)\n",
    "    output[\"mean_x1y\"] = mean(simX[startT:nbDraws,1] .* y[startT:nbDraws])\n",
    "    output[\"mean_x2y\"] = mean(simX[startT:nbDraws,2] .* y[startT:nbDraws])\n",
    "    output[\"mean_x1y^2\"] = mean((simX[startT:nbDraws,1] .* y[startT:nbDraws]).^2)\n",
    "    output[\"mean_x2y^2\"] = mean((simX[startT:nbDraws,2] .* y[startT:nbDraws]).^2)\n",
    "\n",
    "    return output\n",
    "end\n"
   ]
  },
  {
   "cell_type": "code",
   "execution_count": null,
   "metadata": {},
   "outputs": [],
   "source": [
    "# Let's freeze the randomness during the minimization\n",
    "d_Uni = Uniform(0,1)\n",
    "nbDraws = 1000000 #number of draws in the simulated data\n",
    "uniform_draws = rand(d_Uni, nbDraws)\n",
    "simX = zeros(length(uniform_draws), 2)\n",
    "d = Uniform(0, 5)\n",
    "for p = 1:2\n",
    "  simX[:,p] = rand(d, length(uniform_draws))\n",
    "end\n",
    "\n",
    "# Send to workers\n",
    "sendto(workers(), simX=simX)\n",
    "sendto(workers(), uniform_draws=uniform_draws)\n",
    "\n",
    "# Construct the objective function everywhere\n",
    "@everywhere set_simulate_empirical_moments!(myProblem, x -> functionLinearModel(x, uniform_draws = uniform_draws, simX = simX))\n",
    "@everywhere construct_objective_function!(myProblem)"
   ]
  },
  {
   "cell_type": "code",
   "execution_count": null,
   "metadata": {
    "scrolled": true
   },
   "outputs": [],
   "source": [
    "# Safety check: value on the master node == values on slave nodes?\n",
    "println(@fetchfrom 2 functionLinearModel(ones(3), uniform_draws = uniform_draws, simX = simX))\n",
    "println(@fetchfrom 2 myProblem.priors)\n",
    "\n",
    "using Test\n",
    "val_local = myProblem.objective_function(ones(3)); #local execution\n",
    "val_workers = [];\n",
    "for w in workers() #Execution on workers\n",
    "    push!(val_workers, @fetchfrom w myProblem.objective_function(ones(3)))\n",
    "end\n",
    "for (wIndex, w) in enumerate(workers())\n",
    "    @test abs(val_local - val_workers[wIndex]) < 10e-10\n",
    "end"
   ]
  },
  {
   "cell_type": "markdown",
   "metadata": {},
   "source": [
    "### Global optimization in parallel using BlackBoxOptim"
   ]
  },
  {
   "cell_type": "code",
   "execution_count": null,
   "metadata": {},
   "outputs": [],
   "source": [
    "# Choose a global optimizer that supports parallel evaluations (e.g. xnes or dxnes)\n",
    "# (see the documentation: https://github.com/robertfeldt/BlackBoxOptim.jl)\n",
    "msm_optimize!(myProblem, verbose = false)\n",
    "\n",
    "# Access the results using best_candidate\n",
    "minimizer = msm_minimizer(myProblem)\n",
    "minimum_val = msm_minimum(myProblem)\n",
    "\n",
    "println(\"Minimum objective function = $(minimum_val)\")\n",
    "println(\"Estimated value for alpha = $(minimizer[1]). True value for beta1 = $(alpha0[1]) \\n\")\n",
    "println(\"Estimated value for beta1 = $(minimizer[2]). True value for beta1 = $(beta0[1]) \\n\")\n",
    "println(\"Estimated value for beta2 = $(minimizer[3]). True value for beta2 = $(beta0[2]) \\n\")"
   ]
  },
  {
   "cell_type": "markdown",
   "metadata": {},
   "source": [
    "### Multistart algorithm"
   ]
  },
  {
   "cell_type": "code",
   "execution_count": null,
   "metadata": {},
   "outputs": [],
   "source": [
    "# Start several local optimization algorithms in parallel\n",
    "# Choose algorithms from the package Optim.jl (https://github.com/JuliaNLSolvers/Optim.jl)\n",
    "# The \"global\" mininimum is the minimum of the local minima.\n",
    "msm_multistart!(myProblem, nums = nworkers(), verbose = false)\n",
    "\n",
    "minimizer_multistart = msm_multistart_minimizer(myProblem)\n",
    "minimum_multistart = msm_multistart_minimum(myProblem)\n",
    "\n",
    "println(\"Minimum objective function = $(minimum_multistart)\")\n",
    "println(\"Estimated value for alpha = $(minimizer_multistart[1]). True value for beta1 = $(alpha0[1]) \\n\")\n",
    "println(\"Estimated value for beta1 = $(minimizer_multistart[2]). True value for beta1 = $(beta0[1]) \\n\")\n",
    "println(\"Estimated value for beta2 = $(minimizer_multistart[3]). True value for beta2 = $(beta0[2]) \\n\")"
   ]
  },
  {
   "cell_type": "markdown",
   "metadata": {},
   "source": [
    "### Inference"
   ]
  },
  {
   "cell_type": "code",
   "execution_count": null,
   "metadata": {},
   "outputs": [],
   "source": [
    "# Empirical Series\n",
    "#-----------------\n",
    "X = zeros(T, length(dictEmpiricalMoments))\n",
    "X[:,1] = y\n",
    "X[:,2] = y.^2\n",
    "X[:,3] = (x[:,1] .* y)\n",
    "X[:,4] = (x[:,2] .* y)\n",
    "X[:,5] = (x[:,1] .* y).^2\n",
    "X[:,6] = (x[:,2] .* y).^2\n",
    "\n",
    "# \"Distance Matrix\" (see Duffie and Singleton, 1993)\n",
    "Sigma0 = cov(X)\n",
    "\n",
    "# Heatmap to visualize correlation\n",
    "xs = [string(\"x\", i) for i = 1:length(dictEmpiricalMoments)]\n",
    "ys = [string(\"x\", i) for i = 1:length(dictEmpiricalMoments)]\n",
    "z = cor(X)\n",
    "heatmap(xs, ys, z, aspect_ratio = 1)\n",
    "\n",
    "set_Sigma0!(myProblem, Sigma0)\n",
    "# nbDraws = number of draws in the simulated data\n",
    "# To decrease standard errors, increase nbDraws\n",
    "calculate_Avar!(myProblem, minimizer, tau = T/nbDraws) \n",
    "\n",
    "df = summary_table(myProblem, minimizer, T, 0.05)"
   ]
  },
  {
   "cell_type": "code",
   "execution_count": null,
   "metadata": {},
   "outputs": [],
   "source": [
    "using DataFrames, GLM\n",
    "data = DataFrame(x1=x[:,1], x2=x[:,2], y= y[:]);\n",
    "\n",
    "ols = lm(@formula(y ~ x1 + x2), data)"
   ]
  },
  {
   "cell_type": "markdown",
   "metadata": {},
   "source": [
    "## File 2: submit_job.sh"
   ]
  },
  {
   "cell_type": "markdown",
   "metadata": {},
   "source": [
    "```bash\n",
    "#!/bin/bash -\n",
    "#SBATCH -J MSM\n",
    "#SBATCH -N 1\n",
    "#SBATCH --ntasks-per-node=3\n",
    "#SBATCH --qos=qos-batch\n",
    "#SBATCH -o slurmMSM.out\n",
    "#SBATCH -e slurmMSM.err\n",
    "\n",
    "echo \"== Starting run at $(date)\"\n",
    "echo \"== Job ID: ${SLURM_JOBID}\"\n",
    "echo \"== Node list: ${SLURM_NODELIST}\"\n",
    "echo \"== Submit dir. : ${SLURM_SUBMIT_DIR}\"\n",
    "# Estimate on cluster\n",
    "julia $PWD/LinearModelCluster.jl\n",
    "```"
   ]
  },
  {
   "cell_type": "markdown",
   "metadata": {},
   "source": [
    "To start the estimation, run from the terminal:\n",
    "\n",
    "```bash\n",
    "sbatch submit_job.sh\n",
    "```"
   ]
  },
  {
   "cell_type": "markdown",
   "metadata": {},
   "source": [
    "## Appendix"
   ]
  },
  {
   "cell_type": "code",
   "execution_count": null,
   "metadata": {},
   "outputs": [],
   "source": [
    "versioninfo()"
   ]
  }
 ],
 "metadata": {
  "kernelspec": {
   "display_name": "Julia 1.6.1",
   "language": "julia",
   "name": "julia-1.6"
  },
  "language_info": {
   "file_extension": ".jl",
   "mimetype": "application/julia",
   "name": "julia",
   "version": "1.6.1"
  }
 },
 "nbformat": 4,
 "nbformat_minor": 4
}
